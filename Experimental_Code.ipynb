{
 "cells": [
  {
   "cell_type": "markdown",
   "metadata": {},
   "source": [
    "# Experimental Code"
   ]
  },
  {
   "cell_type": "markdown",
   "metadata": {},
   "source": [
    "<i>Version 1.0</i>"
   ]
  },
  {
   "cell_type": "markdown",
   "metadata": {},
   "source": [
    "## Bitsets"
   ]
  },
  {
   "cell_type": "markdown",
   "metadata": {},
   "source": [
    "The package, [bitsets](https://bitsets.readthedocs.io/en/stable/), provides a memory-efficient pure-python immutable ordered set data type for working with large numbers of subsets from a predetermined pool of objects."
   ]
  },
  {
   "cell_type": "code",
   "execution_count": 1,
   "metadata": {},
   "outputs": [],
   "source": [
    "from bitsets import bitset"
   ]
  },
  {
   "cell_type": "raw",
   "metadata": {},
   "source": [
    "\"Before\", \"B\"\n",
    "\"After\", \"Bi\"\n",
    "\"During\", \"D\"\n",
    "\"Contains\", \"Di\"\n",
    "\"Equals\", \"E\"\n",
    "\"Finishes\", \"F\"\n",
    "\"FinishedBy\", \"Fi\"\n",
    "\"Meets\", \"M\"\n",
    "\"MetBy\", \"Mi\"\n",
    "\"Overlaps\", \"O\"\n",
    "\"OverlappedBy\", \"Oi\"\n",
    "\"Starts\", \"S\"\n",
    "\"StartedBy\", \"Si\""
   ]
  },
  {
   "cell_type": "code",
   "execution_count": 2,
   "metadata": {},
   "outputs": [],
   "source": [
    "IntRels = (\"Before\", \"After\", \"During\", \"Contains\", \"Equals\",\n",
    "           \"Finishes\", \"FinishedBy\", \"Meets\", \"MetBy\", \"Overlaps\",\n",
    "           \"OverlappedBy\", \"Starts\", \"StartedBy\")"
   ]
  },
  {
   "cell_type": "code",
   "execution_count": 3,
   "metadata": {},
   "outputs": [],
   "source": [
    "rels = bitset(\"IntRels\", IntRels)"
   ]
  },
  {
   "cell_type": "code",
   "execution_count": 4,
   "metadata": {},
   "outputs": [
    {
     "data": {
      "text/plain": [
       "<class bitsets.meta.bitset('IntRels', ('Before', 'After', 'During', 'Contains', 'Equals', 'Finishes', 'FinishedBy', 'Meets', 'MetBy', 'Overlaps', 'OverlappedBy', 'Starts', 'StartedBy'), 0x7fb99b45aed8, BitSet, None, None)>"
      ]
     },
     "execution_count": 4,
     "metadata": {},
     "output_type": "execute_result"
    }
   ],
   "source": [
    "rels"
   ]
  },
  {
   "cell_type": "code",
   "execution_count": null,
   "metadata": {},
   "outputs": [],
   "source": [
    "with open(filename, 'r') as f:\n",
    "    self.algebra_dict = json.load(f)"
   ]
  },
  {
   "cell_type": "code",
   "execution_count": null,
   "metadata": {},
   "outputs": [],
   "source": [
    "        self.name = self.algebra_dict[\"Name\"]\n",
    "        self.description = self.algebra_dict[\"Description\"]\n",
    "        self.relations = dict()  # Initialized below\n",
    "        self.transitivity_table = dict()"
   ]
  }
 ],
 "metadata": {
  "kernelspec": {
   "display_name": "Python 3",
   "language": "python",
   "name": "python3"
  },
  "language_info": {
   "codemirror_mode": {
    "name": "ipython",
    "version": 3
   },
   "file_extension": ".py",
   "mimetype": "text/x-python",
   "name": "python",
   "nbconvert_exporter": "python",
   "pygments_lexer": "ipython3",
   "version": "3.7.3"
  }
 },
 "nbformat": 4,
 "nbformat_minor": 2
}
