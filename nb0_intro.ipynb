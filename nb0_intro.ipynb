{
 "cells": [
  {
   "cell_type": "markdown",
   "metadata": {},
   "source": [
    "# Introduction"
   ]
  },
  {
   "cell_type": "markdown",
   "metadata": {},
   "source": [
    "In the following introduction to the <i>qualreas</i> module, Allen's Algebra of Time Intervals is used."
   ]
  },
  {
   "cell_type": "markdown",
   "metadata": {},
   "source": [
    "## Qualitative Reasoning Module ('qualreas')"
   ]
  },
  {
   "cell_type": "code",
   "execution_count": 1,
   "metadata": {
    "collapsed": false
   },
   "outputs": [],
   "source": [
    "import qualreas as qr"
   ]
  },
  {
   "cell_type": "markdown",
   "metadata": {},
   "source": [
    "The Qualitative Reasoning module, <i>qualreas</i>, provides the capability to reason abstractly (qualitatively) about time and space using transitive relationships between temporal and spatial entities."
   ]
  },
  {
   "cell_type": "markdown",
   "metadata": {
    "slideshow": {
     "slide_type": "slide"
    }
   },
   "source": [
    "## Relation Algebras"
   ]
  },
  {
   "cell_type": "markdown",
   "metadata": {},
   "source": [
    "A Relation Algebra is defined by a JSON file that consists of the Algebra's relations, their properties, and a transitivity table.\n",
    "\n",
    "<p>The Algebra constructor requires only one argument, the path of the JSON file that defines the Algebra.  This is illustrated, below, using <b>Allen's algebra of time intervals</b>.</p>"
   ]
  },
  {
   "cell_type": "code",
   "execution_count": 2,
   "metadata": {
    "collapsed": false
   },
   "outputs": [],
   "source": [
    "alg = qr.Algebra(\"IntervalAlgebra.json\")"
   ]
  },
  {
   "cell_type": "markdown",
   "metadata": {},
   "source": [
    "## Relations"
   ]
  },
  {
   "cell_type": "markdown",
   "metadata": {},
   "source": [
    "<b>IMPORTANT NOTE: Although the <i>qualreas</i> module contains a Relation class, Relation objects should <u>never</u> be instantiated outside of an Algebra. Once an Algebra is contructed, Relations can be obtained from the Algebra by calling the appropriate methods, as described below.</b>"
   ]
  },
  {
   "cell_type": "markdown",
   "metadata": {},
   "source": [
    "The relations of an algebra are stored in a dictionary with keys consisting of the abbreviated relation names and values that are the relations themselves.  For convenience, <b>the print representation of a relation is just its abbreviated name</b>.\n",
    "\n",
    "<p>Note: If <i>X</i> is an element's name, then it's inverse is denoted by <i>XI</i>.  For example, <i>B</i> is the <i>'Before'</i> relation, and so <i>BI</i> is the <i>'After'</i> relation.</p>"
   ]
  },
  {
   "cell_type": "code",
   "execution_count": 3,
   "metadata": {
    "collapsed": false
   },
   "outputs": [
    {
     "data": {
      "text/plain": [
       "{u'B': B,\n",
       " u'BI': BI,\n",
       " u'D': D,\n",
       " u'DI': DI,\n",
       " u'E': E,\n",
       " u'F': F,\n",
       " u'FI': FI,\n",
       " u'M': M,\n",
       " u'MI': MI,\n",
       " u'O': O,\n",
       " u'OI': OI,\n",
       " u'S': S,\n",
       " u'SI': SI}"
      ]
     },
     "execution_count": 3,
     "metadata": {},
     "output_type": "execute_result"
    }
   ],
   "source": [
    "alg.relations"
   ]
  },
  {
   "cell_type": "markdown",
   "metadata": {},
   "source": [
    "Here's a less cluttered look at the relations in Allen's algebra."
   ]
  },
  {
   "cell_type": "code",
   "execution_count": 4,
   "metadata": {
    "collapsed": false
   },
   "outputs": [
    {
     "name": "stdout",
     "output_type": "stream",
     "text": [
      "[B, BI, D, DI, E, F, FI, M, MI, O, OI, S, SI]\n"
     ]
    }
   ],
   "source": [
    "print sorted(alg.relations.values(), key=lambda rel: rel.short_name)"
   ]
  },
  {
   "cell_type": "markdown",
   "metadata": {},
   "source": [
    "One can obtain an individual Relation object from Algebra as follows:"
   ]
  },
  {
   "cell_type": "code",
   "execution_count": 5,
   "metadata": {
    "collapsed": false
   },
   "outputs": [
    {
     "name": "stdout",
     "output_type": "stream",
     "text": [
      "B\n"
     ]
    }
   ],
   "source": [
    "rel = alg.relations['B']\n",
    "print rel"
   ]
  },
  {
   "cell_type": "markdown",
   "metadata": {},
   "source": [
    "A set of relations (\"relset\") can be obtained from an Algebra as follows:"
   ]
  },
  {
   "cell_type": "code",
   "execution_count": 6,
   "metadata": {
    "collapsed": false
   },
   "outputs": [
    {
     "data": {
      "text/plain": [
       "<RelationSet([M, B, O])>"
      ]
     },
     "execution_count": 6,
     "metadata": {},
     "output_type": "execute_result"
    }
   ],
   "source": [
    "alg.relset(['B', 'M', 'O'])"
   ]
  },
  {
   "cell_type": "markdown",
   "metadata": {},
   "source": [
    "RelationSets are described farther below."
   ]
  },
  {
   "cell_type": "markdown",
   "metadata": {},
   "source": [
    "### Relations have a number of attributes and properties"
   ]
  },
  {
   "cell_type": "markdown",
   "metadata": {},
   "source": [
    "Relations have a <i>fullname</i>, an abbreviated <i>name</i>, and an <i>inverse</i> relation.  The inverse of a relation is also an element in the algebra.\n",
    "\n",
    "<p>Also, a relation, $\\rho$, can have the following properties:</p>\n",
    "* Reflexive.  $\\forall X, X\\rho X$\n",
    "* Symmetric. $X \\rho Y \\implies Y \\rho X$\n",
    "* Transitive. $(X \\rho Y)$ and $(Y \\rho Z)$ $\\implies (X \\rho Z)$"
   ]
  },
  {
   "cell_type": "markdown",
   "metadata": {},
   "source": [
    "The Algebra method, <i>print_info</i>, provides a description of the algebra and its relations."
   ]
  },
  {
   "cell_type": "code",
   "execution_count": 7,
   "metadata": {
    "collapsed": false
   },
   "outputs": [
    {
     "name": "stdout",
     "output_type": "stream",
     "text": [
      "  Algebra Name: Linear Time Interval Algebra\n",
      "   Description: Allen's algebra of proper time intervals\n",
      "          Type: Relation System\n",
      " Equality Rels: [E]\n",
      "     Relations:\n",
      "            NAME (ABBREV)          INVERSE (ABBREV)  REFLEXIVE  SYMMETRIC TRANSITIVE  DOMAIN  RANGE\n",
      "             Before (  B)               After ( BI)    False      False       True     PInt    PInt\n",
      "              After ( BI)              Before (  B)    False      False       True     PInt    PInt\n",
      "             During (  D)            Contains ( DI)    False      False       True     PInt    PInt\n",
      "           Contains ( DI)              During (  D)    False      False       True     PInt    PInt\n",
      "             Equals (  E)              Equals (  E)     True       True       True     PInt    PInt\n",
      "           Finishes (  F)         Finished-by ( FI)    False      False       True     PInt    PInt\n",
      "        Finished-by ( FI)            Finishes (  F)    False      False       True     PInt    PInt\n",
      "              Meets (  M)              Met-By ( MI)    False      False      False     PInt    PInt\n",
      "             Met-By ( MI)               Meets (  M)    False      False      False     PInt    PInt\n",
      "           Overlaps (  O)       Overlapped-By ( OI)    False      False      False     PInt    PInt\n",
      "      Overlapped-By ( OI)            Overlaps (  O)    False      False      False     PInt    PInt\n",
      "             Starts (  S)          Started-By ( SI)    False      False       True     PInt    PInt\n",
      "         Started-By ( SI)              Starts (  S)    False      False       True     PInt    PInt\n"
     ]
    }
   ],
   "source": [
    "alg.print_info()"
   ]
  },
  {
   "cell_type": "markdown",
   "metadata": {},
   "source": [
    "## RelationSets"
   ]
  },
  {
   "cell_type": "markdown",
   "metadata": {},
   "source": [
    "<b>IMPORTANT NOTE: RelationSet objects should <u>never</u> be instantiated outside of an Algebra. Once an Algebra is contructed, RelationSets can be obtained from the Algebra by calling the appropriate methods, as described here.</b>"
   ]
  },
  {
   "cell_type": "markdown",
   "metadata": {},
   "source": [
    "<p>The <b>RelationSet</b> class was created for working with sets of relations.  RelationSets (\"relsets\") are the true algebraic elements of Relation Algebras.  They can be multiplied and added together.  This capability is used to multiply matrices of relsets to perform <i>Constraint Propragation</i>."
   ]
  },
  {
   "cell_type": "markdown",
   "metadata": {},
   "source": [
    "### Obtaining Relation Sets"
   ]
  },
  {
   "cell_type": "markdown",
   "metadata": {},
   "source": [
    "A relset is obtained by passing a list of relation names to an algebra's <i>relset</i> method."
   ]
  },
  {
   "cell_type": "code",
   "execution_count": 8,
   "metadata": {
    "collapsed": false
   },
   "outputs": [
    {
     "name": "stdout",
     "output_type": "stream",
     "text": [
      "<RelationSet([M, O, S, B, D])>\n"
     ]
    }
   ],
   "source": [
    "X = alg.relset(['B', 'D', 'M', 'O', 'S'])\n",
    "print X"
   ]
  },
  {
   "cell_type": "markdown",
   "metadata": {},
   "source": [
    "### Pretty Printing RelationSets"
   ]
  },
  {
   "cell_type": "markdown",
   "metadata": {},
   "source": [
    "A relset can be viewed as a list of relation short names by invoking the RelationSet method, <i>sorted_list</i>:"
   ]
  },
  {
   "cell_type": "code",
   "execution_count": 9,
   "metadata": {
    "collapsed": false
   },
   "outputs": [
    {
     "name": "stdout",
     "output_type": "stream",
     "text": [
      "[B, D, M, O, S]\n"
     ]
    }
   ],
   "source": [
    "print X.sorted_list()"
   ]
  },
  {
   "cell_type": "markdown",
   "metadata": {},
   "source": [
    "### Multiplicative Identity Element"
   ]
  },
  {
   "cell_type": "markdown",
   "metadata": {},
   "source": [
    "The <i>identity_relset</i> is the set of all relations."
   ]
  },
  {
   "cell_type": "code",
   "execution_count": 10,
   "metadata": {
    "collapsed": false
   },
   "outputs": [
    {
     "data": {
      "text/plain": [
       "[B, BI, D, DI, E, F, FI, M, MI, O, OI, S, SI]"
      ]
     },
     "execution_count": 10,
     "metadata": {},
     "output_type": "execute_result"
    }
   ],
   "source": [
    "alg.identity_relset.sorted_list()"
   ]
  },
  {
   "cell_type": "markdown",
   "metadata": {},
   "source": [
    "### Relation Sets have Inverses"
   ]
  },
  {
   "cell_type": "markdown",
   "metadata": {},
   "source": [
    "The inverse of a RelationSet, $S$, is denoted by $S^{-1}$.  If $S = \\{r_1,...,r_m\\}$, then $S^{-1} = \\{r_1^{-1},...,r_m^{-1}\\}$."
   ]
  },
  {
   "cell_type": "code",
   "execution_count": 11,
   "metadata": {
    "collapsed": false
   },
   "outputs": [
    {
     "name": "stdout",
     "output_type": "stream",
     "text": [
      "The inverse of [B, D, M, O, S] is [BI, DI, MI, OI, SI]\n"
     ]
    }
   ],
   "source": [
    "XI = X.inverse\n",
    "print \"The inverse of %s is %s\" % (X.sorted_list(), XI.sorted_list())"
   ]
  },
  {
   "cell_type": "markdown",
   "metadata": {},
   "source": [
    "#### The equality relation, E, is its own inverse:"
   ]
  },
  {
   "cell_type": "code",
   "execution_count": 12,
   "metadata": {
    "collapsed": false
   },
   "outputs": [
    {
     "data": {
      "text/plain": [
       "E"
      ]
     },
     "execution_count": 12,
     "metadata": {},
     "output_type": "execute_result"
    }
   ],
   "source": [
    "alg.relations['E']"
   ]
  },
  {
   "cell_type": "code",
   "execution_count": 13,
   "metadata": {
    "collapsed": false
   },
   "outputs": [
    {
     "data": {
      "text/plain": [
       "E"
      ]
     },
     "execution_count": 13,
     "metadata": {},
     "output_type": "execute_result"
    }
   ],
   "source": [
    "alg.relations['E'].inverse"
   ]
  },
  {
   "cell_type": "markdown",
   "metadata": {},
   "source": [
    "### Relation Set Multiplication"
   ]
  },
  {
   "cell_type": "markdown",
   "metadata": {},
   "source": [
    "Although, we've referred to relations as the elements of an algebra, the actual algebraic elements are <b>sets of relations</b> (\"relsets\"). So, for example, instead of multiplying B and MI (i.e., <i>Before</i> and <i>Met-By</i>) we actually multiply the singleton sets, {B} and {MI}."
   ]
  },
  {
   "cell_type": "code",
   "execution_count": 14,
   "metadata": {
    "collapsed": false
   },
   "outputs": [
    {
     "name": "stdout",
     "output_type": "stream",
     "text": [
      "[B, D, M, O, S]\n"
     ]
    }
   ],
   "source": [
    "B = alg.relset(['B'])\n",
    "MI = alg.relset(['MI'])\n",
    "BxMI = B * MI\n",
    "print BxMI.sorted_list()"
   ]
  },
  {
   "cell_type": "markdown",
   "metadata": {},
   "source": [
    "#### Note: We should be able to check the equality of the product, above, with the example relset, X, created earlier:"
   ]
  },
  {
   "cell_type": "code",
   "execution_count": 15,
   "metadata": {
    "collapsed": false
   },
   "outputs": [
    {
     "data": {
      "text/plain": [
       "True"
      ]
     },
     "execution_count": 15,
     "metadata": {},
     "output_type": "execute_result"
    }
   ],
   "source": [
    "BxMI == X"
   ]
  },
  {
   "cell_type": "markdown",
   "metadata": {},
   "source": [
    "### Multiplication is NOT Commutative"
   ]
  },
  {
   "cell_type": "code",
   "execution_count": 16,
   "metadata": {
    "collapsed": false
   },
   "outputs": [
    {
     "name": "stdout",
     "output_type": "stream",
     "text": [
      "MI x B = [B, DI, FI, M, O]\n",
      "B x MI = [B, D, M, O, S]\n",
      "MI x B == B x MI ?  False \n"
     ]
    }
   ],
   "source": [
    "MIxB = MI * B\n",
    "print \"MI x B = %s\" % MIxB.sorted_list()\n",
    "\n",
    "BxMI = B * MI\n",
    "print \"B x MI = %s\" % BxMI.sorted_list()\n",
    "\n",
    "print \"MI x B == B x MI ?  %s \" % str(MIxB == BxMI)"
   ]
  },
  {
   "cell_type": "markdown",
   "metadata": {},
   "source": [
    "### A Multiplication Identity"
   ]
  },
  {
   "cell_type": "markdown",
   "metadata": {},
   "source": [
    "If R and S are any two relation sets from a relation algebra, then the following identity holds: $(R \\times S)^{-1} = S^{-1} \\times R^{-1}$\n",
    "<p>Here's an example:"
   ]
  },
  {
   "cell_type": "code",
   "execution_count": 17,
   "metadata": {
    "collapsed": false
   },
   "outputs": [
    {
     "name": "stdout",
     "output_type": "stream",
     "text": [
      "              inv({B} x {MI}) = [B, D, M, O, S]\n",
      "inv{MI} x inv{B} = {M} x {BI} = [BI, DI, MI, OI, SI]\n"
     ]
    }
   ],
   "source": [
    "print \"              inv({B} x {MI}) = %s\" % BxMI.sorted_list()\n",
    "BI = B.inverse  # After\n",
    "M = MI.inverse  # Meets\n",
    "MxBI = M * BI\n",
    "print \"inv{MI} x inv{B} = {M} x {BI} = %s\" % MxBI.sorted_list()"
   ]
  },
  {
   "cell_type": "markdown",
   "metadata": {},
   "source": [
    "The Multiplication Identity can be checked for <u>all</u> singleton relations in an Algebra by calling the Algebra method, <i>check_multiplication_identity</i>.\n",
    "\n",
    "<p>So, for Allen's algebra, 169 ($13^2$) instances of the identity are checked:</p>"
   ]
  },
  {
   "cell_type": "code",
   "execution_count": 18,
   "metadata": {
    "collapsed": false
   },
   "outputs": [
    {
     "name": "stdout",
     "output_type": "stream",
     "text": [
      "True\n"
     ]
    }
   ],
   "source": [
    "print alg.check_multiplication_identity()"
   ]
  },
  {
   "cell_type": "markdown",
   "metadata": {},
   "source": [
    "### Other Operations on RelationSets"
   ]
  },
  {
   "cell_type": "markdown",
   "metadata": {},
   "source": [
    "#### Union ('union')"
   ]
  },
  {
   "cell_type": "code",
   "execution_count": 19,
   "metadata": {
    "collapsed": false
   },
   "outputs": [
    {
     "name": "stdout",
     "output_type": "stream",
     "text": [
      "<RelationSet([B])> or <RelationSet([MI])> = <RelationSet([MI, B])>\n"
     ]
    }
   ],
   "source": [
    "B_or_MI = B.union(MI)\n",
    "print \"%s or %s = %s\" % (B, MI, B_or_MI)"
   ]
  },
  {
   "cell_type": "markdown",
   "metadata": {},
   "source": [
    "#### Intersection ('+')"
   ]
  },
  {
   "cell_type": "code",
   "execution_count": 20,
   "metadata": {
    "collapsed": false
   },
   "outputs": [
    {
     "name": "stdout",
     "output_type": "stream",
     "text": [
      "<RelationSet([M, O, S, B, D])> and <RelationSet([MI, B])> = <RelationSet([B])>\n"
     ]
    }
   ],
   "source": [
    "print \"%s and %s = %s\" % (BxMI, B_or_MI, (BxMI + B_or_MI))"
   ]
  },
  {
   "cell_type": "markdown",
   "metadata": {},
   "source": [
    "### Associativity"
   ]
  },
  {
   "cell_type": "markdown",
   "metadata": {},
   "source": [
    "Associativity holds for Allen's algebra because the domains and ranges of all of the relations are the same, <i>proper intervals</i>.  Associativity for an algebra can be checked as follows:"
   ]
  },
  {
   "cell_type": "code",
   "execution_count": 21,
   "metadata": {
    "collapsed": false
   },
   "outputs": [
    {
     "name": "stdout",
     "output_type": "stream",
     "text": [
      "True\n"
     ]
    }
   ],
   "source": [
    "print alg.is_associative()"
   ]
  }
 ],
 "metadata": {
  "kernelspec": {
   "display_name": "Python 2",
   "language": "python",
   "name": "python2"
  },
  "language_info": {
   "codemirror_mode": {
    "name": "ipython",
    "version": 2
   },
   "file_extension": ".py",
   "mimetype": "text/x-python",
   "name": "python",
   "nbconvert_exporter": "python",
   "pygments_lexer": "ipython2",
   "version": "2.7.11"
  }
 },
 "nbformat": 4,
 "nbformat_minor": 0
}
