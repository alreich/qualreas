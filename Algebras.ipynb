{
 "cells": [
  {
   "cell_type": "markdown",
   "metadata": {},
   "source": [
    "# Algebras of Time and Space"
   ]
  },
  {
   "cell_type": "code",
   "execution_count": 1,
   "metadata": {},
   "outputs": [],
   "source": [
    "import qualreas as qr\n",
    "import os\n",
    "\n",
    "# The variable, path, assumes that you have defined a variable,\n",
    "# PYPROJ, in your environment that is the path to the qualreas folder:\n",
    "path = os.path.join(os.getenv('PYPROJ'), 'qualreas')"
   ]
  },
  {
   "cell_type": "markdown",
   "metadata": {},
   "source": [
    "Algebras are serialized as JSON files.\n",
    "\n",
    "For more information on the algebras of time defined here, see the paper, [\"Intervals, Points, and Branching Time\"](https://github.com/alreich/timex/tree/master/docs) by Alfred J. Reich.  This link includes links to the paper and a text file containing 4 transitivity tables (Allen's algebra of proper intervals and Reich's 3 generalizations of Allen's algebra)."
   ]
  },
  {
   "cell_type": "markdown",
   "metadata": {},
   "source": [
    "### Domain and Range Abbreviations"
   ]
  },
  {
   "cell_type": "markdown",
   "metadata": {},
   "source": [
    "* <b>Pt</b> : Time Point\n",
    "* <b>PInt</b> : Proper Time Interval (i.e., end points not included)\n",
    "* <b>Int</b> : Time Interval (i.e., Pt or PInt)"
   ]
  },
  {
   "cell_type": "markdown",
   "metadata": {},
   "source": [
    "## Point Algebras"
   ]
  },
  {
   "cell_type": "code",
   "execution_count": 2,
   "metadata": {},
   "outputs": [],
   "source": [
    "pt_alg       = qr.Algebra(os.path.join(path, \"linearPointAlgebra.json\"))\n",
    "right_pt_alg = qr.Algebra(os.path.join(path, \"rightBranchingPointAlgebra.json\"))\n",
    "left_pt_alg  = qr.Algebra(os.path.join(path, \"leftBranchingPointAlgebra.json\"))"
   ]
  },
  {
   "cell_type": "code",
   "execution_count": 3,
   "metadata": {},
   "outputs": [
    {
     "name": "stdout",
     "output_type": "stream",
     "text": [
      "  Algebra Name: Linear Point Algebra\n",
      "   Description: Linear Point Algebra\n",
      "          Type: Relation System\n",
      " Equality Rels: [=]\n",
      "     Relations:\n",
      "            NAME (ABBREV)          INVERSE (ABBREV)  REFLEXIVE  SYMMETRIC TRANSITIVE  DOMAIN   RANGE\n",
      "           LessThan (  <)         GreaterThan (  >)    False      False       True       Pt      Pt\n",
      "             Equals (  =)              Equals (  =)     True       True       True       Pt      Pt\n",
      "        GreaterThan (  >)            LessThan (  <)    False      False       True       Pt      Pt\n"
     ]
    }
   ],
   "source": [
    "pt_alg.print_info()"
   ]
  },
  {
   "cell_type": "code",
   "execution_count": 4,
   "metadata": {},
   "outputs": [
    {
     "name": "stdout",
     "output_type": "stream",
     "text": [
      "  Algebra Name: Right-Branching Point Algebra\n",
      "   Description: Right-Branching Point Algebra\n",
      "          Type: Relation System\n",
      " Equality Rels: [=]\n",
      "     Relations:\n",
      "            NAME (ABBREV)          INVERSE (ABBREV)  REFLEXIVE  SYMMETRIC TRANSITIVE  DOMAIN   RANGE\n",
      "           LessThan (  <)         GreaterThan (  >)    False      False       True       Pt      Pt\n",
      "             Equals (  =)              Equals (  =)     True       True       True       Pt      Pt\n",
      "        GreaterThan (  >)            LessThan (  <)    False      False       True       Pt      Pt\n",
      "       Incomparable ( r~)        Incomparable ( r~)    False       True      False       Pt      Pt\n"
     ]
    }
   ],
   "source": [
    "right_pt_alg.print_info()"
   ]
  },
  {
   "cell_type": "code",
   "execution_count": 5,
   "metadata": {},
   "outputs": [
    {
     "name": "stdout",
     "output_type": "stream",
     "text": [
      "  Algebra Name: Left-Branching Point Algebra\n",
      "   Description: Left-Branching Point Algebra\n",
      "          Type: Relation System\n",
      " Equality Rels: [=]\n",
      "     Relations:\n",
      "            NAME (ABBREV)          INVERSE (ABBREV)  REFLEXIVE  SYMMETRIC TRANSITIVE  DOMAIN   RANGE\n",
      "           LessThan (  <)         GreaterThan (  >)    False      False       True       Pt      Pt\n",
      "             Equals (  =)              Equals (  =)     True       True       True       Pt      Pt\n",
      "        GreaterThan (  >)            LessThan (  <)    False      False       True       Pt      Pt\n",
      "       Incomparable ( l~)        Incomparable ( l~)    False       True      False       Pt      Pt\n"
     ]
    }
   ],
   "source": [
    "left_pt_alg.print_info()"
   ]
  },
  {
   "cell_type": "markdown",
   "metadata": {},
   "source": [
    "## Allen's Algebra of Proper Time Intervals"
   ]
  },
  {
   "cell_type": "code",
   "execution_count": 6,
   "metadata": {},
   "outputs": [],
   "source": [
    "int_alg = qr.Algebra(os.path.join(path, \"IntervalAlgebra.json\"))"
   ]
  },
  {
   "cell_type": "code",
   "execution_count": 8,
   "metadata": {},
   "outputs": [
    {
     "name": "stdout",
     "output_type": "stream",
     "text": [
      "  Algebra Name: Linear Time Interval Algebra\n",
      "   Description: Allen's algebra of proper time intervals\n",
      "          Type: Relation System\n",
      " Equality Rels: [E]\n",
      "     Relations:\n",
      "            NAME (ABBREV)          INVERSE (ABBREV)  REFLEXIVE  SYMMETRIC TRANSITIVE  DOMAIN   RANGE\n",
      "             Before (  B)               After ( BI)    False      False       True     PInt    PInt\n",
      "              After ( BI)              Before (  B)    False      False       True     PInt    PInt\n",
      "             During (  D)            Contains ( DI)    False      False       True     PInt    PInt\n",
      "           Contains ( DI)              During (  D)    False      False       True     PInt    PInt\n",
      "             Equals (  E)              Equals (  E)     True       True       True     PInt    PInt\n",
      "           Finishes (  F)         Finished-by ( FI)    False      False       True     PInt    PInt\n",
      "        Finished-by ( FI)            Finishes (  F)    False      False       True     PInt    PInt\n",
      "              Meets (  M)              Met-By ( MI)    False      False      False     PInt    PInt\n",
      "             Met-By ( MI)               Meets (  M)    False      False      False     PInt    PInt\n",
      "           Overlaps (  O)       Overlapped-By ( OI)    False      False      False     PInt    PInt\n",
      "      Overlapped-By ( OI)            Overlaps (  O)    False      False      False     PInt    PInt\n",
      "             Starts (  S)          Started-By ( SI)    False      False       True     PInt    PInt\n",
      "         Started-By ( SI)              Starts (  S)    False      False       True     PInt    PInt\n"
     ]
    }
   ],
   "source": [
    "int_alg.print_info()"
   ]
  },
  {
   "cell_type": "markdown",
   "metadata": {},
   "source": [
    "## Generalized Algebras"
   ]
  },
  {
   "cell_type": "markdown",
   "metadata": {},
   "source": [
    "Each of the following three algebras are generalizations of Allen's original algebra of proper time intervals.\n",
    "\n",
    "The first one, <b><i>intpt_alg</i></b> (\"Interval and Point Algebra\"), generalizes Allen's algebra to include Time Points.  It adds 5 additional relations to the original 13 (their names begin with \"Point-\") and it generalizes the domain and/or range of 4 of the original 13 relations (After, Before, During, Contains), from the class of Proper Time Intervals to a new class, Time Intervals, which includes both Proper Time Intervals and Time Points."
   ]
  },
  {
   "cell_type": "code",
   "execution_count": 9,
   "metadata": {},
   "outputs": [],
   "source": [
    "intpt_alg       = qr.Algebra(os.path.join(path, \"IntervalAndPointAlgebra.json\"))\n",
    "left_intpt_alg  = qr.Algebra(os.path.join(path, \"LeftBranchingIntervalAndPointAlgebra.json\"))\n",
    "right_intpt_alg = qr.Algebra(os.path.join(path, \"RightBranchingIntervalAndPointAlgebra.json\"))"
   ]
  },
  {
   "cell_type": "markdown",
   "metadata": {},
   "source": [
    "### Algebra of Proper Intervals and Points for Linear Time"
   ]
  },
  {
   "cell_type": "code",
   "execution_count": 10,
   "metadata": {},
   "outputs": [
    {
     "name": "stdout",
     "output_type": "stream",
     "text": [
      "  Algebra Name: Linear Time Interval & Point Algebra\n",
      "   Description: Reich's point extension to Allen's time interval algebra (see TIME-94 paper)\n",
      "          Type: Relation System\n",
      " Equality Rels: [E, PE]\n",
      "     Relations:\n",
      "            NAME (ABBREV)          INVERSE (ABBREV)  REFLEXIVE  SYMMETRIC TRANSITIVE  DOMAIN   RANGE\n",
      "             Before (  B)               After ( BI)    False      False       True      Int     Int\n",
      "              After ( BI)              Before (  B)    False      False       True      Int     Int\n",
      "             During (  D)            Contains ( DI)    False      False       True      Int    PInt\n",
      "           Contains ( DI)              During (  D)    False      False       True     PInt     Int\n",
      "             Equals (  E)              Equals (  E)     True       True       True     PInt    PInt\n",
      "           Finishes (  F)         Finished-by ( FI)    False      False       True     PInt    PInt\n",
      "        Finished-by ( FI)            Finishes (  F)    False      False       True     PInt    PInt\n",
      "              Meets (  M)              Met-By ( MI)    False      False      False     PInt    PInt\n",
      "             Met-By ( MI)               Meets (  M)    False      False      False     PInt    PInt\n",
      "           Overlaps (  O)       Overlapped-By ( OI)    False      False      False     PInt    PInt\n",
      "      Overlapped-By ( OI)            Overlaps (  O)    False      False      False     PInt    PInt\n",
      "       Point-Equals ( PE)        Point-Equals ( PE)     True       True       True       Pt      Pt\n",
      "     Point-Finishes ( PF)   Point-Finished-By (PFI)    False      False      False       Pt    PInt\n",
      "  Point-Finished-By (PFI)      Point-Finishes ( PF)    False      False      False     PInt      Pt\n",
      "       Point-Starts ( PS)    Point-Started-By (PSI)    False      False      False       Pt    PInt\n",
      "   Point-Started-By (PSI)        Point-Starts ( PS)    False      False      False     PInt      Pt\n",
      "             Starts (  S)          Started-By ( SI)    False      False       True     PInt    PInt\n",
      "         Started-By ( SI)              Starts (  S)    False      False       True     PInt    PInt\n"
     ]
    }
   ],
   "source": [
    "intpt_alg.print_info()"
   ]
  },
  {
   "cell_type": "markdown",
   "metadata": {},
   "source": [
    "### Algebra of Proper Intervals and Points for Right-Branching Time"
   ]
  },
  {
   "cell_type": "code",
   "execution_count": 11,
   "metadata": {},
   "outputs": [
    {
     "name": "stdout",
     "output_type": "stream",
     "text": [
      "  Algebra Name: Right-Branching Time Interval & Point Algebra\n",
      "   Description: Reich's right-branching extension to Allen's time interval algebra (see TIME-94 paper)\n",
      "          Type: Relation System\n",
      " Equality Rels: [E, PE]\n",
      "     Relations:\n",
      "            NAME (ABBREV)          INVERSE (ABBREV)  REFLEXIVE  SYMMETRIC TRANSITIVE  DOMAIN   RANGE\n",
      "             Before (  B)               After ( BI)    False      False       True      Int     Int\n",
      "              After ( BI)              Before (  B)    False      False       True      Int     Int\n",
      "             During (  D)            Contains ( DI)    False      False       True      Int    PInt\n",
      "           Contains ( DI)              During (  D)    False      False       True     PInt     Int\n",
      "             Equals (  E)              Equals (  E)     True       True       True     PInt    PInt\n",
      "           Finishes (  F)         Finished-by ( FI)    False      False       True     PInt    PInt\n",
      "        Finished-by ( FI)            Finishes (  F)    False      False       True     PInt    PInt\n",
      "              Meets (  M)              Met-By ( MI)    False      False      False     PInt    PInt\n",
      "             Met-By ( MI)               Meets (  M)    False      False      False     PInt    PInt\n",
      "           Overlaps (  O)       Overlapped-By ( OI)    False      False      False     PInt    PInt\n",
      "      Overlapped-By ( OI)            Overlaps (  O)    False      False      False     PInt    PInt\n",
      "       Point-Equals ( PE)        Point-Equals ( PE)     True       True       True       Pt      Pt\n",
      "     Point-Finishes ( PF)   Point-Finished-By (PFI)    False      False      False       Pt    PInt\n",
      "  Point-Finished-By (PFI)      Point-Finishes ( PF)    False      False      False     PInt      Pt\n",
      "       Point-Starts ( PS)    Point-Started-By (PSI)    False      False      False       Pt    PInt\n",
      "   Point-Started-By (PSI)        Point-Starts ( PS)    False      False      False     PInt      Pt\n",
      "       Right-Before ( RB)         Right-After (RBI)    False      False       True     PInt     Int\n",
      "        Right-After (RBI)        Right-Before ( RB)    False      False       True      Int    PInt\n",
      "     Right-Overlaps ( RO) Right-Overlapped-By (ROI)    False      False      False     PInt    PInt\n",
      "Right-Overlapped-By (ROI)      Right-Overlaps ( RO)    False      False      False     PInt    PInt\n",
      "       Right-Starts ( RS)        Right-Starts ( RS)    False      False      False     PInt    PInt\n",
      " Right-Incomparable ( R~)  Right-Incomparable ( R~)    False       True      False      Int     Int\n",
      "             Starts (  S)          Started-By ( SI)    False      False       True     PInt    PInt\n",
      "         Started-By ( SI)              Starts (  S)    False      False       True     PInt    PInt\n"
     ]
    }
   ],
   "source": [
    "right_intpt_alg.print_info()"
   ]
  },
  {
   "cell_type": "markdown",
   "metadata": {},
   "source": [
    "### Algebra of Proper Intervals and Points for Left-Branching Time"
   ]
  },
  {
   "cell_type": "code",
   "execution_count": 12,
   "metadata": {},
   "outputs": [
    {
     "name": "stdout",
     "output_type": "stream",
     "text": [
      "  Algebra Name: Left-Branching Time Interval & Point Algebra\n",
      "   Description: Reich's left-branching extension to Allen's time interval algebra (see TIME-94 paper)\n",
      "          Type: Relation System\n",
      " Equality Rels: [PE, E]\n",
      "     Relations:\n",
      "            NAME (ABBREV)          INVERSE (ABBREV)  REFLEXIVE  SYMMETRIC TRANSITIVE  DOMAIN   RANGE\n",
      "             Before (  B)               After ( BI)    False      False       True      Int     Int\n",
      "              After ( BI)              Before (  B)    False      False       True      Int     Int\n",
      "             During (  D)            Contains ( DI)    False      False       True      Int    PInt\n",
      "           Contains ( DI)              During (  D)    False      False       True     PInt     Int\n",
      "             Equals (  E)              Equals (  E)     True       True       True     PInt    PInt\n",
      "           Finishes (  F)         Finished-by ( FI)    False      False       True     PInt    PInt\n",
      "        Finished-by ( FI)            Finishes (  F)    False      False       True     PInt    PInt\n",
      "        Left-Before ( LB)          Left-After (LBI)    False      False       True      Int    PInt\n",
      "         Left-After (LBI)         Left-Before ( LB)    False      False       True     PInt     Int\n",
      "      Left-Finishes ( LF)       Left-Finishes ( LF)    False      False      False     PInt    PInt\n",
      "      Left-Overlaps ( LO)  Left-Overlapped-By (LOI)    False      False      False     PInt    PInt\n",
      " Left-Overlapped-By (LOI)       Left-Overlaps ( LO)    False      False      False     PInt    PInt\n",
      "  Left-Incomparable ( L~)   Left-Incomparable ( L~)    False       True      False      Int     Int\n",
      "              Meets (  M)              Met-By ( MI)    False      False      False     PInt    PInt\n",
      "             Met-By ( MI)               Meets (  M)    False      False      False     PInt    PInt\n",
      "           Overlaps (  O)       Overlapped-By ( OI)    False      False      False     PInt    PInt\n",
      "      Overlapped-By ( OI)            Overlaps (  O)    False      False      False     PInt    PInt\n",
      "       Point-Equals ( PE)        Point-Equals ( PE)     True       True       True       Pt      Pt\n",
      "     Point-Finishes ( PF)   Point-Finished-By (PFI)    False      False      False       Pt    PInt\n",
      "  Point-Finished-By (PFI)      Point-Finishes ( PF)    False      False      False     PInt      Pt\n",
      "       Point-Starts ( PS)    Point-Started-By (PSI)    False      False      False       Pt    PInt\n",
      "   Point-Started-By (PSI)        Point-Starts ( PS)    False      False      False     PInt      Pt\n",
      "             Starts (  S)          Started-By ( SI)    False      False       True     PInt    PInt\n",
      "         Started-By ( SI)              Starts (  S)    False      False       True     PInt    PInt\n"
     ]
    }
   ],
   "source": [
    "left_intpt_alg.print_info()"
   ]
  },
  {
   "cell_type": "markdown",
   "metadata": {},
   "source": [
    "## Region Connection Calculus"
   ]
  },
  {
   "cell_type": "code",
   "execution_count": 13,
   "metadata": {},
   "outputs": [],
   "source": [
    "rcc8_alg = qr.Algebra(os.path.join(path, \"rcc8Algebra.json\"))"
   ]
  },
  {
   "cell_type": "code",
   "execution_count": 14,
   "metadata": {},
   "outputs": [
    {
     "name": "stdout",
     "output_type": "stream",
     "text": [
      "  Algebra Name: RCC8\n",
      "   Description: Region Connection Calculus 8 Algebra\n",
      "          Type: Relation System\n",
      " Equality Rels: [EQ]\n",
      "     Relations:\n",
      "            NAME (ABBREV)          INVERSE (ABBREV)  REFLEXIVE  SYMMETRIC TRANSITIVE  DOMAIN   RANGE\n",
      "       Disconnected ( DC)        Disconnected ( DC)    False       True      False   Region  Region\n",
      "ExternallyConnected ( EC) ExternallyConnected ( EC)    False       True      False   Region  Region\n",
      "              Equal ( EQ)               Equal ( EQ)     True       True       True   Region  Region\n",
      "NonTangentialProperPart (NTPP) NonTangentialProperPartInverse (NTPPI)    False      False       True   Region  Region\n",
      "NonTangentialProperPartInverse (NTPPI) NonTangentialProperPart (NTPP)    False      False       True   Region  Region\n",
      "PartiallyOverlapping ( PO) PartiallyOverlapping ( PO)    False       True      False   Region  Region\n",
      "TangentialProperPart (TPP) TangentialProperPartInverse (TPPI)    False      False      False   Region  Region\n",
      "TangentialProperPartInverse (TPPI) TangentialProperPart (TPP)    False      False      False   Region  Region\n"
     ]
    }
   ],
   "source": [
    "rcc8_alg.print_info()"
   ]
  },
  {
   "cell_type": "code",
   "execution_count": null,
   "metadata": {},
   "outputs": [],
   "source": []
  }
 ],
 "metadata": {
  "kernelspec": {
   "display_name": "Python 3",
   "language": "python",
   "name": "python3"
  },
  "language_info": {
   "codemirror_mode": {
    "name": "ipython",
    "version": 3
   },
   "file_extension": ".py",
   "mimetype": "text/x-python",
   "name": "python",
   "nbconvert_exporter": "python",
   "pygments_lexer": "ipython3",
   "version": "3.6.1"
  }
 },
 "nbformat": 4,
 "nbformat_minor": 1
}
