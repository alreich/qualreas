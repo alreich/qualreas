{
 "cells": [
  {
   "cell_type": "markdown",
   "metadata": {},
   "source": [
    "# Branching Time"
   ]
  },
  {
   "cell_type": "code",
   "execution_count": 1,
   "metadata": {
    "collapsed": false
   },
   "outputs": [],
   "source": [
    "import qualreas as qr"
   ]
  },
  {
   "cell_type": "markdown",
   "metadata": {},
   "source": [
    "## Reich's Right-Branching Interval & Point Algebra"
   ]
  },
  {
   "cell_type": "code",
   "execution_count": 2,
   "metadata": {
    "collapsed": false
   },
   "outputs": [
    {
     "name": "stdout",
     "output_type": "stream",
     "text": [
      "[B, BI, D, DI, E, F, FI, M, MI, O, OI, PE, PF, PFI, PS, PSI, RB, RBI, RO, ROI, RS, R~, S, SI]\n"
     ]
    }
   ],
   "source": [
    "ralg = qr.Algebra(\"RightBranchingIntervalAndPointAlgebra.json\")\n",
    "print sorted(ralg.relation_lookup.values(), key=lambda rel: rel.short_name)"
   ]
  },
  {
   "cell_type": "code",
   "execution_count": 3,
   "metadata": {
    "collapsed": false
   },
   "outputs": [
    {
     "name": "stdout",
     "output_type": "stream",
     "text": [
      "  Algebra Name: Right-Branching Time Interval & Point Algebra\n",
      "   Description: Reich's right-branching extension to Allen's time interval algebra (see TIME-94 paper)\n",
      "          Type: Relation System\n",
      " Equality Rels: [PE, E]\n",
      "     Relations:\n",
      "            NAME (ABBREV)          INVERSE (ABBREV)  REFLEXIVE  SYMMETRIC TRANSITIVE  DOMAIN  RANGE\n",
      "             Before (  B)               After ( BI)    False      False       True      Int     Int\n",
      "              After ( BI)              Before (  B)    False      False       True      Int     Int\n",
      "             During (  D)            Contains ( DI)    False      False       True      Int    PInt\n",
      "           Contains ( DI)              During (  D)    False      False       True     PInt     Int\n",
      "             Equals (  E)              Equals (  E)     True       True       True     PInt    PInt\n",
      "           Finishes (  F)         Finished-by ( FI)    False      False       True     PInt    PInt\n",
      "        Finished-by ( FI)            Finishes (  F)    False      False       True     PInt    PInt\n",
      "              Meets (  M)              Met-By ( MI)    False      False      False     PInt    PInt\n",
      "             Met-By ( MI)               Meets (  M)    False      False      False     PInt    PInt\n",
      "           Overlaps (  O)       Overlapped-By ( OI)    False      False      False     PInt    PInt\n",
      "      Overlapped-By ( OI)            Overlaps (  O)    False      False      False     PInt    PInt\n",
      "       Point-Equals ( PE)        Point-Equals ( PE)     True       True       True       Pt      Pt\n",
      "     Point-Finishes ( PF)   Point-Finished-By (PFI)    False      False      False       Pt    PInt\n",
      "  Point-Finished-By (PFI)      Point-Finishes ( PF)    False      False      False     PInt      Pt\n",
      "       Point-Starts ( PS)    Point-Started-By (PSI)    False      False      False       Pt    PInt\n",
      "   Point-Started-By (PSI)        Point-Starts ( PS)    False      False      False     PInt      Pt\n",
      "       Right-Before ( RB)         Right-After (RBI)    False      False       True     PInt     Int\n",
      "        Right-After (RBI)        Right-Before ( RB)    False      False       True      Int    PInt\n",
      "     Right-Overlaps ( RO) Right-Overlapped-By (ROI)    False      False      False     PInt    PInt\n",
      "Right-Overlapped-By (ROI)      Right-Overlaps ( RO)    False      False      False     PInt    PInt\n",
      "       Right-Starts ( RS)        Right-Starts ( RS)    False      False      False     PInt    PInt\n",
      " Right-Incomparable ( R~)  Right-Incomparable ( R~)    False       True      False      Int     Int\n",
      "             Starts (  S)          Started-By ( SI)    False      False       True     PInt    PInt\n",
      "         Started-By ( SI)              Starts (  S)    False      False       True     PInt    PInt\n"
     ]
    }
   ],
   "source": [
    "ralg.print_info()"
   ]
  },
  {
   "cell_type": "markdown",
   "metadata": {},
   "source": [
    "## Reich's Left-Branching Interval & Point Algebra"
   ]
  },
  {
   "cell_type": "code",
   "execution_count": 4,
   "metadata": {
    "collapsed": false
   },
   "outputs": [
    {
     "name": "stdout",
     "output_type": "stream",
     "text": [
      "[B, BI, D, DI, E, F, FI, LB, LBI, LF, LO, LOI, L~, M, MI, O, OI, PE, PF, PFI, PS, PSI, S, SI]\n"
     ]
    }
   ],
   "source": [
    "lalg = qr.Algebra(\"LeftBranchingIntervalAndPointAlgebra.json\")\n",
    "print sorted(lalg.relation_lookup.values(), key=lambda rel: rel.short_name)"
   ]
  },
  {
   "cell_type": "code",
   "execution_count": 5,
   "metadata": {
    "collapsed": false
   },
   "outputs": [
    {
     "name": "stdout",
     "output_type": "stream",
     "text": [
      "  Algebra Name: Left-Branching Time Interval & Point Algebra\n",
      "   Description: Reich's left-branching extension to Allen's time interval algebra (see TIME-94 paper)\n",
      "          Type: Relation System\n",
      " Equality Rels: [PE, E]\n",
      "     Relations:\n",
      "            NAME (ABBREV)          INVERSE (ABBREV)  REFLEXIVE  SYMMETRIC TRANSITIVE  DOMAIN  RANGE\n",
      "             Before (  B)               After ( BI)    False      False       True      Int     Int\n",
      "              After ( BI)              Before (  B)    False      False       True      Int     Int\n",
      "             During (  D)            Contains ( DI)    False      False       True      Int    PInt\n",
      "           Contains ( DI)              During (  D)    False      False       True     PInt     Int\n",
      "             Equals (  E)              Equals (  E)     True       True       True     PInt    PInt\n",
      "           Finishes (  F)         Finished-by ( FI)    False      False       True     PInt    PInt\n",
      "        Finished-by ( FI)            Finishes (  F)    False      False       True     PInt    PInt\n",
      "        Left-Before ( LB)          Left-After (LBI)    False      False       True      Int    PInt\n",
      "         Left-After (LBI)         Left-Before ( LB)    False      False       True     PInt     Int\n",
      "      Left-Finishes ( LF)       Left-Finishes ( LF)    False      False      False     PInt    PInt\n",
      "      Left-Overlaps ( LO)  Left-Overlapped-By (LOI)    False      False      False     PInt    PInt\n",
      " Left-Overlapped-By (LOI)       Left-Overlaps ( LO)    False      False      False     PInt    PInt\n",
      "  Left-Incomparable ( L~)   Left-Incomparable ( L~)    False       True      False      Int     Int\n",
      "              Meets (  M)              Met-By ( MI)    False      False      False     PInt    PInt\n",
      "             Met-By ( MI)               Meets (  M)    False      False      False     PInt    PInt\n",
      "           Overlaps (  O)       Overlapped-By ( OI)    False      False      False     PInt    PInt\n",
      "      Overlapped-By ( OI)            Overlaps (  O)    False      False      False     PInt    PInt\n",
      "       Point-Equals ( PE)        Point-Equals ( PE)     True       True       True       Pt      Pt\n",
      "     Point-Finishes ( PF)   Point-Finished-By (PFI)    False      False      False       Pt    PInt\n",
      "  Point-Finished-By (PFI)      Point-Finishes ( PF)    False      False      False     PInt      Pt\n",
      "       Point-Starts ( PS)    Point-Started-By (PSI)    False      False      False       Pt    PInt\n",
      "   Point-Started-By (PSI)        Point-Starts ( PS)    False      False      False     PInt      Pt\n",
      "             Starts (  S)          Started-By ( SI)    False      False       True     PInt    PInt\n",
      "         Started-By ( SI)              Starts (  S)    False      False       True     PInt    PInt\n"
     ]
    }
   ],
   "source": [
    "lalg.print_info()"
   ]
  },
  {
   "cell_type": "code",
   "execution_count": null,
   "metadata": {
    "collapsed": true
   },
   "outputs": [],
   "source": []
  },
  {
   "cell_type": "code",
   "execution_count": null,
   "metadata": {
    "collapsed": true
   },
   "outputs": [],
   "source": []
  }
 ],
 "metadata": {
  "kernelspec": {
   "display_name": "Python 2",
   "language": "python",
   "name": "python2"
  },
  "language_info": {
   "codemirror_mode": {
    "name": "ipython",
    "version": 2
   },
   "file_extension": ".py",
   "mimetype": "text/x-python",
   "name": "python",
   "nbconvert_exporter": "python",
   "pygments_lexer": "ipython2",
   "version": "2.7.11"
  }
 },
 "nbformat": 4,
 "nbformat_minor": 0
}
