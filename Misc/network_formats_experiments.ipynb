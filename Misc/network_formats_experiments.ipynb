{
 "cells": [
  {
   "cell_type": "markdown",
   "metadata": {},
   "source": [
    "# Network Format Experiments"
   ]
  },
  {
   "cell_type": "code",
   "execution_count": 8,
   "metadata": {},
   "outputs": [],
   "source": [
    "import json"
   ]
  },
  {
   "cell_type": "code",
   "execution_count": 9,
   "metadata": {},
   "outputs": [],
   "source": [
    "net0 = {\n",
    "    \"name\": \"RCC8 Example\",\n",
    "    \"algebra\": \"RCC8\",\n",
    "    \"nodes\": {\n",
    "        \"h1\": {\n",
    "            \"name\": \"House1\",\n",
    "            \"class\": \"Region\"\n",
    "        },\n",
    "        \"h2\": {\n",
    "            \"name\": \"House2\",\n",
    "            \"class\": \"Region\"\n",
    "        },\n",
    "        \"p1\": {\n",
    "            \"name\": \"Property1\",\n",
    "            \"class\": \"Region\"\n",
    "        },\n",
    "        \"p2\": {\n",
    "            \"name\": \"Property2\",\n",
    "            \"class\": \"Region\"\n",
    "        },\n",
    "        \"r\": {\n",
    "            \"name\": \"Road\",\n",
    "            \"class\": \"Region\"\n",
    "        }\n",
    "    },\n",
    "    \"edges\": [\n",
    "        {\n",
    "            \"source\": \"h1\",\n",
    "            \"target\": \"h2\",\n",
    "            \"constraints\": \"DC\"\n",
    "        },\n",
    "        {\n",
    "            \"source\": \"h1\",\n",
    "            \"target\": \"p1\",\n",
    "            \"constraints\": \"TPP|NTPP\"\n",
    "        },\n",
    "        {\n",
    "            \"source\": \"h1\",\n",
    "            \"target\": \"p2\",\n",
    "            \"constraints\": \"DC|EC\"\n",
    "        },\n",
    "        {\n",
    "            \"source\": \"h1\",\n",
    "            \"target\": \"r\",\n",
    "            \"constraints\": \"EC\"\n",
    "        },\n",
    "        {\n",
    "            \"source\": \"h2\",\n",
    "            \"target\": \"p1\",\n",
    "            \"constraints\": \"DC|EC\"\n",
    "        },\n",
    "        {\n",
    "            \"source\": \"h2\",\n",
    "            \"target\": \"p2\",\n",
    "            \"constraints\": \"NTPP\"\n",
    "        },\n",
    "        {\n",
    "            \"source\": \"h2\",\n",
    "            \"target\": \"r\",\n",
    "            \"constraints\": \"EC\"\n",
    "        },\n",
    "        {\n",
    "            \"source\": \"p1\",\n",
    "            \"target\": \"p2\",\n",
    "            \"constraints\": \"DC|EC\"\n",
    "        },\n",
    "        {\n",
    "            \"source\": \"r\",\n",
    "            \"target\": \"p1\",\n",
    "            \"constraints\": \"?\"\n",
    "        },\n",
    "        {\n",
    "            \"source\": \"r\",\n",
    "            \"target\": \"p2\",\n",
    "            \"constraints\": \"?\"\n",
    "        }\n",
    "    ]\n",
    "}"
   ]
  },
  {
   "cell_type": "code",
   "execution_count": 13,
   "metadata": {},
   "outputs": [],
   "source": [
    "# FORMAT: [ [Source:Class, Target:Class, RelSet], ... ]\n",
    "\n",
    "net1 = [[\"house1\", \"house2\", \"DC\"],\n",
    "        [\"house1\", \"property1\", \"TPP|NTPP\"],\n",
    "        [\"house1\", \"property2\", \"DC|EC\"],\n",
    "        [\"house1\", \"road\", \"EC\"],\n",
    "        [\"house2\", \"property1\", \"DC|EC\"],\n",
    "        [\"house2\", \"property2\", \"NTPP\"],\n",
    "        [\"house2\", \"road\", \"EC\"],\n",
    "        [\"property1\", \"property2\", \"DC|EC\"],\n",
    "        [\"road\", \"property1\", \"DC|EC|TPP|TPPI|PO|EQ|NTPP|NTPPI\"],\n",
    "        [\"road\", \"property2\", \"DC|EC|TPP|TPPI|PO|EQ|NTPP|NTPPI\"]\n",
    "       ]"
   ]
  },
  {
   "cell_type": "code",
   "execution_count": 14,
   "metadata": {},
   "outputs": [
    {
     "data": {
      "text/plain": [
       "{'name': 'RCC8 Example',\n",
       " 'algebra': 'RCC8',\n",
       " 'nodes': {'h1': {'name': 'House1', 'class': 'Region'},\n",
       "  'h2': {'name': 'House2', 'class': 'Region'},\n",
       "  'p1': {'name': 'Property1', 'class': 'Region'},\n",
       "  'p2': {'name': 'Property2', 'class': 'Region'},\n",
       "  'r': {'name': 'Road', 'class': 'Region'}},\n",
       " 'edges': [{'source': 'h1', 'target': 'h2', 'constraints': 'DC'},\n",
       "  {'source': 'h1', 'target': 'p1', 'constraints': 'TPP|NTPP'},\n",
       "  {'source': 'h1', 'target': 'p2', 'constraints': 'DC|EC'},\n",
       "  {'source': 'h1', 'target': 'r', 'constraints': 'EC'},\n",
       "  {'source': 'h2', 'target': 'p1', 'constraints': 'DC|EC'},\n",
       "  {'source': 'h2', 'target': 'p2', 'constraints': 'NTPP'},\n",
       "  {'source': 'h2', 'target': 'r', 'constraints': 'EC'},\n",
       "  {'source': 'p1', 'target': 'p2', 'constraints': 'DC|EC'},\n",
       "  {'source': 'r', 'target': 'p1', 'constraints': '?'},\n",
       "  {'source': 'r', 'target': 'p2', 'constraints': '?'}]}"
      ]
     },
     "execution_count": 14,
     "metadata": {},
     "output_type": "execute_result"
    }
   ],
   "source": [
    "net0"
   ]
  },
  {
   "cell_type": "code",
   "execution_count": 15,
   "metadata": {},
   "outputs": [
    {
     "data": {
      "text/plain": [
       "[['house1', 'house2', 'DC'],\n",
       " ['house1', 'property1', 'TPP|NTPP'],\n",
       " ['house1', 'property2', 'DC|EC'],\n",
       " ['house1', 'road', 'EC'],\n",
       " ['house2', 'property1', 'DC|EC'],\n",
       " ['house2', 'property2', 'NTPP'],\n",
       " ['house2', 'road', 'EC'],\n",
       " ['property1', 'property2', 'DC|EC'],\n",
       " ['road', 'property1', 'DC|EC|TPP|TPPI|PO|EQ|NTPP|NTPPI'],\n",
       " ['road', 'property2', 'DC|EC|TPP|TPPI|PO|EQ|NTPP|NTPPI']]"
      ]
     },
     "execution_count": 15,
     "metadata": {},
     "output_type": "execute_result"
    }
   ],
   "source": [
    "net1"
   ]
  },
  {
   "cell_type": "code",
   "execution_count": 22,
   "metadata": {},
   "outputs": [],
   "source": [
    "# FORMAT: [ [Source:Class, Target:Class, RelSet], ... ]\n",
    "\n",
    "net0A = {\n",
    "    \"name\": \"RCC8 Example 1\",\n",
    "    \"algebra\": \"RCC8\",\n",
    "    \"abbreviations\": {\n",
    "        \"?\": \"DC|EC|TPP|TPPI|PO|EQ|NTPP|NTPPI\"\n",
    "    },\n",
    "    \"nodes\": {\n",
    "        \"h1\": [\"House1\", \"Region\"],\n",
    "        \"h2\": [\"House2\", \"Region\"],\n",
    "        \"p1\": [\"Property1\", \"Region\"],\n",
    "        \"p2\": [\"Property2\", \"Region\"],\n",
    "        \"rd\": [\"Road\", \"Region\"]\n",
    "    },\n",
    "    \"edges\": [\n",
    "        [\"h1\", \"h2\", \"DC\"],\n",
    "        [\"h1\", \"p1\", \"TPP|NTPP\"],\n",
    "        [\"h1\", \"p2\", \"DC|EC\"],\n",
    "        [\"h1\", \"rd\", \"EC\"],\n",
    "        [\"h2\", \"p1\", \"DC|EC\"],\n",
    "        [\"h2\", \"p2\", \"NTPP\"],\n",
    "        [\"h2\", \"rd\", \"EC\"],\n",
    "        [\"p1\", \"p2\", \"DC|EC\"],\n",
    "        [\"rd\", \"p1\", \"?\"],\n",
    "        [\"rd\", \"p2\", \"?\"]\n",
    "    ]\n",
    "}"
   ]
  },
  {
   "cell_type": "code",
   "execution_count": 23,
   "metadata": {},
   "outputs": [
    {
     "data": {
      "text/plain": [
       "{'name': 'RCC8 Example 1',\n",
       " 'algebra': 'RCC8',\n",
       " 'abbreviations': {'?': 'DC|EC|TPP|TPPI|PO|EQ|NTPP|NTPPI'},\n",
       " 'nodes': {'h1': ['House1', 'Region'],\n",
       "  'h2': ['House2', 'Region'],\n",
       "  'p1': ['Property1', 'Region'],\n",
       "  'p2': ['Property2', 'Region'],\n",
       "  'rd': ['Road', 'Region']},\n",
       " 'edges': [['h1', 'h2', 'DC'],\n",
       "  ['h1', 'p1', 'TPP|NTPP'],\n",
       "  ['h1', 'p2', 'DC|EC'],\n",
       "  ['h1', 'rd', 'EC'],\n",
       "  ['h2', 'p1', 'DC|EC'],\n",
       "  ['h2', 'p2', 'NTPP'],\n",
       "  ['h2', 'rd', 'EC'],\n",
       "  ['p1', 'p2', 'DC|EC'],\n",
       "  ['rd', 'p1', '?'],\n",
       "  ['rd', 'p2', '?']]}"
      ]
     },
     "execution_count": 23,
     "metadata": {},
     "output_type": "execute_result"
    }
   ],
   "source": [
    "net0A"
   ]
  },
  {
   "cell_type": "code",
   "execution_count": 24,
   "metadata": {},
   "outputs": [
    {
     "data": {
      "text/plain": [
       "'{\"name\": \"RCC8 Example 1\", \"algebra\": \"RCC8\", \"abbreviations\": {\"?\": \"DC|EC|TPP|TPPI|PO|EQ|NTPP|NTPPI\"}, \"nodes\": {\"h1\": [\"House1\", \"Region\"], \"h2\": [\"House2\", \"Region\"], \"p1\": [\"Property1\", \"Region\"], \"p2\": [\"Property2\", \"Region\"], \"rd\": [\"Road\", \"Region\"]}, \"edges\": [[\"h1\", \"h2\", \"DC\"], [\"h1\", \"p1\", \"TPP|NTPP\"], [\"h1\", \"p2\", \"DC|EC\"], [\"h1\", \"rd\", \"EC\"], [\"h2\", \"p1\", \"DC|EC\"], [\"h2\", \"p2\", \"NTPP\"], [\"h2\", \"rd\", \"EC\"], [\"p1\", \"p2\", \"DC|EC\"], [\"rd\", \"p1\", \"?\"], [\"rd\", \"p2\", \"?\"]]}'"
      ]
     },
     "execution_count": 24,
     "metadata": {},
     "output_type": "execute_result"
    }
   ],
   "source": [
    "json.dumps(net0A)"
   ]
  },
  {
   "cell_type": "code",
   "execution_count": null,
   "metadata": {},
   "outputs": [],
   "source": [
    "net0Aj = {\n",
    "    \"name\": \"RCC8 Example 1\",\n",
    "    \"algebra\": \"RCC8\",\n",
    "    \"abbreviations\": {\"?\": \"DC|EC|TPP|TPPI|PO|EQ|NTPP|NTPPI\"},\n",
    "    \"nodes\": {\n",
    "        \"h1\": [\"House1\", \"Region\"],\n",
    "        \"h2\": [\"House2\", \"Region\"],\n",
    "        \"p1\": [\"Property1\", \"Region\"],\n",
    "        \"p2\": [\"Property2\", \"Region\"],\n",
    "        \"rd\": [\"Road\", \"Region\"]\n",
    "    },\n",
    "    \"edges\": [\n",
    "        [\"h1\", \"h2\", \"DC\"],\n",
    "        [\"h1\", \"p1\", \"TPP|NTPP\"],\n",
    "        [\"h1\", \"p2\", \"DC|EC\"],\n",
    "        [\"h1\", \"rd\", \"EC\"],\n",
    "        [\"h2\", \"p1\", \"DC|EC\"],\n",
    "        [\"h2\", \"p2\", \"NTPP\"],\n",
    "        [\"h2\", \"rd\", \"EC\"],\n",
    "        [\"p1\", \"p2\", \"DC|EC\"],\n",
    "        [\"rd\", \"p1\", \"?\"],\n",
    "        [\"rd\", \"p2\", \"?\"]\n",
    "    ]\n",
    "}"
   ]
  }
 ],
 "metadata": {
  "kernelspec": {
   "display_name": "Python 3",
   "language": "python",
   "name": "python3"
  },
  "language_info": {
   "codemirror_mode": {
    "name": "ipython",
    "version": 3
   },
   "file_extension": ".py",
   "mimetype": "text/x-python",
   "name": "python",
   "nbconvert_exporter": "python",
   "pygments_lexer": "ipython3",
   "version": "3.7.7"
  }
 },
 "nbformat": 4,
 "nbformat_minor": 4
}
