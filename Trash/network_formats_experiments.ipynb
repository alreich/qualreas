{
 "cells": [
  {
   "cell_type": "markdown",
   "metadata": {},
   "source": [
    "# Network Format Experiments"
   ]
  },
  {
   "cell_type": "code",
   "execution_count": 18,
   "metadata": {},
   "outputs": [],
   "source": [
    "import json\n",
    "import os\n",
    "import qualreas as qr"
   ]
  },
  {
   "cell_type": "code",
   "execution_count": 2,
   "metadata": {},
   "outputs": [],
   "source": [
    "net0 = {\n",
    "    \"name\": \"RCC8 Example\",\n",
    "    \"algebra\": \"RCC8\",\n",
    "    \"nodes\": {\n",
    "        \"h1\": {\n",
    "            \"name\": \"House1\",\n",
    "            \"class\": \"Region\"\n",
    "        },\n",
    "        \"h2\": {\n",
    "            \"name\": \"House2\",\n",
    "            \"class\": \"Region\"\n",
    "        },\n",
    "        \"p1\": {\n",
    "            \"name\": \"Property1\",\n",
    "            \"class\": \"Region\"\n",
    "        },\n",
    "        \"p2\": {\n",
    "            \"name\": \"Property2\",\n",
    "            \"class\": \"Region\"\n",
    "        },\n",
    "        \"r\": {\n",
    "            \"name\": \"Road\",\n",
    "            \"class\": \"Region\"\n",
    "        }\n",
    "    },\n",
    "    \"edges\": [\n",
    "        {\n",
    "            \"source\": \"h1\",\n",
    "            \"target\": \"h2\",\n",
    "            \"constraints\": \"DC\"\n",
    "        },\n",
    "        {\n",
    "            \"source\": \"h1\",\n",
    "            \"target\": \"p1\",\n",
    "            \"constraints\": \"TPP|NTPP\"\n",
    "        },\n",
    "        {\n",
    "            \"source\": \"h1\",\n",
    "            \"target\": \"p2\",\n",
    "            \"constraints\": \"DC|EC\"\n",
    "        },\n",
    "        {\n",
    "            \"source\": \"h1\",\n",
    "            \"target\": \"r\",\n",
    "            \"constraints\": \"EC\"\n",
    "        },\n",
    "        {\n",
    "            \"source\": \"h2\",\n",
    "            \"target\": \"p1\",\n",
    "            \"constraints\": \"DC|EC\"\n",
    "        },\n",
    "        {\n",
    "            \"source\": \"h2\",\n",
    "            \"target\": \"p2\",\n",
    "            \"constraints\": \"NTPP\"\n",
    "        },\n",
    "        {\n",
    "            \"source\": \"h2\",\n",
    "            \"target\": \"r\",\n",
    "            \"constraints\": \"EC\"\n",
    "        },\n",
    "        {\n",
    "            \"source\": \"p1\",\n",
    "            \"target\": \"p2\",\n",
    "            \"constraints\": \"DC|EC\"\n",
    "        },\n",
    "        {\n",
    "            \"source\": \"r\",\n",
    "            \"target\": \"p1\",\n",
    "            \"constraints\": \"?\"\n",
    "        },\n",
    "        {\n",
    "            \"source\": \"r\",\n",
    "            \"target\": \"p2\",\n",
    "            \"constraints\": \"?\"\n",
    "        }\n",
    "    ]\n",
    "}"
   ]
  },
  {
   "cell_type": "code",
   "execution_count": 3,
   "metadata": {},
   "outputs": [],
   "source": [
    "# FORMAT: [ [Source:Class, Target:Class, RelSet], ... ]\n",
    "\n",
    "net1 = [[\"house1\", \"house2\", \"DC\"],\n",
    "        [\"house1\", \"property1\", \"TPP|NTPP\"],\n",
    "        [\"house1\", \"property2\", \"DC|EC\"],\n",
    "        [\"house1\", \"road\", \"EC\"],\n",
    "        [\"house2\", \"property1\", \"DC|EC\"],\n",
    "        [\"house2\", \"property2\", \"NTPP\"],\n",
    "        [\"house2\", \"road\", \"EC\"],\n",
    "        [\"property1\", \"property2\", \"DC|EC\"],\n",
    "        [\"road\", \"property1\", \"DC|EC|TPP|TPPI|PO|EQ|NTPP|NTPPI\"],\n",
    "        [\"road\", \"property2\", \"DC|EC|TPP|TPPI|PO|EQ|NTPP|NTPPI\"]\n",
    "       ]"
   ]
  },
  {
   "cell_type": "code",
   "execution_count": 4,
   "metadata": {},
   "outputs": [
    {
     "data": {
      "text/plain": [
       "{'name': 'RCC8 Example',\n",
       " 'algebra': 'RCC8',\n",
       " 'nodes': {'h1': {'name': 'House1', 'class': 'Region'},\n",
       "  'h2': {'name': 'House2', 'class': 'Region'},\n",
       "  'p1': {'name': 'Property1', 'class': 'Region'},\n",
       "  'p2': {'name': 'Property2', 'class': 'Region'},\n",
       "  'r': {'name': 'Road', 'class': 'Region'}},\n",
       " 'edges': [{'source': 'h1', 'target': 'h2', 'constraints': 'DC'},\n",
       "  {'source': 'h1', 'target': 'p1', 'constraints': 'TPP|NTPP'},\n",
       "  {'source': 'h1', 'target': 'p2', 'constraints': 'DC|EC'},\n",
       "  {'source': 'h1', 'target': 'r', 'constraints': 'EC'},\n",
       "  {'source': 'h2', 'target': 'p1', 'constraints': 'DC|EC'},\n",
       "  {'source': 'h2', 'target': 'p2', 'constraints': 'NTPP'},\n",
       "  {'source': 'h2', 'target': 'r', 'constraints': 'EC'},\n",
       "  {'source': 'p1', 'target': 'p2', 'constraints': 'DC|EC'},\n",
       "  {'source': 'r', 'target': 'p1', 'constraints': '?'},\n",
       "  {'source': 'r', 'target': 'p2', 'constraints': '?'}]}"
      ]
     },
     "execution_count": 4,
     "metadata": {},
     "output_type": "execute_result"
    }
   ],
   "source": [
    "net0"
   ]
  },
  {
   "cell_type": "code",
   "execution_count": 5,
   "metadata": {},
   "outputs": [
    {
     "data": {
      "text/plain": [
       "[['house1', 'house2', 'DC'],\n",
       " ['house1', 'property1', 'TPP|NTPP'],\n",
       " ['house1', 'property2', 'DC|EC'],\n",
       " ['house1', 'road', 'EC'],\n",
       " ['house2', 'property1', 'DC|EC'],\n",
       " ['house2', 'property2', 'NTPP'],\n",
       " ['house2', 'road', 'EC'],\n",
       " ['property1', 'property2', 'DC|EC'],\n",
       " ['road', 'property1', 'DC|EC|TPP|TPPI|PO|EQ|NTPP|NTPPI'],\n",
       " ['road', 'property2', 'DC|EC|TPP|TPPI|PO|EQ|NTPP|NTPPI']]"
      ]
     },
     "execution_count": 5,
     "metadata": {},
     "output_type": "execute_result"
    }
   ],
   "source": [
    "net1"
   ]
  },
  {
   "cell_type": "code",
   "execution_count": 6,
   "metadata": {},
   "outputs": [],
   "source": [
    "# FORMAT: [ [Source:Class, Target:Class, RelSet], ... ]\n",
    "\n",
    "net0A = {\n",
    "    \"name\": \"RCC8 Example 1\",\n",
    "    \"algebra\": \"RCC8Algebra\",\n",
    "    \"abbreviations\": {\n",
    "        \"?\": \"DC|EC|TPP|TPPI|PO|EQ|NTPP|NTPPI\"\n",
    "    },\n",
    "    \"nodes\": {\n",
    "        \"h1\": [\"House1\", \"Region\"],\n",
    "        \"h2\": [\"House2\", \"Region\"],\n",
    "        \"p1\": [\"Property1\", \"Region\"],\n",
    "        \"p2\": [\"Property2\", \"Region\"],\n",
    "        \"rd\": [\"Road\", \"Region\"]\n",
    "    },\n",
    "    \"edges\": [\n",
    "        [\"h1\", \"h2\", \"DC\"],\n",
    "        [\"h1\", \"p1\", \"TPP|NTPP\"],\n",
    "        [\"h1\", \"p2\", \"DC|EC\"],\n",
    "        [\"h1\", \"rd\", \"EC\"],\n",
    "        [\"h2\", \"p1\", \"DC|EC\"],\n",
    "        [\"h2\", \"p2\", \"NTPP\"],\n",
    "        [\"h2\", \"rd\", \"EC\"],\n",
    "        [\"p1\", \"p2\", \"DC|EC\"],\n",
    "        [\"rd\", \"p1\", \"?\"],\n",
    "        [\"rd\", \"p2\", \"?\"]\n",
    "    ]\n",
    "}"
   ]
  },
  {
   "cell_type": "code",
   "execution_count": 7,
   "metadata": {},
   "outputs": [
    {
     "data": {
      "text/plain": [
       "{'name': 'RCC8 Example 1',\n",
       " 'algebra': 'RCC8Algebra',\n",
       " 'abbreviations': {'?': 'DC|EC|TPP|TPPI|PO|EQ|NTPP|NTPPI'},\n",
       " 'nodes': {'h1': ['House1', 'Region'],\n",
       "  'h2': ['House2', 'Region'],\n",
       "  'p1': ['Property1', 'Region'],\n",
       "  'p2': ['Property2', 'Region'],\n",
       "  'rd': ['Road', 'Region']},\n",
       " 'edges': [['h1', 'h2', 'DC'],\n",
       "  ['h1', 'p1', 'TPP|NTPP'],\n",
       "  ['h1', 'p2', 'DC|EC'],\n",
       "  ['h1', 'rd', 'EC'],\n",
       "  ['h2', 'p1', 'DC|EC'],\n",
       "  ['h2', 'p2', 'NTPP'],\n",
       "  ['h2', 'rd', 'EC'],\n",
       "  ['p1', 'p2', 'DC|EC'],\n",
       "  ['rd', 'p1', '?'],\n",
       "  ['rd', 'p2', '?']]}"
      ]
     },
     "execution_count": 7,
     "metadata": {},
     "output_type": "execute_result"
    }
   ],
   "source": [
    "net0A"
   ]
  },
  {
   "cell_type": "code",
   "execution_count": 8,
   "metadata": {},
   "outputs": [
    {
     "data": {
      "text/plain": [
       "'{\"name\": \"RCC8 Example 1\", \"algebra\": \"RCC8Algebra\", \"abbreviations\": {\"?\": \"DC|EC|TPP|TPPI|PO|EQ|NTPP|NTPPI\"}, \"nodes\": {\"h1\": [\"House1\", \"Region\"], \"h2\": [\"House2\", \"Region\"], \"p1\": [\"Property1\", \"Region\"], \"p2\": [\"Property2\", \"Region\"], \"rd\": [\"Road\", \"Region\"]}, \"edges\": [[\"h1\", \"h2\", \"DC\"], [\"h1\", \"p1\", \"TPP|NTPP\"], [\"h1\", \"p2\", \"DC|EC\"], [\"h1\", \"rd\", \"EC\"], [\"h2\", \"p1\", \"DC|EC\"], [\"h2\", \"p2\", \"NTPP\"], [\"h2\", \"rd\", \"EC\"], [\"p1\", \"p2\", \"DC|EC\"], [\"rd\", \"p1\", \"?\"], [\"rd\", \"p2\", \"?\"]]}'"
      ]
     },
     "execution_count": 8,
     "metadata": {},
     "output_type": "execute_result"
    }
   ],
   "source": [
    "json.dumps(net0A)"
   ]
  },
  {
   "cell_type": "code",
   "execution_count": 9,
   "metadata": {},
   "outputs": [],
   "source": [
    "net0Aj = {\n",
    "    \"name\": \"RCC8 Example 1\",\n",
    "    \"algebra\": \"RCC8Algebra\",\n",
    "    \"abbreviations\": {\"?\": \"DC|EC|TPP|TPPI|PO|EQ|NTPP|NTPPI\"},\n",
    "    \"nodes\": {\n",
    "        \"h1\": [\"House1\", \"Region\"],\n",
    "        \"h2\": [\"House2\", \"Region\"],\n",
    "        \"p1\": [\"Property1\", \"Region\"],\n",
    "        \"p2\": [\"Property2\", \"Region\"],\n",
    "        \"rd\": [\"Road\", \"Region\"]\n",
    "    },\n",
    "    \"edges\": [\n",
    "        [\"h1\", \"h2\", \"DC\"],\n",
    "        [\"h1\", \"p1\", \"TPP|NTPP\"],\n",
    "        [\"h1\", \"p2\", \"DC|EC\"],\n",
    "        [\"h1\", \"rd\", \"EC\"],\n",
    "        [\"h2\", \"p1\", \"DC|EC\"],\n",
    "        [\"h2\", \"p2\", \"NTPP\"],\n",
    "        [\"h2\", \"rd\", \"EC\"],\n",
    "        [\"p1\", \"p2\", \"DC|EC\"],\n",
    "        [\"rd\", \"p1\", \"?\"],\n",
    "        [\"rd\", \"p2\", \"?\"]\n",
    "    ]\n",
    "}"
   ]
  },
  {
   "cell_type": "code",
   "execution_count": 169,
   "metadata": {},
   "outputs": [],
   "source": [
    "with open(\"rcc8_example.json\", \"r\") as file:\n",
    "    network_dict = json.load(file)"
   ]
  },
  {
   "cell_type": "code",
   "execution_count": 170,
   "metadata": {},
   "outputs": [
    {
     "data": {
      "text/plain": [
       "{'name': 'RCC8 Example 1',\n",
       " 'algebra': 'RCC8Algebra',\n",
       " 'abbreviations': {'?': 'DC|EC|TPP|TPPI|PO|EQ|NTPP|NTPPI'},\n",
       " 'nodes': {'h1': ['House1', 'Region'],\n",
       "  'h2': ['House2', 'Region'],\n",
       "  'p1': ['Property1', 'Region'],\n",
       "  'p2': ['Property2', 'Region'],\n",
       "  'rd': ['Road', 'Region']},\n",
       " 'edges': [['h1', 'h2', 'DC'],\n",
       "  ['h1', 'p1', 'TPP|NTPP'],\n",
       "  ['h1', 'p2', 'DC|EC'],\n",
       "  ['h1', 'rd', 'EC'],\n",
       "  ['h2', 'p1', 'DC|EC'],\n",
       "  ['h2', 'p2', 'NTPP'],\n",
       "  ['h2', 'rd', 'EC'],\n",
       "  ['p1', 'p2', 'DC|EC'],\n",
       "  ['rd', 'p1', '?'],\n",
       "  ['rd', 'p2', '?']]}"
      ]
     },
     "execution_count": 170,
     "metadata": {},
     "output_type": "execute_result"
    }
   ],
   "source": [
    "network_dict"
   ]
  },
  {
   "cell_type": "code",
   "execution_count": 176,
   "metadata": {},
   "outputs": [],
   "source": [
    "class_type_dict = {\"ProperInterval\": qr.TemporalEntity,\n",
    "                   \"Point\": qr.TemporalEntity,\n",
    "                   \"Region\": qr.SpatialEntity}\n",
    "\n",
    "def load_network(alg_path, json_file, alg_folder=\"Algebras/\", net_ext=\".json\"):\n",
    "    \"\"\"Loads a network specification from a JSON file. Returns the resulting network.\"\"\"\n",
    "    with open(json_file, \"r\") as file:\n",
    "        net_dict = json.load(file)\n",
    "    alg_file_name = alg_folder + net_dict[\"algebra\"] + net_ext\n",
    "    alg = qr.Algebra(os.path.join(path, alg_file_name))\n",
    "    nodes = net_dict[\"nodes\"]\n",
    "    entities = {}\n",
    "    for nkey, nspec in nodes.items():\n",
    "        entities[nkey] = class_type_dict[nspec[1]](nspec[1:], nspec[0])\n",
    "    net = qr.Network(alg, net_dict[\"name\"])\n",
    "    for espec in net_dict[\"edges\"]:\n",
    "        cons = espec[2]\n",
    "        if cons in net_dict[\"abbreviations\"]:\n",
    "            constraint = net_dict[\"abbreviations\"][cons]\n",
    "        else:\n",
    "            constraint = cons\n",
    "        net.add_constraint(entities[espec[0]], entities[espec[1]], constraint)\n",
    "    return net"
   ]
  },
  {
   "cell_type": "code",
   "execution_count": 177,
   "metadata": {},
   "outputs": [
    {
     "name": "stdout",
     "output_type": "stream",
     "text": [
      "\n",
      "RCC8 Example 1: 5 nodes, 25 edges\n",
      "  Algebra: RCC8Algebra\n",
      "  House1:\n",
      "    => House1: EQ\n",
      "    => House2: DC\n",
      "    => Property1: NTPP|TPP\n",
      "    => Property2: DC|EC\n",
      "    => Road: EC\n",
      "  House2:\n",
      "    => House2: EQ\n",
      "    => House1: DC\n",
      "    => Property1: DC|EC\n",
      "    => Property2: NTPP\n",
      "    => Road: EC\n",
      "  Property1:\n",
      "    => Property1: EQ\n",
      "    => House1: NTPPI|TPPI\n",
      "    => House2: DC|EC\n",
      "    => Property2: DC|EC\n",
      "    => Road: DC|EC|EQ|NTPP|NTPPI|PO|TPP|TPPI\n",
      "  Property2:\n",
      "    => Property2: EQ\n",
      "    => House1: DC|EC\n",
      "    => House2: NTPPI\n",
      "    => Property1: DC|EC\n",
      "    => Road: DC|EC|EQ|NTPP|NTPPI|PO|TPP|TPPI\n",
      "  Road:\n",
      "    => Road: EQ\n",
      "    => House1: EC\n",
      "    => House2: EC\n",
      "    => Property1: DC|EC|EQ|NTPP|NTPPI|PO|TPP|TPPI\n",
      "    => Property2: DC|EC|EQ|NTPP|NTPPI|PO|TPP|TPPI\n"
     ]
    }
   ],
   "source": [
    "alg_path = os.path.join(os.getenv('PYPROJ'), 'qualreas')\n",
    "\n",
    "#net = load_network(alg_path, network_dict)\n",
    "net = load_network(alg_path, \"rcc8_example.json\")\n",
    "net.summary()"
   ]
  },
  {
   "cell_type": "code",
   "execution_count": 178,
   "metadata": {},
   "outputs": [
    {
     "name": "stdout",
     "output_type": "stream",
     "text": [
      "\n",
      "RCC8 Example 1: 5 nodes, 25 edges\n",
      "  Algebra: RCC8Algebra\n",
      "  House1:\n",
      "    => House1: EQ\n",
      "    => House2: DC\n",
      "    => Property1: NTPP|TPP\n",
      "    => Property2: DC|EC\n",
      "    => Road: EC\n",
      "  House2:\n",
      "    => House2: EQ\n",
      "    => House1: DC\n",
      "    => Property1: DC\n",
      "    => Property2: NTPP\n",
      "    => Road: EC\n",
      "  Property1:\n",
      "    => Property1: EQ\n",
      "    => House1: NTPPI|TPPI\n",
      "    => House2: DC\n",
      "    => Property2: DC|EC\n",
      "    => Road: EC|PO\n",
      "  Property2:\n",
      "    => Property2: EQ\n",
      "    => House1: DC|EC\n",
      "    => House2: NTPPI\n",
      "    => Property1: DC|EC\n",
      "    => Road: PO|TPPI\n",
      "  Road:\n",
      "    => Road: EQ\n",
      "    => House1: EC\n",
      "    => House2: EC\n",
      "    => Property1: EC|PO\n",
      "    => Property2: PO|TPP\n"
     ]
    }
   ],
   "source": [
    "net.propagate()\n",
    "net.summary()"
   ]
  },
  {
   "cell_type": "code",
   "execution_count": null,
   "metadata": {},
   "outputs": [],
   "source": []
  },
  {
   "cell_type": "raw",
   "metadata": {},
   "source": [
    "{\n",
    "    \"name\": \"RCC8 Example 1\",\n",
    "    \"algebra\": \"RCC8Algebra\",\n",
    "    \"abbreviations\": {\"?\": \"DC|EC|TPP|TPPI|PO|EQ|NTPP|NTPPI\"},\n",
    "    \"nodes\": {\n",
    "        \"h1\": [\"House1\", \"Region\"],\n",
    "        \"h2\": [\"House2\", \"Region\"],\n",
    "        ...\n",
    "    },\n",
    "    \"edges\": [\n",
    "        [\"h1\", \"h2\", \"DC\"],\n",
    "        [\"h1\", \"p1\", \"TPP|NTPP\"],\n",
    "        ...\n",
    "    ]\n",
    "}"
   ]
  },
  {
   "cell_type": "code",
   "execution_count": null,
   "metadata": {},
   "outputs": [],
   "source": []
  }
 ],
 "metadata": {
  "kernelspec": {
   "display_name": "Python 3",
   "language": "python",
   "name": "python3"
  },
  "language_info": {
   "codemirror_mode": {
    "name": "ipython",
    "version": 3
   },
   "file_extension": ".py",
   "mimetype": "text/x-python",
   "name": "python",
   "nbconvert_exporter": "python",
   "pygments_lexer": "ipython3",
   "version": "3.7.7"
  }
 },
 "nbformat": 4,
 "nbformat_minor": 4
}
