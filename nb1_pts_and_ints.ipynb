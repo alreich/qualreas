{
 "cells": [
  {
   "cell_type": "markdown",
   "metadata": {},
   "source": [
    "# Integrating Time Points and Time Intervals"
   ]
  },
  {
   "cell_type": "code",
   "execution_count": 1,
   "metadata": {},
   "outputs": [],
   "source": [
    "import qualreas as qr"
   ]
  },
  {
   "cell_type": "markdown",
   "metadata": {},
   "source": [
    "## Reich's Temporal Algebras"
   ]
  },
  {
   "cell_type": "markdown",
   "metadata": {},
   "source": [
    "In the Time-94 conference paper, [\"Intervals, Points, and Branching Time\" (Reich, Alfred J.; 1994)](http://www.google.com/url?sa=t&rct=j&q=&esrc=s&source=web&cd=1&ved=0CCAQFjAA&url=http%3A%2F%2Fwww.researchgate.net%2Fprofile%2FAlfred_Reich%2Fpublication%2F220810644_Intervals_Points_and_Branching_Time%2Flinks%2F0912f51299843e1109000000&ei=Gv6eVPnrCoyfyATfl4CYAw&usg=AFQjCNFtksQWfntAgEKEmGjxVQ2hs23keg&sig2=X2WzCF_VJv4JkIj8Aj7ETA&bvm=bv.82001339,d.aWw), demonstrates how high-level temporal algebras (e.g., based on time intervals) can be derived from low-level temporal algebras (e.g., based on time points).  The method is used to derive Allen's algebra, above, based on the three point relations: <, = , and >.  If, instead, one uses the three relations, $\\le$, =, and $\\ge$, an algebra that includes both points and intervals--and subsumes Allen's algebra--can be derived.  This algebra is illustrated below."
   ]
  },
  {
   "cell_type": "markdown",
   "metadata": {},
   "source": [
    "### Reich's Interval & Point Algebra"
   ]
  },
  {
   "cell_type": "markdown",
   "metadata": {},
   "source": [
    "Reich's Interval and Point Algebra integrates Time Points with Time Intervals.  Time Intervals in this Algebra can be degenerate (starting-point equals finishing-point).\n",
    "\n",
    "<p>Five new relations are added to, what appears to be, Allen's original 13 relations.  Each new relation starts with the letter 'P', for 'point'.  Altogether there are 18 relations in this algebra.</p>"
   ]
  },
  {
   "cell_type": "code",
   "execution_count": 2,
   "metadata": {},
   "outputs": [
    {
     "name": "stdout",
     "output_type": "stream",
     "text": [
      "[B, BI, D, DI, E, F, FI, M, MI, O, OI, PE, PF, PFI, PS, PSI, S, SI]\n"
     ]
    }
   ],
   "source": [
    "alg = qr.Algebra(\"IntervalAndPointAlgebra.json\")\n",
    "print sorted(alg.relations.values(), key=lambda rel: rel.short_name)"
   ]
  },
  {
   "cell_type": "markdown",
   "metadata": {},
   "source": [
    "The 13 Allen-like relations here are different from Allen's original 13 relations in that Allen's relations are defined over the domain and range of proper intervals, whereas the domains and ranges of the relations here depend on the relation. For example, the domain and range of the <i>Before</i> relation here are intervals (\"<i>Int</i>\" in the table below) which includes proper intervals (\"<i>PInt</i>\") and degenerate intervals (\"<i>Pt</i>\", i.e., points).  <i>During</i>, on the other hand, has <i>Int</i> as its domain and <i>PInt</i> as its range.  And so on as shown in the table, below.  Note that <i>Equals</i>, <i>Finishes</i>, <i>Meets</i>, <i>Overlaps</i>, and <i>Starts</i>, and their inverses, are the same as those relations in Allen's algebra -- they have <i>PInt</i> as their domain and range.</p>"
   ]
  },
  {
   "cell_type": "code",
   "execution_count": 3,
   "metadata": {},
   "outputs": [
    {
     "name": "stdout",
     "output_type": "stream",
     "text": [
      "  Algebra Name: Linear Time Interval & Point Algebra\n",
      "   Description: Reich's point extension to Allen's time interval algebra (see TIME-94 paper)\n",
      "          Type: Relation System\n",
      " Equality Rels: [PE, E]\n",
      "     Relations:\n",
      "            NAME (ABBREV)          INVERSE (ABBREV)  REFLEXIVE  SYMMETRIC TRANSITIVE  DOMAIN  RANGE\n",
      "             Before (  B)               After ( BI)    False      False       True      Int     Int\n",
      "              After ( BI)              Before (  B)    False      False       True      Int     Int\n",
      "             During (  D)            Contains ( DI)    False      False       True      Int    PInt\n",
      "           Contains ( DI)              During (  D)    False      False       True     PInt     Int\n",
      "             Equals (  E)              Equals (  E)     True       True       True     PInt    PInt\n",
      "           Finishes (  F)         Finished-by ( FI)    False      False       True     PInt    PInt\n",
      "        Finished-by ( FI)            Finishes (  F)    False      False       True     PInt    PInt\n",
      "              Meets (  M)              Met-By ( MI)    False      False      False     PInt    PInt\n",
      "             Met-By ( MI)               Meets (  M)    False      False      False     PInt    PInt\n",
      "           Overlaps (  O)       Overlapped-By ( OI)    False      False      False     PInt    PInt\n",
      "      Overlapped-By ( OI)            Overlaps (  O)    False      False      False     PInt    PInt\n",
      "       Point-Equals ( PE)        Point-Equals ( PE)     True       True       True       Pt      Pt\n",
      "     Point-Finishes ( PF)   Point-Finished-By (PFI)    False      False      False       Pt    PInt\n",
      "  Point-Finished-By (PFI)      Point-Finishes ( PF)    False      False      False     PInt      Pt\n",
      "       Point-Starts ( PS)    Point-Started-By (PSI)    False      False      False       Pt    PInt\n",
      "   Point-Started-By (PSI)        Point-Starts ( PS)    False      False      False     PInt      Pt\n",
      "             Starts (  S)          Started-By ( SI)    False      False       True     PInt    PInt\n",
      "         Started-By ( SI)              Starts (  S)    False      False       True     PInt    PInt\n"
     ]
    }
   ],
   "source": [
    "alg.print_info()"
   ]
  },
  {
   "cell_type": "markdown",
   "metadata": {},
   "source": [
    "Create the singleton relation sets, {Before} and {Met-By} for this algebra and compute their product"
   ]
  },
  {
   "cell_type": "code",
   "execution_count": 4,
   "metadata": {},
   "outputs": [
    {
     "name": "stdout",
     "output_type": "stream",
     "text": [
      "For the Interval & Point Algebra: {B} x {MI} = [B, D, M, O, PS, S]\n"
     ]
    }
   ],
   "source": [
    "B = alg.relset([\"B\"])\n",
    "MI = alg.relset([\"MI\"])\n",
    "BxMI = B * MI\n",
    "print \"For the Interval & Point Algebra: {B} x {MI} = %s\" % BxMI.sorted_list()"
   ]
  },
  {
   "cell_type": "markdown",
   "metadata": {},
   "source": [
    "### Multiplication is Still Not Commutative"
   ]
  },
  {
   "cell_type": "code",
   "execution_count": 5,
   "metadata": {},
   "outputs": [
    {
     "name": "stdout",
     "output_type": "stream",
     "text": [
      "[B, DI, FI, M, O, PFI]\n",
      "[B, D, M, O, PS, S]\n",
      "False\n"
     ]
    }
   ],
   "source": [
    "MIxB = MI * B\n",
    "print MIxB.sorted_list()\n",
    "\n",
    "BxMI = B * MI\n",
    "print BxMI.sorted_list()\n",
    "\n",
    "print MIxB == BxMI"
   ]
  },
  {
   "cell_type": "markdown",
   "metadata": {},
   "source": [
    "### Equality Relations"
   ]
  },
  {
   "cell_type": "markdown",
   "metadata": {},
   "source": [
    "Allen's algebra has only one identity element, E, because it deals with only one class of temporal entity, the <i>proper interval</i>.\n",
    "\n",
    "<p>The <i>Interval and Point Algebra</i>, on the other hand, deals with two types of temporal entities, and so it has an equality relation for each one, intervals and points.  Note that intervals here can be degenerate (i.e., equivalent to a point).  This means that the relation <i>E</i> in Allen's algebra is not quite the same as the relation <i>E</i> in the Interval and Point Algebra, since the latter handles degenerate intervals, whereas the former only applies to proper intervals\n",
    "\n",
    "<p>Knowing the equality relations in an algebra is important to contraint propagation, so there is an Algebra property the returns a list of its equality relations:"
   ]
  },
  {
   "cell_type": "code",
   "execution_count": 6,
   "metadata": {},
   "outputs": [
    {
     "name": "stdout",
     "output_type": "stream",
     "text": [
      "The Interval & Point Algebra's equality relations: [PE, E]\n"
     ]
    }
   ],
   "source": [
    "print \"The Interval & Point Algebra's equality relations: %s\" % alg.equality_relations"
   ]
  },
  {
   "cell_type": "markdown",
   "metadata": {},
   "source": [
    "## Associativity"
   ]
  },
  {
   "cell_type": "markdown",
   "metadata": {},
   "source": [
    "### Example: {PS} x {B} x {D}"
   ]
  },
  {
   "cell_type": "markdown",
   "metadata": {},
   "source": [
    "Associativity does not hold for this example, because <b>\\(</b> {PS} \\* {B} <b>\\)</b> \\* {D} = {D}, but PS \\* <b>(</b> {B} \\* {D} <b>)</b> = {B, D, PS}.\n",
    "\n",
    "<p>The details are shown below.</p>"
   ]
  },
  {
   "cell_type": "code",
   "execution_count": 7,
   "metadata": {},
   "outputs": [],
   "source": [
    "PS = alg.relset([\"PS\"])\n",
    "B = alg.relset([\"B\"])\n",
    "D = alg.relset([\"D\"])"
   ]
  },
  {
   "cell_type": "markdown",
   "metadata": {},
   "source": [
    "#### First, we group {PS} & {B} together:"
   ]
  },
  {
   "cell_type": "markdown",
   "metadata": {},
   "source": [
    "<p><b>\\(</b> {PS} \\* {B} <b>\\)</b> \\* {D}</p>\n",
    "<p>=  {B} \\* {D}</p>\n",
    "<p>=  {D}</p>\n",
    "<p>This calculation is illustrated below.</p>"
   ]
  },
  {
   "cell_type": "code",
   "execution_count": 8,
   "metadata": {},
   "outputs": [
    {
     "name": "stdout",
     "output_type": "stream",
     "text": [
      "<RelationSet([PS])> * <RelationSet([B])> = <RelationSet([B])>\n",
      "<RelationSet([B])> * <RelationSet([D])> = <RelationSet([O, PS, S, B, M, D])>\n"
     ]
    }
   ],
   "source": [
    "PSxB = PS * B\n",
    "print \"%s * %s = %s\" % (PS, B, PSxB)\n",
    "\n",
    "PSxB_x_D = PSxB * D\n",
    "print \"%s * %s = %s\" % (PSxB, D, PSxB_x_D)"
   ]
  },
  {
   "cell_type": "markdown",
   "metadata": {},
   "source": [
    "#### Then, we group {B} & {D} together:"
   ]
  },
  {
   "cell_type": "markdown",
   "metadata": {},
   "source": [
    "<p>PS \\* <b>(</b> {B} \\* {D} <b>)</b></p>\n",
    "<p>=  PS \\* {B, D, M, O, PS, S}</p>\n",
    "<p>=  {B, D, PS}</p>\n",
    "<p>This calculation is illustrated below.</p>"
   ]
  },
  {
   "cell_type": "code",
   "execution_count": 9,
   "metadata": {},
   "outputs": [
    {
     "name": "stdout",
     "output_type": "stream",
     "text": [
      "[B, D, M, O, PS, S]\n",
      "[B, D, PS]\n"
     ]
    }
   ],
   "source": [
    "BxD = B * D\n",
    "print BxD.sorted_list()\n",
    "\n",
    "PS_x_BxD = PS * BxD\n",
    "print PS_x_BxD.sorted_list()"
   ]
  },
  {
   "cell_type": "markdown",
   "metadata": {},
   "source": [
    "#### Finally, we have..."
   ]
  },
  {
   "cell_type": "code",
   "execution_count": 10,
   "metadata": {},
   "outputs": [
    {
     "data": {
      "text/plain": [
       "False"
      ]
     },
     "execution_count": 10,
     "metadata": {},
     "output_type": "execute_result"
    }
   ],
   "source": [
    "PSxB_x_D == PS_x_BxD"
   ]
  },
  {
   "cell_type": "markdown",
   "metadata": {},
   "source": [
    "### So, What's Going on with Associativity?"
   ]
  },
  {
   "cell_type": "markdown",
   "metadata": {},
   "source": [
    "Note on associativity: As long as all of the elements of an \"algebra\" have the same domain & range (and domain == range) we can talk about associativity of the algebra.  However, if the relations in the \"algebra\" have different domains and ranges, and those domains must match ranges in order to compose relations to find transitive relations, we're really not talking about algebras anymore.  We can't \"multiply\" any element in the algebra by any other element in the algebra.  For example, PS \\* PS \\* B does not associate.  If A{PS}B & B{PS}C ..."
   ]
  },
  {
   "cell_type": "code",
   "execution_count": 11,
   "metadata": {},
   "outputs": [
    {
     "name": "stdout",
     "output_type": "stream",
     "text": [
      "frozenset([u'Point'])\n",
      "frozenset([u'ProperInterval'])\n"
     ]
    }
   ],
   "source": [
    "PS = alg.relations[\"PS\"]\n",
    "print PS.domain\n",
    "print PS.range"
   ]
  },
  {
   "cell_type": "markdown",
   "metadata": {},
   "source": [
    "...finish this thought..."
   ]
  },
  {
   "cell_type": "markdown",
   "metadata": {},
   "source": [
    "### Some Scratch Work..."
   ]
  },
  {
   "cell_type": "markdown",
   "metadata": {},
   "source": [
    "Let's examine associativity for $B*D*OI$"
   ]
  },
  {
   "cell_type": "markdown",
   "metadata": {},
   "source": [
    "<i>B</i> and <i>D</i> were defined earlier in this notebook:"
   ]
  },
  {
   "cell_type": "code",
   "execution_count": 12,
   "metadata": {},
   "outputs": [
    {
     "name": "stdout",
     "output_type": "stream",
     "text": [
      "<RelationSet([B])>\n",
      "<RelationSet([D])>\n"
     ]
    }
   ],
   "source": [
    "print B\n",
    "print D"
   ]
  },
  {
   "cell_type": "code",
   "execution_count": 13,
   "metadata": {},
   "outputs": [
    {
     "name": "stdout",
     "output_type": "stream",
     "text": [
      "<RelationSet([OI])>\n"
     ]
    }
   ],
   "source": [
    "OI = alg.relset([\"OI\"])\n",
    "print OI"
   ]
  },
  {
   "cell_type": "code",
   "execution_count": 14,
   "metadata": {
    "collapsed": true
   },
   "outputs": [],
   "source": [
    "BxD = B * D\n",
    "DxOI = D * OI"
   ]
  },
  {
   "cell_type": "markdown",
   "metadata": {},
   "source": [
    "$(B * D) * OI$ = The 13 Allen-like relations together with {PF, PS}"
   ]
  },
  {
   "cell_type": "code",
   "execution_count": 15,
   "metadata": {},
   "outputs": [
    {
     "name": "stdout",
     "output_type": "stream",
     "text": [
      "[B, BI, D, DI, E, F, FI, M, MI, O, OI, PF, PS, S, SI]\n"
     ]
    }
   ],
   "source": [
    "BxD_x_OI = BxD * OI\n",
    "print BxD_x_OI.sorted_list()"
   ]
  },
  {
   "cell_type": "markdown",
   "metadata": {},
   "source": [
    "$B * (D * OI)$ = All 18 of the algebra's relations"
   ]
  },
  {
   "cell_type": "code",
   "execution_count": 16,
   "metadata": {},
   "outputs": [
    {
     "name": "stdout",
     "output_type": "stream",
     "text": [
      "[B, BI, D, DI, E, F, FI, M, MI, O, OI, PE, PF, PFI, PS, PSI, S, SI]\n"
     ]
    }
   ],
   "source": [
    "B_x_DxOI = B * DxOI\n",
    "print B_x_DxOI.sorted_list()"
   ]
  },
  {
   "cell_type": "markdown",
   "metadata": {},
   "source": [
    "So, clearly, $(B * D) * OI \\ne B * (D * OI).$"
   ]
  },
  {
   "cell_type": "markdown",
   "metadata": {},
   "source": [
    "Let's examine the domains and ranges involved."
   ]
  },
  {
   "cell_type": "code",
   "execution_count": 17,
   "metadata": {},
   "outputs": [
    {
     "name": "stdout",
     "output_type": "stream",
     "text": [
      "frozenset([u'ProperInterval', u'Point'])\n",
      "frozenset([u'ProperInterval', u'Point'])\n"
     ]
    }
   ],
   "source": [
    "print alg.relations['B'].domain\n",
    "print alg.relations['B'].range"
   ]
  },
  {
   "cell_type": "code",
   "execution_count": 18,
   "metadata": {},
   "outputs": [
    {
     "name": "stdout",
     "output_type": "stream",
     "text": [
      "frozenset([u'ProperInterval', u'Point'])\n",
      "frozenset([u'ProperInterval'])\n"
     ]
    }
   ],
   "source": [
    "print alg.relations['D'].domain\n",
    "print alg.relations['D'].range"
   ]
  },
  {
   "cell_type": "code",
   "execution_count": 19,
   "metadata": {},
   "outputs": [
    {
     "name": "stdout",
     "output_type": "stream",
     "text": [
      "frozenset([u'ProperInterval'])\n",
      "frozenset([u'ProperInterval'])\n"
     ]
    }
   ],
   "source": [
    "print alg.relations['OI'].domain\n",
    "print alg.relations['OI'].range"
   ]
  },
  {
   "cell_type": "markdown",
   "metadata": {},
   "source": [
    "So, chaining these together in terms of domains and ranges is:\n",
    "<p>$(Int,Int) * (Int,PInt) * (PInt,PInt) = (Int, PInt)$,</p>\n",
    "<p>where $Int = \\{PInt, Pt\\}$</p>"
   ]
  },
  {
   "cell_type": "code",
   "execution_count": 20,
   "metadata": {},
   "outputs": [
    {
     "data": {
      "text/plain": [
       "<RelationSet([O, PS, S, B, M, D])>"
      ]
     },
     "execution_count": 20,
     "metadata": {},
     "output_type": "execute_result"
    }
   ],
   "source": [
    "B*D"
   ]
  },
  {
   "cell_type": "markdown",
   "metadata": {},
   "source": [
    "Now, if W, X, Y, and Z are time intervals, such that W {B} X, X {D} Y, and Y {OI} Z, then...\n",
    "1. In what possible ways does W relate to Y?\n",
    "1. In what possible ways does X relate to Z?"
   ]
  },
  {
   "cell_type": "markdown",
   "metadata": {},
   "source": [
    "To answer these questions, first look at B*D:"
   ]
  },
  {
   "cell_type": "code",
   "execution_count": 21,
   "metadata": {},
   "outputs": [
    {
     "name": "stdout",
     "output_type": "stream",
     "text": [
      "<RelationSet([O, PS, S, B, M, D])>:\n",
      "\n",
      "O has domain [u'ProperInterval']\n",
      "PS has domain [u'Point']\n",
      "S has domain [u'ProperInterval']\n",
      "B has domain [u'ProperInterval', u'Point']\n",
      "M has domain [u'ProperInterval']\n",
      "D has domain [u'ProperInterval', u'Point']\n"
     ]
    }
   ],
   "source": [
    "print \"%s:\\n\" % BxD\n",
    "for rel in B*D:\n",
    "    print \"%s has domain %s\" % (rel, list(rel.domain))"
   ]
  },
  {
   "cell_type": "code",
   "execution_count": 22,
   "metadata": {},
   "outputs": [
    {
     "name": "stdout",
     "output_type": "stream",
     "text": [
      "<RelationSet([O, PS, S, B, M, D])>:\n",
      "\n",
      "O has range [u'ProperInterval']\n",
      "PS has range [u'ProperInterval']\n",
      "S has range [u'ProperInterval']\n",
      "B has range [u'ProperInterval', u'Point']\n",
      "M has range [u'ProperInterval']\n",
      "D has range [u'ProperInterval']\n"
     ]
    }
   ],
   "source": [
    "print \"%s:\\n\" % BxD\n",
    "for rel in B*D:\n",
    "    print \"%s has range %s\" % (rel, list(rel.range))"
   ]
  },
  {
   "cell_type": "code",
   "execution_count": null,
   "metadata": {
    "collapsed": true
   },
   "outputs": [],
   "source": []
  },
  {
   "cell_type": "code",
   "execution_count": null,
   "metadata": {
    "collapsed": true
   },
   "outputs": [],
   "source": []
  },
  {
   "cell_type": "code",
   "execution_count": 23,
   "metadata": {},
   "outputs": [
    {
     "name": "stdout",
     "output_type": "stream",
     "text": [
      "<TemporalObject W ['ProperInterval', 'Point']>\n",
      "<TemporalObject X ['ProperInterval', 'Point']>\n",
      "<TemporalObject Y ['ProperInterval']>\n",
      "<TemporalObject Z ['ProperInterval']>\n"
     ]
    }
   ],
   "source": [
    "W = qr.TemporalObject(['ProperInterval', 'Point'], 'W')\n",
    "X = qr.TemporalObject(['ProperInterval', 'Point'], 'X')\n",
    "Y = qr.TemporalObject(['ProperInterval'], 'Y')\n",
    "Z = qr.TemporalObject(['ProperInterval'], 'Z')\n",
    "print W\n",
    "print X\n",
    "print Y\n",
    "print Z"
   ]
  },
  {
   "cell_type": "code",
   "execution_count": 24,
   "metadata": {},
   "outputs": [
    {
     "name": "stdout",
     "output_type": "stream",
     "text": [
      "<Network: BxDxOI, 0 entities>\n"
     ]
    }
   ],
   "source": [
    "net_BxDxOI = qr.Network(alg, \"BxDxOI\")\n",
    "print net_BxDxOI"
   ]
  },
  {
   "cell_type": "markdown",
   "metadata": {},
   "source": [
    "Assume W, X, Y, and Z are time intervals, such that W {B} X, X {D} Y, and Y {OI} Z"
   ]
  },
  {
   "cell_type": "code",
   "execution_count": 25,
   "metadata": {},
   "outputs": [],
   "source": [
    "rel_B  = alg.relations['B']\n",
    "rel_D  = alg.relations['D']\n",
    "rel_OI = alg.relations['OI']"
   ]
  },
  {
   "cell_type": "code",
   "execution_count": 26,
   "metadata": {},
   "outputs": [],
   "source": [
    "net_BxDxOI.constraint(W, X, [rel_B])\n",
    "net_BxDxOI.constraint(X, Y, [rel_D])\n",
    "net_BxDxOI.constraint(Y, Z, [rel_OI])"
   ]
  },
  {
   "cell_type": "code",
   "execution_count": 27,
   "metadata": {},
   "outputs": [
    {
     "name": "stdout",
     "output_type": "stream",
     "text": [
      "<Network: BxDxOI, 4 entities>\n"
     ]
    }
   ],
   "source": [
    "print net_BxDxOI"
   ]
  },
  {
   "cell_type": "code",
   "execution_count": 28,
   "metadata": {},
   "outputs": [
    {
     "name": "stdout",
     "output_type": "stream",
     "text": [
      "\n",
      "<Network: BxDxOI, 4 entities>\n",
      "Constraints: (Source, Target, RelationSet)\n",
      "  X, X, [E, PE]\n",
      "  X, W, [BI]\n",
      "  X, Y, [D]\n",
      "  W, X, [B]\n",
      "  W, W, [E, PE]\n",
      "  Y, X, [DI]\n",
      "  Y, Y, [E]\n",
      "  Y, Z, [OI]\n",
      "  Z, Y, [O]\n",
      "  Z, Z, [E]\n"
     ]
    }
   ],
   "source": [
    "net_BxDxOI.print_constraints()"
   ]
  },
  {
   "cell_type": "code",
   "execution_count": 29,
   "metadata": {},
   "outputs": [],
   "source": [
    "net_BxDxOI.propagate()"
   ]
  },
  {
   "cell_type": "code",
   "execution_count": 30,
   "metadata": {},
   "outputs": [
    {
     "name": "stdout",
     "output_type": "stream",
     "text": [
      "\n",
      "<Network: BxDxOI, 4 entities>\n",
      "Constraints: (Source, Target, RelationSet)\n",
      "  X, X, [E, PE]\n",
      "  X, W, [BI]\n",
      "  X, Y, [D]\n",
      "  X, Z, [D, OI, F, MI, BI, PF]\n",
      "  W, X, [B]\n",
      "  W, W, [E, PE]\n",
      "  W, Y, [PS, B, D, M, O, S]\n",
      "  W, Z, [PS, B, E, D, OI, F, MI, DI, M, BI, O, S, PF, FI, SI]\n",
      "  Y, X, [DI]\n",
      "  Y, W, [OI, MI, DI, BI, PSI, SI]\n",
      "  Y, Y, [E]\n",
      "  Y, Z, [OI]\n",
      "  Z, X, [B, PFI, DI, M, O, FI]\n",
      "  Z, W, [B, E, D, OI, F, PFI, MI, DI, M, BI, O, S, PSI, FI, SI]\n",
      "  Z, Y, [O]\n",
      "  Z, Z, [E]\n"
     ]
    }
   ],
   "source": [
    "net_BxDxOI.print_constraints()"
   ]
  },
  {
   "cell_type": "code",
   "execution_count": null,
   "metadata": {
    "collapsed": true
   },
   "outputs": [],
   "source": []
  },
  {
   "cell_type": "code",
   "execution_count": null,
   "metadata": {
    "collapsed": true
   },
   "outputs": [],
   "source": []
  }
 ],
 "metadata": {
  "kernelspec": {
   "display_name": "Python 3",
   "language": "python",
   "name": "python3"
  },
  "language_info": {
   "codemirror_mode": {
    "name": "ipython",
    "version": 3
   },
   "file_extension": ".py",
   "mimetype": "text/x-python",
   "name": "python",
   "nbconvert_exporter": "python",
   "pygments_lexer": "ipython3",
   "version": "3.7.3"
  }
 },
 "nbformat": 4,
 "nbformat_minor": 1
}
