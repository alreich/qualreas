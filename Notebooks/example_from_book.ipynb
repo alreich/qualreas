{
 "cells": [
  {
   "cell_type": "markdown",
   "metadata": {},
   "source": [
    "# Example from book (what book, though?)"
   ]
  },
  {
   "cell_type": "code",
   "execution_count": 1,
   "metadata": {},
   "outputs": [],
   "source": [
    "import qualreas as qr\n",
    "import os\n",
    "from IPython.display import Image"
   ]
  },
  {
   "cell_type": "code",
   "execution_count": 2,
   "metadata": {},
   "outputs": [],
   "source": [
    "qr_path = os.path.join(os.getenv('PYPROJ'), 'qualreas')\n",
    "alg_dir = os.path.join(qr_path, \"Algebras\")\n",
    "ex_file = os.path.join(qr_path, \"Networks\", \"example_from_book.json\")"
   ]
  },
  {
   "cell_type": "code",
   "execution_count": 3,
   "metadata": {},
   "outputs": [
    {
     "name": "stdout",
     "output_type": "stream",
     "text": [
      "{\r\n",
      "    \"name\": \"Example from book\",\r\n",
      "    \"algebra\": \"Linear_Interval_Algebra\",\r\n",
      "    \"description\": \"Example from book (but can't remember which book)\",\r\n",
      "    \"nodes\": [\r\n",
      "        [\"I\", [\"ProperInterval\"]],\r\n",
      "        [\"J\", [\"ProperInterval\"]],\r\n",
      "        [\"K\", [\"ProperInterval\"]],\r\n",
      "        [\"L\", [\"ProperInterval\"]]\r\n",
      "    ],\r\n",
      "    \"edges\": [\r\n",
      "        [\"I\", \"J\", \"F|FI\"],\r\n",
      "        [\"I\", \"L\", \"M|S\"],\r\n",
      "        [\"I\", \"K\", \"D|DI\"],\r\n",
      "        [\"J\", \"L\", \"MI|SI\"],\r\n",
      "        [\"J\", \"K\", \"D|DI\"],\r\n",
      "        [\"L\", \"K\", \"O\"]\r\n",
      "    ]\r\n",
      "}\r\n"
     ]
    }
   ],
   "source": [
    "!cat {ex_file}"
   ]
  },
  {
   "cell_type": "code",
   "execution_count": 4,
   "metadata": {},
   "outputs": [],
   "source": [
    "ex_net = qr.Network(algebra_path=alg_dir, json_file_name=ex_file)"
   ]
  },
  {
   "cell_type": "code",
   "execution_count": 5,
   "metadata": {},
   "outputs": [
    {
     "name": "stdout",
     "output_type": "stream",
     "text": [
      "\n",
      "Example from book: 4 nodes, 16 edges\n",
      "  Algebra: Linear_Interval_Algebra\n",
      "  I:['ProperInterval']\n",
      "    => I: E\n",
      "    => J: F|FI\n",
      "    => L: M|S\n",
      "    => K: D|DI\n",
      "  J:['ProperInterval']\n",
      "    => J: E\n",
      "    => L: MI|SI\n",
      "    => K: D|DI\n",
      "  L:['ProperInterval']\n",
      "    => L: E\n",
      "    => K: O\n",
      "  K:['ProperInterval']\n",
      "    => K: E\n"
     ]
    }
   ],
   "source": [
    "ex_net.summary()"
   ]
  },
  {
   "cell_type": "code",
   "execution_count": 6,
   "metadata": {},
   "outputs": [
    {
     "name": "stdout",
     "output_type": "stream",
     "text": [
      "Example from book (but can't remember which book)\n",
      "\n",
      "The network is inconsistent.\n"
     ]
    }
   ],
   "source": [
    "ok = ex_net.propagate()\n",
    "\n",
    "print(ex_net.description)\n",
    "print()\n",
    "if ok:\n",
    "    print(\"The network is consistent.  Here's a summary:\")\n",
    "    ex_net.summary()\n",
    "else:\n",
    "    print(\"The network is inconsistent.\")"
   ]
  }
 ],
 "metadata": {
  "kernelspec": {
   "display_name": "Python 3 (ipykernel)",
   "language": "python",
   "name": "python3"
  },
  "language_info": {
   "codemirror_mode": {
    "name": "ipython",
    "version": 3
   },
   "file_extension": ".py",
   "mimetype": "text/x-python",
   "name": "python",
   "nbconvert_exporter": "python",
   "pygments_lexer": "ipython3",
   "version": "3.11.4"
  }
 },
 "nbformat": 4,
 "nbformat_minor": 4
}
