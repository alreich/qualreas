{
 "cells": [
  {
   "cell_type": "markdown",
   "metadata": {},
   "source": [
    "# Template Network Definitions"
   ]
  },
  {
   "cell_type": "markdown",
   "metadata": {},
   "source": [
    "<i>Version 1</i>"
   ]
  },
  {
   "cell_type": "markdown",
   "metadata": {},
   "source": [
    "## References"
   ]
  },
  {
   "cell_type": "markdown",
   "metadata": {},
   "source": [
    "1. [\"Maintaining Knowledge about Temporal Intervals\" by James F. Allen](https://cse.unl.edu/~choueiry/Documents/Allen-CACM1983.pdf) - Allen's original paper (PDF)\n",
    "1. [Allen's Interval Algebra](https://www.ics.uci.edu/~alspaugh/cls/shr/allen.html) or [here](https://thomasalspaugh.org/pub/fnd/allen.html) - summarizes Allen's algebra of proper time intervals\n",
    "1. [W3C Time Ontology in OWL](https://www.w3.org/TR/owl-time/) - temporal vocabulary used here is based on the W3C vocabulary of time\n",
    "1. [bitsets Python package](https://bitsets.readthedocs.io/en/stable/) - used to implement Algebra relation sets and operations\n",
    "1. [NetworkX Python package](http://networkx.github.io/) - used to represent directed graph of constraints\n",
    "1. [Python format string syntax](https://docs.python.org/3/library/string.html#format-string-syntax) - used in Algebra summary method\n",
    "1. [Spatial Ontology](https://www.w3.org/2017/sdwig/bp/) - I'm still looking for a standard spatial vocabulary; maybe start here\n",
    "1. [Qualitative Spatial Relations (QSR) Library](https://qsrlib.readthedocs.io/en/latest/index.html) - an alternative library to the one defined here"
   ]
  },
  {
   "cell_type": "markdown",
   "metadata": {},
   "source": [
    "## Dependencies"
   ]
  },
  {
   "cell_type": "code",
   "execution_count": 1,
   "metadata": {},
   "outputs": [],
   "source": [
    "import os\n",
    "import qualreas as qr"
   ]
  },
  {
   "cell_type": "code",
   "execution_count": 2,
   "metadata": {},
   "outputs": [],
   "source": [
    "path = os.path.join(os.getenv('PYPROJ'), 'qualreas')"
   ]
  },
  {
   "cell_type": "code",
   "execution_count": 3,
   "metadata": {},
   "outputs": [],
   "source": [
    "pt_alg = qr.Algebra(os.path.join(path, \"Algebras/LinearPointAlgebra.json\"))\n",
    "#pt_alg = qr.Algebra(os.path.join(path, \"Algebras/RightBranchingPointAlgebra.json\"))"
   ]
  },
  {
   "cell_type": "markdown",
   "metadata": {},
   "source": [
    "## Create Template 4-Point Network"
   ]
  },
  {
   "cell_type": "code",
   "execution_count": 4,
   "metadata": {},
   "outputs": [],
   "source": [
    "def four_point_network(alg, lessthan_symbol, verbose=False):\n",
    "    net = qr.Network(alg, \"Four Point Network\")\n",
    "    lessthan = alg.relset(lessthan_symbol)\n",
    "    start1 = qr.TemporalEntity([\"Point\"], name=\"StartPt1\")\n",
    "    end1   = qr.TemporalEntity([\"Point\"], name=  \"EndPt1\")\n",
    "    start2 = qr.TemporalEntity([\"Point\"], name=\"StartPt2\")\n",
    "    end2   = qr.TemporalEntity([\"Point\"], name=  \"EndPt2\")\n",
    "    net.add_constraint(start1, end1, lessthan, verbose)\n",
    "    net.add_constraint(start2, end2, lessthan, verbose)\n",
    "    return net, start1, end1, start2, end2"
   ]
  },
  {
   "cell_type": "code",
   "execution_count": 5,
   "metadata": {},
   "outputs": [],
   "source": [
    "net4pt, s1, e1, s2, e2 = four_point_network(pt_alg, \"<\")"
   ]
  },
  {
   "cell_type": "code",
   "execution_count": 6,
   "metadata": {},
   "outputs": [
    {
     "name": "stdout",
     "output_type": "stream",
     "text": [
      "\n",
      "Four Point Network: 4 nodes, 8 edges\n",
      "  Algebra: LinearPointAlgebra\n",
      "  StartPt1:\n",
      "    => StartPt1: =\n",
      "    => EndPt1: <\n",
      "  EndPt1:\n",
      "    => EndPt1: =\n",
      "    => StartPt1: >\n",
      "  StartPt2:\n",
      "    => StartPt2: =\n",
      "    => EndPt2: <\n",
      "  EndPt2:\n",
      "    => EndPt2: =\n",
      "    => StartPt2: >\n"
     ]
    }
   ],
   "source": [
    "net4pt.summary()"
   ]
  },
  {
   "cell_type": "code",
   "execution_count": 10,
   "metadata": {},
   "outputs": [
    {
     "name": "stdout",
     "output_type": "stream",
     "text": [
      "=========\n",
      "<, <\n",
      "<, <\n",
      "=========\n",
      "<, <\n",
      "=, <\n",
      "=========\n",
      "<, <\n",
      ">, <\n",
      "=========\n",
      "<, <\n",
      ">, =\n",
      "=========\n",
      "<, <\n",
      ">, >\n",
      "=========\n",
      "=, <\n",
      ">, <\n",
      "=========\n",
      "=, <\n",
      ">, =\n",
      "=========\n",
      "=, <\n",
      ">, >\n",
      "=========\n",
      ">, <\n",
      ">, <\n",
      "=========\n",
      ">, <\n",
      ">, =\n",
      "=========\n",
      ">, <\n",
      ">, >\n",
      "=========\n",
      ">, =\n",
      ">, >\n",
      "=========\n",
      ">, >\n",
      ">, >\n"
     ]
    }
   ],
   "source": [
    "count = 0\n",
    "net = None\n",
    "for elem13 in pt_alg.elements:\n",
    "    for elem23 in pt_alg.elements:\n",
    "        for elem14 in pt_alg.elements:\n",
    "            for elem24 in pt_alg.elements:\n",
    "                net, pt1, pt2, pt3, pt4 = four_point_network(pt_alg, \"<\")\n",
    "                rs13 = pt_alg.relset(elem13)\n",
    "                rs23 = pt_alg.relset(elem23)\n",
    "                rs14 = pt_alg.relset(elem14)\n",
    "                rs24 = pt_alg.relset(elem24)\n",
    "                net.add_constraint(pt1, pt3, rs13)\n",
    "                net.add_constraint(pt2, pt3, rs23)\n",
    "                net.add_constraint(pt1, pt4, rs14)\n",
    "                net.add_constraint(pt2, pt4, rs24)\n",
    "                if net.propagate():\n",
    "                    print(\"=========\")\n",
    "                    print(f\"{rs13}, {rs14}\")\n",
    "                    print(f\"{rs23}, {rs24}\")\n",
    "                    #net.summary()"
   ]
  },
  {
   "cell_type": "code",
   "execution_count": null,
   "metadata": {},
   "outputs": [],
   "source": []
  }
 ],
 "metadata": {
  "kernelspec": {
   "display_name": "Python 3",
   "language": "python",
   "name": "python3"
  },
  "language_info": {
   "codemirror_mode": {
    "name": "ipython",
    "version": 3
   },
   "file_extension": ".py",
   "mimetype": "text/x-python",
   "name": "python",
   "nbconvert_exporter": "python",
   "pygments_lexer": "ipython3",
   "version": "3.7.3"
  }
 },
 "nbformat": 4,
 "nbformat_minor": 2
}
