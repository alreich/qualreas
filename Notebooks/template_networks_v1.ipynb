{
 "cells": [
  {
   "cell_type": "markdown",
   "metadata": {},
   "source": [
    "# Template Network Definitions"
   ]
  },
  {
   "cell_type": "markdown",
   "metadata": {},
   "source": [
    "<i>Version 1</i>"
   ]
  },
  {
   "cell_type": "markdown",
   "metadata": {},
   "source": [
    "## References"
   ]
  },
  {
   "cell_type": "markdown",
   "metadata": {},
   "source": [
    "1. [\"Maintaining Knowledge about Temporal Intervals\" by James F. Allen](https://cse.unl.edu/~choueiry/Documents/Allen-CACM1983.pdf) - Allen's original paper (PDF)\n",
    "1. [Allen's Interval Algebra](https://www.ics.uci.edu/~alspaugh/cls/shr/allen.html) or [here](https://thomasalspaugh.org/pub/fnd/allen.html) - summarizes Allen's algebra of proper time intervals\n",
    "1. [W3C Time Ontology in OWL](https://www.w3.org/TR/owl-time/) - temporal vocabulary used here is based on the W3C vocabulary of time\n",
    "1. [bitsets Python package](https://bitsets.readthedocs.io/en/stable/) - used to implement Algebra relation sets and operations\n",
    "1. [NetworkX Python package](http://networkx.github.io/) - used to represent directed graph of constraints\n",
    "1. [Python format string syntax](https://docs.python.org/3/library/string.html#format-string-syntax) - used in Algebra summary method\n",
    "1. [Spatial Ontology](https://www.w3.org/2017/sdwig/bp/) - I'm still looking for a standard spatial vocabulary; maybe start here\n",
    "1. [Qualitative Spatial Relations (QSR) Library](https://qsrlib.readthedocs.io/en/latest/index.html) - an alternative library to the one defined here"
   ]
  },
  {
   "cell_type": "markdown",
   "metadata": {},
   "source": [
    "## Dependencies"
   ]
  },
  {
   "cell_type": "code",
   "execution_count": 1,
   "metadata": {},
   "outputs": [],
   "source": [
    "import os\n",
    "import qualreas as qr"
   ]
  },
  {
   "cell_type": "code",
   "execution_count": 2,
   "metadata": {},
   "outputs": [],
   "source": [
    "path = os.path.join(os.getenv('PYPROJ'), 'qualreas')"
   ]
  },
  {
   "cell_type": "code",
   "execution_count": 10,
   "metadata": {},
   "outputs": [],
   "source": [
    "pt_alg = qr.Algebra(os.path.join(path, \"Algebras/LinearPointAlgebra.json\"))\n",
    "#pt_alg = qr.Algebra(os.path.join(path, \"Algebras/RightBranchingPointAlgebra.json\"))\n",
    "#pt_alg = qr.Algebra(os.path.join(path, \"Algebras/LeftBranchingPointAlgebra.json\"))"
   ]
  },
  {
   "cell_type": "markdown",
   "metadata": {},
   "source": [
    "## Create Template 4-Point Network"
   ]
  },
  {
   "cell_type": "code",
   "execution_count": 11,
   "metadata": {},
   "outputs": [],
   "source": [
    "def four_point_network(alg, lessthan_symbol, verbose=False):\n",
    "    net = qr.Network(alg, \"Four Point Network\")\n",
    "    lessthan = alg.relset(lessthan_symbol)\n",
    "    # Start & End Points of Interval 1\n",
    "    start1 = qr.TemporalEntity([\"Point\"], name=\"StartPt1\")\n",
    "    end1   = qr.TemporalEntity([\"Point\"], name=  \"EndPt1\")\n",
    "    # Start & End Points of Interval 2\n",
    "    start2 = qr.TemporalEntity([\"Point\"], name=\"StartPt2\")\n",
    "    end2   = qr.TemporalEntity([\"Point\"], name=  \"EndPt2\")\n",
    "    net.add_constraint(start1, end1, lessthan, verbose)\n",
    "    net.add_constraint(start2, end2, lessthan, verbose)\n",
    "    return net, start1, end1, start2, end2"
   ]
  },
  {
   "cell_type": "code",
   "execution_count": 12,
   "metadata": {},
   "outputs": [],
   "source": [
    "net4pt, s1, e1, s2, e2 = four_point_network(pt_alg, \"<|=\")"
   ]
  },
  {
   "cell_type": "code",
   "execution_count": 13,
   "metadata": {},
   "outputs": [
    {
     "name": "stdout",
     "output_type": "stream",
     "text": [
      "\n",
      "Four Point Network: 4 nodes, 8 edges\n",
      "  Algebra: LinearPointAlgebra\n",
      "  StartPt1:\n",
      "    => StartPt1: =\n",
      "    => EndPt1: <|=\n",
      "  EndPt1:\n",
      "    => EndPt1: =\n",
      "    => StartPt1: =|>\n",
      "  StartPt2:\n",
      "    => StartPt2: =\n",
      "    => EndPt2: <|=\n",
      "  EndPt2:\n",
      "    => EndPt2: =\n",
      "    => StartPt2: =|>\n"
     ]
    }
   ],
   "source": [
    "net4pt.summary()"
   ]
  },
  {
   "cell_type": "code",
   "execution_count": 14,
   "metadata": {},
   "outputs": [
    {
     "name": "stdout",
     "output_type": "stream",
     "text": [
      "=========\n",
      "<, <\n",
      "<, <\n",
      "-----\n",
      ">, >\n",
      ">, >\n",
      "=========\n",
      "<, <\n",
      "=, <\n",
      "-----\n",
      ">, =\n",
      ">, >\n",
      "=========\n",
      "<, <\n",
      "=, =\n",
      "-----\n",
      ">, =\n",
      ">, =\n",
      "=========\n",
      "<, <\n",
      ">, <\n",
      "-----\n",
      ">, <\n",
      ">, >\n",
      "=========\n",
      "<, <\n",
      ">, =\n",
      "-----\n",
      ">, <\n",
      ">, =\n",
      "=========\n",
      "<, <\n",
      ">, >\n",
      "-----\n",
      ">, <\n",
      ">, <\n",
      "=========\n",
      "=, <\n",
      "=, <\n",
      "-----\n",
      "=, =\n",
      ">, >\n",
      "=========\n",
      "=, =\n",
      "=, =\n",
      "-----\n",
      "=, =\n",
      "=, =\n",
      "=========\n",
      "=, <\n",
      ">, <\n",
      "-----\n",
      "=, <\n",
      ">, >\n",
      "=========\n",
      "=, <\n",
      ">, =\n",
      "-----\n",
      "=, <\n",
      ">, =\n",
      "=========\n",
      "=, <\n",
      ">, >\n",
      "-----\n",
      "=, <\n",
      ">, <\n",
      "=========\n",
      "=, =\n",
      ">, >\n",
      "-----\n",
      "=, <\n",
      "=, <\n",
      "=========\n",
      ">, <\n",
      ">, <\n",
      "-----\n",
      "<, <\n",
      ">, >\n",
      "=========\n",
      ">, <\n",
      ">, =\n",
      "-----\n",
      "<, <\n",
      ">, =\n",
      "=========\n",
      ">, <\n",
      ">, >\n",
      "-----\n",
      "<, <\n",
      ">, <\n",
      "=========\n",
      ">, =\n",
      ">, =\n",
      "-----\n",
      "<, <\n",
      "=, =\n",
      "=========\n",
      ">, =\n",
      ">, >\n",
      "-----\n",
      "<, <\n",
      "=, <\n",
      "=========\n",
      ">, >\n",
      ">, >\n",
      "-----\n",
      "<, <\n",
      "<, <\n",
      "\n",
      "18 consistent networks\n"
     ]
    }
   ],
   "source": [
    "count = 0\n",
    "consistent_nets = dict()\n",
    "# Viewing the network as a matrix, 'elem13', refers to the element\n",
    "# in row 1, col 3, and so on for 'elem23', etc.\n",
    "for elem13 in pt_alg.elements:\n",
    "    for elem23 in pt_alg.elements:\n",
    "        for elem14 in pt_alg.elements:\n",
    "            for elem24 in pt_alg.elements:\n",
    "                net, pt1, pt2, pt3, pt4 = four_point_network(pt_alg, \"<|=\")\n",
    "                rs13 = pt_alg.relset(elem13)\n",
    "                rs23 = pt_alg.relset(elem23)\n",
    "                rs14 = pt_alg.relset(elem14)\n",
    "                rs24 = pt_alg.relset(elem24)\n",
    "                net.add_constraint(pt1, pt3, rs13)\n",
    "                net.add_constraint(pt2, pt3, rs23)\n",
    "                net.add_constraint(pt1, pt4, rs14)\n",
    "                net.add_constraint(pt2, pt4, rs24)\n",
    "                if net.propagate():\n",
    "                    count += 1\n",
    "                    elem_key = \",\".join([str(rs13), str(rs14), str(rs23), str(rs24)])\n",
    "                    print(\"=========\")\n",
    "                    print(f\"{rs13}, {rs14}\")\n",
    "                    print(f\"{rs23}, {rs24}\")\n",
    "                    print(\"-----\")\n",
    "                    rs31 = net.edges[pt3, pt1]['constraint']\n",
    "                    rs32 = net.edges[pt3, pt2]['constraint']\n",
    "                    rs41 = net.edges[pt4, pt1]['constraint']\n",
    "                    rs42 = net.edges[pt4, pt2]['constraint']\n",
    "                    conv_key = \",\".join([str(rs31), str(rs32), str(rs41), str(rs42)])\n",
    "                    consistent_nets[elem_key] = (conv_key, net)\n",
    "                    print(f\"{rs31}, {rs32}\")\n",
    "                    print(f\"{rs41}, {rs42}\")\n",
    "print(f\"\\n{count} consistent networks\")"
   ]
  },
  {
   "cell_type": "code",
   "execution_count": 15,
   "metadata": {},
   "outputs": [
    {
     "name": "stdout",
     "output_type": "stream",
     "text": [
      "<,<,<,< : ('>,>,>,>', <qualreas.Network object at 0x7ff26094b4a8>)\n",
      "<,<,=,< : ('>,=,>,>', <qualreas.Network object at 0x7ff2307fadd8>)\n",
      "<,<,=,= : ('>,=,>,=', <qualreas.Network object at 0x7ff260965b00>)\n",
      "<,<,>,< : ('>,<,>,>', <qualreas.Network object at 0x7ff230f4eef0>)\n",
      "<,<,>,= : ('>,<,>,=', <qualreas.Network object at 0x7ff230f55a58>)\n",
      "<,<,>,> : ('>,<,>,<', <qualreas.Network object at 0x7ff230f58160>)\n",
      "=,<,=,< : ('=,=,>,>', <qualreas.Network object at 0x7ff230f58eb8>)\n",
      "=,=,=,= : ('=,=,=,=', <qualreas.Network object at 0x7ff230f5df60>)\n",
      "=,<,>,< : ('=,<,>,>', <qualreas.Network object at 0x7ff230f5f9e8>)\n",
      "=,<,>,= : ('=,<,>,=', <qualreas.Network object at 0x7ff230f62048>)\n",
      "=,<,>,> : ('=,<,>,<', <qualreas.Network object at 0x7ff230f62710>)\n",
      "=,=,>,> : ('=,<,=,<', <qualreas.Network object at 0x7ff230f62f28>)\n",
      ">,<,>,< : ('<,<,>,>', <qualreas.Network object at 0x7ff230f68f28>)\n",
      ">,<,>,= : ('<,<,>,=', <qualreas.Network object at 0x7ff230f6f048>)\n",
      ">,<,>,> : ('<,<,>,<', <qualreas.Network object at 0x7ff230f6f710>)\n",
      ">,=,>,= : ('<,<,=,=', <qualreas.Network object at 0x7ff230f6ff60>)\n",
      ">,=,>,> : ('<,<,=,<', <qualreas.Network object at 0x7ff230f76080>)\n",
      ">,>,>,> : ('<,<,<,<', <qualreas.Network object at 0x7ff230f6fef0>)\n"
     ]
    }
   ],
   "source": [
    "for key in consistent_nets:\n",
    "    print(f\"{key} : {consistent_nets[key]}\")"
   ]
  },
  {
   "cell_type": "code",
   "execution_count": 23,
   "metadata": {},
   "outputs": [],
   "source": [
    "key_name_mapping = {\n",
    "    '<,<,<,<': 'B', '>,>,>,>': 'BI',\n",
    "    '>,<,>,<': 'D', '<,<,>,>': 'DI',\n",
    "    '=,<,>,=': 'E', '=,=,=,=': 'PE',\n",
    "    '>,<,>,=': 'F', '<,<,>,=': 'FI',\n",
    "    '<,<,=,<': 'M', '>,=,>,>': 'MI',\n",
    "    '<,<,>,<': 'O', '>,<,>,>': 'OI',\n",
    "    '=,<,>,<': 'S', '=,<,>,>': 'SI',\n",
    "    '>,=,>,=': 'PF', '<,<,=,=': 'PFI',\n",
    "    '=,<,=,<': 'PS', '=,=,>,>': 'PSI'\n",
    "}"
   ]
  },
  {
   "cell_type": "code",
   "execution_count": 24,
   "metadata": {},
   "outputs": [
    {
     "name": "stdout",
     "output_type": "stream",
     "text": [
      "B : <,<,<,< : <qualreas.Network object at 0x7ff26094b4a8>\n",
      "M : <,<,=,< : <qualreas.Network object at 0x7ff2307fadd8>\n",
      "PFI : <,<,=,= : <qualreas.Network object at 0x7ff260965b00>\n",
      "O : <,<,>,< : <qualreas.Network object at 0x7ff230f4eef0>\n",
      "FI : <,<,>,= : <qualreas.Network object at 0x7ff230f55a58>\n",
      "DI : <,<,>,> : <qualreas.Network object at 0x7ff230f58160>\n",
      "PS : =,<,=,< : <qualreas.Network object at 0x7ff230f58eb8>\n",
      "PE : =,=,=,= : <qualreas.Network object at 0x7ff230f5df60>\n",
      "S : =,<,>,< : <qualreas.Network object at 0x7ff230f5f9e8>\n",
      "E : =,<,>,= : <qualreas.Network object at 0x7ff230f62048>\n",
      "SI : =,<,>,> : <qualreas.Network object at 0x7ff230f62710>\n",
      "PSI : =,=,>,> : <qualreas.Network object at 0x7ff230f62f28>\n",
      "D : >,<,>,< : <qualreas.Network object at 0x7ff230f68f28>\n",
      "F : >,<,>,= : <qualreas.Network object at 0x7ff230f6f048>\n",
      "OI : >,<,>,> : <qualreas.Network object at 0x7ff230f6f710>\n",
      "PF : >,=,>,= : <qualreas.Network object at 0x7ff230f6ff60>\n",
      "MI : >,=,>,> : <qualreas.Network object at 0x7ff230f76080>\n",
      "BI : >,>,>,> : <qualreas.Network object at 0x7ff230f6fef0>\n"
     ]
    }
   ],
   "source": [
    "for key in consistent_nets:\n",
    "    print(f\"{key_name_mapping[key]} : {key} : {repr(consistent_nets[key][1])}\")"
   ]
  },
  {
   "cell_type": "code",
   "execution_count": null,
   "metadata": {},
   "outputs": [],
   "source": []
  },
  {
   "cell_type": "code",
   "execution_count": null,
   "metadata": {},
   "outputs": [],
   "source": []
  },
  {
   "cell_type": "raw",
   "metadata": {},
   "source": [
    "conv_pairs = dict()\n",
    "for key in consistent_nets:\n",
    "    tup = consistent_nets[key]\n",
    "    tup_conv = consistent_nets[tup[0]]\n",
    "    if key not in conv_pairs:\n",
    "        conv_pairs[key] = (tup[0], tup[1], tup_conv[1])\n",
    "\n",
    "for key in conv_pairs:\n",
    "    print(f\"{key} : {conv_pairs[key]}\")"
   ]
  }
 ],
 "metadata": {
  "kernelspec": {
   "display_name": "Python 3",
   "language": "python",
   "name": "python3"
  },
  "language_info": {
   "codemirror_mode": {
    "name": "ipython",
    "version": 3
   },
   "file_extension": ".py",
   "mimetype": "text/x-python",
   "name": "python",
   "nbconvert_exporter": "python",
   "pygments_lexer": "ipython3",
   "version": "3.7.3"
  }
 },
 "nbformat": 4,
 "nbformat_minor": 2
}
