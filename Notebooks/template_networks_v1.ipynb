{
 "cells": [
  {
   "cell_type": "markdown",
   "metadata": {},
   "source": [
    "# Template Network Definitions"
   ]
  },
  {
   "cell_type": "markdown",
   "metadata": {},
   "source": [
    "<i>Version 1</i>"
   ]
  },
  {
   "cell_type": "markdown",
   "metadata": {},
   "source": [
    "## References"
   ]
  },
  {
   "cell_type": "markdown",
   "metadata": {},
   "source": [
    "1. [\"Maintaining Knowledge about Temporal Intervals\" by James F. Allen](https://cse.unl.edu/~choueiry/Documents/Allen-CACM1983.pdf) - Allen's original paper (PDF)\n",
    "1. [Allen's Interval Algebra](https://www.ics.uci.edu/~alspaugh/cls/shr/allen.html) or [here](https://thomasalspaugh.org/pub/fnd/allen.html) - summarizes Allen's algebra of proper time intervals\n",
    "1. [W3C Time Ontology in OWL](https://www.w3.org/TR/owl-time/) - temporal vocabulary used here is based on the W3C vocabulary of time\n",
    "1. [bitsets Python package](https://bitsets.readthedocs.io/en/stable/) - used to implement Algebra relation sets and operations\n",
    "1. [NetworkX Python package](http://networkx.github.io/) - used to represent directed graph of constraints\n",
    "1. [Python format string syntax](https://docs.python.org/3/library/string.html#format-string-syntax) - used in Algebra summary method\n",
    "1. [Spatial Ontology](https://www.w3.org/2017/sdwig/bp/) - I'm still looking for a standard spatial vocabulary; maybe start here\n",
    "1. [Qualitative Spatial Relations (QSR) Library](https://qsrlib.readthedocs.io/en/latest/index.html) - an alternative library to the one defined here"
   ]
  },
  {
   "cell_type": "markdown",
   "metadata": {},
   "source": [
    "## Dependencies"
   ]
  },
  {
   "cell_type": "code",
   "execution_count": 1,
   "metadata": {},
   "outputs": [],
   "source": [
    "import os\n",
    "import qualreas as qr"
   ]
  },
  {
   "cell_type": "code",
   "execution_count": 2,
   "metadata": {},
   "outputs": [],
   "source": [
    "path = os.path.join(os.getenv('PYPROJ'), 'qualreas')"
   ]
  },
  {
   "cell_type": "code",
   "execution_count": 3,
   "metadata": {},
   "outputs": [],
   "source": [
    "pt_alg = qr.Algebra(os.path.join(path, \"Algebras/LinearPointAlgebra.json\"))\n",
    "#pt_alg = qr.Algebra(os.path.join(path, \"Algebras/RightBranchingPointAlgebra.json\"))"
   ]
  },
  {
   "cell_type": "markdown",
   "metadata": {},
   "source": [
    "## Create Template 4-Point Network"
   ]
  },
  {
   "cell_type": "code",
   "execution_count": 4,
   "metadata": {},
   "outputs": [],
   "source": [
    "def four_point_network(alg, lessthan_symbol, verbose=False):\n",
    "    net = qr.Network(alg, \"Four Point Network\")\n",
    "    lessthan = alg.relset(lessthan_symbol)\n",
    "    startpt1 = qr.TemporalEntity([\"Point\"], name=\"StartPt1\")\n",
    "    endpt1 = qr.TemporalEntity([\"Point\"], name=\"EndPt1\")\n",
    "    startpt2 = qr.TemporalEntity([\"Point\"], name=\"StartPt2\")\n",
    "    endpt2 = qr.TemporalEntity([\"Point\"], name=\"EndPt2\")\n",
    "    net.add_constraint(startpt1, endpt1, lessthan, verbose)\n",
    "    net.add_constraint(startpt2, endpt2, lessthan, verbose)\n",
    "    return net"
   ]
  },
  {
   "cell_type": "code",
   "execution_count": 5,
   "metadata": {},
   "outputs": [],
   "source": [
    "net4pt = four_point_network(pt_alg, \"<\")"
   ]
  },
  {
   "cell_type": "code",
   "execution_count": 6,
   "metadata": {},
   "outputs": [
    {
     "name": "stdout",
     "output_type": "stream",
     "text": [
      "\n",
      "Four Point Network: 4 nodes, 8 edges\n",
      "  Algebra: RightBranchingPointAlgebra\n",
      "  StartPt1:\n",
      "    => StartPt1: =\n",
      "    => EndPt1: <\n",
      "  EndPt1:\n",
      "    => EndPt1: =\n",
      "    => StartPt1: >\n",
      "  StartPt2:\n",
      "    => StartPt2: =\n",
      "    => EndPt2: <\n",
      "  EndPt2:\n",
      "    => EndPt2: =\n",
      "    => StartPt2: >\n"
     ]
    }
   ],
   "source": [
    "net4pt.summary()"
   ]
  },
  {
   "cell_type": "code",
   "execution_count": 8,
   "metadata": {},
   "outputs": [
    {
     "name": "stdout",
     "output_type": "stream",
     "text": [
      "(<TemporalEntity StartPt1 ['Point']>, <TemporalEntity StartPt1 ['Point']>)\n",
      "(<TemporalEntity StartPt1 ['Point']>, <TemporalEntity EndPt1 ['Point']>)\n",
      "(<TemporalEntity EndPt1 ['Point']>, <TemporalEntity EndPt1 ['Point']>)\n",
      "(<TemporalEntity EndPt1 ['Point']>, <TemporalEntity StartPt1 ['Point']>)\n",
      "(<TemporalEntity StartPt2 ['Point']>, <TemporalEntity StartPt2 ['Point']>)\n",
      "(<TemporalEntity StartPt2 ['Point']>, <TemporalEntity EndPt2 ['Point']>)\n",
      "(<TemporalEntity EndPt2 ['Point']>, <TemporalEntity EndPt2 ['Point']>)\n",
      "(<TemporalEntity EndPt2 ['Point']>, <TemporalEntity StartPt2 ['Point']>)\n"
     ]
    }
   ],
   "source": [
    "for e in net4pt.edges():\n",
    "    print(e)"
   ]
  },
  {
   "cell_type": "code",
   "execution_count": null,
   "metadata": {},
   "outputs": [],
   "source": []
  }
 ],
 "metadata": {
  "kernelspec": {
   "display_name": "Python 3",
   "language": "python",
   "name": "python3"
  },
  "language_info": {
   "codemirror_mode": {
    "name": "ipython",
    "version": 3
   },
   "file_extension": ".py",
   "mimetype": "text/x-python",
   "name": "python",
   "nbconvert_exporter": "python",
   "pygments_lexer": "ipython3",
   "version": "3.7.4"
  }
 },
 "nbformat": 4,
 "nbformat_minor": 2
}
