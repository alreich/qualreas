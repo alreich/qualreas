{
 "cells": [
  {
   "cell_type": "markdown",
   "metadata": {},
   "source": [
    "# Template Network Definitions"
   ]
  },
  {
   "cell_type": "markdown",
   "metadata": {},
   "source": [
    "<i>Version 1</i>"
   ]
  },
  {
   "cell_type": "markdown",
   "metadata": {},
   "source": [
    "## References"
   ]
  },
  {
   "cell_type": "markdown",
   "metadata": {},
   "source": [
    "1. [\"Maintaining Knowledge about Temporal Intervals\" by James F. Allen](https://cse.unl.edu/~choueiry/Documents/Allen-CACM1983.pdf) - Allen's original paper (PDF)\n",
    "1. [Allen's Interval Algebra](https://www.ics.uci.edu/~alspaugh/cls/shr/allen.html) or [here](https://thomasalspaugh.org/pub/fnd/allen.html) - summarizes Allen's algebra of proper time intervals\n",
    "1. [W3C Time Ontology in OWL](https://www.w3.org/TR/owl-time/) - temporal vocabulary used here is based on the W3C vocabulary of time\n",
    "1. [bitsets Python package](https://bitsets.readthedocs.io/en/stable/) - used to implement Algebra relation sets and operations\n",
    "1. [NetworkX Python package](http://networkx.github.io/) - used to represent directed graph of constraints\n",
    "1. [Python format string syntax](https://docs.python.org/3/library/string.html#format-string-syntax) - used in Algebra summary method\n",
    "1. [Spatial Ontology](https://www.w3.org/2017/sdwig/bp/) - I'm still looking for a standard spatial vocabulary; maybe start here\n",
    "1. [Qualitative Spatial Relations (QSR) Library](https://qsrlib.readthedocs.io/en/latest/index.html) - an alternative library to the one defined here"
   ]
  },
  {
   "cell_type": "markdown",
   "metadata": {},
   "source": [
    "## Dependencies"
   ]
  },
  {
   "cell_type": "code",
   "execution_count": 1,
   "metadata": {},
   "outputs": [],
   "source": [
    "import os\n",
    "import qualreas as qr\n",
    "import numpy as np"
   ]
  },
  {
   "cell_type": "code",
   "execution_count": 2,
   "metadata": {},
   "outputs": [],
   "source": [
    "path = os.path.join(os.getenv('PYPROJ'), 'qualreas')"
   ]
  },
  {
   "cell_type": "code",
   "execution_count": 3,
   "metadata": {},
   "outputs": [],
   "source": [
    "#pt_alg = qr.Algebra(os.path.join(path, \"Algebras/LinearPointAlgebra.json\"))\n",
    "#pt_alg = qr.Algebra(os.path.join(path, \"Algebras/RightBranchingPointAlgebra.json\"))\n",
    "pt_alg = qr.Algebra(os.path.join(path, \"Algebras/LeftBranchingPointAlgebra.json\"))"
   ]
  },
  {
   "cell_type": "markdown",
   "metadata": {},
   "source": [
    "## Create Algebra Elements using 4-Point Networks"
   ]
  },
  {
   "cell_type": "markdown",
   "metadata": {},
   "source": [
    "### Define 4-Point Network Generator"
   ]
  },
  {
   "cell_type": "code",
   "execution_count": 4,
   "metadata": {},
   "outputs": [],
   "source": [
    "def four_point_network(alg, lessthan_symbol, startname=\"StartPt\", endname=\"EndPt\",\n",
    "                       verbose=False):\n",
    "    '''Create four Temporal Entities that represent time points and use them\n",
    "    to express two independent intervals. For example, (s1,e1) and (s2,e2),\n",
    "    where s1 < e1 and s2 < e2, represents two proper intervals.  Using '<|='\n",
    "    instead of '<', would represent two intervals where one or both might\n",
    "    be points.  Return the network and the four temporal entities.'''\n",
    "    net = qr.Network(alg, \"Four Point Network\")\n",
    "    lessthan = alg.relset(lessthan_symbol)\n",
    "    # Start & End Points of Interval 1\n",
    "    start1 = qr.TemporalEntity([\"Point\"], name=startname+\"1\")\n",
    "    end1   = qr.TemporalEntity([\"Point\"], name=endname+\"1\")\n",
    "    # Start & End Points of Interval 2\n",
    "    start2 = qr.TemporalEntity([\"Point\"], name=startname+\"2\")\n",
    "    end2   = qr.TemporalEntity([\"Point\"], name=endname+\"2\")\n",
    "    net.add_constraint(start1, end1, lessthan, verbose)\n",
    "    net.add_constraint(start2, end2, lessthan, verbose)\n",
    "    points = [start1, end1, start2, end2]\n",
    "    return net, points\n",
    "\n",
    "def print_4point_constraint_matrix(net, s1, e1, s2, e2):\n",
    "    if not points:\n",
    "        pts = [s1, e1, s2, e2]\n",
    "    for a in pts:\n",
    "        row = \"\"\n",
    "        for b in pts:\n",
    "            row += \"  \" + str(net.edges[a, b]['constraint'])\n",
    "        print(row)\n",
    "\n",
    "def constraint_matrix_to_list(net, s1, e1, s2, e2):\n",
    "    pts = [s1, e1, s2, e2]\n",
    "    result = []\n",
    "    for a in pts:\n",
    "        row = []\n",
    "        for b in pts:\n",
    "            row.append(str(net.edges[a, b]['constraint']))\n",
    "        result.append(row)\n",
    "    return result\n",
    "\n",
    "# Map 4-Point Network \"Signatures\" to Typical Names\n",
    "key_name_mapping = {\n",
    "    '<,<,<,<': 'B', '>,>,>,>': 'BI',\n",
    "    '>,<,>,<': 'D', '<,<,>,>': 'DI',\n",
    "    '=,<,>,=': 'E', '=,=,=,=': 'PE',\n",
    "    '>,<,>,=': 'F', '<,<,>,=': 'FI',\n",
    "    '<,<,=,<': 'M', '>,=,>,>': 'MI',\n",
    "    '<,<,>,<': 'O', '>,<,>,>': 'OI',\n",
    "    '=,<,>,<': 'S', '=,<,>,>': 'SI',\n",
    "    '>,=,>,=': 'PF', '<,<,=,=': 'PFI',\n",
    "    '=,<,=,<': 'PS', '=,=,>,>': 'PSI',\n",
    "    '<,<,>,r~': 'RO', '<,<,r~,r~': 'RB',\n",
    "    '=,<,>,r~': 'RS', '>,<,>,r~': 'ROI',\n",
    "    '>,r~,>,r~': 'RBI', 'r~,r~,r~,r~': 'R~',\n",
    "    'l~,<,>,<': 'LO', 'l~,<,>,=': 'LF',\n",
    "    'l~,<,>,>': 'LOI', 'l~,l~,>,>': 'LBI',\n",
    "    'l~,<,l~,<': 'LB', 'l~,l~,l~,l~': 'L~'\n",
    "}"
   ]
  },
  {
   "cell_type": "markdown",
   "metadata": {},
   "source": [
    "### Generate a 4-Point Network"
   ]
  },
  {
   "cell_type": "code",
   "execution_count": 5,
   "metadata": {},
   "outputs": [
    {
     "name": "stdout",
     "output_type": "stream",
     "text": [
      "\n",
      "Four Point Network: 4 nodes, 8 edges\n",
      "  Algebra: LeftBranchingPointAlgebra\n",
      "  StartPt1:\n",
      "    => StartPt1: =\n",
      "    => EndPt1: <|=\n",
      "  EndPt1:\n",
      "    => EndPt1: =\n",
      "    => StartPt1: =|>\n",
      "  StartPt2:\n",
      "    => StartPt2: =\n",
      "    => EndPt2: <|=\n",
      "  EndPt2:\n",
      "    => EndPt2: =\n",
      "    => StartPt2: =|>\n"
     ]
    }
   ],
   "source": [
    "net4pt, s1, e1, s2, e2 = four_point_network(pt_alg, \"<|=\")\n",
    "net4pt.summary()"
   ]
  },
  {
   "cell_type": "markdown",
   "metadata": {},
   "source": [
    "Viewing the network as a matrix, 'elem13', refers to the element in row 1, col 3, and so on for 'elem23', etc.  The matrix is 4x4, so if we partition it into four 2x2 matrices, then the two partiions on the diagonal represent two intervals and the two off-diagonal partitions represent how those two intervals relate to each other. Also, the off-diagonal 2x2 partitions are converse transposes of each other.  Oh, and the intervals represented by the diagonal partitions could be intervals, proper intervals, or points."
   ]
  },
  {
   "cell_type": "code",
   "execution_count": 6,
   "metadata": {},
   "outputs": [
    {
     "name": "stdout",
     "output_type": "stream",
     "text": [
      "==========================\n",
      "B\n",
      "[['=' '<|=' '<' '<']\n",
      " ['=|>' '=' '<' '<']\n",
      " ['>' '>' '=' '<|=']\n",
      " ['>' '>' '=|>' '=']]\n",
      "==========================\n",
      "M\n",
      "[['=' '<' '<' '<']\n",
      " ['>' '=' '=' '<']\n",
      " ['>' '=' '=' '<']\n",
      " ['>' '>' '>' '=']]\n",
      "==========================\n",
      "PFI\n",
      "[['=' '<' '<' '<']\n",
      " ['>' '=' '=' '=']\n",
      " ['>' '=' '=' '=']\n",
      " ['>' '=' '=' '=']]\n",
      "==========================\n",
      "O\n",
      "[['=' '<' '<' '<']\n",
      " ['>' '=' '>' '<']\n",
      " ['>' '<' '=' '<']\n",
      " ['>' '>' '>' '=']]\n",
      "==========================\n",
      "FI\n",
      "[['=' '<' '<' '<']\n",
      " ['>' '=' '>' '=']\n",
      " ['>' '<' '=' '<']\n",
      " ['>' '=' '>' '=']]\n",
      "==========================\n",
      "DI\n",
      "[['=' '<' '<' '<']\n",
      " ['>' '=' '>' '>']\n",
      " ['>' '<' '=' '<|=']\n",
      " ['>' '<' '=|>' '=']]\n",
      "==========================\n",
      "PS\n",
      "[['=' '=' '=' '<']\n",
      " ['=' '=' '=' '<']\n",
      " ['=' '=' '=' '<']\n",
      " ['>' '>' '>' '=']]\n",
      "==========================\n",
      "PE\n",
      "[['=' '=' '=' '=']\n",
      " ['=' '=' '=' '=']\n",
      " ['=' '=' '=' '=']\n",
      " ['=' '=' '=' '=']]\n",
      "==========================\n",
      "S\n",
      "[['=' '<' '=' '<']\n",
      " ['>' '=' '>' '<']\n",
      " ['=' '<' '=' '<']\n",
      " ['>' '>' '>' '=']]\n",
      "==========================\n",
      "E\n",
      "[['=' '<' '=' '<']\n",
      " ['>' '=' '>' '=']\n",
      " ['=' '<' '=' '<']\n",
      " ['>' '=' '>' '=']]\n",
      "==========================\n",
      "SI\n",
      "[['=' '<' '=' '<']\n",
      " ['>' '=' '>' '>']\n",
      " ['=' '<' '=' '<']\n",
      " ['>' '<' '>' '=']]\n",
      "==========================\n",
      "PSI\n",
      "[['=' '<' '=' '=']\n",
      " ['>' '=' '>' '>']\n",
      " ['=' '<' '=' '=']\n",
      " ['=' '<' '=' '=']]\n",
      "==========================\n",
      "D\n",
      "[['=' '<|=' '>' '<']\n",
      " ['=|>' '=' '>' '<']\n",
      " ['<' '<' '=' '<']\n",
      " ['>' '>' '>' '=']]\n",
      "==========================\n",
      "F\n",
      "[['=' '<' '>' '<']\n",
      " ['>' '=' '>' '=']\n",
      " ['<' '<' '=' '<']\n",
      " ['>' '=' '>' '=']]\n",
      "==========================\n",
      "OI\n",
      "[['=' '<' '>' '<']\n",
      " ['>' '=' '>' '>']\n",
      " ['<' '<' '=' '<']\n",
      " ['>' '<' '>' '=']]\n",
      "==========================\n",
      "PF\n",
      "[['=' '=' '>' '=']\n",
      " ['=' '=' '>' '=']\n",
      " ['<' '<' '=' '<']\n",
      " ['=' '=' '>' '=']]\n",
      "==========================\n",
      "MI\n",
      "[['=' '<' '>' '=']\n",
      " ['>' '=' '>' '>']\n",
      " ['<' '<' '=' '<']\n",
      " ['=' '<' '>' '=']]\n",
      "==========================\n",
      "BI\n",
      "[['=' '<|=' '>' '>']\n",
      " ['=|>' '=' '>' '>']\n",
      " ['<' '<' '=' '<|=']\n",
      " ['<' '<' '=|>' '=']]\n",
      "==========================\n",
      "LO\n",
      "[['=' '<' 'l~' '<']\n",
      " ['>' '=' '>' '<']\n",
      " ['l~' '<' '=' '<']\n",
      " ['>' '>' '>' '=']]\n",
      "==========================\n",
      "LF\n",
      "[['=' '<' 'l~' '<']\n",
      " ['>' '=' '>' '=']\n",
      " ['l~' '<' '=' '<']\n",
      " ['>' '=' '>' '=']]\n",
      "==========================\n",
      "LOI\n",
      "[['=' '<' 'l~' '<']\n",
      " ['>' '=' '>' '>']\n",
      " ['l~' '<' '=' '<']\n",
      " ['>' '<' '>' '=']]\n",
      "==========================\n",
      "LBI\n",
      "[['=' '<' 'l~' 'l~']\n",
      " ['>' '=' '>' '>']\n",
      " ['l~' '<' '=' '<|=']\n",
      " ['l~' '<' '=|>' '=']]\n",
      "==========================\n",
      "LB\n",
      "[['=' '<|=' 'l~' '<']\n",
      " ['=|>' '=' 'l~' '<']\n",
      " ['l~' 'l~' '=' '<']\n",
      " ['>' '>' '>' '=']]\n",
      "==========================\n",
      "L~\n",
      "[['=' '<|=' 'l~' 'l~']\n",
      " ['=|>' '=' 'l~' 'l~']\n",
      " ['l~' 'l~' '=' '<|=']\n",
      " ['l~' 'l~' '=|>' '=']]\n",
      "\n",
      "24 consistent networks\n"
     ]
    }
   ],
   "source": [
    "count = 0\n",
    "consistent_nets = dict()\n",
    "for elem13 in pt_alg.elements:\n",
    "    for elem23 in pt_alg.elements:\n",
    "        for elem14 in pt_alg.elements:\n",
    "            for elem24 in pt_alg.elements:\n",
    "                net, pt1, pt2, pt3, pt4 = four_point_network(pt_alg, \"<|=\")\n",
    "                rs13 = pt_alg.relset(elem13)\n",
    "                rs23 = pt_alg.relset(elem23)\n",
    "                rs14 = pt_alg.relset(elem14)\n",
    "                rs24 = pt_alg.relset(elem24)\n",
    "                net.add_constraint(pt1, pt3, rs13)\n",
    "                net.add_constraint(pt2, pt3, rs23)\n",
    "                net.add_constraint(pt1, pt4, rs14)\n",
    "                net.add_constraint(pt2, pt4, rs24)\n",
    "                if net.propagate():\n",
    "                    count += 1\n",
    "                    elem_key = \",\".join([str(rs13), str(rs14), str(rs23), str(rs24)])\n",
    "                    print(\"==========================\")\n",
    "                    if elem_key in key_name_mapping:\n",
    "                        print(key_name_mapping[elem_key])\n",
    "                    else:\n",
    "                        print(\"UNKNOWN\")\n",
    "                    #print_4point_constraint_matrix(net, pt1, pt2, pt3, pt4)\n",
    "                    print(np.matrix(constraint_matrix_to_list(net, pt1, pt2, pt3, pt4)))\n",
    "                    consistent_nets[key_name_mapping[elem_key]] = net\n",
    "print(f\"\\n{count} consistent networks\")"
   ]
  },
  {
   "cell_type": "code",
   "execution_count": 7,
   "metadata": {},
   "outputs": [
    {
     "data": {
      "text/plain": [
       "{'B': <qualreas.Network at 0x7fa8c09e5dd8>,\n",
       " 'M': <qualreas.Network at 0x7fa8a0502f60>,\n",
       " 'PFI': <qualreas.Network at 0x7fa8704ccda0>,\n",
       " 'O': <qualreas.Network at 0x7fa8c09dee10>,\n",
       " 'FI': <qualreas.Network at 0x7fa8c09deeb8>,\n",
       " 'DI': <qualreas.Network at 0x7fa8c09defd0>,\n",
       " 'PS': <qualreas.Network at 0x7fa8a080ef98>,\n",
       " 'PE': <qualreas.Network at 0x7fa8c09ea908>,\n",
       " 'S': <qualreas.Network at 0x7fa8a080ffd0>,\n",
       " 'E': <qualreas.Network at 0x7fa8c09c3f98>,\n",
       " 'SI': <qualreas.Network at 0x7fa8c09de7b8>,\n",
       " 'PSI': <qualreas.Network at 0x7fa8a081a860>,\n",
       " 'D': <qualreas.Network at 0x7fa8a0822f98>,\n",
       " 'F': <qualreas.Network at 0x7fa8a0816860>,\n",
       " 'OI': <qualreas.Network at 0x7fa8a0822ef0>,\n",
       " 'PF': <qualreas.Network at 0x7fa8a0824fd0>,\n",
       " 'MI': <qualreas.Network at 0x7fa8a08248d0>,\n",
       " 'BI': <qualreas.Network at 0x7fa8a082e860>,\n",
       " 'LO': <qualreas.Network at 0x7fa8a0838ef0>,\n",
       " 'LF': <qualreas.Network at 0x7fa8a08288d0>,\n",
       " 'LOI': <qualreas.Network at 0x7fa8a083b4a8>,\n",
       " 'LBI': <qualreas.Network at 0x7fa8a0840ba8>,\n",
       " 'LB': <qualreas.Network at 0x7fa8a08452b0>,\n",
       " 'L~': <qualreas.Network at 0x7fa8a0845c50>}"
      ]
     },
     "execution_count": 7,
     "metadata": {},
     "output_type": "execute_result"
    }
   ],
   "source": [
    "consistent_nets"
   ]
  },
  {
   "cell_type": "code",
   "execution_count": 8,
   "metadata": {},
   "outputs": [
    {
     "data": {
      "text/plain": [
       "<TemporalEntity StartPt2 ['Point']>"
      ]
     },
     "execution_count": 8,
     "metadata": {},
     "output_type": "execute_result"
    }
   ],
   "source": [
    "consistent_nets['B'].get_entity('StartPt2')"
   ]
  },
  {
   "cell_type": "code",
   "execution_count": 9,
   "metadata": {},
   "outputs": [],
   "source": [
    "consistent_nets['B'].get_entity('foo')"
   ]
  },
  {
   "cell_type": "code",
   "execution_count": null,
   "metadata": {},
   "outputs": [],
   "source": []
  },
  {
   "cell_type": "code",
   "execution_count": 10,
   "metadata": {},
   "outputs": [],
   "source": [
    "orig = consistent_nets['B']"
   ]
  },
  {
   "cell_type": "code",
   "execution_count": 11,
   "metadata": {},
   "outputs": [
    {
     "name": "stdout",
     "output_type": "stream",
     "text": [
      "['StartPt1', 'EndPt1', 'StartPt2', 'EndPt2']\n",
      "  =  <|=  <  <\n",
      "  =|>  =  <  <\n",
      "  >  >  =  <|=\n",
      "  >  >  =|>  =\n"
     ]
    }
   ],
   "source": [
    "orig.print_as_matrix()"
   ]
  },
  {
   "cell_type": "code",
   "execution_count": 12,
   "metadata": {},
   "outputs": [
    {
     "ename": "AttributeError",
     "evalue": "'Network' object has no attribute 'converse'",
     "output_type": "error",
     "traceback": [
      "\u001b[0;31m---------------------------------------------------------------------------\u001b[0m",
      "\u001b[0;31mAttributeError\u001b[0m                            Traceback (most recent call last)",
      "\u001b[0;32m<ipython-input-12-32bbfb094595>\u001b[0m in \u001b[0;36m<module>\u001b[0;34m\u001b[0m\n\u001b[0;32m----> 1\u001b[0;31m \u001b[0morig\u001b[0m\u001b[0;34m.\u001b[0m\u001b[0mconverse\u001b[0m\u001b[0;34m(\u001b[0m\u001b[0;34m)\u001b[0m\u001b[0;34m\u001b[0m\u001b[0;34m\u001b[0m\u001b[0m\n\u001b[0m",
      "\u001b[0;31mAttributeError\u001b[0m: 'Network' object has no attribute 'converse'"
     ]
    }
   ],
   "source": [
    "orig.converse()"
   ]
  },
  {
   "cell_type": "code",
   "execution_count": null,
   "metadata": {},
   "outputs": [],
   "source": [
    "orig_nodes = list(orig.nodes())\n",
    "orig_nodes"
   ]
  },
  {
   "cell_type": "code",
   "execution_count": null,
   "metadata": {},
   "outputs": [],
   "source": [
    "pts = list(orig.edges(orig_nodes[0], orig_nodes[1]))[0]\n",
    "pts"
   ]
  },
  {
   "cell_type": "code",
   "execution_count": null,
   "metadata": {},
   "outputs": [],
   "source": [
    "pts['constraints']"
   ]
  },
  {
   "cell_type": "code",
   "execution_count": null,
   "metadata": {},
   "outputs": [],
   "source": []
  }
 ],
 "metadata": {
  "kernelspec": {
   "display_name": "Python 3",
   "language": "python",
   "name": "python3"
  },
  "language_info": {
   "codemirror_mode": {
    "name": "ipython",
    "version": 3
   },
   "file_extension": ".py",
   "mimetype": "text/x-python",
   "name": "python",
   "nbconvert_exporter": "python",
   "pygments_lexer": "ipython3",
   "version": "3.7.3"
  }
 },
 "nbformat": 4,
 "nbformat_minor": 2
}
