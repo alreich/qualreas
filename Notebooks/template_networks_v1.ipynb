{
 "cells": [
  {
   "cell_type": "markdown",
   "metadata": {},
   "source": [
    "# Template Network Definitions"
   ]
  },
  {
   "cell_type": "markdown",
   "metadata": {},
   "source": [
    "<i>Version 1</i>"
   ]
  },
  {
   "cell_type": "markdown",
   "metadata": {},
   "source": [
    "## References"
   ]
  },
  {
   "cell_type": "markdown",
   "metadata": {},
   "source": [
    "1. [\"Maintaining Knowledge about Temporal Intervals\" by James F. Allen](https://cse.unl.edu/~choueiry/Documents/Allen-CACM1983.pdf) - Allen's original paper (PDF)\n",
    "1. [Allen's Interval Algebra](https://www.ics.uci.edu/~alspaugh/cls/shr/allen.html) or [here](https://thomasalspaugh.org/pub/fnd/allen.html) - summarizes Allen's algebra of proper time intervals\n",
    "1. [W3C Time Ontology in OWL](https://www.w3.org/TR/owl-time/) - temporal vocabulary used here is based on the W3C vocabulary of time\n",
    "1. [bitsets Python package](https://bitsets.readthedocs.io/en/stable/) - used to implement Algebra relation sets and operations\n",
    "1. [NetworkX Python package](http://networkx.github.io/) - used to represent directed graph of constraints\n",
    "1. [Python format string syntax](https://docs.python.org/3/library/string.html#format-string-syntax) - used in Algebra summary method\n",
    "1. [Spatial Ontology](https://www.w3.org/2017/sdwig/bp/) - I'm still looking for a standard spatial vocabulary; maybe start here\n",
    "1. [Qualitative Spatial Relations (QSR) Library](https://qsrlib.readthedocs.io/en/latest/index.html) - an alternative library to the one defined here"
   ]
  },
  {
   "cell_type": "markdown",
   "metadata": {},
   "source": [
    "## Dependencies"
   ]
  },
  {
   "cell_type": "code",
   "execution_count": 23,
   "metadata": {},
   "outputs": [],
   "source": [
    "import os\n",
    "import qualreas as qr"
   ]
  },
  {
   "cell_type": "code",
   "execution_count": 24,
   "metadata": {},
   "outputs": [],
   "source": [
    "path = os.path.join(os.getenv('PYPROJ'), 'qualreas')"
   ]
  },
  {
   "cell_type": "code",
   "execution_count": 41,
   "metadata": {},
   "outputs": [],
   "source": [
    "#pt_alg = qr.Algebra(os.path.join(path, \"Algebras/LinearPointAlgebra.json\"))\n",
    "pt_alg = qr.Algebra(os.path.join(path, \"Algebras/RightBranchingPointAlgebra.json\"))\n",
    "#pt_alg = qr.Algebra(os.path.join(path, \"Algebras/LeftBranchingPointAlgebra.json\"))"
   ]
  },
  {
   "cell_type": "markdown",
   "metadata": {},
   "source": [
    "## Create Template 4-Point Network"
   ]
  },
  {
   "cell_type": "code",
   "execution_count": 42,
   "metadata": {},
   "outputs": [],
   "source": [
    "def four_point_network(alg, lessthan_symbol, verbose=False):\n",
    "    net = qr.Network(alg, \"Four Point Network\")\n",
    "    lessthan = alg.relset(lessthan_symbol)\n",
    "    # Start & End Points of Interval 1\n",
    "    start1 = qr.TemporalEntity([\"Point\"], name=\"StartPt1\")\n",
    "    end1   = qr.TemporalEntity([\"Point\"], name=  \"EndPt1\")\n",
    "    # Start & End Points of Interval 2\n",
    "    start2 = qr.TemporalEntity([\"Point\"], name=\"StartPt2\")\n",
    "    end2   = qr.TemporalEntity([\"Point\"], name=  \"EndPt2\")\n",
    "    net.add_constraint(start1, end1, lessthan, verbose)\n",
    "    net.add_constraint(start2, end2, lessthan, verbose)\n",
    "    return net, start1, end1, start2, end2"
   ]
  },
  {
   "cell_type": "code",
   "execution_count": 43,
   "metadata": {},
   "outputs": [],
   "source": [
    "net4pt, s1, e1, s2, e2 = four_point_network(pt_alg, \"<|=\")"
   ]
  },
  {
   "cell_type": "code",
   "execution_count": 44,
   "metadata": {},
   "outputs": [
    {
     "name": "stdout",
     "output_type": "stream",
     "text": [
      "\n",
      "Four Point Network: 4 nodes, 8 edges\n",
      "  Algebra: RightBranchingPointAlgebra\n",
      "  StartPt1:\n",
      "    => StartPt1: =\n",
      "    => EndPt1: <|=\n",
      "  EndPt1:\n",
      "    => EndPt1: =\n",
      "    => StartPt1: =|>\n",
      "  StartPt2:\n",
      "    => StartPt2: =\n",
      "    => EndPt2: <|=\n",
      "  EndPt2:\n",
      "    => EndPt2: =\n",
      "    => StartPt2: =|>\n"
     ]
    }
   ],
   "source": [
    "net4pt.summary()"
   ]
  },
  {
   "cell_type": "code",
   "execution_count": 45,
   "metadata": {},
   "outputs": [],
   "source": [
    "key_name_mapping = {\n",
    "    '<,<,<,<': 'B', '>,>,>,>': 'BI',\n",
    "    '>,<,>,<': 'D', '<,<,>,>': 'DI',\n",
    "    '=,<,>,=': 'E', '=,=,=,=': 'PE',\n",
    "    '>,<,>,=': 'F', '<,<,>,=': 'FI',\n",
    "    '<,<,=,<': 'M', '>,=,>,>': 'MI',\n",
    "    '<,<,>,<': 'O', '>,<,>,>': 'OI',\n",
    "    '=,<,>,<': 'S', '=,<,>,>': 'SI',\n",
    "    '>,=,>,=': 'PF', '<,<,=,=': 'PFI',\n",
    "    '=,<,=,<': 'PS', '=,=,>,>': 'PSI'\n",
    "}"
   ]
  },
  {
   "cell_type": "code",
   "execution_count": 46,
   "metadata": {},
   "outputs": [],
   "source": [
    "def print_4point_constraint_matrix(net, s1, e1, s2, e2):\n",
    "    pts = [s1, e1, s2, e2]\n",
    "    for a in pts:\n",
    "        row = \"\"\n",
    "        for b in pts:\n",
    "            row += \"  \" + str(net.edges[a, b]['constraint'])\n",
    "        print(row)    "
   ]
  },
  {
   "cell_type": "markdown",
   "metadata": {},
   "source": [
    "Viewing the network as a matrix, 'elem13', refers to the element in row 1, col 3, and so on for 'elem23', etc.  The matrix is 4x4, so if we partition it into four 2x2 matrices, then the two partiions on the diagonal represent two intervals and the two off-diagonal partitions represent how those two intervals relate to each other. Also, the off-diagonal 2x2 partitions are converse transposes of each other.  Oh, and the intervals represented by the diagonal partitions could be intervals, proper intervals, or points."
   ]
  },
  {
   "cell_type": "code",
   "execution_count": 47,
   "metadata": {},
   "outputs": [
    {
     "name": "stdout",
     "output_type": "stream",
     "text": [
      "======================\n",
      "B\n",
      "  =  <|=  <  <\n",
      "  =|>  =  <  <\n",
      "  >  >  =  <|=\n",
      "  >  >  =|>  =\n",
      "======================\n",
      "M\n",
      "  =  <  <  <\n",
      "  >  =  =  <\n",
      "  >  =  =  <\n",
      "  >  >  >  =\n",
      "======================\n",
      "PFI\n",
      "  =  <  <  <\n",
      "  >  =  =  =\n",
      "  >  =  =  =\n",
      "  >  =  =  =\n",
      "======================\n",
      "O\n",
      "  =  <  <  <\n",
      "  >  =  >  <\n",
      "  >  <  =  <\n",
      "  >  >  >  =\n",
      "======================\n",
      "FI\n",
      "  =  <  <  <\n",
      "  >  =  >  =\n",
      "  >  <  =  <\n",
      "  >  =  >  =\n",
      "======================\n",
      "DI\n",
      "  =  <  <  <\n",
      "  >  =  >  >\n",
      "  >  <  =  <|=\n",
      "  >  <  =|>  =\n",
      "======================\n",
      "UNKNOWN\n",
      "  =  <  <  <\n",
      "  >  =  >  r~\n",
      "  >  <  =  <\n",
      "  >  r~  >  =\n",
      "======================\n",
      "UNKNOWN\n",
      "  =  <  <  <\n",
      "  >  =  r~  r~\n",
      "  >  r~  =  <|=\n",
      "  >  r~  =|>  =\n",
      "======================\n",
      "PS\n",
      "  =  =  =  <\n",
      "  =  =  =  <\n",
      "  =  =  =  <\n",
      "  >  >  >  =\n",
      "======================\n",
      "PE\n",
      "  =  =  =  =\n",
      "  =  =  =  =\n",
      "  =  =  =  =\n",
      "  =  =  =  =\n",
      "======================\n",
      "S\n",
      "  =  <  =  <\n",
      "  >  =  >  <\n",
      "  =  <  =  <\n",
      "  >  >  >  =\n",
      "======================\n",
      "E\n",
      "  =  <  =  <\n",
      "  >  =  >  =\n",
      "  =  <  =  <\n",
      "  >  =  >  =\n",
      "======================\n",
      "SI\n",
      "  =  <  =  <\n",
      "  >  =  >  >\n",
      "  =  <  =  <\n",
      "  >  <  >  =\n",
      "======================\n",
      "UNKNOWN\n",
      "  =  <  =  <\n",
      "  >  =  >  r~\n",
      "  =  <  =  <\n",
      "  >  r~  >  =\n",
      "======================\n",
      "PSI\n",
      "  =  <  =  =\n",
      "  >  =  >  >\n",
      "  =  <  =  =\n",
      "  =  <  =  =\n",
      "======================\n",
      "D\n",
      "  =  <|=  >  <\n",
      "  =|>  =  >  <\n",
      "  <  <  =  <\n",
      "  >  >  >  =\n",
      "======================\n",
      "F\n",
      "  =  <  >  <\n",
      "  >  =  >  =\n",
      "  <  <  =  <\n",
      "  >  =  >  =\n",
      "======================\n",
      "OI\n",
      "  =  <  >  <\n",
      "  >  =  >  >\n",
      "  <  <  =  <\n",
      "  >  <  >  =\n",
      "======================\n",
      "UNKNOWN\n",
      "  =  <  >  <\n",
      "  >  =  >  r~\n",
      "  <  <  =  <\n",
      "  >  r~  >  =\n",
      "======================\n",
      "PF\n",
      "  =  =  >  =\n",
      "  =  =  >  =\n",
      "  <  <  =  <\n",
      "  =  =  >  =\n",
      "======================\n",
      "MI\n",
      "  =  <  >  =\n",
      "  >  =  >  >\n",
      "  <  <  =  <\n",
      "  =  <  >  =\n",
      "======================\n",
      "BI\n",
      "  =  <|=  >  >\n",
      "  =|>  =  >  >\n",
      "  <  <  =  <|=\n",
      "  <  <  =|>  =\n",
      "======================\n",
      "UNKNOWN\n",
      "  =  <|=  >  r~\n",
      "  =|>  =  >  r~\n",
      "  <  <  =  <\n",
      "  r~  r~  >  =\n",
      "======================\n",
      "UNKNOWN\n",
      "  =  <|=  r~  r~\n",
      "  =|>  =  r~  r~\n",
      "  r~  r~  =  <|=\n",
      "  r~  r~  =|>  =\n",
      "\n",
      "24 consistent networks\n"
     ]
    }
   ],
   "source": [
    "count = 0\n",
    "consistent_nets = dict()\n",
    "for elem13 in pt_alg.elements:\n",
    "    for elem23 in pt_alg.elements:\n",
    "        for elem14 in pt_alg.elements:\n",
    "            for elem24 in pt_alg.elements:\n",
    "                net, pt1, pt2, pt3, pt4 = four_point_network(pt_alg, \"<|=\")\n",
    "                rs13 = pt_alg.relset(elem13)\n",
    "                rs23 = pt_alg.relset(elem23)\n",
    "                rs14 = pt_alg.relset(elem14)\n",
    "                rs24 = pt_alg.relset(elem24)\n",
    "                net.add_constraint(pt1, pt3, rs13)\n",
    "                net.add_constraint(pt2, pt3, rs23)\n",
    "                net.add_constraint(pt1, pt4, rs14)\n",
    "                net.add_constraint(pt2, pt4, rs24)\n",
    "                if net.propagate():\n",
    "                    count += 1\n",
    "                    elem_key = \",\".join([str(rs13), str(rs14), str(rs23), str(rs24)])\n",
    "                    print(\"======================\")\n",
    "                    if elem_key in key_name_mapping:\n",
    "                        print(key_name_mapping[elem_key])\n",
    "                    else:\n",
    "                        print(\"UNKNOWN\")\n",
    "                    print_4point_constraint_matrix(net, pt1, pt2, pt3, pt4)\n",
    "                    consistent_nets[elem_key] = net\n",
    "print(f\"\\n{count} consistent networks\")"
   ]
  },
  {
   "cell_type": "code",
   "execution_count": 48,
   "metadata": {},
   "outputs": [
    {
     "name": "stdout",
     "output_type": "stream",
     "text": [
      "B : <,<,<,< : <qualreas.Network object at 0x7fc938ac0850>\n",
      "M : <,<,=,< : <qualreas.Network object at 0x7fc938ac0490>\n",
      "PFI : <,<,=,= : <qualreas.Network object at 0x7fc93843cc50>\n",
      "O : <,<,>,< : <qualreas.Network object at 0x7fc938ac0810>\n",
      "FI : <,<,>,= : <qualreas.Network object at 0x7fc938431510>\n",
      "DI : <,<,>,> : <qualreas.Network object at 0x7fc93843c6d0>\n"
     ]
    },
    {
     "ename": "KeyError",
     "evalue": "'<,<,>,r~'",
     "output_type": "error",
     "traceback": [
      "\u001b[0;31m---------------------------------------------------------------------------\u001b[0m",
      "\u001b[0;31mKeyError\u001b[0m                                  Traceback (most recent call last)",
      "\u001b[0;32m<ipython-input-48-f123b1310d07>\u001b[0m in \u001b[0;36m<module>\u001b[0;34m\u001b[0m\n\u001b[1;32m      1\u001b[0m \u001b[0;32mfor\u001b[0m \u001b[0mkey\u001b[0m \u001b[0;32min\u001b[0m \u001b[0mconsistent_nets\u001b[0m\u001b[0;34m:\u001b[0m\u001b[0;34m\u001b[0m\u001b[0;34m\u001b[0m\u001b[0m\n\u001b[0;32m----> 2\u001b[0;31m     \u001b[0mprint\u001b[0m\u001b[0;34m(\u001b[0m\u001b[0;34mf\"{key_name_mapping[key]} : {key} : {repr(consistent_nets[key])}\"\u001b[0m\u001b[0;34m)\u001b[0m\u001b[0;34m\u001b[0m\u001b[0;34m\u001b[0m\u001b[0m\n\u001b[0m",
      "\u001b[0;31mKeyError\u001b[0m: '<,<,>,r~'"
     ]
    }
   ],
   "source": [
    "for key in consistent_nets:\n",
    "    print(f\"{key_name_mapping[key]} : {key} : {repr(consistent_nets[key])}\")"
   ]
  },
  {
   "cell_type": "code",
   "execution_count": null,
   "metadata": {},
   "outputs": [],
   "source": []
  }
 ],
 "metadata": {
  "kernelspec": {
   "display_name": "Python 3",
   "language": "python",
   "name": "python3"
  },
  "language_info": {
   "codemirror_mode": {
    "name": "ipython",
    "version": 3
   },
   "file_extension": ".py",
   "mimetype": "text/x-python",
   "name": "python",
   "nbconvert_exporter": "python",
   "pygments_lexer": "ipython3",
   "version": "3.7.4"
  }
 },
 "nbformat": 4,
 "nbformat_minor": 2
}
