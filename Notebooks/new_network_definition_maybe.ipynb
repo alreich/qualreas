{
 "cells": [
  {
   "cell_type": "markdown",
   "metadata": {},
   "source": [
    "# New Network Definition (Maybe)"
   ]
  },
  {
   "cell_type": "code",
   "execution_count": 1,
   "metadata": {},
   "outputs": [],
   "source": [
    "import qualreas as qr\n",
    "import os\n",
    "import json\n",
    "import networkx as nx"
   ]
  },
  {
   "cell_type": "code",
   "execution_count": 2,
   "metadata": {},
   "outputs": [
    {
     "name": "stdout",
     "output_type": "stream",
     "text": [
      "/Users/alfredreich/Documents/Github/repo/qualreas\n"
     ]
    }
   ],
   "source": [
    "path = os.path.join(os.getenv('PYPROJ'), 'qualreas')\n",
    "print(path)"
   ]
  },
  {
   "cell_type": "code",
   "execution_count": 3,
   "metadata": {},
   "outputs": [],
   "source": [
    "apath = path + \"/Algebras/\""
   ]
  },
  {
   "cell_type": "code",
   "execution_count": 4,
   "metadata": {},
   "outputs": [],
   "source": [
    "nssdf_dict = {\n",
    "    'name': 'NSSDF 2009 Example 2',\n",
    "    'algebra': 'Extended_Linear_Interval_Algebra',\n",
    "    'description': 'Using Semantic Web Technology to Exploit Soft Information',\n",
    "    'nodes': [['Yesterday', ['ProperInterval']],\n",
    "              ['Today', ['ProperInterval']],\n",
    "              ['Yesterday_Morning', ['ProperInterval']],\n",
    "              ['Yesterday_Evening', ['ProperInterval']],\n",
    "              ['Time_of_Obs', ['Point']],\n",
    "              ['Time_of_Arrest', ['Point']],\n",
    "              ['Time_of_Release', ['Point']],\n",
    "              ['Period_of_Detention', ['ProperInterval', 'Point']]\n",
    "             ],\n",
    "    'edges': [['Yesterday', 'Today', 'M'],\n",
    "              ['Yesterday', 'Yesterday_Morning', 'SI'],\n",
    "              ['Yesterday', 'Yesterday_Evening', 'FI'],\n",
    "              ['Today', 'Time_of_Release', 'DI'],\n",
    "              ['Yesterday_Morning', 'Yesterday_Evening', 'B'],\n",
    "              ['Yesterday_Morning', 'Time_of_Arrest', 'DI'],\n",
    "              ['Yesterday_Evening', 'Time_of_Obs', 'DI'],\n",
    "              ['Time_of_Arrest', 'Period_of_Detention', 'PS'],\n",
    "              ['Time_of_Release', 'Period_of_Detention', 'PF']\n",
    "             ]\n",
    "}"
   ]
  },
  {
   "cell_type": "code",
   "execution_count": 6,
   "metadata": {},
   "outputs": [],
   "source": [
    "def constraint_network_from_dict(net_dict):\n",
    "    dg = nx.DiGraph()\n",
    "    dg.graph['name'] = net_dict['name']\n",
    "    dg.graph['algebra'] = net_dict['algebra']\n",
    "    dg.graph['description'] = net_dict['description']\n",
    "    for node in net_dict['nodes']:\n",
    "        dg.add_node(node[0], classes=node[1])\n",
    "    for edge in net_dict['edges']:\n",
    "        dg.add_edge(edge[0], edge[1], constraints=edge[2])\n",
    "    return dg"
   ]
  },
  {
   "cell_type": "code",
   "execution_count": null,
   "metadata": {},
   "outputs": [],
   "source": []
  },
  {
   "cell_type": "code",
   "execution_count": 7,
   "metadata": {},
   "outputs": [
    {
     "data": {
      "text/plain": [
       "<networkx.classes.digraph.DiGraph at 0x7ffd3292ae10>"
      ]
     },
     "execution_count": 7,
     "metadata": {},
     "output_type": "execute_result"
    }
   ],
   "source": [
    "nssdf_net = constraint_network_from_dict(nssdf_dict)\n",
    "nssdf_net"
   ]
  },
  {
   "cell_type": "code",
   "execution_count": 9,
   "metadata": {},
   "outputs": [
    {
     "data": {
      "text/plain": [
       "{'directed': True,\n",
       " 'multigraph': False,\n",
       " 'graph': {'name': 'NSSDF 2009 Example 2',\n",
       "  'algebra': 'Extended_Linear_Interval_Algebra',\n",
       "  'description': 'Using Semantic Web Technology to Exploit Soft Information'},\n",
       " 'nodes': [{'classes': ['ProperInterval'], 'id': 'Yesterday'},\n",
       "  {'classes': ['ProperInterval'], 'id': 'Today'},\n",
       "  {'classes': ['ProperInterval'], 'id': 'Yesterday_Morning'},\n",
       "  {'classes': ['ProperInterval'], 'id': 'Yesterday_Evening'},\n",
       "  {'classes': ['Point'], 'id': 'Time_of_Obs'},\n",
       "  {'classes': ['Point'], 'id': 'Time_of_Arrest'},\n",
       "  {'classes': ['Point'], 'id': 'Time_of_Release'},\n",
       "  {'classes': ['ProperInterval', 'Point'], 'id': 'Period_of_Detention'}],\n",
       " 'links': [{'constraints': 'M', 'source': 'Yesterday', 'target': 'Today'},\n",
       "  {'constraints': 'SI', 'source': 'Yesterday', 'target': 'Yesterday_Morning'},\n",
       "  {'constraints': 'FI', 'source': 'Yesterday', 'target': 'Yesterday_Evening'},\n",
       "  {'constraints': 'DI', 'source': 'Today', 'target': 'Time_of_Release'},\n",
       "  {'constraints': 'B',\n",
       "   'source': 'Yesterday_Morning',\n",
       "   'target': 'Yesterday_Evening'},\n",
       "  {'constraints': 'DI',\n",
       "   'source': 'Yesterday_Morning',\n",
       "   'target': 'Time_of_Arrest'},\n",
       "  {'constraints': 'DI',\n",
       "   'source': 'Yesterday_Evening',\n",
       "   'target': 'Time_of_Obs'},\n",
       "  {'constraints': 'PS',\n",
       "   'source': 'Time_of_Arrest',\n",
       "   'target': 'Period_of_Detention'},\n",
       "  {'constraints': 'PF',\n",
       "   'source': 'Time_of_Release',\n",
       "   'target': 'Period_of_Detention'}]}"
      ]
     },
     "execution_count": 9,
     "metadata": {},
     "output_type": "execute_result"
    }
   ],
   "source": [
    "nx.node_link_data(nssdf_net)"
   ]
  },
  {
   "cell_type": "code",
   "execution_count": 26,
   "metadata": {},
   "outputs": [],
   "source": [
    "import ast\n",
    "\n",
    "file = open(path + \"/Networks/nssdfExample2_node_link_data.py\", \"r\")\n",
    "contents = file.read()\n",
    "dictionary = ast.literal_eval(contents)\n",
    "file.close()"
   ]
  },
  {
   "cell_type": "code",
   "execution_count": 27,
   "metadata": {},
   "outputs": [
    {
     "name": "stdout",
     "output_type": "stream",
     "text": [
      "{'directed': True,\n",
      " 'graph': {'algebra': 'Extended_Linear_Interval_Algebra',\n",
      "           'description': 'Using Semantic Web Technology to Exploit Soft '\n",
      "                          'Information',\n",
      "           'name': 'NSSDF 2009 Example 2'},\n",
      " 'links': [{'constraints': 'M', 'source': 'Yesterday', 'target': 'Today'},\n",
      "           {'constraints': 'SI',\n",
      "            'source': 'Yesterday',\n",
      "            'target': 'Yesterday_Morning'},\n",
      "           {'constraints': 'FI',\n",
      "            'source': 'Yesterday',\n",
      "            'target': 'Yesterday_Evening'},\n",
      "           {'constraints': 'DI',\n",
      "            'source': 'Today',\n",
      "            'target': 'Time_of_Release'},\n",
      "           {'constraints': 'B',\n",
      "            'source': 'Yesterday_Morning',\n",
      "            'target': 'Yesterday_Evening'},\n",
      "           {'constraints': 'DI',\n",
      "            'source': 'Yesterday_Morning',\n",
      "            'target': 'Time_of_Arrest'},\n",
      "           {'constraints': 'DI',\n",
      "            'source': 'Yesterday_Evening',\n",
      "            'target': 'Time_of_Obs'},\n",
      "           {'constraints': 'PS',\n",
      "            'source': 'Time_of_Arrest',\n",
      "            'target': 'Period_of_Detention'},\n",
      "           {'constraints': 'PF',\n",
      "            'source': 'Time_of_Release',\n",
      "            'target': 'Period_of_Detention'}],\n",
      " 'multigraph': False,\n",
      " 'nodes': [{'classes': ['ProperInterval'], 'id': 'Yesterday'},\n",
      "           {'classes': ['ProperInterval'], 'id': 'Today'},\n",
      "           {'classes': ['ProperInterval'], 'id': 'Yesterday_Morning'},\n",
      "           {'classes': ['ProperInterval'], 'id': 'Yesterday_Evening'},\n",
      "           {'classes': ['Point'], 'id': 'Time_of_Obs'},\n",
      "           {'classes': ['Point'], 'id': 'Time_of_Arrest'},\n",
      "           {'classes': ['Point'], 'id': 'Time_of_Release'},\n",
      "           {'classes': ['ProperInterval', 'Point'],\n",
      "            'id': 'Period_of_Detention'}]}\n"
     ]
    }
   ],
   "source": [
    "import pprint\n",
    "pprint.pprint(dictionary)"
   ]
  },
  {
   "cell_type": "code",
   "execution_count": null,
   "metadata": {},
   "outputs": [],
   "source": []
  }
 ],
 "metadata": {
  "kernelspec": {
   "display_name": "Python 3",
   "language": "python",
   "name": "python3"
  },
  "language_info": {
   "codemirror_mode": {
    "name": "ipython",
    "version": 3
   },
   "file_extension": ".py",
   "mimetype": "text/x-python",
   "name": "python",
   "nbconvert_exporter": "python",
   "pygments_lexer": "ipython3",
   "version": "3.7.7"
  }
 },
 "nbformat": 4,
 "nbformat_minor": 4
}
