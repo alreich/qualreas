{
 "cells": [
  {
   "cell_type": "markdown",
   "metadata": {},
   "source": [
    "# Figure 5 in Allen's 1983 paper"
   ]
  },
  {
   "cell_type": "code",
   "execution_count": 7,
   "metadata": {},
   "outputs": [],
   "source": [
    "import qualreas as qr\n",
    "import os\n",
    "from IPython.display import Image"
   ]
  },
  {
   "cell_type": "code",
   "execution_count": 8,
   "metadata": {},
   "outputs": [],
   "source": [
    "qr_path = os.path.join(os.getenv('PYPROJ'), 'qualreas')\n",
    "alg_dir = os.path.join(qr_path, \"Algebras\")\n",
    "fig5_file = os.path.join(qr_path, \"Networks\", \"Figure_5_in_Allens_1983_paper.json\")"
   ]
  },
  {
   "cell_type": "code",
   "execution_count": 19,
   "metadata": {},
   "outputs": [
    {
     "data": {
      "image/png": "[encoded data removed]",
      "text/plain": [
       "<IPython.core.display.Image object>"
      ]
     },
     "execution_count": 19,
     "metadata": {},
     "output_type": "execute_result"
    }
   ],
   "source": [
    "Image(\"Images/Figure_5_Allen_1983.png\")"
   ]
  },
  {
   "cell_type": "code",
   "execution_count": 20,
   "metadata": {},
   "outputs": [
    {
     "name": "stdout",
     "output_type": "stream",
     "text": [
      "{\r\n",
      "    \"name\": \"Figure 5 Allen 1983\",\r\n",
      "    \"algebra\": \"Linear_Interval_Algebra\",\r\n",
      "    \"description\": \"Fig. 5 in Maintaining Knowledge about Temporal Intervals by Allen\",\r\n",
      "    \"nodes\": [\r\n",
      "        [\"A\", [\"ProperInterval\"]],\r\n",
      "        [\"B\", [\"ProperInterval\"]],\r\n",
      "        [\"C\", [\"ProperInterval\"]],\r\n",
      "        [\"D\", [\"ProperInterval\"]]\r\n",
      "    ],\r\n",
      "    \"edges\": [\r\n",
      "        [\"A\", \"C\", \"F|FI\"],\r\n",
      "        [\"D\", \"A\", \"S|M\"],\r\n",
      "        [\"D\", \"C\", \"S|M\"],\r\n",
      "        [\"A\", \"B\", \"D|DI\"],\r\n",
      "        [\"B\", \"C\", \"D|DI\"],\r\n",
      "        [\"D\", \"B\", \"O\"]\r\n",
      "    ]\r\n",
      "}\r\n"
     ]
    }
   ],
   "source": [
    "!cat {fig5_file}"
   ]
  },
  {
   "cell_type": "code",
   "execution_count": 21,
   "metadata": {},
   "outputs": [],
   "source": [
    "fig5_net = qr.Network(algebra_path=alg_dir, json_file_name=fig5_file)"
   ]
  },
  {
   "cell_type": "code",
   "execution_count": 22,
   "metadata": {},
   "outputs": [
    {
     "name": "stdout",
     "output_type": "stream",
     "text": [
      "\n",
      "Figure 5 Allen 1983: 4 nodes, 16 edges\n",
      "  Algebra: Linear_Interval_Algebra\n",
      "  A:['ProperInterval']\n",
      "    => A: E\n",
      "    => C: F|FI\n",
      "    => D: MI|SI\n",
      "    => B: D|DI\n",
      "  C:['ProperInterval']\n",
      "    => C: E\n",
      "    => D: MI|SI\n",
      "    => B: D|DI\n",
      "  D:['ProperInterval']\n",
      "    => D: E\n",
      "    => B: O\n",
      "  B:['ProperInterval']\n",
      "    => B: E\n"
     ]
    }
   ],
   "source": [
    "fig5_net.summary()"
   ]
  },
  {
   "cell_type": "code",
   "execution_count": 25,
   "metadata": {},
   "outputs": [
    {
     "name": "stdout",
     "output_type": "stream",
     "text": [
      "Fig. 5 in Maintaining Knowledge about Temporal Intervals by Allen\n",
      "\n",
      "The network is consistent.  Here's a summary:\n",
      "\n",
      "Figure 5 Allen 1983: 4 nodes, 16 edges\n",
      "  Algebra: Linear_Interval_Algebra\n",
      "  A:['ProperInterval']\n",
      "    => A: E\n",
      "    => C: F|FI\n",
      "    => D: MI|SI\n",
      "    => B: D|DI\n",
      "  C:['ProperInterval']\n",
      "    => C: E\n",
      "    => D: MI|SI\n",
      "    => B: D|DI\n",
      "  D:['ProperInterval']\n",
      "    => D: E\n",
      "    => B: O\n",
      "  B:['ProperInterval']\n",
      "    => B: E\n"
     ]
    }
   ],
   "source": [
    "ok = fig5_net.propagate()\n",
    "\n",
    "print(fig5_net.description)\n",
    "print()\n",
    "if ok:\n",
    "    print(\"The network is consistent.  Here's a summary:\")\n",
    "    fig5_net.summary()\n",
    "else:\n",
    "    print(\"The network is inconsistent.\")"
   ]
  },
  {
   "cell_type": "code",
   "execution_count": 31,
   "metadata": {},
   "outputs": [
    {
     "name": "stdout",
     "output_type": "stream",
     "text": [
      "There are 32 possible singleton labelings.\n"
     ]
    }
   ],
   "source": [
    "singleton_labelings = fig5_net.all_singleton_labelings()\n",
    "print(f\"There are {len(singleton_labelings)} possible singleton labelings.\")"
   ]
  },
  {
   "cell_type": "code",
   "execution_count": 32,
   "metadata": {},
   "outputs": [
    {
     "name": "stdout",
     "output_type": "stream",
     "text": [
      "There are no consistent singleton labelings\n"
     ]
    }
   ],
   "source": [
    "consistent_labelings = fig5_net.consistent_singleton_labelings()\n",
    "\n",
    "if len(consistent_labelings) == 0:\n",
    "    print(\"There are no consistent singleton labelings\")\n",
    "else:\n",
    "    print(f\"There are {len(consistent_labelings)} consistent singleton labelings:\")"
   ]
  },
  {
   "cell_type": "code",
   "execution_count": null,
   "metadata": {},
   "outputs": [],
   "source": []
  }
 ],
 "metadata": {
  "kernelspec": {
   "display_name": "Python 3",
   "language": "python",
   "name": "python3"
  },
  "language_info": {
   "codemirror_mode": {
    "name": "ipython",
    "version": 3
   },
   "file_extension": ".py",
   "mimetype": "text/x-python",
   "name": "python",
   "nbconvert_exporter": "python",
   "pygments_lexer": "ipython3",
   "version": "3.7.7"
  }
 },
 "nbformat": 4,
 "nbformat_minor": 4
}
