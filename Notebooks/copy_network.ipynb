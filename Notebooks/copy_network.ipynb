{
 "cells": [
  {
   "cell_type": "markdown",
   "metadata": {},
   "source": [
    "# Copying a Network"
   ]
  },
  {
   "cell_type": "code",
   "execution_count": 1,
   "metadata": {},
   "outputs": [],
   "source": [
    "import qualreas as qr\n",
    "import os\n",
    "import copy"
   ]
  },
  {
   "cell_type": "code",
   "execution_count": 2,
   "metadata": {},
   "outputs": [],
   "source": [
    "qr_path = os.path.join(os.getenv('PYPROJ'), 'qualreas')\n",
    "alg_dir = os.path.join(qr_path, \"Algebras\")"
   ]
  },
  {
   "cell_type": "code",
   "execution_count": 3,
   "metadata": {},
   "outputs": [],
   "source": [
    "test1_net_dict = {\n",
    "    'name': 'Network Copy Test #1',\n",
    "    'algebra': 'Extended_Linear_Interval_Algebra',\n",
    "    'description': 'Testing/Developing network copy functionality',\n",
    "    'nodes': [\n",
    "        ['U', ['ProperInterval', 'Point']],\n",
    "        ['V', ['ProperInterval', 'Point']],\n",
    "        ['W', ['ProperInterval']],\n",
    "        ['X', ['Point']]\n",
    "    ],\n",
    "    'edges': [\n",
    "        ['U', 'V', 'B'],\n",
    "        ['U', 'W', 'B|M|O'],\n",
    "        ['W', 'V', 'O'],\n",
    "        ['X', 'W', 'D']\n",
    "    ]\n",
    "}"
   ]
  },
  {
   "cell_type": "code",
   "execution_count": 4,
   "metadata": {},
   "outputs": [
    {
     "name": "stdout",
     "output_type": "stream",
     "text": [
      "\n",
      "Network Copy Test #1: 4 nodes, 16 edges\n",
      "  Algebra: Extended_Linear_Interval_Algebra\n",
      "  U:['ProperInterval', 'Point']\n",
      "    => U: E|PE\n",
      "    => V: B\n",
      "    => W: B|M|O\n",
      "    => X: B|DI|PFI\n",
      "  V:['ProperInterval']\n",
      "    => V: E\n",
      "    => U: BI\n",
      "    => W: OI\n",
      "    => X: BI|DI|PSI\n",
      "  W:['ProperInterval']\n",
      "    => W: E\n",
      "    => U: BI|MI|OI\n",
      "    => V: O\n",
      "    => X: DI\n",
      "  X:['Point']\n",
      "    => X: PE\n",
      "    => W: D\n",
      "    => U: BI|D|PF\n",
      "    => V: B|D|PS\n"
     ]
    }
   ],
   "source": [
    "test1_net = qr.Network(algebra_path=alg_dir, network_dict=test1_net_dict)\n",
    "test1_net.propagate()\n",
    "test1_net.summary()"
   ]
  },
  {
   "cell_type": "markdown",
   "metadata": {},
   "source": [
    "## Copying Entities"
   ]
  },
  {
   "cell_type": "code",
   "execution_count": 5,
   "metadata": {},
   "outputs": [
    {
     "data": {
      "text/plain": [
       "TemporalEntity(['ProperInterval', 'Point'] 'TE1')"
      ]
     },
     "execution_count": 5,
     "metadata": {},
     "output_type": "execute_result"
    }
   ],
   "source": [
    "te1 = qr.TemporalEntity(['ProperInterval', 'Point'], \"TE1\")\n",
    "te1"
   ]
  },
  {
   "cell_type": "code",
   "execution_count": 6,
   "metadata": {},
   "outputs": [
    {
     "data": {
      "text/plain": [
       "TemporalEntity(['ProperInterval', 'Point'] 'TE1')"
      ]
     },
     "execution_count": 6,
     "metadata": {},
     "output_type": "execute_result"
    }
   ],
   "source": [
    "te1_copy = copy.copy(te1)\n",
    "te1_copy"
   ]
  },
  {
   "cell_type": "code",
   "execution_count": 7,
   "metadata": {},
   "outputs": [
    {
     "data": {
      "text/plain": [
       "False"
      ]
     },
     "execution_count": 7,
     "metadata": {},
     "output_type": "execute_result"
    }
   ],
   "source": [
    "te1 is te1_copy"
   ]
  },
  {
   "cell_type": "code",
   "execution_count": 8,
   "metadata": {},
   "outputs": [
    {
     "data": {
      "text/plain": [
       "False"
      ]
     },
     "execution_count": 8,
     "metadata": {},
     "output_type": "execute_result"
    }
   ],
   "source": [
    "te1 == te1_copy"
   ]
  },
  {
   "cell_type": "code",
   "execution_count": 9,
   "metadata": {},
   "outputs": [],
   "source": [
    "te1_copy.name = 'TE1 Copy'\n",
    "te1_copy.classes = ['Point']"
   ]
  },
  {
   "cell_type": "code",
   "execution_count": 10,
   "metadata": {},
   "outputs": [
    {
     "data": {
      "text/plain": [
       "TemporalEntity(['Point'] 'TE1 Copy')"
      ]
     },
     "execution_count": 10,
     "metadata": {},
     "output_type": "execute_result"
    }
   ],
   "source": [
    "te1_copy"
   ]
  },
  {
   "cell_type": "code",
   "execution_count": 11,
   "metadata": {},
   "outputs": [
    {
     "data": {
      "text/plain": [
       "TemporalEntity(['ProperInterval', 'Point'] 'TE1')"
      ]
     },
     "execution_count": 11,
     "metadata": {},
     "output_type": "execute_result"
    }
   ],
   "source": [
    "te1"
   ]
  },
  {
   "cell_type": "markdown",
   "metadata": {},
   "source": [
    "## Copying RelSets"
   ]
  },
  {
   "cell_type": "code",
   "execution_count": 12,
   "metadata": {},
   "outputs": [
    {
     "name": "stdout",
     "output_type": "stream",
     "text": [
      "Help on method relset in module qualreas:\n",
      "\n",
      "relset(relations) method of qualreas.Algebra instance\n",
      "    Return a relation set (bitset) for the given relations.\n",
      "\n"
     ]
    }
   ],
   "source": [
    "help(test1_net.algebra.relset)"
   ]
  },
  {
   "cell_type": "code",
   "execution_count": 13,
   "metadata": {},
   "outputs": [
    {
     "data": {
      "text/plain": [
       "relset(['B', 'M', 'O'])"
      ]
     },
     "execution_count": 13,
     "metadata": {},
     "output_type": "execute_result"
    }
   ],
   "source": [
    "rs1 = test1_net.algebra.relset(\"B|M|O\")\n",
    "rs1"
   ]
  },
  {
   "cell_type": "code",
   "execution_count": 14,
   "metadata": {},
   "outputs": [
    {
     "data": {
      "text/plain": [
       "relset(['B', 'M', 'O'])"
      ]
     },
     "execution_count": 14,
     "metadata": {},
     "output_type": "execute_result"
    }
   ],
   "source": [
    "rs1_copy = rs1.copy()\n",
    "rs1_copy"
   ]
  },
  {
   "cell_type": "code",
   "execution_count": 15,
   "metadata": {},
   "outputs": [
    {
     "data": {
      "text/plain": [
       "True"
      ]
     },
     "execution_count": 15,
     "metadata": {},
     "output_type": "execute_result"
    }
   ],
   "source": [
    "rs1 is rs1_copy"
   ]
  },
  {
   "cell_type": "code",
   "execution_count": 16,
   "metadata": {},
   "outputs": [
    {
     "data": {
      "text/plain": [
       "True"
      ]
     },
     "execution_count": 16,
     "metadata": {},
     "output_type": "execute_result"
    }
   ],
   "source": [
    "rs1 == rs1_copy"
   ]
  },
  {
   "cell_type": "code",
   "execution_count": 17,
   "metadata": {},
   "outputs": [
    {
     "data": {
      "text/plain": [
       "relset(['B', 'M', 'O'])"
      ]
     },
     "execution_count": 17,
     "metadata": {},
     "output_type": "execute_result"
    }
   ],
   "source": [
    "rs1_copy2 = copy.copy(rs1)\n",
    "rs1_copy2"
   ]
  },
  {
   "cell_type": "code",
   "execution_count": 18,
   "metadata": {},
   "outputs": [
    {
     "data": {
      "text/plain": [
       "False"
      ]
     },
     "execution_count": 18,
     "metadata": {},
     "output_type": "execute_result"
    }
   ],
   "source": [
    "rs1 is rs1_copy2"
   ]
  },
  {
   "cell_type": "code",
   "execution_count": 19,
   "metadata": {},
   "outputs": [
    {
     "data": {
      "text/plain": [
       "True"
      ]
     },
     "execution_count": 19,
     "metadata": {},
     "output_type": "execute_result"
    }
   ],
   "source": [
    "rs1 == rs1_copy2"
   ]
  },
  {
   "cell_type": "markdown",
   "metadata": {},
   "source": [
    "## Copying Networks"
   ]
  },
  {
   "cell_type": "code",
   "execution_count": 20,
   "metadata": {},
   "outputs": [
    {
     "name": "stdout",
     "output_type": "stream",
     "text": [
      "TemporalEntity(['ProperInterval', 'Point'] 'U')\n",
      "TemporalEntity(['ProperInterval'] 'V')\n",
      "TemporalEntity(['ProperInterval'] 'W')\n",
      "TemporalEntity(['Point'] 'X')\n"
     ]
    }
   ],
   "source": [
    "for nd in test1_net.nodes:\n",
    "    print(nd)"
   ]
  },
  {
   "cell_type": "code",
   "execution_count": 21,
   "metadata": {},
   "outputs": [
    {
     "name": "stdout",
     "output_type": "stream",
     "text": [
      "Help on built-in function eval in module builtins:\n",
      "\n",
      "eval(source, globals=None, locals=None, /)\n",
      "    Evaluate the given source in the context of globals and locals.\n",
      "    \n",
      "    The source may be a string representing a Python expression\n",
      "    or a code object as returned by compile().\n",
      "    The globals must be a dictionary and locals can be any mapping,\n",
      "    defaulting to the current globals and locals.\n",
      "    If only globals is given, locals defaults to it.\n",
      "\n"
     ]
    }
   ],
   "source": [
    "help(eval)"
   ]
  },
  {
   "cell_type": "code",
   "execution_count": 22,
   "metadata": {},
   "outputs": [],
   "source": [
    "new_nodes = [copy.copy(nd) for nd in test1_net.nodes]"
   ]
  },
  {
   "cell_type": "code",
   "execution_count": 23,
   "metadata": {},
   "outputs": [
    {
     "data": {
      "text/plain": [
       "qualreas.TemporalEntity"
      ]
     },
     "execution_count": 23,
     "metadata": {},
     "output_type": "execute_result"
    }
   ],
   "source": [
    "type(new_nodes[0])"
   ]
  },
  {
   "cell_type": "code",
   "execution_count": 24,
   "metadata": {},
   "outputs": [
    {
     "name": "stdout",
     "output_type": "stream",
     "text": [
      "(TemporalEntity(['ProperInterval', 'Point'] 'U'), TemporalEntity(['ProperInterval', 'Point'] 'U'))\n",
      "(TemporalEntity(['ProperInterval', 'Point'] 'U'), TemporalEntity(['ProperInterval'] 'V'))\n",
      "(TemporalEntity(['ProperInterval', 'Point'] 'U'), TemporalEntity(['ProperInterval'] 'W'))\n",
      "(TemporalEntity(['ProperInterval', 'Point'] 'U'), TemporalEntity(['Point'] 'X'))\n",
      "(TemporalEntity(['ProperInterval'] 'V'), TemporalEntity(['ProperInterval'] 'V'))\n",
      "(TemporalEntity(['ProperInterval'] 'V'), TemporalEntity(['ProperInterval', 'Point'] 'U'))\n",
      "(TemporalEntity(['ProperInterval'] 'V'), TemporalEntity(['ProperInterval'] 'W'))\n",
      "(TemporalEntity(['ProperInterval'] 'V'), TemporalEntity(['Point'] 'X'))\n",
      "(TemporalEntity(['ProperInterval'] 'W'), TemporalEntity(['ProperInterval'] 'W'))\n",
      "(TemporalEntity(['ProperInterval'] 'W'), TemporalEntity(['ProperInterval', 'Point'] 'U'))\n",
      "(TemporalEntity(['ProperInterval'] 'W'), TemporalEntity(['ProperInterval'] 'V'))\n",
      "(TemporalEntity(['ProperInterval'] 'W'), TemporalEntity(['Point'] 'X'))\n",
      "(TemporalEntity(['Point'] 'X'), TemporalEntity(['Point'] 'X'))\n",
      "(TemporalEntity(['Point'] 'X'), TemporalEntity(['ProperInterval'] 'W'))\n",
      "(TemporalEntity(['Point'] 'X'), TemporalEntity(['ProperInterval', 'Point'] 'U'))\n",
      "(TemporalEntity(['Point'] 'X'), TemporalEntity(['ProperInterval'] 'V'))\n"
     ]
    }
   ],
   "source": [
    "for eg in test1_net.edges:\n",
    "    print(eg)"
   ]
  },
  {
   "cell_type": "code",
   "execution_count": 25,
   "metadata": {},
   "outputs": [
    {
     "data": {
      "text/plain": [
       "[(TemporalEntity(['ProperInterval', 'Point'] 'U'),\n",
       "  TemporalEntity(['ProperInterval', 'Point'] 'U')),\n",
       " (TemporalEntity(['ProperInterval', 'Point'] 'U'),\n",
       "  TemporalEntity(['ProperInterval'] 'V')),\n",
       " (TemporalEntity(['ProperInterval', 'Point'] 'U'),\n",
       "  TemporalEntity(['ProperInterval'] 'W')),\n",
       " (TemporalEntity(['ProperInterval', 'Point'] 'U'),\n",
       "  TemporalEntity(['Point'] 'X')),\n",
       " (TemporalEntity(['ProperInterval'] 'V'),\n",
       "  TemporalEntity(['ProperInterval'] 'V')),\n",
       " (TemporalEntity(['ProperInterval'] 'V'),\n",
       "  TemporalEntity(['ProperInterval', 'Point'] 'U')),\n",
       " (TemporalEntity(['ProperInterval'] 'V'),\n",
       "  TemporalEntity(['ProperInterval'] 'W')),\n",
       " (TemporalEntity(['ProperInterval'] 'V'), TemporalEntity(['Point'] 'X')),\n",
       " (TemporalEntity(['ProperInterval'] 'W'),\n",
       "  TemporalEntity(['ProperInterval'] 'W')),\n",
       " (TemporalEntity(['ProperInterval'] 'W'),\n",
       "  TemporalEntity(['ProperInterval', 'Point'] 'U')),\n",
       " (TemporalEntity(['ProperInterval'] 'W'),\n",
       "  TemporalEntity(['ProperInterval'] 'V')),\n",
       " (TemporalEntity(['ProperInterval'] 'W'), TemporalEntity(['Point'] 'X')),\n",
       " (TemporalEntity(['Point'] 'X'), TemporalEntity(['Point'] 'X')),\n",
       " (TemporalEntity(['Point'] 'X'), TemporalEntity(['ProperInterval'] 'W')),\n",
       " (TemporalEntity(['Point'] 'X'),\n",
       "  TemporalEntity(['ProperInterval', 'Point'] 'U')),\n",
       " (TemporalEntity(['Point'] 'X'), TemporalEntity(['ProperInterval'] 'V'))]"
      ]
     },
     "execution_count": 25,
     "metadata": {},
     "output_type": "execute_result"
    }
   ],
   "source": [
    "new_edges = [copy.copy(eg) for eg in test1_net.edges]\n",
    "new_edges"
   ]
  },
  {
   "cell_type": "code",
   "execution_count": 26,
   "metadata": {},
   "outputs": [
    {
     "data": {
      "text/plain": [
       "{'name': 'Network Copy Test #1',\n",
       " 'algebra': 'Extended_Linear_Interval_Algebra',\n",
       " 'description': 'Testing/Developing network copy functionality',\n",
       " 'nodes': [['U', ['ProperInterval', 'Point']],\n",
       "  ['V', ['ProperInterval']],\n",
       "  ['W', ['ProperInterval']],\n",
       "  ['X', ['Point']]],\n",
       " 'edges': [['U', 'V', 'B'],\n",
       "  ['U', 'W', 'B|M|O'],\n",
       "  ['U', 'X', 'B|DI|PFI'],\n",
       "  ['V', 'W', 'OI'],\n",
       "  ['V', 'X', 'BI|DI|PSI'],\n",
       "  ['W', 'X', 'DI']]}"
      ]
     },
     "execution_count": 26,
     "metadata": {},
     "output_type": "execute_result"
    }
   ],
   "source": [
    "test1_net.to_dict()"
   ]
  },
  {
   "cell_type": "code",
   "execution_count": 27,
   "metadata": {},
   "outputs": [],
   "source": [
    "test1_copy = qr.copy_network(test1_net, alg_dir)"
   ]
  },
  {
   "cell_type": "code",
   "execution_count": 28,
   "metadata": {},
   "outputs": [
    {
     "name": "stdout",
     "output_type": "stream",
     "text": [
      "\n",
      "Network Copy Test #1: 4 nodes, 16 edges\n",
      "  Algebra: Extended_Linear_Interval_Algebra\n",
      "  U:['ProperInterval', 'Point']\n",
      "    => U: E|PE\n",
      "    => V: B\n",
      "    => W: B|M|O\n",
      "    => X: B|DI|PFI\n",
      "  V:['ProperInterval']\n",
      "    => V: E\n",
      "    => U: BI\n",
      "    => W: OI\n",
      "    => X: BI|DI|PSI\n",
      "  W:['ProperInterval']\n",
      "    => W: E\n",
      "    => U: BI|MI|OI\n",
      "    => V: O\n",
      "    => X: DI\n",
      "  X:['Point']\n",
      "    => X: PE\n",
      "    => U: BI|D|PF\n",
      "    => V: B|D|PS\n",
      "    => W: D\n"
     ]
    }
   ],
   "source": [
    "test1_copy.summary()"
   ]
  },
  {
   "cell_type": "code",
   "execution_count": null,
   "metadata": {},
   "outputs": [],
   "source": []
  }
 ],
 "metadata": {
  "kernelspec": {
   "display_name": "Python 3",
   "language": "python",
   "name": "python3"
  },
  "language_info": {
   "codemirror_mode": {
    "name": "ipython",
    "version": 3
   },
   "file_extension": ".py",
   "mimetype": "text/x-python",
   "name": "python",
   "nbconvert_exporter": "python",
   "pygments_lexer": "ipython3",
   "version": "3.7.7"
  }
 },
 "nbformat": 4,
 "nbformat_minor": 4
}
