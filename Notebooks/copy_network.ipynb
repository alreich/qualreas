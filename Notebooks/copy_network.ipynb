{
 "cells": [
  {
   "cell_type": "markdown",
   "metadata": {},
   "source": [
    "# Copying a Network"
   ]
  },
  {
   "cell_type": "code",
   "execution_count": 7,
   "metadata": {},
   "outputs": [],
   "source": [
    "import qualreas as qr\n",
    "import os\n",
    "import copy"
   ]
  },
  {
   "cell_type": "code",
   "execution_count": 8,
   "metadata": {},
   "outputs": [],
   "source": [
    "qr_path = os.path.join(os.getenv('PYPROJ'), 'qualreas')\n",
    "alg_dir = os.path.join(qr_path, \"Algebras\")"
   ]
  },
  {
   "cell_type": "code",
   "execution_count": 14,
   "metadata": {},
   "outputs": [],
   "source": [
    "test1_net_dict = {\n",
    "    'name': 'Network Copy Test #1',\n",
    "    'algebra': 'Extended_Linear_Interval_Algebra',\n",
    "    'description': 'Testing/Developing network copy functionality',\n",
    "    'nodes': [\n",
    "        ['U', ['ProperInterval', 'Point']],\n",
    "        ['V', ['ProperInterval', 'Point']],\n",
    "        ['W', ['ProperInterval']],\n",
    "        ['X', ['Point']]\n",
    "    ],\n",
    "    'edges': [\n",
    "        ['U', 'V', 'B'],\n",
    "        ['U', 'W', 'B|M|O'],\n",
    "        ['W', 'V', 'O'],\n",
    "        ['X', 'W', 'D']\n",
    "    ]\n",
    "}"
   ]
  },
  {
   "cell_type": "code",
   "execution_count": 15,
   "metadata": {},
   "outputs": [],
   "source": [
    "test1_net = qr.Network(algebra_path=alg_dir, network_dict=test1_net_dict)"
   ]
  },
  {
   "cell_type": "code",
   "execution_count": 16,
   "metadata": {},
   "outputs": [
    {
     "name": "stdout",
     "output_type": "stream",
     "text": [
      "\n",
      "Network Copy Test #1: 4 nodes, 12 edges\n",
      "  Algebra: Extended_Linear_Interval_Algebra\n",
      "  U:['ProperInterval', 'Point']\n",
      "    => U: E|PE\n",
      "    => V: B\n",
      "    => W: B|M|O\n",
      "  V:['ProperInterval', 'Point']\n",
      "    => V: E|PE\n",
      "    => U: BI\n",
      "    => W: OI\n",
      "  W:['ProperInterval']\n",
      "    => W: E\n",
      "    => U: BI|MI|OI\n",
      "    => V: O\n",
      "    => X: DI\n",
      "  X:['Point']\n",
      "    => X: PE\n",
      "    => W: D\n"
     ]
    }
   ],
   "source": [
    "test1_net.summary()"
   ]
  },
  {
   "cell_type": "code",
   "execution_count": 17,
   "metadata": {},
   "outputs": [
    {
     "name": "stdout",
     "output_type": "stream",
     "text": [
      "\n",
      "Network Copy Test #1: 4 nodes, 16 edges\n",
      "  Algebra: Extended_Linear_Interval_Algebra\n",
      "  U:['Point', 'ProperInterval']\n",
      "    => U: E|PE\n",
      "    => V: B\n",
      "    => W: B|M|O\n",
      "    => X: B|DI|PFI\n",
      "  V:['ProperInterval']\n",
      "    => V: E\n",
      "    => U: BI\n",
      "    => W: OI\n",
      "    => X: BI|DI|PSI\n",
      "  W:['ProperInterval']\n",
      "    => W: E\n",
      "    => U: BI|MI|OI\n",
      "    => V: O\n",
      "    => X: DI\n",
      "  X:['Point']\n",
      "    => X: PE\n",
      "    => W: D\n",
      "    => U: BI|D|PF\n",
      "    => V: B|D|PS\n"
     ]
    }
   ],
   "source": [
    "test1_net.propagate()\n",
    "test1_net.summary()"
   ]
  },
  {
   "cell_type": "markdown",
   "metadata": {},
   "source": [
    "## Trying out Copy"
   ]
  },
  {
   "cell_type": "code",
   "execution_count": 19,
   "metadata": {},
   "outputs": [
    {
     "data": {
      "text/plain": [
       "TemporalEntity(['ProperInterval', 'Point'] 'TE1')"
      ]
     },
     "execution_count": 19,
     "metadata": {},
     "output_type": "execute_result"
    }
   ],
   "source": [
    "te1 = qr.TemporalEntity(['ProperInterval', 'Point'], \"TE1\")\n",
    "te1"
   ]
  },
  {
   "cell_type": "code",
   "execution_count": 21,
   "metadata": {},
   "outputs": [
    {
     "data": {
      "text/plain": [
       "TemporalEntity(['ProperInterval', 'Point'] 'TE1')"
      ]
     },
     "execution_count": 21,
     "metadata": {},
     "output_type": "execute_result"
    }
   ],
   "source": [
    "te1_copy = copy.copy(te1)\n",
    "te1_copy"
   ]
  },
  {
   "cell_type": "code",
   "execution_count": 22,
   "metadata": {},
   "outputs": [
    {
     "data": {
      "text/plain": [
       "False"
      ]
     },
     "execution_count": 22,
     "metadata": {},
     "output_type": "execute_result"
    }
   ],
   "source": [
    "te1 is te1_copy"
   ]
  },
  {
   "cell_type": "code",
   "execution_count": 23,
   "metadata": {},
   "outputs": [
    {
     "data": {
      "text/plain": [
       "False"
      ]
     },
     "execution_count": 23,
     "metadata": {},
     "output_type": "execute_result"
    }
   ],
   "source": [
    "te1 == te1_copy"
   ]
  },
  {
   "cell_type": "code",
   "execution_count": 24,
   "metadata": {},
   "outputs": [],
   "source": [
    "te1_copy.name = 'TE1 Copy'"
   ]
  },
  {
   "cell_type": "code",
   "execution_count": 25,
   "metadata": {},
   "outputs": [
    {
     "data": {
      "text/plain": [
       "TemporalEntity(['ProperInterval', 'Point'] 'TE1 Copy')"
      ]
     },
     "execution_count": 25,
     "metadata": {},
     "output_type": "execute_result"
    }
   ],
   "source": [
    "te1_copy"
   ]
  },
  {
   "cell_type": "code",
   "execution_count": 26,
   "metadata": {},
   "outputs": [
    {
     "data": {
      "text/plain": [
       "TemporalEntity(['ProperInterval', 'Point'] 'TE1')"
      ]
     },
     "execution_count": 26,
     "metadata": {},
     "output_type": "execute_result"
    }
   ],
   "source": [
    "te1"
   ]
  },
  {
   "cell_type": "code",
   "execution_count": 27,
   "metadata": {},
   "outputs": [],
   "source": [
    "te1_copy.classes = ['Point']"
   ]
  },
  {
   "cell_type": "code",
   "execution_count": null,
   "metadata": {},
   "outputs": [],
   "source": [
    "te1_copy"
   ]
  }
 ],
 "metadata": {
  "kernelspec": {
   "display_name": "Python 3",
   "language": "python",
   "name": "python3"
  },
  "language_info": {
   "codemirror_mode": {
    "name": "ipython",
    "version": 3
   },
   "file_extension": ".py",
   "mimetype": "text/x-python",
   "name": "python",
   "nbconvert_exporter": "python",
   "pygments_lexer": "ipython3",
   "version": "3.7.7"
  }
 },
 "nbformat": 4,
 "nbformat_minor": 4
}
