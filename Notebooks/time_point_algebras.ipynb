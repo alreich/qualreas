{
 "cells": [
  {
   "cell_type": "markdown",
   "metadata": {},
   "source": [
    "# Time Point Algebras"
   ]
  },
  {
   "cell_type": "code",
   "execution_count": 2,
   "metadata": {},
   "outputs": [],
   "source": [
    "import os\n",
    "import qualreas as qr"
   ]
  },
  {
   "cell_type": "code",
   "execution_count": 3,
   "metadata": {},
   "outputs": [],
   "source": [
    "path = os.path.join(os.getenv('PYPROJ'), 'qualreas')"
   ]
  },
  {
   "cell_type": "markdown",
   "metadata": {},
   "source": [
    "## References"
   ]
  },
  {
   "cell_type": "markdown",
   "metadata": {},
   "source": [
    "1. James F. Allen, <b>\"Maintaining knowledge about temporal intervals\"</b>,  Communications of the ACM 26(11) pp.832-843, Nov. 1983\n",
    "1. J. F. A. K. van Benthem, <b>“The Logic of Time”</b>, D. Reidel Publishing Co., 1983\n",
    "1. Alfred J. Reich, <b>\"Intervals, Points, and Branching Time\"</b>, In: Goodwin, S.D., Hamilton, H.J. (eds.) Proceedings of the TIME-94 International Workshop on Temporal Reasoning, University of Regina, Regina, SK, Canada, pp. 121–133, 1994"
   ]
  },
  {
   "cell_type": "markdown",
   "metadata": {},
   "source": [
    "## The Structures of Linear and Branching Time"
   ]
  },
  {
   "cell_type": "markdown",
   "metadata": {},
   "source": [
    "The point (and interval) algebras of time, supported by qualreas, consider the structure of time to be either linear or branching as shown in the figures below."
   ]
  },
  {
   "cell_type": "markdown",
   "metadata": {},
   "source": [
    "<img src=\"Images/global_structures_of_time.png\" width=\"400\" align=\"center\"/>"
   ]
  },
  {
   "cell_type": "markdown",
   "metadata": {},
   "source": [
    "### Point Structure"
   ]
  },
  {
   "cell_type": "markdown",
   "metadata": {},
   "source": [
    "According to [van Benthem, 1983] a <b><i>Point Structure</i></b> is an ordered pair, $(\\mathcal{T},\\prec)$, where $\\mathcal{T}$ is a non-empty set and $\\prec$ is a transitive binary relation on $\\mathcal{T}$.  Equality is denoted by $=$, and the converse of $\\prec$ is $\\succ$."
   ]
  },
  {
   "cell_type": "markdown",
   "metadata": {},
   "source": [
    "### Linear Point Structure"
   ]
  },
  {
   "cell_type": "markdown",
   "metadata": {},
   "source": [
    "A <b><i>Linear Point Structure</i></b> is a Point Structure such that for any two points, $x$ and $y$, <u>one and only one</u> of three relationships between $x$ and $y$ holds true:\n",
    "\n",
    "<p><center>$(x \\prec y) \\vee (x = y) \\vee (x \\succ y)$</center></p>\n",
    "\n",
    "For example, both $(\\mathbb{R},<)$ and $(\\mathbb{R},\\le)$, where $\\mathbb{R}$ is the set of real numbers, are Linear Point Structures."
   ]
  },
  {
   "cell_type": "markdown",
   "metadata": {},
   "source": [
    "### Branching Point Structure"
   ]
  },
  {
   "cell_type": "markdown",
   "metadata": {},
   "source": [
    "A <b><i>Branching Point Structure</i></b> is an ordered triple, $(\\mathcal{T},\\prec,\\sim)$, where $(\\mathcal{T},\\prec)$ is a Point Structure and $\\sim$ is an irreflexive, symmetric binary relation on $\\mathcal{T}$, called <b><i>incomparable</i></b>, such that for any $x,y \\in \\mathcal{T}$, <u>one and only one</u> of the following four relationships between $x$ and $y$ can hold true:\n",
    "\n",
    "<p><center>$(x \\prec y) \\vee (x = y) \\vee (x \\succ y) \\vee (x \\sim y)$</center></p>\n",
    "\n",
    "Basically, if $x$ and $y$ are on two different branches, then $x \\sim y$."
   ]
  },
  {
   "cell_type": "markdown",
   "metadata": {},
   "source": [
    "### Right-Branching Point Structure"
   ]
  },
  {
   "cell_type": "markdown",
   "metadata": {},
   "source": [
    "A <b>Right-Branching Point Structure</b> is a Branching Point Structure that has a property called <b><i>Left Linearity</i></b>:\n",
    "\n",
    "<p><center>$x,y,z \\in \\mathcal{T}$ and $(x < z) \\wedge (y < z) \\implies (x < y) \\vee (x = y) \\vee (x > y)$</center></p>"
   ]
  },
  {
   "cell_type": "markdown",
   "metadata": {},
   "source": [
    "<img src=\"Images/left_linearity_in_right_branching_time.png\" width=\"300\" align=\"center\"/>"
   ]
  },
  {
   "cell_type": "markdown",
   "metadata": {},
   "source": [
    "### Left-Branching Point Structure"
   ]
  },
  {
   "cell_type": "markdown",
   "metadata": {},
   "source": [
    "A <b>Left-Branching Point Structure</b> is a Branching Point Structure that has a property called <b><i>Right Linearity</i></b>:\n",
    "\n",
    "<p><center>$x,y,z \\in \\mathcal{T}$ and $(x > z) \\wedge (y > z) \\implies (x < y) \\vee (x = y) \\vee (x > y)$</center></p>"
   ]
  },
  {
   "cell_type": "markdown",
   "metadata": {},
   "source": [
    "<b>NOTE:</b> In the branching point algebras defined in qualreas, we distinguish between the right & left incomparable ($\\sim$) relations by putting an \"r\" or an \"l\" in front of $\\sim$ (i.e., r~, l~).  This is not really necessary, since right and left branching point structures cannot be mixed together, but this is how things got started, so it remains that way, for now."
   ]
  },
  {
   "cell_type": "markdown",
   "metadata": {},
   "source": [
    "## Linear Point Algebra"
   ]
  },
  {
   "cell_type": "markdown",
   "metadata": {},
   "source": [
    "This algebra is based on the Linear Point Structure, $(T,\\lt)$, and is used to derive Allen's algebra of proper time intervals [Allen, 1983]--known in qualreas as the \"Linear Interval Algebra\". (See the Jupyter Notebook, \"Notebooks/derive_allens_algebra.ipynb\")\n",
    "\n",
    "An extension to Allen's algebra, the \"Extended Linear Interval Algebra\" [Reich, 1994], integrates proper time intervals with time points, by using the Linear Point Structure, $(T,\\le)$. (See the Jupyter Notebook, \"Notebooks/derive_extended_interval_algebra.ipynb\")"
   ]
  },
  {
   "cell_type": "code",
   "execution_count": 4,
   "metadata": {},
   "outputs": [],
   "source": [
    "pt_alg = qr.Algebra(os.path.join(path, \"Algebras/Linear_Point_Algebra.json\"))"
   ]
  },
  {
   "cell_type": "code",
   "execution_count": 6,
   "metadata": {},
   "outputs": [
    {
     "name": "stdout",
     "output_type": "stream",
     "text": [
      "  Algebra Name: Linear_Point_Algebra\n",
      "   Description: Linear Point Algebra\n",
      " Equality Rels: =\n",
      "     Relations:\n",
      "            NAME (SYMBOL)         CONVERSE (ABBREV)  REFLEXIVE  SYMMETRIC TRANSITIVE   DOMAIN        RANGE\n",
      "           LessThan (  <)         GreaterThan (  >)    False      False       True         Pt            Pt\n",
      "             Equals (  =)              Equals (  =)     True       True       True         Pt            Pt\n",
      "        GreaterThan (  >)            LessThan (  <)    False      False       True         Pt            Pt\n",
      "\n",
      "Domain & Range Abbreviations:\n",
      "   Pt = Point\n",
      " PInt = Proper Interval\n"
     ]
    }
   ],
   "source": [
    "pt_alg.summary()"
   ]
  },
  {
   "cell_type": "code",
   "execution_count": 7,
   "metadata": {},
   "outputs": [
    {
     "name": "stdout",
     "output_type": "stream",
     "text": [
      "Linear_Point_Algebra\n",
      "Elements: <, =, >\n",
      "==============================\n",
      " rel1 ; rel2 = composition\n",
      "==============================\n",
      "   <      <      <\n",
      "   <      =      <\n",
      "   <      >      <|=|>\n",
      "------------------------------\n",
      "   =      <      <\n",
      "   =      =      =\n",
      "   =      >      >\n",
      "------------------------------\n",
      "   >      <      <|=|>\n",
      "   >      =      >\n",
      "   >      >      >\n",
      "------------------------------\n"
     ]
    }
   ],
   "source": [
    "qr.print_point_algebra_composition_table(pt_alg)"
   ]
  },
  {
   "cell_type": "markdown",
   "metadata": {},
   "source": [
    "## Right-Branching Point Algebra"
   ]
  },
  {
   "cell_type": "markdown",
   "metadata": {},
   "source": [
    "An extension to Allen's algebra, the \"Right-Branching Interval Algebra\" [Reich, 1994], integrates proper time intervals with time points in a right-branching time structure, by using the Right-Branching Point Structure, $(T,\\le,\\sim)$. (See the Jupyter Notebook, \"Notebooks/derive_extended_interval_algebra.ipynb\")"
   ]
  },
  {
   "cell_type": "code",
   "execution_count": 8,
   "metadata": {},
   "outputs": [],
   "source": [
    "rb_pt_alg = qr.Algebra(os.path.join(path, \"Algebras/Right_Branching_Point_Algebra.json\"))"
   ]
  },
  {
   "cell_type": "code",
   "execution_count": 9,
   "metadata": {},
   "outputs": [
    {
     "name": "stdout",
     "output_type": "stream",
     "text": [
      "  Algebra Name: Right_Branching_Point_Algebra\n",
      "   Description: Right-Branching Point Algebra\n",
      " Equality Rels: =\n",
      "     Relations:\n",
      "            NAME (SYMBOL)         CONVERSE (ABBREV)  REFLEXIVE  SYMMETRIC TRANSITIVE   DOMAIN        RANGE\n",
      "           LessThan (  <)         GreaterThan (  >)    False      False       True         Pt            Pt\n",
      "             Equals (  =)              Equals (  =)     True       True       True         Pt            Pt\n",
      "        GreaterThan (  >)            LessThan (  <)    False      False       True         Pt            Pt\n",
      "       Incomparable ( r~)        Incomparable ( r~)    False       True      False         Pt            Pt\n",
      "\n",
      "Domain & Range Abbreviations:\n",
      "   Pt = Point\n",
      " PInt = Proper Interval\n"
     ]
    }
   ],
   "source": [
    "rb_pt_alg.summary()"
   ]
  },
  {
   "cell_type": "code",
   "execution_count": 10,
   "metadata": {},
   "outputs": [
    {
     "name": "stdout",
     "output_type": "stream",
     "text": [
      "Right_Branching_Point_Algebra\n",
      "Elements: <, =, >, r~\n",
      "==============================\n",
      " rel1 ; rel2 = composition\n",
      "==============================\n",
      "   <      <      <\n",
      "   <      =      <\n",
      "   <      >      <|=|>\n",
      "   <     r~      <|r~\n",
      "------------------------------\n",
      "   =      <      <\n",
      "   =      =      =\n",
      "   =      >      >\n",
      "   =     r~      r~\n",
      "------------------------------\n",
      "   >      <      <|=|>|r~\n",
      "   >      =      >\n",
      "   >      >      >\n",
      "   >     r~      r~\n",
      "------------------------------\n",
      "  r~      <      r~\n",
      "  r~      =      r~\n",
      "  r~      >      >|r~\n",
      "  r~     r~      <|=|>|r~\n",
      "------------------------------\n"
     ]
    }
   ],
   "source": [
    "qr.print_point_algebra_composition_table(rb_pt_alg)"
   ]
  },
  {
   "cell_type": "markdown",
   "metadata": {},
   "source": [
    "## Left-Branching Point Algebra"
   ]
  },
  {
   "cell_type": "code",
   "execution_count": 11,
   "metadata": {},
   "outputs": [],
   "source": [
    "lb_pt_alg = qr.Algebra(os.path.join(path, \"Algebras/Left_Branching_Point_Algebra.json\"))"
   ]
  },
  {
   "cell_type": "code",
   "execution_count": 12,
   "metadata": {},
   "outputs": [
    {
     "name": "stdout",
     "output_type": "stream",
     "text": [
      "  Algebra Name: Left_Branching_Point_Algebra\n",
      "   Description: Left-Branching Point Algebra\n",
      " Equality Rels: =\n",
      "     Relations:\n",
      "            NAME (SYMBOL)         CONVERSE (ABBREV)  REFLEXIVE  SYMMETRIC TRANSITIVE   DOMAIN        RANGE\n",
      "           LessThan (  <)         GreaterThan (  >)    False      False       True         Pt            Pt\n",
      "             Equals (  =)              Equals (  =)     True       True       True         Pt            Pt\n",
      "        GreaterThan (  >)            LessThan (  <)    False      False       True         Pt            Pt\n",
      "       Incomparable ( l~)        Incomparable ( l~)    False       True      False         Pt            Pt\n",
      "\n",
      "Domain & Range Abbreviations:\n",
      "   Pt = Point\n",
      " PInt = Proper Interval\n"
     ]
    }
   ],
   "source": [
    "lb_pt_alg.summary()"
   ]
  },
  {
   "cell_type": "code",
   "execution_count": 13,
   "metadata": {},
   "outputs": [
    {
     "name": "stdout",
     "output_type": "stream",
     "text": [
      "Left_Branching_Point_Algebra\n",
      "Elements: <, =, >, l~\n",
      "==============================\n",
      " rel1 ; rel2 = composition\n",
      "==============================\n",
      "   <      <      <\n",
      "   <      =      <\n",
      "   <      >      <|=|>|l~\n",
      "   <     l~      l~\n",
      "------------------------------\n",
      "   =      <      <\n",
      "   =      =      =\n",
      "   =      >      >\n",
      "   =     l~      l~\n",
      "------------------------------\n",
      "   >      <      <|=|>\n",
      "   >      =      >\n",
      "   >      >      >\n",
      "   >     l~      >|l~\n",
      "------------------------------\n",
      "  l~      <      <|l~\n",
      "  l~      =      l~\n",
      "  l~      >      l~\n",
      "  l~     l~      <|=|>|l~\n",
      "------------------------------\n"
     ]
    }
   ],
   "source": [
    "qr.print_point_algebra_composition_table(lb_pt_alg)"
   ]
  },
  {
   "cell_type": "markdown",
   "metadata": {},
   "source": [
    "## Right-Binary-Branching Point Algebra"
   ]
  },
  {
   "cell_type": "code",
   "execution_count": 14,
   "metadata": {},
   "outputs": [],
   "source": [
    "rbb_pt_alg = qr.Algebra(os.path.join(path, \"Algebras/Right_Binary_Branching_Point_Algebra.json\"))"
   ]
  },
  {
   "cell_type": "code",
   "execution_count": 15,
   "metadata": {},
   "outputs": [
    {
     "name": "stdout",
     "output_type": "stream",
     "text": [
      "  Algebra Name: Right_Binary_Branching_Point_Algebra\n",
      "   Description: Right-Binary-Branching Point Algebra\n",
      " Equality Rels: =\n",
      "     Relations:\n",
      "            NAME (SYMBOL)         CONVERSE (ABBREV)  REFLEXIVE  SYMMETRIC TRANSITIVE   DOMAIN        RANGE\n",
      "           LessThan (  <)         GreaterThan (  >)    False      False       True         Pt            Pt\n",
      "             Equals (  =)              Equals (  =)     True       True       True         Pt            Pt\n",
      "        GreaterThan (  >)            LessThan (  <)    False      False       True         Pt            Pt\n",
      "       Incomparable ( r~)        Incomparable ( r~)    False       True      False         Pt            Pt\n",
      "\n",
      "Domain & Range Abbreviations:\n",
      "   Pt = Point\n",
      " PInt = Proper Interval\n"
     ]
    }
   ],
   "source": [
    "rbb_pt_alg.summary()"
   ]
  },
  {
   "cell_type": "code",
   "execution_count": 16,
   "metadata": {},
   "outputs": [
    {
     "name": "stdout",
     "output_type": "stream",
     "text": [
      "Right_Binary_Branching_Point_Algebra\n",
      "Elements: <, =, >, r~\n",
      "==============================\n",
      " rel1 ; rel2 = composition\n",
      "==============================\n",
      "   <      <      <\n",
      "   <      =      <\n",
      "   <      >      <|=|>\n",
      "   <     r~      <|r~\n",
      "------------------------------\n",
      "   =      <      <\n",
      "   =      =      =\n",
      "   =      >      >\n",
      "   =     r~      r~\n",
      "------------------------------\n",
      "   >      <      <|=|>|r~\n",
      "   >      =      >\n",
      "   >      >      >\n",
      "   >     r~      r~\n",
      "------------------------------\n",
      "  r~      <      r~\n",
      "  r~      =      r~\n",
      "  r~      >      >|r~\n",
      "  r~     r~      <|=|>\n",
      "------------------------------\n"
     ]
    }
   ],
   "source": [
    "qr.print_point_algebra_composition_table(rbb_pt_alg)"
   ]
  },
  {
   "cell_type": "markdown",
   "metadata": {},
   "source": [
    "## Left-Binary-Branching Point Algebra"
   ]
  },
  {
   "cell_type": "code",
   "execution_count": 17,
   "metadata": {},
   "outputs": [],
   "source": [
    "lbb_pt_alg = qr.Algebra(os.path.join(path, \"Algebras/Left_Binary_Branching_Point_Algebra.json\"))"
   ]
  },
  {
   "cell_type": "code",
   "execution_count": 18,
   "metadata": {},
   "outputs": [
    {
     "name": "stdout",
     "output_type": "stream",
     "text": [
      "  Algebra Name: Left_Binary_Branching_Point_Algebra\n",
      "   Description: Left-Binary-Branching Point Algebra\n",
      " Equality Rels: =\n",
      "     Relations:\n",
      "            NAME (SYMBOL)         CONVERSE (ABBREV)  REFLEXIVE  SYMMETRIC TRANSITIVE   DOMAIN        RANGE\n",
      "           LessThan (  <)         GreaterThan (  >)    False      False       True         Pt            Pt\n",
      "             Equals (  =)              Equals (  =)     True       True       True         Pt            Pt\n",
      "        GreaterThan (  >)            LessThan (  <)    False      False       True         Pt            Pt\n",
      "       Incomparable ( l~)        Incomparable ( l~)    False       True      False         Pt            Pt\n",
      "\n",
      "Domain & Range Abbreviations:\n",
      "   Pt = Point\n",
      " PInt = Proper Interval\n"
     ]
    }
   ],
   "source": [
    "lbb_pt_alg.summary()"
   ]
  },
  {
   "cell_type": "code",
   "execution_count": 19,
   "metadata": {},
   "outputs": [
    {
     "name": "stdout",
     "output_type": "stream",
     "text": [
      "Left_Binary_Branching_Point_Algebra\n",
      "Elements: <, =, >, l~\n",
      "==============================\n",
      " rel1 ; rel2 = composition\n",
      "==============================\n",
      "   <      <      <\n",
      "   <      =      <\n",
      "   <      >      <|=|>|l~\n",
      "   <     l~      l~\n",
      "------------------------------\n",
      "   =      <      <\n",
      "   =      =      =\n",
      "   =      >      >\n",
      "   =     l~      l~\n",
      "------------------------------\n",
      "   >      <      <|=|>\n",
      "   >      =      >\n",
      "   >      >      >\n",
      "   >     l~      >|l~\n",
      "------------------------------\n",
      "  l~      <      <|l~\n",
      "  l~      =      l~\n",
      "  l~      >      l~\n",
      "  l~     l~      <|=|>\n",
      "------------------------------\n"
     ]
    }
   ],
   "source": [
    "qr.print_point_algebra_composition_table(lbb_pt_alg)"
   ]
  }
 ],
 "metadata": {
  "kernelspec": {
   "display_name": "Python 3",
   "language": "python",
   "name": "python3"
  },
  "language_info": {
   "codemirror_mode": {
    "name": "ipython",
    "version": 3
   },
   "file_extension": ".py",
   "mimetype": "text/x-python",
   "name": "python",
   "nbconvert_exporter": "python",
   "pygments_lexer": "ipython3",
   "version": "3.7.7"
  }
 },
 "nbformat": 4,
 "nbformat_minor": 2
}
