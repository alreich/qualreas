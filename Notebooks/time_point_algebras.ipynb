{
 "cells": [
  {
   "cell_type": "markdown",
   "metadata": {},
   "source": [
    "# Time Point Algebras"
   ]
  },
  {
   "cell_type": "markdown",
   "metadata": {},
   "source": [
    "## Dependencies"
   ]
  },
  {
   "cell_type": "code",
   "execution_count": 25,
   "metadata": {},
   "outputs": [],
   "source": [
    "import os\n",
    "import qualreas as qr"
   ]
  },
  {
   "cell_type": "code",
   "execution_count": 26,
   "metadata": {},
   "outputs": [],
   "source": [
    "path = os.path.join(os.getenv('PYPROJ'), 'qualreas')"
   ]
  },
  {
   "cell_type": "markdown",
   "metadata": {},
   "source": [
    "## Linear Point Algebra"
   ]
  },
  {
   "cell_type": "markdown",
   "metadata": {},
   "source": [
    "This algebra is used to derive Allen's algebra of proper time intervals--known in qualreas as the \"Linear Interval Algebra\"--and its extension, the \"Extended Linear Interval Algebra\", which integrates proper time intervals with time points."
   ]
  },
  {
   "cell_type": "markdown",
   "metadata": {},
   "source": [
    "What makes this point algebra <i>linear</i> is that if $x$ and $y$ are two points, then one and only one of the following three relationships between $x$ and $y$ holds true:\n",
    "\n",
    "<center>$(x < y)$ or $(x = y)$ or $(x > y)$</center>"
   ]
  },
  {
   "cell_type": "code",
   "execution_count": 27,
   "metadata": {},
   "outputs": [],
   "source": [
    "pt_alg = qr.Algebra(os.path.join(path, \"Algebras/Linear_Point_Algebra.json\"))"
   ]
  },
  {
   "cell_type": "code",
   "execution_count": 28,
   "metadata": {},
   "outputs": [
    {
     "name": "stdout",
     "output_type": "stream",
     "text": [
      "  Algebra Name: Linear_Point_Algebra\n",
      "   Description: Linear Point Algebra\n",
      " Equality Rels: =\n",
      "     Relations:\n",
      "            NAME (SYMBOL)         CONVERSE (ABBREV)  REFLEXIVE  SYMMETRIC TRANSITIVE   DOMAIN        RANGE\n",
      "           LessThan (  <)         GreaterThan (  >)    False      False       True         Pt            Pt\n",
      "             Equals (  =)              Equals (  =)     True       True       True         Pt            Pt\n",
      "        GreaterThan (  >)            LessThan (  <)    False      False       True         Pt            Pt\n",
      "\n",
      "Domain & Range Abbreviations:\n",
      "   Pt = Point\n",
      " PInt = Proper Interval\n"
     ]
    }
   ],
   "source": [
    "pt_alg.summary()"
   ]
  },
  {
   "cell_type": "code",
   "execution_count": 29,
   "metadata": {},
   "outputs": [
    {
     "name": "stdout",
     "output_type": "stream",
     "text": [
      "Linear_Point_Algebra\n",
      "Elements: <, =, >\n",
      "==============================\n",
      " rel1 ; rel2 = composition\n",
      "==============================\n",
      "   <      <      <\n",
      "   <      =      <\n",
      "   <      >      <|=|>\n",
      "------------------------------\n",
      "   =      <      <\n",
      "   =      =      =\n",
      "   =      >      >\n",
      "------------------------------\n",
      "   >      <      <|=|>\n",
      "   >      =      >\n",
      "   >      >      >\n",
      "------------------------------\n"
     ]
    }
   ],
   "source": [
    "qr.print_point_algebra_composition_table(pt_alg)"
   ]
  },
  {
   "cell_type": "markdown",
   "metadata": {},
   "source": [
    "## Right-Branching Point Algebra"
   ]
  },
  {
   "cell_type": "code",
   "execution_count": 30,
   "metadata": {},
   "outputs": [],
   "source": [
    "rb_pt_alg = qr.Algebra(os.path.join(path, \"Algebras/Right_Branching_Point_Algebra.json\"))"
   ]
  },
  {
   "cell_type": "code",
   "execution_count": 31,
   "metadata": {},
   "outputs": [
    {
     "name": "stdout",
     "output_type": "stream",
     "text": [
      "  Algebra Name: Right_Branching_Point_Algebra\n",
      "   Description: Right-Branching Point Algebra\n",
      " Equality Rels: =\n",
      "     Relations:\n",
      "            NAME (SYMBOL)         CONVERSE (ABBREV)  REFLEXIVE  SYMMETRIC TRANSITIVE   DOMAIN        RANGE\n",
      "           LessThan (  <)         GreaterThan (  >)    False      False       True         Pt            Pt\n",
      "             Equals (  =)              Equals (  =)     True       True       True         Pt            Pt\n",
      "        GreaterThan (  >)            LessThan (  <)    False      False       True         Pt            Pt\n",
      "       Incomparable ( r~)        Incomparable ( r~)    False       True      False         Pt            Pt\n",
      "\n",
      "Domain & Range Abbreviations:\n",
      "   Pt = Point\n",
      " PInt = Proper Interval\n"
     ]
    }
   ],
   "source": [
    "rb_pt_alg.summary()"
   ]
  },
  {
   "cell_type": "code",
   "execution_count": 32,
   "metadata": {},
   "outputs": [
    {
     "name": "stdout",
     "output_type": "stream",
     "text": [
      "Right_Branching_Point_Algebra\n",
      "Elements: <, =, >, r~\n",
      "==============================\n",
      " rel1 ; rel2 = composition\n",
      "==============================\n",
      "   <      <      <\n",
      "   <      =      <\n",
      "   <      >      <|=|>\n",
      "   <     r~      <|r~\n",
      "------------------------------\n",
      "   =      <      <\n",
      "   =      =      =\n",
      "   =      >      >\n",
      "   =     r~      r~\n",
      "------------------------------\n",
      "   >      <      <|=|>|r~\n",
      "   >      =      >\n",
      "   >      >      >\n",
      "   >     r~      r~\n",
      "------------------------------\n",
      "  r~      <      r~\n",
      "  r~      =      r~\n",
      "  r~      >      >|r~\n",
      "  r~     r~      <|=|>|r~\n",
      "------------------------------\n"
     ]
    }
   ],
   "source": [
    "qr.print_point_algebra_composition_table(rb_pt_alg)"
   ]
  },
  {
   "cell_type": "markdown",
   "metadata": {},
   "source": [
    "## Left-Branching Point Algebra"
   ]
  },
  {
   "cell_type": "code",
   "execution_count": 33,
   "metadata": {},
   "outputs": [],
   "source": [
    "lb_pt_alg = qr.Algebra(os.path.join(path, \"Algebras/Left_Branching_Point_Algebra.json\"))"
   ]
  },
  {
   "cell_type": "code",
   "execution_count": 34,
   "metadata": {},
   "outputs": [
    {
     "name": "stdout",
     "output_type": "stream",
     "text": [
      "  Algebra Name: Left_Branching_Point_Algebra\n",
      "   Description: Left-Branching Point Algebra\n",
      " Equality Rels: =\n",
      "     Relations:\n",
      "            NAME (SYMBOL)         CONVERSE (ABBREV)  REFLEXIVE  SYMMETRIC TRANSITIVE   DOMAIN        RANGE\n",
      "           LessThan (  <)         GreaterThan (  >)    False      False       True         Pt            Pt\n",
      "             Equals (  =)              Equals (  =)     True       True       True         Pt            Pt\n",
      "        GreaterThan (  >)            LessThan (  <)    False      False       True         Pt            Pt\n",
      "       Incomparable ( l~)        Incomparable ( l~)    False       True      False         Pt            Pt\n",
      "\n",
      "Domain & Range Abbreviations:\n",
      "   Pt = Point\n",
      " PInt = Proper Interval\n"
     ]
    }
   ],
   "source": [
    "lb_pt_alg.summary()"
   ]
  },
  {
   "cell_type": "code",
   "execution_count": 35,
   "metadata": {},
   "outputs": [
    {
     "name": "stdout",
     "output_type": "stream",
     "text": [
      "Left_Branching_Point_Algebra\n",
      "Elements: <, =, >, l~\n",
      "==============================\n",
      " rel1 ; rel2 = composition\n",
      "==============================\n",
      "   <      <      <\n",
      "   <      =      <\n",
      "   <      >      <|=|>|l~\n",
      "   <     l~      l~\n",
      "------------------------------\n",
      "   =      <      <\n",
      "   =      =      =\n",
      "   =      >      >\n",
      "   =     l~      l~\n",
      "------------------------------\n",
      "   >      <      <|=|>\n",
      "   >      =      >\n",
      "   >      >      >\n",
      "   >     l~      >|l~\n",
      "------------------------------\n",
      "  l~      <      <|l~\n",
      "  l~      =      l~\n",
      "  l~      >      l~\n",
      "  l~     l~      <|=|>|l~\n",
      "------------------------------\n"
     ]
    }
   ],
   "source": [
    "qr.print_point_algebra_composition_table(lb_pt_alg)"
   ]
  },
  {
   "cell_type": "markdown",
   "metadata": {},
   "source": [
    "## Right-Binary-Branching Point Algebra"
   ]
  },
  {
   "cell_type": "code",
   "execution_count": 36,
   "metadata": {},
   "outputs": [],
   "source": [
    "rbb_pt_alg = qr.Algebra(os.path.join(path, \"Algebras/Right_Binary_Branching_Point_Algebra.json\"))"
   ]
  },
  {
   "cell_type": "code",
   "execution_count": 37,
   "metadata": {},
   "outputs": [
    {
     "name": "stdout",
     "output_type": "stream",
     "text": [
      "  Algebra Name: Right_Binary_Branching_Point_Algebra\n",
      "   Description: Right-Binary-Branching Point Algebra\n",
      " Equality Rels: =\n",
      "     Relations:\n",
      "            NAME (SYMBOL)         CONVERSE (ABBREV)  REFLEXIVE  SYMMETRIC TRANSITIVE   DOMAIN        RANGE\n",
      "           LessThan (  <)         GreaterThan (  >)    False      False       True         Pt            Pt\n",
      "             Equals (  =)              Equals (  =)     True       True       True         Pt            Pt\n",
      "        GreaterThan (  >)            LessThan (  <)    False      False       True         Pt            Pt\n",
      "       Incomparable ( r~)        Incomparable ( r~)    False       True      False         Pt            Pt\n",
      "\n",
      "Domain & Range Abbreviations:\n",
      "   Pt = Point\n",
      " PInt = Proper Interval\n"
     ]
    }
   ],
   "source": [
    "rbb_pt_alg.summary()"
   ]
  },
  {
   "cell_type": "code",
   "execution_count": 38,
   "metadata": {},
   "outputs": [
    {
     "name": "stdout",
     "output_type": "stream",
     "text": [
      "Right_Binary_Branching_Point_Algebra\n",
      "Elements: <, =, >, r~\n",
      "==============================\n",
      " rel1 ; rel2 = composition\n",
      "==============================\n",
      "   <      <      <\n",
      "   <      =      <\n",
      "   <      >      <|=|>\n",
      "   <     r~      <|r~\n",
      "------------------------------\n",
      "   =      <      <\n",
      "   =      =      =\n",
      "   =      >      >\n",
      "   =     r~      r~\n",
      "------------------------------\n",
      "   >      <      <|=|>|r~\n",
      "   >      =      >\n",
      "   >      >      >\n",
      "   >     r~      r~\n",
      "------------------------------\n",
      "  r~      <      r~\n",
      "  r~      =      r~\n",
      "  r~      >      >|r~\n",
      "  r~     r~      <|=|>\n",
      "------------------------------\n"
     ]
    }
   ],
   "source": [
    "qr.print_point_algebra_composition_table(rbb_pt_alg)"
   ]
  },
  {
   "cell_type": "markdown",
   "metadata": {},
   "source": [
    "## Left-Binary-Branching Point Algebra"
   ]
  },
  {
   "cell_type": "code",
   "execution_count": 39,
   "metadata": {},
   "outputs": [],
   "source": [
    "lbb_pt_alg = qr.Algebra(os.path.join(path, \"Algebras/Left_Binary_Branching_Point_Algebra.json\"))"
   ]
  },
  {
   "cell_type": "code",
   "execution_count": 40,
   "metadata": {},
   "outputs": [
    {
     "name": "stdout",
     "output_type": "stream",
     "text": [
      "  Algebra Name: Left_Binary_Branching_Point_Algebra\n",
      "   Description: Left-Binary-Branching Point Algebra\n",
      " Equality Rels: =\n",
      "     Relations:\n",
      "            NAME (SYMBOL)         CONVERSE (ABBREV)  REFLEXIVE  SYMMETRIC TRANSITIVE   DOMAIN        RANGE\n",
      "           LessThan (  <)         GreaterThan (  >)    False      False       True         Pt            Pt\n",
      "             Equals (  =)              Equals (  =)     True       True       True         Pt            Pt\n",
      "        GreaterThan (  >)            LessThan (  <)    False      False       True         Pt            Pt\n",
      "       Incomparable ( l~)        Incomparable ( l~)    False       True      False         Pt            Pt\n",
      "\n",
      "Domain & Range Abbreviations:\n",
      "   Pt = Point\n",
      " PInt = Proper Interval\n"
     ]
    }
   ],
   "source": [
    "lbb_pt_alg.summary()"
   ]
  },
  {
   "cell_type": "code",
   "execution_count": 41,
   "metadata": {},
   "outputs": [
    {
     "name": "stdout",
     "output_type": "stream",
     "text": [
      "Left_Binary_Branching_Point_Algebra\n",
      "Elements: <, =, >, l~\n",
      "==============================\n",
      " rel1 ; rel2 = composition\n",
      "==============================\n",
      "   <      <      <\n",
      "   <      =      <\n",
      "   <      >      <|=|>|l~\n",
      "   <     l~      l~\n",
      "------------------------------\n",
      "   =      <      <\n",
      "   =      =      =\n",
      "   =      >      >\n",
      "   =     l~      l~\n",
      "------------------------------\n",
      "   >      <      <|=|>\n",
      "   >      =      >\n",
      "   >      >      >\n",
      "   >     l~      >|l~\n",
      "------------------------------\n",
      "  l~      <      <|l~\n",
      "  l~      =      l~\n",
      "  l~      >      l~\n",
      "  l~     l~      <|=|>\n",
      "------------------------------\n"
     ]
    }
   ],
   "source": [
    "qr.print_point_algebra_composition_table(lbb_pt_alg)"
   ]
  },
  {
   "cell_type": "code",
   "execution_count": null,
   "metadata": {},
   "outputs": [],
   "source": []
  }
 ],
 "metadata": {
  "kernelspec": {
   "display_name": "Python 3",
   "language": "python",
   "name": "python3"
  },
  "language_info": {
   "codemirror_mode": {
    "name": "ipython",
    "version": 3
   },
   "file_extension": ".py",
   "mimetype": "text/x-python",
   "name": "python",
   "nbconvert_exporter": "python",
   "pygments_lexer": "ipython3",
   "version": "3.7.7"
  }
 },
 "nbformat": 4,
 "nbformat_minor": 2
}
