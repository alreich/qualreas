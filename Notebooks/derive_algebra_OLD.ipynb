{
 "cells": [
  {
   "cell_type": "markdown",
   "metadata": {},
   "source": [
    "# Derive Algebra"
   ]
  },
  {
   "cell_type": "markdown",
   "metadata": {},
   "source": [
    "## References"
   ]
  },
  {
   "cell_type": "markdown",
   "metadata": {},
   "source": [
    "1. [\"Maintaining Knowledge about Temporal Intervals\" by J.F. Allen](https://cse.unl.edu/~choueiry/Documents/Allen-CACM1983.pdf) - Allen's original paper\n",
    "1. [Allen's Interval Algebra](https://www.ics.uci.edu/~alspaugh/cls/shr/allen.html) or [here](https://thomasalspaugh.org/pub/fnd/allen.html) - summarizes Allen's algebra of proper time intervals\n",
    "1. [\"Intervals, Points, and Branching Time\" by A.J. Reich](https://www.researchgate.net/publication/220810644_Intervals_Points_and_Branching_Time) - basis for the extensions here to Allen's algebra\n",
    "1. [W3C Time Ontology in OWL](https://www.w3.org/TR/owl-time/) - temporal vocabulary used here is based on the W3C vocabulary of time\n",
    "1. [bitsets Python package](https://bitsets.readthedocs.io/en/stable/) - used to implement Algebra relation sets and operations\n",
    "1. [NetworkX Python package](http://networkx.github.io/) - used to represent directed graph of constraints\n",
    "1. [Python format string syntax](https://docs.python.org/3/library/string.html#format-string-syntax) - used in Algebra summary method\n",
    "1. [Spatial Ontology](https://www.w3.org/2017/sdwig/bp/) - I'm still looking for a standard spatial vocabulary; maybe start here\n",
    "1. [Qualitative Spatial Relations (QSR) Library](https://qsrlib.readthedocs.io/en/latest/index.html) - an alternative library to the one defined here"
   ]
  },
  {
   "cell_type": "markdown",
   "metadata": {},
   "source": [
    "## Dependencies"
   ]
  },
  {
   "cell_type": "code",
   "execution_count": 1,
   "metadata": {},
   "outputs": [],
   "source": [
    "import os\n",
    "import qualreas as qr\n",
    "import numpy as np\n",
    "\n",
    "import sys"
   ]
  },
  {
   "cell_type": "code",
   "execution_count": 2,
   "metadata": {},
   "outputs": [],
   "source": [
    "sys.setrecursionlimit(10000)"
   ]
  },
  {
   "cell_type": "code",
   "execution_count": 3,
   "metadata": {},
   "outputs": [],
   "source": [
    "path = os.path.join(os.getenv('PYPROJ'), 'qualreas')"
   ]
  },
  {
   "cell_type": "code",
   "execution_count": 4,
   "metadata": {},
   "outputs": [],
   "source": [
    "#pt_alg = qr.Algebra(os.path.join(path, \"Algebras/Linear_Point_Algebra.json\"))\n",
    "pt_alg = qr.Algebra(os.path.join(path, \"Algebras/Right_Branching_Point_Algebra.json\"))\n",
    "#pt_alg = qr.Algebra(os.path.join(path, \"Algebras/Left_Branching_Point_Algebra.json\"))"
   ]
  },
  {
   "cell_type": "code",
   "execution_count": 5,
   "metadata": {},
   "outputs": [],
   "source": [
    "less_than_rel = '=|<'"
   ]
  },
  {
   "cell_type": "markdown",
   "metadata": {},
   "source": [
    "## Create Algebra Elements using 4-Point Networks"
   ]
  },
  {
   "cell_type": "markdown",
   "metadata": {},
   "source": [
    "### Mapping 4-Point Networks to Interval Relations"
   ]
  },
  {
   "cell_type": "markdown",
   "metadata": {},
   "source": [
    "The following dictionary keys (e.g., '<,<,<,<') represent the \"pattern\" of relations in the upper right-hand 2x2 matrix of a 4-Point Network, i.e., elements (rowcol): 13, 14, 23, and 24.  The value (e.g., 'B') corresponding to each key is the name of the relation that corresponds to that pattern.\n",
    "\n",
    "This is how the consistent networks, that get generated farther below, obtain their names."
   ]
  },
  {
   "cell_type": "markdown",
   "metadata": {},
   "source": [
    "### Derive Algebra Elements"
   ]
  },
  {
   "cell_type": "code",
   "execution_count": 6,
   "metadata": {},
   "outputs": [
    {
     "name": "stdout",
     "output_type": "stream",
     "text": [
      "\n",
      "24 consistent networks\n"
     ]
    }
   ],
   "source": [
    "consistent_nets = qr.generate_consistent_networks(pt_alg, lessthan=less_than_rel, verbose=False)"
   ]
  },
  {
   "cell_type": "code",
   "execution_count": 7,
   "metadata": {},
   "outputs": [
    {
     "data": {
      "text/plain": [
       "{'B': <qualreas.FourPointNet at 0x7fd350c76110>,\n",
       " 'M': <qualreas.FourPointNet at 0x7fd350c76e10>,\n",
       " 'PFI': <qualreas.FourPointNet at 0x7fd350c76c90>,\n",
       " 'O': <qualreas.FourPointNet at 0x7fd350c69290>,\n",
       " 'FI': <qualreas.FourPointNet at 0x7fd350c83cd0>,\n",
       " 'DI': <qualreas.FourPointNet at 0x7fd350c884d0>,\n",
       " 'RO': <qualreas.FourPointNet at 0x7fd350c88890>,\n",
       " 'RB': <qualreas.FourPointNet at 0x7fd350c88fd0>,\n",
       " 'PS': <qualreas.FourPointNet at 0x7fd350c9afd0>,\n",
       " 'PE': <qualreas.FourPointNet at 0x7fd350c9bb10>,\n",
       " 'S': <qualreas.FourPointNet at 0x7fd350c9bf10>,\n",
       " 'E': <qualreas.FourPointNet at 0x7fd350c9bb90>,\n",
       " 'SI': <qualreas.FourPointNet at 0x7fd350ca1ed0>,\n",
       " 'RS': <qualreas.FourPointNet at 0x7fd350ca53d0>,\n",
       " 'PSI': <qualreas.FourPointNet at 0x7fd350ca5c50>,\n",
       " 'D': <qualreas.FourPointNet at 0x7fd3484e1ed0>,\n",
       " 'F': <qualreas.FourPointNet at 0x7fd3484e5ed0>,\n",
       " 'OI': <qualreas.FourPointNet at 0x7fd3484e7310>,\n",
       " 'ROI': <qualreas.FourPointNet at 0x7fd3484e77d0>,\n",
       " 'PF': <qualreas.FourPointNet at 0x7fd3484ef150>,\n",
       " 'MI': <qualreas.FourPointNet at 0x7fd3484e7f50>,\n",
       " 'BI': <qualreas.FourPointNet at 0x7fd3484efe50>,\n",
       " 'RBI': <qualreas.FourPointNet at 0x7fd350c71790>,\n",
       " 'R~': <qualreas.FourPointNet at 0x7fd348504e50>}"
      ]
     },
     "execution_count": 7,
     "metadata": {},
     "output_type": "execute_result"
    }
   ],
   "source": [
    "consistent_nets"
   ]
  },
  {
   "cell_type": "code",
   "execution_count": 8,
   "metadata": {},
   "outputs": [
    {
     "name": "stdout",
     "output_type": "stream",
     "text": [
      "['B', 'BI', 'D', 'DI', 'E', 'F', 'FI', 'M', 'MI', 'O', 'OI', 'PE', 'PF', 'PFI', 'PS', 'PSI', 'RB', 'RBI', 'RO', 'ROI', 'RS', 'R~', 'S', 'SI']\n"
     ]
    }
   ],
   "source": [
    "alg_rels_list = list(consistent_nets.keys())\n",
    "alg_rels_list.sort()\n",
    "print(alg_rels_list)"
   ]
  },
  {
   "cell_type": "code",
   "execution_count": 9,
   "metadata": {
    "scrolled": false
   },
   "outputs": [
    {
     "name": "stdout",
     "output_type": "stream",
     "text": [
      "Name: B\n",
      "Domain: ['Point', 'ProperInterval']\n",
      "Range: ['Point', 'ProperInterval']\n",
      "Pattern: <,<,<,<\n",
      "[['=' '<|=' '<' '<']\n",
      " ['=|>' '=' '<' '<']\n",
      " ['>' '>' '=' '<|=']\n",
      " ['>' '>' '=|>' '=']]\n",
      "\n",
      "Name: M\n",
      "Domain: ['ProperInterval']\n",
      "Range: ['ProperInterval']\n",
      "Pattern: <,<,=,<\n",
      "[['=' '<' '<' '<']\n",
      " ['>' '=' '=' '<']\n",
      " ['>' '=' '=' '<']\n",
      " ['>' '>' '>' '=']]\n",
      "\n",
      "Name: PFI\n",
      "Domain: ['ProperInterval']\n",
      "Range: ['Point']\n",
      "Pattern: <,<,=,=\n",
      "[['=' '<' '<' '<']\n",
      " ['>' '=' '=' '=']\n",
      " ['>' '=' '=' '=']\n",
      " ['>' '=' '=' '=']]\n",
      "\n",
      "Name: O\n",
      "Domain: ['ProperInterval']\n",
      "Range: ['ProperInterval']\n",
      "Pattern: <,<,>,<\n",
      "[['=' '<' '<' '<']\n",
      " ['>' '=' '>' '<']\n",
      " ['>' '<' '=' '<']\n",
      " ['>' '>' '>' '=']]\n",
      "\n",
      "Name: FI\n",
      "Domain: ['ProperInterval']\n",
      "Range: ['ProperInterval']\n",
      "Pattern: <,<,>,=\n",
      "[['=' '<' '<' '<']\n",
      " ['>' '=' '>' '=']\n",
      " ['>' '<' '=' '<']\n",
      " ['>' '=' '>' '=']]\n",
      "\n",
      "Name: DI\n",
      "Domain: ['ProperInterval']\n",
      "Range: ['Point', 'ProperInterval']\n",
      "Pattern: <,<,>,>\n",
      "[['=' '<' '<' '<']\n",
      " ['>' '=' '>' '>']\n",
      " ['>' '<' '=' '<|=']\n",
      " ['>' '<' '=|>' '=']]\n",
      "\n",
      "Name: RO\n",
      "Domain: ['ProperInterval']\n",
      "Range: ['ProperInterval']\n",
      "Pattern: <,<,>,r~\n",
      "[['=' '<' '<' '<']\n",
      " ['>' '=' '>' 'r~']\n",
      " ['>' '<' '=' '<']\n",
      " ['>' 'r~' '>' '=']]\n",
      "\n",
      "Name: RB\n",
      "Domain: ['ProperInterval']\n",
      "Range: ['Point', 'ProperInterval']\n",
      "Pattern: <,<,r~,r~\n",
      "[['=' '<' '<' '<']\n",
      " ['>' '=' 'r~' 'r~']\n",
      " ['>' 'r~' '=' '<|=']\n",
      " ['>' 'r~' '=|>' '=']]\n",
      "\n",
      "Name: PS\n",
      "Domain: ['Point']\n",
      "Range: ['ProperInterval']\n",
      "Pattern: =,<,=,<\n",
      "[['=' '=' '=' '<']\n",
      " ['=' '=' '=' '<']\n",
      " ['=' '=' '=' '<']\n",
      " ['>' '>' '>' '=']]\n",
      "\n",
      "Name: PE\n",
      "Domain: ['Point']\n",
      "Range: ['Point']\n",
      "Pattern: =,=,=,=\n",
      "[['=' '=' '=' '=']\n",
      " ['=' '=' '=' '=']\n",
      " ['=' '=' '=' '=']\n",
      " ['=' '=' '=' '=']]\n",
      "\n",
      "Name: S\n",
      "Domain: ['ProperInterval']\n",
      "Range: ['ProperInterval']\n",
      "Pattern: =,<,>,<\n",
      "[['=' '<' '=' '<']\n",
      " ['>' '=' '>' '<']\n",
      " ['=' '<' '=' '<']\n",
      " ['>' '>' '>' '=']]\n",
      "\n",
      "Name: E\n",
      "Domain: ['ProperInterval']\n",
      "Range: ['ProperInterval']\n",
      "Pattern: =,<,>,=\n",
      "[['=' '<' '=' '<']\n",
      " ['>' '=' '>' '=']\n",
      " ['=' '<' '=' '<']\n",
      " ['>' '=' '>' '=']]\n",
      "\n",
      "Name: SI\n",
      "Domain: ['ProperInterval']\n",
      "Range: ['ProperInterval']\n",
      "Pattern: =,<,>,>\n",
      "[['=' '<' '=' '<']\n",
      " ['>' '=' '>' '>']\n",
      " ['=' '<' '=' '<']\n",
      " ['>' '<' '>' '=']]\n",
      "\n",
      "Name: RS\n",
      "Domain: ['ProperInterval']\n",
      "Range: ['ProperInterval']\n",
      "Pattern: =,<,>,r~\n",
      "[['=' '<' '=' '<']\n",
      " ['>' '=' '>' 'r~']\n",
      " ['=' '<' '=' '<']\n",
      " ['>' 'r~' '>' '=']]\n",
      "\n",
      "Name: PSI\n",
      "Domain: ['ProperInterval']\n",
      "Range: ['Point']\n",
      "Pattern: =,=,>,>\n",
      "[['=' '<' '=' '=']\n",
      " ['>' '=' '>' '>']\n",
      " ['=' '<' '=' '=']\n",
      " ['=' '<' '=' '=']]\n",
      "\n",
      "Name: D\n",
      "Domain: ['Point', 'ProperInterval']\n",
      "Range: ['ProperInterval']\n",
      "Pattern: >,<,>,<\n",
      "[['=' '<|=' '>' '<']\n",
      " ['=|>' '=' '>' '<']\n",
      " ['<' '<' '=' '<']\n",
      " ['>' '>' '>' '=']]\n",
      "\n",
      "Name: F\n",
      "Domain: ['ProperInterval']\n",
      "Range: ['ProperInterval']\n",
      "Pattern: >,<,>,=\n",
      "[['=' '<' '>' '<']\n",
      " ['>' '=' '>' '=']\n",
      " ['<' '<' '=' '<']\n",
      " ['>' '=' '>' '=']]\n",
      "\n",
      "Name: OI\n",
      "Domain: ['ProperInterval']\n",
      "Range: ['ProperInterval']\n",
      "Pattern: >,<,>,>\n",
      "[['=' '<' '>' '<']\n",
      " ['>' '=' '>' '>']\n",
      " ['<' '<' '=' '<']\n",
      " ['>' '<' '>' '=']]\n",
      "\n",
      "Name: ROI\n",
      "Domain: ['ProperInterval']\n",
      "Range: ['ProperInterval']\n",
      "Pattern: >,<,>,r~\n",
      "[['=' '<' '>' '<']\n",
      " ['>' '=' '>' 'r~']\n",
      " ['<' '<' '=' '<']\n",
      " ['>' 'r~' '>' '=']]\n",
      "\n",
      "Name: PF\n",
      "Domain: ['Point']\n",
      "Range: ['ProperInterval']\n",
      "Pattern: >,=,>,=\n",
      "[['=' '=' '>' '=']\n",
      " ['=' '=' '>' '=']\n",
      " ['<' '<' '=' '<']\n",
      " ['=' '=' '>' '=']]\n",
      "\n",
      "Name: MI\n",
      "Domain: ['ProperInterval']\n",
      "Range: ['ProperInterval']\n",
      "Pattern: >,=,>,>\n",
      "[['=' '<' '>' '=']\n",
      " ['>' '=' '>' '>']\n",
      " ['<' '<' '=' '<']\n",
      " ['=' '<' '>' '=']]\n",
      "\n",
      "Name: BI\n",
      "Domain: ['Point', 'ProperInterval']\n",
      "Range: ['Point', 'ProperInterval']\n",
      "Pattern: >,>,>,>\n",
      "[['=' '<|=' '>' '>']\n",
      " ['=|>' '=' '>' '>']\n",
      " ['<' '<' '=' '<|=']\n",
      " ['<' '<' '=|>' '=']]\n",
      "\n",
      "Name: RBI\n",
      "Domain: ['Point', 'ProperInterval']\n",
      "Range: ['ProperInterval']\n",
      "Pattern: >,r~,>,r~\n",
      "[['=' '<|=' '>' 'r~']\n",
      " ['=|>' '=' '>' 'r~']\n",
      " ['<' '<' '=' '<']\n",
      " ['r~' 'r~' '>' '=']]\n",
      "\n",
      "Name: R~\n",
      "Domain: ['Point', 'ProperInterval']\n",
      "Range: ['Point', 'ProperInterval']\n",
      "Pattern: r~,r~,r~,r~\n",
      "[['=' '<|=' 'r~' 'r~']\n",
      " ['=|>' '=' 'r~' 'r~']\n",
      " ['r~' 'r~' '=' '<|=']\n",
      " ['r~' 'r~' '=|>' '=']]\n",
      "\n"
     ]
    }
   ],
   "source": [
    "for name in consistent_nets:\n",
    "    net = consistent_nets[name]\n",
    "    dom_rng = net.domain_and_range()\n",
    "    print(f\"Name: {name}\")\n",
    "    print(f\"Domain: {dom_rng[0]}\")\n",
    "    print(f\"Range: {dom_rng[1]}\")\n",
    "    print(f\"Pattern: {net.name}\")  # elements 13, 14, 23, and 24\n",
    "    print(np.array(net.to_list()))\n",
    "    print()"
   ]
  },
  {
   "cell_type": "markdown",
   "metadata": {},
   "source": [
    "## Create Algebra Composition Table using 6-Point Networks"
   ]
  },
  {
   "cell_type": "code",
   "execution_count": 10,
   "metadata": {},
   "outputs": [
    {
     "name": "stdout",
     "output_type": "stream",
     "text": [
      "CPU times: user 51.3 ms, sys: 1.87 ms, total: 53.2 ms\n",
      "Wall time: 52.4 ms\n"
     ]
    },
    {
     "data": {
      "text/plain": [
       "'B|D|M|O|PS|S'"
      ]
     },
     "execution_count": 10,
     "metadata": {},
     "output_type": "execute_result"
    }
   ],
   "source": [
    "%time qr.derive_composition(pt_alg, less_than_rel, 'B', 'F')"
   ]
  },
  {
   "cell_type": "code",
   "execution_count": 11,
   "metadata": {},
   "outputs": [
    {
     "name": "stdout",
     "output_type": "stream",
     "text": [
      "CPU times: user 190 ms, sys: 3.56 ms, total: 193 ms\n",
      "Wall time: 192 ms\n"
     ]
    },
    {
     "data": {
      "text/plain": [
       "'B|D|M|O|PS|RBI|RO|ROI|RS|S'"
      ]
     },
     "execution_count": 11,
     "metadata": {},
     "output_type": "execute_result"
    }
   ],
   "source": [
    "%time qr.derive_composition(pt_alg, less_than_rel, 'B', 'RBI')\n",
    "#%time qr.derive_composition(pt_alg, less_than_rel, 'B', 'LBI')"
   ]
  },
  {
   "cell_type": "code",
   "execution_count": 12,
   "metadata": {},
   "outputs": [
    {
     "name": "stdout",
     "output_type": "stream",
     "text": [
      "CPU times: user 287 ms, sys: 4.03 ms, total: 291 ms\n",
      "Wall time: 290 ms\n"
     ]
    },
    {
     "data": {
      "text/plain": [
       "'BI|D|F|MI|OI|PF|RBI|ROI|R~'"
      ]
     },
     "execution_count": 12,
     "metadata": {},
     "output_type": "execute_result"
    }
   ],
   "source": [
    "%time qr.derive_composition(pt_alg, less_than_rel, 'R~', 'RBI')\n",
    "#%time qr.derive_composition(pt_alg, less_than_rel, 'L~', 'LBI')"
   ]
  },
  {
   "cell_type": "code",
   "execution_count": 13,
   "metadata": {},
   "outputs": [
    {
     "name": "stdout",
     "output_type": "stream",
     "text": [
      "CPU times: user 3.52 s, sys: 44.7 ms, total: 3.56 s\n",
      "Wall time: 3.74 s\n"
     ]
    },
    {
     "data": {
      "text/plain": [
       "'B|BI|D|DI|E|F|FI|M|MI|O|OI|PE|PF|PFI|PS|PSI|RB|RBI|RO|ROI|RS|R~|S|SI'"
      ]
     },
     "execution_count": 13,
     "metadata": {},
     "output_type": "execute_result"
    }
   ],
   "source": [
    "%time qr.derive_composition(pt_alg, less_than_rel, 'R~', 'R~')\n",
    "#%time qr.derive_composition(pt_alg, less_than_rel, 'L~', 'L~')"
   ]
  },
  {
   "cell_type": "code",
   "execution_count": 14,
   "metadata": {},
   "outputs": [
    {
     "name": "stdout",
     "output_type": "stream",
     "text": [
      "CPU times: user 1min 32s, sys: 148 ms, total: 1min 32s\n",
      "Wall time: 1min 34s\n"
     ]
    }
   ],
   "source": [
    "%time td = qr.derive_composition_table(pt_alg, less_than_rel, alg_rels_list)"
   ]
  },
  {
   "cell_type": "code",
   "execution_count": 15,
   "metadata": {
    "scrolled": false
   },
   "outputs": [],
   "source": [
    "#td"
   ]
  },
  {
   "cell_type": "markdown",
   "metadata": {},
   "source": [
    "### Determine Element Properties"
   ]
  },
  {
   "cell_type": "markdown",
   "metadata": {},
   "source": [
    "An relation, $r$, is <b>transitive</b> if $r;r=r$ (i.e., XrY & YrZ ==> XrZ)\n",
    "\n",
    "An relation, $r$, is <b>symmetric</b> if $r=converse(r)$ (i.e., for all X & Y, XrY iff YrZ)\n",
    "\n",
    "An relation, $r$, is <b>reflexive</b> if ... (i.e., for all X, XrX)"
   ]
  },
  {
   "cell_type": "code",
   "execution_count": 16,
   "metadata": {},
   "outputs": [
    {
     "data": {
      "text/plain": [
       "['B', 'BI', 'D', 'DI', 'E', 'F', 'FI', 'PE', 'RB', 'RBI', 'S', 'SI']"
      ]
     },
     "execution_count": 16,
     "metadata": {},
     "output_type": "execute_result"
    }
   ],
   "source": [
    "[rel for rel in alg_rels_list if qr.is_transitive(rel, td)]"
   ]
  },
  {
   "cell_type": "code",
   "execution_count": 17,
   "metadata": {},
   "outputs": [
    {
     "data": {
      "text/plain": [
       "['E', 'PE', 'RS', 'R~']"
      ]
     },
     "execution_count": 17,
     "metadata": {},
     "output_type": "execute_result"
    }
   ],
   "source": [
    "[rel for rel in alg_rels_list if qr.is_symmetric(rel, consistent_nets)]"
   ]
  },
  {
   "cell_type": "code",
   "execution_count": 18,
   "metadata": {},
   "outputs": [
    {
     "data": {
      "text/plain": [
       "['E', 'PE']"
      ]
     },
     "execution_count": 18,
     "metadata": {},
     "output_type": "execute_result"
    }
   ],
   "source": [
    "[rel for rel in alg_rels_list if qr.is_reflexive(rel, consistent_nets)]"
   ]
  },
  {
   "cell_type": "code",
   "execution_count": 19,
   "metadata": {},
   "outputs": [
    {
     "name": "stdout",
     "output_type": "stream",
     "text": [
      "\"RS\": {\n",
      "    \"Converse\": \"RS\",\n",
      "    \"Name\": \"Right-Starts\",\n",
      "    \"Domain\": [\"ProperInterval\"],\n",
      "    \"Range\": [\"ProperInterval\"]\n",
      "    \"Reflexive\": False,\n",
      "    \"Symmetric\": True,\n",
      "    \"Transitive\": False\n"
     ]
    }
   ],
   "source": [
    "import json\n",
    "\n",
    "rel_name = 'RS'\n",
    "indent = '    '\n",
    "net = consistent_nets[rel_name]\n",
    "#part = net.get_2x2_partition_constraints(0, 2, net.name_list)\n",
    "part_inv = net.get_2x2_partition_constraints(2, 0, net.name_list)\n",
    "rel_inv_name = qr.signature_name_mapping[part_inv]\n",
    "\n",
    "print(f\"\\\"{rel_name}\\\": {{\")\n",
    "dom_rng = net.domain_and_range()\n",
    "print(f\"{indent}\\\"Converse\\\": \\\"{rel_inv_name}\\\",\")\n",
    "print(f\"{indent}\\\"Name\\\": \\\"{qr.relation_long_names[rel_name]}\\\",\")\n",
    "print(f\"{indent}\\\"Domain\\\": {json.dumps(dom_rng[0])},\")\n",
    "print(f\"{indent}\\\"Range\\\": {json.dumps(dom_rng[1])}\")\n",
    "print(f\"{indent}\\\"Reflexive\\\": {qr.is_reflexive(rel_name, consistent_nets)},\")\n",
    "print(f\"{indent}\\\"Symmetric\\\": {qr.is_symmetric(rel_name, consistent_nets)},\")\n",
    "print(f\"{indent}\\\"Transitive\\\": {qr.is_transitive(rel_name, td)}\")"
   ]
  },
  {
   "cell_type": "code",
   "execution_count": null,
   "metadata": {},
   "outputs": [],
   "source": []
  },
  {
   "cell_type": "raw",
   "metadata": {},
   "source": [
    "rel = 'R~'\n",
    "relation_info(rel, consistent_nets[rel])"
   ]
  },
  {
   "cell_type": "code",
   "execution_count": null,
   "metadata": {},
   "outputs": [],
   "source": []
  },
  {
   "cell_type": "raw",
   "metadata": {},
   "source": [
    "from collections import OrderedDict\n",
    "\n",
    "rel_dict = collections.OrderedDict()\n",
    "\n",
    "alg_rels_list = list(consistent_nets.keys())\n",
    "alg_rels_list.sort()\n",
    "\n",
    "for rel_name in alg_rels_list:\n",
    "    rel_pt_net = consistent_nets[rel_name]\n",
    "    rel_dict[rel_name] = relation_info(rel_name, rel_pt_net)\n",
    "\n",
    "dict(rel_dict)"
   ]
  },
  {
   "cell_type": "code",
   "execution_count": null,
   "metadata": {},
   "outputs": [],
   "source": []
  },
  {
   "cell_type": "raw",
   "metadata": {},
   "source": [
    "from collections import OrderedDict\n",
    "\n",
    "def relation_info(rel_name, net):\n",
    "    info = dict()\n",
    "    dom_rng = net.domain_and_range()\n",
    "    part_inv = net.get_2x2_partition_constraints(2, 0, net.name_list)\n",
    "    rel_inv_name = qr.signature_name_mapping[part_inv]\n",
    "    info[\"Name\"] = qr.relation_long_names[rel_name]\n",
    "    info[\"Converse\"] = rel_inv_name\n",
    "    info[\"Domain\"] = dom_rng[0]\n",
    "    info[\"Range\"] = dom_rng[1]\n",
    "    info[\"Reflexive\"] = qr.is_reflexive(rel_name, consistent_nets)\n",
    "    info[\"Symmetric\"] = qr.is_symmetric(rel_name, consistent_nets)\n",
    "    info[\"Transitive\"] = qr.is_transitive(rel_name, td)\n",
    "    return info\n",
    "\n",
    "def relation_dict(consistent_networks):\n",
    "    rel_dict = OrderedDict()\n",
    "    alg_rels_list = list(consistent_networks.keys())\n",
    "    alg_rels_list.sort()\n",
    "    for rel_name in alg_rels_list:\n",
    "        rel_pt_net = consistent_networks[rel_name]\n",
    "        rel_dict[rel_name] = relation_info(rel_name, rel_pt_net)\n",
    "    return dict(rel_dict)"
   ]
  },
  {
   "cell_type": "code",
   "execution_count": null,
   "metadata": {},
   "outputs": [],
   "source": []
  },
  {
   "cell_type": "markdown",
   "metadata": {},
   "source": [
    "## Derive Interval Algebra from Point Algebra"
   ]
  },
  {
   "cell_type": "code",
   "execution_count": 21,
   "metadata": {},
   "outputs": [
    {
     "data": {
      "text/plain": [
       "{'B': {'Name': 'Before',\n",
       "  'Converse': 'BI',\n",
       "  'Domain': ['Point', 'ProperInterval'],\n",
       "  'Range': ['Point', 'ProperInterval'],\n",
       "  'Reflexive': False,\n",
       "  'Symmetric': False,\n",
       "  'Transitive': True},\n",
       " 'BI': {'Name': 'After',\n",
       "  'Converse': 'B',\n",
       "  'Domain': ['Point', 'ProperInterval'],\n",
       "  'Range': ['Point', 'ProperInterval'],\n",
       "  'Reflexive': False,\n",
       "  'Symmetric': False,\n",
       "  'Transitive': True},\n",
       " 'D': {'Name': 'During',\n",
       "  'Converse': 'DI',\n",
       "  'Domain': ['Point', 'ProperInterval'],\n",
       "  'Range': ['ProperInterval'],\n",
       "  'Reflexive': False,\n",
       "  'Symmetric': False,\n",
       "  'Transitive': True},\n",
       " 'DI': {'Name': 'Contains',\n",
       "  'Converse': 'D',\n",
       "  'Domain': ['ProperInterval'],\n",
       "  'Range': ['Point', 'ProperInterval'],\n",
       "  'Reflexive': False,\n",
       "  'Symmetric': False,\n",
       "  'Transitive': True},\n",
       " 'E': {'Name': 'Equals',\n",
       "  'Converse': 'E',\n",
       "  'Domain': ['ProperInterval'],\n",
       "  'Range': ['ProperInterval'],\n",
       "  'Reflexive': True,\n",
       "  'Symmetric': True,\n",
       "  'Transitive': True},\n",
       " 'F': {'Name': 'Finishes',\n",
       "  'Converse': 'FI',\n",
       "  'Domain': ['ProperInterval'],\n",
       "  'Range': ['ProperInterval'],\n",
       "  'Reflexive': False,\n",
       "  'Symmetric': False,\n",
       "  'Transitive': True},\n",
       " 'FI': {'Name': 'Finished-by',\n",
       "  'Converse': 'F',\n",
       "  'Domain': ['ProperInterval'],\n",
       "  'Range': ['ProperInterval'],\n",
       "  'Reflexive': False,\n",
       "  'Symmetric': False,\n",
       "  'Transitive': True},\n",
       " 'M': {'Name': 'Meets',\n",
       "  'Converse': 'MI',\n",
       "  'Domain': ['ProperInterval'],\n",
       "  'Range': ['ProperInterval'],\n",
       "  'Reflexive': False,\n",
       "  'Symmetric': False,\n",
       "  'Transitive': False},\n",
       " 'MI': {'Name': 'Met-By',\n",
       "  'Converse': 'M',\n",
       "  'Domain': ['ProperInterval'],\n",
       "  'Range': ['ProperInterval'],\n",
       "  'Reflexive': False,\n",
       "  'Symmetric': False,\n",
       "  'Transitive': False},\n",
       " 'O': {'Name': 'Overlaps',\n",
       "  'Converse': 'OI',\n",
       "  'Domain': ['ProperInterval'],\n",
       "  'Range': ['ProperInterval'],\n",
       "  'Reflexive': False,\n",
       "  'Symmetric': False,\n",
       "  'Transitive': False},\n",
       " 'OI': {'Name': 'Overlapped-By',\n",
       "  'Converse': 'O',\n",
       "  'Domain': ['ProperInterval'],\n",
       "  'Range': ['ProperInterval'],\n",
       "  'Reflexive': False,\n",
       "  'Symmetric': False,\n",
       "  'Transitive': False},\n",
       " 'PE': {'Name': 'Point-Equals',\n",
       "  'Converse': 'PE',\n",
       "  'Domain': ['Point'],\n",
       "  'Range': ['Point'],\n",
       "  'Reflexive': True,\n",
       "  'Symmetric': True,\n",
       "  'Transitive': True},\n",
       " 'PF': {'Name': 'Point-Finishes',\n",
       "  'Converse': 'PFI',\n",
       "  'Domain': ['Point'],\n",
       "  'Range': ['ProperInterval'],\n",
       "  'Reflexive': False,\n",
       "  'Symmetric': False,\n",
       "  'Transitive': False},\n",
       " 'PFI': {'Name': 'Point-Finished-By',\n",
       "  'Converse': 'PF',\n",
       "  'Domain': ['ProperInterval'],\n",
       "  'Range': ['Point'],\n",
       "  'Reflexive': False,\n",
       "  'Symmetric': False,\n",
       "  'Transitive': False},\n",
       " 'PS': {'Name': 'Point-Starts',\n",
       "  'Converse': 'PSI',\n",
       "  'Domain': ['Point'],\n",
       "  'Range': ['ProperInterval'],\n",
       "  'Reflexive': False,\n",
       "  'Symmetric': False,\n",
       "  'Transitive': False},\n",
       " 'PSI': {'Name': 'Point-Started-By',\n",
       "  'Converse': 'PS',\n",
       "  'Domain': ['ProperInterval'],\n",
       "  'Range': ['Point'],\n",
       "  'Reflexive': False,\n",
       "  'Symmetric': False,\n",
       "  'Transitive': False},\n",
       " 'RB': {'Name': 'Right-Before',\n",
       "  'Converse': 'RBI',\n",
       "  'Domain': ['ProperInterval'],\n",
       "  'Range': ['Point', 'ProperInterval'],\n",
       "  'Reflexive': False,\n",
       "  'Symmetric': False,\n",
       "  'Transitive': True},\n",
       " 'RBI': {'Name': 'Right-After',\n",
       "  'Converse': 'RB',\n",
       "  'Domain': ['Point', 'ProperInterval'],\n",
       "  'Range': ['ProperInterval'],\n",
       "  'Reflexive': False,\n",
       "  'Symmetric': False,\n",
       "  'Transitive': True},\n",
       " 'RO': {'Name': 'Right-Overlaps',\n",
       "  'Converse': 'ROI',\n",
       "  'Domain': ['ProperInterval'],\n",
       "  'Range': ['ProperInterval'],\n",
       "  'Reflexive': False,\n",
       "  'Symmetric': False,\n",
       "  'Transitive': False},\n",
       " 'ROI': {'Name': 'Right-Overlapped-By',\n",
       "  'Converse': 'RO',\n",
       "  'Domain': ['ProperInterval'],\n",
       "  'Range': ['ProperInterval'],\n",
       "  'Reflexive': False,\n",
       "  'Symmetric': False,\n",
       "  'Transitive': False},\n",
       " 'RS': {'Name': 'Right-Starts',\n",
       "  'Converse': 'RS',\n",
       "  'Domain': ['ProperInterval'],\n",
       "  'Range': ['ProperInterval'],\n",
       "  'Reflexive': False,\n",
       "  'Symmetric': True,\n",
       "  'Transitive': False},\n",
       " 'R~': {'Name': 'Right-Incomparable',\n",
       "  'Converse': 'R~',\n",
       "  'Domain': ['Point', 'ProperInterval'],\n",
       "  'Range': ['Point', 'ProperInterval'],\n",
       "  'Reflexive': False,\n",
       "  'Symmetric': True,\n",
       "  'Transitive': False},\n",
       " 'S': {'Name': 'Starts',\n",
       "  'Converse': 'SI',\n",
       "  'Domain': ['ProperInterval'],\n",
       "  'Range': ['ProperInterval'],\n",
       "  'Reflexive': False,\n",
       "  'Symmetric': False,\n",
       "  'Transitive': True},\n",
       " 'SI': {'Name': 'Started-By',\n",
       "  'Converse': 'S',\n",
       "  'Domain': ['ProperInterval'],\n",
       "  'Range': ['ProperInterval'],\n",
       "  'Reflexive': False,\n",
       "  'Symmetric': False,\n",
       "  'Transitive': True}}"
      ]
     },
     "execution_count": 21,
     "metadata": {},
     "output_type": "execute_result"
    }
   ],
   "source": [
    "qr.derive_relation_dict(consistent_nets, td)"
   ]
  },
  {
   "cell_type": "code",
   "execution_count": null,
   "metadata": {},
   "outputs": [],
   "source": []
  },
  {
   "cell_type": "code",
   "execution_count": null,
   "metadata": {},
   "outputs": [],
   "source": []
  },
  {
   "cell_type": "code",
   "execution_count": null,
   "metadata": {},
   "outputs": [],
   "source": []
  },
  {
   "cell_type": "code",
   "execution_count": null,
   "metadata": {},
   "outputs": [],
   "source": []
  }
 ],
 "metadata": {
  "kernelspec": {
   "display_name": "Python 3",
   "language": "python",
   "name": "python3"
  },
  "language_info": {
   "codemirror_mode": {
    "name": "ipython",
    "version": 3
   },
   "file_extension": ".py",
   "mimetype": "text/x-python",
   "name": "python",
   "nbconvert_exporter": "python",
   "pygments_lexer": "ipython3",
   "version": "3.7.7"
  }
 },
 "nbformat": 4,
 "nbformat_minor": 2
}
