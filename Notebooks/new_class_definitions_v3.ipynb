{
 "cells": [
  {
   "cell_type": "markdown",
   "metadata": {},
   "source": [
    "# New Class Definitions"
   ]
  },
  {
   "cell_type": "markdown",
   "metadata": {},
   "source": [
    "<i>Version 3</i>"
   ]
  },
  {
   "cell_type": "markdown",
   "metadata": {},
   "source": [
    "## References"
   ]
  },
  {
   "cell_type": "markdown",
   "metadata": {},
   "source": [
    "1. [\"Maintaining Knowledge about Temporal Intervals\" by James F. Allen](https://cse.unl.edu/~choueiry/Documents/Allen-CACM1983.pdf) - Allen's original paper (PDF)\n",
    "1. [Allen's Interval Algebra](https://www.ics.uci.edu/~alspaugh/cls/shr/allen.html) or [here](https://thomasalspaugh.org/pub/fnd/allen.html) - summarizes Allen's algebra of proper time intervals\n",
    "1. [W3C Time Ontology in OWL](https://www.w3.org/TR/owl-time/) - temporal vocabulary used here is based on the W3C vocabulary of time\n",
    "1. [bitsets Python package](https://bitsets.readthedocs.io/en/stable/) - used to implement Algebra relation sets and operations\n",
    "1. [NetworkX Python package](http://networkx.github.io/) - used to represent directed graph of constraints\n",
    "1. [Python format string syntax](https://docs.python.org/3/library/string.html#format-string-syntax) - used in Algebra summary method\n",
    "1. [Spatial Ontology](https://www.w3.org/2017/sdwig/bp/) - I'm still looking for a standard spatial vocabulary; maybe start here\n",
    "1. [Qualitative Spatial Relations (QSR) Library](https://qsrlib.readthedocs.io/en/latest/index.html) - an alternative library to the one defined here"
   ]
  },
  {
   "cell_type": "markdown",
   "metadata": {},
   "source": [
    "## Dependencies"
   ]
  },
  {
   "cell_type": "code",
   "execution_count": 221,
   "metadata": {},
   "outputs": [],
   "source": [
    "from bitsets import bitset, bases\n",
    "import json\n",
    "import networkx as nx\n",
    "from functools import reduce\n",
    "#import uuid\n",
    "#from itertools import combinations, chain\n",
    "import os"
   ]
  },
  {
   "cell_type": "code",
   "execution_count": 222,
   "metadata": {},
   "outputs": [],
   "source": [
    "path = os.path.join(os.getenv('PYPROJ'), 'qualreas')"
   ]
  },
  {
   "cell_type": "markdown",
   "metadata": {},
   "source": [
    "## Relation Sets"
   ]
  },
  {
   "cell_type": "code",
   "execution_count": 223,
   "metadata": {},
   "outputs": [],
   "source": [
    "class RelSet(bases.BitSet):\n",
    "    \n",
    "    def __str__(self):\n",
    "        return \"|\".join(self.members())\n",
    "    \n",
    "    def __add__(self, rs):\n",
    "        return self.intersection(rs)"
   ]
  },
  {
   "cell_type": "code",
   "execution_count": 224,
   "metadata": {},
   "outputs": [
    {
     "data": {
      "text/plain": [
       "'a'"
      ]
     },
     "execution_count": 224,
     "metadata": {},
     "output_type": "execute_result"
    }
   ],
   "source": [
    "\"|\".join(['a'])"
   ]
  },
  {
   "cell_type": "markdown",
   "metadata": {},
   "source": [
    "## Abbreviations for Algebra Summary"
   ]
  },
  {
   "cell_type": "code",
   "execution_count": 225,
   "metadata": {},
   "outputs": [],
   "source": [
    "# TODO: Don't embed the abbreviation dictionary in code; create a file for it\n",
    "def abbrev(term_list):\n",
    "    abbrev_dict = {\"Point\": \"Pt\",\n",
    "                   \"ProperInterval\": \"PInt\",\n",
    "                   \"Interval\": \"Int\"}\n",
    "    return '|'.join([abbrev_dict[term] for term in term_list])"
   ]
  },
  {
   "cell_type": "markdown",
   "metadata": {},
   "source": [
    "## Temporal Entities"
   ]
  },
  {
   "cell_type": "code",
   "execution_count": 226,
   "metadata": {},
   "outputs": [],
   "source": [
    "# See https://www.w3.org/TR/owl-time/\n",
    "# types: \"Point\", \"ProperInterval\", \"Duration\"\n",
    "class TemporalEntity(object):\n",
    "\n",
    "    def __init__(self, types, name=None, start=None, end=None, dur=None):\n",
    "        self.types = types\n",
    "        self.name = name\n",
    "        self.start = start\n",
    "        self.end = end\n",
    "        self.duration = dur\n",
    "\n",
    "    def __repr__(self):\n",
    "        if self.name:\n",
    "            return f\"<TemporalEntity {self.name} {self.types}>\"\n",
    "        else:\n",
    "            return f\"<TemporalEntity {self.types}>\""
   ]
  },
  {
   "cell_type": "markdown",
   "metadata": {},
   "source": [
    "## Spatial Entities"
   ]
  },
  {
   "cell_type": "code",
   "execution_count": 227,
   "metadata": {},
   "outputs": [],
   "source": [
    "# Don't have a good source yet for a spatial vocabulary,\n",
    "# but see https://www.w3.org/2017/sdwig/bp/\n",
    "class SpatialEntity(object):\n",
    "\n",
    "    def __init__(self, types, name=None):\n",
    "        self.types = types\n",
    "        self.name = name\n",
    "\n",
    "    def __repr__(self):\n",
    "        if self.name:\n",
    "            return f\"<SpatialObject {self.name} {self.types}>\"\n",
    "        else:\n",
    "            return f\"<SpatialObject {self.types}>\""
   ]
  },
  {
   "cell_type": "markdown",
   "metadata": {},
   "source": [
    "## Algebras"
   ]
  },
  {
   "cell_type": "code",
   "execution_count": 228,
   "metadata": {},
   "outputs": [],
   "source": [
    "class Algebra(object):\n",
    "\n",
    "    def __init__(self, filename):\n",
    "        \"\"\"An algebra is created from a JSON file containing the algebra's\n",
    "        relation and transitivity table definitions.\n",
    "        \"\"\"\n",
    "        with open(filename, 'r') as f:\n",
    "            self.algebra_dict = json.load(f)\n",
    "\n",
    "        self.name = self.algebra_dict[\"Name\"]\n",
    "\n",
    "        self.description = self.algebra_dict[\"Description\"]\n",
    "\n",
    "        # TODO: For consistency, rename relations_dict to rel_dict\n",
    "        self.relations_dict = self.algebra_dict[\"Relations\"]\n",
    "\n",
    "        #self.elements_bitset = bitset(self.name, tuple(self.relations_dict.keys()))  # A class object\n",
    "        self.elements_bitset = bitset('relset', tuple(self.relations_dict.keys()), base=RelSet)\n",
    "\n",
    "        # TODO: Rename 'identity' to 'elements'\n",
    "        self.elements = self.elements_bitset.supremum\n",
    "\n",
    "        # The equality relations of the algebra\n",
    "        self.__equality_relations = self.relset([rel for rel in self.elements if self.rel_equality(rel)])\n",
    "\n",
    "        # Populate a dictionary that allows equality relations to be looked-up based on their domain/range.\n",
    "        self.equality_relations_dict = dict()\n",
    "        for eqrel in self.__equality_relations:\n",
    "            dom = self.rel_domain(eqrel)[0]  # Get the single item out of the eqrel's domain set.\n",
    "            self.equality_relations_dict[dom] = self.relset([eqrel])\n",
    "\n",
    "\n",
    "        # Setup the transitivity table used by Relation Set multiplication\n",
    "        self.transitivity_table = dict()\n",
    "        tabledefs = self.algebra_dict[\"TransTable\"]\n",
    "        for rel1 in tabledefs:\n",
    "            self.transitivity_table[rel1] = dict()\n",
    "            for rel2 in tabledefs[rel1]:\n",
    "                self.transitivity_table[rel1][rel2] = self.elements_bitset(tuple(tabledefs[rel1][rel2]))\n",
    "\n",
    "    # Accessors for information about a given relation.\n",
    "\n",
    "    def rel_name(self, rel):\n",
    "        return self.relations_dict[rel][\"Name\"]\n",
    "\n",
    "    def rel_domain(self, rel):\n",
    "        return self.relations_dict[rel][\"Domain\"]\n",
    "\n",
    "    def rel_range(self, rel):\n",
    "        return self.relations_dict[rel][\"Range\"]\n",
    "\n",
    "    def rel_reflexive(self, rel):\n",
    "        return self.relations_dict[rel][\"Reflexive\"]\n",
    "\n",
    "    def rel_symmetric(self, rel):\n",
    "        return self.relations_dict[rel][\"Symmetric\"]\n",
    "\n",
    "    def rel_transitive(self, rel):\n",
    "        return self.relations_dict[rel][\"Transitive\"]\n",
    "\n",
    "    def rel_equality(self, rel):\n",
    "        return self.rel_reflexive(rel) & self.rel_symmetric(rel) & self.rel_transitive(rel)\n",
    "\n",
    "    def converse(self, rel_or_relset):\n",
    "        \"\"\"Return the converse of a relation (str) or relation set (bitset).\"\"\"\n",
    "        if isinstance(rel_or_relset, str):\n",
    "            return self.relations_dict[rel_or_relset][\"Converse\"]\n",
    "        else:\n",
    "            return self.elements_bitset((self.converse(r) for r in rel_or_relset.members()))\n",
    "\n",
    "    def __str__(self):\n",
    "        \"\"\"Return a string representation of the Algebra.\"\"\"\n",
    "        return f\"<{self.name}: {self.description}>\"\n",
    "\n",
    "    @property\n",
    "    def equality_relations(self):\n",
    "        return self.__equality_relations\n",
    "\n",
    "    def equality_relation(self, domain_or_range):\n",
    "        return self.equality_relations_dict[domain_or_range]\n",
    "\n",
    "    def relset(self, relations):\n",
    "        \"\"\"Return a relation set (bitset) for the given relations.\"\"\"\n",
    "        return self.elements_bitset(relations)\n",
    "    \n",
    "    def string_to_relset(self, string, delimiter='|'):\n",
    "        \"\"\"Take a string like 'B|M|O' and turn it into a relation set.\"\"\"\n",
    "        return self.relset(string.split(delimiter))\n",
    "\n",
    "    def mult(self, relset1, relset2):\n",
    "        \"\"\"Multiplication is done, element-by-element, on the cross-product\n",
    "        of the two sets using the algebra's transitivity table, and\n",
    "        then reducing those results to a single relation set using set\n",
    "        union.\n",
    "        \"\"\"\n",
    "        result = self.elements_bitset.infimum  # the empty relation set\n",
    "        for r1 in relset1:\n",
    "            for r2 in relset2:\n",
    "                result = result.union(self.transitivity_table[r1][r2])\n",
    "        return result\n",
    "\n",
    "    def check_multiplication_identity(self, verbose=False):\n",
    "        \"\"\"Check the validity of the multiplicative identity for every\n",
    "        combination of singleton relset.  :param verbose: Print out\n",
    "        the details of each test :return: True or False\n",
    "\n",
    "        \"\"\"\n",
    "        count = 0\n",
    "        result = True\n",
    "        rels = self.elements\n",
    "        for r in rels:\n",
    "            r_rs = self.relset((r,))\n",
    "            for s in rels:\n",
    "                count += 1\n",
    "                s_rs = self.relset((s,))\n",
    "                prod1 = self.mult(r_rs, s_rs)\n",
    "                prod2 = self.converse(self.mult(self.converse(s_rs), self.converse(r_rs)))\n",
    "                if prod1 != prod2:\n",
    "                    if verbose:\n",
    "                        print(\"FAIL:\")\n",
    "                        print(f\"      r    = {r_rs}\")\n",
    "                        print(f\"      s    = {s_rs}\")\n",
    "                        print(f\"( r *  s)  = {prod1}\")\n",
    "                        print(f\"(si * ri)i = {prod2}\")\n",
    "                        print(f\"{prod1} != {prod2}\")\n",
    "                    result = False\n",
    "        if verbose:\n",
    "            print(f\"\\n{self.name} -- Multiplication Identity Check:\")\n",
    "        if result:\n",
    "            if verbose:\n",
    "                print(f\"PASSED . {count} products tested.\")\n",
    "        else:\n",
    "            if verbose:\n",
    "                print(\"FAILED. See FAILURE output above.\")\n",
    "        return result\n",
    "\n",
    "    def summary(self):\n",
    "        \"\"\"Print out a summary of this algebra and its elements.\"\"\"\n",
    "        print(f\"  Algebra Name: {self.name}\")\n",
    "        print(f\"   Description: {self.description}\")\n",
    "        print(f\" Equality Rels: {self.equality_relations}\")\n",
    "        print(\"     Relations:\")\n",
    "        print(\"{:>25s} {:>25s} {:>10s} {:>10s} {:>10s} {:>8s} {:>12s}\".format(\"NAME (ABBREV)\", \"CONVERSE (ABBREV)\",\n",
    "                                                                              \"REFLEXIVE\", \"SYMMETRIC\", \"TRANSITIVE\",\n",
    "                                                                              \"DOMAIN\", \"RANGE\"))\n",
    "        # TODO: Vary spacing between columns based on max word lengths\n",
    "        # For syntax used below see https://docs.python.org/3/library/string.html#format-string-syntax\n",
    "        for r in self.elements:\n",
    "            print(f\"{self.rel_name(r):>19s} ({r:>3s}) \"\n",
    "                  f\"{self.rel_name(self.converse(r)):>19s} ({self.converse(r):>3s}) \"\n",
    "                  f\"{self.rel_reflexive(r)!s:>8} {self.rel_symmetric(r)!s:>10} {self.rel_transitive(r)!s:>10}\"\n",
    "                  f\"{abbrev(self.rel_domain(r))!s:>11} {abbrev(self.rel_range(r))!s:>13}\")\n",
    "        # TODO: Don't hardcode the legend below; make it depend on an abbreviations file (JSON)\n",
    "        print(\"\\nDomain & Range Abbreviations:\")\n",
    "        print(\"   Pt = Point\")\n",
    "        print(\" PInt = Proper Interval\")\n",
    "\n",
    "    def is_associative(self, verbose=False):\n",
    "        result = True\n",
    "        countskipped = 0\n",
    "        countok = 0\n",
    "        countfailed = 0\n",
    "        counttotal = 0\n",
    "        rels = self.elements\n",
    "        for _a in rels:\n",
    "            for _b in rels:\n",
    "                for _c in rels:\n",
    "                    if verbose:\n",
    "                        print(f\"{_a} x {_b} x {_c} :\")\n",
    "                    a_rs = self.relset((_a,))\n",
    "                    b_rs = self.relset((_b,))\n",
    "                    c_rs = self.relset((_c,))\n",
    "                    if set(self.rel_range(_a)) & set(self.rel_domain(_b)):\n",
    "                        prod_ab = a_rs * b_rs\n",
    "                        prod_ab_c = prod_ab * c_rs\n",
    "                        if set(self.rel_range(_b)) & set(self.rel_domain(_c)):\n",
    "                            prod_bc = b_rs * c_rs\n",
    "                            prod_a_bc = a_rs * prod_bc\n",
    "                            if not (prod_ab_c == prod_a_bc):\n",
    "                                if verbose:\n",
    "                                    print(f\"  Associativity fails for a = {a_rs}, b = {b_rs}, c = {c_rs}\")\n",
    "                                    print(\n",
    "                                        f\"    associativity check: {self.rel_range(_a)}::{self.rel_domain(_b)} \\\n",
    "                                        {self.rel_range(_b)}::{self.rel_domain(_c)}\")\n",
    "                                    print(f\"    (a * b) * c = {prod_ab_c}\")\n",
    "                                    print(f\"    a * (b * c) = {prod_a_bc}\")\n",
    "                                countfailed += 1\n",
    "                                counttotal += 1\n",
    "                                result = False\n",
    "                            else:\n",
    "                                if verbose:\n",
    "                                    print(\"  Associativity OK\")\n",
    "                                countok += 1\n",
    "                                counttotal += 1\n",
    "                        else:\n",
    "                            if verbose:\n",
    "                                print(\n",
    "                                    f\"  Skipping check due to b x c: {self.rel_range(_b)}::{self.rel_domain(_c)}\")\n",
    "                            countskipped += 1\n",
    "                            counttotal += 1\n",
    "                    else:\n",
    "                        if verbose:\n",
    "                            print(f\"  Skipping check due to a x b: {self.rel_range(_a)}::{self.rel_domain(_b)}\")\n",
    "                        countskipped += 1\n",
    "                        counttotal += 1\n",
    "        print(f\"\\nTEST SUMMARY: {countok} OK, {countskipped} Skipped, {countfailed} Failed ({counttotal} Total)\")\n",
    "        numrels = len(rels)\n",
    "        totaltests = numrels * numrels * numrels\n",
    "        if counttotal != totaltests:\n",
    "            print(f\"Test counts do not add up; Total should be {totaltests}\")\n",
    "        return result"
   ]
  },
  {
   "cell_type": "markdown",
   "metadata": {},
   "source": [
    "## Instantiate An Algebra"
   ]
  },
  {
   "cell_type": "code",
   "execution_count": 229,
   "metadata": {},
   "outputs": [
    {
     "name": "stdout",
     "output_type": "stream",
     "text": [
      "<LinearTimeAlgebra: Allen's algebra of proper time intervals>\n"
     ]
    }
   ],
   "source": [
    "alg = Algebra(os.path.join(path, \"Algebras/IntervalAlgebra.json\"))  # Allen's algebra of proper time intervals\n",
    "#alg = Algebra(os.path.join(path, \"Algebras/LeftBranchingIntervalAndPointAlgebra.json\"))\n",
    "#alg = Algebra(os.path.join(path, \"Algebras/RightBranchingIntervalAndPointAlgebra.json\"))\n",
    "#alg = Algebra(os.path.join(path, \"Algebras/rcc8Algebra.json\"))\n",
    "\n",
    "print(alg)"
   ]
  },
  {
   "cell_type": "markdown",
   "metadata": {},
   "source": [
    "## Algebraic Elements"
   ]
  },
  {
   "cell_type": "code",
   "execution_count": 230,
   "metadata": {},
   "outputs": [
    {
     "data": {
      "text/plain": [
       "relset(['B', 'BI', 'D', 'DI', 'E', 'F', 'FI', 'M', 'MI', 'O', 'OI', 'S', 'SI'])"
      ]
     },
     "execution_count": 230,
     "metadata": {},
     "output_type": "execute_result"
    }
   ],
   "source": [
    "alg.elements"
   ]
  },
  {
   "cell_type": "code",
   "execution_count": 231,
   "metadata": {},
   "outputs": [
    {
     "data": {
      "text/plain": [
       "relset(['B'])"
      ]
     },
     "execution_count": 231,
     "metadata": {},
     "output_type": "execute_result"
    }
   ],
   "source": [
    "before = alg.relset(['B'])\n",
    "before"
   ]
  },
  {
   "cell_type": "code",
   "execution_count": 232,
   "metadata": {},
   "outputs": [
    {
     "data": {
      "text/plain": [
       "relset(['D'])"
      ]
     },
     "execution_count": 232,
     "metadata": {},
     "output_type": "execute_result"
    }
   ],
   "source": [
    "during = alg.relset(['D'])\n",
    "during"
   ]
  },
  {
   "cell_type": "code",
   "execution_count": 233,
   "metadata": {},
   "outputs": [
    {
     "data": {
      "text/plain": [
       "'Before'"
      ]
     },
     "execution_count": 233,
     "metadata": {},
     "output_type": "execute_result"
    }
   ],
   "source": [
    "alg.rel_name('B')"
   ]
  },
  {
   "cell_type": "code",
   "execution_count": 234,
   "metadata": {},
   "outputs": [
    {
     "data": {
      "text/plain": [
       "relset(['B', 'M', 'OI'])"
      ]
     },
     "execution_count": 234,
     "metadata": {},
     "output_type": "execute_result"
    }
   ],
   "source": [
    "bmoi = alg.relset(('B','M','OI'))\n",
    "bmoi"
   ]
  },
  {
   "cell_type": "code",
   "execution_count": 235,
   "metadata": {},
   "outputs": [
    {
     "name": "stdout",
     "output_type": "stream",
     "text": [
      "B\n",
      "M\n",
      "OI\n"
     ]
    }
   ],
   "source": [
    "for rel in bmoi:\n",
    "    print(rel)"
   ]
  },
  {
   "cell_type": "code",
   "execution_count": 236,
   "metadata": {},
   "outputs": [
    {
     "data": {
      "text/plain": [
       "relset(['E'])"
      ]
     },
     "execution_count": 236,
     "metadata": {},
     "output_type": "execute_result"
    }
   ],
   "source": [
    "alg.equality_relations"
   ]
  },
  {
   "cell_type": "code",
   "execution_count": 237,
   "metadata": {},
   "outputs": [
    {
     "data": {
      "text/plain": [
       "relset(['E'])"
      ]
     },
     "execution_count": 237,
     "metadata": {},
     "output_type": "execute_result"
    }
   ],
   "source": [
    "alg.equality_relation(\"ProperInterval\")"
   ]
  },
  {
   "cell_type": "markdown",
   "metadata": {},
   "source": [
    "### relsets to strings & vice versa"
   ]
  },
  {
   "cell_type": "code",
   "execution_count": 238,
   "metadata": {},
   "outputs": [
    {
     "data": {
      "text/plain": [
       "'B|M|O'"
      ]
     },
     "execution_count": 238,
     "metadata": {},
     "output_type": "execute_result"
    }
   ],
   "source": [
    "bmo = str(alg.relset(['B','M','O']))\n",
    "bmo"
   ]
  },
  {
   "cell_type": "code",
   "execution_count": 239,
   "metadata": {},
   "outputs": [
    {
     "data": {
      "text/plain": [
       "relset(['B', 'M', 'O'])"
      ]
     },
     "execution_count": 239,
     "metadata": {},
     "output_type": "execute_result"
    }
   ],
   "source": [
    "bmo_copy = alg.string_to_relset(bmo)\n",
    "bmo_copy"
   ]
  },
  {
   "cell_type": "markdown",
   "metadata": {},
   "source": [
    "## Converses"
   ]
  },
  {
   "cell_type": "code",
   "execution_count": 240,
   "metadata": {},
   "outputs": [
    {
     "data": {
      "text/plain": [
       "'BI'"
      ]
     },
     "execution_count": 240,
     "metadata": {},
     "output_type": "execute_result"
    }
   ],
   "source": [
    "alg.converse('B')"
   ]
  },
  {
   "cell_type": "code",
   "execution_count": 241,
   "metadata": {},
   "outputs": [
    {
     "data": {
      "text/plain": [
       "relset(['BI'])"
      ]
     },
     "execution_count": 241,
     "metadata": {},
     "output_type": "execute_result"
    }
   ],
   "source": [
    "alg.converse(before)"
   ]
  },
  {
   "cell_type": "code",
   "execution_count": 242,
   "metadata": {},
   "outputs": [
    {
     "data": {
      "text/plain": [
       "relset(['BI', 'MI', 'O'])"
      ]
     },
     "execution_count": 242,
     "metadata": {},
     "output_type": "execute_result"
    }
   ],
   "source": [
    "alg.converse(bmoi)"
   ]
  },
  {
   "cell_type": "markdown",
   "metadata": {},
   "source": [
    "## Multiplication"
   ]
  },
  {
   "cell_type": "code",
   "execution_count": 243,
   "metadata": {},
   "outputs": [
    {
     "data": {
      "text/plain": [
       "relset(['B', 'D', 'M', 'O', 'S'])"
      ]
     },
     "execution_count": 243,
     "metadata": {},
     "output_type": "execute_result"
    }
   ],
   "source": [
    "BxD = alg.mult(before, during)\n",
    "BxD"
   ]
  },
  {
   "cell_type": "markdown",
   "metadata": {},
   "source": [
    "## Addition"
   ]
  },
  {
   "cell_type": "code",
   "execution_count": 244,
   "metadata": {},
   "outputs": [
    {
     "name": "stdout",
     "output_type": "stream",
     "text": [
      "('D', 'F', 'M', 'SI')\n"
     ]
    },
    {
     "data": {
      "text/plain": [
       "relset(['D', 'M'])"
      ]
     },
     "execution_count": 244,
     "metadata": {},
     "output_type": "execute_result"
    }
   ],
   "source": [
    "dmfsi = alg.relset(['D','M','F','SI'])\n",
    "print(dmfsi.members())\n",
    "BxD + dmfsi"
   ]
  },
  {
   "cell_type": "markdown",
   "metadata": {},
   "source": [
    "## Complements"
   ]
  },
  {
   "cell_type": "code",
   "execution_count": 245,
   "metadata": {},
   "outputs": [
    {
     "name": "stdout",
     "output_type": "stream",
     "text": [
      "('BI', 'D', 'DI', 'E', 'F', 'FI', 'M', 'MI', 'O', 'OI', 'S', 'SI')\n"
     ]
    }
   ],
   "source": [
    "print(before.complement().members())"
   ]
  },
  {
   "cell_type": "code",
   "execution_count": 246,
   "metadata": {},
   "outputs": [
    {
     "data": {
      "text/plain": [
       "'BI|D|DI|E|F|FI|M|MI|O|OI|S|SI'"
      ]
     },
     "execution_count": 246,
     "metadata": {},
     "output_type": "execute_result"
    }
   ],
   "source": [
    "str(before.complement())"
   ]
  },
  {
   "cell_type": "code",
   "execution_count": 247,
   "metadata": {},
   "outputs": [
    {
     "name": "stdout",
     "output_type": "stream",
     "text": [
      "('BI', 'DI', 'E', 'F', 'FI', 'MI', 'OI', 'SI')\n"
     ]
    }
   ],
   "source": [
    "print(BxD.complement().members())"
   ]
  },
  {
   "cell_type": "markdown",
   "metadata": {},
   "source": [
    "## Check Multiplication Identity"
   ]
  },
  {
   "cell_type": "code",
   "execution_count": 248,
   "metadata": {},
   "outputs": [
    {
     "data": {
      "text/plain": [
       "True"
      ]
     },
     "execution_count": 248,
     "metadata": {},
     "output_type": "execute_result"
    }
   ],
   "source": [
    "alg.check_multiplication_identity()"
   ]
  },
  {
   "cell_type": "markdown",
   "metadata": {},
   "source": [
    "## Check Associativity"
   ]
  },
  {
   "cell_type": "code",
   "execution_count": 249,
   "metadata": {},
   "outputs": [
    {
     "name": "stdout",
     "output_type": "stream",
     "text": [
      "\n",
      "TEST SUMMARY: 2197 OK, 0 Skipped, 0 Failed (2197 Total)\n"
     ]
    },
    {
     "data": {
      "text/plain": [
       "True"
      ]
     },
     "execution_count": 249,
     "metadata": {},
     "output_type": "execute_result"
    }
   ],
   "source": [
    "alg.is_associative()"
   ]
  },
  {
   "cell_type": "markdown",
   "metadata": {},
   "source": [
    "## Summary of Algebra"
   ]
  },
  {
   "cell_type": "code",
   "execution_count": 250,
   "metadata": {},
   "outputs": [
    {
     "name": "stdout",
     "output_type": "stream",
     "text": [
      "  Algebra Name: LinearTimeAlgebra\n",
      "   Description: Allen's algebra of proper time intervals\n",
      " Equality Rels: E\n",
      "     Relations:\n",
      "            NAME (ABBREV)         CONVERSE (ABBREV)  REFLEXIVE  SYMMETRIC TRANSITIVE   DOMAIN        RANGE\n",
      "             Before (  B)               After ( BI)    False      False       True       PInt          PInt\n",
      "              After ( BI)              Before (  B)    False      False       True       PInt          PInt\n",
      "             During (  D)            Contains ( DI)    False      False       True       PInt          PInt\n",
      "           Contains ( DI)              During (  D)    False      False       True       PInt          PInt\n",
      "             Equals (  E)              Equals (  E)     True       True       True       PInt          PInt\n",
      "           Finishes (  F)         Finished-by ( FI)    False      False       True       PInt          PInt\n",
      "        Finished-by ( FI)            Finishes (  F)    False      False       True       PInt          PInt\n",
      "              Meets (  M)              Met-By ( MI)    False      False      False       PInt          PInt\n",
      "             Met-By ( MI)               Meets (  M)    False      False      False       PInt          PInt\n",
      "           Overlaps (  O)       Overlapped-By ( OI)    False      False      False       PInt          PInt\n",
      "      Overlapped-By ( OI)            Overlaps (  O)    False      False      False       PInt          PInt\n",
      "             Starts (  S)          Started-By ( SI)    False      False       True       PInt          PInt\n",
      "         Started-By ( SI)              Starts (  S)    False      False       True       PInt          PInt\n",
      "\n",
      "Domain & Range Abbreviations:\n",
      "   Pt = Point\n",
      " PInt = Proper Interval\n"
     ]
    }
   ],
   "source": [
    "alg.summary()"
   ]
  },
  {
   "cell_type": "markdown",
   "metadata": {},
   "source": [
    "## Networks"
   ]
  },
  {
   "cell_type": "code",
   "execution_count": 251,
   "metadata": {},
   "outputs": [],
   "source": [
    "class Network(nx.DiGraph):\n",
    "\n",
    "    def __init__(self, algebra, name=None):\n",
    "        self.algebra = algebra\n",
    "        super().__init__(name=name)\n",
    "\n",
    "    def __str__(self):\n",
    "        return f\"<Network--{self.name}--{self.algebra.name}>\"\n",
    "\n",
    "    def remove_constraint(self, entity1, entity2):\n",
    "        # Remove edges in both directions\n",
    "        if self.has_edge(entity1, entity2):\n",
    "            self.remove_edge(entity1, entity2)\n",
    "        if self.has_edge(entity2, entity1):\n",
    "            self.remove_edge(entity2, entity1)\n",
    "\n",
    "    def set_equality_constraint(self, entity, equality_rels):\n",
    "        # Override any previous setting on this entity\n",
    "        self.remove_constraint(entity, entity)\n",
    "        self.add_edge(entity, entity, constraint=equality_rels)\n",
    "\n",
    "    def add_constraint(self, entity1, entity2, relation_set=None):\n",
    "        \"\"\"Same as add_edge, except that two edges are added with converse constraints.\"\"\"\n",
    "\n",
    "        # Get the proper equality relation(s) for each of the two entities\n",
    "        eq_rels1 = reduce(lambda a,b: a.union(b),\n",
    "                          (map (lambda x: self.algebra.equality_relation(x),\n",
    "                                entity1.types)))\n",
    "        eq_rels2 = reduce(lambda a,b: a.union(b),\n",
    "                          (map (lambda x: self.algebra.equality_relation(x),\n",
    "                                entity2.types)))\n",
    "\n",
    "        # Each entity must equal itself\n",
    "        self.set_equality_constraint(entity1, eq_rels1)\n",
    "        self.set_equality_constraint(entity2, eq_rels2)\n",
    "\n",
    "        # Override any previously set constraint on this pair of entities\n",
    "        self.remove_constraint(entity1, entity2)\n",
    "\n",
    "        if relation_set:\n",
    "            self.add_edge(entity1, entity2, constraint=relation_set)\n",
    "            self.add_edge(entity2, entity1, constraint=self.algebra.converse(relation_set))\n",
    "        else:\n",
    "            self.add_edge(entity1, entity2, constraint=self.algebra.elements)\n",
    "            self.add_edge(entity2, entity1, constraint=self.algebra.elements)\n",
    "\n",
    "    @property\n",
    "    def constraints(self):\n",
    "        return self.edges\n",
    "\n",
    "    @property\n",
    "    def entities(self):\n",
    "        return self.nodes\n",
    "\n",
    "    def set_unconstrained_values(self):\n",
    "        for ent1 in self.nodes():\n",
    "            for ent2 in self.nodes():\n",
    "                if not self.has_edge(ent1, ent2):\n",
    "                    self.add_constraint(ent1, ent2, self.algebra.elements)\n",
    "\n",
    "    def propagate(self, verbose=True):\n",
    "        \"\"\"Propagate constraints in the network.\n",
    "        @param verbose: Print number of loops as constraints are propagated.\n",
    "        \"\"\"\n",
    "        loop_count = 0\n",
    "        self.set_unconstrained_values()\n",
    "        something_changed = True  # We'll iterate at least once\n",
    "        while something_changed:\n",
    "            something_changed = False  # If nothing changes, we'll only iterate once\n",
    "            loop_count += 1\n",
    "            # The following treats the network as if it's a matrix, multiplying it by\n",
    "            # itself, repeatedly, until it stops changing.  Or, mathematically speacking,\n",
    "            # constraint propagation is a fixed-point iteration of a square constraint matrix.\n",
    "            for ent1 in self.nodes():\n",
    "                for ent2 in self.nodes():\n",
    "                    prod = self.algebra.elements\n",
    "                    c12 = self.edges[ent1, ent2]['constraint']\n",
    "                    for ent3 in self.nodes():\n",
    "                        c13 = self.edges[ent1, ent3]['constraint']\n",
    "                        c32 = self.edges[ent3, ent2]['constraint']\n",
    "                        prod += self.algebra.mult(c13, c32)\n",
    "                    if prod != c12:\n",
    "                        something_changed = True  # Continue iterating\n",
    "                    self.edges[ent1, ent2]['constraint'] = prod\n",
    "        if verbose:\n",
    "            print(f\"Number of iterations: {loop_count}\".format())\n",
    "\n",
    "    def summary(self):\n",
    "        \"\"\"Print out a summary of this network and its nodes, edges, and constraints.\"\"\"\n",
    "        print(f\"{self.name}: {len(self.nodes)} nodes, {len(self.edges)} edges\")\n",
    "        # print(\"  Head\")\n",
    "        # print(\"    Tail: (Constraints)\")\n",
    "        for head in self.nodes:\n",
    "            print(f\"  {head.name}:\")\n",
    "            for tail in self.neighbors(head):\n",
    "                print(f\"    => {tail.name}: {str(self.edges[head, tail]['constraint'])}\")"
   ]
  },
  {
   "cell_type": "code",
   "execution_count": 252,
   "metadata": {},
   "outputs": [
    {
     "name": "stdout",
     "output_type": "stream",
     "text": [
      "<TemporalEntity Event1 ['ProperInterval']>\n",
      "<TemporalEntity Event2 ['ProperInterval']>\n",
      "<TemporalEntity Event3 ['ProperInterval']>\n"
     ]
    }
   ],
   "source": [
    "evt1 = TemporalEntity([\"ProperInterval\"], name=\"Event1\")\n",
    "evt2 = TemporalEntity([\"ProperInterval\"], name=\"Event2\")\n",
    "evt3 = TemporalEntity([\"ProperInterval\"], name=\"Event3\")\n",
    "print(evt1)\n",
    "print(evt2)\n",
    "print(evt3)"
   ]
  },
  {
   "cell_type": "code",
   "execution_count": 253,
   "metadata": {},
   "outputs": [
    {
     "name": "stdout",
     "output_type": "stream",
     "text": [
      "<Network--TestGraph1--LinearTimeAlgebra>\n"
     ]
    }
   ],
   "source": [
    "net = Network(alg, name=\"TestGraph1\")\n",
    "print(net)"
   ]
  },
  {
   "cell_type": "code",
   "execution_count": 254,
   "metadata": {},
   "outputs": [
    {
     "name": "stdout",
     "output_type": "stream",
     "text": [
      "{'constraint': relset(['B'])}\n",
      "{'constraint': relset(['BI'])}\n"
     ]
    }
   ],
   "source": [
    "net.add_constraint(evt1, evt2, before)\n",
    "print(net.edges[evt1,evt2])\n",
    "print(net.edges[evt2,evt1])"
   ]
  },
  {
   "cell_type": "code",
   "execution_count": 255,
   "metadata": {},
   "outputs": [
    {
     "data": {
      "text/plain": [
       "{'constraint': relset(['B'])}"
      ]
     },
     "execution_count": 255,
     "metadata": {},
     "output_type": "execute_result"
    }
   ],
   "source": [
    "net.add_constraint(evt2, evt3, before)\n",
    "net.edges[evt2,evt3]"
   ]
  },
  {
   "cell_type": "code",
   "execution_count": 256,
   "metadata": {},
   "outputs": [
    {
     "data": {
      "text/plain": [
       "[(<TemporalEntity Event1 ['ProperInterval']>,\n",
       "  <TemporalEntity Event1 ['ProperInterval']>),\n",
       " (<TemporalEntity Event1 ['ProperInterval']>,\n",
       "  <TemporalEntity Event2 ['ProperInterval']>),\n",
       " (<TemporalEntity Event2 ['ProperInterval']>,\n",
       "  <TemporalEntity Event1 ['ProperInterval']>),\n",
       " (<TemporalEntity Event2 ['ProperInterval']>,\n",
       "  <TemporalEntity Event2 ['ProperInterval']>),\n",
       " (<TemporalEntity Event2 ['ProperInterval']>,\n",
       "  <TemporalEntity Event3 ['ProperInterval']>),\n",
       " (<TemporalEntity Event3 ['ProperInterval']>,\n",
       "  <TemporalEntity Event3 ['ProperInterval']>),\n",
       " (<TemporalEntity Event3 ['ProperInterval']>,\n",
       "  <TemporalEntity Event2 ['ProperInterval']>)]"
      ]
     },
     "execution_count": 256,
     "metadata": {},
     "output_type": "execute_result"
    }
   ],
   "source": [
    "list(net.constraints)"
   ]
  },
  {
   "cell_type": "code",
   "execution_count": 257,
   "metadata": {},
   "outputs": [
    {
     "data": {
      "text/plain": [
       "{'constraint': relset(['B'])}"
      ]
     },
     "execution_count": 257,
     "metadata": {},
     "output_type": "execute_result"
    }
   ],
   "source": [
    "net.edges[evt1,evt2]"
   ]
  },
  {
   "cell_type": "code",
   "execution_count": 258,
   "metadata": {},
   "outputs": [
    {
     "data": {
      "text/plain": [
       "relset(['B'])"
      ]
     },
     "execution_count": 258,
     "metadata": {},
     "output_type": "execute_result"
    }
   ],
   "source": [
    "net.edges[evt1,evt2]['constraint']"
   ]
  },
  {
   "cell_type": "code",
   "execution_count": 259,
   "metadata": {},
   "outputs": [
    {
     "data": {
      "text/plain": [
       "[<TemporalEntity Event1 ['ProperInterval']>,\n",
       " <TemporalEntity Event2 ['ProperInterval']>,\n",
       " <TemporalEntity Event3 ['ProperInterval']>]"
      ]
     },
     "execution_count": 259,
     "metadata": {},
     "output_type": "execute_result"
    }
   ],
   "source": [
    "list(net.entities)"
   ]
  },
  {
   "cell_type": "code",
   "execution_count": 260,
   "metadata": {},
   "outputs": [
    {
     "name": "stdout",
     "output_type": "stream",
     "text": [
      "TestGraph1: 3 nodes, 7 edges\n",
      "  Event1:\n",
      "    => Event1: E\n",
      "    => Event2: B\n",
      "  Event2:\n",
      "    => Event1: BI\n",
      "    => Event2: E\n",
      "    => Event3: B\n",
      "  Event3:\n",
      "    => Event3: E\n",
      "    => Event2: BI\n"
     ]
    }
   ],
   "source": [
    "net.summary()"
   ]
  },
  {
   "cell_type": "code",
   "execution_count": 261,
   "metadata": {},
   "outputs": [
    {
     "name": "stdout",
     "output_type": "stream",
     "text": [
      "Number of iterations: 2\n"
     ]
    }
   ],
   "source": [
    "net.propagate()"
   ]
  },
  {
   "cell_type": "code",
   "execution_count": 262,
   "metadata": {},
   "outputs": [
    {
     "name": "stdout",
     "output_type": "stream",
     "text": [
      "TestGraph1: 3 nodes, 9 edges\n",
      "  Event1:\n",
      "    => Event2: B\n",
      "    => Event1: E\n",
      "    => Event3: B\n",
      "  Event2:\n",
      "    => Event1: BI\n",
      "    => Event2: E\n",
      "    => Event3: B\n",
      "  Event3:\n",
      "    => Event2: BI\n",
      "    => Event3: E\n",
      "    => Event1: BI\n"
     ]
    }
   ],
   "source": [
    "net.summary()"
   ]
  },
  {
   "cell_type": "markdown",
   "metadata": {},
   "source": [
    "## Create Template 4-Point Network"
   ]
  },
  {
   "cell_type": "code",
   "execution_count": 1,
   "metadata": {},
   "outputs": [
    {
     "ename": "NameError",
     "evalue": "name 'Algebra' is not defined",
     "output_type": "error",
     "traceback": [
      "\u001b[0;31m---------------------------------------------------------------------------\u001b[0m",
      "\u001b[0;31mNameError\u001b[0m                                 Traceback (most recent call last)",
      "\u001b[0;32m<ipython-input-1-1dc33083c570>\u001b[0m in \u001b[0;36m<module>\u001b[0;34m\u001b[0m\n\u001b[0;32m----> 1\u001b[0;31m \u001b[0mpt_alg\u001b[0m \u001b[0;34m=\u001b[0m \u001b[0mAlgebra\u001b[0m\u001b[0;34m(\u001b[0m\u001b[0mos\u001b[0m\u001b[0;34m.\u001b[0m\u001b[0mpath\u001b[0m\u001b[0;34m.\u001b[0m\u001b[0mjoin\u001b[0m\u001b[0;34m(\u001b[0m\u001b[0mpath\u001b[0m\u001b[0;34m,\u001b[0m \u001b[0;34m\"Algebras/LinearPointAlgebra.json\"\u001b[0m\u001b[0;34m)\u001b[0m\u001b[0;34m)\u001b[0m\u001b[0;34m\u001b[0m\u001b[0;34m\u001b[0m\u001b[0m\n\u001b[0m",
      "\u001b[0;31mNameError\u001b[0m: name 'Algebra' is not defined"
     ]
    }
   ],
   "source": [
    "pt_alg = Algebra(os.path.join(path, \"Algebras/LinearPointAlgebra.json\"))"
   ]
  },
  {
   "cell_type": "code",
   "execution_count": null,
   "metadata": {},
   "outputs": [],
   "source": [
    "startpt1 = TemporalEntity([\"Point\"], name=\"StartPt1\")\n",
    "endpt1 = TemporalEntity([\"Point\"], name=\"EndPt1\")\n",
    "startpt2 = TemporalEntity([\"Point\"], name=\"StartPt2\")\n",
    "endpt2 = TemporalEntity([\"Point\"], name=\"EndPt2\")\n",
    "\n"
   ]
  }
 ],
 "metadata": {
  "kernelspec": {
   "display_name": "Python 3",
   "language": "python",
   "name": "python3"
  },
  "language_info": {
   "codemirror_mode": {
    "name": "ipython",
    "version": 3
   },
   "file_extension": ".py",
   "mimetype": "text/x-python",
   "name": "python",
   "nbconvert_exporter": "python",
   "pygments_lexer": "ipython3",
   "version": "3.7.4"
  }
 },
 "nbformat": 4,
 "nbformat_minor": 2
}
