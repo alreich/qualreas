{
 "cells": [
  {
   "cell_type": "markdown",
   "metadata": {},
   "source": [
    "# Derive Left-Branching Proper Interval Algebra"
   ]
  },
  {
   "cell_type": "markdown",
   "metadata": {},
   "source": [
    "<b>NOTE:</b> This algebra derivation restricts intervals to be proper intervals, similar to Allen's time interval algebra. So, time points are not permitted. However, this algebra adds a new point relation, <b>incomparable</b>, denoted by, <b>l~</b>, which expresses the relationship between two points on different time branches.  The transitivity/composition table of the left-branching point algebra is defined so that time branches from the left (i.e., out of the <i>past</i>).  See the section, below, titled, <i>\"Left-Branching Point Algebra\"</i>."
   ]
  },
  {
   "cell_type": "markdown",
   "metadata": {},
   "source": [
    "## References"
   ]
  },
  {
   "cell_type": "markdown",
   "metadata": {},
   "source": [
    "1. [\"Maintaining Knowledge about Temporal Intervals\" by J.F. Allen](https://cse.unl.edu/~choueiry/Documents/Allen-CACM1983.pdf) - Allen's original paper\n",
    "1. [Allen's Interval Algebra](https://www.ics.uci.edu/~alspaugh/cls/shr/allen.html) or [here](https://thomasalspaugh.org/pub/fnd/allen.html) - summarizes Allen's algebra of proper time intervals\n",
    "1. [\"Intervals, Points, and Branching Time\" by A.J. Reich](https://www.researchgate.net/publication/220810644_Intervals_Points_and_Branching_Time) - basis for the extensions here to Allen's algebra\n",
    "1. [W3C Time Ontology in OWL](https://www.w3.org/TR/owl-time/) - temporal vocabulary used here is based on the W3C vocabulary of time\n",
    "1. [bitsets Python package](https://bitsets.readthedocs.io/en/stable/) - used to implement Algebra relation sets and operations\n",
    "1. [NetworkX Python package](http://networkx.github.io/) - used to represent directed graph of constraints\n",
    "1. [Python format string syntax](https://docs.python.org/3/library/string.html#format-string-syntax) - used in Algebra summary method\n",
    "1. [Spatial Ontology](https://www.w3.org/2017/sdwig/bp/) - I'm still looking for a standard spatial vocabulary; maybe start here\n",
    "1. [Qualitative Spatial Relations (QSR) Library](https://qsrlib.readthedocs.io/en/latest/index.html) - an alternative library to the one defined here"
   ]
  },
  {
   "cell_type": "markdown",
   "metadata": {},
   "source": [
    "## Dependencies"
   ]
  },
  {
   "cell_type": "code",
   "execution_count": 1,
   "metadata": {},
   "outputs": [],
   "source": [
    "import os\n",
    "import qualreas as qr\n",
    "import numpy as np\n",
    "\n",
    "import sys"
   ]
  },
  {
   "cell_type": "code",
   "execution_count": 2,
   "metadata": {},
   "outputs": [],
   "source": [
    "sys.setrecursionlimit(10000)"
   ]
  },
  {
   "cell_type": "code",
   "execution_count": 3,
   "metadata": {},
   "outputs": [],
   "source": [
    "path = os.path.join(os.getenv('PYPROJ'), 'qualreas')"
   ]
  },
  {
   "cell_type": "markdown",
   "metadata": {},
   "source": [
    "## Deriving the LB Proper Interval Algebra from LB Point Algebra"
   ]
  },
  {
   "cell_type": "markdown",
   "metadata": {},
   "source": [
    "### Left-Branching Point Algebra"
   ]
  },
  {
   "cell_type": "code",
   "execution_count": 4,
   "metadata": {},
   "outputs": [],
   "source": [
    "pt_alg = qr.Algebra(os.path.join(path, \"Algebras/Left_Branching_Point_Algebra.json\"))"
   ]
  },
  {
   "cell_type": "code",
   "execution_count": 5,
   "metadata": {},
   "outputs": [
    {
     "name": "stdout",
     "output_type": "stream",
     "text": [
      "  Algebra Name: Left_Branching_Point_Algebra\n",
      "   Description: Left-Branching Point Algebra\n",
      " Equality Rels: =\n",
      "     Relations:\n",
      "            NAME (SYMBOL)         CONVERSE (ABBREV)  REFLEXIVE  SYMMETRIC TRANSITIVE   DOMAIN        RANGE\n",
      "           LessThan (  <)         GreaterThan (  >)    False      False       True         Pt            Pt\n",
      "             Equals (  =)              Equals (  =)     True       True       True         Pt            Pt\n",
      "        GreaterThan (  >)            LessThan (  <)    False      False       True         Pt            Pt\n",
      "       Incomparable ( l~)        Incomparable ( l~)    False       True      False         Pt            Pt\n",
      "\n",
      "Domain & Range Abbreviations:\n",
      "   Pt = Point\n",
      " PInt = Proper Interval\n"
     ]
    }
   ],
   "source": [
    "pt_alg.summary()"
   ]
  },
  {
   "cell_type": "code",
   "execution_count": 6,
   "metadata": {},
   "outputs": [
    {
     "name": "stdout",
     "output_type": "stream",
     "text": [
      "Left_Branching_Point_Algebra\n",
      "Elements: <, =, >, l~\n",
      "==============================\n",
      " rel1 ; rel2 = composition\n",
      "==============================\n",
      "   <      <      <\n",
      "   <      =      <\n",
      "   <      >      <|=|>|l~\n",
      "   <     l~      l~\n",
      "------------------------------\n",
      "   =      <      <\n",
      "   =      =      =\n",
      "   =      >      >\n",
      "   =     l~      l~\n",
      "------------------------------\n",
      "   >      <      <|=|>\n",
      "   >      =      >\n",
      "   >      >      >\n",
      "   >     l~      >|l~\n",
      "------------------------------\n",
      "  l~      <      <|l~\n",
      "  l~      =      l~\n",
      "  l~      >      l~\n",
      "  l~     l~      <|=|>|l~\n",
      "------------------------------\n"
     ]
    }
   ],
   "source": [
    "qr.print_point_algebra_composition_table(pt_alg)"
   ]
  },
  {
   "cell_type": "markdown",
   "metadata": {},
   "source": [
    "### Derive Left-Branching Proper Interval Algebra as a Dictionary"
   ]
  },
  {
   "cell_type": "markdown",
   "metadata": {},
   "source": [
    "The definition of <b>less than</b>, below, either restricts intervals to be proper ('<') or allows intervals to be degenerate ('=|<') (i.e., integrates points and intervals)."
   ]
  },
  {
   "cell_type": "code",
   "execution_count": 7,
   "metadata": {},
   "outputs": [],
   "source": [
    "#less_than_rel = '=|<'\n",
    "less_than_rel = '<'"
   ]
  },
  {
   "cell_type": "code",
   "execution_count": 8,
   "metadata": {},
   "outputs": [
    {
     "name": "stdout",
     "output_type": "stream",
     "text": [
      "\n",
      "19 consistent networks\n",
      "CPU times: user 4.06 s, sys: 14.9 ms, total: 4.07 s\n",
      "Wall time: 4.08 s\n"
     ]
    }
   ],
   "source": [
    "lb_proper_alg_name=\"Derived_Left_Branching_Proper_Interval_Algebra\"\n",
    "lb_proper_alg_desc=\"Extended left-branching proper interval algebra derived from point relations\"\n",
    "\n",
    "%time test_lb_proper_alg_dict = qr.derive_algebra(pt_alg, less_than_rel, name=lb_proper_alg_name, description=lb_proper_alg_desc)"
   ]
  },
  {
   "cell_type": "code",
   "execution_count": 9,
   "metadata": {},
   "outputs": [
    {
     "data": {
      "text/plain": [
       "{'Name': 'Derived_Left_Branching_Proper_Interval_Algebra',\n",
       " 'Description': 'Extended left-branching proper interval algebra derived from point relations',\n",
       " 'Relations': {'B': {'Name': 'Before',\n",
       "   'Converse': 'BI',\n",
       "   'Domain': ['ProperInterval'],\n",
       "   'Range': ['ProperInterval'],\n",
       "   'Reflexive': False,\n",
       "   'Symmetric': False,\n",
       "   'Transitive': True},\n",
       "  'BI': {'Name': 'After',\n",
       "   'Converse': 'B',\n",
       "   'Domain': ['ProperInterval'],\n",
       "   'Range': ['ProperInterval'],\n",
       "   'Reflexive': False,\n",
       "   'Symmetric': False,\n",
       "   'Transitive': True},\n",
       "  'D': {'Name': 'During',\n",
       "   'Converse': 'DI',\n",
       "   'Domain': ['ProperInterval'],\n",
       "   'Range': ['ProperInterval'],\n",
       "   'Reflexive': False,\n",
       "   'Symmetric': False,\n",
       "   'Transitive': True},\n",
       "  'DI': {'Name': 'Contains',\n",
       "   'Converse': 'D',\n",
       "   'Domain': ['ProperInterval'],\n",
       "   'Range': ['ProperInterval'],\n",
       "   'Reflexive': False,\n",
       "   'Symmetric': False,\n",
       "   'Transitive': True},\n",
       "  'E': {'Name': 'Equals',\n",
       "   'Converse': 'E',\n",
       "   'Domain': ['ProperInterval'],\n",
       "   'Range': ['ProperInterval'],\n",
       "   'Reflexive': True,\n",
       "   'Symmetric': True,\n",
       "   'Transitive': True},\n",
       "  'F': {'Name': 'Finishes',\n",
       "   'Converse': 'FI',\n",
       "   'Domain': ['ProperInterval'],\n",
       "   'Range': ['ProperInterval'],\n",
       "   'Reflexive': False,\n",
       "   'Symmetric': False,\n",
       "   'Transitive': True},\n",
       "  'FI': {'Name': 'Finished-by',\n",
       "   'Converse': 'F',\n",
       "   'Domain': ['ProperInterval'],\n",
       "   'Range': ['ProperInterval'],\n",
       "   'Reflexive': False,\n",
       "   'Symmetric': False,\n",
       "   'Transitive': True},\n",
       "  'LB': {'Name': 'Left-Before',\n",
       "   'Converse': 'LBI',\n",
       "   'Domain': ['ProperInterval'],\n",
       "   'Range': ['ProperInterval'],\n",
       "   'Reflexive': False,\n",
       "   'Symmetric': False,\n",
       "   'Transitive': True},\n",
       "  'LBI': {'Name': 'Left-After',\n",
       "   'Converse': 'LB',\n",
       "   'Domain': ['ProperInterval'],\n",
       "   'Range': ['ProperInterval'],\n",
       "   'Reflexive': False,\n",
       "   'Symmetric': False,\n",
       "   'Transitive': True},\n",
       "  'LF': {'Name': 'Left-Finishes',\n",
       "   'Converse': 'LF',\n",
       "   'Domain': ['ProperInterval'],\n",
       "   'Range': ['ProperInterval'],\n",
       "   'Reflexive': False,\n",
       "   'Symmetric': True,\n",
       "   'Transitive': False},\n",
       "  'LO': {'Name': 'Left-Overlaps',\n",
       "   'Converse': 'LOI',\n",
       "   'Domain': ['ProperInterval'],\n",
       "   'Range': ['ProperInterval'],\n",
       "   'Reflexive': False,\n",
       "   'Symmetric': False,\n",
       "   'Transitive': False},\n",
       "  'LOI': {'Name': 'Left-Overlapped-By',\n",
       "   'Converse': 'LO',\n",
       "   'Domain': ['ProperInterval'],\n",
       "   'Range': ['ProperInterval'],\n",
       "   'Reflexive': False,\n",
       "   'Symmetric': False,\n",
       "   'Transitive': False},\n",
       "  'L~': {'Name': 'Left-Incomparable',\n",
       "   'Converse': 'L~',\n",
       "   'Domain': ['ProperInterval'],\n",
       "   'Range': ['ProperInterval'],\n",
       "   'Reflexive': False,\n",
       "   'Symmetric': True,\n",
       "   'Transitive': False},\n",
       "  'M': {'Name': 'Meets',\n",
       "   'Converse': 'MI',\n",
       "   'Domain': ['ProperInterval'],\n",
       "   'Range': ['ProperInterval'],\n",
       "   'Reflexive': False,\n",
       "   'Symmetric': False,\n",
       "   'Transitive': False},\n",
       "  'MI': {'Name': 'Met-By',\n",
       "   'Converse': 'M',\n",
       "   'Domain': ['ProperInterval'],\n",
       "   'Range': ['ProperInterval'],\n",
       "   'Reflexive': False,\n",
       "   'Symmetric': False,\n",
       "   'Transitive': False},\n",
       "  'O': {'Name': 'Overlaps',\n",
       "   'Converse': 'OI',\n",
       "   'Domain': ['ProperInterval'],\n",
       "   'Range': ['ProperInterval'],\n",
       "   'Reflexive': False,\n",
       "   'Symmetric': False,\n",
       "   'Transitive': False},\n",
       "  'OI': {'Name': 'Overlapped-By',\n",
       "   'Converse': 'O',\n",
       "   'Domain': ['ProperInterval'],\n",
       "   'Range': ['ProperInterval'],\n",
       "   'Reflexive': False,\n",
       "   'Symmetric': False,\n",
       "   'Transitive': False},\n",
       "  'S': {'Name': 'Starts',\n",
       "   'Converse': 'SI',\n",
       "   'Domain': ['ProperInterval'],\n",
       "   'Range': ['ProperInterval'],\n",
       "   'Reflexive': False,\n",
       "   'Symmetric': False,\n",
       "   'Transitive': True},\n",
       "  'SI': {'Name': 'Started-By',\n",
       "   'Converse': 'S',\n",
       "   'Domain': ['ProperInterval'],\n",
       "   'Range': ['ProperInterval'],\n",
       "   'Reflexive': False,\n",
       "   'Symmetric': False,\n",
       "   'Transitive': True}},\n",
       " 'TransTable': {'B': {'B': 'B',\n",
       "   'BI': 'B|BI|D|DI|E|F|FI|LB|LBI|LF|LO|LOI|L~|M|MI|O|OI|S|SI',\n",
       "   'D': 'B|D|LB|LO|M|O|S',\n",
       "   'DI': 'B',\n",
       "   'E': 'B',\n",
       "   'F': 'B|D|LB|LO|M|O|S',\n",
       "   'FI': 'B',\n",
       "   'LB': 'LB',\n",
       "   'LBI': 'L~',\n",
       "   'LF': 'LB',\n",
       "   'LO': 'LB',\n",
       "   'LOI': 'LB',\n",
       "   'L~': 'L~',\n",
       "   'M': 'B',\n",
       "   'MI': 'B|D|LB|LO|M|O|S',\n",
       "   'O': 'B',\n",
       "   'OI': 'B|D|LB|LO|M|O|S',\n",
       "   'S': 'B',\n",
       "   'SI': 'B'},\n",
       "  'BI': {'B': 'B|BI|D|DI|E|F|FI|M|MI|O|OI|S|SI',\n",
       "   'BI': 'BI',\n",
       "   'D': 'BI|D|F|MI|OI',\n",
       "   'DI': 'BI',\n",
       "   'E': 'BI',\n",
       "   'F': 'BI',\n",
       "   'FI': 'BI',\n",
       "   'LB': 'BI|D|F|LB|LF|LO|LOI|MI|OI',\n",
       "   'LBI': 'BI',\n",
       "   'LF': 'BI',\n",
       "   'LO': 'BI|D|F|MI|OI',\n",
       "   'LOI': 'BI',\n",
       "   'L~': 'BI|LBI|L~',\n",
       "   'M': 'BI|D|F|MI|OI',\n",
       "   'MI': 'BI',\n",
       "   'O': 'BI|D|F|MI|OI',\n",
       "   'OI': 'BI',\n",
       "   'S': 'BI|D|F|MI|OI',\n",
       "   'SI': 'BI'},\n",
       "  'D': {'B': 'B',\n",
       "   'BI': 'BI',\n",
       "   'D': 'D',\n",
       "   'DI': 'B|BI|D|DI|E|F|FI|M|MI|O|OI|S|SI',\n",
       "   'E': 'D',\n",
       "   'F': 'D',\n",
       "   'FI': 'B|D|M|O|S',\n",
       "   'LB': 'LB',\n",
       "   'LBI': 'BI|LBI|L~',\n",
       "   'LF': 'D|LB|LO',\n",
       "   'LO': 'D|LB|LO',\n",
       "   'LOI': 'BI|D|F|LB|LF|LO|LOI|MI|OI',\n",
       "   'L~': 'L~',\n",
       "   'M': 'B',\n",
       "   'MI': 'BI',\n",
       "   'O': 'B|D|M|O|S',\n",
       "   'OI': 'BI|D|F|MI|OI',\n",
       "   'S': 'D',\n",
       "   'SI': 'BI|D|F|MI|OI'},\n",
       "  'DI': {'B': 'B|DI|FI|M|O',\n",
       "   'BI': 'BI|DI|LBI|LOI|MI|OI|SI',\n",
       "   'D': 'D|DI|E|F|FI|LF|LO|LOI|O|OI|S|SI',\n",
       "   'DI': 'DI',\n",
       "   'E': 'DI',\n",
       "   'F': 'DI|LOI|OI|SI',\n",
       "   'FI': 'DI',\n",
       "   'LB': 'LB|LF|LO|LOI',\n",
       "   'LBI': 'LBI',\n",
       "   'LF': 'LOI',\n",
       "   'LO': 'LF|LO|LOI',\n",
       "   'LOI': 'LOI',\n",
       "   'L~': 'LBI|L~',\n",
       "   'M': 'DI|FI|O',\n",
       "   'MI': 'DI|LOI|OI|SI',\n",
       "   'O': 'DI|FI|O',\n",
       "   'OI': 'DI|LOI|OI|SI',\n",
       "   'S': 'DI|FI|O',\n",
       "   'SI': 'DI'},\n",
       "  'E': {'B': 'B',\n",
       "   'BI': 'BI',\n",
       "   'D': 'D',\n",
       "   'DI': 'DI',\n",
       "   'E': 'E',\n",
       "   'F': 'F',\n",
       "   'FI': 'FI',\n",
       "   'LB': 'LB',\n",
       "   'LBI': 'LBI',\n",
       "   'LF': 'LF',\n",
       "   'LO': 'LO',\n",
       "   'LOI': 'LOI',\n",
       "   'L~': 'L~',\n",
       "   'M': 'M',\n",
       "   'MI': 'MI',\n",
       "   'O': 'O',\n",
       "   'OI': 'OI',\n",
       "   'S': 'S',\n",
       "   'SI': 'SI'},\n",
       "  'F': {'B': 'B',\n",
       "   'BI': 'BI',\n",
       "   'D': 'D',\n",
       "   'DI': 'BI|DI|MI|OI|SI',\n",
       "   'E': 'F',\n",
       "   'F': 'F',\n",
       "   'FI': 'E|F|FI',\n",
       "   'LB': 'LB',\n",
       "   'LBI': 'BI|LBI',\n",
       "   'LF': 'F|LF',\n",
       "   'LO': 'D|LO',\n",
       "   'LOI': 'BI|LOI|MI|OI',\n",
       "   'L~': 'L~',\n",
       "   'M': 'M',\n",
       "   'MI': 'BI',\n",
       "   'O': 'D|O|S',\n",
       "   'OI': 'BI|MI|OI',\n",
       "   'S': 'D',\n",
       "   'SI': 'BI|MI|OI'},\n",
       "  'FI': {'B': 'B',\n",
       "   'BI': 'BI|DI|LBI|LOI|MI|OI|SI',\n",
       "   'D': 'D|LO|O|S',\n",
       "   'DI': 'DI',\n",
       "   'E': 'FI',\n",
       "   'F': 'E|F|FI|LF',\n",
       "   'FI': 'FI',\n",
       "   'LB': 'LB',\n",
       "   'LBI': 'LBI',\n",
       "   'LF': 'LF',\n",
       "   'LO': 'LO',\n",
       "   'LOI': 'LOI',\n",
       "   'L~': 'L~',\n",
       "   'M': 'M',\n",
       "   'MI': 'DI|LOI|OI|SI',\n",
       "   'O': 'O',\n",
       "   'OI': 'DI|LOI|OI|SI',\n",
       "   'S': 'O',\n",
       "   'SI': 'DI'},\n",
       "  'LB': {'B': 'B',\n",
       "   'BI': 'L~',\n",
       "   'D': 'LB',\n",
       "   'DI': 'B|LB|L~',\n",
       "   'E': 'LB',\n",
       "   'F': 'LB',\n",
       "   'FI': 'B|LB',\n",
       "   'LB': 'LB',\n",
       "   'LBI': 'B|BI|D|DI|E|F|FI|LB|LBI|LF|LO|LOI|L~|M|MI|O|OI|S|SI',\n",
       "   'LF': 'B|D|LB|LO|M|O|S',\n",
       "   'LO': 'B|D|LB|LO|M|O|S',\n",
       "   'LOI': 'B|D|LB|LO|L~|M|O|S',\n",
       "   'L~': 'L~',\n",
       "   'M': 'B',\n",
       "   'MI': 'L~',\n",
       "   'O': 'B|LB',\n",
       "   'OI': 'LB|L~',\n",
       "   'S': 'LB',\n",
       "   'SI': 'LB|L~'},\n",
       "  'LBI': {'B': 'B|DI|FI|LBI|LF|LO|LOI|M|O',\n",
       "   'BI': 'LBI',\n",
       "   'D': 'LBI|LF|LO|LOI',\n",
       "   'DI': 'LBI',\n",
       "   'E': 'LBI',\n",
       "   'F': 'LBI',\n",
       "   'FI': 'LBI',\n",
       "   'LB': 'D|DI|E|F|FI|LB|LBI|LF|LO|LOI|O|OI|S|SI',\n",
       "   'LBI': 'LBI',\n",
       "   'LF': 'LBI',\n",
       "   'LO': 'LBI|LF|LO|LOI',\n",
       "   'LOI': 'LBI',\n",
       "   'L~': 'BI|DI|LBI|LOI|L~|MI|OI|SI',\n",
       "   'M': 'LBI|LF|LO|LOI',\n",
       "   'MI': 'LBI',\n",
       "   'O': 'LBI|LF|LO|LOI',\n",
       "   'OI': 'LBI',\n",
       "   'S': 'LBI|LF|LO|LOI',\n",
       "   'SI': 'LBI'},\n",
       "  'LF': {'B': 'B',\n",
       "   'BI': 'LBI',\n",
       "   'D': 'LO',\n",
       "   'DI': 'DI|LBI|LOI',\n",
       "   'E': 'LF',\n",
       "   'F': 'LF',\n",
       "   'FI': 'FI|LF',\n",
       "   'LB': 'LB',\n",
       "   'LBI': 'BI|DI|LBI|LOI|MI|OI|SI',\n",
       "   'LF': 'E|F|FI|LF',\n",
       "   'LO': 'D|LO|O|S',\n",
       "   'LOI': 'DI|LBI|LOI|OI|SI',\n",
       "   'L~': 'L~',\n",
       "   'M': 'M',\n",
       "   'MI': 'LBI',\n",
       "   'O': 'LO|O',\n",
       "   'OI': 'LBI|LOI',\n",
       "   'S': 'LO',\n",
       "   'SI': 'LBI|LOI'},\n",
       "  'LO': {'B': 'B',\n",
       "   'BI': 'LBI',\n",
       "   'D': 'LO',\n",
       "   'DI': 'B|DI|FI|LBI|LF|LO|LOI|M|O',\n",
       "   'E': 'LO',\n",
       "   'F': 'LO',\n",
       "   'FI': 'B|LO|M|O',\n",
       "   'LB': 'LB',\n",
       "   'LBI': 'BI|DI|LBI|LOI|L~|MI|OI|SI',\n",
       "   'LF': 'D|LB|LO|O|S',\n",
       "   'LO': 'D|LB|LO|O|S',\n",
       "   'LOI': 'D|DI|E|F|FI|LB|LBI|LF|LO|LOI|O|OI|S|SI',\n",
       "   'L~': 'L~',\n",
       "   'M': 'B',\n",
       "   'MI': 'LBI',\n",
       "   'O': 'B|LO|M|O',\n",
       "   'OI': 'LBI|LF|LO|LOI',\n",
       "   'S': 'LO',\n",
       "   'SI': 'LBI|LF|LO|LOI'},\n",
       "  'LOI': {'B': 'B|DI|FI|M|O',\n",
       "   'BI': 'LBI',\n",
       "   'D': 'LF|LO|LOI',\n",
       "   'DI': 'DI|LBI|LOI',\n",
       "   'E': 'LOI',\n",
       "   'F': 'LOI',\n",
       "   'FI': 'DI|LOI',\n",
       "   'LB': 'LB|LF|LO|LOI',\n",
       "   'LBI': 'BI|DI|LBI|LOI|MI|OI|SI',\n",
       "   'LF': 'DI|LOI|OI|SI',\n",
       "   'LO': 'D|DI|E|F|FI|LF|LO|LOI|O|OI|S|SI',\n",
       "   'LOI': 'DI|LBI|LOI|OI|SI',\n",
       "   'L~': 'LBI|L~',\n",
       "   'M': 'DI|FI|O',\n",
       "   'MI': 'LBI',\n",
       "   'O': 'DI|FI|LF|LO|LOI|O',\n",
       "   'OI': 'LBI|LOI',\n",
       "   'S': 'LF|LO|LOI',\n",
       "   'SI': 'LBI|LOI'},\n",
       "  'L~': {'B': 'B|LB|L~',\n",
       "   'BI': 'L~',\n",
       "   'D': 'LB|L~',\n",
       "   'DI': 'L~',\n",
       "   'E': 'L~',\n",
       "   'F': 'L~',\n",
       "   'FI': 'L~',\n",
       "   'LB': 'B|D|LB|LO|L~|M|O|S',\n",
       "   'LBI': 'L~',\n",
       "   'LF': 'L~',\n",
       "   'LO': 'LB|L~',\n",
       "   'LOI': 'L~',\n",
       "   'L~': 'B|BI|D|DI|E|F|FI|LB|LBI|LF|LO|LOI|L~|M|MI|O|OI|S|SI',\n",
       "   'M': 'LB|L~',\n",
       "   'MI': 'L~',\n",
       "   'O': 'LB|L~',\n",
       "   'OI': 'L~',\n",
       "   'S': 'LB|L~',\n",
       "   'SI': 'L~'},\n",
       "  'M': {'B': 'B',\n",
       "   'BI': 'BI|DI|LBI|LOI|MI|OI|SI',\n",
       "   'D': 'D|LO|O|S',\n",
       "   'DI': 'B',\n",
       "   'E': 'M',\n",
       "   'F': 'D|LO|O|S',\n",
       "   'FI': 'B',\n",
       "   'LB': 'LB',\n",
       "   'LBI': 'L~',\n",
       "   'LF': 'LB',\n",
       "   'LO': 'LB',\n",
       "   'LOI': 'LB',\n",
       "   'L~': 'L~',\n",
       "   'M': 'B',\n",
       "   'MI': 'E|F|FI|LF',\n",
       "   'O': 'B',\n",
       "   'OI': 'D|LO|O|S',\n",
       "   'S': 'M',\n",
       "   'SI': 'M'},\n",
       "  'MI': {'B': 'B|DI|FI|M|O',\n",
       "   'BI': 'BI',\n",
       "   'D': 'D|F|OI',\n",
       "   'DI': 'BI',\n",
       "   'E': 'MI',\n",
       "   'F': 'MI',\n",
       "   'FI': 'MI',\n",
       "   'LB': 'LB|LF|LO|LOI',\n",
       "   'LBI': 'BI',\n",
       "   'LF': 'MI',\n",
       "   'LO': 'D|F|OI',\n",
       "   'LOI': 'BI',\n",
       "   'L~': 'LBI|L~',\n",
       "   'M': 'E|S|SI',\n",
       "   'MI': 'BI',\n",
       "   'O': 'D|F|OI',\n",
       "   'OI': 'BI',\n",
       "   'S': 'D|F|OI',\n",
       "   'SI': 'BI'},\n",
       "  'O': {'B': 'B',\n",
       "   'BI': 'BI|DI|LBI|LOI|MI|OI|SI',\n",
       "   'D': 'D|LO|O|S',\n",
       "   'DI': 'B|DI|FI|M|O',\n",
       "   'E': 'O',\n",
       "   'F': 'D|LO|O|S',\n",
       "   'FI': 'B|M|O',\n",
       "   'LB': 'LB',\n",
       "   'LBI': 'LBI|L~',\n",
       "   'LF': 'LB|LO',\n",
       "   'LO': 'LB|LO',\n",
       "   'LOI': 'LB|LF|LO|LOI',\n",
       "   'L~': 'L~',\n",
       "   'M': 'B',\n",
       "   'MI': 'DI|LOI|OI|SI',\n",
       "   'O': 'B|M|O',\n",
       "   'OI': 'D|DI|E|F|FI|LF|LO|LOI|O|OI|S|SI',\n",
       "   'S': 'O',\n",
       "   'SI': 'DI|FI|O'},\n",
       "  'OI': {'B': 'B|DI|FI|M|O',\n",
       "   'BI': 'BI',\n",
       "   'D': 'D|F|OI',\n",
       "   'DI': 'BI|DI|MI|OI|SI',\n",
       "   'E': 'OI',\n",
       "   'F': 'OI',\n",
       "   'FI': 'DI|OI|SI',\n",
       "   'LB': 'LB|LF|LO|LOI',\n",
       "   'LBI': 'BI|LBI',\n",
       "   'LF': 'LOI|OI',\n",
       "   'LO': 'D|F|LF|LO|LOI|OI',\n",
       "   'LOI': 'BI|LOI|MI|OI',\n",
       "   'L~': 'LBI|L~',\n",
       "   'M': 'DI|FI|O',\n",
       "   'MI': 'BI',\n",
       "   'O': 'D|DI|E|F|FI|O|OI|S|SI',\n",
       "   'OI': 'BI|MI|OI',\n",
       "   'S': 'D|F|OI',\n",
       "   'SI': 'BI|MI|OI'},\n",
       "  'S': {'B': 'B',\n",
       "   'BI': 'BI',\n",
       "   'D': 'D',\n",
       "   'DI': 'B|DI|FI|M|O',\n",
       "   'E': 'S',\n",
       "   'F': 'D',\n",
       "   'FI': 'B|M|O',\n",
       "   'LB': 'LB',\n",
       "   'LBI': 'LBI|L~',\n",
       "   'LF': 'LB|LO',\n",
       "   'LO': 'LB|LO',\n",
       "   'LOI': 'LB|LF|LO|LOI',\n",
       "   'L~': 'L~',\n",
       "   'M': 'B',\n",
       "   'MI': 'MI',\n",
       "   'O': 'B|M|O',\n",
       "   'OI': 'D|F|OI',\n",
       "   'S': 'S',\n",
       "   'SI': 'E|S|SI'},\n",
       "  'SI': {'B': 'B|DI|FI|M|O',\n",
       "   'BI': 'BI',\n",
       "   'D': 'D|F|OI',\n",
       "   'DI': 'DI',\n",
       "   'E': 'SI',\n",
       "   'F': 'OI',\n",
       "   'FI': 'DI',\n",
       "   'LB': 'LB|LF|LO|LOI',\n",
       "   'LBI': 'LBI',\n",
       "   'LF': 'LOI',\n",
       "   'LO': 'LF|LO|LOI',\n",
       "   'LOI': 'LOI',\n",
       "   'L~': 'LBI|L~',\n",
       "   'M': 'DI|FI|O',\n",
       "   'MI': 'MI',\n",
       "   'O': 'DI|FI|O',\n",
       "   'OI': 'OI',\n",
       "   'S': 'E|S|SI',\n",
       "   'SI': 'SI'}}}"
      ]
     },
     "execution_count": 9,
     "metadata": {},
     "output_type": "execute_result"
    }
   ],
   "source": [
    "test_lb_proper_alg_dict"
   ]
  },
  {
   "cell_type": "markdown",
   "metadata": {},
   "source": [
    "### Save Left-Branching Proper Interval Algebra Dictionary to JSON File"
   ]
  },
  {
   "cell_type": "code",
   "execution_count": 10,
   "metadata": {},
   "outputs": [
    {
     "data": {
      "text/plain": [
       "'/Users/alfredreich/Documents/Github/repo/qualreas/Algebras/test_derived_left_branching_proper_interval_algebra.json'"
      ]
     },
     "execution_count": 10,
     "metadata": {},
     "output_type": "execute_result"
    }
   ],
   "source": [
    "test_lb_proper_json_path = os.path.join(path, \"Algebras/test_derived_left_branching_proper_interval_algebra.json\")\n",
    "test_lb_proper_json_path"
   ]
  },
  {
   "cell_type": "code",
   "execution_count": 11,
   "metadata": {},
   "outputs": [],
   "source": [
    "qr.algebra_to_json_file(test_lb_proper_alg_dict, test_lb_proper_json_path)"
   ]
  },
  {
   "cell_type": "markdown",
   "metadata": {},
   "source": [
    "### Instantiate a Left-Branching Proper Interval Algebra Object from JSON File"
   ]
  },
  {
   "cell_type": "code",
   "execution_count": 12,
   "metadata": {},
   "outputs": [
    {
     "data": {
      "text/plain": [
       "<qualreas.Algebra at 0x7faf209a0b10>"
      ]
     },
     "execution_count": 12,
     "metadata": {},
     "output_type": "execute_result"
    }
   ],
   "source": [
    "test_lb_proper_alg = qr.Algebra(test_lb_proper_json_path)\n",
    "test_lb_proper_alg"
   ]
  },
  {
   "cell_type": "code",
   "execution_count": 13,
   "metadata": {},
   "outputs": [
    {
     "name": "stdout",
     "output_type": "stream",
     "text": [
      "  Algebra Name: Derived_Left_Branching_Proper_Interval_Algebra\n",
      "   Description: Extended left-branching proper interval algebra derived from point relations\n",
      " Equality Rels: E\n",
      "     Relations:\n",
      "            NAME (SYMBOL)         CONVERSE (ABBREV)  REFLEXIVE  SYMMETRIC TRANSITIVE   DOMAIN        RANGE\n",
      "             Before (  B)               After ( BI)    False      False       True       PInt          PInt\n",
      "              After ( BI)              Before (  B)    False      False       True       PInt          PInt\n",
      "             During (  D)            Contains ( DI)    False      False       True       PInt          PInt\n",
      "           Contains ( DI)              During (  D)    False      False       True       PInt          PInt\n",
      "             Equals (  E)              Equals (  E)     True       True       True       PInt          PInt\n",
      "           Finishes (  F)         Finished-by ( FI)    False      False       True       PInt          PInt\n",
      "        Finished-by ( FI)            Finishes (  F)    False      False       True       PInt          PInt\n",
      "        Left-Before ( LB)          Left-After (LBI)    False      False       True       PInt          PInt\n",
      "         Left-After (LBI)         Left-Before ( LB)    False      False       True       PInt          PInt\n",
      "      Left-Finishes ( LF)       Left-Finishes ( LF)    False       True      False       PInt          PInt\n",
      "      Left-Overlaps ( LO)  Left-Overlapped-By (LOI)    False      False      False       PInt          PInt\n",
      " Left-Overlapped-By (LOI)       Left-Overlaps ( LO)    False      False      False       PInt          PInt\n",
      "  Left-Incomparable ( L~)   Left-Incomparable ( L~)    False       True      False       PInt          PInt\n",
      "              Meets (  M)              Met-By ( MI)    False      False      False       PInt          PInt\n",
      "             Met-By ( MI)               Meets (  M)    False      False      False       PInt          PInt\n",
      "           Overlaps (  O)       Overlapped-By ( OI)    False      False      False       PInt          PInt\n",
      "      Overlapped-By ( OI)            Overlaps (  O)    False      False      False       PInt          PInt\n",
      "             Starts (  S)          Started-By ( SI)    False      False       True       PInt          PInt\n",
      "         Started-By ( SI)              Starts (  S)    False      False       True       PInt          PInt\n",
      "\n",
      "Domain & Range Abbreviations:\n",
      "   Pt = Point\n",
      " PInt = Proper Interval\n"
     ]
    }
   ],
   "source": [
    "test_lb_proper_alg.summary()"
   ]
  },
  {
   "cell_type": "code",
   "execution_count": 14,
   "metadata": {},
   "outputs": [
    {
     "data": {
      "text/plain": [
       "True"
      ]
     },
     "execution_count": 14,
     "metadata": {},
     "output_type": "execute_result"
    }
   ],
   "source": [
    "test_lb_proper_alg.check_composition_identity()"
   ]
  },
  {
   "cell_type": "code",
   "execution_count": 15,
   "metadata": {},
   "outputs": [
    {
     "name": "stdout",
     "output_type": "stream",
     "text": [
      "TEST SUMMARY: 6859 OK, 0 Skipped, 0 Failed (6859 Total)\n"
     ]
    },
    {
     "data": {
      "text/plain": [
       "True"
      ]
     },
     "execution_count": 15,
     "metadata": {},
     "output_type": "execute_result"
    }
   ],
   "source": [
    "test_lb_proper_alg.is_associative()"
   ]
  }
 ],
 "metadata": {
  "kernelspec": {
   "display_name": "Python 3",
   "language": "python",
   "name": "python3"
  },
  "language_info": {
   "codemirror_mode": {
    "name": "ipython",
    "version": 3
   },
   "file_extension": ".py",
   "mimetype": "text/x-python",
   "name": "python",
   "nbconvert_exporter": "python",
   "pygments_lexer": "ipython3",
   "version": "3.7.7"
  }
 },
 "nbformat": 4,
 "nbformat_minor": 2
}
