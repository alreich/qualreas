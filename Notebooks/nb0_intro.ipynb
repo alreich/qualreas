{
 "cells": [
  {
   "cell_type": "markdown",
   "metadata": {},
   "source": [
    "# Introduction"
   ]
  },
  {
   "cell_type": "markdown",
   "metadata": {},
   "source": [
    "In the following introduction to the <i>qualreas</i> module, Allen's Algebra of Time Intervals is used for the examples.  Other algebras of time or space are illustrated in subsequent notebooks."
   ]
  },
  {
   "cell_type": "markdown",
   "metadata": {},
   "source": [
    "## References"
   ]
  },
  {
   "cell_type": "markdown",
   "metadata": {},
   "source": [
    "1. Allen's original paper: [\"Maintaining Knowledge about Temporal Intervals\"](https://cse.unl.edu/~choueiry/Documents/Allen-CACM1983.pdf) by James F. Allen. Communications of the ACM. 26 (11): 832–843.\n",
    "1. [Allen's Interval Algebra](https://www.ics.uci.edu/~alspaugh/cls/shr/allen.html) or [here](https://thomasalspaugh.org/pub/fnd/allen.html) - A summary of Allen's algebra of proper time intervals by Thomas A. Alspaugh\n",
    "1. [\"Allen's interval algebra\"](https://en.wikipedia.org/wiki/Allen%27s_interval_algebra), Wikipedia.org\n",
    "1. [W3C Time Ontology in OWL](https://www.w3.org/TR/owl-time/) - temporal vocabulary used here is based on the W3C vocabulary of time\n",
    "1. [bitsets Python package](https://bitsets.readthedocs.io/en/stable/) - used here to implement Algebra relation sets and operations\n",
    "1. [NetworkX Python package](http://networkx.github.io/) - used here to represent directed graph of constraints\n",
    "1. [Python format string syntax](https://docs.python.org/3/library/string.html#format-string-syntax) - used in Algebra summary method\n",
    "1. [Spatial Ontology](https://www.w3.org/2017/sdwig/bp/) - I'm still looking for a standard spatial vocabulary; maybe start here\n",
    "1. [Qualitative Spatial Relations (QSR) Library](https://qsrlib.readthedocs.io/en/latest/index.html) - an alternative library to the one defined here"
   ]
  },
  {
   "cell_type": "markdown",
   "metadata": {},
   "source": [
    "## Qualitative Reasoning Module ('qualreas')"
   ]
  },
  {
   "cell_type": "code",
   "execution_count": 1,
   "metadata": {},
   "outputs": [],
   "source": [
    "import qualreas as qr"
   ]
  },
  {
   "cell_type": "markdown",
   "metadata": {},
   "source": [
    "The Qualitative Reasoning module, <i>qualreas</i>, provides the capability to reason abstractly (qualitatively) about time and space using transitive relationships between temporal and spatial entities.\n",
    "\n",
    "This first notebook uses Allen's algebra of proper time intervals to illustrate how relations and sets of relations are implemented as an algebra.  Other, similar types of algebras (temporal, spatial, etc.) are also supported by the <i>qualreas</i> module."
   ]
  },
  {
   "cell_type": "markdown",
   "metadata": {
    "slideshow": {
     "slide_type": "slide"
    }
   },
   "source": [
    "## Relation Algebras"
   ]
  },
  {
   "cell_type": "markdown",
   "metadata": {},
   "source": [
    "A Relation Algebra is defined by a JSON file that consists of the Algebra's relations, their properties, and a transitivity table.\n",
    "\n",
    "<p>The Algebra constructor requires only one argument, the path of the JSON file that defines the Algebra.  This is illustrated, below, using <b>Allen's algebra of time intervals</b>.</p>"
   ]
  },
  {
   "cell_type": "code",
   "execution_count": 2,
   "metadata": {},
   "outputs": [],
   "source": [
    "import os\n",
    "path = os.path.join(os.getenv('PYPROJ'), 'qualreas/Algebras')\n",
    "allen = qr.Algebra(os.path.join(path, 'LinearIntervalAlgebra.json'))"
   ]
  },
  {
   "cell_type": "markdown",
   "metadata": {},
   "source": [
    "## Relations"
   ]
  },
  {
   "cell_type": "code",
   "execution_count": 3,
   "metadata": {},
   "outputs": [
    {
     "data": {
      "text/plain": [
       "relset(['B', 'BI', 'D', 'DI', 'E', 'F', 'FI', 'M', 'MI', 'O', 'OI', 'S', 'SI'])"
      ]
     },
     "execution_count": 3,
     "metadata": {},
     "output_type": "execute_result"
    }
   ],
   "source": [
    "allen.elements"
   ]
  },
  {
   "cell_type": "markdown",
   "metadata": {},
   "source": [
    "Sets of relations (<i>RelSets</i> or relsets) are the actual algebraic elements of these types of algebras.\n",
    "\n",
    "Relsets, and their member relations, only \"exist\" within the context of their corresponding algebras.  Relations are denoted by short strings, such as \"B\" (Before) or \"BI\" (After).  We'll refer to these short strings as \"symbols\".  The \"I\" added to the symbol denotes an \"inverse\", but inverse is the wrong term to use, algebraically speaking, \"converse\" is the correct term.\n",
    "\n",
    "A relset can be obtained from an Algebra as follows."
   ]
  },
  {
   "cell_type": "code",
   "execution_count": 4,
   "metadata": {},
   "outputs": [
    {
     "data": {
      "text/plain": [
       "relset(['B', 'M', 'O'])"
      ]
     },
     "execution_count": 4,
     "metadata": {},
     "output_type": "execute_result"
    }
   ],
   "source": [
    "bmo = allen.relset(['B', 'M', 'O'])\n",
    "bmo"
   ]
  },
  {
   "cell_type": "markdown",
   "metadata": {},
   "source": [
    "Relsets have a string form, as shown below.  The same string form can also be input to the relset method to obtain a relset."
   ]
  },
  {
   "cell_type": "code",
   "execution_count": 5,
   "metadata": {},
   "outputs": [
    {
     "data": {
      "text/plain": [
       "'B|M|O'"
      ]
     },
     "execution_count": 5,
     "metadata": {},
     "output_type": "execute_result"
    }
   ],
   "source": [
    "str(bmo)"
   ]
  },
  {
   "cell_type": "code",
   "execution_count": 6,
   "metadata": {},
   "outputs": [
    {
     "data": {
      "text/plain": [
       "relset(['B', 'M', 'O'])"
      ]
     },
     "execution_count": 6,
     "metadata": {},
     "output_type": "execute_result"
    }
   ],
   "source": [
    "allen.relset(\"B|M|O\")"
   ]
  },
  {
   "cell_type": "code",
   "execution_count": 7,
   "metadata": {},
   "outputs": [
    {
     "data": {
      "text/plain": [
       "'B|BI|D|DI|E|F|FI|M|MI|O|OI|S|SI'"
      ]
     },
     "execution_count": 7,
     "metadata": {},
     "output_type": "execute_result"
    }
   ],
   "source": [
    "str(allen.elements)"
   ]
  },
  {
   "cell_type": "markdown",
   "metadata": {},
   "source": [
    "### Relations have a number of attributes and properties"
   ]
  },
  {
   "cell_type": "markdown",
   "metadata": {},
   "source": [
    "<p>In general, a relation, $\\rho$, can have one or more (or none) of the following properties:</p>\n",
    "\n",
    "* Reflexive.  $\\forall X, X\\rho X$\n",
    "* Symmetric. $X \\rho Y \\implies Y \\rho X$\n",
    "* Transitive. $(X \\rho Y)$ and $(Y \\rho Z)$ $\\implies (X \\rho Z)$"
   ]
  },
  {
   "cell_type": "code",
   "execution_count": 8,
   "metadata": {},
   "outputs": [
    {
     "data": {
      "text/plain": [
       "True"
      ]
     },
     "execution_count": 8,
     "metadata": {},
     "output_type": "execute_result"
    }
   ],
   "source": [
    "allen.rel_transitive(\"B\")"
   ]
  },
  {
   "cell_type": "markdown",
   "metadata": {},
   "source": [
    "Other algebra methods include: <i>rel_name, rel_domain, rel_range, rel_reflexive, rel_symmetric, rel_equality</i>."
   ]
  },
  {
   "cell_type": "markdown",
   "metadata": {},
   "source": [
    "Converse Relations.\n",
    "\n",
    "If $\\rho$ denotes a relation, then our notation here $\\bar{\\rho}$ will denote its converse.\n",
    "\n",
    "The converse of a relation is also an element in the algebra.\n",
    "\n",
    "For converses, the following holds: $X \\rho Y \\Leftrightarrow Y \\bar{\\rho} X$.  For example: (<b>X</b> <i>before</i> <b>Y</b>) <i>if and only if</i> (<b>Y</b> <i>after</i> <b>X</b>)."
   ]
  },
  {
   "cell_type": "code",
   "execution_count": 9,
   "metadata": {},
   "outputs": [
    {
     "data": {
      "text/plain": [
       "'Before'"
      ]
     },
     "execution_count": 9,
     "metadata": {},
     "output_type": "execute_result"
    }
   ],
   "source": [
    "allen.rel_name('B')"
   ]
  },
  {
   "cell_type": "code",
   "execution_count": 10,
   "metadata": {},
   "outputs": [
    {
     "data": {
      "text/plain": [
       "'BI'"
      ]
     },
     "execution_count": 10,
     "metadata": {},
     "output_type": "execute_result"
    }
   ],
   "source": [
    "allen.converse('B')"
   ]
  },
  {
   "cell_type": "code",
   "execution_count": 11,
   "metadata": {},
   "outputs": [
    {
     "data": {
      "text/plain": [
       "'After'"
      ]
     },
     "execution_count": 11,
     "metadata": {},
     "output_type": "execute_result"
    }
   ],
   "source": [
    "allen.rel_name(allen.converse('B'))"
   ]
  },
  {
   "cell_type": "markdown",
   "metadata": {},
   "source": [
    "Note that $\\bar{\\bar{\\rho}} = \\rho$."
   ]
  },
  {
   "cell_type": "code",
   "execution_count": 12,
   "metadata": {},
   "outputs": [
    {
     "data": {
      "text/plain": [
       "'B'"
      ]
     },
     "execution_count": 12,
     "metadata": {},
     "output_type": "execute_result"
    }
   ],
   "source": [
    "allen.converse(allen.converse('B'))"
   ]
  },
  {
   "cell_type": "markdown",
   "metadata": {},
   "source": [
    "### Printing Information about an Algebra"
   ]
  },
  {
   "cell_type": "code",
   "execution_count": 13,
   "metadata": {},
   "outputs": [
    {
     "name": "stdout",
     "output_type": "stream",
     "text": [
      "  Algebra Name: LinearIntervalAlgebra\n",
      "   Description: Allen's algebra of proper time intervals\n",
      " Equality Rels: E\n",
      "     Relations:\n",
      "            NAME (ABBREV)         CONVERSE (ABBREV)  REFLEXIVE  SYMMETRIC TRANSITIVE   DOMAIN        RANGE\n",
      "             Before (  B)               After ( BI)    False      False       True       PInt          PInt\n",
      "              After ( BI)              Before (  B)    False      False       True       PInt          PInt\n",
      "             During (  D)            Contains ( DI)    False      False       True       PInt          PInt\n",
      "           Contains ( DI)              During (  D)    False      False       True       PInt          PInt\n",
      "             Equals (  E)              Equals (  E)     True       True       True       PInt          PInt\n",
      "           Finishes (  F)         Finished-by ( FI)    False      False       True       PInt          PInt\n",
      "        Finished-by ( FI)            Finishes (  F)    False      False       True       PInt          PInt\n",
      "              Meets (  M)              Met-By ( MI)    False      False      False       PInt          PInt\n",
      "             Met-By ( MI)               Meets (  M)    False      False      False       PInt          PInt\n",
      "           Overlaps (  O)       Overlapped-By ( OI)    False      False      False       PInt          PInt\n",
      "      Overlapped-By ( OI)            Overlaps (  O)    False      False      False       PInt          PInt\n",
      "             Starts (  S)          Started-By ( SI)    False      False       True       PInt          PInt\n",
      "         Started-By ( SI)              Starts (  S)    False      False       True       PInt          PInt\n",
      "\n",
      "Domain & Range Abbreviations:\n",
      "   Pt = Point\n",
      " PInt = Proper Interval\n"
     ]
    }
   ],
   "source": [
    "allen.summary()"
   ]
  },
  {
   "cell_type": "markdown",
   "metadata": {},
   "source": [
    "## Equality Relations"
   ]
  },
  {
   "cell_type": "markdown",
   "metadata": {},
   "source": [
    "In subsequent notebooks we'll see that an algebra can have more than one <i>equality</i> relation.  How many equality relations an algebra has depends on how many different classes (ontological, not OOP) of entities can be related using the algebra's relations.  In the case of Allen's algebra, only Proper Intervals can be related to Proper Intervals, so there is only one equality relation, <i>E</i>."
   ]
  },
  {
   "cell_type": "markdown",
   "metadata": {},
   "source": [
    "### Relation Sets have Converses, Also"
   ]
  },
  {
   "cell_type": "markdown",
   "metadata": {},
   "source": [
    "The converse of a RelationSet can be obtained by \"converting\" each of the relations in the RelationSet.\n",
    "<p>That is, if $S = \\{r_1,...,r_m\\}$, then $\\bar{S} = \\{\\bar{r_1},...,\\bar{r_m}\\}$.</p>"
   ]
  },
  {
   "cell_type": "code",
   "execution_count": 20,
   "metadata": {},
   "outputs": [
    {
     "name": "stdout",
     "output_type": "stream",
     "text": [
      "The converse of B|D|M|O|S is BI|DI|MI|OI|SI\n"
     ]
    }
   ],
   "source": [
    "bdmos = allen.relset(\"B|D|M|O|S\")\n",
    "bdmosI = allen.converse(bdmos)\n",
    "print(f\"The converse of {bdmos} is {bdmosI}\")"
   ]
  },
  {
   "cell_type": "markdown",
   "metadata": {},
   "source": [
    "#### The equality relation, E, is its own converse:"
   ]
  },
  {
   "cell_type": "code",
   "execution_count": 21,
   "metadata": {},
   "outputs": [
    {
     "data": {
      "text/plain": [
       "relset(['E'])"
      ]
     },
     "execution_count": 21,
     "metadata": {},
     "output_type": "execute_result"
    }
   ],
   "source": [
    "equals = allen.relset('E')\n",
    "equals"
   ]
  },
  {
   "cell_type": "code",
   "execution_count": 22,
   "metadata": {},
   "outputs": [
    {
     "data": {
      "text/plain": [
       "relset(['E'])"
      ]
     },
     "execution_count": 22,
     "metadata": {},
     "output_type": "execute_result"
    }
   ],
   "source": [
    "allen.converse(equals)"
   ]
  },
  {
   "cell_type": "markdown",
   "metadata": {},
   "source": [
    "### Relation Set Multiplication"
   ]
  },
  {
   "cell_type": "markdown",
   "metadata": {},
   "source": [
    "Although, we've referred to relations as the elements of an algebra, the actual algebraic elements are <b>sets of relations</b> (\"relsets\"). So, for example, instead of multiplying B and MI (i.e., <i>Before</i> and <i>Met-By</i>) we actually multiply the singleton sets, {B} and {MI}."
   ]
  },
  {
   "cell_type": "code",
   "execution_count": 23,
   "metadata": {},
   "outputs": [
    {
     "name": "stdout",
     "output_type": "stream",
     "text": [
      "B|D|M|O|S\n"
     ]
    }
   ],
   "source": [
    "B = allen.relset(['B'])\n",
    "MI = allen.relset(['MI'])\n",
    "BxMI = allen.mult(B, MI)\n",
    "print(BxMI)"
   ]
  },
  {
   "cell_type": "markdown",
   "metadata": {},
   "source": [
    "Note: We should be able to check the equality of the product, above, with the example relset, X, created earlier:"
   ]
  },
  {
   "cell_type": "code",
   "execution_count": 24,
   "metadata": {},
   "outputs": [
    {
     "data": {
      "text/plain": [
       "True"
      ]
     },
     "execution_count": 24,
     "metadata": {},
     "output_type": "execute_result"
    }
   ],
   "source": [
    "BxMI == bdmos"
   ]
  },
  {
   "cell_type": "markdown",
   "metadata": {},
   "source": [
    "### Multiplication is NOT Commutative"
   ]
  },
  {
   "cell_type": "code",
   "execution_count": 25,
   "metadata": {},
   "outputs": [
    {
     "name": "stdout",
     "output_type": "stream",
     "text": [
      "MI x B = B|DI|FI|M|O\n",
      "B x MI = B|D|M|O|S\n",
      "MI x B == B x MI ? False\n"
     ]
    }
   ],
   "source": [
    "MIxB = allen.mult(MI, B)\n",
    "print(f\"MI x B = {MIxB}\")\n",
    "\n",
    "BxMI = allen.mult(B, MI)\n",
    "print(f\"B x MI = {BxMI}\")\n",
    "\n",
    "print(f\"MI x B == B x MI ? {MIxB == BxMI}\")"
   ]
  },
  {
   "cell_type": "markdown",
   "metadata": {},
   "source": [
    "### An Identity Regarding Multiplication & Converses"
   ]
  },
  {
   "cell_type": "markdown",
   "metadata": {},
   "source": [
    "If R and S are any two relation sets from a relation algebra, then the following identity holds: $\\overline{(R \\times S)} = \\bar{S} \\times \\bar{R}$\n",
    "<p>Here's an example:"
   ]
  },
  {
   "cell_type": "code",
   "execution_count": 26,
   "metadata": {},
   "outputs": [
    {
     "name": "stdout",
     "output_type": "stream",
     "text": [
      "inv( {B} x {MI} ) = BI|DI|MI|OI|SI\n",
      "\n",
      "     {M} x {BI}   = BI|DI|MI|OI|SI\n",
      "\n"
     ]
    }
   ],
   "source": [
    "# We calculated BxMI, above, so\n",
    "print(f\"inv( {{B}} x {{MI}} ) = {allen.converse(BxMI)}\\n\")\n",
    "\n",
    "BI = allen.converse(B)  # After\n",
    "M = allen.converse(MI)  # Meets\n",
    "MxBI = allen.mult(M, BI)\n",
    "print(f\"     {{M}} x {{BI}}   = {MxBI}\\n\")"
   ]
  },
  {
   "cell_type": "markdown",
   "metadata": {},
   "source": [
    "The Multiplication Identity can be checked for <u>all</u> singleton relations in an Algebra by calling the Algebra method, <i>check_multiplication_identity</i>.\n",
    "\n",
    "<p>So, for Allen's algebra, 169 ($13^2$) instances of the identity are checked:</p>"
   ]
  },
  {
   "cell_type": "code",
   "execution_count": 27,
   "metadata": {},
   "outputs": [
    {
     "data": {
      "text/plain": [
       "True"
      ]
     },
     "execution_count": 27,
     "metadata": {},
     "output_type": "execute_result"
    }
   ],
   "source": [
    "allen.check_multiplication_identity()"
   ]
  },
  {
   "cell_type": "markdown",
   "metadata": {},
   "source": [
    "### Other Operations on RelationSets"
   ]
  },
  {
   "cell_type": "markdown",
   "metadata": {},
   "source": [
    "#### Union ('union')"
   ]
  },
  {
   "cell_type": "code",
   "execution_count": 28,
   "metadata": {},
   "outputs": [
    {
     "name": "stdout",
     "output_type": "stream",
     "text": [
      "B or MI = B|MI\n"
     ]
    }
   ],
   "source": [
    "B_or_MI = B.union(MI)\n",
    "print(f\"{B} or {MI} = {B_or_MI}\")"
   ]
  },
  {
   "cell_type": "markdown",
   "metadata": {},
   "source": [
    "#### Intersection ('+')"
   ]
  },
  {
   "cell_type": "code",
   "execution_count": 29,
   "metadata": {},
   "outputs": [
    {
     "name": "stdout",
     "output_type": "stream",
     "text": [
      "B|D|M|O|S and B|MI = B\n"
     ]
    }
   ],
   "source": [
    "print(f\"{BxMI} and {B_or_MI} = {(BxMI + B_or_MI)}\")"
   ]
  },
  {
   "cell_type": "markdown",
   "metadata": {},
   "source": [
    "### Associativity"
   ]
  },
  {
   "cell_type": "markdown",
   "metadata": {},
   "source": [
    "Associativity holds for Allen's algebra because the domains and ranges of all of the relations are the same, <i>proper intervals</i>.  Associativity for an algebra can be checked as follows:"
   ]
  },
  {
   "cell_type": "code",
   "execution_count": 30,
   "metadata": {},
   "outputs": [
    {
     "name": "stdout",
     "output_type": "stream",
     "text": [
      "\n",
      "TEST SUMMARY: 2197 OK, 0 Skipped, 0 Failed (2197 Total)\n"
     ]
    },
    {
     "data": {
      "text/plain": [
       "True"
      ]
     },
     "execution_count": 30,
     "metadata": {},
     "output_type": "execute_result"
    }
   ],
   "source": [
    "allen.is_associative()"
   ]
  }
 ],
 "metadata": {
  "kernelspec": {
   "display_name": "Python 3",
   "language": "python",
   "name": "python3"
  },
  "language_info": {
   "codemirror_mode": {
    "name": "ipython",
    "version": 3
   },
   "file_extension": ".py",
   "mimetype": "text/x-python",
   "name": "python",
   "nbconvert_exporter": "python",
   "pygments_lexer": "ipython3",
   "version": "3.7.4"
  }
 },
 "nbformat": 4,
 "nbformat_minor": 1
}
