{
 "cells": [
  {
   "cell_type": "markdown",
   "metadata": {},
   "source": [
    "# Output Network to JSON"
   ]
  },
  {
   "cell_type": "code",
   "execution_count": 1,
   "metadata": {},
   "outputs": [],
   "source": [
    "import qualreas as qr\n",
    "import os\n",
    "import json"
   ]
  },
  {
   "cell_type": "code",
   "execution_count": 2,
   "metadata": {},
   "outputs": [
    {
     "name": "stdout",
     "output_type": "stream",
     "text": [
      "/Users/alfredreich/Documents/Programming/Python/Repos/qualreas\n"
     ]
    }
   ],
   "source": [
    "path = os.path.join(os.getenv('PYPROJ'), 'qualreas')\n",
    "print(path)"
   ]
  },
  {
   "cell_type": "code",
   "execution_count": 3,
   "metadata": {},
   "outputs": [],
   "source": [
    "apath = path + \"/Algebras/\"\n",
    "\n",
    "rcc8 = path + \"/Networks/rcc8_example.json\"\n",
    "rcc8_missing = path + \"/Networks/rcc8_example_MISSING.json\"  # Missing specifications (force defaults)\n",
    "\n",
    "book = path + \"/Networks/BookExample.json\"\n",
    "bookx = path + \"/Networks/BookExampleExtended.json\"\n",
    "\n",
    "nssdf = path + \"/Networks/nssdfExample2.json\""
   ]
  },
  {
   "cell_type": "markdown",
   "metadata": {},
   "source": [
    "### NSSDF 2009 Example 2"
   ]
  },
  {
   "cell_type": "code",
   "execution_count": 4,
   "metadata": {},
   "outputs": [
    {
     "name": "stdout",
     "output_type": "stream",
     "text": [
      "{\r\n",
      "    \"name\": \"NSSDF 2009 Example 2\",\r\n",
      "    \"algebra\": \"Extended_Linear_Interval_Algebra\",\r\n",
      "    \"description\": \"Using Semantic Web Technology to Exploit Soft Information\",\r\n",
      "    \"nodes\": [\r\n",
      "        [\"Yesterday\",           [\"ProperInterval\"]],\r\n",
      "        [\"Today\",               [\"ProperInterval\"]],\r\n",
      "        [\"Yesterday_Morning\",   [\"ProperInterval\"]],\r\n",
      "        [\"Yesterday_Evening\",   [\"ProperInterval\"]],\r\n",
      "        [\"Time_of_Arrest\",      [\"Point\"]],\r\n",
      "        [\"Time_of_Obs\",         [\"Point\"]],\r\n",
      "        [\"Time_of_Release\",     [\"Point\"]],\r\n",
      "        [\"Period_of_Detention\", [\"ProperInterval\", \"Point\"]]\r\n",
      "    ],\r\n",
      "    \"edges\": [\r\n",
      "        [\"Yesterday\",         \"Today\",               \"M\"],\r\n",
      "        [\"Yesterday_Morning\", \"Yesterday\",           \"S\"],\r\n",
      "        [\"Yesterday_Evening\", \"Yesterday\",           \"F\"],\r\n",
      "        [\"Yesterday_Morning\", \"Yesterday_Evening\",   \"B\"],\r\n",
      "        [\"Time_of_Obs\",       \"Yesterday_Evening\",   \"D\"],\r\n",
      "        [\"Time_of_Arrest\",    \"Yesterday_Morning\",   \"D\"],\r\n",
      "        [\"Time_of_Release\",   \"Today\",               \"D\"],\r\n",
      "        [\"Time_of_Arrest\",    \"Period_of_Detention\", \"PS\"],\r\n",
      "        [\"Time_of_Release\",   \"Period_of_Detention\", \"PF\"]\r\n",
      "    ]\r\n",
      "}"
     ]
    }
   ],
   "source": [
    "!cat {nssdf}"
   ]
  },
  {
   "cell_type": "code",
   "execution_count": 5,
   "metadata": {},
   "outputs": [],
   "source": [
    "nssdf_net = qr.Network(algebra_path=apath, json_file_name=nssdf)"
   ]
  },
  {
   "cell_type": "code",
   "execution_count": 6,
   "metadata": {},
   "outputs": [
    {
     "name": "stdout",
     "output_type": "stream",
     "text": [
      "{\n",
      "   \"name\": \"NSSDF 2009 Example 2\",\n",
      "   \"algebra\": \"Extended_Linear_Interval_Algebra\",\n",
      "   \"description\": \"Using Semantic Web Technology to Exploit Soft Information\",\n",
      "   \"nodes\": [\n",
      "        [\"Yesterday\", ['ProperInterval']],\n",
      "        [\"Today\", ['ProperInterval']],\n",
      "        [\"Yesterday_Morning\", ['ProperInterval']],\n",
      "        [\"Yesterday_Evening\", ['ProperInterval']],\n",
      "        [\"Time_of_Obs\", ['Point']],\n",
      "        [\"Time_of_Arrest\", ['Point']],\n",
      "        [\"Time_of_Release\", ['Point']],\n",
      "        [\"Period_of_Detention\", ['ProperInterval', 'Point']]\n",
      "    ],\n",
      "   \"edges\": [\n",
      "        \"['Yesterday', 'Today', 'M']\",\n",
      "        \"['Yesterday', 'Yesterday_Morning', 'SI']\",\n",
      "        \"['Yesterday', 'Yesterday_Evening', 'FI']\",\n",
      "        \"['Today', 'Time_of_Release', 'DI']\",\n",
      "        \"['Yesterday_Morning', 'Yesterday_Evening', 'B']\",\n",
      "        \"['Yesterday_Morning', 'Time_of_Arrest', 'DI']\",\n",
      "        \"['Yesterday_Evening', 'Time_of_Obs', 'DI']\",\n",
      "        \"['Time_of_Arrest', 'Period_of_Detention', 'PS']\",\n",
      "        \"['Time_of_Release', 'Period_of_Detention', 'PF']\",\n",
      "    ]\n",
      "}\n",
      "TOTAL EDGE COUNT: 9\n",
      "('Time_of_Obs', 'Yesterday_Evening')\n",
      "('Time_of_Arrest', 'Yesterday_Morning')\n",
      "('Time_of_Release', 'Today')\n",
      "('Yesterday_Evening', 'Yesterday')\n",
      "('Yesterday_Morning', 'Yesterday')\n",
      "('Period_of_Detention', 'Time_of_Release')\n",
      "('Period_of_Detention', 'Time_of_Arrest')\n",
      "('Yesterday_Evening', 'Yesterday_Morning')\n",
      "('Today', 'Yesterday')\n"
     ]
    }
   ],
   "source": [
    "nssdf_net.to_json()"
   ]
  },
  {
   "cell_type": "code",
   "execution_count": 7,
   "metadata": {},
   "outputs": [
    {
     "name": "stdout",
     "output_type": "stream",
     "text": [
      "\n",
      "NSSDF 2009 Example 2: 8 nodes, 26 edges\n",
      "  Algebra: Extended_Linear_Interval_Algebra\n",
      "  Yesterday:\n",
      "    => Yesterday: E\n",
      "    => Today: M\n",
      "    => Yesterday_Morning: SI\n",
      "    => Yesterday_Evening: FI\n",
      "  Today:\n",
      "    => Today: E\n",
      "    => Yesterday: MI\n",
      "    => Time_of_Release: DI\n",
      "  Yesterday_Morning:\n",
      "    => Yesterday_Morning: E\n",
      "    => Yesterday: S\n",
      "    => Yesterday_Evening: B\n",
      "    => Time_of_Arrest: DI\n",
      "  Yesterday_Evening:\n",
      "    => Yesterday_Evening: E\n",
      "    => Yesterday: F\n",
      "    => Yesterday_Morning: BI\n",
      "    => Time_of_Obs: DI\n",
      "  Time_of_Obs:\n",
      "    => Time_of_Obs: PE\n",
      "    => Yesterday_Evening: D\n",
      "  Time_of_Arrest:\n",
      "    => Time_of_Arrest: PE\n",
      "    => Yesterday_Morning: D\n",
      "    => Period_of_Detention: PS\n",
      "  Time_of_Release:\n",
      "    => Time_of_Release: PE\n",
      "    => Today: D\n",
      "    => Period_of_Detention: PF\n",
      "  Period_of_Detention:\n",
      "    => Period_of_Detention: E|PE\n",
      "    => Time_of_Arrest: PSI\n",
      "    => Time_of_Release: PFI\n"
     ]
    }
   ],
   "source": [
    "nssdf_net.summary()"
   ]
  },
  {
   "cell_type": "code",
   "execution_count": 8,
   "metadata": {},
   "outputs": [
    {
     "name": "stdout",
     "output_type": "stream",
     "text": [
      "\n",
      "NSSDF 2009 Example 2: 8 nodes, 64 edges\n",
      "  Algebra: Extended_Linear_Interval_Algebra\n",
      "  Yesterday:\n",
      "    => Yesterday: E\n",
      "    => Today: M\n",
      "    => Yesterday_Morning: SI\n",
      "    => Yesterday_Evening: FI\n",
      "    => Time_of_Obs: DI\n",
      "    => Time_of_Arrest: DI\n",
      "    => Time_of_Release: B\n",
      "    => Period_of_Detention: O\n",
      "  Today:\n",
      "    => Today: E\n",
      "    => Yesterday: MI\n",
      "    => Time_of_Release: DI\n",
      "    => Yesterday_Morning: BI\n",
      "    => Yesterday_Evening: MI\n",
      "    => Time_of_Obs: BI\n",
      "    => Time_of_Arrest: BI\n",
      "    => Period_of_Detention: OI\n",
      "  Yesterday_Morning:\n",
      "    => Yesterday_Morning: E\n",
      "    => Yesterday: S\n",
      "    => Yesterday_Evening: B\n",
      "    => Time_of_Arrest: DI\n",
      "    => Today: B\n",
      "    => Time_of_Obs: B\n",
      "    => Time_of_Release: B\n",
      "    => Period_of_Detention: O\n",
      "  Yesterday_Evening:\n",
      "    => Yesterday_Evening: E\n",
      "    => Yesterday: F\n",
      "    => Yesterday_Morning: BI\n",
      "    => Time_of_Obs: DI\n",
      "    => Today: M\n",
      "    => Time_of_Arrest: BI\n",
      "    => Time_of_Release: B\n",
      "    => Period_of_Detention: D\n",
      "  Time_of_Obs:\n",
      "    => Time_of_Obs: PE\n",
      "    => Yesterday_Evening: D\n",
      "    => Yesterday: D\n",
      "    => Today: B\n",
      "    => Yesterday_Morning: BI\n",
      "    => Time_of_Arrest: BI\n",
      "    => Time_of_Release: B\n",
      "    => Period_of_Detention: D\n",
      "  Time_of_Arrest:\n",
      "    => Time_of_Arrest: PE\n",
      "    => Yesterday_Morning: D\n",
      "    => Period_of_Detention: PS\n",
      "    => Yesterday: D\n",
      "    => Today: B\n",
      "    => Yesterday_Evening: B\n",
      "    => Time_of_Obs: B\n",
      "    => Time_of_Release: B\n",
      "  Time_of_Release:\n",
      "    => Time_of_Release: PE\n",
      "    => Today: D\n",
      "    => Period_of_Detention: PF\n",
      "    => Yesterday: BI\n",
      "    => Yesterday_Morning: BI\n",
      "    => Yesterday_Evening: BI\n",
      "    => Time_of_Obs: BI\n",
      "    => Time_of_Arrest: BI\n",
      "  Period_of_Detention:\n",
      "    => Period_of_Detention: E\n",
      "    => Time_of_Arrest: PSI\n",
      "    => Time_of_Release: PFI\n",
      "    => Yesterday: OI\n",
      "    => Today: O\n",
      "    => Yesterday_Morning: OI\n",
      "    => Yesterday_Evening: DI\n",
      "    => Time_of_Obs: DI\n"
     ]
    }
   ],
   "source": [
    "nssdf_net.propagate()\n",
    "nssdf_net.summary()"
   ]
  },
  {
   "cell_type": "code",
   "execution_count": 9,
   "metadata": {},
   "outputs": [
    {
     "name": "stdout",
     "output_type": "stream",
     "text": [
      "{\n",
      "   \"name\": \"NSSDF 2009 Example 2\",\n",
      "   \"algebra\": \"Extended_Linear_Interval_Algebra\",\n",
      "   \"description\": \"Using Semantic Web Technology to Exploit Soft Information\",\n",
      "   \"nodes\": [\n",
      "        [\"Yesterday\", ['ProperInterval']],\n",
      "        [\"Today\", ['ProperInterval']],\n",
      "        [\"Yesterday_Morning\", ['ProperInterval']],\n",
      "        [\"Yesterday_Evening\", ['ProperInterval']],\n",
      "        [\"Time_of_Obs\", ['Point']],\n",
      "        [\"Time_of_Arrest\", ['Point']],\n",
      "        [\"Time_of_Release\", ['Point']],\n",
      "        [\"Period_of_Detention\", ['ProperInterval']]\n",
      "    ],\n",
      "   \"edges\": [\n",
      "        \"['Yesterday', 'Today', 'M']\",\n",
      "        \"['Yesterday', 'Yesterday_Morning', 'SI']\",\n",
      "        \"['Yesterday', 'Yesterday_Evening', 'FI']\",\n",
      "        \"['Yesterday', 'Time_of_Obs', 'DI']\",\n",
      "        \"['Yesterday', 'Time_of_Arrest', 'DI']\",\n",
      "        \"['Yesterday', 'Time_of_Release', 'B']\",\n",
      "        \"['Yesterday', 'Period_of_Detention', 'O']\",\n",
      "        \"['Today', 'Time_of_Release', 'DI']\",\n",
      "        \"['Today', 'Yesterday_Morning', 'BI']\",\n",
      "        \"['Today', 'Yesterday_Evening', 'MI']\",\n",
      "        \"['Today', 'Time_of_Obs', 'BI']\",\n",
      "        \"['Today', 'Time_of_Arrest', 'BI']\",\n",
      "        \"['Today', 'Period_of_Detention', 'OI']\",\n",
      "        \"['Yesterday_Morning', 'Yesterday_Evening', 'B']\",\n",
      "        \"['Yesterday_Morning', 'Time_of_Arrest', 'DI']\",\n",
      "        \"['Yesterday_Morning', 'Time_of_Obs', 'B']\",\n",
      "        \"['Yesterday_Morning', 'Time_of_Release', 'B']\",\n",
      "        \"['Yesterday_Morning', 'Period_of_Detention', 'O']\",\n",
      "        \"['Yesterday_Evening', 'Time_of_Obs', 'DI']\",\n",
      "        \"['Yesterday_Evening', 'Time_of_Arrest', 'BI']\",\n",
      "        \"['Yesterday_Evening', 'Time_of_Release', 'B']\",\n",
      "        \"['Yesterday_Evening', 'Period_of_Detention', 'D']\",\n",
      "        \"['Time_of_Obs', 'Time_of_Arrest', 'BI']\",\n",
      "        \"['Time_of_Obs', 'Time_of_Release', 'B']\",\n",
      "        \"['Time_of_Obs', 'Period_of_Detention', 'D']\",\n",
      "        \"['Time_of_Arrest', 'Period_of_Detention', 'PS']\",\n",
      "        \"['Time_of_Arrest', 'Time_of_Release', 'B']\",\n",
      "        \"['Time_of_Release', 'Period_of_Detention', 'PF']\",\n",
      "    ]\n",
      "}\n",
      "TOTAL EDGE COUNT: 28\n",
      "('Time_of_Obs', 'Today')\n",
      "('Time_of_Release', 'Yesterday_Morning')\n",
      "('Time_of_Arrest', 'Yesterday_Evening')\n",
      "('Time_of_Release', 'Yesterday_Evening')\n",
      "('Time_of_Arrest', 'Today')\n",
      "('Period_of_Detention', 'Time_of_Arrest')\n",
      "('Time_of_Arrest', 'Time_of_Obs')\n",
      "('Time_of_Obs', 'Yesterday_Evening')\n",
      "('Time_of_Release', 'Yesterday')\n",
      "('Time_of_Arrest', 'Yesterday')\n",
      "('Yesterday_Evening', 'Today')\n",
      "('Period_of_Detention', 'Time_of_Release')\n",
      "('Yesterday_Morning', 'Today')\n",
      "('Time_of_Release', 'Today')\n",
      "('Time_of_Obs', 'Yesterday_Morning')\n",
      "('Yesterday_Evening', 'Yesterday')\n",
      "('Period_of_Detention', 'Yesterday_Morning')\n",
      "('Period_of_Detention', 'Time_of_Obs')\n",
      "('Yesterday_Morning', 'Yesterday')\n",
      "('Period_of_Detention', 'Yesterday_Evening')\n",
      "('Yesterday_Evening', 'Yesterday_Morning')\n",
      "('Period_of_Detention', 'Yesterday')\n",
      "('Time_of_Obs', 'Yesterday')\n",
      "('Time_of_Arrest', 'Yesterday_Morning')\n",
      "('Time_of_Release', 'Time_of_Arrest')\n",
      "('Period_of_Detention', 'Today')\n",
      "('Time_of_Release', 'Time_of_Obs')\n",
      "('Today', 'Yesterday')\n"
     ]
    }
   ],
   "source": [
    "nssdf_net.to_json()"
   ]
  },
  {
   "cell_type": "markdown",
   "metadata": {},
   "source": [
    "## Interval Algebra"
   ]
  },
  {
   "cell_type": "code",
   "execution_count": null,
   "metadata": {},
   "outputs": [],
   "source": [
    "!cat {book}"
   ]
  },
  {
   "cell_type": "code",
   "execution_count": null,
   "metadata": {},
   "outputs": [],
   "source": [
    "book_net = qr.Network(algebra_path=apath, json_file_name=book)"
   ]
  },
  {
   "cell_type": "code",
   "execution_count": null,
   "metadata": {},
   "outputs": [],
   "source": [
    "book_net.summary()"
   ]
  },
  {
   "cell_type": "code",
   "execution_count": null,
   "metadata": {},
   "outputs": [],
   "source": [
    "book_net.propagate()\n",
    "book_net.summary()"
   ]
  },
  {
   "cell_type": "markdown",
   "metadata": {},
   "source": [
    "## Extended Interval Algebra"
   ]
  },
  {
   "cell_type": "markdown",
   "metadata": {},
   "source": [
    "### Example from Book"
   ]
  },
  {
   "cell_type": "markdown",
   "metadata": {},
   "source": [
    "(What book was this?  I've forgotten.)"
   ]
  },
  {
   "cell_type": "code",
   "execution_count": null,
   "metadata": {},
   "outputs": [],
   "source": [
    "!cat {bookx}"
   ]
  },
  {
   "cell_type": "code",
   "execution_count": null,
   "metadata": {},
   "outputs": [],
   "source": [
    "bookx_net = qr.Network(algebra_path=apath, json_file_name=bookx)"
   ]
  },
  {
   "cell_type": "code",
   "execution_count": null,
   "metadata": {},
   "outputs": [],
   "source": [
    "bookx_net.summary()"
   ]
  },
  {
   "cell_type": "code",
   "execution_count": null,
   "metadata": {},
   "outputs": [],
   "source": [
    "bookx_net.propagate()\n",
    "bookx_net.summary()"
   ]
  },
  {
   "cell_type": "markdown",
   "metadata": {},
   "source": [
    "## Region Connection Calculus 8"
   ]
  },
  {
   "cell_type": "code",
   "execution_count": null,
   "metadata": {},
   "outputs": [],
   "source": [
    "!cat {rcc8}"
   ]
  },
  {
   "cell_type": "code",
   "execution_count": null,
   "metadata": {},
   "outputs": [],
   "source": [
    "rcc8_net = qr.Network(algebra_path=apath, json_file_name=rcc8)"
   ]
  },
  {
   "cell_type": "code",
   "execution_count": null,
   "metadata": {},
   "outputs": [],
   "source": [
    "rcc8_net.summary()"
   ]
  },
  {
   "cell_type": "code",
   "execution_count": null,
   "metadata": {},
   "outputs": [],
   "source": [
    "rcc8_net.propagate()\n",
    "rcc8_net.summary()"
   ]
  },
  {
   "cell_type": "markdown",
   "metadata": {},
   "source": [
    "## RCC8 no name & no constraint"
   ]
  },
  {
   "cell_type": "code",
   "execution_count": null,
   "metadata": {},
   "outputs": [],
   "source": [
    "!cat {rcc8_missing}"
   ]
  },
  {
   "cell_type": "code",
   "execution_count": null,
   "metadata": {},
   "outputs": [],
   "source": [
    "rcc8_net_missing = qr.Network(algebra_path=apath, json_file_name=rcc8_missing)"
   ]
  },
  {
   "cell_type": "code",
   "execution_count": null,
   "metadata": {
    "scrolled": true
   },
   "outputs": [],
   "source": [
    "rcc8_net_missing.summary()"
   ]
  },
  {
   "cell_type": "code",
   "execution_count": null,
   "metadata": {
    "scrolled": true
   },
   "outputs": [],
   "source": [
    "rcc8_net_missing.propagate()\n",
    "rcc8_net_missing.summary()"
   ]
  },
  {
   "cell_type": "markdown",
   "metadata": {},
   "source": [
    "## Network Examination"
   ]
  },
  {
   "cell_type": "markdown",
   "metadata": {},
   "source": [
    "This examination uses the NetworkX API."
   ]
  },
  {
   "cell_type": "code",
   "execution_count": null,
   "metadata": {},
   "outputs": [],
   "source": [
    "rcc8_net"
   ]
  },
  {
   "cell_type": "code",
   "execution_count": null,
   "metadata": {},
   "outputs": [],
   "source": [
    "list(rcc8_net.nodes)"
   ]
  },
  {
   "cell_type": "code",
   "execution_count": null,
   "metadata": {},
   "outputs": [],
   "source": [
    "for n in rcc8_net.nodes:\n",
    "    print(n.name)"
   ]
  },
  {
   "cell_type": "code",
   "execution_count": null,
   "metadata": {},
   "outputs": [],
   "source": [
    "for e in rcc8_net.edges:\n",
    "    print(e)"
   ]
  },
  {
   "cell_type": "code",
   "execution_count": null,
   "metadata": {},
   "outputs": [],
   "source": [
    "h1 = rcc8_net.get_entity_by_name(\"House1\")\n",
    "h2 = rcc8_net.get_entity_by_name(\"House2\")\n",
    "print(h1)\n",
    "print(h2)"
   ]
  },
  {
   "cell_type": "code",
   "execution_count": null,
   "metadata": {},
   "outputs": [],
   "source": [
    "print(rcc8_net.edges[h1, h2]['constraint'])"
   ]
  },
  {
   "cell_type": "code",
   "execution_count": null,
   "metadata": {},
   "outputs": [],
   "source": [
    "h1 = rcc8_net.get_entity_by_name(\"House1\")\n",
    "h2 = rcc8_net.get_entity_by_name(\"House2\")\n",
    "rcc8_net.get_edge_data(h1, h2)"
   ]
  },
  {
   "cell_type": "code",
   "execution_count": null,
   "metadata": {},
   "outputs": [],
   "source": [
    "rcc8_net.get_edge_by_names(\"House1\", \"House2\")"
   ]
  },
  {
   "cell_type": "markdown",
   "metadata": {},
   "source": [
    "## Output Network to JSON Format"
   ]
  },
  {
   "cell_type": "code",
   "execution_count": null,
   "metadata": {},
   "outputs": [],
   "source": [
    "!cat {nssdf}"
   ]
  },
  {
   "cell_type": "code",
   "execution_count": null,
   "metadata": {},
   "outputs": [],
   "source": [
    "nssdf_net.to_json()"
   ]
  },
  {
   "cell_type": "code",
   "execution_count": null,
   "metadata": {},
   "outputs": [],
   "source": []
  }
 ],
 "metadata": {
  "kernelspec": {
   "display_name": "Python 3",
   "language": "python",
   "name": "python3"
  },
  "language_info": {
   "codemirror_mode": {
    "name": "ipython",
    "version": 3
   },
   "file_extension": ".py",
   "mimetype": "text/x-python",
   "name": "python",
   "nbconvert_exporter": "python",
   "pygments_lexer": "ipython3",
   "version": "3.7.7"
  }
 },
 "nbformat": 4,
 "nbformat_minor": 4
}
