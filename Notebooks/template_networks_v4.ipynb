{
 "cells": [
  {
   "cell_type": "markdown",
   "metadata": {},
   "source": [
    "# Template Network Definitions"
   ]
  },
  {
   "cell_type": "markdown",
   "metadata": {},
   "source": [
    "<i>Version 3</i>"
   ]
  },
  {
   "cell_type": "markdown",
   "metadata": {},
   "source": [
    "## References"
   ]
  },
  {
   "cell_type": "markdown",
   "metadata": {},
   "source": [
    "1. [\"Maintaining Knowledge about Temporal Intervals\" by James F. Allen](https://cse.unl.edu/~choueiry/Documents/Allen-CACM1983.pdf) - Allen's original paper (PDF)\n",
    "1. [Allen's Interval Algebra](https://www.ics.uci.edu/~alspaugh/cls/shr/allen.html) or [here](https://thomasalspaugh.org/pub/fnd/allen.html) - summarizes Allen's algebra of proper time intervals\n",
    "1. [W3C Time Ontology in OWL](https://www.w3.org/TR/owl-time/) - temporal vocabulary used here is based on the W3C vocabulary of time\n",
    "1. [bitsets Python package](https://bitsets.readthedocs.io/en/stable/) - used to implement Algebra relation sets and operations\n",
    "1. [NetworkX Python package](http://networkx.github.io/) - used to represent directed graph of constraints\n",
    "1. [Python format string syntax](https://docs.python.org/3/library/string.html#format-string-syntax) - used in Algebra summary method\n",
    "1. [Spatial Ontology](https://www.w3.org/2017/sdwig/bp/) - I'm still looking for a standard spatial vocabulary; maybe start here\n",
    "1. [Qualitative Spatial Relations (QSR) Library](https://qsrlib.readthedocs.io/en/latest/index.html) - an alternative library to the one defined here"
   ]
  },
  {
   "cell_type": "markdown",
   "metadata": {},
   "source": [
    "## Dependencies"
   ]
  },
  {
   "cell_type": "code",
   "execution_count": 1,
   "metadata": {},
   "outputs": [],
   "source": [
    "import os\n",
    "import qualreas as qr\n",
    "import numpy as np"
   ]
  },
  {
   "cell_type": "code",
   "execution_count": 2,
   "metadata": {},
   "outputs": [],
   "source": [
    "path = os.path.join(os.getenv('PYPROJ'), 'qualreas')"
   ]
  },
  {
   "cell_type": "code",
   "execution_count": 3,
   "metadata": {},
   "outputs": [],
   "source": [
    "#pt_alg = qr.Algebra(os.path.join(path, \"Algebras/LinearPointAlgebra.json\"))\n",
    "pt_alg = qr.Algebra(os.path.join(path, \"Algebras/RightBranchingPointAlgebra.json\"))\n",
    "#pt_alg = qr.Algebra(os.path.join(path, \"Algebras/LeftBranchingPointAlgebra.json\"))"
   ]
  },
  {
   "cell_type": "markdown",
   "metadata": {},
   "source": [
    "## Create Algebra Elements using 4-Point Networks"
   ]
  },
  {
   "cell_type": "markdown",
   "metadata": {},
   "source": [
    "### Derive Algebra Elements"
   ]
  },
  {
   "cell_type": "markdown",
   "metadata": {},
   "source": [
    "A 4-point network, like that generated above, only has constraints specified so that the first two points define an interval, and same for the second two points.  No constraints are specified between the two implied intervals (e.g., no constraint between StartPt1/EndPt1 and StartPt2/EndPt2).  Depending on which point algebra is used there are either 3^4 (81) or 4^4 (256) different ways the unassigned constraint pairs can be made.  The function,  <i>generate_consistent_networks</i> tries all of these possibilities and returns the ones that are consistent.  Doing this for the linear point algebra ('<', '=', '>') results in 13 consistent networks that correspond to Allen's Temporal Algebra of Proper Time Intervals.  Using ('<|=', '=', '>|=\") results in 18 consistent networks that are a superset of Allen's relations that includes 5 additional relations that integrate points into the algebra.  Using ('<|=', '=', '>|=', '~'), where '~' is either the left-incomparable or right-incomparable relation of the left- or right-branching time point algebra will result in 24 consistent networks that integrate points into a left- or right-branching time interval algebra."
   ]
  },
  {
   "cell_type": "code",
   "execution_count": 5,
   "metadata": {},
   "outputs": [
    {
     "name": "stdout",
     "output_type": "stream",
     "text": [
      "==========================\n",
      "B\n",
      "[['=' '<|=' '<' '<']\n",
      " ['=|>' '=' '<' '<']\n",
      " ['>' '>' '=' '<|=']\n",
      " ['>' '>' '=|>' '=']]\n",
      "==========================\n",
      "M\n",
      "[['=' '<' '<' '<']\n",
      " ['>' '=' '=' '<']\n",
      " ['>' '=' '=' '<']\n",
      " ['>' '>' '>' '=']]\n",
      "==========================\n",
      "PFI\n",
      "[['=' '<' '<' '<']\n",
      " ['>' '=' '=' '=']\n",
      " ['>' '=' '=' '=']\n",
      " ['>' '=' '=' '=']]\n",
      "==========================\n",
      "O\n",
      "[['=' '<' '<' '<']\n",
      " ['>' '=' '>' '<']\n",
      " ['>' '<' '=' '<']\n",
      " ['>' '>' '>' '=']]\n",
      "==========================\n",
      "FI\n",
      "[['=' '<' '<' '<']\n",
      " ['>' '=' '>' '=']\n",
      " ['>' '<' '=' '<']\n",
      " ['>' '=' '>' '=']]\n",
      "==========================\n",
      "DI\n",
      "[['=' '<' '<' '<']\n",
      " ['>' '=' '>' '>']\n",
      " ['>' '<' '=' '<|=']\n",
      " ['>' '<' '=|>' '=']]\n",
      "==========================\n",
      "RO\n",
      "[['=' '<' '<' '<']\n",
      " ['>' '=' '>' 'r~']\n",
      " ['>' '<' '=' '<']\n",
      " ['>' 'r~' '>' '=']]\n",
      "==========================\n",
      "RB\n",
      "[['=' '<' '<' '<']\n",
      " ['>' '=' 'r~' 'r~']\n",
      " ['>' 'r~' '=' '<|=']\n",
      " ['>' 'r~' '=|>' '=']]\n",
      "==========================\n",
      "PS\n",
      "[['=' '=' '=' '<']\n",
      " ['=' '=' '=' '<']\n",
      " ['=' '=' '=' '<']\n",
      " ['>' '>' '>' '=']]\n",
      "==========================\n",
      "PE\n",
      "[['=' '=' '=' '=']\n",
      " ['=' '=' '=' '=']\n",
      " ['=' '=' '=' '=']\n",
      " ['=' '=' '=' '=']]\n",
      "==========================\n",
      "S\n",
      "[['=' '<' '=' '<']\n",
      " ['>' '=' '>' '<']\n",
      " ['=' '<' '=' '<']\n",
      " ['>' '>' '>' '=']]\n",
      "==========================\n",
      "E\n",
      "[['=' '<' '=' '<']\n",
      " ['>' '=' '>' '=']\n",
      " ['=' '<' '=' '<']\n",
      " ['>' '=' '>' '=']]\n",
      "==========================\n",
      "SI\n",
      "[['=' '<' '=' '<']\n",
      " ['>' '=' '>' '>']\n",
      " ['=' '<' '=' '<']\n",
      " ['>' '<' '>' '=']]\n",
      "==========================\n",
      "RS\n",
      "[['=' '<' '=' '<']\n",
      " ['>' '=' '>' 'r~']\n",
      " ['=' '<' '=' '<']\n",
      " ['>' 'r~' '>' '=']]\n",
      "==========================\n",
      "PSI\n",
      "[['=' '<' '=' '=']\n",
      " ['>' '=' '>' '>']\n",
      " ['=' '<' '=' '=']\n",
      " ['=' '<' '=' '=']]\n",
      "==========================\n",
      "D\n",
      "[['=' '<|=' '>' '<']\n",
      " ['=|>' '=' '>' '<']\n",
      " ['<' '<' '=' '<']\n",
      " ['>' '>' '>' '=']]\n",
      "==========================\n",
      "F\n",
      "[['=' '<' '>' '<']\n",
      " ['>' '=' '>' '=']\n",
      " ['<' '<' '=' '<']\n",
      " ['>' '=' '>' '=']]\n",
      "==========================\n",
      "OI\n",
      "[['=' '<' '>' '<']\n",
      " ['>' '=' '>' '>']\n",
      " ['<' '<' '=' '<']\n",
      " ['>' '<' '>' '=']]\n",
      "==========================\n",
      "ROI\n",
      "[['=' '<' '>' '<']\n",
      " ['>' '=' '>' 'r~']\n",
      " ['<' '<' '=' '<']\n",
      " ['>' 'r~' '>' '=']]\n",
      "==========================\n",
      "PF\n",
      "[['=' '=' '>' '=']\n",
      " ['=' '=' '>' '=']\n",
      " ['<' '<' '=' '<']\n",
      " ['=' '=' '>' '=']]\n",
      "==========================\n",
      "MI\n",
      "[['=' '<' '>' '=']\n",
      " ['>' '=' '>' '>']\n",
      " ['<' '<' '=' '<']\n",
      " ['=' '<' '>' '=']]\n",
      "==========================\n",
      "BI\n",
      "[['=' '<|=' '>' '>']\n",
      " ['=|>' '=' '>' '>']\n",
      " ['<' '<' '=' '<|=']\n",
      " ['<' '<' '=|>' '=']]\n",
      "==========================\n",
      "RBI\n",
      "[['=' '<|=' '>' 'r~']\n",
      " ['=|>' '=' '>' 'r~']\n",
      " ['<' '<' '=' '<']\n",
      " ['r~' 'r~' '>' '=']]\n",
      "==========================\n",
      "R~\n",
      "[['=' '<|=' 'r~' 'r~']\n",
      " ['=|>' '=' 'r~' 'r~']\n",
      " ['r~' 'r~' '=' '<|=']\n",
      " ['r~' 'r~' '=|>' '=']]\n",
      "\n",
      "24 consistent networks\n"
     ]
    }
   ],
   "source": [
    "consistent_nets = qr.generate_consistent_networks(pt_alg, lessthan=\"=|<\", verbose=True)"
   ]
  },
  {
   "cell_type": "code",
   "execution_count": 6,
   "metadata": {},
   "outputs": [
    {
     "data": {
      "text/plain": [
       "{'B': <qualreas.FourPoint at 0x7fbbb0fe3978>,\n",
       " 'M': <qualreas.FourPoint at 0x7fbba06fafd0>,\n",
       " 'PFI': <qualreas.FourPoint at 0x7fbbb0fe3438>,\n",
       " 'O': <qualreas.FourPoint at 0x7fbbb0ff2f98>,\n",
       " 'FI': <qualreas.FourPoint at 0x7fbbb0ff2d30>,\n",
       " 'DI': <qualreas.FourPoint at 0x7fbbb0ff2d68>,\n",
       " 'RO': <qualreas.FourPoint at 0x7fbbb1002b38>,\n",
       " 'RB': <qualreas.FourPoint at 0x7fbbb0ffdfd0>,\n",
       " 'PS': <qualreas.FourPoint at 0x7fbbb0ffdef0>,\n",
       " 'PE': <qualreas.FourPoint at 0x7fbbb0ffd278>,\n",
       " 'S': <qualreas.FourPoint at 0x7fbbb1008e10>,\n",
       " 'E': <qualreas.FourPoint at 0x7fbbb1008f98>,\n",
       " 'SI': <qualreas.FourPoint at 0x7fbbb1017e80>,\n",
       " 'RS': <qualreas.FourPoint at 0x7fbbb1017e48>,\n",
       " 'PSI': <qualreas.FourPoint at 0x7fbbb101a588>,\n",
       " 'D': <qualreas.FourPoint at 0x7fbba07ebf98>,\n",
       " 'F': <qualreas.FourPoint at 0x7fbba07ecef0>,\n",
       " 'OI': <qualreas.FourPoint at 0x7fbba07eebe0>,\n",
       " 'ROI': <qualreas.FourPoint at 0x7fbba07ee5c0>,\n",
       " 'PF': <qualreas.FourPoint at 0x7fbba07f2ac8>,\n",
       " 'MI': <qualreas.FourPoint at 0x7fbba07f2da0>,\n",
       " 'BI': <qualreas.FourPoint at 0x7fbba07f8be0>,\n",
       " 'RBI': <qualreas.FourPoint at 0x7fbba07f8ef0>,\n",
       " 'R~': <qualreas.FourPoint at 0x7fbba08096d8>}"
      ]
     },
     "execution_count": 6,
     "metadata": {},
     "output_type": "execute_result"
    }
   ],
   "source": [
    "consistent_nets"
   ]
  },
  {
   "cell_type": "code",
   "execution_count": 7,
   "metadata": {},
   "outputs": [],
   "source": [
    "#def print_as_matrix(net, entities=None):\n",
    "    "
   ]
  },
  {
   "cell_type": "code",
   "execution_count": 8,
   "metadata": {},
   "outputs": [
    {
     "name": "stdout",
     "output_type": "stream",
     "text": [
      "[['=' '<|=' '<' '<']\n",
      " ['=|>' '=' '<' '<']\n",
      " ['>' '>' '=' '<|=']\n",
      " ['>' '>' '=|>' '=']]\n"
     ]
    }
   ],
   "source": [
    "before = consistent_nets['B']\n",
    "print(np.matrix(before.to_list()))"
   ]
  },
  {
   "cell_type": "code",
   "execution_count": 9,
   "metadata": {},
   "outputs": [
    {
     "name": "stdout",
     "output_type": "stream",
     "text": [
      "B: (['Point', 'ProperInterval'], ['Point', 'ProperInterval'])\n",
      "M: (['ProperInterval'], ['ProperInterval'])\n",
      "PFI: (['ProperInterval'], ['Point'])\n",
      "O: (['ProperInterval'], ['ProperInterval'])\n",
      "FI: (['ProperInterval'], ['ProperInterval'])\n",
      "DI: (['ProperInterval'], ['Point', 'ProperInterval'])\n",
      "RO: (['ProperInterval'], ['ProperInterval'])\n",
      "RB: (['ProperInterval'], ['Point', 'ProperInterval'])\n",
      "PS: (['Point'], ['ProperInterval'])\n",
      "PE: (['Point'], ['Point'])\n",
      "S: (['ProperInterval'], ['ProperInterval'])\n",
      "E: (['ProperInterval'], ['ProperInterval'])\n",
      "SI: (['ProperInterval'], ['ProperInterval'])\n",
      "RS: (['ProperInterval'], ['ProperInterval'])\n",
      "PSI: (['ProperInterval'], ['Point'])\n",
      "D: (['Point', 'ProperInterval'], ['ProperInterval'])\n",
      "F: (['ProperInterval'], ['ProperInterval'])\n",
      "OI: (['ProperInterval'], ['ProperInterval'])\n",
      "ROI: (['ProperInterval'], ['ProperInterval'])\n",
      "PF: (['Point'], ['ProperInterval'])\n",
      "MI: (['ProperInterval'], ['ProperInterval'])\n",
      "BI: (['Point', 'ProperInterval'], ['Point', 'ProperInterval'])\n",
      "RBI: (['Point', 'ProperInterval'], ['ProperInterval'])\n",
      "R~: (['Point', 'ProperInterval'], ['Point', 'ProperInterval'])\n"
     ]
    }
   ],
   "source": [
    "for rel in consistent_nets:\n",
    "    print(f\"{rel}: {consistent_nets[rel].domain_and_range()}\")"
   ]
  },
  {
   "cell_type": "code",
   "execution_count": 10,
   "metadata": {},
   "outputs": [
    {
     "name": "stdout",
     "output_type": "stream",
     "text": [
      "B: <,<,<,<\n",
      "M: <,=,<,<\n",
      "PFI: <,=,<,=\n",
      "O: <,>,<,<\n",
      "FI: <,>,<,=\n",
      "DI: <,>,<,>\n",
      "RO: <,>,<,r~\n",
      "RB: <,r~,<,r~\n",
      "PS: =,=,<,<\n",
      "PE: =,=,=,=\n",
      "S: =,>,<,<\n",
      "E: =,>,<,=\n",
      "SI: =,>,<,>\n",
      "RS: =,>,<,r~\n",
      "PSI: =,>,=,>\n",
      "D: >,>,<,<\n",
      "F: >,>,<,=\n",
      "OI: >,>,<,>\n",
      "ROI: >,>,<,r~\n",
      "PF: >,>,=,=\n",
      "MI: >,>,=,>\n",
      "BI: >,>,>,>\n",
      "RBI: >,>,r~,r~\n",
      "R~: r~,r~,r~,r~\n"
     ]
    }
   ],
   "source": [
    "for rel in consistent_nets:\n",
    "    print(f\"{rel}: {consistent_nets[rel].name}\")"
   ]
  },
  {
   "cell_type": "code",
   "execution_count": null,
   "metadata": {},
   "outputs": [],
   "source": []
  },
  {
   "cell_type": "code",
   "execution_count": null,
   "metadata": {},
   "outputs": [],
   "source": []
  }
 ],
 "metadata": {
  "kernelspec": {
   "display_name": "Python 3",
   "language": "python",
   "name": "python3"
  },
  "language_info": {
   "codemirror_mode": {
    "name": "ipython",
    "version": 3
   },
   "file_extension": ".py",
   "mimetype": "text/x-python",
   "name": "python",
   "nbconvert_exporter": "python",
   "pygments_lexer": "ipython3",
   "version": "3.7.3"
  }
 },
 "nbformat": 4,
 "nbformat_minor": 2
}
