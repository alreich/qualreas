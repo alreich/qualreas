{
 "cells": [
  {
   "cell_type": "markdown",
   "metadata": {},
   "source": [
    "# Derive Algebra"
   ]
  },
  {
   "cell_type": "markdown",
   "metadata": {},
   "source": [
    "## References"
   ]
  },
  {
   "cell_type": "markdown",
   "metadata": {},
   "source": [
    "1. [\"Maintaining Knowledge about Temporal Intervals\" by J.F. Allen](https://cse.unl.edu/~choueiry/Documents/Allen-CACM1983.pdf) - Allen's original paper\n",
    "1. [Allen's Interval Algebra](https://www.ics.uci.edu/~alspaugh/cls/shr/allen.html) or [here](https://thomasalspaugh.org/pub/fnd/allen.html) - summarizes Allen's algebra of proper time intervals\n",
    "1. [\"Intervals, Points, and Branching Time\" by A.J. Reich](https://www.researchgate.net/publication/220810644_Intervals_Points_and_Branching_Time) - basis for the extensions here to Allen's algebra\n",
    "1. [W3C Time Ontology in OWL](https://www.w3.org/TR/owl-time/) - temporal vocabulary used here is based on the W3C vocabulary of time\n",
    "1. [bitsets Python package](https://bitsets.readthedocs.io/en/stable/) - used to implement Algebra relation sets and operations\n",
    "1. [NetworkX Python package](http://networkx.github.io/) - used to represent directed graph of constraints\n",
    "1. [Python format string syntax](https://docs.python.org/3/library/string.html#format-string-syntax) - used in Algebra summary method\n",
    "1. [Spatial Ontology](https://www.w3.org/2017/sdwig/bp/) - I'm still looking for a standard spatial vocabulary; maybe start here\n",
    "1. [Qualitative Spatial Relations (QSR) Library](https://qsrlib.readthedocs.io/en/latest/index.html) - an alternative library to the one defined here"
   ]
  },
  {
   "cell_type": "markdown",
   "metadata": {},
   "source": [
    "## Dependencies"
   ]
  },
  {
   "cell_type": "code",
   "execution_count": 1,
   "metadata": {},
   "outputs": [],
   "source": [
    "import os\n",
    "import qualreas as qr\n",
    "import numpy as np\n",
    "\n",
    "import sys"
   ]
  },
  {
   "cell_type": "code",
   "execution_count": 2,
   "metadata": {},
   "outputs": [],
   "source": [
    "sys.setrecursionlimit(10000)"
   ]
  },
  {
   "cell_type": "code",
   "execution_count": 3,
   "metadata": {},
   "outputs": [],
   "source": [
    "path = os.path.join(os.getenv('PYPROJ'), 'qualreas')"
   ]
  },
  {
   "cell_type": "code",
   "execution_count": 4,
   "metadata": {},
   "outputs": [],
   "source": [
    "#pt_alg = qr.Algebra(os.path.join(path, \"Algebras/Linear_Point_Algebra.json\"))\n",
    "#pt_alg = qr.Algebra(os.path.join(path, \"Algebras/Right_Branching_Point_Algebra.json\"))\n",
    "pt_alg = qr.Algebra(os.path.join(path, \"Algebras/Left_Branching_Point_Algebra.json\"))"
   ]
  },
  {
   "cell_type": "code",
   "execution_count": 5,
   "metadata": {},
   "outputs": [],
   "source": [
    "less_than_rel = '=|<'"
   ]
  },
  {
   "cell_type": "markdown",
   "metadata": {},
   "source": [
    "## Create Algebra Elements using 4-Point Networks"
   ]
  },
  {
   "cell_type": "markdown",
   "metadata": {},
   "source": [
    "### Mapping 4-Point Networks to Interval Relations"
   ]
  },
  {
   "cell_type": "markdown",
   "metadata": {},
   "source": [
    "The following dictionary keys (e.g., '<,<,<,<') represent the \"pattern\" of relations in the upper right-hand 2x2 matrix of a 4-Point Network, i.e., elements (rowcol): 13, 14, 23, and 24.  The value (e.g., 'B') corresponding to each key is the name of the relation that corresponds to that pattern.\n",
    "\n",
    "This is how the consistent networks, that get generated farther below, obtain their names."
   ]
  },
  {
   "cell_type": "markdown",
   "metadata": {},
   "source": [
    "### Derive Algebra Elements"
   ]
  },
  {
   "cell_type": "code",
   "execution_count": 6,
   "metadata": {},
   "outputs": [
    {
     "name": "stdout",
     "output_type": "stream",
     "text": [
      "\n",
      "24 consistent networks\n"
     ]
    }
   ],
   "source": [
    "consistent_nets = qr.generate_consistent_networks(pt_alg, lessthan=less_than_rel, verbose=False)"
   ]
  },
  {
   "cell_type": "code",
   "execution_count": 7,
   "metadata": {},
   "outputs": [
    {
     "data": {
      "text/plain": [
       "{'B': <qualreas.FourPointNet at 0x7fe901451e50>,\n",
       " 'M': <qualreas.FourPointNet at 0x7fe901455c50>,\n",
       " 'PFI': <qualreas.FourPointNet at 0x7fe901455c10>,\n",
       " 'O': <qualreas.FourPointNet at 0x7fe90144cb10>,\n",
       " 'FI': <qualreas.FourPointNet at 0x7fe90144c1d0>,\n",
       " 'DI': <qualreas.FourPointNet at 0x7fe901469190>,\n",
       " 'PS': <qualreas.FourPointNet at 0x7fe901471210>,\n",
       " 'PE': <qualreas.FourPointNet at 0x7fe901474c50>,\n",
       " 'S': <qualreas.FourPointNet at 0x7fe901477f90>,\n",
       " 'E': <qualreas.FourPointNet at 0x7fe901474cd0>,\n",
       " 'SI': <qualreas.FourPointNet at 0x7fe90147d410>,\n",
       " 'PSI': <qualreas.FourPointNet at 0x7fe90147df10>,\n",
       " 'D': <qualreas.FourPointNet at 0x7fe910535f10>,\n",
       " 'F': <qualreas.FourPointNet at 0x7fe910533150>,\n",
       " 'OI': <qualreas.FourPointNet at 0x7fe910537450>,\n",
       " 'PF': <qualreas.FourPointNet at 0x7fe910537cd0>,\n",
       " 'MI': <qualreas.FourPointNet at 0x7fe910537f90>,\n",
       " 'BI': <qualreas.FourPointNet at 0x7fe91053dc10>,\n",
       " 'LO': <qualreas.FourPointNet at 0x7fe910545c90>,\n",
       " 'LF': <qualreas.FourPointNet at 0x7fe91053dfd0>,\n",
       " 'LOI': <qualreas.FourPointNet at 0x7fe91054cc10>,\n",
       " 'LBI': <qualreas.FourPointNet at 0x7fe91054fdd0>,\n",
       " 'LB': <qualreas.FourPointNet at 0x7fe9105575d0>,\n",
       " 'L~': <qualreas.FourPointNet at 0x7fe910557d10>}"
      ]
     },
     "execution_count": 7,
     "metadata": {},
     "output_type": "execute_result"
    }
   ],
   "source": [
    "consistent_nets"
   ]
  },
  {
   "cell_type": "code",
   "execution_count": 19,
   "metadata": {},
   "outputs": [
    {
     "name": "stdout",
     "output_type": "stream",
     "text": [
      "\"E\": {\n",
      "    \"Domain\": [\"ProperInterval\"],\n",
      "    \"Converse\": \"E\",\n",
      "    \"Name\": \"Equals\",\n",
      "    \"Range\": [\"ProperInterval\"]\n",
      "    \"Reflexive\": None,\n"
     ]
    }
   ],
   "source": [
    "import json\n",
    "\n",
    "rel_name = 'E'\n",
    "indent = '    '\n",
    "net = consistent_nets[rel_name]\n",
    "#part = net.get_2x2_partition_constraints(0, 2, net.name_list)\n",
    "part_inv = net.get_2x2_partition_constraints(2, 0, net.name_list)\n",
    "rel_inv_name = qr.signature_name_mapping[part_inv]\n",
    "\n",
    "print(f\"\\\"{rel_name}\\\": {{\")\n",
    "dom_rng = net.domain_and_range()\n",
    "print(f\"{indent}\\\"Domain\\\": {json.dumps(dom_rng[0])},\")\n",
    "print(f\"{indent}\\\"Converse\\\": \\\"{rel_inv_name}\\\",\")\n",
    "print(f\"{indent}\\\"Name\\\": \\\"{qr.relation_long_names[rel_name]}\\\",\")\n",
    "print(f\"{indent}\\\"Range\\\": {json.dumps(dom_rng[1])}\")\n",
    "print(f\"{indent}\\\"Reflexive\\\": {None},\")\n",
    "#print(f\"{indent}\\\"Symmetric\\\": {is_symmetric(rel_name)},\")\n",
    "#print(f\"{indent}\\\"Transitive\\\": {is_transitive(rel_name)}\")"
   ]
  },
  {
   "cell_type": "code",
   "execution_count": 20,
   "metadata": {},
   "outputs": [
    {
     "name": "stdout",
     "output_type": "stream",
     "text": [
      "['B', 'BI', 'D', 'DI', 'E', 'F', 'FI', 'LB', 'LBI', 'LF', 'LO', 'LOI', 'L~', 'M', 'MI', 'O', 'OI', 'PE', 'PF', 'PFI', 'PS', 'PSI', 'S', 'SI']\n"
     ]
    }
   ],
   "source": [
    "alg_rels_list = list(consistent_nets.keys())\n",
    "alg_rels_list.sort()\n",
    "print(alg_rels_list)"
   ]
  },
  {
   "cell_type": "code",
   "execution_count": 21,
   "metadata": {
    "scrolled": false
   },
   "outputs": [
    {
     "name": "stdout",
     "output_type": "stream",
     "text": [
      "Name: B\n",
      "Domain: ['Point', 'ProperInterval']\n",
      "Range: ['Point', 'ProperInterval']\n",
      "Pattern: <,<,<,<\n",
      "[['=' '<|=' '<' '<']\n",
      " ['=|>' '=' '<' '<']\n",
      " ['>' '>' '=' '<|=']\n",
      " ['>' '>' '=|>' '=']]\n",
      "\n",
      "Name: M\n",
      "Domain: ['ProperInterval']\n",
      "Range: ['ProperInterval']\n",
      "Pattern: <,<,=,<\n",
      "[['=' '<' '<' '<']\n",
      " ['>' '=' '=' '<']\n",
      " ['>' '=' '=' '<']\n",
      " ['>' '>' '>' '=']]\n",
      "\n",
      "Name: PFI\n",
      "Domain: ['ProperInterval']\n",
      "Range: ['Point']\n",
      "Pattern: <,<,=,=\n",
      "[['=' '<' '<' '<']\n",
      " ['>' '=' '=' '=']\n",
      " ['>' '=' '=' '=']\n",
      " ['>' '=' '=' '=']]\n",
      "\n",
      "Name: O\n",
      "Domain: ['ProperInterval']\n",
      "Range: ['ProperInterval']\n",
      "Pattern: <,<,>,<\n",
      "[['=' '<' '<' '<']\n",
      " ['>' '=' '>' '<']\n",
      " ['>' '<' '=' '<']\n",
      " ['>' '>' '>' '=']]\n",
      "\n",
      "Name: FI\n",
      "Domain: ['ProperInterval']\n",
      "Range: ['ProperInterval']\n",
      "Pattern: <,<,>,=\n",
      "[['=' '<' '<' '<']\n",
      " ['>' '=' '>' '=']\n",
      " ['>' '<' '=' '<']\n",
      " ['>' '=' '>' '=']]\n",
      "\n",
      "Name: DI\n",
      "Domain: ['ProperInterval']\n",
      "Range: ['Point', 'ProperInterval']\n",
      "Pattern: <,<,>,>\n",
      "[['=' '<' '<' '<']\n",
      " ['>' '=' '>' '>']\n",
      " ['>' '<' '=' '<|=']\n",
      " ['>' '<' '=|>' '=']]\n",
      "\n",
      "Name: PS\n",
      "Domain: ['Point']\n",
      "Range: ['ProperInterval']\n",
      "Pattern: =,<,=,<\n",
      "[['=' '=' '=' '<']\n",
      " ['=' '=' '=' '<']\n",
      " ['=' '=' '=' '<']\n",
      " ['>' '>' '>' '=']]\n",
      "\n",
      "Name: PE\n",
      "Domain: ['Point']\n",
      "Range: ['Point']\n",
      "Pattern: =,=,=,=\n",
      "[['=' '=' '=' '=']\n",
      " ['=' '=' '=' '=']\n",
      " ['=' '=' '=' '=']\n",
      " ['=' '=' '=' '=']]\n",
      "\n",
      "Name: S\n",
      "Domain: ['ProperInterval']\n",
      "Range: ['ProperInterval']\n",
      "Pattern: =,<,>,<\n",
      "[['=' '<' '=' '<']\n",
      " ['>' '=' '>' '<']\n",
      " ['=' '<' '=' '<']\n",
      " ['>' '>' '>' '=']]\n",
      "\n",
      "Name: E\n",
      "Domain: ['ProperInterval']\n",
      "Range: ['ProperInterval']\n",
      "Pattern: =,<,>,=\n",
      "[['=' '<' '=' '<']\n",
      " ['>' '=' '>' '=']\n",
      " ['=' '<' '=' '<']\n",
      " ['>' '=' '>' '=']]\n",
      "\n",
      "Name: SI\n",
      "Domain: ['ProperInterval']\n",
      "Range: ['ProperInterval']\n",
      "Pattern: =,<,>,>\n",
      "[['=' '<' '=' '<']\n",
      " ['>' '=' '>' '>']\n",
      " ['=' '<' '=' '<']\n",
      " ['>' '<' '>' '=']]\n",
      "\n",
      "Name: PSI\n",
      "Domain: ['ProperInterval']\n",
      "Range: ['Point']\n",
      "Pattern: =,=,>,>\n",
      "[['=' '<' '=' '=']\n",
      " ['>' '=' '>' '>']\n",
      " ['=' '<' '=' '=']\n",
      " ['=' '<' '=' '=']]\n",
      "\n",
      "Name: D\n",
      "Domain: ['Point', 'ProperInterval']\n",
      "Range: ['ProperInterval']\n",
      "Pattern: >,<,>,<\n",
      "[['=' '<|=' '>' '<']\n",
      " ['=|>' '=' '>' '<']\n",
      " ['<' '<' '=' '<']\n",
      " ['>' '>' '>' '=']]\n",
      "\n",
      "Name: F\n",
      "Domain: ['ProperInterval']\n",
      "Range: ['ProperInterval']\n",
      "Pattern: >,<,>,=\n",
      "[['=' '<' '>' '<']\n",
      " ['>' '=' '>' '=']\n",
      " ['<' '<' '=' '<']\n",
      " ['>' '=' '>' '=']]\n",
      "\n",
      "Name: OI\n",
      "Domain: ['ProperInterval']\n",
      "Range: ['ProperInterval']\n",
      "Pattern: >,<,>,>\n",
      "[['=' '<' '>' '<']\n",
      " ['>' '=' '>' '>']\n",
      " ['<' '<' '=' '<']\n",
      " ['>' '<' '>' '=']]\n",
      "\n",
      "Name: PF\n",
      "Domain: ['Point']\n",
      "Range: ['ProperInterval']\n",
      "Pattern: >,=,>,=\n",
      "[['=' '=' '>' '=']\n",
      " ['=' '=' '>' '=']\n",
      " ['<' '<' '=' '<']\n",
      " ['=' '=' '>' '=']]\n",
      "\n",
      "Name: MI\n",
      "Domain: ['ProperInterval']\n",
      "Range: ['ProperInterval']\n",
      "Pattern: >,=,>,>\n",
      "[['=' '<' '>' '=']\n",
      " ['>' '=' '>' '>']\n",
      " ['<' '<' '=' '<']\n",
      " ['=' '<' '>' '=']]\n",
      "\n",
      "Name: BI\n",
      "Domain: ['Point', 'ProperInterval']\n",
      "Range: ['Point', 'ProperInterval']\n",
      "Pattern: >,>,>,>\n",
      "[['=' '<|=' '>' '>']\n",
      " ['=|>' '=' '>' '>']\n",
      " ['<' '<' '=' '<|=']\n",
      " ['<' '<' '=|>' '=']]\n",
      "\n",
      "Name: LO\n",
      "Domain: ['ProperInterval']\n",
      "Range: ['ProperInterval']\n",
      "Pattern: l~,<,>,<\n",
      "[['=' '<' 'l~' '<']\n",
      " ['>' '=' '>' '<']\n",
      " ['l~' '<' '=' '<']\n",
      " ['>' '>' '>' '=']]\n",
      "\n",
      "Name: LF\n",
      "Domain: ['ProperInterval']\n",
      "Range: ['ProperInterval']\n",
      "Pattern: l~,<,>,=\n",
      "[['=' '<' 'l~' '<']\n",
      " ['>' '=' '>' '=']\n",
      " ['l~' '<' '=' '<']\n",
      " ['>' '=' '>' '=']]\n",
      "\n",
      "Name: LOI\n",
      "Domain: ['ProperInterval']\n",
      "Range: ['ProperInterval']\n",
      "Pattern: l~,<,>,>\n",
      "[['=' '<' 'l~' '<']\n",
      " ['>' '=' '>' '>']\n",
      " ['l~' '<' '=' '<']\n",
      " ['>' '<' '>' '=']]\n",
      "\n",
      "Name: LBI\n",
      "Domain: ['ProperInterval']\n",
      "Range: ['Point', 'ProperInterval']\n",
      "Pattern: l~,l~,>,>\n",
      "[['=' '<' 'l~' 'l~']\n",
      " ['>' '=' '>' '>']\n",
      " ['l~' '<' '=' '<|=']\n",
      " ['l~' '<' '=|>' '=']]\n",
      "\n",
      "Name: LB\n",
      "Domain: ['Point', 'ProperInterval']\n",
      "Range: ['ProperInterval']\n",
      "Pattern: l~,<,l~,<\n",
      "[['=' '<|=' 'l~' '<']\n",
      " ['=|>' '=' 'l~' '<']\n",
      " ['l~' 'l~' '=' '<']\n",
      " ['>' '>' '>' '=']]\n",
      "\n",
      "Name: L~\n",
      "Domain: ['Point', 'ProperInterval']\n",
      "Range: ['Point', 'ProperInterval']\n",
      "Pattern: l~,l~,l~,l~\n",
      "[['=' '<|=' 'l~' 'l~']\n",
      " ['=|>' '=' 'l~' 'l~']\n",
      " ['l~' 'l~' '=' '<|=']\n",
      " ['l~' 'l~' '=|>' '=']]\n",
      "\n"
     ]
    }
   ],
   "source": [
    "for name in consistent_nets:\n",
    "    net = consistent_nets[name]\n",
    "    dom_rng = net.domain_and_range()\n",
    "    print(f\"Name: {name}\")\n",
    "    print(f\"Domain: {dom_rng[0]}\")\n",
    "    print(f\"Range: {dom_rng[1]}\")\n",
    "    print(f\"Pattern: {net.name}\")  # elements 13, 14, 23, and 24\n",
    "    print(np.array(net.to_list()))\n",
    "    print()"
   ]
  },
  {
   "cell_type": "markdown",
   "metadata": {},
   "source": [
    "### Determine Element Properties"
   ]
  },
  {
   "cell_type": "markdown",
   "metadata": {},
   "source": [
    "An relation, $r$, is <b>transitive</b> if $r;r=r$ (i.e., XrY & YrZ ==> XrZ)\n",
    "\n",
    "An relation, $r$, is <b>symmetric</b> if $r=converse(r)$ (i.e., for all X & Y, XrY iff YrZ)\n",
    "\n",
    "An relation, $r$, is <b>reflexive</b> if ... (i.e., for all X, XrX)"
   ]
  },
  {
   "cell_type": "code",
   "execution_count": 22,
   "metadata": {},
   "outputs": [
    {
     "data": {
      "text/plain": [
       "['B', 'BI', 'D', 'DI', 'E', 'F', 'FI', 'LB', 'LBI', 'PE', 'S', 'SI']"
      ]
     },
     "execution_count": 22,
     "metadata": {},
     "output_type": "execute_result"
    }
   ],
   "source": [
    "[rel for rel in alg_rels_list if qr.is_transitive(rel, pt_alg, less_than_rel)]"
   ]
  },
  {
   "cell_type": "code",
   "execution_count": 23,
   "metadata": {},
   "outputs": [
    {
     "data": {
      "text/plain": [
       "['E', 'LF', 'L~', 'PE']"
      ]
     },
     "execution_count": 23,
     "metadata": {},
     "output_type": "execute_result"
    }
   ],
   "source": [
    "[rel for rel in alg_rels_list if qr.is_symmetric(rel, consistent_nets)]"
   ]
  },
  {
   "cell_type": "code",
   "execution_count": 24,
   "metadata": {},
   "outputs": [
    {
     "data": {
      "text/plain": [
       "['E', 'PE']"
      ]
     },
     "execution_count": 24,
     "metadata": {},
     "output_type": "execute_result"
    }
   ],
   "source": [
    "[rel for rel in alg_rels_list if qr.is_reflexive(rel, consistent_nets)]"
   ]
  },
  {
   "cell_type": "markdown",
   "metadata": {},
   "source": [
    "## Create Algebra Composition Table using 6-Point Networks"
   ]
  },
  {
   "cell_type": "code",
   "execution_count": 25,
   "metadata": {},
   "outputs": [
    {
     "name": "stdout",
     "output_type": "stream",
     "text": [
      "CPU times: user 49 ms, sys: 1.24 ms, total: 50.2 ms\n",
      "Wall time: 49.1 ms\n"
     ]
    },
    {
     "data": {
      "text/plain": [
       "'B|D|LB|LO|M|O|PS|S'"
      ]
     },
     "execution_count": 25,
     "metadata": {},
     "output_type": "execute_result"
    }
   ],
   "source": [
    "%time qr.derive_composition(pt_alg, less_than_rel, 'B', 'F')"
   ]
  },
  {
   "cell_type": "code",
   "execution_count": 26,
   "metadata": {},
   "outputs": [
    {
     "name": "stdout",
     "output_type": "stream",
     "text": [
      "CPU times: user 16.7 ms, sys: 651 µs, total: 17.4 ms\n",
      "Wall time: 16.7 ms\n"
     ]
    },
    {
     "data": {
      "text/plain": [
       "'L~'"
      ]
     },
     "execution_count": 26,
     "metadata": {},
     "output_type": "execute_result"
    }
   ],
   "source": [
    "#%time qr.derive_composition(pt_alg, less_than_rel, 'B', 'RBI')\n",
    "%time qr.derive_composition(pt_alg, less_than_rel, 'B', 'LBI')"
   ]
  },
  {
   "cell_type": "code",
   "execution_count": 27,
   "metadata": {},
   "outputs": [
    {
     "name": "stdout",
     "output_type": "stream",
     "text": [
      "CPU times: user 16.4 ms, sys: 473 µs, total: 16.9 ms\n",
      "Wall time: 16.5 ms\n"
     ]
    },
    {
     "data": {
      "text/plain": [
       "'L~'"
      ]
     },
     "execution_count": 27,
     "metadata": {},
     "output_type": "execute_result"
    }
   ],
   "source": [
    "#%time qr.derive_composition(pt_alg, less_than_rel, 'R~', 'RBI')\n",
    "%time qr.derive_composition(pt_alg, less_than_rel, 'L~', 'LBI')"
   ]
  },
  {
   "cell_type": "code",
   "execution_count": 28,
   "metadata": {},
   "outputs": [
    {
     "name": "stdout",
     "output_type": "stream",
     "text": [
      "CPU times: user 2.04 s, sys: 6.37 ms, total: 2.05 s\n",
      "Wall time: 2.05 s\n"
     ]
    },
    {
     "data": {
      "text/plain": [
       "'B|BI|D|DI|E|F|FI|LB|LBI|LF|LO|LOI|L~|M|MI|O|OI|PE|PF|PFI|PS|PSI|S|SI'"
      ]
     },
     "execution_count": 28,
     "metadata": {},
     "output_type": "execute_result"
    }
   ],
   "source": [
    "#%time qr.derive_composition(pt_alg, less_than_rel, 'R~', 'R~')\n",
    "%time qr.derive_composition(pt_alg, less_than_rel, 'L~', 'L~')"
   ]
  },
  {
   "cell_type": "code",
   "execution_count": 30,
   "metadata": {},
   "outputs": [
    {
     "name": "stdout",
     "output_type": "stream",
     "text": [
      "CPU times: user 1min 12s, sys: 75.8 ms, total: 1min 12s\n",
      "Wall time: 1min 12s\n"
     ]
    }
   ],
   "source": [
    "%time td = qr.derive_composition_table(pt_alg, less_than_rel, alg_rels_list)"
   ]
  },
  {
   "cell_type": "code",
   "execution_count": 35,
   "metadata": {
    "scrolled": false
   },
   "outputs": [],
   "source": [
    "#td"
   ]
  },
  {
   "cell_type": "code",
   "execution_count": null,
   "metadata": {},
   "outputs": [],
   "source": []
  },
  {
   "cell_type": "code",
   "execution_count": null,
   "metadata": {},
   "outputs": [],
   "source": []
  },
  {
   "cell_type": "code",
   "execution_count": 36,
   "metadata": {},
   "outputs": [
    {
     "data": {
      "text/plain": [
       "<qualreas.Algebra at 0x7fe90144cc50>"
      ]
     },
     "execution_count": 36,
     "metadata": {},
     "output_type": "execute_result"
    }
   ],
   "source": [
    "pt_alg"
   ]
  },
  {
   "cell_type": "code",
   "execution_count": 37,
   "metadata": {},
   "outputs": [
    {
     "data": {
      "text/plain": [
       "{'Description': 'Left-Branching Point Algebra',\n",
       " 'Name': 'Left_Branching_Point_Algebra',\n",
       " 'Relations': {'<': {'Domain': ['Point'],\n",
       "   'Converse': '>',\n",
       "   'Name': 'LessThan',\n",
       "   'Range': ['Point'],\n",
       "   'Reflexive': False,\n",
       "   'Symmetric': False,\n",
       "   'Transitive': True},\n",
       "  '=': {'Domain': ['Point'],\n",
       "   'Converse': '=',\n",
       "   'Name': 'Equals',\n",
       "   'Range': ['Point'],\n",
       "   'Reflexive': True,\n",
       "   'Symmetric': True,\n",
       "   'Transitive': True},\n",
       "  '>': {'Domain': ['Point'],\n",
       "   'Converse': '<',\n",
       "   'Name': 'GreaterThan',\n",
       "   'Range': ['Point'],\n",
       "   'Reflexive': False,\n",
       "   'Symmetric': False,\n",
       "   'Transitive': True},\n",
       "  'l~': {'Domain': ['Point'],\n",
       "   'Converse': 'l~',\n",
       "   'Name': 'Incomparable',\n",
       "   'Range': ['Point'],\n",
       "   'Reflexive': False,\n",
       "   'Symmetric': True,\n",
       "   'Transitive': False}},\n",
       " 'TransTable': {'<': {'<': '<', '=': '<', '>': '<|=|>|l~', 'l~': 'l~'},\n",
       "  '=': {'<': '<', '=': '=', '>': '>', 'l~': 'l~'},\n",
       "  '>': {'<': '<|=|>', '=': '>', '>': '>', 'l~': '>|l~'},\n",
       "  'l~': {'<': '<|l~', '=': 'l~', '>': 'l~', 'l~': '<|=|>|l~'}}}"
      ]
     },
     "execution_count": 37,
     "metadata": {},
     "output_type": "execute_result"
    }
   ],
   "source": [
    "pt_alg.algebra_dict"
   ]
  },
  {
   "cell_type": "code",
   "execution_count": null,
   "metadata": {},
   "outputs": [],
   "source": []
  }
 ],
 "metadata": {
  "kernelspec": {
   "display_name": "Python 3",
   "language": "python",
   "name": "python3"
  },
  "language_info": {
   "codemirror_mode": {
    "name": "ipython",
    "version": 3
   },
   "file_extension": ".py",
   "mimetype": "text/x-python",
   "name": "python",
   "nbconvert_exporter": "python",
   "pygments_lexer": "ipython3",
   "version": "3.7.7"
  }
 },
 "nbformat": 4,
 "nbformat_minor": 2
}
