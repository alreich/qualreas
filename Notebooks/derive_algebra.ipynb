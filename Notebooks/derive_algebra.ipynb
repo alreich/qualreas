{
 "cells": [
  {
   "cell_type": "markdown",
   "metadata": {},
   "source": [
    "# Derive Algebra"
   ]
  },
  {
   "cell_type": "markdown",
   "metadata": {},
   "source": [
    "## References"
   ]
  },
  {
   "cell_type": "markdown",
   "metadata": {},
   "source": [
    "1. [\"Maintaining Knowledge about Temporal Intervals\" by J.F. Allen](https://cse.unl.edu/~choueiry/Documents/Allen-CACM1983.pdf) - Allen's original paper\n",
    "1. [Allen's Interval Algebra](https://www.ics.uci.edu/~alspaugh/cls/shr/allen.html) or [here](https://thomasalspaugh.org/pub/fnd/allen.html) - summarizes Allen's algebra of proper time intervals\n",
    "1. [\"Intervals, Points, and Branching Time\" by A.J. Reich](https://www.researchgate.net/publication/220810644_Intervals_Points_and_Branching_Time) - basis for the extensions here to Allen's algebra\n",
    "1. [W3C Time Ontology in OWL](https://www.w3.org/TR/owl-time/) - temporal vocabulary used here is based on the W3C vocabulary of time\n",
    "1. [bitsets Python package](https://bitsets.readthedocs.io/en/stable/) - used to implement Algebra relation sets and operations\n",
    "1. [NetworkX Python package](http://networkx.github.io/) - used to represent directed graph of constraints\n",
    "1. [Python format string syntax](https://docs.python.org/3/library/string.html#format-string-syntax) - used in Algebra summary method\n",
    "1. [Spatial Ontology](https://www.w3.org/2017/sdwig/bp/) - I'm still looking for a standard spatial vocabulary; maybe start here\n",
    "1. [Qualitative Spatial Relations (QSR) Library](https://qsrlib.readthedocs.io/en/latest/index.html) - an alternative library to the one defined here"
   ]
  },
  {
   "cell_type": "markdown",
   "metadata": {},
   "source": [
    "## Dependencies"
   ]
  },
  {
   "cell_type": "code",
   "execution_count": 1,
   "metadata": {},
   "outputs": [],
   "source": [
    "import os\n",
    "import qualreas as qr\n",
    "import numpy as np"
   ]
  },
  {
   "cell_type": "code",
   "execution_count": 2,
   "metadata": {},
   "outputs": [],
   "source": [
    "path = os.path.join(os.getenv('PYPROJ'), 'qualreas')"
   ]
  },
  {
   "cell_type": "code",
   "execution_count": 3,
   "metadata": {},
   "outputs": [],
   "source": [
    "#pt_alg = qr.Algebra(os.path.join(path, \"Algebras/Linear_Point_Algebra.json\"))\n",
    "pt_alg = qr.Algebra(os.path.join(path, \"Algebras/Right_Branching_Point_Algebra.json\"))\n",
    "#pt_alg = qr.Algebra(os.path.join(path, \"Algebras/Left_Branching_Point_Algebra.json\"))"
   ]
  },
  {
   "cell_type": "markdown",
   "metadata": {},
   "source": [
    "## Create Algebra Elements using 4-Point Networks"
   ]
  },
  {
   "cell_type": "markdown",
   "metadata": {},
   "source": [
    "### Derive Algebra Elements"
   ]
  },
  {
   "cell_type": "code",
   "execution_count": 5,
   "metadata": {},
   "outputs": [
    {
     "name": "stdout",
     "output_type": "stream",
     "text": [
      "==========================\n",
      "B\n",
      "[['=' '<|=' '<' '<']\n",
      " ['=|>' '=' '<' '<']\n",
      " ['>' '>' '=' '<|=']\n",
      " ['>' '>' '=|>' '=']]\n",
      "==========================\n",
      "M\n",
      "[['=' '<' '<' '<']\n",
      " ['>' '=' '=' '<']\n",
      " ['>' '=' '=' '<']\n",
      " ['>' '>' '>' '=']]\n",
      "==========================\n",
      "PFI\n",
      "[['=' '<' '<' '<']\n",
      " ['>' '=' '=' '=']\n",
      " ['>' '=' '=' '=']\n",
      " ['>' '=' '=' '=']]\n",
      "==========================\n",
      "O\n",
      "[['=' '<' '<' '<']\n",
      " ['>' '=' '>' '<']\n",
      " ['>' '<' '=' '<']\n",
      " ['>' '>' '>' '=']]\n",
      "==========================\n",
      "FI\n",
      "[['=' '<' '<' '<']\n",
      " ['>' '=' '>' '=']\n",
      " ['>' '<' '=' '<']\n",
      " ['>' '=' '>' '=']]\n",
      "==========================\n",
      "DI\n",
      "[['=' '<' '<' '<']\n",
      " ['>' '=' '>' '>']\n",
      " ['>' '<' '=' '<|=']\n",
      " ['>' '<' '=|>' '=']]\n",
      "==========================\n",
      "RO\n",
      "[['=' '<' '<' '<']\n",
      " ['>' '=' '>' 'r~']\n",
      " ['>' '<' '=' '<']\n",
      " ['>' 'r~' '>' '=']]\n",
      "==========================\n",
      "RB\n",
      "[['=' '<' '<' '<']\n",
      " ['>' '=' 'r~' 'r~']\n",
      " ['>' 'r~' '=' '<|=']\n",
      " ['>' 'r~' '=|>' '=']]\n",
      "==========================\n",
      "PS\n",
      "[['=' '=' '=' '<']\n",
      " ['=' '=' '=' '<']\n",
      " ['=' '=' '=' '<']\n",
      " ['>' '>' '>' '=']]\n",
      "==========================\n",
      "PE\n",
      "[['=' '=' '=' '=']\n",
      " ['=' '=' '=' '=']\n",
      " ['=' '=' '=' '=']\n",
      " ['=' '=' '=' '=']]\n",
      "==========================\n",
      "S\n",
      "[['=' '<' '=' '<']\n",
      " ['>' '=' '>' '<']\n",
      " ['=' '<' '=' '<']\n",
      " ['>' '>' '>' '=']]\n",
      "==========================\n",
      "E\n",
      "[['=' '<' '=' '<']\n",
      " ['>' '=' '>' '=']\n",
      " ['=' '<' '=' '<']\n",
      " ['>' '=' '>' '=']]\n",
      "==========================\n",
      "SI\n",
      "[['=' '<' '=' '<']\n",
      " ['>' '=' '>' '>']\n",
      " ['=' '<' '=' '<']\n",
      " ['>' '<' '>' '=']]\n",
      "==========================\n",
      "RS\n",
      "[['=' '<' '=' '<']\n",
      " ['>' '=' '>' 'r~']\n",
      " ['=' '<' '=' '<']\n",
      " ['>' 'r~' '>' '=']]\n",
      "==========================\n",
      "PSI\n",
      "[['=' '<' '=' '=']\n",
      " ['>' '=' '>' '>']\n",
      " ['=' '<' '=' '=']\n",
      " ['=' '<' '=' '=']]\n",
      "==========================\n",
      "D\n",
      "[['=' '<|=' '>' '<']\n",
      " ['=|>' '=' '>' '<']\n",
      " ['<' '<' '=' '<']\n",
      " ['>' '>' '>' '=']]\n",
      "==========================\n",
      "F\n",
      "[['=' '<' '>' '<']\n",
      " ['>' '=' '>' '=']\n",
      " ['<' '<' '=' '<']\n",
      " ['>' '=' '>' '=']]\n",
      "==========================\n",
      "OI\n",
      "[['=' '<' '>' '<']\n",
      " ['>' '=' '>' '>']\n",
      " ['<' '<' '=' '<']\n",
      " ['>' '<' '>' '=']]\n",
      "==========================\n",
      "ROI\n",
      "[['=' '<' '>' '<']\n",
      " ['>' '=' '>' 'r~']\n",
      " ['<' '<' '=' '<']\n",
      " ['>' 'r~' '>' '=']]\n",
      "==========================\n",
      "PF\n",
      "[['=' '=' '>' '=']\n",
      " ['=' '=' '>' '=']\n",
      " ['<' '<' '=' '<']\n",
      " ['=' '=' '>' '=']]\n",
      "==========================\n",
      "MI\n",
      "[['=' '<' '>' '=']\n",
      " ['>' '=' '>' '>']\n",
      " ['<' '<' '=' '<']\n",
      " ['=' '<' '>' '=']]\n",
      "==========================\n",
      "BI\n",
      "[['=' '<|=' '>' '>']\n",
      " ['=|>' '=' '>' '>']\n",
      " ['<' '<' '=' '<|=']\n",
      " ['<' '<' '=|>' '=']]\n",
      "==========================\n",
      "RBI\n",
      "[['=' '<|=' '>' 'r~']\n",
      " ['=|>' '=' '>' 'r~']\n",
      " ['<' '<' '=' '<']\n",
      " ['r~' 'r~' '>' '=']]\n",
      "==========================\n",
      "R~\n",
      "[['=' '<|=' 'r~' 'r~']\n",
      " ['=|>' '=' 'r~' 'r~']\n",
      " ['r~' 'r~' '=' '<|=']\n",
      " ['r~' 'r~' '=|>' '=']]\n",
      "\n",
      "24 consistent networks\n"
     ]
    }
   ],
   "source": [
    "consistent_nets = qr.generate_consistent_networks(pt_alg, lessthan=\"=|<\", verbose=True)"
   ]
  },
  {
   "cell_type": "code",
   "execution_count": 6,
   "metadata": {},
   "outputs": [
    {
     "data": {
      "text/plain": [
       "{'B': <qualreas.FourPointNet at 0x7fc4d16767d0>,\n",
       " 'M': <qualreas.FourPointNet at 0x7fc4a068ded0>,\n",
       " 'PFI': <qualreas.FourPointNet at 0x7fc4d1689090>,\n",
       " 'O': <qualreas.FourPointNet at 0x7fc4d1689f10>,\n",
       " 'FI': <qualreas.FourPointNet at 0x7fc490590190>,\n",
       " 'DI': <qualreas.FourPointNet at 0x7fc490593250>,\n",
       " 'RO': <qualreas.FourPointNet at 0x7fc490593950>,\n",
       " 'RB': <qualreas.FourPointNet at 0x7fc490597c50>,\n",
       " 'PS': <qualreas.FourPointNet at 0x7fc4905a4ed0>,\n",
       " 'PE': <qualreas.FourPointNet at 0x7fc4905a6690>,\n",
       " 'S': <qualreas.FourPointNet at 0x7fc4905a7f10>,\n",
       " 'E': <qualreas.FourPointNet at 0x7fc4905a7d10>,\n",
       " 'SI': <qualreas.FourPointNet at 0x7fc490590c90>,\n",
       " 'RS': <qualreas.FourPointNet at 0x7fc490590110>,\n",
       " 'PSI': <qualreas.FourPointNet at 0x7fc4905abe50>,\n",
       " 'D': <qualreas.FourPointNet at 0x7fc4905b6810>,\n",
       " 'F': <qualreas.FourPointNet at 0x7fc4905c0610>,\n",
       " 'OI': <qualreas.FourPointNet at 0x7fc4905c32d0>,\n",
       " 'ROI': <qualreas.FourPointNet at 0x7fc4905c3b90>,\n",
       " 'PF': <qualreas.FourPointNet at 0x7fc4905c9790>,\n",
       " 'MI': <qualreas.FourPointNet at 0x7fc4905c9e50>,\n",
       " 'BI': <qualreas.FourPointNet at 0x7fc4905cecd0>,\n",
       " 'RBI': <qualreas.FourPointNet at 0x7fc4c057d8d0>,\n",
       " 'R~': <qualreas.FourPointNet at 0x7fc4c058aed0>}"
      ]
     },
     "execution_count": 6,
     "metadata": {},
     "output_type": "execute_result"
    }
   ],
   "source": [
    "consistent_nets"
   ]
  },
  {
   "cell_type": "code",
   "execution_count": 7,
   "metadata": {},
   "outputs": [],
   "source": [
    "#def print_as_matrix(net, entities=None):\n",
    "    "
   ]
  },
  {
   "cell_type": "code",
   "execution_count": 8,
   "metadata": {},
   "outputs": [
    {
     "name": "stdout",
     "output_type": "stream",
     "text": [
      "[['=' '<|=' '<' '<']\n",
      " ['=|>' '=' '<' '<']\n",
      " ['>' '>' '=' '<|=']\n",
      " ['>' '>' '=|>' '=']]\n"
     ]
    }
   ],
   "source": [
    "before = consistent_nets['B']\n",
    "print(np.matrix(before.to_list()))"
   ]
  },
  {
   "cell_type": "code",
   "execution_count": 9,
   "metadata": {},
   "outputs": [
    {
     "name": "stdout",
     "output_type": "stream",
     "text": [
      "B: (['Point', 'ProperInterval'], ['Point', 'ProperInterval'])\n",
      "M: (['ProperInterval'], ['ProperInterval'])\n",
      "PFI: (['ProperInterval'], ['Point'])\n",
      "O: (['ProperInterval'], ['ProperInterval'])\n",
      "FI: (['ProperInterval'], ['ProperInterval'])\n",
      "DI: (['ProperInterval'], ['Point', 'ProperInterval'])\n",
      "RO: (['ProperInterval'], ['ProperInterval'])\n",
      "RB: (['ProperInterval'], ['Point', 'ProperInterval'])\n",
      "PS: (['Point'], ['ProperInterval'])\n",
      "PE: (['Point'], ['Point'])\n",
      "S: (['ProperInterval'], ['ProperInterval'])\n",
      "E: (['ProperInterval'], ['ProperInterval'])\n",
      "SI: (['ProperInterval'], ['ProperInterval'])\n",
      "RS: (['ProperInterval'], ['ProperInterval'])\n",
      "PSI: (['ProperInterval'], ['Point'])\n",
      "D: (['Point', 'ProperInterval'], ['ProperInterval'])\n",
      "F: (['ProperInterval'], ['ProperInterval'])\n",
      "OI: (['ProperInterval'], ['ProperInterval'])\n",
      "ROI: (['ProperInterval'], ['ProperInterval'])\n",
      "PF: (['Point'], ['ProperInterval'])\n",
      "MI: (['ProperInterval'], ['ProperInterval'])\n",
      "BI: (['Point', 'ProperInterval'], ['Point', 'ProperInterval'])\n",
      "RBI: (['Point', 'ProperInterval'], ['ProperInterval'])\n",
      "R~: (['Point', 'ProperInterval'], ['Point', 'ProperInterval'])\n"
     ]
    }
   ],
   "source": [
    "for rel in consistent_nets:\n",
    "    print(f\"{rel}: {consistent_nets[rel].domain_and_range()}\")"
   ]
  },
  {
   "cell_type": "code",
   "execution_count": 10,
   "metadata": {},
   "outputs": [
    {
     "name": "stdout",
     "output_type": "stream",
     "text": [
      "B: <,<,<,<\n",
      "M: <,=,<,<\n",
      "PFI: <,=,<,=\n",
      "O: <,>,<,<\n",
      "FI: <,>,<,=\n",
      "DI: <,>,<,>\n",
      "RO: <,>,<,r~\n",
      "RB: <,r~,<,r~\n",
      "PS: =,=,<,<\n",
      "PE: =,=,=,=\n",
      "S: =,>,<,<\n",
      "E: =,>,<,=\n",
      "SI: =,>,<,>\n",
      "RS: =,>,<,r~\n",
      "PSI: =,>,=,>\n",
      "D: >,>,<,<\n",
      "F: >,>,<,=\n",
      "OI: >,>,<,>\n",
      "ROI: >,>,<,r~\n",
      "PF: >,>,=,=\n",
      "MI: >,>,=,>\n",
      "BI: >,>,>,>\n",
      "RBI: >,>,r~,r~\n",
      "R~: r~,r~,r~,r~\n"
     ]
    }
   ],
   "source": [
    "for rel in consistent_nets:\n",
    "    print(f\"{rel}: {consistent_nets[rel].name}\")"
   ]
  },
  {
   "cell_type": "markdown",
   "metadata": {},
   "source": [
    "## Create Algebra Composition Table using 6-Point Networks"
   ]
  },
  {
   "cell_type": "code",
   "execution_count": 4,
   "metadata": {},
   "outputs": [
    {
     "data": {
      "text/plain": [
       "{'<,<,<,<': 'B',\n",
       " '>,>,>,>': 'BI',\n",
       " '>,<,>,<': 'D',\n",
       " '<,<,>,>': 'DI',\n",
       " '=,<,>,=': 'E',\n",
       " '=,=,=,=': 'PE',\n",
       " '>,<,>,=': 'F',\n",
       " '<,<,>,=': 'FI',\n",
       " '<,<,=,<': 'M',\n",
       " '>,=,>,>': 'MI',\n",
       " '<,<,>,<': 'O',\n",
       " '>,<,>,>': 'OI',\n",
       " '=,<,>,<': 'S',\n",
       " '=,<,>,>': 'SI',\n",
       " '>,=,>,=': 'PF',\n",
       " '<,<,=,=': 'PFI',\n",
       " '=,<,=,<': 'PS',\n",
       " '=,=,>,>': 'PSI',\n",
       " '<,<,>,r~': 'RO',\n",
       " '<,<,r~,r~': 'RB',\n",
       " '=,<,>,r~': 'RS',\n",
       " '>,<,>,r~': 'ROI',\n",
       " '>,r~,>,r~': 'RBI',\n",
       " 'r~,r~,r~,r~': 'R~',\n",
       " 'l~,<,>,<': 'LO',\n",
       " 'l~,<,>,=': 'LF',\n",
       " 'l~,<,>,>': 'LOI',\n",
       " 'l~,l~,>,>': 'LBI',\n",
       " 'l~,<,l~,<': 'LB',\n",
       " 'l~,l~,l~,l~': 'L~'}"
      ]
     },
     "execution_count": 4,
     "metadata": {},
     "output_type": "execute_result"
    }
   ],
   "source": [
    "qr.signature_name_mapping"
   ]
  },
  {
   "cell_type": "code",
   "execution_count": 10,
   "metadata": {},
   "outputs": [
    {
     "data": {
      "text/plain": [
       "{'B': '<,<,<,<',\n",
       " 'D': '>,<,>,<',\n",
       " 'E': '=,<,>,=',\n",
       " 'PE': '=,=,=,=',\n",
       " 'F': '>,<,>,=',\n",
       " 'M': '<,<,=,<',\n",
       " 'O': '<,<,>,<',\n",
       " 'S': '=,<,>,<',\n",
       " 'PF': '>,=,>,=',\n",
       " 'PS': '=,<,=,<',\n",
       " 'RO': '<,<,>,r~',\n",
       " 'RB': '<,<,r~,r~',\n",
       " 'RS': '=,<,>,r~',\n",
       " 'R~': 'r~,r~,r~,r~',\n",
       " 'LO': 'l~,<,>,<',\n",
       " 'LF': 'l~,<,>,=',\n",
       " 'LB': 'l~,<,l~,<',\n",
       " 'L~': 'l~,l~,l~,l~'}"
      ]
     },
     "execution_count": 10,
     "metadata": {},
     "output_type": "execute_result"
    }
   ],
   "source": [
    "name_signature_mapping_wo_invs = {val: key for key, val in qr.signature_name_mapping.items() if val[-1] != 'I'}\n",
    "name_signature_mapping_wo_invs"
   ]
  },
  {
   "cell_type": "code",
   "execution_count": 8,
   "metadata": {},
   "outputs": [
    {
     "data": {
      "text/plain": [
       "True"
      ]
     },
     "execution_count": 8,
     "metadata": {},
     "output_type": "execute_result"
    }
   ],
   "source": [
    "s = \"PFI\"\n",
    "s[-1] == 'I'"
   ]
  },
  {
   "cell_type": "code",
   "execution_count": null,
   "metadata": {},
   "outputs": [],
   "source": []
  }
 ],
 "metadata": {
  "kernelspec": {
   "display_name": "Python 3",
   "language": "python",
   "name": "python3"
  },
  "language_info": {
   "codemirror_mode": {
    "name": "ipython",
    "version": 3
   },
   "file_extension": ".py",
   "mimetype": "text/x-python",
   "name": "python",
   "nbconvert_exporter": "python",
   "pygments_lexer": "ipython3",
   "version": "3.7.7"
  }
 },
 "nbformat": 4,
 "nbformat_minor": 2
}
