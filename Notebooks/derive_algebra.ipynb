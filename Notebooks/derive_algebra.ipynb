{
 "cells": [
  {
   "cell_type": "markdown",
   "metadata": {},
   "source": [
    "# Derive Algebra"
   ]
  },
  {
   "cell_type": "markdown",
   "metadata": {},
   "source": [
    "## References"
   ]
  },
  {
   "cell_type": "markdown",
   "metadata": {},
   "source": [
    "1. [\"Maintaining Knowledge about Temporal Intervals\" by J.F. Allen](https://cse.unl.edu/~choueiry/Documents/Allen-CACM1983.pdf) - Allen's original paper\n",
    "1. [Allen's Interval Algebra](https://www.ics.uci.edu/~alspaugh/cls/shr/allen.html) or [here](https://thomasalspaugh.org/pub/fnd/allen.html) - summarizes Allen's algebra of proper time intervals\n",
    "1. [\"Intervals, Points, and Branching Time\" by A.J. Reich](https://www.researchgate.net/publication/220810644_Intervals_Points_and_Branching_Time) - basis for the extensions here to Allen's algebra\n",
    "1. [W3C Time Ontology in OWL](https://www.w3.org/TR/owl-time/) - temporal vocabulary used here is based on the W3C vocabulary of time\n",
    "1. [bitsets Python package](https://bitsets.readthedocs.io/en/stable/) - used to implement Algebra relation sets and operations\n",
    "1. [NetworkX Python package](http://networkx.github.io/) - used to represent directed graph of constraints\n",
    "1. [Python format string syntax](https://docs.python.org/3/library/string.html#format-string-syntax) - used in Algebra summary method\n",
    "1. [Spatial Ontology](https://www.w3.org/2017/sdwig/bp/) - I'm still looking for a standard spatial vocabulary; maybe start here\n",
    "1. [Qualitative Spatial Relations (QSR) Library](https://qsrlib.readthedocs.io/en/latest/index.html) - an alternative library to the one defined here"
   ]
  },
  {
   "cell_type": "markdown",
   "metadata": {},
   "source": [
    "## Dependencies"
   ]
  },
  {
   "cell_type": "code",
   "execution_count": 1,
   "metadata": {},
   "outputs": [],
   "source": [
    "import os\n",
    "import qualreas as qr\n",
    "import numpy as np"
   ]
  },
  {
   "cell_type": "code",
   "execution_count": 2,
   "metadata": {},
   "outputs": [],
   "source": [
    "path = os.path.join(os.getenv('PYPROJ'), 'qualreas')"
   ]
  },
  {
   "cell_type": "code",
   "execution_count": 3,
   "metadata": {},
   "outputs": [],
   "source": [
    "pt_alg = qr.Algebra(os.path.join(path, \"Algebras/Linear_Point_Algebra.json\"))\n",
    "#pt_alg = qr.Algebra(os.path.join(path, \"Algebras/Right_Branching_Point_Algebra.json\"))\n",
    "#pt_alg = qr.Algebra(os.path.join(path, \"Algebras/Left_Branching_Point_Algebra.json\"))"
   ]
  },
  {
   "cell_type": "markdown",
   "metadata": {},
   "source": [
    "## Create Algebra Elements using 4-Point Networks"
   ]
  },
  {
   "cell_type": "markdown",
   "metadata": {},
   "source": [
    "### Mapping 4-Point Networks to Interval Relations"
   ]
  },
  {
   "cell_type": "markdown",
   "metadata": {},
   "source": [
    "The following dictionary keys (e.g., '<,<,<,<') represent the \"pattern\" of relations in the upper right-hand 2x2 matrix of a 4-Point Network, i.e., elements (rowcol): 13, 14, 23, and 24.  The value (e.g., 'B') corresponding to each key is the name of the relation that corresponds to that pattern.\n",
    "\n",
    "This is how the consistent networks, that get generated farther below, obtain their names."
   ]
  },
  {
   "cell_type": "code",
   "execution_count": 4,
   "metadata": {},
   "outputs": [
    {
     "data": {
      "text/plain": [
       "{'<,<,<,<': 'B',\n",
       " '>,>,>,>': 'BI',\n",
       " '>,<,>,<': 'D',\n",
       " '<,<,>,>': 'DI',\n",
       " '=,<,>,=': 'E',\n",
       " '=,=,=,=': 'PE',\n",
       " '>,<,>,=': 'F',\n",
       " '<,<,>,=': 'FI',\n",
       " '<,<,=,<': 'M',\n",
       " '>,=,>,>': 'MI',\n",
       " '<,<,>,<': 'O',\n",
       " '>,<,>,>': 'OI',\n",
       " '=,<,>,<': 'S',\n",
       " '=,<,>,>': 'SI',\n",
       " '>,=,>,=': 'PF',\n",
       " '<,<,=,=': 'PFI',\n",
       " '=,<,=,<': 'PS',\n",
       " '=,=,>,>': 'PSI',\n",
       " '<,<,>,r~': 'RO',\n",
       " '<,<,r~,r~': 'RB',\n",
       " '=,<,>,r~': 'RS',\n",
       " '>,<,>,r~': 'ROI',\n",
       " '>,r~,>,r~': 'RBI',\n",
       " 'r~,r~,r~,r~': 'R~',\n",
       " 'l~,<,>,<': 'LO',\n",
       " 'l~,<,>,=': 'LF',\n",
       " 'l~,<,>,>': 'LOI',\n",
       " 'l~,l~,>,>': 'LBI',\n",
       " 'l~,<,l~,<': 'LB',\n",
       " 'l~,l~,l~,l~': 'L~'}"
      ]
     },
     "execution_count": 4,
     "metadata": {},
     "output_type": "execute_result"
    }
   ],
   "source": [
    "qr.signature_name_mapping"
   ]
  },
  {
   "cell_type": "markdown",
   "metadata": {},
   "source": [
    "### Derive Algebra Elements"
   ]
  },
  {
   "cell_type": "code",
   "execution_count": 5,
   "metadata": {},
   "outputs": [
    {
     "name": "stdout",
     "output_type": "stream",
     "text": [
      "==========================\n",
      "<,<,<,<\n",
      "B\n",
      "(['Point', 'ProperInterval'], ['Point', 'ProperInterval'])\n",
      "[['=' '<|=' '<' '<']\n",
      " ['=|>' '=' '<' '<']\n",
      " ['>' '>' '=' '<|=']\n",
      " ['>' '>' '=|>' '=']]\n",
      "==========================\n",
      "<,<,=,<\n",
      "M\n",
      "(['ProperInterval'], ['ProperInterval'])\n",
      "[['=' '<' '<' '<']\n",
      " ['>' '=' '=' '<']\n",
      " ['>' '=' '=' '<']\n",
      " ['>' '>' '>' '=']]\n",
      "==========================\n",
      "<,<,=,=\n",
      "PFI\n",
      "(['ProperInterval'], ['Point'])\n",
      "[['=' '<' '<' '<']\n",
      " ['>' '=' '=' '=']\n",
      " ['>' '=' '=' '=']\n",
      " ['>' '=' '=' '=']]\n",
      "==========================\n",
      "<,<,>,<\n",
      "O\n",
      "(['ProperInterval'], ['ProperInterval'])\n",
      "[['=' '<' '<' '<']\n",
      " ['>' '=' '>' '<']\n",
      " ['>' '<' '=' '<']\n",
      " ['>' '>' '>' '=']]\n",
      "==========================\n",
      "<,<,>,=\n",
      "FI\n",
      "(['ProperInterval'], ['ProperInterval'])\n",
      "[['=' '<' '<' '<']\n",
      " ['>' '=' '>' '=']\n",
      " ['>' '<' '=' '<']\n",
      " ['>' '=' '>' '=']]\n",
      "==========================\n",
      "<,<,>,>\n",
      "DI\n",
      "(['ProperInterval'], ['Point', 'ProperInterval'])\n",
      "[['=' '<' '<' '<']\n",
      " ['>' '=' '>' '>']\n",
      " ['>' '<' '=' '<|=']\n",
      " ['>' '<' '=|>' '=']]\n",
      "==========================\n",
      "=,<,=,<\n",
      "PS\n",
      "(['Point'], ['ProperInterval'])\n",
      "[['=' '=' '=' '<']\n",
      " ['=' '=' '=' '<']\n",
      " ['=' '=' '=' '<']\n",
      " ['>' '>' '>' '=']]\n",
      "==========================\n",
      "=,=,=,=\n",
      "PE\n",
      "(['Point'], ['Point'])\n",
      "[['=' '=' '=' '=']\n",
      " ['=' '=' '=' '=']\n",
      " ['=' '=' '=' '=']\n",
      " ['=' '=' '=' '=']]\n",
      "==========================\n",
      "=,<,>,<\n",
      "S\n",
      "(['ProperInterval'], ['ProperInterval'])\n",
      "[['=' '<' '=' '<']\n",
      " ['>' '=' '>' '<']\n",
      " ['=' '<' '=' '<']\n",
      " ['>' '>' '>' '=']]\n",
      "==========================\n",
      "=,<,>,=\n",
      "E\n",
      "(['ProperInterval'], ['ProperInterval'])\n",
      "[['=' '<' '=' '<']\n",
      " ['>' '=' '>' '=']\n",
      " ['=' '<' '=' '<']\n",
      " ['>' '=' '>' '=']]\n",
      "==========================\n",
      "=,<,>,>\n",
      "SI\n",
      "(['ProperInterval'], ['ProperInterval'])\n",
      "[['=' '<' '=' '<']\n",
      " ['>' '=' '>' '>']\n",
      " ['=' '<' '=' '<']\n",
      " ['>' '<' '>' '=']]\n",
      "==========================\n",
      "=,=,>,>\n",
      "PSI\n",
      "(['ProperInterval'], ['Point'])\n",
      "[['=' '<' '=' '=']\n",
      " ['>' '=' '>' '>']\n",
      " ['=' '<' '=' '=']\n",
      " ['=' '<' '=' '=']]\n",
      "==========================\n",
      ">,<,>,<\n",
      "D\n",
      "(['Point', 'ProperInterval'], ['ProperInterval'])\n",
      "[['=' '<|=' '>' '<']\n",
      " ['=|>' '=' '>' '<']\n",
      " ['<' '<' '=' '<']\n",
      " ['>' '>' '>' '=']]\n",
      "==========================\n",
      ">,<,>,=\n",
      "F\n",
      "(['ProperInterval'], ['ProperInterval'])\n",
      "[['=' '<' '>' '<']\n",
      " ['>' '=' '>' '=']\n",
      " ['<' '<' '=' '<']\n",
      " ['>' '=' '>' '=']]\n",
      "==========================\n",
      ">,<,>,>\n",
      "OI\n",
      "(['ProperInterval'], ['ProperInterval'])\n",
      "[['=' '<' '>' '<']\n",
      " ['>' '=' '>' '>']\n",
      " ['<' '<' '=' '<']\n",
      " ['>' '<' '>' '=']]\n",
      "==========================\n",
      ">,=,>,=\n",
      "PF\n",
      "(['Point'], ['ProperInterval'])\n",
      "[['=' '=' '>' '=']\n",
      " ['=' '=' '>' '=']\n",
      " ['<' '<' '=' '<']\n",
      " ['=' '=' '>' '=']]\n",
      "==========================\n",
      ">,=,>,>\n",
      "MI\n",
      "(['ProperInterval'], ['ProperInterval'])\n",
      "[['=' '<' '>' '=']\n",
      " ['>' '=' '>' '>']\n",
      " ['<' '<' '=' '<']\n",
      " ['=' '<' '>' '=']]\n",
      "==========================\n",
      ">,>,>,>\n",
      "BI\n",
      "(['Point', 'ProperInterval'], ['Point', 'ProperInterval'])\n",
      "[['=' '<|=' '>' '>']\n",
      " ['=|>' '=' '>' '>']\n",
      " ['<' '<' '=' '<|=']\n",
      " ['<' '<' '=|>' '=']]\n",
      "\n",
      "18 consistent networks\n"
     ]
    }
   ],
   "source": [
    "consistent_nets = qr.generate_consistent_networks(pt_alg, lessthan=\"=|<\", verbose=True)"
   ]
  },
  {
   "cell_type": "code",
   "execution_count": 6,
   "metadata": {},
   "outputs": [
    {
     "data": {
      "text/plain": [
       "['B',\n",
       " 'M',\n",
       " 'PFI',\n",
       " 'O',\n",
       " 'FI',\n",
       " 'DI',\n",
       " 'PS',\n",
       " 'PE',\n",
       " 'S',\n",
       " 'E',\n",
       " 'SI',\n",
       " 'PSI',\n",
       " 'D',\n",
       " 'F',\n",
       " 'OI',\n",
       " 'PF',\n",
       " 'MI',\n",
       " 'BI']"
      ]
     },
     "execution_count": 6,
     "metadata": {},
     "output_type": "execute_result"
    }
   ],
   "source": [
    "list(consistent_nets.keys())"
   ]
  },
  {
   "cell_type": "code",
   "execution_count": 7,
   "metadata": {},
   "outputs": [
    {
     "name": "stdout",
     "output_type": "stream",
     "text": [
      "Name: B\n",
      "Domain: ['Point', 'ProperInterval']\n",
      "Range: ['Point', 'ProperInterval']\n",
      "Pattern: <,<,<,<\n",
      "[['=' '<|=' '<' '<']\n",
      " ['=|>' '=' '<' '<']\n",
      " ['>' '>' '=' '<|=']\n",
      " ['>' '>' '=|>' '=']]\n",
      "\n",
      "Name: M\n",
      "Domain: ['ProperInterval']\n",
      "Range: ['ProperInterval']\n",
      "Pattern: <,<,=,<\n",
      "[['=' '<' '<' '<']\n",
      " ['>' '=' '=' '<']\n",
      " ['>' '=' '=' '<']\n",
      " ['>' '>' '>' '=']]\n",
      "\n",
      "Name: PFI\n",
      "Domain: ['ProperInterval']\n",
      "Range: ['Point']\n",
      "Pattern: <,<,=,=\n",
      "[['=' '<' '<' '<']\n",
      " ['>' '=' '=' '=']\n",
      " ['>' '=' '=' '=']\n",
      " ['>' '=' '=' '=']]\n",
      "\n",
      "Name: O\n",
      "Domain: ['ProperInterval']\n",
      "Range: ['ProperInterval']\n",
      "Pattern: <,<,>,<\n",
      "[['=' '<' '<' '<']\n",
      " ['>' '=' '>' '<']\n",
      " ['>' '<' '=' '<']\n",
      " ['>' '>' '>' '=']]\n",
      "\n",
      "Name: FI\n",
      "Domain: ['ProperInterval']\n",
      "Range: ['ProperInterval']\n",
      "Pattern: <,<,>,=\n",
      "[['=' '<' '<' '<']\n",
      " ['>' '=' '>' '=']\n",
      " ['>' '<' '=' '<']\n",
      " ['>' '=' '>' '=']]\n",
      "\n",
      "Name: DI\n",
      "Domain: ['ProperInterval']\n",
      "Range: ['Point', 'ProperInterval']\n",
      "Pattern: <,<,>,>\n",
      "[['=' '<' '<' '<']\n",
      " ['>' '=' '>' '>']\n",
      " ['>' '<' '=' '<|=']\n",
      " ['>' '<' '=|>' '=']]\n",
      "\n",
      "Name: PS\n",
      "Domain: ['Point']\n",
      "Range: ['ProperInterval']\n",
      "Pattern: =,<,=,<\n",
      "[['=' '=' '=' '<']\n",
      " ['=' '=' '=' '<']\n",
      " ['=' '=' '=' '<']\n",
      " ['>' '>' '>' '=']]\n",
      "\n",
      "Name: PE\n",
      "Domain: ['Point']\n",
      "Range: ['Point']\n",
      "Pattern: =,=,=,=\n",
      "[['=' '=' '=' '=']\n",
      " ['=' '=' '=' '=']\n",
      " ['=' '=' '=' '=']\n",
      " ['=' '=' '=' '=']]\n",
      "\n",
      "Name: S\n",
      "Domain: ['ProperInterval']\n",
      "Range: ['ProperInterval']\n",
      "Pattern: =,<,>,<\n",
      "[['=' '<' '=' '<']\n",
      " ['>' '=' '>' '<']\n",
      " ['=' '<' '=' '<']\n",
      " ['>' '>' '>' '=']]\n",
      "\n",
      "Name: E\n",
      "Domain: ['ProperInterval']\n",
      "Range: ['ProperInterval']\n",
      "Pattern: =,<,>,=\n",
      "[['=' '<' '=' '<']\n",
      " ['>' '=' '>' '=']\n",
      " ['=' '<' '=' '<']\n",
      " ['>' '=' '>' '=']]\n",
      "\n",
      "Name: SI\n",
      "Domain: ['ProperInterval']\n",
      "Range: ['ProperInterval']\n",
      "Pattern: =,<,>,>\n",
      "[['=' '<' '=' '<']\n",
      " ['>' '=' '>' '>']\n",
      " ['=' '<' '=' '<']\n",
      " ['>' '<' '>' '=']]\n",
      "\n",
      "Name: PSI\n",
      "Domain: ['ProperInterval']\n",
      "Range: ['Point']\n",
      "Pattern: =,=,>,>\n",
      "[['=' '<' '=' '=']\n",
      " ['>' '=' '>' '>']\n",
      " ['=' '<' '=' '=']\n",
      " ['=' '<' '=' '=']]\n",
      "\n",
      "Name: D\n",
      "Domain: ['Point', 'ProperInterval']\n",
      "Range: ['ProperInterval']\n",
      "Pattern: >,<,>,<\n",
      "[['=' '<|=' '>' '<']\n",
      " ['=|>' '=' '>' '<']\n",
      " ['<' '<' '=' '<']\n",
      " ['>' '>' '>' '=']]\n",
      "\n",
      "Name: F\n",
      "Domain: ['ProperInterval']\n",
      "Range: ['ProperInterval']\n",
      "Pattern: >,<,>,=\n",
      "[['=' '<' '>' '<']\n",
      " ['>' '=' '>' '=']\n",
      " ['<' '<' '=' '<']\n",
      " ['>' '=' '>' '=']]\n",
      "\n",
      "Name: OI\n",
      "Domain: ['ProperInterval']\n",
      "Range: ['ProperInterval']\n",
      "Pattern: >,<,>,>\n",
      "[['=' '<' '>' '<']\n",
      " ['>' '=' '>' '>']\n",
      " ['<' '<' '=' '<']\n",
      " ['>' '<' '>' '=']]\n",
      "\n",
      "Name: PF\n",
      "Domain: ['Point']\n",
      "Range: ['ProperInterval']\n",
      "Pattern: >,=,>,=\n",
      "[['=' '=' '>' '=']\n",
      " ['=' '=' '>' '=']\n",
      " ['<' '<' '=' '<']\n",
      " ['=' '=' '>' '=']]\n",
      "\n",
      "Name: MI\n",
      "Domain: ['ProperInterval']\n",
      "Range: ['ProperInterval']\n",
      "Pattern: >,=,>,>\n",
      "[['=' '<' '>' '=']\n",
      " ['>' '=' '>' '>']\n",
      " ['<' '<' '=' '<']\n",
      " ['=' '<' '>' '=']]\n",
      "\n",
      "Name: BI\n",
      "Domain: ['Point', 'ProperInterval']\n",
      "Range: ['Point', 'ProperInterval']\n",
      "Pattern: >,>,>,>\n",
      "[['=' '<|=' '>' '>']\n",
      " ['=|>' '=' '>' '>']\n",
      " ['<' '<' '=' '<|=']\n",
      " ['<' '<' '=|>' '=']]\n",
      "\n"
     ]
    }
   ],
   "source": [
    "for name in consistent_nets:\n",
    "    net = consistent_nets[name]\n",
    "    dom_rng = net.domain_and_range()\n",
    "    print(f\"Name: {name}\")\n",
    "    print(f\"Domain: {dom_rng[0]}\")\n",
    "    print(f\"Range: {dom_rng[1]}\")\n",
    "    print(f\"Pattern: {net.name}\")  # elements 13, 14, 23, and 24\n",
    "    print(np.array(net.to_list()))\n",
    "    print()"
   ]
  },
  {
   "cell_type": "markdown",
   "metadata": {},
   "source": [
    "## Create Algebra Composition Table using 6-Point Networks"
   ]
  },
  {
   "cell_type": "code",
   "execution_count": 8,
   "metadata": {},
   "outputs": [
    {
     "data": {
      "text/plain": [
       "{'<,<,<,<': 'B',\n",
       " '>,>,>,>': 'BI',\n",
       " '>,<,>,<': 'D',\n",
       " '<,<,>,>': 'DI',\n",
       " '=,<,>,=': 'E',\n",
       " '=,=,=,=': 'PE',\n",
       " '>,<,>,=': 'F',\n",
       " '<,<,>,=': 'FI',\n",
       " '<,<,=,<': 'M',\n",
       " '>,=,>,>': 'MI',\n",
       " '<,<,>,<': 'O',\n",
       " '>,<,>,>': 'OI',\n",
       " '=,<,>,<': 'S',\n",
       " '=,<,>,>': 'SI',\n",
       " '>,=,>,=': 'PF',\n",
       " '<,<,=,=': 'PFI',\n",
       " '=,<,=,<': 'PS',\n",
       " '=,=,>,>': 'PSI',\n",
       " '<,<,>,r~': 'RO',\n",
       " '<,<,r~,r~': 'RB',\n",
       " '=,<,>,r~': 'RS',\n",
       " '>,<,>,r~': 'ROI',\n",
       " '>,r~,>,r~': 'RBI',\n",
       " 'r~,r~,r~,r~': 'R~',\n",
       " 'l~,<,>,<': 'LO',\n",
       " 'l~,<,>,=': 'LF',\n",
       " 'l~,<,>,>': 'LOI',\n",
       " 'l~,l~,>,>': 'LBI',\n",
       " 'l~,<,l~,<': 'LB',\n",
       " 'l~,l~,l~,l~': 'L~'}"
      ]
     },
     "execution_count": 8,
     "metadata": {},
     "output_type": "execute_result"
    }
   ],
   "source": [
    "qr.signature_name_mapping"
   ]
  },
  {
   "cell_type": "code",
   "execution_count": 9,
   "metadata": {},
   "outputs": [
    {
     "data": {
      "text/plain": [
       "{'B': ['<', '<', '<', '<'],\n",
       " 'D': ['>', '<', '>', '<'],\n",
       " 'E': ['=', '<', '>', '='],\n",
       " 'PE': ['=', '=', '=', '='],\n",
       " 'F': ['>', '<', '>', '='],\n",
       " 'M': ['<', '<', '=', '<'],\n",
       " 'O': ['<', '<', '>', '<'],\n",
       " 'S': ['=', '<', '>', '<'],\n",
       " 'PF': ['>', '=', '>', '='],\n",
       " 'PS': ['=', '<', '=', '<'],\n",
       " 'RO': ['<', '<', '>', 'r~'],\n",
       " 'RB': ['<', '<', 'r~', 'r~'],\n",
       " 'RS': ['=', '<', '>', 'r~'],\n",
       " 'R~': ['r~', 'r~', 'r~', 'r~'],\n",
       " 'LO': ['l~', '<', '>', '<'],\n",
       " 'LF': ['l~', '<', '>', '='],\n",
       " 'LB': ['l~', '<', 'l~', '<'],\n",
       " 'L~': ['l~', 'l~', 'l~', 'l~']}"
      ]
     },
     "execution_count": 9,
     "metadata": {},
     "output_type": "execute_result"
    }
   ],
   "source": [
    "name_signature_mapping = {val: key.split(',')\n",
    "                          for key, val in qr.signature_name_mapping.items()\n",
    "                          if val[-1] != 'I'}\n",
    "name_signature_mapping"
   ]
  },
  {
   "cell_type": "code",
   "execution_count": 10,
   "metadata": {},
   "outputs": [],
   "source": [
    "a, b, c, d = name_signature_mapping['F']"
   ]
  },
  {
   "cell_type": "code",
   "execution_count": 11,
   "metadata": {},
   "outputs": [
    {
     "data": {
      "text/plain": [
       "'>'"
      ]
     },
     "execution_count": 11,
     "metadata": {},
     "output_type": "execute_result"
    }
   ],
   "source": [
    "a"
   ]
  },
  {
   "cell_type": "code",
   "execution_count": 12,
   "metadata": {},
   "outputs": [
    {
     "data": {
      "text/plain": [
       "'<'"
      ]
     },
     "execution_count": 12,
     "metadata": {},
     "output_type": "execute_result"
    }
   ],
   "source": [
    "b"
   ]
  },
  {
   "cell_type": "code",
   "execution_count": null,
   "metadata": {},
   "outputs": [],
   "source": []
  },
  {
   "cell_type": "code",
   "execution_count": 13,
   "metadata": {},
   "outputs": [],
   "source": [
    "class SixPointNet(qr.Network):\n",
    "\n",
    "    def __init__(self, algebra, lessthanstr, relname1, relname2,\n",
    "                 startname=\"StartPt\", endname=\"EndPt\"):\n",
    "        self.algebra = algebra\n",
    "        self.lessthan = algebra.relset(lessthanstr)\n",
    "        \n",
    "        # Start & End Points of Interval 1\n",
    "        self.start1 = qr.TemporalEntity([\"Point\"], name=startname + \"1\")\n",
    "        self.end1 = qr.TemporalEntity([\"Point\"], name=endname + \"1\")\n",
    "        \n",
    "        # Start & End Points of Interval 2\n",
    "        self.start2 = qr.TemporalEntity([\"Point\"], name=startname + \"2\")\n",
    "        self.end2 = qr.TemporalEntity([\"Point\"], name=endname + \"2\")\n",
    "        \n",
    "        # Start & End Points of Interval 3\n",
    "        self.start3 = qr.TemporalEntity([\"Point\"], name=startname + \"3\")\n",
    "        self.end3 = qr.TemporalEntity([\"Point\"], name=endname + \"3\")\n",
    "        \n",
    "        super().__init__(algebra, relname1 + \";\" + relname2)\n",
    "        self.add_constraint(self.start1, self.end1, self.lessthan, verbose=False)\n",
    "        self.add_constraint(self.start2, self.end2, self.lessthan, verbose=False)\n",
    "        self.add_constraint(self.start3, self.end3, self.lessthan, verbose=False)\n",
    "        \n",
    "        c13, c14, c23, c24 = name_signature_mapping[relname1]\n",
    "        \n",
    "        self.add_constraint(self.start1, self.start2, c13, verbose=False)\n",
    "        self.add_constraint(self.start1, self.end2,   c14, verbose=False)\n",
    "        self.add_constraint(self.end1,   self.start2, c23, verbose=False)\n",
    "        self.add_constraint(self.end1,   self.end2,   c24, verbose=False)\n",
    "\n",
    "        c35, c36, c45, c46 = name_signature_mapping[relname2]\n",
    "        \n",
    "        self.add_constraint(self.start2, self.start3, c35, verbose=False)\n",
    "        self.add_constraint(self.start2, self.end3,   c36, verbose=False)\n",
    "        self.add_constraint(self.end2,   self.start3, c45, verbose=False)\n",
    "        self.add_constraint(self.end2,   self.end3,   c46, verbose=False)\n",
    "\n",
    "        c = algebra.elements\n",
    "        \n",
    "        self.add_constraint(self.start1, self.start3, c, verbose=False)\n",
    "        self.add_constraint(self.start1, self.end3,   c, verbose=False)\n",
    "        self.add_constraint(self.end1,   self.start3, c, verbose=False)\n",
    "        self.add_constraint(self.end1,   self.end3,   c, verbose=False)\n",
    "\n",
    "    def get_points(self):\n",
    "        return [self.start1, self.end1, self.start2, self.end2, self.start3, self.end3]\n",
    "\n",
    "    def __ontology_classes(self, start, end):\n",
    "        \"\"\"The constraints between the start and end points of a temporal entity\n",
    "        determine whether it belongs to the class of Point, ProperIntervals, or\n",
    "        both.  Return a list containing the class names for the input network, net.\"\"\"\n",
    "        class_list = []\n",
    "        constr = self.edges[start, end]['constraint']\n",
    "        if '=' in constr:\n",
    "            class_list.append('Point')\n",
    "        if '<' in constr:\n",
    "            class_list.append('ProperInterval')\n",
    "        return class_list\n"
   ]
  },
  {
   "cell_type": "code",
   "execution_count": 14,
   "metadata": {},
   "outputs": [],
   "source": [
    "foo = SixPointNet(pt_alg, '=|<', 'B', 'F')"
   ]
  },
  {
   "cell_type": "code",
   "execution_count": 15,
   "metadata": {},
   "outputs": [
    {
     "name": "stdout",
     "output_type": "stream",
     "text": [
      "[['=' '<|=' '<' '<' '<|=|>' '<|=|>']\n",
      " ['=|>' '=' '<' '<' '<|=|>' '<|=|>']\n",
      " ['>' '>' '=' '<|=' '>' '<']\n",
      " ['>' '>' '=|>' '=' '>' '=']\n",
      " ['<|=|>' '<|=|>' '<' '<' '=' '<|=']\n",
      " ['<|=|>' '<|=|>' '>' '=' '=|>' '=']]\n"
     ]
    }
   ],
   "source": [
    "print(np.array(foo.to_list()))"
   ]
  },
  {
   "cell_type": "code",
   "execution_count": 16,
   "metadata": {},
   "outputs": [
    {
     "name": "stdout",
     "output_type": "stream",
     "text": [
      "[['=' '<|=' '<' '<' '<|=|>' '<']\n",
      " ['=|>' '=' '<' '<' '<|=|>' '<']\n",
      " ['>' '>' '=' '<' '>' '<']\n",
      " ['>' '>' '>' '=' '>' '=']\n",
      " ['<|=|>' '<|=|>' '<' '<' '=' '<']\n",
      " ['>' '>' '>' '=' '>' '=']]\n"
     ]
    }
   ],
   "source": [
    "foo.propagate()\n",
    "print(np.array(foo.to_list()))"
   ]
  },
  {
   "cell_type": "code",
   "execution_count": 17,
   "metadata": {},
   "outputs": [
    {
     "data": {
      "text/plain": [
       "8"
      ]
     },
     "execution_count": 17,
     "metadata": {},
     "output_type": "execute_result"
    }
   ],
   "source": [
    "foo_REALZ = foo.all_realizations()\n",
    "len(foo_REALZ)"
   ]
  },
  {
   "cell_type": "code",
   "execution_count": 18,
   "metadata": {},
   "outputs": [
    {
     "name": "stdout",
     "output_type": "stream",
     "text": [
      "[['=' '=' '<' '<' '>' '<']\n",
      " ['=' '=' '<' '<' '>' '<']\n",
      " ['>' '>' '=' '<' '>' '<']\n",
      " ['>' '>' '>' '=' '>' '=']\n",
      " ['<' '<' '<' '<' '=' '<']\n",
      " ['>' '>' '>' '=' '>' '=']]\n",
      "\n",
      "[['=' '=' '<' '<' '=' '<']\n",
      " ['=' '=' '<' '<' '=' '<']\n",
      " ['>' '>' '=' '<' '>' '<']\n",
      " ['>' '>' '>' '=' '>' '=']\n",
      " ['=' '=' '<' '<' '=' '<']\n",
      " ['>' '>' '>' '=' '>' '=']]\n",
      "\n",
      "[['=' '=' '<' '<' '<' '<']\n",
      " ['=' '=' '<' '<' '<' '<']\n",
      " ['>' '>' '=' '<' '>' '<']\n",
      " ['>' '>' '>' '=' '>' '=']\n",
      " ['>' '>' '<' '<' '=' '<']\n",
      " ['>' '>' '>' '=' '>' '=']]\n",
      "\n",
      "[['=' '<' '<' '<' '>' '<']\n",
      " ['>' '=' '<' '<' '>' '<']\n",
      " ['>' '>' '=' '<' '>' '<']\n",
      " ['>' '>' '>' '=' '>' '=']\n",
      " ['<' '<' '<' '<' '=' '<']\n",
      " ['>' '>' '>' '=' '>' '=']]\n",
      "\n",
      "[['=' '<' '<' '<' '=' '<']\n",
      " ['>' '=' '<' '<' '>' '<']\n",
      " ['>' '>' '=' '<' '>' '<']\n",
      " ['>' '>' '>' '=' '>' '=']\n",
      " ['=' '<' '<' '<' '=' '<']\n",
      " ['>' '>' '>' '=' '>' '=']]\n",
      "\n",
      "[['=' '<' '<' '<' '<' '<']\n",
      " ['>' '=' '<' '<' '>' '<']\n",
      " ['>' '>' '=' '<' '>' '<']\n",
      " ['>' '>' '>' '=' '>' '=']\n",
      " ['>' '<' '<' '<' '=' '<']\n",
      " ['>' '>' '>' '=' '>' '=']]\n",
      "\n",
      "[['=' '<' '<' '<' '<' '<']\n",
      " ['>' '=' '<' '<' '=' '<']\n",
      " ['>' '>' '=' '<' '>' '<']\n",
      " ['>' '>' '>' '=' '>' '=']\n",
      " ['>' '=' '<' '<' '=' '<']\n",
      " ['>' '>' '>' '=' '>' '=']]\n",
      "\n",
      "[['=' '<' '<' '<' '<' '<']\n",
      " ['>' '=' '<' '<' '<' '<']\n",
      " ['>' '>' '=' '<' '>' '<']\n",
      " ['>' '>' '>' '=' '>' '=']\n",
      " ['>' '>' '<' '<' '=' '<']\n",
      " ['>' '>' '>' '=' '>' '=']]\n",
      "\n"
     ]
    }
   ],
   "source": [
    "for realz in foo_REALZ:\n",
    "    print(np.array(realz.to_list()))\n",
    "    print()"
   ]
  },
  {
   "cell_type": "code",
   "execution_count": 19,
   "metadata": {},
   "outputs": [
    {
     "name": "stdout",
     "output_type": "stream",
     "text": [
      "[['=' '=' '<' '<' '>' '<']\n",
      " ['=' '=' '<' '<' '>' '<']\n",
      " ['>' '>' '=' '<' '>' '<']\n",
      " ['>' '>' '>' '=' '>' '=']\n",
      " ['<' '<' '<' '<' '=' '<']\n",
      " ['>' '>' '>' '=' '>' '=']]\n"
     ]
    }
   ],
   "source": [
    "realz0 = foo_REALZ[0]\n",
    "print(np.array(realz0.to_list()))"
   ]
  },
  {
   "cell_type": "code",
   "execution_count": 20,
   "metadata": {},
   "outputs": [
    {
     "ename": "AttributeError",
     "evalue": "'Network' object has no attribute 'get_points'",
     "output_type": "error",
     "traceback": [
      "\u001b[0;31m---------------------------------------------------------------------------\u001b[0m",
      "\u001b[0;31mAttributeError\u001b[0m                            Traceback (most recent call last)",
      "\u001b[0;32m<ipython-input-20-e7b57bf2304d>\u001b[0m in \u001b[0;36m<module>\u001b[0;34m\u001b[0m\n\u001b[0;32m----> 1\u001b[0;31m \u001b[0mpts\u001b[0m \u001b[0;34m=\u001b[0m \u001b[0mrealz0\u001b[0m\u001b[0;34m.\u001b[0m\u001b[0mget_points\u001b[0m\u001b[0;34m(\u001b[0m\u001b[0;34m)\u001b[0m\u001b[0;34m\u001b[0m\u001b[0;34m\u001b[0m\u001b[0m\n\u001b[0m\u001b[1;32m      2\u001b[0m \u001b[0;34m\u001b[0m\u001b[0m\n\u001b[1;32m      3\u001b[0m \u001b[0mc00\u001b[0m \u001b[0;34m=\u001b[0m \u001b[0mstr\u001b[0m\u001b[0;34m(\u001b[0m\u001b[0mrealz0\u001b[0m\u001b[0;34m.\u001b[0m\u001b[0medges\u001b[0m\u001b[0;34m[\u001b[0m\u001b[0mpts\u001b[0m\u001b[0;34m[\u001b[0m\u001b[0;36m0\u001b[0m\u001b[0;34m]\u001b[0m\u001b[0;34m,\u001b[0m\u001b[0mpts\u001b[0m\u001b[0;34m[\u001b[0m\u001b[0;36m0\u001b[0m\u001b[0;34m]\u001b[0m\u001b[0;34m]\u001b[0m\u001b[0;34m[\u001b[0m\u001b[0;34m'constraint'\u001b[0m\u001b[0;34m]\u001b[0m\u001b[0;34m)\u001b[0m\u001b[0;34m\u001b[0m\u001b[0;34m\u001b[0m\u001b[0m\n\u001b[1;32m      4\u001b[0m \u001b[0mc01\u001b[0m \u001b[0;34m=\u001b[0m \u001b[0mstr\u001b[0m\u001b[0;34m(\u001b[0m\u001b[0mrealz0\u001b[0m\u001b[0;34m.\u001b[0m\u001b[0medges\u001b[0m\u001b[0;34m[\u001b[0m\u001b[0mpts\u001b[0m\u001b[0;34m[\u001b[0m\u001b[0;36m0\u001b[0m\u001b[0;34m]\u001b[0m\u001b[0;34m,\u001b[0m\u001b[0mpts\u001b[0m\u001b[0;34m[\u001b[0m\u001b[0;36m1\u001b[0m\u001b[0;34m]\u001b[0m\u001b[0;34m]\u001b[0m\u001b[0;34m[\u001b[0m\u001b[0;34m'constraint'\u001b[0m\u001b[0;34m]\u001b[0m\u001b[0;34m)\u001b[0m\u001b[0;34m\u001b[0m\u001b[0;34m\u001b[0m\u001b[0m\n\u001b[1;32m      5\u001b[0m \u001b[0mc10\u001b[0m \u001b[0;34m=\u001b[0m \u001b[0mstr\u001b[0m\u001b[0;34m(\u001b[0m\u001b[0mrealz0\u001b[0m\u001b[0;34m.\u001b[0m\u001b[0medges\u001b[0m\u001b[0;34m[\u001b[0m\u001b[0mpts\u001b[0m\u001b[0;34m[\u001b[0m\u001b[0;36m1\u001b[0m\u001b[0;34m]\u001b[0m\u001b[0;34m,\u001b[0m\u001b[0mpts\u001b[0m\u001b[0;34m[\u001b[0m\u001b[0;36m0\u001b[0m\u001b[0;34m]\u001b[0m\u001b[0;34m]\u001b[0m\u001b[0;34m[\u001b[0m\u001b[0;34m'constraint'\u001b[0m\u001b[0;34m]\u001b[0m\u001b[0;34m)\u001b[0m\u001b[0;34m\u001b[0m\u001b[0;34m\u001b[0m\u001b[0m\n",
      "\u001b[0;31mAttributeError\u001b[0m: 'Network' object has no attribute 'get_points'"
     ]
    }
   ],
   "source": [
    "pts = realz0.get_points()\n",
    "\n",
    "c00 = str(realz0.edges[pts[0],pts[0]]['constraint'])\n",
    "c01 = str(realz0.edges[pts[0],pts[1]]['constraint'])\n",
    "c10 = str(realz0.edges[pts[1],pts[0]]['constraint'])\n",
    "c11 = str(realz0.edges[pts[1],pts[1]]['constraint'])\n",
    "\n",
    "','.join([c00, c01, c10, c11])"
   ]
  },
  {
   "cell_type": "code",
   "execution_count": null,
   "metadata": {},
   "outputs": [],
   "source": []
  },
  {
   "cell_type": "code",
   "execution_count": null,
   "metadata": {},
   "outputs": [],
   "source": [
    "foo.summary()"
   ]
  },
  {
   "cell_type": "code",
   "execution_count": null,
   "metadata": {},
   "outputs": [],
   "source": []
  },
  {
   "cell_type": "code",
   "execution_count": null,
   "metadata": {},
   "outputs": [],
   "source": [
    "    def domain_and_range(self):\n",
    "        \"\"\"Return a tuple, (domain, range), for the interval/point relation\n",
    "        represented by the input 4-point network.\"\"\"\n",
    "        return (self.__ontology_classes(self.start1, self.end1),\n",
    "                self.__ontology_classes(self.start2, self.end2),\n",
    "                self.__ontology_classes(self.start3, self.end3))"
   ]
  },
  {
   "cell_type": "code",
   "execution_count": null,
   "metadata": {},
   "outputs": [],
   "source": [
    "def generate_consistent_networks(point_algebra, lessthan=\"<\", startname=\"StartPt\", endname=\"EndPt\",\n",
    "                                 verbose=False):\n",
    "    consistent_nets = dict()\n",
    "    for elem13 in point_algebra.elements:\n",
    "        for elem23 in point_algebra.elements:\n",
    "            for elem14 in point_algebra.elements:\n",
    "                for elem24 in point_algebra.elements:\n",
    "                    # four_pt_net_name = elem13 + ',' + elem23 + ',' + elem14 + ',' + elem24\n",
    "                    four_pt_net_name = elem13 + ',' + elem14 + ',' + elem23 + ',' + elem24\n",
    "                    ptnet = FourPointNet(point_algebra, four_pt_net_name, lessthan, startname, endname)\n",
    "                    pt1, pt2, pt3, pt4 = ptnet.get_points()\n",
    "                    rs13 = point_algebra.relset(elem13)\n",
    "                    rs23 = point_algebra.relset(elem23)\n",
    "                    rs14 = point_algebra.relset(elem14)\n",
    "                    rs24 = point_algebra.relset(elem24)\n",
    "                    ptnet.add_constraint(pt1, pt3, rs13)\n",
    "                    ptnet.add_constraint(pt2, pt3, rs23)\n",
    "                    ptnet.add_constraint(pt1, pt4, rs14)\n",
    "                    ptnet.add_constraint(pt2, pt4, rs24)\n",
    "                    if ptnet.propagate():\n",
    "                        elem_key = \",\".join([str(rs13), str(rs14), str(rs23), str(rs24)])\n",
    "                        consistent_nets[signature_name_mapping[elem_key]] = ptnet\n",
    "                        if verbose:\n",
    "                            print(\"==========================\")\n",
    "                            if elem_key in signature_name_mapping:\n",
    "                                print(elem_key)\n",
    "                                print(signature_name_mapping[elem_key])\n",
    "                            else:\n",
    "                                print(\"UNKNOWN\")\n",
    "                            print(ptnet.domain_and_range())\n",
    "                            print(np.array(ptnet.to_list()))\n",
    "    print(f\"\\n{len(consistent_nets)} consistent networks\")\n",
    "    return consistent_nets"
   ]
  }
 ],
 "metadata": {
  "kernelspec": {
   "display_name": "Python 3",
   "language": "python",
   "name": "python3"
  },
  "language_info": {
   "codemirror_mode": {
    "name": "ipython",
    "version": 3
   },
   "file_extension": ".py",
   "mimetype": "text/x-python",
   "name": "python",
   "nbconvert_exporter": "python",
   "pygments_lexer": "ipython3",
   "version": "3.7.7"
  }
 },
 "nbformat": 4,
 "nbformat_minor": 2
}
