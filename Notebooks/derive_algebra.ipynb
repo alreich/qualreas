{
 "cells": [
  {
   "cell_type": "markdown",
   "metadata": {},
   "source": [
    "# Derive Algebra"
   ]
  },
  {
   "cell_type": "markdown",
   "metadata": {},
   "source": [
    "## References"
   ]
  },
  {
   "cell_type": "markdown",
   "metadata": {},
   "source": [
    "1. [\"Maintaining Knowledge about Temporal Intervals\" by J.F. Allen](https://cse.unl.edu/~choueiry/Documents/Allen-CACM1983.pdf) - Allen's original paper\n",
    "1. [Allen's Interval Algebra](https://www.ics.uci.edu/~alspaugh/cls/shr/allen.html) or [here](https://thomasalspaugh.org/pub/fnd/allen.html) - summarizes Allen's algebra of proper time intervals\n",
    "1. [\"Intervals, Points, and Branching Time\" by A.J. Reich](https://www.researchgate.net/publication/220810644_Intervals_Points_and_Branching_Time) - basis for the extensions here to Allen's algebra\n",
    "1. [W3C Time Ontology in OWL](https://www.w3.org/TR/owl-time/) - temporal vocabulary used here is based on the W3C vocabulary of time\n",
    "1. [bitsets Python package](https://bitsets.readthedocs.io/en/stable/) - used to implement Algebra relation sets and operations\n",
    "1. [NetworkX Python package](http://networkx.github.io/) - used to represent directed graph of constraints\n",
    "1. [Python format string syntax](https://docs.python.org/3/library/string.html#format-string-syntax) - used in Algebra summary method\n",
    "1. [Spatial Ontology](https://www.w3.org/2017/sdwig/bp/) - I'm still looking for a standard spatial vocabulary; maybe start here\n",
    "1. [Qualitative Spatial Relations (QSR) Library](https://qsrlib.readthedocs.io/en/latest/index.html) - an alternative library to the one defined here"
   ]
  },
  {
   "cell_type": "markdown",
   "metadata": {},
   "source": [
    "## Dependencies"
   ]
  },
  {
   "cell_type": "code",
   "execution_count": 1,
   "metadata": {},
   "outputs": [],
   "source": [
    "import os\n",
    "import qualreas as qr\n",
    "import numpy as np"
   ]
  },
  {
   "cell_type": "code",
   "execution_count": 2,
   "metadata": {},
   "outputs": [],
   "source": [
    "path = os.path.join(os.getenv('PYPROJ'), 'qualreas')"
   ]
  },
  {
   "cell_type": "code",
   "execution_count": 3,
   "metadata": {},
   "outputs": [],
   "source": [
    "pt_alg = qr.Algebra(os.path.join(path, \"Algebras/Linear_Point_Algebra.json\"))\n",
    "#pt_alg = qr.Algebra(os.path.join(path, \"Algebras/Right_Branching_Point_Algebra.json\"))\n",
    "#pt_alg = qr.Algebra(os.path.join(path, \"Algebras/Left_Branching_Point_Algebra.json\"))"
   ]
  },
  {
   "cell_type": "markdown",
   "metadata": {},
   "source": [
    "## Create Algebra Elements using 4-Point Networks"
   ]
  },
  {
   "cell_type": "markdown",
   "metadata": {},
   "source": [
    "### Derive Algebra Elements"
   ]
  },
  {
   "cell_type": "code",
   "execution_count": 4,
   "metadata": {},
   "outputs": [
    {
     "name": "stdout",
     "output_type": "stream",
     "text": [
      "==========================\n",
      "<,<,<,<\n",
      "B\n",
      "(['ProperInterval'], ['ProperInterval'])\n",
      "[['=' '<' '<' '<']\n",
      " ['>' '=' '<' '<']\n",
      " ['>' '>' '=' '<']\n",
      " ['>' '>' '>' '=']]\n",
      "==========================\n",
      "<,<,=,<\n",
      "M\n",
      "(['ProperInterval'], ['ProperInterval'])\n",
      "[['=' '<' '<' '<']\n",
      " ['>' '=' '=' '<']\n",
      " ['>' '=' '=' '<']\n",
      " ['>' '>' '>' '=']]\n",
      "==========================\n",
      "<,<,>,<\n",
      "O\n",
      "(['ProperInterval'], ['ProperInterval'])\n",
      "[['=' '<' '<' '<']\n",
      " ['>' '=' '>' '<']\n",
      " ['>' '<' '=' '<']\n",
      " ['>' '>' '>' '=']]\n",
      "==========================\n",
      "<,<,>,=\n",
      "FI\n",
      "(['ProperInterval'], ['ProperInterval'])\n",
      "[['=' '<' '<' '<']\n",
      " ['>' '=' '>' '=']\n",
      " ['>' '<' '=' '<']\n",
      " ['>' '=' '>' '=']]\n",
      "==========================\n",
      "<,<,>,>\n",
      "DI\n",
      "(['ProperInterval'], ['ProperInterval'])\n",
      "[['=' '<' '<' '<']\n",
      " ['>' '=' '>' '>']\n",
      " ['>' '<' '=' '<']\n",
      " ['>' '<' '>' '=']]\n",
      "==========================\n",
      "=,<,>,<\n",
      "S\n",
      "(['ProperInterval'], ['ProperInterval'])\n",
      "[['=' '<' '=' '<']\n",
      " ['>' '=' '>' '<']\n",
      " ['=' '<' '=' '<']\n",
      " ['>' '>' '>' '=']]\n",
      "==========================\n",
      "=,<,>,=\n",
      "E\n",
      "(['ProperInterval'], ['ProperInterval'])\n",
      "[['=' '<' '=' '<']\n",
      " ['>' '=' '>' '=']\n",
      " ['=' '<' '=' '<']\n",
      " ['>' '=' '>' '=']]\n",
      "==========================\n",
      "=,<,>,>\n",
      "SI\n",
      "(['ProperInterval'], ['ProperInterval'])\n",
      "[['=' '<' '=' '<']\n",
      " ['>' '=' '>' '>']\n",
      " ['=' '<' '=' '<']\n",
      " ['>' '<' '>' '=']]\n",
      "==========================\n",
      ">,<,>,<\n",
      "D\n",
      "(['ProperInterval'], ['ProperInterval'])\n",
      "[['=' '<' '>' '<']\n",
      " ['>' '=' '>' '<']\n",
      " ['<' '<' '=' '<']\n",
      " ['>' '>' '>' '=']]\n",
      "==========================\n",
      ">,<,>,=\n",
      "F\n",
      "(['ProperInterval'], ['ProperInterval'])\n",
      "[['=' '<' '>' '<']\n",
      " ['>' '=' '>' '=']\n",
      " ['<' '<' '=' '<']\n",
      " ['>' '=' '>' '=']]\n",
      "==========================\n",
      ">,<,>,>\n",
      "OI\n",
      "(['ProperInterval'], ['ProperInterval'])\n",
      "[['=' '<' '>' '<']\n",
      " ['>' '=' '>' '>']\n",
      " ['<' '<' '=' '<']\n",
      " ['>' '<' '>' '=']]\n",
      "==========================\n",
      ">,=,>,>\n",
      "MI\n",
      "(['ProperInterval'], ['ProperInterval'])\n",
      "[['=' '<' '>' '=']\n",
      " ['>' '=' '>' '>']\n",
      " ['<' '<' '=' '<']\n",
      " ['=' '<' '>' '=']]\n",
      "==========================\n",
      ">,>,>,>\n",
      "BI\n",
      "(['ProperInterval'], ['ProperInterval'])\n",
      "[['=' '<' '>' '>']\n",
      " ['>' '=' '>' '>']\n",
      " ['<' '<' '=' '<']\n",
      " ['<' '<' '>' '=']]\n",
      "\n",
      "13 consistent networks\n"
     ]
    }
   ],
   "source": [
    "consistent_nets = qr.generate_consistent_networks(pt_alg, lessthan=\"<\", verbose=True)"
   ]
  },
  {
   "cell_type": "code",
   "execution_count": 9,
   "metadata": {},
   "outputs": [
    {
     "data": {
      "text/plain": [
       "['B', 'M', 'O', 'FI', 'DI', 'S', 'E', 'SI', 'D', 'F', 'OI', 'MI', 'BI']"
      ]
     },
     "execution_count": 9,
     "metadata": {},
     "output_type": "execute_result"
    }
   ],
   "source": [
    "list(consistent_nets.keys())"
   ]
  },
  {
   "cell_type": "code",
   "execution_count": 7,
   "metadata": {},
   "outputs": [
    {
     "name": "stdout",
     "output_type": "stream",
     "text": [
      "Name: B\n",
      "Domain: ['ProperInterval']\n",
      "Range: ['ProperInterval']\n",
      "Pattern: <,<,<,<\n",
      "[['=' '<' '<' '<']\n",
      " ['>' '=' '<' '<']\n",
      " ['>' '>' '=' '<']\n",
      " ['>' '>' '>' '=']]\n",
      "\n",
      "Name: M\n",
      "Domain: ['ProperInterval']\n",
      "Range: ['ProperInterval']\n",
      "Pattern: <,<,=,<\n",
      "[['=' '<' '<' '<']\n",
      " ['>' '=' '=' '<']\n",
      " ['>' '=' '=' '<']\n",
      " ['>' '>' '>' '=']]\n",
      "\n",
      "Name: O\n",
      "Domain: ['ProperInterval']\n",
      "Range: ['ProperInterval']\n",
      "Pattern: <,<,>,<\n",
      "[['=' '<' '<' '<']\n",
      " ['>' '=' '>' '<']\n",
      " ['>' '<' '=' '<']\n",
      " ['>' '>' '>' '=']]\n",
      "\n",
      "Name: FI\n",
      "Domain: ['ProperInterval']\n",
      "Range: ['ProperInterval']\n",
      "Pattern: <,<,>,=\n",
      "[['=' '<' '<' '<']\n",
      " ['>' '=' '>' '=']\n",
      " ['>' '<' '=' '<']\n",
      " ['>' '=' '>' '=']]\n",
      "\n",
      "Name: DI\n",
      "Domain: ['ProperInterval']\n",
      "Range: ['ProperInterval']\n",
      "Pattern: <,<,>,>\n",
      "[['=' '<' '<' '<']\n",
      " ['>' '=' '>' '>']\n",
      " ['>' '<' '=' '<']\n",
      " ['>' '<' '>' '=']]\n",
      "\n",
      "Name: S\n",
      "Domain: ['ProperInterval']\n",
      "Range: ['ProperInterval']\n",
      "Pattern: =,<,>,<\n",
      "[['=' '<' '=' '<']\n",
      " ['>' '=' '>' '<']\n",
      " ['=' '<' '=' '<']\n",
      " ['>' '>' '>' '=']]\n",
      "\n",
      "Name: E\n",
      "Domain: ['ProperInterval']\n",
      "Range: ['ProperInterval']\n",
      "Pattern: =,<,>,=\n",
      "[['=' '<' '=' '<']\n",
      " ['>' '=' '>' '=']\n",
      " ['=' '<' '=' '<']\n",
      " ['>' '=' '>' '=']]\n",
      "\n",
      "Name: SI\n",
      "Domain: ['ProperInterval']\n",
      "Range: ['ProperInterval']\n",
      "Pattern: =,<,>,>\n",
      "[['=' '<' '=' '<']\n",
      " ['>' '=' '>' '>']\n",
      " ['=' '<' '=' '<']\n",
      " ['>' '<' '>' '=']]\n",
      "\n",
      "Name: D\n",
      "Domain: ['ProperInterval']\n",
      "Range: ['ProperInterval']\n",
      "Pattern: >,<,>,<\n",
      "[['=' '<' '>' '<']\n",
      " ['>' '=' '>' '<']\n",
      " ['<' '<' '=' '<']\n",
      " ['>' '>' '>' '=']]\n",
      "\n",
      "Name: F\n",
      "Domain: ['ProperInterval']\n",
      "Range: ['ProperInterval']\n",
      "Pattern: >,<,>,=\n",
      "[['=' '<' '>' '<']\n",
      " ['>' '=' '>' '=']\n",
      " ['<' '<' '=' '<']\n",
      " ['>' '=' '>' '=']]\n",
      "\n",
      "Name: OI\n",
      "Domain: ['ProperInterval']\n",
      "Range: ['ProperInterval']\n",
      "Pattern: >,<,>,>\n",
      "[['=' '<' '>' '<']\n",
      " ['>' '=' '>' '>']\n",
      " ['<' '<' '=' '<']\n",
      " ['>' '<' '>' '=']]\n",
      "\n",
      "Name: MI\n",
      "Domain: ['ProperInterval']\n",
      "Range: ['ProperInterval']\n",
      "Pattern: >,=,>,>\n",
      "[['=' '<' '>' '=']\n",
      " ['>' '=' '>' '>']\n",
      " ['<' '<' '=' '<']\n",
      " ['=' '<' '>' '=']]\n",
      "\n",
      "Name: BI\n",
      "Domain: ['ProperInterval']\n",
      "Range: ['ProperInterval']\n",
      "Pattern: >,>,>,>\n",
      "[['=' '<' '>' '>']\n",
      " ['>' '=' '>' '>']\n",
      " ['<' '<' '=' '<']\n",
      " ['<' '<' '>' '=']]\n",
      "\n"
     ]
    }
   ],
   "source": [
    "for name in consistent_nets:\n",
    "    net = consistent_nets[name]\n",
    "    dom_rng = net.domain_and_range()\n",
    "    print(f\"Name: {name}\")\n",
    "    print(f\"Domain: {dom_rng[0]}\")\n",
    "    print(f\"Range: {dom_rng[1]}\")\n",
    "    print(f\"Pattern: {net.name}\")\n",
    "    print(np.array(net.to_list()))\n",
    "    print()"
   ]
  },
  {
   "cell_type": "markdown",
   "metadata": {},
   "source": [
    "## Create Algebra Composition Table using 6-Point Networks"
   ]
  },
  {
   "cell_type": "code",
   "execution_count": null,
   "metadata": {},
   "outputs": [],
   "source": [
    "qr.signature_name_mapping"
   ]
  },
  {
   "cell_type": "code",
   "execution_count": null,
   "metadata": {},
   "outputs": [],
   "source": [
    "qr.name_signature_mapping"
   ]
  },
  {
   "cell_type": "code",
   "execution_count": null,
   "metadata": {},
   "outputs": [],
   "source": []
  }
 ],
 "metadata": {
  "kernelspec": {
   "display_name": "Python 3",
   "language": "python",
   "name": "python3"
  },
  "language_info": {
   "codemirror_mode": {
    "name": "ipython",
    "version": 3
   },
   "file_extension": ".py",
   "mimetype": "text/x-python",
   "name": "python",
   "nbconvert_exporter": "python",
   "pygments_lexer": "ipython3",
   "version": "3.7.7"
  }
 },
 "nbformat": 4,
 "nbformat_minor": 2
}
