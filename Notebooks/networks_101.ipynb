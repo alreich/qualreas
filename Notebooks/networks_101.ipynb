{
 "cells": [
  {
   "cell_type": "markdown",
   "metadata": {},
   "source": [
    "# QR Constraint Networks 101"
   ]
  },
  {
   "cell_type": "markdown",
   "metadata": {},
   "source": [
    "This notebook provides a brief example of how a <b>Constraint Network Object</b> can be...\n",
    "* represented in JSON or Python dictionary formats\n",
    "* instantiated from a JSON file or Python dictionary\n",
    "* serialized to a JSON file/string or Python dictionary\n",
    "* summarized\n",
    "* propagated\n",
    "* queried for details about node and edge attributes\n",
    "\n",
    "Two different types of contraint algebras are used here:\n",
    "1. The spatial constraint algebra, [Region Connection Calculus 8 (RCC8)](https://en.wikipedia.org/wiki/Region_connection_calculus)\n",
    "1. The temporal interval & point algebra defined by Reich in [\"Intervals, Points, and Branching Time\", 1994](https://www.researchgate.net/publication/220810644_Intervals_Points_and_Branching_Time)"
   ]
  },
  {
   "cell_type": "markdown",
   "metadata": {},
   "source": [
    "## Imports"
   ]
  },
  {
   "cell_type": "code",
   "execution_count": 1,
   "metadata": {},
   "outputs": [],
   "source": [
    "import qualreas as qr\n",
    "import os"
   ]
  },
  {
   "cell_type": "markdown",
   "metadata": {},
   "source": [
    "## Path to Network & Algebra"
   ]
  },
  {
   "cell_type": "markdown",
   "metadata": {},
   "source": [
    "To begin, we will instantiate a Constraint Network and it's corresponding Algebra from JSON files.\n",
    "\n",
    "Each are kept in separate directories, 'Networks' and 'Algebras', within a top-level 'qualreas' directory, with the full path defined here using an environment variable:"
   ]
  },
  {
   "cell_type": "code",
   "execution_count": 2,
   "metadata": {},
   "outputs": [],
   "source": [
    "qr_path = os.path.join(os.getenv('PYPROJ'), 'qualreas')"
   ]
  },
  {
   "cell_type": "markdown",
   "metadata": {},
   "source": [
    "Once defined, an Algebra's JSON format should remain unchanged. The name of the Algebra used by a Network can then be stored in the Network's definition (in JSON) regardless of where the Network's JSON file resides.  So, we only need provide the path to the directory containing Algebra files:"
   ]
  },
  {
   "cell_type": "code",
   "execution_count": 3,
   "metadata": {},
   "outputs": [],
   "source": [
    "alg_dir = os.path.join(qr_path, \"Algebras\")"
   ]
  },
  {
   "cell_type": "markdown",
   "metadata": {},
   "source": [
    "Networks, on the other hand, could be numerous and change often.  So, we need to provide the full path to the Network's JSON file."
   ]
  },
  {
   "cell_type": "code",
   "execution_count": 4,
   "metadata": {},
   "outputs": [],
   "source": [
    "rcc8_file = os.path.join(qr_path, \"Networks\", \"rcc8_example.json\")"
   ]
  },
  {
   "cell_type": "markdown",
   "metadata": {},
   "source": [
    "## Constraint Network in JSON Format"
   ]
  },
  {
   "cell_type": "markdown",
   "metadata": {},
   "source": [
    "Here's what a network looks like in JSON format.\n",
    "\n",
    "A node is represented as a list of two things:\n",
    "* Node ID\n",
    "* List of ontology classes the node belongs to\n",
    "\n",
    "An edge is represented as a list of three things, representing a directed edge, labeled with a constraint:\n",
    "* Head Node ID\n",
    "* Target Node ID\n",
    "* Constraint\n",
    "\n",
    "Two Things to Note:\n",
    "1. The Wikipedia page on RCC8 represents disjunctions of constraints as sets, e.g., {DC, EC}, whereas QR represents this with the string \"DC|EC\".  Constraint sets represent disjunctions of relation statements, e.g., (Head DC|EC Tail) <==> (Head DC Tail) OR (Head EC Tail).\n",
    "1. Constraints can be abbreviated using a dictionary of abbreviations.  For example, below, the constraint \"DC|EC\" is abbreviated as \"dec\".  By the way, internally, the QR module stores and operates on constraint sets as <i>bitsets</i>.\n",
    "1. No constraints are given for the Road-to-Property1 or Road-to-Property2 edges.  The meaning then is that all RCC8 relations are possible for those two edges.  This can be seen in the first summary of the network farther below."
   ]
  },
  {
   "cell_type": "code",
   "execution_count": 5,
   "metadata": {},
   "outputs": [
    {
     "name": "stdout",
     "output_type": "stream",
     "text": [
      "{\r\n",
      "    \"name\": \"RCC8 Example 1\",\r\n",
      "    \"algebra\": \"RCC8_Algebra\",\r\n",
      "    \"abbreviations\": {\"dec\": \"DC|EC\"},\r\n",
      "    \"description\": \"See https://en.wikipedia.org/wiki/Region_connection_calculus#Examples\",\r\n",
      "    \"nodes\": [\r\n",
      "        [\"House1\", [\"Region\"]],\r\n",
      "        [\"House2\", [\"Region\"]],\r\n",
      "        [\"Property1\", [\"Region\"]],\r\n",
      "        [\"Property2\", [\"Region\"]],\r\n",
      "        [\"Road\", [\"Region\"]]\r\n",
      "    ],\r\n",
      "    \"edges\": [\r\n",
      "        [\"House1\", \"House2\", \"DC\"],\r\n",
      "        [\"House1\", \"Property1\", \"TPP|NTPP\"],\r\n",
      "        [\"House1\", \"Property2\", \"dec\"],\r\n",
      "        [\"House1\", \"Road\", \"EC\"],\r\n",
      "        [\"House2\", \"Property1\", \"dec\"],\r\n",
      "        [\"House2\", \"Property2\", \"NTPP\"],\r\n",
      "        [\"House2\", \"Road\", \"EC\"],\r\n",
      "        [\"Property1\", \"Property2\", \"dec\"],\r\n",
      "        [\"Road\", \"Property1\"],\r\n",
      "        [\"Road\", \"Property2\"]\r\n",
      "    ]\r\n",
      "}"
     ]
    }
   ],
   "source": [
    "!cat {rcc8_file}"
   ]
  },
  {
   "cell_type": "markdown",
   "metadata": {},
   "source": [
    "## Instantiate the Constraint Network Object"
   ]
  },
  {
   "cell_type": "code",
   "execution_count": 6,
   "metadata": {},
   "outputs": [
    {
     "name": "stdout",
     "output_type": "stream",
     "text": [
      "<Network--RCC8 Example 1--RCC8_Algebra>\n"
     ]
    }
   ],
   "source": [
    "rcc8_net = qr.Network(algebra_path=alg_dir, json_file_name=rcc8_file)\n",
    "\n",
    "print(rcc8_net)"
   ]
  },
  {
   "cell_type": "markdown",
   "metadata": {},
   "source": [
    "## Summarize the Network"
   ]
  },
  {
   "cell_type": "markdown",
   "metadata": {},
   "source": [
    "This network is an example on the Wikipedia page for RCC8 (see \"description\" field, above).\n",
    "\n",
    "Below is a summary of the Network Object just instantiated.\n",
    "\n",
    "The format is:\n",
    "* Network Name: Number of Nodes, Number of Edges\n",
    "* Algebra Name\n",
    "* Head Node ID 1:\n",
    "    * => Tail Node ID 1: Constraint 1\n",
    "    * => Tail Node ID 2: Constraint 2\n",
    "    * ...\n",
    "* and so on ..."
   ]
  },
  {
   "cell_type": "code",
   "execution_count": 7,
   "metadata": {},
   "outputs": [
    {
     "name": "stdout",
     "output_type": "stream",
     "text": [
      "\n",
      "RCC8 Example 1: 5 nodes, 25 edges\n",
      "  Algebra: RCC8_Algebra\n",
      "  House1:\n",
      "    => House1: EQ\n",
      "    => House2: DC\n",
      "    => Property1: NTPP|TPP\n",
      "    => Property2: DC|EC\n",
      "    => Road: EC\n",
      "  House2:\n",
      "    => House2: EQ\n",
      "    => House1: DC\n",
      "    => Property1: DC|EC\n",
      "    => Property2: NTPP\n",
      "    => Road: EC\n",
      "  Property1:\n",
      "    => Property1: EQ\n",
      "    => House1: NTPPI|TPPI\n",
      "    => House2: DC|EC\n",
      "    => Property2: DC|EC\n",
      "    => Road: DC|EC|EQ|NTPP|NTPPI|PO|TPP|TPPI\n",
      "  Property2:\n",
      "    => Property2: EQ\n",
      "    => House1: DC|EC\n",
      "    => House2: NTPPI\n",
      "    => Property1: DC|EC\n",
      "    => Road: DC|EC|EQ|NTPP|NTPPI|PO|TPP|TPPI\n",
      "  Road:\n",
      "    => Road: EQ\n",
      "    => House1: EC\n",
      "    => House2: EC\n",
      "    => Property1: DC|EC|EQ|NTPP|NTPPI|PO|TPP|TPPI\n",
      "    => Property2: DC|EC|EQ|NTPP|NTPPI|PO|TPP|TPPI\n"
     ]
    }
   ],
   "source": [
    "rcc8_net.summary()"
   ]
  },
  {
   "cell_type": "markdown",
   "metadata": {},
   "source": [
    "## Perform Constraint Propagation"
   ]
  },
  {
   "cell_type": "markdown",
   "metadata": {},
   "source": [
    "After propagation, note the change in the constraints between the Road and the two Properties."
   ]
  },
  {
   "cell_type": "code",
   "execution_count": 8,
   "metadata": {},
   "outputs": [
    {
     "name": "stdout",
     "output_type": "stream",
     "text": [
      "\n",
      "RCC8 Example 1: 5 nodes, 25 edges\n",
      "  Algebra: RCC8_Algebra\n",
      "  House1:\n",
      "    => House1: EQ\n",
      "    => House2: DC\n",
      "    => Property1: NTPP|TPP\n",
      "    => Property2: DC|EC\n",
      "    => Road: EC\n",
      "  House2:\n",
      "    => House2: EQ\n",
      "    => House1: DC\n",
      "    => Property1: DC\n",
      "    => Property2: NTPP\n",
      "    => Road: EC\n",
      "  Property1:\n",
      "    => Property1: EQ\n",
      "    => House1: NTPPI|TPPI\n",
      "    => House2: DC\n",
      "    => Property2: DC|EC\n",
      "    => Road: EC|PO\n",
      "  Property2:\n",
      "    => Property2: EQ\n",
      "    => House1: DC|EC\n",
      "    => House2: NTPPI\n",
      "    => Property1: DC|EC\n",
      "    => Road: PO|TPPI\n",
      "  Road:\n",
      "    => Road: EQ\n",
      "    => House1: EC\n",
      "    => House2: EC\n",
      "    => Property1: EC|PO\n",
      "    => Property2: PO|TPP\n"
     ]
    }
   ],
   "source": [
    "rcc8_net.propagate()\n",
    "rcc8_net.summary()"
   ]
  },
  {
   "cell_type": "markdown",
   "metadata": {},
   "source": [
    "## Get Entity by Name"
   ]
  },
  {
   "cell_type": "markdown",
   "metadata": {},
   "source": [
    "<b>get_entity_by_name</b> returns an object. Use the object's methods to access it's attributes."
   ]
  },
  {
   "cell_type": "code",
   "execution_count": 9,
   "metadata": {},
   "outputs": [
    {
     "data": {
      "text/plain": [
       "SpatialObject(['Region'] 'House1')"
      ]
     },
     "execution_count": 9,
     "metadata": {},
     "output_type": "execute_result"
    }
   ],
   "source": [
    "entity = rcc8_net.get_entity_by_name(\"House1\")\n",
    "entity"
   ]
  },
  {
   "cell_type": "code",
   "execution_count": 10,
   "metadata": {},
   "outputs": [
    {
     "data": {
      "text/plain": [
       "'House1'"
      ]
     },
     "execution_count": 10,
     "metadata": {},
     "output_type": "execute_result"
    }
   ],
   "source": [
    "entity.name"
   ]
  },
  {
   "cell_type": "code",
   "execution_count": 11,
   "metadata": {},
   "outputs": [
    {
     "data": {
      "text/plain": [
       "['Region']"
      ]
     },
     "execution_count": 11,
     "metadata": {},
     "output_type": "execute_result"
    }
   ],
   "source": [
    "entity.classes"
   ]
  },
  {
   "cell_type": "markdown",
   "metadata": {},
   "source": [
    "## Get Edge by Head & Tail Names"
   ]
  },
  {
   "cell_type": "markdown",
   "metadata": {},
   "source": [
    "<b>get_edge_by_names</b> returns a tuple of three things: (Head Node ID, Tail Node ID, Constraint)"
   ]
  },
  {
   "cell_type": "code",
   "execution_count": 12,
   "metadata": {},
   "outputs": [
    {
     "data": {
      "text/plain": [
       "('Property1', 'Road', 'EC|PO')"
      ]
     },
     "execution_count": 12,
     "metadata": {},
     "output_type": "execute_result"
    }
   ],
   "source": [
    "edge = rcc8_net.get_edge_by_names(\"Property1\", \"Road\")\n",
    "edge"
   ]
  },
  {
   "cell_type": "code",
   "execution_count": 13,
   "metadata": {},
   "outputs": [
    {
     "data": {
      "text/plain": [
       "'EC|PO'"
      ]
     },
     "execution_count": 13,
     "metadata": {},
     "output_type": "execute_result"
    }
   ],
   "source": [
    "edge[2]"
   ]
  },
  {
   "cell_type": "markdown",
   "metadata": {},
   "source": [
    "## Network to Dictionary"
   ]
  },
  {
   "cell_type": "markdown",
   "metadata": {},
   "source": [
    "Note: The only differences between JSON and the dictionary output by <b>to_dict</b> are the single quotes instead of double quotes required by JSON."
   ]
  },
  {
   "cell_type": "code",
   "execution_count": 14,
   "metadata": {},
   "outputs": [
    {
     "data": {
      "text/plain": [
       "{'name': 'RCC8 Example 1',\n",
       " 'algebra': 'RCC8_Algebra',\n",
       " 'description': 'See https://en.wikipedia.org/wiki/Region_connection_calculus#Examples',\n",
       " 'nodes': [['House1', ['Region']],\n",
       "  ['House2', ['Region']],\n",
       "  ['Property1', ['Region']],\n",
       "  ['Property2', ['Region']],\n",
       "  ['Road', ['Region']]],\n",
       " 'edges': [['House1', 'House2', 'DC'],\n",
       "  ['House1', 'Property1', 'NTPP|TPP'],\n",
       "  ['House1', 'Property2', 'DC|EC'],\n",
       "  ['House1', 'Road', 'EC'],\n",
       "  ['House2', 'Property1', 'DC'],\n",
       "  ['House2', 'Property2', 'NTPP'],\n",
       "  ['House2', 'Road', 'EC'],\n",
       "  ['Property1', 'Property2', 'DC|EC'],\n",
       "  ['Property1', 'Road', 'EC|PO'],\n",
       "  ['Property2', 'Road', 'PO|TPPI']]}"
      ]
     },
     "execution_count": 14,
     "metadata": {},
     "output_type": "execute_result"
    }
   ],
   "source": [
    "rcc8_net_dict = rcc8_net.to_dict()\n",
    "\n",
    "rcc8_net_dict"
   ]
  },
  {
   "cell_type": "markdown",
   "metadata": {},
   "source": [
    "## Dictionary to Network"
   ]
  },
  {
   "cell_type": "markdown",
   "metadata": {},
   "source": [
    "Instantiating a Network from a dictionary is similar to using the JSON format.  Although it is not shown below, we can define and use abbreviations for constraints, and we can leave the constraints off of edge definitions to indicate that all relations are possible."
   ]
  },
  {
   "cell_type": "code",
   "execution_count": 15,
   "metadata": {},
   "outputs": [
    {
     "name": "stdout",
     "output_type": "stream",
     "text": [
      "<Network--RCC8 Example 1--RCC8_Algebra>\n",
      "\n",
      "RCC8 Example 1: 5 nodes, 25 edges\n",
      "  Algebra: RCC8_Algebra\n",
      "  House1:\n",
      "    => House1: EQ\n",
      "    => House2: DC\n",
      "    => Property1: NTPP|TPP\n",
      "    => Property2: DC|EC\n",
      "    => Road: EC\n",
      "  House2:\n",
      "    => House2: EQ\n",
      "    => House1: DC\n",
      "    => Property1: DC\n",
      "    => Property2: NTPP\n",
      "    => Road: EC\n",
      "  Property1:\n",
      "    => Property1: EQ\n",
      "    => House1: NTPPI|TPPI\n",
      "    => House2: DC\n",
      "    => Property2: DC|EC\n",
      "    => Road: EC|PO\n",
      "  Property2:\n",
      "    => Property2: EQ\n",
      "    => House1: DC|EC\n",
      "    => House2: NTPPI\n",
      "    => Property1: DC|EC\n",
      "    => Road: PO|TPPI\n",
      "  Road:\n",
      "    => Road: EQ\n",
      "    => House1: EC\n",
      "    => House2: EC\n",
      "    => Property1: EC|PO\n",
      "    => Property2: PO|TPP\n"
     ]
    }
   ],
   "source": [
    "rcc8_net_from_dict = qr.Network(algebra_path=alg_dir, network_dict=rcc8_net_dict)\n",
    "\n",
    "print(rcc8_net_from_dict)\n",
    "\n",
    "rcc8_net_from_dict.summary()"
   ]
  },
  {
   "cell_type": "markdown",
   "metadata": {},
   "source": [
    "## Network to JSON"
   ]
  },
  {
   "cell_type": "markdown",
   "metadata": {},
   "source": [
    "A simple way to serialize a network in JSON format is to first convert it to a dictionary using <b>to_dict</b> and then use <b>json.dump()</b> or <b>json.dumps()</b> to write it out to a file or convert it to a string, respectively.\n",
    "\n",
    "However, either way, the resulting file or string are not pretty printed."
   ]
  },
  {
   "cell_type": "markdown",
   "metadata": {},
   "source": [
    "#### Network to JSON File"
   ]
  },
  {
   "cell_type": "code",
   "execution_count": 16,
   "metadata": {},
   "outputs": [],
   "source": [
    "import json\n",
    "\n",
    "rcc8_json_file = os.path.join(qr_path, \"Networks\", \"rcc8_test1.json\")\n",
    "\n",
    "with open(rcc8_json_file, \"w\") as fout:\n",
    "    json.dump(rcc8_net_dict, fout)"
   ]
  },
  {
   "cell_type": "code",
   "execution_count": 17,
   "metadata": {},
   "outputs": [
    {
     "name": "stdout",
     "output_type": "stream",
     "text": [
      "{\"name\": \"RCC8 Example 1\", \"algebra\": \"RCC8_Algebra\", \"description\": \"See https://en.wikipedia.org/wiki/Region_connection_calculus#Examples\", \"nodes\": [[\"House1\", [\"Region\"]], [\"House2\", [\"Region\"]], [\"Property1\", [\"Region\"]], [\"Property2\", [\"Region\"]], [\"Road\", [\"Region\"]]], \"edges\": [[\"House1\", \"House2\", \"DC\"], [\"House1\", \"Property1\", \"NTPP|TPP\"], [\"House1\", \"Property2\", \"DC|EC\"], [\"House1\", \"Road\", \"EC\"], [\"House2\", \"Property1\", \"DC\"], [\"House2\", \"Property2\", \"NTPP\"], [\"House2\", \"Road\", \"EC\"], [\"Property1\", \"Property2\", \"DC|EC\"], [\"Property1\", \"Road\", \"EC|PO\"], [\"Property2\", \"Road\", \"PO|TPPI\"]]}"
     ]
    }
   ],
   "source": [
    "!cat {rcc8_json_file}"
   ]
  },
  {
   "cell_type": "markdown",
   "metadata": {},
   "source": [
    "#### Network to JSON String"
   ]
  },
  {
   "cell_type": "code",
   "execution_count": 18,
   "metadata": {},
   "outputs": [
    {
     "data": {
      "text/plain": [
       "'{\"name\": \"RCC8 Example 1\", \"algebra\": \"RCC8_Algebra\", \"description\": \"See https://en.wikipedia.org/wiki/Region_connection_calculus#Examples\", \"nodes\": [[\"House1\", [\"Region\"]], [\"House2\", [\"Region\"]], [\"Property1\", [\"Region\"]], [\"Property2\", [\"Region\"]], [\"Road\", [\"Region\"]]], \"edges\": [[\"House1\", \"House2\", \"DC\"], [\"House1\", \"Property1\", \"NTPP|TPP\"], [\"House1\", \"Property2\", \"DC|EC\"], [\"House1\", \"Road\", \"EC\"], [\"House2\", \"Property1\", \"DC\"], [\"House2\", \"Property2\", \"NTPP\"], [\"House2\", \"Road\", \"EC\"], [\"Property1\", \"Property2\", \"DC|EC\"], [\"Property1\", \"Road\", \"EC|PO\"], [\"Property2\", \"Road\", \"PO|TPPI\"]]}'"
      ]
     },
     "execution_count": 18,
     "metadata": {},
     "output_type": "execute_result"
    }
   ],
   "source": [
    "json.dumps(rcc8_net_dict)"
   ]
  },
  {
   "cell_type": "markdown",
   "metadata": {},
   "source": [
    "## An Example of Temporal Reasoning"
   ]
  },
  {
   "cell_type": "markdown",
   "metadata": {},
   "source": [
    "Here we'll use the temporal interval & point algebra, <b>Extended_Linear_Interval_Algebra</b>, defined by Reich in [\"Intervals, Points, and Branching Time\", 1994](https://www.researchgate.net/publication/220810644_Intervals_Points_and_Branching_Time)\n",
    "\n",
    "This algebra extends Allen's algebra of proper time intervals to include time points.\n",
    "\n",
    "The relation, \"PF\", is \"PointFinishes\", \"PS\" is \"PointStarts\", and \"PE\" is \"PointEquals\".  \"PFI\" & \"PSI\" are the converses of \"PF\" and \"PS\", resp.\n",
    "\n",
    "For example,\n",
    "* <i>MondayMidnight PF Monday</i>\n",
    "* <i>MondayMidnight PS Tuesday</i>\n",
    "* <i>MondayMidnight PE MondayMidnight</i>"
   ]
  },
  {
   "cell_type": "code",
   "execution_count": 19,
   "metadata": {},
   "outputs": [],
   "source": [
    "time_net_dict = {\n",
    "    'name': 'Simple Temporal Constraint Network',\n",
    "    'algebra': 'Extended_Linear_Interval_Algebra',\n",
    "    'description': 'A simple example of a Network of Time Points integrated with Time Intervals',\n",
    "    'nodes': [\n",
    "        ['Monday', ['ProperInterval']],\n",
    "        ['MondayMidnight', ['Point']],\n",
    "        ['Tuesday', ['ProperInterval']],\n",
    "        ['MondayPM', ['ProperInterval']]\n",
    "    ],\n",
    "    'edges': [\n",
    "        ['Monday', 'Tuesday', 'M'],\n",
    "        ['MondayMidnight', 'Monday', 'PF'],\n",
    "        ['MondayPM', 'Monday', 'F']\n",
    "    ]\n",
    "}"
   ]
  },
  {
   "cell_type": "code",
   "execution_count": 20,
   "metadata": {},
   "outputs": [
    {
     "name": "stdout",
     "output_type": "stream",
     "text": [
      "A simple example of a Network of Time Points integrated with Time Intervals\n",
      "\n",
      "Simple Temporal Constraint Network: 4 nodes, 10 edges\n",
      "  Algebra: Extended_Linear_Interval_Algebra\n",
      "  Monday:\n",
      "    => Monday: E\n",
      "    => Tuesday: M\n",
      "    => MondayMidnight: PFI\n",
      "    => MondayPM: FI\n",
      "  Tuesday:\n",
      "    => Tuesday: E\n",
      "    => Monday: MI\n",
      "  MondayMidnight:\n",
      "    => MondayMidnight: PE\n",
      "    => Monday: PF\n",
      "  MondayPM:\n",
      "    => MondayPM: E\n",
      "    => Monday: F\n"
     ]
    }
   ],
   "source": [
    "time_net = qr.Network(algebra_path=alg_dir, network_dict=time_net_dict)\n",
    "\n",
    "print(time_net.description)\n",
    "\n",
    "time_net.summary()"
   ]
  },
  {
   "cell_type": "code",
   "execution_count": 21,
   "metadata": {},
   "outputs": [
    {
     "name": "stdout",
     "output_type": "stream",
     "text": [
      "\n",
      "Simple Temporal Constraint Network: 4 nodes, 16 edges\n",
      "  Algebra: Extended_Linear_Interval_Algebra\n",
      "  Monday:\n",
      "    => Monday: E\n",
      "    => Tuesday: M\n",
      "    => MondayMidnight: PFI\n",
      "    => MondayPM: FI\n",
      "  Tuesday:\n",
      "    => Tuesday: E\n",
      "    => Monday: MI\n",
      "    => MondayMidnight: PSI\n",
      "    => MondayPM: MI\n",
      "  MondayMidnight:\n",
      "    => MondayMidnight: PE\n",
      "    => Monday: PF\n",
      "    => Tuesday: PS\n",
      "    => MondayPM: PF\n",
      "  MondayPM:\n",
      "    => MondayPM: E\n",
      "    => Monday: F\n",
      "    => Tuesday: M\n",
      "    => MondayMidnight: PFI\n"
     ]
    }
   ],
   "source": [
    "time_net.propagate()\n",
    "time_net.summary()"
   ]
  },
  {
   "cell_type": "markdown",
   "metadata": {},
   "source": [
    "Note that with regard to the point, <i>MondayMidnight</i> as defined in <b>time_net_dict</b>, above, we only specified:\n",
    "\n",
    "><i>MondayMidnight PF Monday</i>\n",
    "\n",
    "That is, <i>MondayMidnight</i> is the end point (<i>PointFinishes</i>) of the interval, <i>Monday</i>.\n",
    "\n",
    "After propagation, we've inferred that:\n",
    "\n",
    "><i>MondayMidnight PS Tuesday</i>\n",
    "\n",
    "That is, <i>MondayMidnight</i> is the begin point (<i>PointStarts</i>) of the interval, <i>Tuesday</i>.\n",
    "\n",
    "And we've inferred the corresponding converses of these statements (i.e., using the relations <i>PFI</i> and <i>PSI</i>)."
   ]
  },
  {
   "cell_type": "markdown",
   "metadata": {},
   "source": [
    "## A Final Note"
   ]
  },
  {
   "cell_type": "markdown",
   "metadata": {},
   "source": [
    "The Network object in QR is a subclass of [networkx.digraph](https://networkx.github.io/documentation/stable/reference/classes/digraph.html), which has functionality for loading/saving from/to JSON format. But none of the JSON load/save functionality in networkx supported the needs of QR networks.  For example:\n",
    "* <b>to_dict_of_dicts</b>: Keeps edge attributes but loses the graph and node attributes\n",
    "* <b>to_dict_of_lists</b>: Loses all attributes\n",
    "* <b>json_graph.node_link_data</b>: Retains graph & link attributes, but loses node attributes\n",
    "* <b>nx.readwrite.json_graph.node_link_graph</b>: Doesn't work for DiGraphs\n",
    "* GraphML keeps graph and edge attributes, but loses node attributes\n",
    "* ...and so on...\n",
    "\n",
    "So, the bespoke JSON format, described in this notebook, was developed for QR."
   ]
  }
 ],
 "metadata": {
  "kernelspec": {
   "display_name": "Python 3",
   "language": "python",
   "name": "python3"
  },
  "language_info": {
   "codemirror_mode": {
    "name": "ipython",
    "version": 3
   },
   "file_extension": ".py",
   "mimetype": "text/x-python",
   "name": "python",
   "nbconvert_exporter": "python",
   "pygments_lexer": "ipython3",
   "version": "3.7.7"
  }
 },
 "nbformat": 4,
 "nbformat_minor": 4
}
