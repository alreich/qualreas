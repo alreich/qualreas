{
 "cells": [
  {
   "cell_type": "markdown",
   "metadata": {},
   "source": [
    "# NetworkX Experiments"
   ]
  },
  {
   "cell_type": "markdown",
   "metadata": {},
   "source": [
    "This notebook is just for trying out things with NetworkX."
   ]
  },
  {
   "cell_type": "markdown",
   "metadata": {},
   "source": [
    "## Basic Stuff"
   ]
  },
  {
   "cell_type": "code",
   "execution_count": 1,
   "metadata": {},
   "outputs": [],
   "source": [
    "import networkx as nx"
   ]
  },
  {
   "cell_type": "markdown",
   "metadata": {},
   "source": [
    "### Graphs"
   ]
  },
  {
   "cell_type": "code",
   "execution_count": 2,
   "metadata": {},
   "outputs": [
    {
     "data": {
      "text/plain": [
       "{'name': 'Foo', 'what': 'test1'}"
      ]
     },
     "execution_count": 2,
     "metadata": {},
     "output_type": "execute_result"
    }
   ],
   "source": [
    "g1 = nx.DiGraph(name=\"Foo\", what=\"test1\")\n",
    "\n",
    "g1.graph"
   ]
  },
  {
   "cell_type": "markdown",
   "metadata": {},
   "source": [
    "### Nodes"
   ]
  },
  {
   "cell_type": "code",
   "execution_count": 3,
   "metadata": {},
   "outputs": [
    {
     "data": {
      "text/plain": [
       "NodeView(('nd1', 'nd2', 'nd3'))"
      ]
     },
     "execution_count": 3,
     "metadata": {},
     "output_type": "execute_result"
    }
   ],
   "source": [
    "nodes = [(\"nd1\", {\"alpha\": \"ABC\"}),\n",
    "         (\"nd2\", {\"alpha\": \"DEF\"}),\n",
    "         (\"nd3\", {\"alpha\": \"GHI\"})]\n",
    "\n",
    "g1.add_nodes_from(nodes)\n",
    "\n",
    "g1.nodes"
   ]
  },
  {
   "cell_type": "code",
   "execution_count": 4,
   "metadata": {},
   "outputs": [
    {
     "data": {
      "text/plain": [
       "NodeDataView({'nd1': {'alpha': 'ABC'}, 'nd2': {'alpha': 'DEF'}, 'nd3': {'alpha': 'GHI'}})"
      ]
     },
     "execution_count": 4,
     "metadata": {},
     "output_type": "execute_result"
    }
   ],
   "source": [
    "g1.nodes.data()"
   ]
  },
  {
   "cell_type": "markdown",
   "metadata": {},
   "source": [
    "### Edges"
   ]
  },
  {
   "cell_type": "code",
   "execution_count": 5,
   "metadata": {},
   "outputs": [
    {
     "data": {
      "text/plain": [
       "OutEdgeView([('nd1', 'nd2'), ('nd1', 'nd3'), ('nd2', 'nd1'), ('nd2', 'nd3'), ('nd3', 'nd1'), ('nd3', 'nd2')])"
      ]
     },
     "execution_count": 5,
     "metadata": {},
     "output_type": "execute_result"
    }
   ],
   "source": [
    "edges = [(\"nd1\", \"nd2\", {\"fruit\": \"apple\"}),\n",
    "         (\"nd1\", \"nd3\", {\"fruit\": \"pear\"}),\n",
    "         (\"nd2\", \"nd1\", {\"fruit\": \"APPLE\"}),\n",
    "         (\"nd2\", \"nd3\", {\"fruit\": \"banana\"}),\n",
    "         (\"nd3\", \"nd1\", {\"fruit\": \"PEAR\"}),\n",
    "         (\"nd3\", \"nd2\", {\"fruit\": \"BANANA\"})]\n",
    "\n",
    "g1.add_edges_from(edges)\n",
    "\n",
    "g1.edges"
   ]
  },
  {
   "cell_type": "code",
   "execution_count": 6,
   "metadata": {},
   "outputs": [
    {
     "data": {
      "text/plain": [
       "OutEdgeDataView([('nd1', 'nd2', {'fruit': 'apple'}), ('nd1', 'nd3', {'fruit': 'pear'}), ('nd2', 'nd1', {'fruit': 'APPLE'}), ('nd2', 'nd3', {'fruit': 'banana'}), ('nd3', 'nd1', {'fruit': 'PEAR'}), ('nd3', 'nd2', {'fruit': 'BANANA'})])"
      ]
     },
     "execution_count": 6,
     "metadata": {},
     "output_type": "execute_result"
    }
   ],
   "source": [
    "g1.edges.data()"
   ]
  },
  {
   "cell_type": "code",
   "execution_count": 7,
   "metadata": {},
   "outputs": [
    {
     "name": "stdout",
     "output_type": "stream",
     "text": [
      "[('nd1', 'nd2', {'fruit': 'apple'}), ('nd1', 'nd3', {'fruit': 'pear'}), ('nd2', 'nd1', {'fruit': 'APPLE'}), ('nd2', 'nd3', {'fruit': 'banana'}), ('nd3', 'nd1', {'fruit': 'PEAR'}), ('nd3', 'nd2', {'fruit': 'BANANA'})]\n"
     ]
    }
   ],
   "source": [
    "print(g1.edges.data())"
   ]
  },
  {
   "cell_type": "code",
   "execution_count": 8,
   "metadata": {},
   "outputs": [
    {
     "name": "stdout",
     "output_type": "stream",
     "text": [
      "('nd1', 'nd2', {'fruit': 'apple'})\n",
      "('nd1', 'nd3', {'fruit': 'pear'})\n",
      "('nd2', 'nd1', {'fruit': 'APPLE'})\n",
      "('nd2', 'nd3', {'fruit': 'banana'})\n",
      "('nd3', 'nd1', {'fruit': 'PEAR'})\n",
      "('nd3', 'nd2', {'fruit': 'BANANA'})\n"
     ]
    }
   ],
   "source": [
    "for item in g1.edges.data():\n",
    "    print(item)"
   ]
  },
  {
   "cell_type": "markdown",
   "metadata": {},
   "source": [
    "### Converting To/From Other Formats"
   ]
  },
  {
   "cell_type": "markdown",
   "metadata": {},
   "source": [
    "<b>to_dict_of_dicts</b>: Keeps edge attributes but loses the graph and node attributes"
   ]
  },
  {
   "cell_type": "code",
   "execution_count": 9,
   "metadata": {},
   "outputs": [
    {
     "data": {
      "text/plain": [
       "{'nd1': {'nd2': {'fruit': 'apple'}, 'nd3': {'fruit': 'pear'}},\n",
       " 'nd2': {'nd1': {'fruit': 'APPLE'}, 'nd3': {'fruit': 'banana'}},\n",
       " 'nd3': {'nd1': {'fruit': 'PEAR'}, 'nd2': {'fruit': 'BANANA'}}}"
      ]
     },
     "execution_count": 9,
     "metadata": {},
     "output_type": "execute_result"
    }
   ],
   "source": [
    "dict_of_dicts1 = nx.to_dict_of_dicts(g1)\n",
    "dict_of_dicts1"
   ]
  },
  {
   "cell_type": "code",
   "execution_count": 10,
   "metadata": {},
   "outputs": [
    {
     "name": "stdout",
     "output_type": "stream",
     "text": [
      "[('nd1', {}), ('nd2', {}), ('nd3', {})]\n",
      "[('nd1', 'nd2', {'fruit': 'APPLE'}), ('nd1', 'nd3', {'fruit': 'PEAR'}), ('nd2', 'nd3', {'fruit': 'BANANA'})]\n"
     ]
    }
   ],
   "source": [
    "g1_from_dicts = nx.to_networkx_graph(dict_of_dicts1)\n",
    "print(g1_from_dicts.nodes.data())\n",
    "print(g1_from_dicts.edges.data())"
   ]
  },
  {
   "cell_type": "markdown",
   "metadata": {},
   "source": [
    "<b>to_dict_of_lists</b>: Loses all attributes"
   ]
  },
  {
   "cell_type": "code",
   "execution_count": 11,
   "metadata": {},
   "outputs": [
    {
     "data": {
      "text/plain": [
       "{'nd1': ['nd2', 'nd3'], 'nd2': ['nd1', 'nd3'], 'nd3': ['nd1', 'nd2']}"
      ]
     },
     "execution_count": 11,
     "metadata": {},
     "output_type": "execute_result"
    }
   ],
   "source": [
    "nx.to_dict_of_lists(g1)"
   ]
  },
  {
   "cell_type": "code",
   "execution_count": 12,
   "metadata": {},
   "outputs": [
    {
     "data": {
      "text/plain": [
       "OutEdgeDataView([('nd1', 'nd2', {'fruit': 'apple'}), ('nd1', 'nd3', {'fruit': 'pear'}), ('nd2', 'nd1', {'fruit': 'APPLE'}), ('nd2', 'nd3', {'fruit': 'banana'}), ('nd3', 'nd1', {'fruit': 'PEAR'}), ('nd3', 'nd2', {'fruit': 'BANANA'})])"
      ]
     },
     "execution_count": 12,
     "metadata": {},
     "output_type": "execute_result"
    }
   ],
   "source": [
    "nx.to_edgelist(g1)"
   ]
  },
  {
   "cell_type": "code",
   "execution_count": 13,
   "metadata": {},
   "outputs": [
    {
     "data": {
      "text/plain": [
       "[('nd1', 'nd2', {'fruit': 'apple'}),\n",
       " ('nd1', 'nd3', {'fruit': 'pear'}),\n",
       " ('nd2', 'nd1', {'fruit': 'APPLE'}),\n",
       " ('nd2', 'nd3', {'fruit': 'banana'}),\n",
       " ('nd3', 'nd1', {'fruit': 'PEAR'}),\n",
       " ('nd3', 'nd2', {'fruit': 'BANANA'})]"
      ]
     },
     "execution_count": 13,
     "metadata": {},
     "output_type": "execute_result"
    }
   ],
   "source": [
    "edgelist1 = list(nx.to_edgelist(g1))\n",
    "edgelist1"
   ]
  },
  {
   "cell_type": "markdown",
   "metadata": {},
   "source": [
    "<b>json_graph.node_link_data</b>: Retains graph & link attributes, but loses node attributes"
   ]
  },
  {
   "cell_type": "code",
   "execution_count": 14,
   "metadata": {},
   "outputs": [
    {
     "data": {
      "text/plain": [
       "{'directed': True,\n",
       " 'multigraph': False,\n",
       " 'graph': {'name': 'Foo', 'what': 'test1'},\n",
       " 'nodes': [{'alpha': 'ABC', 'id': 'nd1'},\n",
       "  {'alpha': 'DEF', 'id': 'nd2'},\n",
       "  {'alpha': 'GHI', 'id': 'nd3'}],\n",
       " 'links': [{'fruit': 'apple', 'source': 'nd1', 'target': 'nd2'},\n",
       "  {'fruit': 'pear', 'source': 'nd1', 'target': 'nd3'},\n",
       "  {'fruit': 'APPLE', 'source': 'nd2', 'target': 'nd1'},\n",
       "  {'fruit': 'banana', 'source': 'nd2', 'target': 'nd3'},\n",
       "  {'fruit': 'PEAR', 'source': 'nd3', 'target': 'nd1'},\n",
       "  {'fruit': 'BANANA', 'source': 'nd3', 'target': 'nd2'}]}"
      ]
     },
     "execution_count": 14,
     "metadata": {},
     "output_type": "execute_result"
    }
   ],
   "source": [
    "nx.readwrite.json_graph.node_link_data(g1)"
   ]
  },
  {
   "cell_type": "markdown",
   "metadata": {},
   "source": [
    "<b>nx.readwrite.json_graph.node_link_graph</b>: Doesn't work for DiGraphs"
   ]
  },
  {
   "cell_type": "markdown",
   "metadata": {},
   "source": [
    "#### GraphML"
   ]
  },
  {
   "cell_type": "markdown",
   "metadata": {},
   "source": [
    "GraphML keeps graph and edge attributes, but loses node attributes"
   ]
  },
  {
   "cell_type": "code",
   "execution_count": 15,
   "metadata": {},
   "outputs": [
    {
     "name": "stdout",
     "output_type": "stream",
     "text": [
      "/Users/alfredreich/Documents/Github/repo/qualreas\n"
     ]
    }
   ],
   "source": [
    "import json\n",
    "import os\n",
    "\n",
    "path = os.path.join(os.getenv('PYPROJ'), 'qualreas')\n",
    "print(path)"
   ]
  },
  {
   "cell_type": "code",
   "execution_count": 16,
   "metadata": {},
   "outputs": [],
   "source": [
    "nx.readwrite.graphml.write_graphml(g1, path + \"/Networks/test_g1.gml\")"
   ]
  },
  {
   "cell_type": "code",
   "execution_count": 80,
   "metadata": {},
   "outputs": [
    {
     "name": "stdout",
     "output_type": "stream",
     "text": [
      "<?xml version='1.0' encoding='utf-8'?>\r\n",
      "<graphml xmlns=\"http://graphml.graphdrawing.org/xmlns\" xmlns:xsi=\"http://www.w3.org/2001/XMLSchema-instance\" xsi:schemaLocation=\"http://graphml.graphdrawing.org/xmlns http://graphml.graphdrawing.org/xmlns/1.0/graphml.xsd\"><key id=\"d2\" for=\"edge\" attr.name=\"fruit\" attr.type=\"string\"/>\r\n",
      "<key id=\"d1\" for=\"graph\" attr.name=\"what\" attr.type=\"string\"/>\r\n",
      "<key id=\"d0\" for=\"graph\" attr.name=\"name\" attr.type=\"string\"/>\r\n",
      "<graph edgedefault=\"directed\"><data key=\"d0\">Foo</data>\r\n",
      "<data key=\"d1\">test1</data>\r\n",
      "<node id=\"nd1\"/>\r\n",
      "<node id=\"nd2\"/>\r\n",
      "<node id=\"nd3\"/>\r\n",
      "<edge source=\"nd1\" target=\"nd2\">\r\n",
      "  <data key=\"d2\">apple</data>\r\n",
      "</edge>\r\n",
      "<edge source=\"nd1\" target=\"nd3\">\r\n",
      "  <data key=\"d2\">pear</data>\r\n",
      "</edge>\r\n",
      "<edge source=\"nd2\" target=\"nd1\">\r\n",
      "  <data key=\"d2\">APPLE</data>\r\n",
      "</edge>\r\n",
      "<edge source=\"nd2\" target=\"nd3\">\r\n",
      "  <data key=\"d2\">banana</data>\r\n",
      "</edge>\r\n",
      "<edge source=\"nd3\" target=\"nd1\">\r\n",
      "  <data key=\"d2\">PEAR</data>\r\n",
      "</edge>\r\n",
      "<edge source=\"nd3\" target=\"nd2\">\r\n",
      "  <data key=\"d2\">BANANA</data>\r\n",
      "</edge>\r\n",
      "</graph></graphml>"
     ]
    }
   ],
   "source": [
    "!cat {path}/Networks/test_g1.gml"
   ]
  },
  {
   "cell_type": "code",
   "execution_count": null,
   "metadata": {},
   "outputs": [],
   "source": []
  },
  {
   "cell_type": "markdown",
   "metadata": {},
   "source": [
    "## Constraint Networks"
   ]
  },
  {
   "cell_type": "code",
   "execution_count": 15,
   "metadata": {},
   "outputs": [
    {
     "name": "stdout",
     "output_type": "stream",
     "text": [
      "total 64\r\n",
      "-rw-r--r--  1 alfredreich  staff   509 Sep 19 14:08 BookExample.json\r\n",
      "-rw-r--r--  1 alfredreich  staff   573 Sep 19 14:08 BookExampleExtended.json\r\n",
      "-rw-r--r--  1 alfredreich  staff  1150 Sep 26 16:12 nssdfExample2.json\r\n",
      "-rw-r--r--  1 alfredreich  staff  1032 Sep 30 15:57 nssdfExample2.py\r\n",
      "-rw-r--r--  1 alfredreich  staff  1593 Sep 30 18:32 nssdfExample2_node_link_data.py\r\n",
      "-rw-r--r--  1 alfredreich  staff   815 Sep 19 14:08 rcc8_example.json\r\n",
      "-rw-r--r--  1 alfredreich  staff   712 Sep 19 14:08 rcc8_example_MISSING.json\r\n",
      "-rw-r--r--  1 alfredreich  staff   748 Sep 16 18:53 rcc8_example_OLD.json\r\n"
     ]
    }
   ],
   "source": [
    "!ls -lF {path}/Networks"
   ]
  },
  {
   "cell_type": "code",
   "execution_count": 21,
   "metadata": {},
   "outputs": [
    {
     "name": "stdout",
     "output_type": "stream",
     "text": [
      "{\"directed\": \"True\",\r\n",
      " \"multigraph\": \"False\",\r\n",
      " \"graph\": {\"name\": \"NSSDF 2009 Example 2\",\r\n",
      "           \"algebra\": \"Extended_Linear_Interval_Algebra\",\r\n",
      "           \"description\": \"Using Semantic Web Technology to Exploit Soft Information\"\r\n",
      "           },\r\n",
      " \"nodes\": [{\"classes\": [\"ProperInterval\"], \"id\": \"Yesterday\"},\r\n",
      "           {\"classes\": [\"ProperInterval\"], \"id\": \"Today\"},\r\n",
      "           {\"classes\": [\"ProperInterval\"], \"id\": \"Yesterday_Morning\"},\r\n",
      "           {\"classes\": [\"ProperInterval\"], \"id\": \"Yesterday_Evening\"},\r\n",
      "           {\"classes\": [\"Point\"], \"id\": \"Time_of_Obs\"},\r\n",
      "           {\"classes\": [\"Point\"], \"id\": \"Time_of_Arrest\"},\r\n",
      "           {\"classes\": [\"Point\"], \"id\": \"Time_of_Release\"},\r\n",
      "           {\"classes\": [\"ProperInterval\", \"Point\"], \"id\": \"Period_of_Detention\"}\r\n",
      "           ],\r\n",
      " \"links\": [{\"constraints\": \"M\", \"source\": \"Yesterday\", \"target\": \"Today\"},\r\n",
      "           {\"constraints\": \"SI\", \"source\": \"Yesterday\", \"target\": \"Yesterday_Morning\"},\r\n",
      "           {\"constraints\": \"FI\", \"source\": \"Yesterday\", \"target\": \"Yesterday_Evening\"},\r\n",
      "           {\"constraints\": \"DI\", \"source\": \"Today\", \"target\": \"Time_of_Release\"},\r\n",
      "           {\"constraints\": \"B\", \"source\": \"Yesterday_Morning\", \"target\": \"Yesterday_Evening\"},\r\n",
      "           {\"constraints\": \"DI\", \"source\": \"Yesterday_Morning\", \"target\": \"Time_of_Arrest\"},\r\n",
      "           {\"constraints\": \"DI\", \"source\": \"Yesterday_Evening\", \"target\": \"Time_of_Obs\"},\r\n",
      "           {\"constraints\": \"PS\", \"source\": \"Time_of_Arrest\", \"target\": \"Period_of_Detention\"},\r\n",
      "           {\"constraints\": \"PF\", \"source\": \"Time_of_Release\", \"target\": \"Period_of_Detention\"}\r\n",
      "           ]\r\n",
      " }\r\n"
     ]
    }
   ],
   "source": [
    "!cat {path}/Networks/nssdfExample2_node_link_data.json"
   ]
  },
  {
   "cell_type": "code",
   "execution_count": 22,
   "metadata": {},
   "outputs": [],
   "source": [
    "with open(path + \"/Networks/nssdfExample2_node_link_data.json\") as fin:\n",
    "    g1_dict = json.load(fin)"
   ]
  },
  {
   "cell_type": "code",
   "execution_count": 25,
   "metadata": {},
   "outputs": [
    {
     "ename": "AttributeError",
     "evalue": "'str' object has no attribute 'items'",
     "output_type": "error",
     "traceback": [
      "\u001b[0;31m---------------------------------------------------------------------------\u001b[0m",
      "\u001b[0;31mAttributeError\u001b[0m                            Traceback (most recent call last)",
      "\u001b[0;32m<ipython-input-25-a0d1af3a778f>\u001b[0m in \u001b[0;36m<module>\u001b[0;34m\u001b[0m\n\u001b[0;32m----> 1\u001b[0;31m \u001b[0mnet_g1\u001b[0m \u001b[0;34m=\u001b[0m \u001b[0mnx\u001b[0m\u001b[0;34m.\u001b[0m\u001b[0mfrom_dict_of_dicts\u001b[0m\u001b[0;34m(\u001b[0m\u001b[0mg1_dict\u001b[0m\u001b[0;34m)\u001b[0m\u001b[0;34m\u001b[0m\u001b[0;34m\u001b[0m\u001b[0m\n\u001b[0m",
      "\u001b[0;32m~/anaconda3/lib/python3.7/site-packages/networkx/convert.py\u001b[0m in \u001b[0;36mfrom_dict_of_dicts\u001b[0;34m(d, create_using, multigraph_input)\u001b[0m\n\u001b[1;32m    359\u001b[0m         \u001b[0;32melse\u001b[0m\u001b[0;34m:\u001b[0m\u001b[0;34m\u001b[0m\u001b[0;34m\u001b[0m\u001b[0m\n\u001b[1;32m    360\u001b[0m             G.add_edges_from(\n\u001b[0;32m--> 361\u001b[0;31m                 \u001b[0;34m(\u001b[0m\u001b[0;34m(\u001b[0m\u001b[0mu\u001b[0m\u001b[0;34m,\u001b[0m \u001b[0mv\u001b[0m\u001b[0;34m,\u001b[0m \u001b[0mdata\u001b[0m\u001b[0;34m)\u001b[0m \u001b[0;32mfor\u001b[0m \u001b[0mu\u001b[0m\u001b[0;34m,\u001b[0m \u001b[0mnbrs\u001b[0m \u001b[0;32min\u001b[0m \u001b[0md\u001b[0m\u001b[0;34m.\u001b[0m\u001b[0mitems\u001b[0m\u001b[0;34m(\u001b[0m\u001b[0;34m)\u001b[0m \u001b[0;32mfor\u001b[0m \u001b[0mv\u001b[0m\u001b[0;34m,\u001b[0m \u001b[0mdata\u001b[0m \u001b[0;32min\u001b[0m \u001b[0mnbrs\u001b[0m\u001b[0;34m.\u001b[0m\u001b[0mitems\u001b[0m\u001b[0;34m(\u001b[0m\u001b[0;34m)\u001b[0m\u001b[0;34m)\u001b[0m\u001b[0;34m\u001b[0m\u001b[0;34m\u001b[0m\u001b[0m\n\u001b[0m\u001b[1;32m    362\u001b[0m             )\n\u001b[1;32m    363\u001b[0m     \u001b[0;32mreturn\u001b[0m \u001b[0mG\u001b[0m\u001b[0;34m\u001b[0m\u001b[0;34m\u001b[0m\u001b[0m\n",
      "\u001b[0;32m~/anaconda3/lib/python3.7/site-packages/networkx/classes/graph.py\u001b[0m in \u001b[0;36madd_edges_from\u001b[0;34m(self, ebunch_to_add, **attr)\u001b[0m\n\u001b[1;32m    920\u001b[0m         \u001b[0;34m>>\u001b[0m\u001b[0;34m>\u001b[0m \u001b[0mG\u001b[0m\u001b[0;34m.\u001b[0m\u001b[0madd_edges_from\u001b[0m\u001b[0;34m(\u001b[0m\u001b[0;34m[\u001b[0m\u001b[0;34m(\u001b[0m\u001b[0;36m3\u001b[0m\u001b[0;34m,\u001b[0m \u001b[0;36m4\u001b[0m\u001b[0;34m)\u001b[0m\u001b[0;34m,\u001b[0m \u001b[0;34m(\u001b[0m\u001b[0;36m1\u001b[0m\u001b[0;34m,\u001b[0m \u001b[0;36m4\u001b[0m\u001b[0;34m)\u001b[0m\u001b[0;34m]\u001b[0m\u001b[0;34m,\u001b[0m \u001b[0mlabel\u001b[0m\u001b[0;34m=\u001b[0m\u001b[0;34m\"WN2898\"\u001b[0m\u001b[0;34m)\u001b[0m\u001b[0;34m\u001b[0m\u001b[0;34m\u001b[0m\u001b[0m\n\u001b[1;32m    921\u001b[0m         \"\"\"\n\u001b[0;32m--> 922\u001b[0;31m         \u001b[0;32mfor\u001b[0m \u001b[0me\u001b[0m \u001b[0;32min\u001b[0m \u001b[0mebunch_to_add\u001b[0m\u001b[0;34m:\u001b[0m\u001b[0;34m\u001b[0m\u001b[0;34m\u001b[0m\u001b[0m\n\u001b[0m\u001b[1;32m    923\u001b[0m             \u001b[0mne\u001b[0m \u001b[0;34m=\u001b[0m \u001b[0mlen\u001b[0m\u001b[0;34m(\u001b[0m\u001b[0me\u001b[0m\u001b[0;34m)\u001b[0m\u001b[0;34m\u001b[0m\u001b[0;34m\u001b[0m\u001b[0m\n\u001b[1;32m    924\u001b[0m             \u001b[0;32mif\u001b[0m \u001b[0mne\u001b[0m \u001b[0;34m==\u001b[0m \u001b[0;36m3\u001b[0m\u001b[0;34m:\u001b[0m\u001b[0;34m\u001b[0m\u001b[0;34m\u001b[0m\u001b[0m\n",
      "\u001b[0;32m~/anaconda3/lib/python3.7/site-packages/networkx/convert.py\u001b[0m in \u001b[0;36m<genexpr>\u001b[0;34m(.0)\u001b[0m\n\u001b[1;32m    359\u001b[0m         \u001b[0;32melse\u001b[0m\u001b[0;34m:\u001b[0m\u001b[0;34m\u001b[0m\u001b[0;34m\u001b[0m\u001b[0m\n\u001b[1;32m    360\u001b[0m             G.add_edges_from(\n\u001b[0;32m--> 361\u001b[0;31m                 \u001b[0;34m(\u001b[0m\u001b[0;34m(\u001b[0m\u001b[0mu\u001b[0m\u001b[0;34m,\u001b[0m \u001b[0mv\u001b[0m\u001b[0;34m,\u001b[0m \u001b[0mdata\u001b[0m\u001b[0;34m)\u001b[0m \u001b[0;32mfor\u001b[0m \u001b[0mu\u001b[0m\u001b[0;34m,\u001b[0m \u001b[0mnbrs\u001b[0m \u001b[0;32min\u001b[0m \u001b[0md\u001b[0m\u001b[0;34m.\u001b[0m\u001b[0mitems\u001b[0m\u001b[0;34m(\u001b[0m\u001b[0;34m)\u001b[0m \u001b[0;32mfor\u001b[0m \u001b[0mv\u001b[0m\u001b[0;34m,\u001b[0m \u001b[0mdata\u001b[0m \u001b[0;32min\u001b[0m \u001b[0mnbrs\u001b[0m\u001b[0;34m.\u001b[0m\u001b[0mitems\u001b[0m\u001b[0;34m(\u001b[0m\u001b[0;34m)\u001b[0m\u001b[0;34m)\u001b[0m\u001b[0;34m\u001b[0m\u001b[0;34m\u001b[0m\u001b[0m\n\u001b[0m\u001b[1;32m    362\u001b[0m             )\n\u001b[1;32m    363\u001b[0m     \u001b[0;32mreturn\u001b[0m \u001b[0mG\u001b[0m\u001b[0;34m\u001b[0m\u001b[0;34m\u001b[0m\u001b[0m\n",
      "\u001b[0;31mAttributeError\u001b[0m: 'str' object has no attribute 'items'"
     ]
    }
   ],
   "source": [
    "net_g1 = nx.from_dict_of_dicts(g1_dict)"
   ]
  },
  {
   "cell_type": "code",
   "execution_count": 17,
   "metadata": {},
   "outputs": [
    {
     "ename": "JSONDecodeError",
     "evalue": "Expecting property name enclosed in double quotes: line 1 column 2 (char 1)",
     "output_type": "error",
     "traceback": [
      "\u001b[0;31m---------------------------------------------------------------------------\u001b[0m",
      "\u001b[0;31mJSONDecodeError\u001b[0m                           Traceback (most recent call last)",
      "\u001b[0;32m<ipython-input-17-8e3109a359a1>\u001b[0m in \u001b[0;36m<module>\u001b[0;34m\u001b[0m\n\u001b[0;32m----> 1\u001b[0;31m \u001b[0mnet_g1_A\u001b[0m \u001b[0;34m=\u001b[0m \u001b[0mnx\u001b[0m\u001b[0;34m.\u001b[0m\u001b[0mjson_graph\u001b[0m\u001b[0;34m.\u001b[0m\u001b[0mnode_link_graph\u001b[0m\u001b[0;34m(\u001b[0m\u001b[0mjson\u001b[0m\u001b[0;34m.\u001b[0m\u001b[0mload\u001b[0m\u001b[0;34m(\u001b[0m\u001b[0mopen\u001b[0m\u001b[0;34m(\u001b[0m\u001b[0mpath\u001b[0m \u001b[0;34m+\u001b[0m \u001b[0;34m\"/Networks/nssdfExample2_node_link_data.json\"\u001b[0m\u001b[0;34m)\u001b[0m\u001b[0;34m)\u001b[0m\u001b[0;34m)\u001b[0m\u001b[0;34m\u001b[0m\u001b[0;34m\u001b[0m\u001b[0m\n\u001b[0m",
      "\u001b[0;32m~/anaconda3/lib/python3.7/json/__init__.py\u001b[0m in \u001b[0;36mload\u001b[0;34m(fp, cls, object_hook, parse_float, parse_int, parse_constant, object_pairs_hook, **kw)\u001b[0m\n\u001b[1;32m    294\u001b[0m         \u001b[0mcls\u001b[0m\u001b[0;34m=\u001b[0m\u001b[0mcls\u001b[0m\u001b[0;34m,\u001b[0m \u001b[0mobject_hook\u001b[0m\u001b[0;34m=\u001b[0m\u001b[0mobject_hook\u001b[0m\u001b[0;34m,\u001b[0m\u001b[0;34m\u001b[0m\u001b[0;34m\u001b[0m\u001b[0m\n\u001b[1;32m    295\u001b[0m         \u001b[0mparse_float\u001b[0m\u001b[0;34m=\u001b[0m\u001b[0mparse_float\u001b[0m\u001b[0;34m,\u001b[0m \u001b[0mparse_int\u001b[0m\u001b[0;34m=\u001b[0m\u001b[0mparse_int\u001b[0m\u001b[0;34m,\u001b[0m\u001b[0;34m\u001b[0m\u001b[0;34m\u001b[0m\u001b[0m\n\u001b[0;32m--> 296\u001b[0;31m         parse_constant=parse_constant, object_pairs_hook=object_pairs_hook, **kw)\n\u001b[0m\u001b[1;32m    297\u001b[0m \u001b[0;34m\u001b[0m\u001b[0m\n\u001b[1;32m    298\u001b[0m \u001b[0;34m\u001b[0m\u001b[0m\n",
      "\u001b[0;32m~/anaconda3/lib/python3.7/json/__init__.py\u001b[0m in \u001b[0;36mloads\u001b[0;34m(s, encoding, cls, object_hook, parse_float, parse_int, parse_constant, object_pairs_hook, **kw)\u001b[0m\n\u001b[1;32m    346\u001b[0m             \u001b[0mparse_int\u001b[0m \u001b[0;32mis\u001b[0m \u001b[0;32mNone\u001b[0m \u001b[0;32mand\u001b[0m \u001b[0mparse_float\u001b[0m \u001b[0;32mis\u001b[0m \u001b[0;32mNone\u001b[0m \u001b[0;32mand\u001b[0m\u001b[0;34m\u001b[0m\u001b[0;34m\u001b[0m\u001b[0m\n\u001b[1;32m    347\u001b[0m             parse_constant is None and object_pairs_hook is None and not kw):\n\u001b[0;32m--> 348\u001b[0;31m         \u001b[0;32mreturn\u001b[0m \u001b[0m_default_decoder\u001b[0m\u001b[0;34m.\u001b[0m\u001b[0mdecode\u001b[0m\u001b[0;34m(\u001b[0m\u001b[0ms\u001b[0m\u001b[0;34m)\u001b[0m\u001b[0;34m\u001b[0m\u001b[0;34m\u001b[0m\u001b[0m\n\u001b[0m\u001b[1;32m    349\u001b[0m     \u001b[0;32mif\u001b[0m \u001b[0mcls\u001b[0m \u001b[0;32mis\u001b[0m \u001b[0;32mNone\u001b[0m\u001b[0;34m:\u001b[0m\u001b[0;34m\u001b[0m\u001b[0;34m\u001b[0m\u001b[0m\n\u001b[1;32m    350\u001b[0m         \u001b[0mcls\u001b[0m \u001b[0;34m=\u001b[0m \u001b[0mJSONDecoder\u001b[0m\u001b[0;34m\u001b[0m\u001b[0;34m\u001b[0m\u001b[0m\n",
      "\u001b[0;32m~/anaconda3/lib/python3.7/json/decoder.py\u001b[0m in \u001b[0;36mdecode\u001b[0;34m(self, s, _w)\u001b[0m\n\u001b[1;32m    335\u001b[0m \u001b[0;34m\u001b[0m\u001b[0m\n\u001b[1;32m    336\u001b[0m         \"\"\"\n\u001b[0;32m--> 337\u001b[0;31m         \u001b[0mobj\u001b[0m\u001b[0;34m,\u001b[0m \u001b[0mend\u001b[0m \u001b[0;34m=\u001b[0m \u001b[0mself\u001b[0m\u001b[0;34m.\u001b[0m\u001b[0mraw_decode\u001b[0m\u001b[0;34m(\u001b[0m\u001b[0ms\u001b[0m\u001b[0;34m,\u001b[0m \u001b[0midx\u001b[0m\u001b[0;34m=\u001b[0m\u001b[0m_w\u001b[0m\u001b[0;34m(\u001b[0m\u001b[0ms\u001b[0m\u001b[0;34m,\u001b[0m \u001b[0;36m0\u001b[0m\u001b[0;34m)\u001b[0m\u001b[0;34m.\u001b[0m\u001b[0mend\u001b[0m\u001b[0;34m(\u001b[0m\u001b[0;34m)\u001b[0m\u001b[0;34m)\u001b[0m\u001b[0;34m\u001b[0m\u001b[0;34m\u001b[0m\u001b[0m\n\u001b[0m\u001b[1;32m    338\u001b[0m         \u001b[0mend\u001b[0m \u001b[0;34m=\u001b[0m \u001b[0m_w\u001b[0m\u001b[0;34m(\u001b[0m\u001b[0ms\u001b[0m\u001b[0;34m,\u001b[0m \u001b[0mend\u001b[0m\u001b[0;34m)\u001b[0m\u001b[0;34m.\u001b[0m\u001b[0mend\u001b[0m\u001b[0;34m(\u001b[0m\u001b[0;34m)\u001b[0m\u001b[0;34m\u001b[0m\u001b[0;34m\u001b[0m\u001b[0m\n\u001b[1;32m    339\u001b[0m         \u001b[0;32mif\u001b[0m \u001b[0mend\u001b[0m \u001b[0;34m!=\u001b[0m \u001b[0mlen\u001b[0m\u001b[0;34m(\u001b[0m\u001b[0ms\u001b[0m\u001b[0;34m)\u001b[0m\u001b[0;34m:\u001b[0m\u001b[0;34m\u001b[0m\u001b[0;34m\u001b[0m\u001b[0m\n",
      "\u001b[0;32m~/anaconda3/lib/python3.7/json/decoder.py\u001b[0m in \u001b[0;36mraw_decode\u001b[0;34m(self, s, idx)\u001b[0m\n\u001b[1;32m    351\u001b[0m         \"\"\"\n\u001b[1;32m    352\u001b[0m         \u001b[0;32mtry\u001b[0m\u001b[0;34m:\u001b[0m\u001b[0;34m\u001b[0m\u001b[0;34m\u001b[0m\u001b[0m\n\u001b[0;32m--> 353\u001b[0;31m             \u001b[0mobj\u001b[0m\u001b[0;34m,\u001b[0m \u001b[0mend\u001b[0m \u001b[0;34m=\u001b[0m \u001b[0mself\u001b[0m\u001b[0;34m.\u001b[0m\u001b[0mscan_once\u001b[0m\u001b[0;34m(\u001b[0m\u001b[0ms\u001b[0m\u001b[0;34m,\u001b[0m \u001b[0midx\u001b[0m\u001b[0;34m)\u001b[0m\u001b[0;34m\u001b[0m\u001b[0;34m\u001b[0m\u001b[0m\n\u001b[0m\u001b[1;32m    354\u001b[0m         \u001b[0;32mexcept\u001b[0m \u001b[0mStopIteration\u001b[0m \u001b[0;32mas\u001b[0m \u001b[0merr\u001b[0m\u001b[0;34m:\u001b[0m\u001b[0;34m\u001b[0m\u001b[0;34m\u001b[0m\u001b[0m\n\u001b[1;32m    355\u001b[0m             \u001b[0;32mraise\u001b[0m \u001b[0mJSONDecodeError\u001b[0m\u001b[0;34m(\u001b[0m\u001b[0;34m\"Expecting value\"\u001b[0m\u001b[0;34m,\u001b[0m \u001b[0ms\u001b[0m\u001b[0;34m,\u001b[0m \u001b[0merr\u001b[0m\u001b[0;34m.\u001b[0m\u001b[0mvalue\u001b[0m\u001b[0;34m)\u001b[0m \u001b[0;32mfrom\u001b[0m \u001b[0;32mNone\u001b[0m\u001b[0;34m\u001b[0m\u001b[0;34m\u001b[0m\u001b[0m\n",
      "\u001b[0;31mJSONDecodeError\u001b[0m: Expecting property name enclosed in double quotes: line 1 column 2 (char 1)"
     ]
    }
   ],
   "source": [
    "net_g1_A = nx.json_graph.node_link_graph(json.load(open(path + \"/Networks/nssdfExample2_node_link_data.json\")))"
   ]
  },
  {
   "cell_type": "code",
   "execution_count": null,
   "metadata": {},
   "outputs": [],
   "source": []
  }
 ],
 "metadata": {
  "kernelspec": {
   "display_name": "Python 3",
   "language": "python",
   "name": "python3"
  },
  "language_info": {
   "codemirror_mode": {
    "name": "ipython",
    "version": 3
   },
   "file_extension": ".py",
   "mimetype": "text/x-python",
   "name": "python",
   "nbconvert_exporter": "python",
   "pygments_lexer": "ipython3",
   "version": "3.7.7"
  }
 },
 "nbformat": 4,
 "nbformat_minor": 4
}
