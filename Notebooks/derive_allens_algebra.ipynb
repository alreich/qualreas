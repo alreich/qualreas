{
 "cells": [
  {
   "cell_type": "markdown",
   "metadata": {},
   "source": [
    "# Derive Allen's Algebra"
   ]
  },
  {
   "cell_type": "markdown",
   "metadata": {},
   "source": [
    "<b>NOTE:</b> The code below derives Allen's original algebra of proper time intervals."
   ]
  },
  {
   "cell_type": "markdown",
   "metadata": {},
   "source": [
    "## References"
   ]
  },
  {
   "cell_type": "markdown",
   "metadata": {},
   "source": [
    "1. [\"Maintaining Knowledge about Temporal Intervals\" by J.F. Allen](https://cse.unl.edu/~choueiry/Documents/Allen-CACM1983.pdf) - Allen's original paper\n",
    "1. [Allen's Interval Algebra](https://www.ics.uci.edu/~alspaugh/cls/shr/allen.html) or [here](https://thomasalspaugh.org/pub/fnd/allen.html) - summarizes Allen's algebra of proper time intervals\n",
    "1. [\"Intervals, Points, and Branching Time\" by A.J. Reich](https://www.researchgate.net/publication/220810644_Intervals_Points_and_Branching_Time) - basis for the extensions here to Allen's algebra\n",
    "1. [W3C Time Ontology in OWL](https://www.w3.org/TR/owl-time/) - temporal vocabulary used here is based on the W3C vocabulary of time\n",
    "1. [bitsets Python package](https://bitsets.readthedocs.io/en/stable/) - used to implement Algebra relation sets and operations\n",
    "1. [NetworkX Python package](http://networkx.github.io/) - used to represent directed graph of constraints\n",
    "1. [Python format string syntax](https://docs.python.org/3/library/string.html#format-string-syntax) - used in Algebra summary method\n",
    "1. [Spatial Ontology](https://www.w3.org/2017/sdwig/bp/) - I'm still looking for a standard spatial vocabulary; maybe start here\n",
    "1. [Qualitative Spatial Relations (QSR) Library](https://qsrlib.readthedocs.io/en/latest/index.html) - an alternative library to the one defined here"
   ]
  },
  {
   "cell_type": "markdown",
   "metadata": {},
   "source": [
    "## Dependencies"
   ]
  },
  {
   "cell_type": "code",
   "execution_count": 1,
   "metadata": {},
   "outputs": [],
   "source": [
    "import os\n",
    "import qualreas as qr\n",
    "import numpy as np\n",
    "\n",
    "import sys"
   ]
  },
  {
   "cell_type": "code",
   "execution_count": 2,
   "metadata": {},
   "outputs": [],
   "source": [
    "sys.setrecursionlimit(10000)"
   ]
  },
  {
   "cell_type": "code",
   "execution_count": 3,
   "metadata": {},
   "outputs": [],
   "source": [
    "path = os.path.join(os.getenv('PYPROJ'), 'qualreas')"
   ]
  },
  {
   "cell_type": "markdown",
   "metadata": {},
   "source": [
    "## Deriving Allen's Interval Algebra from Basic Point Algebra"
   ]
  },
  {
   "cell_type": "markdown",
   "metadata": {},
   "source": [
    "### Basic Point Algebra"
   ]
  },
  {
   "cell_type": "code",
   "execution_count": 4,
   "metadata": {},
   "outputs": [],
   "source": [
    "pt_alg = qr.Algebra(os.path.join(path, \"Algebras/Linear_Point_Algebra.json\"))"
   ]
  },
  {
   "cell_type": "code",
   "execution_count": 5,
   "metadata": {},
   "outputs": [
    {
     "name": "stdout",
     "output_type": "stream",
     "text": [
      "  Algebra Name: Linear_Point_Algebra\n",
      "   Description: Linear Point Algebra\n",
      " Equality Rels: =\n",
      "     Relations:\n",
      "            NAME (SYMBOL)         CONVERSE (ABBREV)  REFLEXIVE  SYMMETRIC TRANSITIVE   DOMAIN        RANGE\n",
      "           LessThan (  <)         GreaterThan (  >)    False      False       True         Pt            Pt\n",
      "             Equals (  =)              Equals (  =)     True       True       True         Pt            Pt\n",
      "        GreaterThan (  >)            LessThan (  <)    False      False       True         Pt            Pt\n",
      "\n",
      "Domain & Range Abbreviations:\n",
      "   Pt = Point\n",
      " PInt = Proper Interval\n"
     ]
    }
   ],
   "source": [
    "pt_alg.summary()"
   ]
  },
  {
   "cell_type": "code",
   "execution_count": 6,
   "metadata": {},
   "outputs": [
    {
     "name": "stdout",
     "output_type": "stream",
     "text": [
      "Linear_Point_Algebra\n",
      "Elements: <, =, >\n",
      "==============================\n",
      " rel1 ; rel2 = composition\n",
      "==============================\n",
      "   <      <      <\n",
      "   <      =      <\n",
      "   <      >      <|=|>\n",
      "------------------------------\n",
      "   =      <      <\n",
      "   =      =      =\n",
      "   =      >      >\n",
      "------------------------------\n",
      "   >      <      <|=|>\n",
      "   >      =      >\n",
      "   >      >      >\n",
      "------------------------------\n"
     ]
    }
   ],
   "source": [
    "qr.print_point_algebra_composition_table(pt_alg)"
   ]
  },
  {
   "cell_type": "markdown",
   "metadata": {},
   "source": [
    "### Derive Allen's Algebra as a Dictionary"
   ]
  },
  {
   "cell_type": "markdown",
   "metadata": {},
   "source": [
    "The definition of <b>less than</b>, below, either restricts intervals to be proper ('<') or allows intervals to be degenerate ('=|<') (i.e., integrates points and intervals)."
   ]
  },
  {
   "cell_type": "code",
   "execution_count": 7,
   "metadata": {},
   "outputs": [],
   "source": [
    "#less_than_rel = '=|<'\n",
    "less_than_rel = '<'"
   ]
  },
  {
   "cell_type": "code",
   "execution_count": 8,
   "metadata": {},
   "outputs": [
    {
     "name": "stdout",
     "output_type": "stream",
     "text": [
      "==========================\n",
      "<,<,<,<\n",
      "B\n",
      "(['ProperInterval'], ['ProperInterval'])\n",
      "[['=' '<' '<' '<']\n",
      " ['>' '=' '<' '<']\n",
      " ['>' '>' '=' '<']\n",
      " ['>' '>' '>' '=']]\n",
      "==========================\n",
      "<,<,=,<\n",
      "M\n",
      "(['ProperInterval'], ['ProperInterval'])\n",
      "[['=' '<' '<' '<']\n",
      " ['>' '=' '=' '<']\n",
      " ['>' '=' '=' '<']\n",
      " ['>' '>' '>' '=']]\n",
      "==========================\n",
      "<,<,>,<\n",
      "O\n",
      "(['ProperInterval'], ['ProperInterval'])\n",
      "[['=' '<' '<' '<']\n",
      " ['>' '=' '>' '<']\n",
      " ['>' '<' '=' '<']\n",
      " ['>' '>' '>' '=']]\n",
      "==========================\n",
      "<,<,>,=\n",
      "FI\n",
      "(['ProperInterval'], ['ProperInterval'])\n",
      "[['=' '<' '<' '<']\n",
      " ['>' '=' '>' '=']\n",
      " ['>' '<' '=' '<']\n",
      " ['>' '=' '>' '=']]\n",
      "==========================\n",
      "<,<,>,>\n",
      "DI\n",
      "(['ProperInterval'], ['ProperInterval'])\n",
      "[['=' '<' '<' '<']\n",
      " ['>' '=' '>' '>']\n",
      " ['>' '<' '=' '<']\n",
      " ['>' '<' '>' '=']]\n",
      "==========================\n",
      "=,<,>,<\n",
      "S\n",
      "(['ProperInterval'], ['ProperInterval'])\n",
      "[['=' '<' '=' '<']\n",
      " ['>' '=' '>' '<']\n",
      " ['=' '<' '=' '<']\n",
      " ['>' '>' '>' '=']]\n",
      "==========================\n",
      "=,<,>,=\n",
      "E\n",
      "(['ProperInterval'], ['ProperInterval'])\n",
      "[['=' '<' '=' '<']\n",
      " ['>' '=' '>' '=']\n",
      " ['=' '<' '=' '<']\n",
      " ['>' '=' '>' '=']]\n",
      "==========================\n",
      "=,<,>,>\n",
      "SI\n",
      "(['ProperInterval'], ['ProperInterval'])\n",
      "[['=' '<' '=' '<']\n",
      " ['>' '=' '>' '>']\n",
      " ['=' '<' '=' '<']\n",
      " ['>' '<' '>' '=']]\n",
      "==========================\n",
      ">,<,>,<\n",
      "D\n",
      "(['ProperInterval'], ['ProperInterval'])\n",
      "[['=' '<' '>' '<']\n",
      " ['>' '=' '>' '<']\n",
      " ['<' '<' '=' '<']\n",
      " ['>' '>' '>' '=']]\n",
      "==========================\n",
      ">,<,>,=\n",
      "F\n",
      "(['ProperInterval'], ['ProperInterval'])\n",
      "[['=' '<' '>' '<']\n",
      " ['>' '=' '>' '=']\n",
      " ['<' '<' '=' '<']\n",
      " ['>' '=' '>' '=']]\n",
      "==========================\n",
      ">,<,>,>\n",
      "OI\n",
      "(['ProperInterval'], ['ProperInterval'])\n",
      "[['=' '<' '>' '<']\n",
      " ['>' '=' '>' '>']\n",
      " ['<' '<' '=' '<']\n",
      " ['>' '<' '>' '=']]\n",
      "==========================\n",
      ">,=,>,>\n",
      "MI\n",
      "(['ProperInterval'], ['ProperInterval'])\n",
      "[['=' '<' '>' '=']\n",
      " ['>' '=' '>' '>']\n",
      " ['<' '<' '=' '<']\n",
      " ['=' '<' '>' '=']]\n",
      "==========================\n",
      ">,>,>,>\n",
      "BI\n",
      "(['ProperInterval'], ['ProperInterval'])\n",
      "[['=' '<' '>' '>']\n",
      " ['>' '=' '>' '>']\n",
      " ['<' '<' '=' '<']\n",
      " ['<' '<' '>' '=']]\n",
      "\n",
      "13 consistent networks\n",
      "CPU times: user 869 ms, sys: 428 ms, total: 1.3 s\n",
      "Wall time: 714 ms\n"
     ]
    }
   ],
   "source": [
    "allen_alg_name = \"Derived_Allen_Algebra\"\n",
    "allen_alg_desc = \"Allens algebra derived from point relations\"\n",
    "\n",
    "verbose = True\n",
    "\n",
    "%time test_allen_alg_dict = qr.derive_algebra(pt_alg, less_than_rel, name=allen_alg_name, description=allen_alg_desc, verbose=verbose)"
   ]
  },
  {
   "cell_type": "code",
   "execution_count": 9,
   "metadata": {},
   "outputs": [
    {
     "data": {
      "text/plain": [
       "{'Name': 'Derived_Allen_Algebra',\n",
       " 'Description': 'Allens algebra derived from point relations',\n",
       " 'Relations': {'B': {'Name': 'Before',\n",
       "   'Converse': 'BI',\n",
       "   'Domain': ['ProperInterval'],\n",
       "   'Range': ['ProperInterval'],\n",
       "   'Reflexive': False,\n",
       "   'Symmetric': False,\n",
       "   'Transitive': True},\n",
       "  'BI': {'Name': 'After',\n",
       "   'Converse': 'B',\n",
       "   'Domain': ['ProperInterval'],\n",
       "   'Range': ['ProperInterval'],\n",
       "   'Reflexive': False,\n",
       "   'Symmetric': False,\n",
       "   'Transitive': True},\n",
       "  'D': {'Name': 'During',\n",
       "   'Converse': 'DI',\n",
       "   'Domain': ['ProperInterval'],\n",
       "   'Range': ['ProperInterval'],\n",
       "   'Reflexive': False,\n",
       "   'Symmetric': False,\n",
       "   'Transitive': True},\n",
       "  'DI': {'Name': 'Contains',\n",
       "   'Converse': 'D',\n",
       "   'Domain': ['ProperInterval'],\n",
       "   'Range': ['ProperInterval'],\n",
       "   'Reflexive': False,\n",
       "   'Symmetric': False,\n",
       "   'Transitive': True},\n",
       "  'E': {'Name': 'Equals',\n",
       "   'Converse': 'E',\n",
       "   'Domain': ['ProperInterval'],\n",
       "   'Range': ['ProperInterval'],\n",
       "   'Reflexive': True,\n",
       "   'Symmetric': True,\n",
       "   'Transitive': True},\n",
       "  'F': {'Name': 'Finishes',\n",
       "   'Converse': 'FI',\n",
       "   'Domain': ['ProperInterval'],\n",
       "   'Range': ['ProperInterval'],\n",
       "   'Reflexive': False,\n",
       "   'Symmetric': False,\n",
       "   'Transitive': True},\n",
       "  'FI': {'Name': 'Finished-by',\n",
       "   'Converse': 'F',\n",
       "   'Domain': ['ProperInterval'],\n",
       "   'Range': ['ProperInterval'],\n",
       "   'Reflexive': False,\n",
       "   'Symmetric': False,\n",
       "   'Transitive': True},\n",
       "  'M': {'Name': 'Meets',\n",
       "   'Converse': 'MI',\n",
       "   'Domain': ['ProperInterval'],\n",
       "   'Range': ['ProperInterval'],\n",
       "   'Reflexive': False,\n",
       "   'Symmetric': False,\n",
       "   'Transitive': False},\n",
       "  'MI': {'Name': 'Met-By',\n",
       "   'Converse': 'M',\n",
       "   'Domain': ['ProperInterval'],\n",
       "   'Range': ['ProperInterval'],\n",
       "   'Reflexive': False,\n",
       "   'Symmetric': False,\n",
       "   'Transitive': False},\n",
       "  'O': {'Name': 'Overlaps',\n",
       "   'Converse': 'OI',\n",
       "   'Domain': ['ProperInterval'],\n",
       "   'Range': ['ProperInterval'],\n",
       "   'Reflexive': False,\n",
       "   'Symmetric': False,\n",
       "   'Transitive': False},\n",
       "  'OI': {'Name': 'Overlapped-By',\n",
       "   'Converse': 'O',\n",
       "   'Domain': ['ProperInterval'],\n",
       "   'Range': ['ProperInterval'],\n",
       "   'Reflexive': False,\n",
       "   'Symmetric': False,\n",
       "   'Transitive': False},\n",
       "  'S': {'Name': 'Starts',\n",
       "   'Converse': 'SI',\n",
       "   'Domain': ['ProperInterval'],\n",
       "   'Range': ['ProperInterval'],\n",
       "   'Reflexive': False,\n",
       "   'Symmetric': False,\n",
       "   'Transitive': True},\n",
       "  'SI': {'Name': 'Started-By',\n",
       "   'Converse': 'S',\n",
       "   'Domain': ['ProperInterval'],\n",
       "   'Range': ['ProperInterval'],\n",
       "   'Reflexive': False,\n",
       "   'Symmetric': False,\n",
       "   'Transitive': True}},\n",
       " 'TransTable': {'B': {'B': 'B',\n",
       "   'BI': 'B|BI|D|DI|E|F|FI|M|MI|O|OI|S|SI',\n",
       "   'D': 'B|D|M|O|S',\n",
       "   'DI': 'B',\n",
       "   'E': 'B',\n",
       "   'F': 'B|D|M|O|S',\n",
       "   'FI': 'B',\n",
       "   'M': 'B',\n",
       "   'MI': 'B|D|M|O|S',\n",
       "   'O': 'B',\n",
       "   'OI': 'B|D|M|O|S',\n",
       "   'S': 'B',\n",
       "   'SI': 'B'},\n",
       "  'BI': {'B': 'B|BI|D|DI|E|F|FI|M|MI|O|OI|S|SI',\n",
       "   'BI': 'BI',\n",
       "   'D': 'BI|D|F|MI|OI',\n",
       "   'DI': 'BI',\n",
       "   'E': 'BI',\n",
       "   'F': 'BI',\n",
       "   'FI': 'BI',\n",
       "   'M': 'BI|D|F|MI|OI',\n",
       "   'MI': 'BI',\n",
       "   'O': 'BI|D|F|MI|OI',\n",
       "   'OI': 'BI',\n",
       "   'S': 'BI|D|F|MI|OI',\n",
       "   'SI': 'BI'},\n",
       "  'D': {'B': 'B',\n",
       "   'BI': 'BI',\n",
       "   'D': 'D',\n",
       "   'DI': 'B|BI|D|DI|E|F|FI|M|MI|O|OI|S|SI',\n",
       "   'E': 'D',\n",
       "   'F': 'D',\n",
       "   'FI': 'B|D|M|O|S',\n",
       "   'M': 'B',\n",
       "   'MI': 'BI',\n",
       "   'O': 'B|D|M|O|S',\n",
       "   'OI': 'BI|D|F|MI|OI',\n",
       "   'S': 'D',\n",
       "   'SI': 'BI|D|F|MI|OI'},\n",
       "  'DI': {'B': 'B|DI|FI|M|O',\n",
       "   'BI': 'BI|DI|MI|OI|SI',\n",
       "   'D': 'D|DI|E|F|FI|O|OI|S|SI',\n",
       "   'DI': 'DI',\n",
       "   'E': 'DI',\n",
       "   'F': 'DI|OI|SI',\n",
       "   'FI': 'DI',\n",
       "   'M': 'DI|FI|O',\n",
       "   'MI': 'DI|OI|SI',\n",
       "   'O': 'DI|FI|O',\n",
       "   'OI': 'DI|OI|SI',\n",
       "   'S': 'DI|FI|O',\n",
       "   'SI': 'DI'},\n",
       "  'E': {'B': 'B',\n",
       "   'BI': 'BI',\n",
       "   'D': 'D',\n",
       "   'DI': 'DI',\n",
       "   'E': 'E',\n",
       "   'F': 'F',\n",
       "   'FI': 'FI',\n",
       "   'M': 'M',\n",
       "   'MI': 'MI',\n",
       "   'O': 'O',\n",
       "   'OI': 'OI',\n",
       "   'S': 'S',\n",
       "   'SI': 'SI'},\n",
       "  'F': {'B': 'B',\n",
       "   'BI': 'BI',\n",
       "   'D': 'D',\n",
       "   'DI': 'BI|DI|MI|OI|SI',\n",
       "   'E': 'F',\n",
       "   'F': 'F',\n",
       "   'FI': 'E|F|FI',\n",
       "   'M': 'M',\n",
       "   'MI': 'BI',\n",
       "   'O': 'D|O|S',\n",
       "   'OI': 'BI|MI|OI',\n",
       "   'S': 'D',\n",
       "   'SI': 'BI|MI|OI'},\n",
       "  'FI': {'B': 'B',\n",
       "   'BI': 'BI|DI|MI|OI|SI',\n",
       "   'D': 'D|O|S',\n",
       "   'DI': 'DI',\n",
       "   'E': 'FI',\n",
       "   'F': 'E|F|FI',\n",
       "   'FI': 'FI',\n",
       "   'M': 'M',\n",
       "   'MI': 'DI|OI|SI',\n",
       "   'O': 'O',\n",
       "   'OI': 'DI|OI|SI',\n",
       "   'S': 'O',\n",
       "   'SI': 'DI'},\n",
       "  'M': {'B': 'B',\n",
       "   'BI': 'BI|DI|MI|OI|SI',\n",
       "   'D': 'D|O|S',\n",
       "   'DI': 'B',\n",
       "   'E': 'M',\n",
       "   'F': 'D|O|S',\n",
       "   'FI': 'B',\n",
       "   'M': 'B',\n",
       "   'MI': 'E|F|FI',\n",
       "   'O': 'B',\n",
       "   'OI': 'D|O|S',\n",
       "   'S': 'M',\n",
       "   'SI': 'M'},\n",
       "  'MI': {'B': 'B|DI|FI|M|O',\n",
       "   'BI': 'BI',\n",
       "   'D': 'D|F|OI',\n",
       "   'DI': 'BI',\n",
       "   'E': 'MI',\n",
       "   'F': 'MI',\n",
       "   'FI': 'MI',\n",
       "   'M': 'E|S|SI',\n",
       "   'MI': 'BI',\n",
       "   'O': 'D|F|OI',\n",
       "   'OI': 'BI',\n",
       "   'S': 'D|F|OI',\n",
       "   'SI': 'BI'},\n",
       "  'O': {'B': 'B',\n",
       "   'BI': 'BI|DI|MI|OI|SI',\n",
       "   'D': 'D|O|S',\n",
       "   'DI': 'B|DI|FI|M|O',\n",
       "   'E': 'O',\n",
       "   'F': 'D|O|S',\n",
       "   'FI': 'B|M|O',\n",
       "   'M': 'B',\n",
       "   'MI': 'DI|OI|SI',\n",
       "   'O': 'B|M|O',\n",
       "   'OI': 'D|DI|E|F|FI|O|OI|S|SI',\n",
       "   'S': 'O',\n",
       "   'SI': 'DI|FI|O'},\n",
       "  'OI': {'B': 'B|DI|FI|M|O',\n",
       "   'BI': 'BI',\n",
       "   'D': 'D|F|OI',\n",
       "   'DI': 'BI|DI|MI|OI|SI',\n",
       "   'E': 'OI',\n",
       "   'F': 'OI',\n",
       "   'FI': 'DI|OI|SI',\n",
       "   'M': 'DI|FI|O',\n",
       "   'MI': 'BI',\n",
       "   'O': 'D|DI|E|F|FI|O|OI|S|SI',\n",
       "   'OI': 'BI|MI|OI',\n",
       "   'S': 'D|F|OI',\n",
       "   'SI': 'BI|MI|OI'},\n",
       "  'S': {'B': 'B',\n",
       "   'BI': 'BI',\n",
       "   'D': 'D',\n",
       "   'DI': 'B|DI|FI|M|O',\n",
       "   'E': 'S',\n",
       "   'F': 'D',\n",
       "   'FI': 'B|M|O',\n",
       "   'M': 'B',\n",
       "   'MI': 'MI',\n",
       "   'O': 'B|M|O',\n",
       "   'OI': 'D|F|OI',\n",
       "   'S': 'S',\n",
       "   'SI': 'E|S|SI'},\n",
       "  'SI': {'B': 'B|DI|FI|M|O',\n",
       "   'BI': 'BI',\n",
       "   'D': 'D|F|OI',\n",
       "   'DI': 'DI',\n",
       "   'E': 'SI',\n",
       "   'F': 'OI',\n",
       "   'FI': 'DI',\n",
       "   'M': 'DI|FI|O',\n",
       "   'MI': 'MI',\n",
       "   'O': 'DI|FI|O',\n",
       "   'OI': 'OI',\n",
       "   'S': 'E|S|SI',\n",
       "   'SI': 'SI'}}}"
      ]
     },
     "execution_count": 9,
     "metadata": {},
     "output_type": "execute_result"
    }
   ],
   "source": [
    "test_allen_alg_dict"
   ]
  },
  {
   "cell_type": "markdown",
   "metadata": {},
   "source": [
    "### Save Algebra Dictionary to JSON File"
   ]
  },
  {
   "cell_type": "code",
   "execution_count": 10,
   "metadata": {},
   "outputs": [
    {
     "data": {
      "text/plain": [
       "'/Users/alfredreich/Documents/Python/github/myrepos/qualreas/Algebras/test_derived_allen_algebra.json'"
      ]
     },
     "execution_count": 10,
     "metadata": {},
     "output_type": "execute_result"
    }
   ],
   "source": [
    "test_allen_json_path = os.path.join(path, \"Algebras/test_derived_allen_algebra.json\")\n",
    "test_allen_json_path"
   ]
  },
  {
   "cell_type": "code",
   "execution_count": 11,
   "metadata": {},
   "outputs": [],
   "source": [
    "qr.algebra_to_json_file(test_allen_alg_dict, test_allen_json_path)"
   ]
  },
  {
   "cell_type": "markdown",
   "metadata": {},
   "source": [
    "### Instantiate an Algebra Object from JSON File"
   ]
  },
  {
   "cell_type": "code",
   "execution_count": 12,
   "metadata": {},
   "outputs": [
    {
     "data": {
      "text/plain": [
       "<qualreas.Algebra at 0x7feb4892fd60>"
      ]
     },
     "execution_count": 12,
     "metadata": {},
     "output_type": "execute_result"
    }
   ],
   "source": [
    "test_allen_alg = qr.Algebra(test_allen_json_path)\n",
    "test_allen_alg"
   ]
  },
  {
   "cell_type": "code",
   "execution_count": 13,
   "metadata": {},
   "outputs": [
    {
     "name": "stdout",
     "output_type": "stream",
     "text": [
      "  Algebra Name: Derived_Allen_Algebra\n",
      "   Description: Allens algebra derived from point relations\n",
      " Equality Rels: E\n",
      "     Relations:\n",
      "            NAME (SYMBOL)         CONVERSE (ABBREV)  REFLEXIVE  SYMMETRIC TRANSITIVE   DOMAIN        RANGE\n",
      "             Before (  B)               After ( BI)    False      False       True       PInt          PInt\n",
      "              After ( BI)              Before (  B)    False      False       True       PInt          PInt\n",
      "             During (  D)            Contains ( DI)    False      False       True       PInt          PInt\n",
      "           Contains ( DI)              During (  D)    False      False       True       PInt          PInt\n",
      "             Equals (  E)              Equals (  E)     True       True       True       PInt          PInt\n",
      "           Finishes (  F)         Finished-by ( FI)    False      False       True       PInt          PInt\n",
      "        Finished-by ( FI)            Finishes (  F)    False      False       True       PInt          PInt\n",
      "              Meets (  M)              Met-By ( MI)    False      False      False       PInt          PInt\n",
      "             Met-By ( MI)               Meets (  M)    False      False      False       PInt          PInt\n",
      "           Overlaps (  O)       Overlapped-By ( OI)    False      False      False       PInt          PInt\n",
      "      Overlapped-By ( OI)            Overlaps (  O)    False      False      False       PInt          PInt\n",
      "             Starts (  S)          Started-By ( SI)    False      False       True       PInt          PInt\n",
      "         Started-By ( SI)              Starts (  S)    False      False       True       PInt          PInt\n",
      "\n",
      "Domain & Range Abbreviations:\n",
      "   Pt = Point\n",
      " PInt = Proper Interval\n"
     ]
    }
   ],
   "source": [
    "test_allen_alg.summary()"
   ]
  },
  {
   "cell_type": "code",
   "execution_count": 14,
   "metadata": {},
   "outputs": [
    {
     "data": {
      "text/plain": [
       "True"
      ]
     },
     "execution_count": 14,
     "metadata": {},
     "output_type": "execute_result"
    }
   ],
   "source": [
    "test_allen_alg.check_composition_identity()"
   ]
  },
  {
   "cell_type": "code",
   "execution_count": 15,
   "metadata": {},
   "outputs": [
    {
     "name": "stdout",
     "output_type": "stream",
     "text": [
      "TEST SUMMARY: 2197 OK, 0 Skipped, 0 Failed (2197 Total)\n"
     ]
    },
    {
     "data": {
      "text/plain": [
       "True"
      ]
     },
     "execution_count": 15,
     "metadata": {},
     "output_type": "execute_result"
    }
   ],
   "source": [
    "test_allen_alg.is_associative()"
   ]
  },
  {
   "cell_type": "markdown",
   "metadata": {},
   "source": [
    "### Load Original Allen's Algebra"
   ]
  },
  {
   "cell_type": "code",
   "execution_count": 16,
   "metadata": {},
   "outputs": [
    {
     "data": {
      "text/plain": [
       "<qualreas.Algebra at 0x7feb4892f430>"
      ]
     },
     "execution_count": 16,
     "metadata": {},
     "output_type": "execute_result"
    }
   ],
   "source": [
    "allen_alg = qr.Algebra(os.path.join(path, \"Algebras/Linear_Interval_Algebra.json\"))\n",
    "allen_alg"
   ]
  },
  {
   "cell_type": "code",
   "execution_count": 17,
   "metadata": {},
   "outputs": [
    {
     "name": "stdout",
     "output_type": "stream",
     "text": [
      "  Algebra Name: Linear_Interval_Algebra\n",
      "   Description: Allen's algebra of proper time intervals\n",
      " Equality Rels: E\n",
      "     Relations:\n",
      "            NAME (SYMBOL)         CONVERSE (ABBREV)  REFLEXIVE  SYMMETRIC TRANSITIVE   DOMAIN        RANGE\n",
      "             Before (  B)               After ( BI)    False      False       True       PInt          PInt\n",
      "              After ( BI)              Before (  B)    False      False       True       PInt          PInt\n",
      "             During (  D)            Contains ( DI)    False      False       True       PInt          PInt\n",
      "           Contains ( DI)              During (  D)    False      False       True       PInt          PInt\n",
      "             Equals (  E)              Equals (  E)     True       True       True       PInt          PInt\n",
      "           Finishes (  F)         Finished-by ( FI)    False      False       True       PInt          PInt\n",
      "        Finished-by ( FI)            Finishes (  F)    False      False       True       PInt          PInt\n",
      "              Meets (  M)              Met-By ( MI)    False      False      False       PInt          PInt\n",
      "             Met-By ( MI)               Meets (  M)    False      False      False       PInt          PInt\n",
      "           Overlaps (  O)       Overlapped-By ( OI)    False      False      False       PInt          PInt\n",
      "      Overlapped-By ( OI)            Overlaps (  O)    False      False      False       PInt          PInt\n",
      "             Starts (  S)          Started-By ( SI)    False      False       True       PInt          PInt\n",
      "         Started-By ( SI)              Starts (  S)    False      False       True       PInt          PInt\n",
      "\n",
      "Domain & Range Abbreviations:\n",
      "   Pt = Point\n",
      " PInt = Proper Interval\n"
     ]
    }
   ],
   "source": [
    "allen_alg.summary()"
   ]
  },
  {
   "cell_type": "markdown",
   "metadata": {},
   "source": [
    "### Compare Derived Allen Algebra with Original"
   ]
  },
  {
   "cell_type": "code",
   "execution_count": 18,
   "metadata": {},
   "outputs": [
    {
     "name": "stdout",
     "output_type": "stream",
     "text": [
      "Same as original algebra? True\n"
     ]
    }
   ],
   "source": [
    "print(f\"Same as original algebra? {allen_alg.equivalent_algebra(test_allen_alg)}\")"
   ]
  }
 ],
 "metadata": {
  "kernelspec": {
   "display_name": "Python 3 (ipykernel)",
   "language": "python",
   "name": "python3"
  },
  "language_info": {
   "codemirror_mode": {
    "name": "ipython",
    "version": 3
   },
   "file_extension": ".py",
   "mimetype": "text/x-python",
   "name": "python",
   "nbconvert_exporter": "python",
   "pygments_lexer": "ipython3",
   "version": "3.9.16"
  }
 },
 "nbformat": 4,
 "nbformat_minor": 2
}
