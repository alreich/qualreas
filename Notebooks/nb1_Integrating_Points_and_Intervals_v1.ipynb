{
 "cells": [
  {
   "cell_type": "markdown",
   "metadata": {},
   "source": [
    "# Integrating Time Points and Time Intervals"
   ]
  },
  {
   "cell_type": "markdown",
   "metadata": {},
   "source": [
    "<i>Version 1</i>"
   ]
  },
  {
   "cell_type": "code",
   "execution_count": 1,
   "metadata": {},
   "outputs": [],
   "source": [
    "import qualreas as qr"
   ]
  },
  {
   "cell_type": "markdown",
   "metadata": {},
   "source": [
    "## References"
   ]
  },
  {
   "cell_type": "markdown",
   "metadata": {},
   "source": [
    "* Allen, James F. (26 November 1983). <b>\"Maintaining knowledge about temporal intervals\"</b>. Communications of the ACM. 26 (11): 832–843.\n",
    "    * [PDF](http://cse.unl.edu/~choueiry/Documents/Allen-CACM1983.pdf)\n",
    "* Reich, Alfred J. (1994). <b>“Intervals, Points, and Branching Time.”</b> 121-133.\n",
    "    * Published in TIME 1994: An International Workshop on Temporal Representation and Reasoning.\n",
    "    * <b>ABSTRACT.</b> This paper extends Allen's interval algebra to include points and either left or right-branching time. The branching time algebras each contain 24 relations: Allen's original 13 relations, 5 more relations resulting from the inclusion of points, and 6 relations because of the inclusion of branching time. The paper also presents: (1) A technique for automatically deriving algebras of relations; (2) a way of representing temporal constraint networks using constraint matrices; and (3) a way of performing constraint propagation using constraint matrix multiplication.\n",
    "    * <b>PDFs</b> are available at the following locations:\n",
    "        * [ResearchGate](https://www.researchgate.net/publication/220810644_Intervals_Points_and_Branching_Time) (Includes a supplementary file containing algebras in structured text form.)\n",
    "        * [SemanticScholar](https://www.semanticscholar.org/paper/Intervals%2C-Points%2C-and-Branching-Time-Reich/a12eca974573c812d696f3d0a58bccb171a8c39d)\n",
    "        * [Time-94](http://www2.cs.uregina.ca/~temporal/time94/reich.pdf)"
   ]
  },
  {
   "cell_type": "markdown",
   "metadata": {},
   "source": [
    "### An Interval & Point Algebra"
   ]
  },
  {
   "cell_type": "markdown",
   "metadata": {},
   "source": [
    "Allen's original algebra of time pertains only to proper intervals.  That is, the domains and ranges of each of his 13 relations are proper time intervals.  Degenerate intervals (i.e., time points) are not permitted.\n",
    "\n",
    "The Interval & Point algebra, described in [Reich 1994] and illustrated in this notebook, extends Allen's algebra by adding 5 new relations and modifying the domains and ranges of the relations to include, not only proper intervals, but also time points (i.e., degenerate intervals).\n",
    "\n",
    "<p>Each of the 5 new relations have something to do with time points and so their abbreviated name starts with the letter 'P'.</p>"
   ]
  },
  {
   "cell_type": "code",
   "execution_count": 8,
   "metadata": {},
   "outputs": [
    {
     "data": {
      "text/plain": [
       "relset(['B', 'BI', 'D', 'DI', 'E', 'F', 'FI', 'M', 'MI', 'O', 'OI', 'PE', 'PF', 'PFI', 'PS', 'PSI', 'S', 'SI'])"
      ]
     },
     "execution_count": 8,
     "metadata": {},
     "output_type": "execute_result"
    }
   ],
   "source": [
    "import os\n",
    "path = os.path.join(os.getenv('PYPROJ'), 'qualreas/Algebras')\n",
    "allenX = qr.Algebra(os.path.join(path, 'ExtendedLinearIntervalAlgebra.json'))\n",
    "allenX.elements"
   ]
  },
  {
   "cell_type": "markdown",
   "metadata": {},
   "source": [
    "Of Allen's original 13 relations, 9 stay the same here with respect to their domains and ranges (that is, they apply to proper intervals only), 4 have their domain, range, or both modified, and 5 are entirely new.  See the last two columns of the table in the next cell, below."
   ]
  },
  {
   "cell_type": "code",
   "execution_count": 11,
   "metadata": {},
   "outputs": [
    {
     "name": "stdout",
     "output_type": "stream",
     "text": [
      "  Algebra Name: ExtendedLinearIntervalAlgebra\n",
      "   Description: Extension of Allen's algebra to include Instants\n",
      " Equality Rels: E|PE\n",
      "     Relations:\n",
      "            NAME (ABBREV)         CONVERSE (ABBREV)  REFLEXIVE  SYMMETRIC TRANSITIVE   DOMAIN        RANGE\n",
      "             Before (  B)               After ( BI)    False      False       True    Pt|PInt       Pt|PInt\n",
      "              After ( BI)              Before (  B)    False      False       True    Pt|PInt       Pt|PInt\n",
      "             During (  D)            Contains ( DI)    False      False       True    Pt|PInt          PInt\n",
      "           Contains ( DI)              During (  D)    False      False       True       PInt       Pt|PInt\n",
      "             Equals (  E)              Equals (  E)     True       True       True       PInt          PInt\n",
      "           Finishes (  F)         Finished-by ( FI)    False      False       True       PInt          PInt\n",
      "        Finished-by ( FI)            Finishes (  F)    False      False       True       PInt          PInt\n",
      "              Meets (  M)              Met-By ( MI)    False      False      False       PInt          PInt\n",
      "             Met-By ( MI)               Meets (  M)    False      False      False       PInt          PInt\n",
      "           Overlaps (  O)       Overlapped-By ( OI)    False      False      False       PInt          PInt\n",
      "      Overlapped-By ( OI)            Overlaps (  O)    False      False      False       PInt          PInt\n",
      "       Point-Equals ( PE)        Point-Equals ( PE)     True       True       True         Pt            Pt\n",
      "     Point-Finishes ( PF)   Point-Finished-By (PFI)    False      False      False         Pt          PInt\n",
      "  Point-Finished-By (PFI)      Point-Finishes ( PF)    False      False      False       PInt            Pt\n",
      "       Point-Starts ( PS)    Point-Started-By (PSI)    False      False      False         Pt          PInt\n",
      "   Point-Started-By (PSI)        Point-Starts ( PS)    False      False      False       PInt            Pt\n",
      "             Starts (  S)          Started-By ( SI)    False      False       True       PInt          PInt\n",
      "         Started-By ( SI)              Starts (  S)    False      False       True       PInt          PInt\n",
      "\n",
      "Domain & Range Abbreviations:\n",
      "   Pt = Point\n",
      " PInt = Proper Interval\n"
     ]
    }
   ],
   "source": [
    "allenX.summary()"
   ]
  },
  {
   "cell_type": "markdown",
   "metadata": {},
   "source": [
    "Create the singleton relation sets, {Before} and {Met-By} for this algebra and compute their product. Comparing this to the same calculation for Allen's algebra (previous notebook) we see that an additional relation, PS, appears in the resulting relset."
   ]
  },
  {
   "cell_type": "code",
   "execution_count": 14,
   "metadata": {},
   "outputs": [
    {
     "name": "stdout",
     "output_type": "stream",
     "text": [
      "B|D|M|O|PS|S\n"
     ]
    }
   ],
   "source": [
    "B = allenX.relset([\"B\"])\n",
    "MI = allenX.relset([\"MI\"])\n",
    "BxMI = allenX.compose(B, MI)\n",
    "print(BxMI)"
   ]
  },
  {
   "cell_type": "markdown",
   "metadata": {},
   "source": [
    "### Multiplication is Still Not Commutative"
   ]
  },
  {
   "cell_type": "code",
   "execution_count": 21,
   "metadata": {},
   "outputs": [
    {
     "name": "stdout",
     "output_type": "stream",
     "text": [
      "MI x B = B|DI|FI|M|O|PFI\n",
      "B x MI = B|D|M|O|PS|S\n",
      "MI x B == B x MI ? False\n"
     ]
    }
   ],
   "source": [
    "MIxB = allenX.compose(MI, B)\n",
    "print(f\"MI x B = {MIxB}\")\n",
    "\n",
    "BxMI = allenX.compose(B, MI)\n",
    "print(f\"B x MI = {BxMI}\")\n",
    "\n",
    "print(f\"MI x B == B x MI ? {MIxB == BxMI}\")"
   ]
  },
  {
   "cell_type": "code",
   "execution_count": 24,
   "metadata": {},
   "outputs": [
    {
     "name": "stdout",
     "output_type": "stream",
     "text": [
      "MI x F = MI\n",
      "F x MI = BI\n",
      "MI x F == F x MI ? False\n"
     ]
    }
   ],
   "source": [
    "F = allenX.relset([\"F\"])\n",
    "\n",
    "MIxF = allenX.compose(MI, F)\n",
    "print(f\"MI x F = {MIxF}\")\n",
    "\n",
    "FxMI = allenX.compose(F, MI)\n",
    "print(f\"F x MI = {FxMI}\")\n",
    "\n",
    "print(f\"MI x F == F x MI ? {MIxF == FxMI}\")"
   ]
  },
  {
   "cell_type": "markdown",
   "metadata": {},
   "source": [
    "### Equality Relations"
   ]
  },
  {
   "cell_type": "markdown",
   "metadata": {},
   "source": [
    "Allen's algebra has only one identity element, E, because it deals with only one class of temporal entity, the <i>proper interval</i>.\n",
    "\n",
    "<p>The <i>Interval and Point Algebra</i>, on the other hand, deals with two types of temporal entities, and so it has an equality relation for each one, intervals and points.  Note that intervals here can be degenerate (i.e., equivalent to a point).  This means that the relation <i>E</i> in Allen's algebra is not quite the same as the relation <i>E</i> in the Interval and Point Algebra, since the latter handles degenerate intervals, whereas the former only applies to proper intervals\n",
    "\n",
    "<p>The equality relations of an algebra are important when propagating contraints, so there is an Algebra property that returns a list of its equality relations:"
   ]
  },
  {
   "cell_type": "code",
   "execution_count": 25,
   "metadata": {},
   "outputs": [
    {
     "name": "stdout",
     "output_type": "stream",
     "text": [
      "The Interval & Point Algebra's equality relations: E|PE\n"
     ]
    }
   ],
   "source": [
    "print(f\"The Interval & Point Algebra's equality relations: {allenX.all_equality_relations}\")"
   ]
  },
  {
   "cell_type": "markdown",
   "metadata": {},
   "source": [
    "## Associativity"
   ]
  },
  {
   "cell_type": "markdown",
   "metadata": {},
   "source": [
    "### Example: {PS} x {B} x {D}"
   ]
  },
  {
   "cell_type": "markdown",
   "metadata": {},
   "source": [
    "Associativity does not hold for this example as shown below:"
   ]
  },
  {
   "cell_type": "code",
   "execution_count": 41,
   "metadata": {},
   "outputs": [
    {
     "name": "stdout",
     "output_type": "stream",
     "text": [
      "(PS * B) * D\n",
      "= B * D\n",
      "= B|D|M|O|PS|S\n",
      "\n",
      "PS * (B * D)\n",
      "= PS * B|D|M|O|PS|S\n",
      "= B|D|PS\n"
     ]
    }
   ],
   "source": [
    "PS = allenX.relset([\"PS\"])\n",
    "B = allenX.relset([\"B\"])\n",
    "D = allenX.relset([\"D\"])\n",
    "PSxB = allenX.compose(PS,B)\n",
    "print(f\"({PS} * {B}) * {D}\")\n",
    "print(f\"= {PSxB} * {D}\")\n",
    "print(f\"= {allenX.compose(PSxB, D)}\")\n",
    "\n",
    "BxD = allenX.compose(B, D)\n",
    "print(f\"\\n{PS} * ({B} * {D})\")\n",
    "print(f\"= {PS} * {BxD}\")\n",
    "print(f\"= {allenX.compose(PS, BxD)}\")"
   ]
  }
 ],
 "metadata": {
  "kernelspec": {
   "display_name": "Python 3",
   "language": "python",
   "name": "python3"
  },
  "language_info": {
   "codemirror_mode": {
    "name": "ipython",
    "version": 3
   },
   "file_extension": ".py",
   "mimetype": "text/x-python",
   "name": "python",
   "nbconvert_exporter": "python",
   "pygments_lexer": "ipython3",
   "version": "3.7.3"
  }
 },
 "nbformat": 4,
 "nbformat_minor": 1
}
