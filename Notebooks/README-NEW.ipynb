{
 "cells": [
  {
   "cell_type": "markdown",
   "metadata": {},
   "source": [
    "# Qualitative Reasoning (\"qualreas\")"
   ]
  },
  {
   "cell_type": "markdown",
   "metadata": {},
   "source": [
    "The Python module, <b>qualreas</b>, provides a framework for working with the class of <b>Relation Algebras</b> like [Allen's Algebra of Time Intervals](https://en.wikipedia.org/wiki/Allen%27s_interval_algebra) and the [Region Connection Calculus (RCC)](https://en.wikipedia.org/wiki/Region_connection_calculus).  Specifically, <i>qualreas</i> provides a representation of <b>Constraint Networks</b> where the nodes represent <b>Entities</b> (Spatial, Temporal, or whatever) and the edges are labelled with <b>Relation Sets</b> (<i>relsets</i>) that represent spatio-temporal constraints between the entities.\n",
    "\n",
    "The constraint networks in qualreas can be <b>propagated</b> to achieve <b>path consistency</b> and they can be \"factored\" into <b>consistent singleton networks</b>.\n",
    "\n",
    "Algebras and Networks in qualreas can be read from, or written to, <b>JSON</b> or Python dictionary formats.\n",
    "\n",
    "The functionality of <i>qualreas</i> is based on the following papers:\n",
    "\n",
    "1. [[Allen, 1983] \"Maintaining Knowledge about Temporal Intervals\" by James F. Allen](https://cse.unl.edu/~choueiry/Documents/Allen-CACM1983.pdf) - Allen's original paper (PDF)\n",
    "1. [[Randell, 1992] \"A Spatial Logic based on Regions and Connection\" by David A. Randell, Zhan Cui, and Anthony G. Cohn](https://www.researchgate.net/publication/221393453_A_Spatial_Logic_based_on_Regions_and_Connection) - Region Connection Calculus (RCC)\n",
    "1. [[Reich, 1994] \"Intervals, Points, and Branching Time\" by Alfred J. Reich](https://www.researchgate.net/publication/220810644_Intervals_Points_and_Branching_Time) - basis for the point & branching time extensions to Allen's algebra"
   ]
  },
  {
   "cell_type": "markdown",
   "metadata": {},
   "source": [
    "## Installation & Setup"
   ]
  },
  {
   "cell_type": "markdown",
   "metadata": {},
   "source": [
    "All but one of the Python packages that <i>qualreas</i> requires will be taken care of if the [Anaconda Python distribution for individuals](https://www.anaconda.com/products/individual) is used.\n",
    "\n",
    "The one additional dependency required is the [bitsets package](https://bitsets.readthedocs.io/en/stable/#). It can be installed by executing the following command:\n",
    "\n",
    "> pip install bitsets\n",
    "\n",
    "Use <b>git</b> to clone the <b>qualreas</b> respository.\n",
    "\n",
    "Setup an environment variable, <b>PYPROJ</b>, that points to the parent directory of <b>qualreas</b>.\n",
    "\n",
    "Then execute the following command:\n",
    "\n",
    "> python $PYPROJ/qualreas/src/qualreas.py\n",
    "\n",
    "This should generate output that ends with the words, END OF TESTS."
   ]
  },
  {
   "cell_type": "markdown",
   "metadata": {},
   "source": [
    "## EXAMPLES <a class=\"anchor\" id=\"examples\"></a>"
   ]
  },
  {
   "cell_type": "markdown",
   "metadata": {},
   "source": [
    "In the following Jupyter Notebook examples, <b>two different types</b> of contraint algebras are demonstrated:\n",
    "1. The spatial constraint algebra, [Region Connection Calculus 8 (RCC8)](https://en.wikipedia.org/wiki/Region_connection_calculus)\n",
    "1. The temporal interval & point algebra defined by Reich in [\"Intervals, Points, and Branching Time\", 1994](https://www.researchgate.net/publication/220810644_Intervals_Points_and_Branching_Time)\n",
    "\n",
    "The examples provide brief demonstrations of a <i>qualreas</i> <b>Constraint Network</b> can be...\n",
    "* represented in JSON or Python dictionary formats\n",
    "* instantiated from a JSON file or Python dictionary\n",
    "* serialized to a JSON file/string or Python dictionary\n",
    "* summarized\n",
    "* propagated\n",
    "* queried for details about node and edge attributes\n",
    "* used to generate all consistent singleton labellings when multiple constraints (relations) are involved\n",
    "\n",
    "A brief look at Algebras and their components and methods is provided also."
   ]
  },
  {
   "cell_type": "markdown",
   "metadata": {},
   "source": [
    "## Constraint Network in JSON Format <a class=\"anchor\" id=\"network_format\"></a>"
   ]
  },
  {
   "cell_type": "markdown",
   "metadata": {},
   "source": [
    "Here's what a network looks like in JSON format.\n",
    "\n",
    "A node is represented as a list of two things:\n",
    "1. Node ID (i.e., Node Name)\n",
    "1. List of ontology classes the node belongs to (e.g., \"ProperInterval\", \"Region\")\n",
    "\n",
    "> NOTE: Networks that are based on simple relation algebras, such as Allen's Interval Algebra and the Region Connection Calculus, only involve relations among <i>entities</i> that are all from the same ontology class, such as Proper Time Intervals or Spatial Regions.  So, the <b>ontology classes of entities being related by the relations</b> does not need to be considered when, for example, composing relations.  However, when ontology classes are integrated, such as Proper Time Intervals and Time Points, then the ontology classes of the entities being related become important.\n",
    "\n",
    "An edge is represented as a list of three things, representing a directed edge, labeled with a constraint:\n",
    "1. Tail Node ID\n",
    "1. Head Node ID\n",
    "1. Constraint\n",
    "\n",
    "See graphical depiction below:"
   ]
  },
  {
   "cell_type": "code",
   "execution_count": 5,
   "metadata": {},
   "outputs": [
    {
     "data": {
      "image/png": "[encoded data removed]",
      "text/plain": [
       "<IPython.core.display.Image object>"
      ]
     },
     "execution_count": 5,
     "metadata": {
      "image/png": {
       "height": 100,
       "width": 300
      }
     },
     "output_type": "execute_result"
    }
   ],
   "source": [
    "Image(\"Images/Edge_Notation_Meaning.png\", width=300, height=100)"
   ]
  },
  {
   "cell_type": "markdown",
   "metadata": {},
   "source": [
    "## Summarize the Network <a class=\"anchor\" id=\"summarize\"></a>"
   ]
  },
  {
   "cell_type": "markdown",
   "metadata": {},
   "source": [
    "Below is a summary of the Network Object just instantiated.\n",
    "\n",
    "The format is:\n",
    "* Network Name: Number of Nodes, Number of Edges\n",
    "* Algebra Name\n",
    "* Tail_ID1: Class List\n",
    "    * => Head_ID1: Constraint1\n",
    "    * => Head_ID2: Constraint2\n",
    "    * ...\n",
    "* and so on ..."
   ]
  }
 ],
 "metadata": {
  "kernelspec": {
   "display_name": "Python 3 (ipykernel)",
   "language": "python",
   "name": "python3"
  },
  "language_info": {
   "codemirror_mode": {
    "name": "ipython",
    "version": 3
   },
   "file_extension": ".py",
   "mimetype": "text/x-python",
   "name": "python",
   "nbconvert_exporter": "python",
   "pygments_lexer": "ipython3",
   "version": "3.9.16"
  }
 },
 "nbformat": 4,
 "nbformat_minor": 4
}
