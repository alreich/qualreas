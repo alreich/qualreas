{
 "cells": [
  {
   "cell_type": "markdown",
   "metadata": {},
   "source": [
    "# New Class Definitions"
   ]
  },
  {
   "cell_type": "markdown",
   "metadata": {},
   "source": [
    "<i>Version 4</i>"
   ]
  },
  {
   "cell_type": "markdown",
   "metadata": {},
   "source": [
    "## References"
   ]
  },
  {
   "cell_type": "markdown",
   "metadata": {},
   "source": [
    "1. [\"Maintaining Knowledge about Temporal Intervals\" by James F. Allen](https://cse.unl.edu/~choueiry/Documents/Allen-CACM1983.pdf) - Allen's original paper (PDF)\n",
    "1. [Allen's Interval Algebra](https://www.ics.uci.edu/~alspaugh/cls/shr/allen.html) or [here](https://thomasalspaugh.org/pub/fnd/allen.html) - summarizes Allen's algebra of proper time intervals\n",
    "1. [W3C Time Ontology in OWL](https://www.w3.org/TR/owl-time/) - temporal vocabulary used here is based on the W3C vocabulary of time\n",
    "1. [bitsets Python package](https://bitsets.readthedocs.io/en/stable/) - used to implement Algebra relation sets and operations\n",
    "1. [NetworkX Python package](http://networkx.github.io/) - used to represent directed graph of constraints\n",
    "1. [Python format string syntax](https://docs.python.org/3/library/string.html#format-string-syntax) - used in Algebra summary method\n",
    "1. [Spatial Ontology](https://www.w3.org/2017/sdwig/bp/) - I'm still looking for a standard spatial vocabulary; maybe start here\n",
    "1. [Qualitative Spatial Relations (QSR) Library](https://qsrlib.readthedocs.io/en/latest/index.html) - an alternative library to the one defined here"
   ]
  },
  {
   "cell_type": "markdown",
   "metadata": {},
   "source": [
    "## Dependencies"
   ]
  },
  {
   "cell_type": "code",
   "execution_count": 1,
   "metadata": {},
   "outputs": [],
   "source": [
    "import qualreas as qr\n",
    "import os"
   ]
  },
  {
   "cell_type": "code",
   "execution_count": 2,
   "metadata": {},
   "outputs": [],
   "source": [
    "path = os.path.join(os.getenv('PYPROJ'), 'qualreas')"
   ]
  },
  {
   "cell_type": "markdown",
   "metadata": {},
   "source": [
    "## Instantiate An Algebra"
   ]
  },
  {
   "cell_type": "code",
   "execution_count": 3,
   "metadata": {},
   "outputs": [],
   "source": [
    "alg = qr.Algebra(os.path.join(path, \"Algebras/LinearIntervalAlgebra.json\"))  # Allen's algebra of proper time intervals\n",
    "#alg = Algebra(os.path.join(path, \"Algebras/LeftBranchingIntervalAlgebra.json\"))\n",
    "#alg = Algebra(os.path.join(path, \"Algebras/RightBranchingIntervalAlgebra.json\"))\n",
    "#alg = Algebra(os.path.join(path, \"Algebras/RCC8Algebra.json\"))"
   ]
  },
  {
   "cell_type": "code",
   "execution_count": 4,
   "metadata": {},
   "outputs": [
    {
     "name": "stdout",
     "output_type": "stream",
     "text": [
      "  Algebra Name: LinearIntervalAlgebra\n",
      "   Description: Allen's algebra of proper time intervals\n",
      " Equality Rels: E\n",
      "     Relations:\n",
      "            NAME (ABBREV)         CONVERSE (ABBREV)  REFLEXIVE  SYMMETRIC TRANSITIVE   DOMAIN        RANGE\n",
      "             Before (  B)               After ( BI)    False      False       True       PInt          PInt\n",
      "              After ( BI)              Before (  B)    False      False       True       PInt          PInt\n",
      "             During (  D)            Contains ( DI)    False      False       True       PInt          PInt\n",
      "           Contains ( DI)              During (  D)    False      False       True       PInt          PInt\n",
      "             Equals (  E)              Equals (  E)     True       True       True       PInt          PInt\n",
      "           Finishes (  F)         Finished-by ( FI)    False      False       True       PInt          PInt\n",
      "        Finished-by ( FI)            Finishes (  F)    False      False       True       PInt          PInt\n",
      "              Meets (  M)              Met-By ( MI)    False      False      False       PInt          PInt\n",
      "             Met-By ( MI)               Meets (  M)    False      False      False       PInt          PInt\n",
      "           Overlaps (  O)       Overlapped-By ( OI)    False      False      False       PInt          PInt\n",
      "      Overlapped-By ( OI)            Overlaps (  O)    False      False      False       PInt          PInt\n",
      "             Starts (  S)          Started-By ( SI)    False      False       True       PInt          PInt\n",
      "         Started-By ( SI)              Starts (  S)    False      False       True       PInt          PInt\n",
      "\n",
      "Domain & Range Abbreviations:\n",
      "   Pt = Point\n",
      " PInt = Proper Interval\n"
     ]
    }
   ],
   "source": [
    "alg.summary()"
   ]
  }
 ],
 "metadata": {
  "kernelspec": {
   "display_name": "Python 3",
   "language": "python",
   "name": "python3"
  },
  "language_info": {
   "codemirror_mode": {
    "name": "ipython",
    "version": 3
   },
   "file_extension": ".py",
   "mimetype": "text/x-python",
   "name": "python",
   "nbconvert_exporter": "python",
   "pygments_lexer": "ipython3",
   "version": "3.7.3"
  }
 },
 "nbformat": 4,
 "nbformat_minor": 2
}
