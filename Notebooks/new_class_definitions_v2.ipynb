{
 "cells": [
  {
   "cell_type": "markdown",
   "metadata": {},
   "source": [
    "# New Algebra & Network Class Definitions"
   ]
  },
  {
   "cell_type": "markdown",
   "metadata": {},
   "source": [
    "<i>Version 2.0</i>"
   ]
  },
  {
   "cell_type": "markdown",
   "metadata": {},
   "source": [
    "## Dependencies"
   ]
  },
  {
   "cell_type": "markdown",
   "metadata": {},
   "source": [
    "Algebra's are defined in JSON format.\n",
    "\n",
    "The basic elements of an <b>Algebra</b>, as defined here, are subsets of a finite set of relations (<b>relsets</b>). Relsets are represented here using [the <b>bitset</b> package](https://bitsets.readthedocs.io/en/stable/).\n",
    "\n",
    "Relsets are used to represent spatio-temporal constraints between spatio-temporal entities.  A collection of entities and their associated constraints can be represented as a directed graph, where the nodes are the entities and the edges are \"labeled\" with the constraints.  The DiGraph class in [the NetworkX package](https://networkx.github.io/) is extended to represent a Constraint Graph."
   ]
  },
  {
   "cell_type": "code",
   "execution_count": 1,
   "metadata": {},
   "outputs": [],
   "source": [
    "import qualreas as qr"
   ]
  },
  {
   "cell_type": "markdown",
   "metadata": {},
   "source": [
    "We use os.path, along with an environment variable, PYPROJ, to provide an OS/env-agnostic way of finding the qualreas code.  The user must define or set PYPROJ appropriately for their own environment."
   ]
  },
  {
   "cell_type": "code",
   "execution_count": 2,
   "metadata": {},
   "outputs": [],
   "source": [
    "import os"
   ]
  },
  {
   "cell_type": "code",
   "execution_count": 3,
   "metadata": {},
   "outputs": [],
   "source": [
    "path = os.path.join(os.getenv('PYPROJ'), 'qualreas')"
   ]
  },
  {
   "cell_type": "markdown",
   "metadata": {},
   "source": [
    "## References"
   ]
  },
  {
   "cell_type": "markdown",
   "metadata": {},
   "source": [
    "1. [\"Maintaining Knowledge about Temporal Intervals\" by James F. Allen](https://cse.unl.edu/~choueiry/Documents/Allen-CACM1983.pdf) - Allen's original paper (PDF)\n",
    "1. [Allen's Interval Algebra](https://www.ics.uci.edu/~alspaugh/cls/shr/allen.html) or [here](https://thomasalspaugh.org/pub/fnd/allen.html) - summarizes Allen's algebra of proper time intervals\n",
    "1. [W3C Time Ontology in OWL](https://www.w3.org/TR/owl-time/) - temporal vocabulary used here is based on the W3C vocabulary of time\n",
    "1. [bitsets Python package](https://bitsets.readthedocs.io/en/stable/) - used to implement Algebra relation sets and operations\n",
    "1. [NetworkX Python package](http://networkx.github.io/) - used to represent directed graph of constraints\n",
    "1. [Python format string syntax](https://docs.python.org/3/library/string.html#format-string-syntax) - used in Algebra summary method\n",
    "1. [Spatial Ontology](https://www.w3.org/2017/sdwig/bp/) - I'm still looking for a standard spatial vocabulary; maybe start here\n",
    "1. [Qualitative Spatial Relations (QSR) Library](https://qsrlib.readthedocs.io/en/latest/index.html) - an alternative library to the one defined here"
   ]
  },
  {
   "cell_type": "markdown",
   "metadata": {},
   "source": [
    "## Algebras"
   ]
  },
  {
   "cell_type": "markdown",
   "metadata": {},
   "source": [
    "### Instantiate Algebra using JSON file"
   ]
  },
  {
   "cell_type": "code",
   "execution_count": 4,
   "metadata": {},
   "outputs": [
    {
     "name": "stdout",
     "output_type": "stream",
     "text": [
      "<RightBranchingTimeAlgebra: Reich's right-branching extension to Allen's time interval algebra (see TIME-94 paper)>\n"
     ]
    }
   ],
   "source": [
    "#TODO: Change the term \"Point\" to \"Instant\" (to match https://www.w3.org/TR/owl-time/)\n",
    "\n",
    "#alg = qr.Algebra(os.path.join(path, \"Algebras/IntervalAlgebra.json\"))  # Allen's algebra of proper time intervals\n",
    "#alg = qr.Algebra(os.path.join(path, \"Algebras/LeftBranchingIntervalAndPointAlgebra.json\"))\n",
    "alg = qr.Algebra(os.path.join(path, \"Algebras/RightBranchingIntervalAndPointAlgebra.json\"))\n",
    "#alg = qr.Algebra(os.path.join(path, \"Algebras/rcc8Algebra.json\"))\n",
    "\n",
    "print(alg)"
   ]
  },
  {
   "cell_type": "markdown",
   "metadata": {},
   "source": [
    "### Elements of an Algebra"
   ]
  },
  {
   "cell_type": "code",
   "execution_count": 5,
   "metadata": {},
   "outputs": [
    {
     "data": {
      "text/plain": [
       "RightBranchingTimeAlgebra(['B', 'BI', 'D', 'DI', 'E', 'F', 'FI', 'M', 'MI', 'O', 'OI', 'PE', 'PF', 'PFI', 'PS', 'PSI', 'RB', 'RBI', 'RO', 'ROI', 'RS', 'R~', 'S', 'SI'])"
      ]
     },
     "execution_count": 5,
     "metadata": {},
     "output_type": "execute_result"
    }
   ],
   "source": [
    "alg.elements"
   ]
  },
  {
   "cell_type": "code",
   "execution_count": 6,
   "metadata": {},
   "outputs": [
    {
     "data": {
      "text/plain": [
       "24"
      ]
     },
     "execution_count": 6,
     "metadata": {},
     "output_type": "execute_result"
    }
   ],
   "source": [
    "len(alg.elements)"
   ]
  },
  {
   "cell_type": "code",
   "execution_count": 7,
   "metadata": {},
   "outputs": [
    {
     "data": {
      "text/plain": [
       "RightBranchingTimeAlgebra(['B'])"
      ]
     },
     "execution_count": 7,
     "metadata": {},
     "output_type": "execute_result"
    }
   ],
   "source": [
    "before = alg.relset(['B'])\n",
    "before"
   ]
  },
  {
   "cell_type": "code",
   "execution_count": 8,
   "metadata": {},
   "outputs": [
    {
     "data": {
      "text/plain": [
       "RightBranchingTimeAlgebra(['D'])"
      ]
     },
     "execution_count": 8,
     "metadata": {},
     "output_type": "execute_result"
    }
   ],
   "source": [
    "during = alg.relset(['D'])\n",
    "during"
   ]
  },
  {
   "cell_type": "code",
   "execution_count": 9,
   "metadata": {},
   "outputs": [
    {
     "data": {
      "text/plain": [
       "'Before'"
      ]
     },
     "execution_count": 9,
     "metadata": {},
     "output_type": "execute_result"
    }
   ],
   "source": [
    "alg.rel_name('B')"
   ]
  },
  {
   "cell_type": "code",
   "execution_count": 10,
   "metadata": {},
   "outputs": [
    {
     "data": {
      "text/plain": [
       "RightBranchingTimeAlgebra(['B', 'M', 'OI'])"
      ]
     },
     "execution_count": 10,
     "metadata": {},
     "output_type": "execute_result"
    }
   ],
   "source": [
    "bmoi = alg.relset(('B','M','OI'))\n",
    "bmoi"
   ]
  },
  {
   "cell_type": "code",
   "execution_count": 11,
   "metadata": {},
   "outputs": [
    {
     "name": "stdout",
     "output_type": "stream",
     "text": [
      "B\n",
      "M\n",
      "OI\n"
     ]
    }
   ],
   "source": [
    "for rel in bmoi:\n",
    "    print(rel)"
   ]
  },
  {
   "cell_type": "code",
   "execution_count": 12,
   "metadata": {},
   "outputs": [
    {
     "data": {
      "text/plain": [
       "['E', 'PE']"
      ]
     },
     "execution_count": 12,
     "metadata": {},
     "output_type": "execute_result"
    }
   ],
   "source": [
    "alg.all_equality_relations"
   ]
  },
  {
   "cell_type": "markdown",
   "metadata": {},
   "source": [
    "### Converses"
   ]
  },
  {
   "cell_type": "code",
   "execution_count": 13,
   "metadata": {},
   "outputs": [
    {
     "data": {
      "text/plain": [
       "'BI'"
      ]
     },
     "execution_count": 13,
     "metadata": {},
     "output_type": "execute_result"
    }
   ],
   "source": [
    "alg.converse('B')"
   ]
  },
  {
   "cell_type": "code",
   "execution_count": 14,
   "metadata": {},
   "outputs": [
    {
     "data": {
      "text/plain": [
       "RightBranchingTimeAlgebra(['BI'])"
      ]
     },
     "execution_count": 14,
     "metadata": {},
     "output_type": "execute_result"
    }
   ],
   "source": [
    "alg.converse(before)"
   ]
  },
  {
   "cell_type": "code",
   "execution_count": 15,
   "metadata": {},
   "outputs": [
    {
     "data": {
      "text/plain": [
       "RightBranchingTimeAlgebra(['BI', 'MI', 'O'])"
      ]
     },
     "execution_count": 15,
     "metadata": {},
     "output_type": "execute_result"
    }
   ],
   "source": [
    "alg.converse(bmoi)"
   ]
  },
  {
   "cell_type": "markdown",
   "metadata": {},
   "source": [
    "### Multiplication"
   ]
  },
  {
   "cell_type": "code",
   "execution_count": 16,
   "metadata": {},
   "outputs": [],
   "source": [
    "#alg.transitivity_table"
   ]
  },
  {
   "cell_type": "code",
   "execution_count": 17,
   "metadata": {},
   "outputs": [
    {
     "data": {
      "text/plain": [
       "RightBranchingTimeAlgebra(['B', 'D', 'M', 'O', 'PS', 'S'])"
      ]
     },
     "execution_count": 17,
     "metadata": {},
     "output_type": "execute_result"
    }
   ],
   "source": [
    "BxD = alg.mult(before, during)\n",
    "BxD"
   ]
  },
  {
   "cell_type": "markdown",
   "metadata": {},
   "source": [
    "### Addition"
   ]
  },
  {
   "cell_type": "code",
   "execution_count": 35,
   "metadata": {},
   "outputs": [
    {
     "name": "stdout",
     "output_type": "stream",
     "text": [
      "('D', 'F', 'M', 'SI')\n"
     ]
    },
    {
     "data": {
      "text/plain": [
       "RightBranchingTimeAlgebra(['D', 'M'])"
      ]
     },
     "execution_count": 35,
     "metadata": {},
     "output_type": "execute_result"
    }
   ],
   "source": [
    "dmfsi = alg.relset(['D','M','F','SI'])\n",
    "print(dmfsi.members())\n",
    "qr.add(BxD,dmfsi)"
   ]
  },
  {
   "cell_type": "code",
   "execution_count": 19,
   "metadata": {},
   "outputs": [
    {
     "name": "stdout",
     "output_type": "stream",
     "text": [
      "('BI', 'D', 'DI', 'E', 'F', 'FI', 'M', 'MI', 'O', 'OI', 'PE', 'PF', 'PFI', 'PS', 'PSI', 'RB', 'RBI', 'RO', 'ROI', 'RS', 'R~', 'S', 'SI')\n"
     ]
    }
   ],
   "source": [
    "print(before.complement().members())"
   ]
  },
  {
   "cell_type": "code",
   "execution_count": 20,
   "metadata": {},
   "outputs": [
    {
     "name": "stdout",
     "output_type": "stream",
     "text": [
      "('BI', 'DI', 'E', 'F', 'FI', 'MI', 'OI', 'PE', 'PF', 'PFI', 'PSI', 'RB', 'RBI', 'RO', 'ROI', 'RS', 'R~', 'SI')\n"
     ]
    }
   ],
   "source": [
    "print(BxD.complement().members())"
   ]
  },
  {
   "cell_type": "code",
   "execution_count": 21,
   "metadata": {},
   "outputs": [
    {
     "data": {
      "text/plain": [
       "True"
      ]
     },
     "execution_count": 21,
     "metadata": {},
     "output_type": "execute_result"
    }
   ],
   "source": [
    "alg.check_multiplication_identity()"
   ]
  },
  {
   "cell_type": "markdown",
   "metadata": {},
   "source": [
    "### Description (Summary) of an Algebra"
   ]
  },
  {
   "cell_type": "code",
   "execution_count": 22,
   "metadata": {},
   "outputs": [
    {
     "name": "stdout",
     "output_type": "stream",
     "text": [
      "  Algebra Name: RightBranchingTimeAlgebra\n",
      "   Description: Reich's right-branching extension to Allen's time interval algebra (see TIME-94 paper)\n",
      " Equality Rels: ['E', 'PE']\n",
      "     Relations:\n",
      "            NAME (ABBREV)         CONVERSE (ABBREV)  REFLEXIVE  SYMMETRIC TRANSITIVE   DOMAIN        RANGE\n",
      "             Before (  B)               After ( BI)    False      False       True    Pt|PInt       Pt|PInt\n",
      "              After ( BI)              Before (  B)    False      False       True    Pt|PInt       Pt|PInt\n",
      "             During (  D)            Contains ( DI)    False      False       True    Pt|PInt          PInt\n",
      "           Contains ( DI)              During (  D)    False      False       True       PInt       Pt|PInt\n",
      "             Equals (  E)              Equals (  E)     True       True       True       PInt          PInt\n",
      "           Finishes (  F)         Finished-by ( FI)    False      False       True       PInt          PInt\n",
      "        Finished-by ( FI)            Finishes (  F)    False      False       True       PInt          PInt\n",
      "              Meets (  M)              Met-By ( MI)    False      False      False       PInt          PInt\n",
      "             Met-By ( MI)               Meets (  M)    False      False      False       PInt          PInt\n",
      "           Overlaps (  O)       Overlapped-By ( OI)    False      False      False       PInt          PInt\n",
      "      Overlapped-By ( OI)            Overlaps (  O)    False      False      False       PInt          PInt\n",
      "       Point-Equals ( PE)        Point-Equals ( PE)     True       True       True         Pt            Pt\n",
      "     Point-Finishes ( PF)   Point-Finished-By (PFI)    False      False      False         Pt          PInt\n",
      "  Point-Finished-By (PFI)      Point-Finishes ( PF)    False      False      False       PInt            Pt\n",
      "       Point-Starts ( PS)    Point-Started-By (PSI)    False      False      False         Pt          PInt\n",
      "   Point-Started-By (PSI)        Point-Starts ( PS)    False      False      False       PInt            Pt\n",
      "       Right-Before ( RB)         Right-After (RBI)    False      False       True       PInt       Pt|PInt\n",
      "        Right-After (RBI)        Right-Before ( RB)    False      False       True    Pt|PInt          PInt\n",
      "     Right-Overlaps ( RO) Right-Overlapped-By (ROI)    False      False      False       PInt          PInt\n",
      "Right-Overlapped-By (ROI)      Right-Overlaps ( RO)    False      False      False       PInt          PInt\n",
      "       Right-Starts ( RS)        Right-Starts ( RS)    False      False      False       PInt          PInt\n",
      " Right-Incomparable ( R~)  Right-Incomparable ( R~)    False       True      False    Pt|PInt       Pt|PInt\n",
      "             Starts (  S)          Started-By ( SI)    False      False       True       PInt          PInt\n",
      "         Started-By ( SI)              Starts (  S)    False      False       True       PInt          PInt\n",
      "\n",
      "Domain & Range Abbreviations:\n",
      "   Pt = Point\n",
      " PInt = Proper Interval\n"
     ]
    }
   ],
   "source": [
    "alg.summary()"
   ]
  },
  {
   "cell_type": "markdown",
   "metadata": {},
   "source": [
    "### Associativity"
   ]
  },
  {
   "cell_type": "code",
   "execution_count": 23,
   "metadata": {},
   "outputs": [
    {
     "name": "stdout",
     "output_type": "stream",
     "text": [
      "\n",
      "TEST SUMMARY: 9772 OK, 4052 Skipped, 0 Failed (13824 Total)\n"
     ]
    },
    {
     "data": {
      "text/plain": [
       "True"
      ]
     },
     "execution_count": 23,
     "metadata": {},
     "output_type": "execute_result"
    }
   ],
   "source": [
    "alg.is_associative()"
   ]
  },
  {
   "cell_type": "markdown",
   "metadata": {},
   "source": [
    "## Networks"
   ]
  },
  {
   "cell_type": "code",
   "execution_count": 24,
   "metadata": {},
   "outputs": [
    {
     "name": "stdout",
     "output_type": "stream",
     "text": [
      "<TemporalEntity Event1 ['ProperInterval']>\n",
      "<TemporalEntity Event2 ['ProperInterval']>\n",
      "<TemporalEntity Event3 ['ProperInterval']>\n"
     ]
    }
   ],
   "source": [
    "evt1 = qr.TemporalEntity([\"ProperInterval\"], name=\"Event1\")\n",
    "evt2 = qr.TemporalEntity([\"ProperInterval\"], name=\"Event2\")\n",
    "evt3 = qr.TemporalEntity([\"ProperInterval\"], name=\"Event3\")\n",
    "print(evt1)\n",
    "print(evt2)\n",
    "print(evt3)"
   ]
  },
  {
   "cell_type": "code",
   "execution_count": 25,
   "metadata": {},
   "outputs": [
    {
     "name": "stdout",
     "output_type": "stream",
     "text": [
      "<Network--TestGraph1--RightBranchingTimeAlgebra>\n"
     ]
    }
   ],
   "source": [
    "net = qr.Network(alg, name=\"TestGraph1\")\n",
    "print(net)"
   ]
  },
  {
   "cell_type": "code",
   "execution_count": 36,
   "metadata": {},
   "outputs": [
    {
     "data": {
      "text/plain": [
       "RightBranchingTimeAlgebra(['D', 'F', 'M', 'SI'])"
      ]
     },
     "execution_count": 36,
     "metadata": {},
     "output_type": "execute_result"
    }
   ],
   "source": [
    "dmfsi  # defined above"
   ]
  },
  {
   "cell_type": "code",
   "execution_count": 37,
   "metadata": {},
   "outputs": [
    {
     "name": "stdout",
     "output_type": "stream",
     "text": [
      "{'constraint': RightBranchingTimeAlgebra(['D', 'F', 'M', 'SI'])}\n",
      "{'constraint': RightBranchingTimeAlgebra(['DI', 'FI', 'MI', 'S'])}\n"
     ]
    }
   ],
   "source": [
    "net.add_constraint(evt1, evt2, dmfsi)\n",
    "print(net.edges[evt1,evt2])\n",
    "print(net.edges[evt2,evt1])"
   ]
  },
  {
   "cell_type": "code",
   "execution_count": 38,
   "metadata": {},
   "outputs": [
    {
     "data": {
      "text/plain": [
       "{'constraint': RightBranchingTimeAlgebra(['B', 'BI', 'D', 'DI', 'E', 'F', 'FI', 'M', 'MI', 'O', 'OI', 'PE', 'PF', 'PFI', 'PS', 'PSI', 'RB', 'RBI', 'RO', 'ROI', 'RS', 'R~', 'S', 'SI'])}"
      ]
     },
     "execution_count": 38,
     "metadata": {},
     "output_type": "execute_result"
    }
   ],
   "source": [
    "net.add_constraint(evt2, evt3)\n",
    "net.edges[evt2,evt3]"
   ]
  },
  {
   "cell_type": "code",
   "execution_count": 39,
   "metadata": {},
   "outputs": [
    {
     "data": {
      "text/plain": [
       "[(<TemporalEntity Event1 ['ProperInterval']>,\n",
       "  <TemporalEntity Event1 ['ProperInterval']>),\n",
       " (<TemporalEntity Event1 ['ProperInterval']>,\n",
       "  <TemporalEntity Event2 ['ProperInterval']>),\n",
       " (<TemporalEntity Event2 ['ProperInterval']>,\n",
       "  <TemporalEntity Event1 ['ProperInterval']>),\n",
       " (<TemporalEntity Event2 ['ProperInterval']>,\n",
       "  <TemporalEntity Event2 ['ProperInterval']>),\n",
       " (<TemporalEntity Event2 ['ProperInterval']>,\n",
       "  <TemporalEntity Event3 ['ProperInterval']>),\n",
       " (<TemporalEntity Event3 ['ProperInterval']>,\n",
       "  <TemporalEntity Event3 ['ProperInterval']>),\n",
       " (<TemporalEntity Event3 ['ProperInterval']>,\n",
       "  <TemporalEntity Event2 ['ProperInterval']>)]"
      ]
     },
     "execution_count": 39,
     "metadata": {},
     "output_type": "execute_result"
    }
   ],
   "source": [
    "list(net.constraints)"
   ]
  },
  {
   "cell_type": "code",
   "execution_count": 40,
   "metadata": {},
   "outputs": [
    {
     "data": {
      "text/plain": [
       "[(<TemporalEntity Event1 ['ProperInterval']>,\n",
       "  <TemporalEntity Event1 ['ProperInterval']>),\n",
       " (<TemporalEntity Event1 ['ProperInterval']>,\n",
       "  <TemporalEntity Event2 ['ProperInterval']>),\n",
       " (<TemporalEntity Event2 ['ProperInterval']>,\n",
       "  <TemporalEntity Event1 ['ProperInterval']>),\n",
       " (<TemporalEntity Event2 ['ProperInterval']>,\n",
       "  <TemporalEntity Event2 ['ProperInterval']>),\n",
       " (<TemporalEntity Event2 ['ProperInterval']>,\n",
       "  <TemporalEntity Event3 ['ProperInterval']>),\n",
       " (<TemporalEntity Event3 ['ProperInterval']>,\n",
       "  <TemporalEntity Event3 ['ProperInterval']>),\n",
       " (<TemporalEntity Event3 ['ProperInterval']>,\n",
       "  <TemporalEntity Event2 ['ProperInterval']>)]"
      ]
     },
     "execution_count": 40,
     "metadata": {},
     "output_type": "execute_result"
    }
   ],
   "source": [
    "list(net.edges)"
   ]
  },
  {
   "cell_type": "code",
   "execution_count": 41,
   "metadata": {},
   "outputs": [
    {
     "data": {
      "text/plain": [
       "{'constraint': RightBranchingTimeAlgebra(['D', 'F', 'M', 'SI'])}"
      ]
     },
     "execution_count": 41,
     "metadata": {},
     "output_type": "execute_result"
    }
   ],
   "source": [
    "net.edges[evt1,evt2]"
   ]
  },
  {
   "cell_type": "code",
   "execution_count": 42,
   "metadata": {},
   "outputs": [
    {
     "data": {
      "text/plain": [
       "RightBranchingTimeAlgebra(['D', 'F', 'M', 'SI'])"
      ]
     },
     "execution_count": 42,
     "metadata": {},
     "output_type": "execute_result"
    }
   ],
   "source": [
    "net.edges[evt1,evt2]['constraint']"
   ]
  },
  {
   "cell_type": "code",
   "execution_count": 43,
   "metadata": {},
   "outputs": [
    {
     "data": {
      "text/plain": [
       "[<TemporalEntity Event1 ['ProperInterval']>,\n",
       " <TemporalEntity Event2 ['ProperInterval']>,\n",
       " <TemporalEntity Event3 ['ProperInterval']>]"
      ]
     },
     "execution_count": 43,
     "metadata": {},
     "output_type": "execute_result"
    }
   ],
   "source": [
    "list(net.entities)"
   ]
  },
  {
   "cell_type": "code",
   "execution_count": 44,
   "metadata": {
    "scrolled": true
   },
   "outputs": [
    {
     "name": "stdout",
     "output_type": "stream",
     "text": [
      "TestGraph1: 3 nodes, 7 edges\n",
      "  Event1:\n"
     ]
    },
    {
     "ename": "AttributeError",
     "evalue": "'list' object has no attribute 'members'",
     "output_type": "error",
     "traceback": [
      "\u001b[0;31m---------------------------------------------------------------------------\u001b[0m",
      "\u001b[0;31mAttributeError\u001b[0m                            Traceback (most recent call last)",
      "\u001b[0;32m<ipython-input-44-e190893001f9>\u001b[0m in \u001b[0;36m<module>\u001b[0;34m\u001b[0m\n\u001b[0;32m----> 1\u001b[0;31m \u001b[0mnet\u001b[0m\u001b[0;34m.\u001b[0m\u001b[0msummary\u001b[0m\u001b[0;34m(\u001b[0m\u001b[0;34m)\u001b[0m\u001b[0;34m\u001b[0m\u001b[0;34m\u001b[0m\u001b[0m\n\u001b[0m",
      "\u001b[0;32m~/Documents/Github/repo/qualreas/qualreas.py\u001b[0m in \u001b[0;36msummary\u001b[0;34m(self)\u001b[0m\n\u001b[1;32m    356\u001b[0m             \u001b[0mprint\u001b[0m\u001b[0;34m(\u001b[0m\u001b[0;34mf\"  {head.name}:\"\u001b[0m\u001b[0;34m)\u001b[0m\u001b[0;34m\u001b[0m\u001b[0;34m\u001b[0m\u001b[0m\n\u001b[1;32m    357\u001b[0m             \u001b[0;32mfor\u001b[0m \u001b[0mtail\u001b[0m \u001b[0;32min\u001b[0m \u001b[0mself\u001b[0m\u001b[0;34m.\u001b[0m\u001b[0mneighbors\u001b[0m\u001b[0;34m(\u001b[0m\u001b[0mhead\u001b[0m\u001b[0;34m)\u001b[0m\u001b[0;34m:\u001b[0m\u001b[0;34m\u001b[0m\u001b[0;34m\u001b[0m\u001b[0m\n\u001b[0;32m--> 358\u001b[0;31m                 \u001b[0mprint\u001b[0m\u001b[0;34m(\u001b[0m\u001b[0;34mf\"    => {tail.name}: {list(self.edges[head, tail]['constraint'].members())}\"\u001b[0m\u001b[0;34m)\u001b[0m\u001b[0;34m\u001b[0m\u001b[0;34m\u001b[0m\u001b[0m\n\u001b[0m\u001b[1;32m    359\u001b[0m \u001b[0;34m\u001b[0m\u001b[0m\n\u001b[1;32m    360\u001b[0m \u001b[0;34m\u001b[0m\u001b[0m\n",
      "\u001b[0;31mAttributeError\u001b[0m: 'list' object has no attribute 'members'"
     ]
    }
   ],
   "source": [
    "net.summary()"
   ]
  },
  {
   "cell_type": "code",
   "execution_count": 45,
   "metadata": {},
   "outputs": [
    {
     "name": "stdout",
     "output_type": "stream",
     "text": [
      "\n",
      "\n",
      "Constraint: X ['B'] Y\n",
      "Constraint: Y ['D'] Z\n"
     ]
    },
    {
     "data": {
      "text/plain": [
       "[<TemporalEntity X ['ProperInterval']>,\n",
       " <TemporalEntity Y ['ProperInterval']>,\n",
       " <TemporalEntity Z ['ProperInterval']>]"
      ]
     },
     "execution_count": 45,
     "metadata": {},
     "output_type": "execute_result"
    }
   ],
   "source": [
    "#print(\"{}:\".format(alg[0].name))\n",
    "entity_x = qr.TemporalEntity([\"ProperInterval\"], \"X\")\n",
    "entity_y = qr.TemporalEntity([\"ProperInterval\"], \"Y\")\n",
    "entity_z = qr.TemporalEntity([\"ProperInterval\"], \"Z\")\n",
    "r12 = alg.relset([\"B\"])\n",
    "r23 = alg.relset([\"D\"])\n",
    "print(\"\\n\")\n",
    "print(\"Constraint: {} {} {}\".format(entity_x.name, list(r12.members()), entity_y.name))\n",
    "print(\"Constraint: {} {} {}\".format(entity_y.name, list(r23.members()), entity_z.name))\n",
    "net0 = qr.Network(alg)\n",
    "net0.add_constraint(entity_x, entity_y, r12)\n",
    "net0.add_constraint(entity_y, entity_z, r23)\n",
    "list(net0)\n",
    "#net0.propagate(verbose=True)\n",
    "#net0.print_constraints()\n",
    "#print(\"\\n\")"
   ]
  },
  {
   "cell_type": "markdown",
   "metadata": {},
   "source": [
    "## Constraint Propagation in a Network"
   ]
  },
  {
   "cell_type": "code",
   "execution_count": 46,
   "metadata": {},
   "outputs": [
    {
     "name": "stdout",
     "output_type": "stream",
     "text": [
      "None: 3 nodes, 7 edges\n",
      "  X:\n"
     ]
    },
    {
     "ename": "AttributeError",
     "evalue": "'list' object has no attribute 'members'",
     "output_type": "error",
     "traceback": [
      "\u001b[0;31m---------------------------------------------------------------------------\u001b[0m",
      "\u001b[0;31mAttributeError\u001b[0m                            Traceback (most recent call last)",
      "\u001b[0;32m<ipython-input-46-8c12f2345c05>\u001b[0m in \u001b[0;36m<module>\u001b[0;34m\u001b[0m\n\u001b[0;32m----> 1\u001b[0;31m \u001b[0mnet0\u001b[0m\u001b[0;34m.\u001b[0m\u001b[0msummary\u001b[0m\u001b[0;34m(\u001b[0m\u001b[0;34m)\u001b[0m\u001b[0;34m\u001b[0m\u001b[0;34m\u001b[0m\u001b[0m\n\u001b[0m",
      "\u001b[0;32m~/Documents/Github/repo/qualreas/qualreas.py\u001b[0m in \u001b[0;36msummary\u001b[0;34m(self)\u001b[0m\n\u001b[1;32m    356\u001b[0m             \u001b[0mprint\u001b[0m\u001b[0;34m(\u001b[0m\u001b[0;34mf\"  {head.name}:\"\u001b[0m\u001b[0;34m)\u001b[0m\u001b[0;34m\u001b[0m\u001b[0;34m\u001b[0m\u001b[0m\n\u001b[1;32m    357\u001b[0m             \u001b[0;32mfor\u001b[0m \u001b[0mtail\u001b[0m \u001b[0;32min\u001b[0m \u001b[0mself\u001b[0m\u001b[0;34m.\u001b[0m\u001b[0mneighbors\u001b[0m\u001b[0;34m(\u001b[0m\u001b[0mhead\u001b[0m\u001b[0;34m)\u001b[0m\u001b[0;34m:\u001b[0m\u001b[0;34m\u001b[0m\u001b[0;34m\u001b[0m\u001b[0m\n\u001b[0;32m--> 358\u001b[0;31m                 \u001b[0mprint\u001b[0m\u001b[0;34m(\u001b[0m\u001b[0;34mf\"    => {tail.name}: {list(self.edges[head, tail]['constraint'].members())}\"\u001b[0m\u001b[0;34m)\u001b[0m\u001b[0;34m\u001b[0m\u001b[0;34m\u001b[0m\u001b[0m\n\u001b[0m\u001b[1;32m    359\u001b[0m \u001b[0;34m\u001b[0m\u001b[0m\n\u001b[1;32m    360\u001b[0m \u001b[0;34m\u001b[0m\u001b[0m\n",
      "\u001b[0;31mAttributeError\u001b[0m: 'list' object has no attribute 'members'"
     ]
    }
   ],
   "source": [
    "net0.summary()"
   ]
  },
  {
   "cell_type": "code",
   "execution_count": null,
   "metadata": {},
   "outputs": [],
   "source": [
    "def foo(net):\n",
    "    for n1 in net0.nodes():\n",
    "        for n2 in net0.nodes():\n",
    "            if n1 == n2:\n",
    "                print(f\"{n1.name} equals itself\")\n",
    "            else:\n",
    "                if not net0.has_edge(n1, n2):\n",
    "                    print(f\"No edge between {n1.name} and {n2.name}\")"
   ]
  },
  {
   "cell_type": "code",
   "execution_count": null,
   "metadata": {},
   "outputs": [],
   "source": [
    "foo(net0)"
   ]
  },
  {
   "cell_type": "code",
   "execution_count": null,
   "metadata": {},
   "outputs": [],
   "source": [
    "def sqr(x): return x*x\n",
    "\n",
    "list(map(lambda x: x*x, [2,3]))"
   ]
  },
  {
   "cell_type": "markdown",
   "metadata": {},
   "source": [
    "### Compact Relation Symbols"
   ]
  },
  {
   "cell_type": "code",
   "execution_count": null,
   "metadata": {},
   "outputs": [],
   "source": [
    "default_relations_dict = {\n",
    "    # Allen's relations\n",
    "    \"B\" :\"b\", \"BI\":\"B\", \"D\" :\"d\", \"DI\":\"D\", \"E\" :\"e\", \"F\" :\"f\",\n",
    "    \"FI\":\"F\", \"M\" :\"m\", \"MI\":\"M\", \"O\" :\"o\", \"OI\":\"O\", \"S\" :\"s\", \"SI\":\"S\",\n",
    "    # Point relations\n",
    "    \"PE\":\".e\", \"PF\":\".f\", \"PFI\":\".F\", \"PS\":\".s\", \"PSI\":\".S\",\n",
    "    # Left-branching relations\n",
    "    \"LB\":\">b\", \"LBI\":\">B\", \"LF\":\">f\", \"LO\":\">o\", \"LOI\":\">O\", \"L~\":\">~\",\n",
    "    # Right-branching relations\n",
    "    \"RB\":\"<b\", \"RBI\":\"<B\", \"RO\":\"<o\", \"ROI\":\"<O\", \"RS\":\"<s\", \"R~\":\"<~\"\n",
    "}\n",
    "\n",
    "def compact_relation(rel_str, rel_dict=default_relations_dict):\n",
    "    return rel_dict[rel_str]\n",
    "\n",
    "def compact_relset(relset):\n",
    "    return \"\".join(list(map(lambda r: compact_relation(r), relset.members())))"
   ]
  },
  {
   "cell_type": "code",
   "execution_count": null,
   "metadata": {},
   "outputs": [],
   "source": [
    "dmfS = alg.relset(['D','M','F','SI'])"
   ]
  },
  {
   "cell_type": "code",
   "execution_count": null,
   "metadata": {},
   "outputs": [],
   "source": [
    "compact_relset(bmfS)"
   ]
  },
  {
   "cell_type": "raw",
   "metadata": {},
   "source": [
    "with open('default_relation_mappings.json', 'w') as fp:\n",
    "    qr.json.dump(default_relations_dict, fp)"
   ]
  },
  {
   "cell_type": "code",
   "execution_count": null,
   "metadata": {},
   "outputs": [],
   "source": []
  }
 ],
 "metadata": {
  "kernelspec": {
   "display_name": "Python 3",
   "language": "python",
   "name": "python3"
  },
  "language_info": {
   "codemirror_mode": {
    "name": "ipython",
    "version": 3
   },
   "file_extension": ".py",
   "mimetype": "text/x-python",
   "name": "python",
   "nbconvert_exporter": "python",
   "pygments_lexer": "ipython3",
   "version": "3.7.3"
  }
 },
 "nbformat": 4,
 "nbformat_minor": 2
}
