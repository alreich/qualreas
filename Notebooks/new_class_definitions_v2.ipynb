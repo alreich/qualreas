{
 "cells": [
  {
   "cell_type": "markdown",
   "metadata": {},
   "source": [
    "# New Algebra & Network Class Definitions"
   ]
  },
  {
   "cell_type": "markdown",
   "metadata": {},
   "source": [
    "<i>Version 2.0</i>"
   ]
  },
  {
   "cell_type": "markdown",
   "metadata": {},
   "source": [
    "## Dependencies"
   ]
  },
  {
   "cell_type": "code",
   "execution_count": 1,
   "metadata": {},
   "outputs": [],
   "source": [
    "import qualreas as qr"
   ]
  },
  {
   "cell_type": "markdown",
   "metadata": {},
   "source": [
    "Algebra's are defined in JSON format."
   ]
  },
  {
   "cell_type": "raw",
   "metadata": {},
   "source": [
    "import json"
   ]
  },
  {
   "cell_type": "markdown",
   "metadata": {},
   "source": [
    "The basic elements of an <b>Algebra</b>, as defined here, are subsets of a finite set of relations (<b>relsets</b>). Relsets are represented here using [the <b>bitset</b> package](https://bitsets.readthedocs.io/en/stable/)."
   ]
  },
  {
   "cell_type": "raw",
   "metadata": {},
   "source": [
    "from bitsets import bitset"
   ]
  },
  {
   "cell_type": "markdown",
   "metadata": {},
   "source": [
    "Relsets are used to represent spatio-temporal constraints between spatio-temporal entities.  A collection of entities and their associated constraints can be represented as a directed graph, where the nodes are the entities and the edges are \"labeled\" with the constraints.  The DiGraph class in [the NetworkX package](https://networkx.github.io/) is extended to represent a Constraint Graph."
   ]
  },
  {
   "cell_type": "raw",
   "metadata": {},
   "source": [
    "import networkx as nx"
   ]
  },
  {
   "cell_type": "markdown",
   "metadata": {},
   "source": [
    "We use os.path, along with an environment variable, PYPROJ, to provide an OS/env-agnostic way of finding the qualreas code.  The user must define or set PYPROJ appropriately for their own environment."
   ]
  },
  {
   "cell_type": "code",
   "execution_count": 2,
   "metadata": {},
   "outputs": [],
   "source": [
    "import os"
   ]
  },
  {
   "cell_type": "code",
   "execution_count": 3,
   "metadata": {},
   "outputs": [],
   "source": [
    "path = os.path.join(os.getenv('PYPROJ'), 'qualreas')"
   ]
  },
  {
   "cell_type": "markdown",
   "metadata": {},
   "source": [
    "## References"
   ]
  },
  {
   "cell_type": "markdown",
   "metadata": {},
   "source": [
    "1. [\"Maintaining Knowledge about Temporal Intervals\" by James F. Allen](https://cse.unl.edu/~choueiry/Documents/Allen-CACM1983.pdf) - Allen's original paper (PDF)\n",
    "1. [Allen's Interval Algebra](https://www.ics.uci.edu/~alspaugh/cls/shr/allen.html) or [here](https://thomasalspaugh.org/pub/fnd/allen.html) - summarizes Allen's algebra of proper time intervals\n",
    "1. [W3C Time Ontology in OWL](https://www.w3.org/TR/owl-time/) - temporal vocabulary used here is based on the W3C vocabulary of time\n",
    "1. [bitsets Python package](https://bitsets.readthedocs.io/en/stable/) - used to implement Algebra relation sets and operations\n",
    "1. [NetworkX Python package](http://networkx.github.io/) - used to represent directed graph of constraints\n",
    "1. [Python format string syntax](https://docs.python.org/3/library/string.html#format-string-syntax) - used in Algebra summary method\n",
    "1. [Spatial Ontology](https://www.w3.org/2017/sdwig/bp/) - I'm still looking for a standard spatial vocabulary; maybe start here\n",
    "1. [Qualitative Spatial Relations (QSR) Library](https://qsrlib.readthedocs.io/en/latest/index.html) - an alternative library to the one defined here"
   ]
  },
  {
   "cell_type": "markdown",
   "metadata": {},
   "source": [
    "## Algebras"
   ]
  },
  {
   "cell_type": "markdown",
   "metadata": {},
   "source": [
    "### Algebra Class"
   ]
  },
  {
   "cell_type": "raw",
   "metadata": {},
   "source": [
    "class Algebra(object):\n",
    "\n",
    "    def __init__(self, filename):\n",
    "        \"\"\"An algebra is created from a JSON file containing the algebra's\n",
    "        relation and transitivity table definitions.\n",
    "        \"\"\"\n",
    "        with open(filename, 'r') as f:\n",
    "            self.algebra_dict = json.load(f)\n",
    "\n",
    "        self.name = self.algebra_dict[\"Name\"]\n",
    "        \n",
    "        self.description = self.algebra_dict[\"Description\"]\n",
    "        \n",
    "        # TODO: For consistency, rename relations_dict to rel_dict\n",
    "        self.relations_dict = self.algebra_dict[\"Relations\"]\n",
    "        \n",
    "        self.elements_bitset = bitset(self.name, tuple(self.relations_dict.keys()))  # A class object\n",
    "        \n",
    "        # TODO: Rename 'identity' to 'elements'\n",
    "        self.elements = self.elements_bitset.supremum\n",
    "\n",
    "        # Setup the transitivity table used by Relation Set multiplication\n",
    "        self.transitivity_table = dict()\n",
    "        tabledefs = self.algebra_dict[\"TransTable\"]\n",
    "        for rel1 in tabledefs:\n",
    "            self.transitivity_table[rel1] = dict()\n",
    "            for rel2 in tabledefs[rel1]:\n",
    "                self.transitivity_table[rel1][rel2] = self.elements_bitset(tuple(tabledefs[rel1][rel2]))\n",
    "                \n",
    "    # Accessors for information about a given relation.\n",
    "    \n",
    "    def rel_name(self, rel):\n",
    "        return self.relations_dict[rel][\"Name\"]\n",
    "    \n",
    "    def rel_domain(self,rel):\n",
    "        return self.relations_dict[rel][\"Domain\"]\n",
    "    \n",
    "    def rel_range(self,rel):\n",
    "        return self.relations_dict[rel][\"Range\"]\n",
    "    \n",
    "    def rel_reflexive(self,rel):\n",
    "        return self.relations_dict[rel][\"Reflexive\"]\n",
    "    \n",
    "    def rel_symmetric(self,rel):\n",
    "        return self.relations_dict[rel][\"Symmetric\"]\n",
    "    \n",
    "    def rel_transitive(self, rel):\n",
    "        return self.relations_dict[rel][\"Transitive\"]\n",
    "    \n",
    "    def converse(self, rel_or_relset):\n",
    "        '''Return the converse of a relation (str) or relation set (bitset).'''\n",
    "        if isinstance(rel_or_relset, str):\n",
    "            return self.relations_dict[rel_or_relset][\"Converse\"]\n",
    "        else:\n",
    "            return self.elements_bitset((self.converse(r) for r in rel_or_relset.members()))\n",
    "        \n",
    "    def __str__(self):\n",
    "        \"\"\"Return a string representation of the Algebra.\"\"\"\n",
    "        return f\"<{self.name}: {self.description}>\"\n",
    "    \n",
    "    def relset(self, relations):\n",
    "        \"\"\"Return a relation set (bitset) for the given relations.\"\"\"\n",
    "        return self.elements_bitset(relations)\n",
    "    \n",
    "    def add(self, relset1, relset2):\n",
    "        '''Addition for relation sets is equivalent to set intersection.'''\n",
    "        return relset1.intersection(relset2)\n",
    "    \n",
    "    def mult(self, relset1, relset2):\n",
    "        '''Multiplication is done, element-by-element, on the cross-product\n",
    "        of the two sets using the algebra's transitivity table, and\n",
    "        then reducing those results to a single relation set using set\n",
    "        union.\n",
    "        '''\n",
    "        result = self.elements_bitset.infimum  # the empty relation set\n",
    "        for r1 in relset1:\n",
    "            for r2 in relset2:\n",
    "                result = result.union(self.transitivity_table[r1][r2])\n",
    "        return result\n",
    "    \n",
    "    def check_multiplication_identity(self, verbose=False):\n",
    "        \"\"\"Check the validity of the multiplicative identity for every\n",
    "        combination of singleton relset.  :param verbose: Print out\n",
    "        the details of each test :return: True or False\n",
    "\n",
    "        \"\"\"\n",
    "        count = 0\n",
    "        result = True\n",
    "        rels = self.elements\n",
    "        for r in rels:\n",
    "            r_rs = self.relset((r,))\n",
    "            for s in rels:\n",
    "                count += 1\n",
    "                s_rs = self.relset((s,))\n",
    "                prod1 = self.mult(r_rs, s_rs)\n",
    "                prod2 = self.converse(self.mult(self.converse(s_rs), self.converse(r_rs)))\n",
    "                if prod1 != prod2:\n",
    "                    if verbose:\n",
    "                        print(\"FAIL:\")\n",
    "                        print(f\"      r    = {r_rs}\")\n",
    "                        print(f\"      s    = {s_rs}\")\n",
    "                        print(f\"( r *  s)  = {prod1}\")\n",
    "                        print(f\"(si * ri)i = {prod2}\")\n",
    "                        print(f\"{prod1} != {prod2}\")\n",
    "                    result = False\n",
    "        if verbose:\n",
    "            print(f\"\\n{self.name} -- Multiplication Identity Check:\")\n",
    "        if result:\n",
    "            if verbose:\n",
    "                print(f\"PASSED . {count} products tested.\")\n",
    "        else:\n",
    "            if verbose:\n",
    "                print(\"FAILED. See FAILURE output above.\")\n",
    "        return result\n",
    "\n",
    "    def summary(self):\n",
    "        '''Print out a summary of this algebra and its elements.'''\n",
    "        print(f\"  Algebra Name: {self.name}\")\n",
    "        print(f\"   Description: {self.description}\")\n",
    "        # print(f\" Equality Rels: {self.equality_relations}\")\n",
    "        print(\"     Relations:\")\n",
    "        print(\"{:>25s} {:>25s} {:>10s} {:>10s} {:>10s} {:>8s} {:>12s}\".format(\"NAME (ABBREV)\", \"CONVERSE (ABBREV)\",\n",
    "                                                                              \"REFLEXIVE\", \"SYMMETRIC\", \"TRANSITIVE\",\n",
    "                                                                              \"DOMAIN\", \"RANGE\"))\n",
    "        # TODO: Vary spacing between columns based on max word lengths\n",
    "        # For syntax used below see https://docs.python.org/3/library/string.html#format-string-syntax\n",
    "        for r in self.elements:\n",
    "            print(f\"{self.rel_name(r):>19s} ({r:>3s}) \" \\\n",
    "                  f\"{self.rel_name(self.converse(r)):>19s} ({self.converse(r):>3s}) \" \\\n",
    "                  f\"{self.rel_reflexive(r)!s:>8} {self.rel_symmetric(r)!s:>10} {self.rel_transitive(r)!s:>10}\" \\\n",
    "                  f\"{abbrev(self.rel_domain(r))!s:>11} {abbrev(self.rel_range(r))!s:>13}\")\n",
    "        # TODO: Don't hardcode the legend below; make it depend on an abbreviations file (JSON)\n",
    "        print(\"\\nDomain & Range Abbreviations:\")\n",
    "        print(\"   Pt = Point\")\n",
    "        print(\" PInt = Proper Interval\")\n",
    "        \n",
    "    def is_associative(self, verbose=False):\n",
    "        result = True\n",
    "        countskipped = 0\n",
    "        countok = 0\n",
    "        countfailed = 0\n",
    "        counttotal = 0\n",
    "        rels = self.elements\n",
    "        for _a in rels:\n",
    "            for _b in rels:\n",
    "                for _c in rels:\n",
    "                    if verbose:\n",
    "                        print(f\"{_a} x {_b} x {_c} :\")\n",
    "                    a_rs = self.relset((_a,))\n",
    "                    b_rs = self.relset((_b,))\n",
    "                    c_rs = self.relset((_c,))\n",
    "                    if (set(self.rel_range(_a)) & set(self.rel_domain(_b))):\n",
    "                        prod_ab = a_rs * b_rs\n",
    "                        prod_ab_c = prod_ab * c_rs\n",
    "                        if (set(self.rel_range(_b)) & set(self.rel_domain(_c))):\n",
    "                            prod_bc = b_rs * c_rs\n",
    "                            prod_a_bc = a_rs * prod_bc\n",
    "                            if not (prod_ab_c == prod_a_bc):\n",
    "                                if verbose:\n",
    "                                    print(f\"  Associativity fails for a = {a_rs}, b = {b_rs}, c = {c_rs}\")\n",
    "                                    print(f\"    associativity check: {self.rel_range(_a)}::{self.rel_domain(_b)} {self.rel_range(_b)}::{self.rel_domain(_c)}\")\n",
    "                                    print(f\"    (a * b) * c = {prod_ab_c}\")\n",
    "                                    print(f\"    a * (b * c) = {prod_a_bc}\")\n",
    "                                countfailed += 1\n",
    "                                counttotal += 1\n",
    "                                result = False\n",
    "                            else:\n",
    "                                if verbose:\n",
    "                                    print(\"  Associativity OK\")\n",
    "                                countok += 1\n",
    "                                counttotal += 1\n",
    "                        else:\n",
    "                            if verbose:\n",
    "                                print(f\"  Skipping associativity due to b x c: {self.rel_range(_b)}::{self.rel_domain(_c)}\")\n",
    "                            countskipped += 1\n",
    "                            counttotal += 1\n",
    "                    else:\n",
    "                        if verbose:\n",
    "                            print(f\"  Skipping associativity due to a x b: {self.rel_range(_a)}::{self.rel_domain(_b)}\")\n",
    "                        countskipped += 1\n",
    "                        counttotal += 1\n",
    "        print(f\"\\nTEST SUMMARY: {countok} OK, {countskipped} Skipped, {countfailed} Failed ({counttotal} Total)\")\n",
    "        numrels = len(rels)\n",
    "        totaltests = numrels * numrels * numrels\n",
    "        if (counttotal != totaltests):\n",
    "            print(f\"Test counts do not add up; Total should be {totaltests}\")\n",
    "        return result"
   ]
  },
  {
   "cell_type": "markdown",
   "metadata": {},
   "source": [
    "### Instantiate Algebra using JSON file"
   ]
  },
  {
   "cell_type": "code",
   "execution_count": 5,
   "metadata": {},
   "outputs": [
    {
     "name": "stdout",
     "output_type": "stream",
     "text": [
      "<LinearTimeAlgebra: Allen's algebra of proper time intervals>\n"
     ]
    }
   ],
   "source": [
    "#TODO: Change the term \"Point\" to \"Instant\" (to match https://www.w3.org/TR/owl-time/)\n",
    "\n",
    "alg = qr.Algebra(os.path.join(path, \"Algebras/IntervalAlgebra.json\"))  # Allen's algebra of proper time intervals\n",
    "#alg = qr.Algebra(os.path.join(path, \"Algebras/LeftBranchingIntervalAndPointAlgebra.json\"))\n",
    "#alg = qr.Algebra(os.path.join(path, \"Algebras/RightBranchingIntervalAndPointAlgebra.json\"))\n",
    "#alg = qr.Algebra(os.path.join(path, \"Algebras/rcc8Algebra.json\"))\n",
    "\n",
    "print(alg)"
   ]
  },
  {
   "cell_type": "markdown",
   "metadata": {},
   "source": [
    "### Elements of an Algebra"
   ]
  },
  {
   "cell_type": "code",
   "execution_count": 6,
   "metadata": {},
   "outputs": [
    {
     "data": {
      "text/plain": [
       "LinearTimeAlgebra(['B', 'BI', 'D', 'DI', 'E', 'F', 'FI', 'M', 'MI', 'O', 'OI', 'S', 'SI'])"
      ]
     },
     "execution_count": 6,
     "metadata": {},
     "output_type": "execute_result"
    }
   ],
   "source": [
    "alg.elements"
   ]
  },
  {
   "cell_type": "code",
   "execution_count": 7,
   "metadata": {},
   "outputs": [
    {
     "data": {
      "text/plain": [
       "13"
      ]
     },
     "execution_count": 7,
     "metadata": {},
     "output_type": "execute_result"
    }
   ],
   "source": [
    "len(alg.elements)"
   ]
  },
  {
   "cell_type": "code",
   "execution_count": 8,
   "metadata": {},
   "outputs": [
    {
     "data": {
      "text/plain": [
       "LinearTimeAlgebra(['B'])"
      ]
     },
     "execution_count": 8,
     "metadata": {},
     "output_type": "execute_result"
    }
   ],
   "source": [
    "before = alg.relset(['B'])\n",
    "before"
   ]
  },
  {
   "cell_type": "code",
   "execution_count": 9,
   "metadata": {},
   "outputs": [
    {
     "data": {
      "text/plain": [
       "LinearTimeAlgebra(['D'])"
      ]
     },
     "execution_count": 9,
     "metadata": {},
     "output_type": "execute_result"
    }
   ],
   "source": [
    "during = alg.relset(['D'])\n",
    "during"
   ]
  },
  {
   "cell_type": "code",
   "execution_count": 10,
   "metadata": {},
   "outputs": [
    {
     "data": {
      "text/plain": [
       "'Before'"
      ]
     },
     "execution_count": 10,
     "metadata": {},
     "output_type": "execute_result"
    }
   ],
   "source": [
    "alg.rel_name('B')"
   ]
  },
  {
   "cell_type": "code",
   "execution_count": 11,
   "metadata": {},
   "outputs": [
    {
     "data": {
      "text/plain": [
       "LinearTimeAlgebra(['B', 'M', 'OI'])"
      ]
     },
     "execution_count": 11,
     "metadata": {},
     "output_type": "execute_result"
    }
   ],
   "source": [
    "bmoi = alg.relset(('B','M','OI'))\n",
    "bmoi"
   ]
  },
  {
   "cell_type": "code",
   "execution_count": 12,
   "metadata": {},
   "outputs": [
    {
     "name": "stdout",
     "output_type": "stream",
     "text": [
      "B\n",
      "M\n",
      "OI\n"
     ]
    }
   ],
   "source": [
    "for rel in bmoi:\n",
    "    print(rel)"
   ]
  },
  {
   "cell_type": "markdown",
   "metadata": {},
   "source": [
    "### Converses"
   ]
  },
  {
   "cell_type": "code",
   "execution_count": 13,
   "metadata": {},
   "outputs": [
    {
     "data": {
      "text/plain": [
       "'BI'"
      ]
     },
     "execution_count": 13,
     "metadata": {},
     "output_type": "execute_result"
    }
   ],
   "source": [
    "alg.converse('B')"
   ]
  },
  {
   "cell_type": "code",
   "execution_count": 14,
   "metadata": {},
   "outputs": [
    {
     "data": {
      "text/plain": [
       "LinearTimeAlgebra(['BI'])"
      ]
     },
     "execution_count": 14,
     "metadata": {},
     "output_type": "execute_result"
    }
   ],
   "source": [
    "alg.converse(before)"
   ]
  },
  {
   "cell_type": "code",
   "execution_count": 15,
   "metadata": {},
   "outputs": [
    {
     "data": {
      "text/plain": [
       "LinearTimeAlgebra(['BI', 'MI', 'O'])"
      ]
     },
     "execution_count": 15,
     "metadata": {},
     "output_type": "execute_result"
    }
   ],
   "source": [
    "alg.converse(bmoi)"
   ]
  },
  {
   "cell_type": "markdown",
   "metadata": {},
   "source": [
    "### Multiplication"
   ]
  },
  {
   "cell_type": "code",
   "execution_count": 16,
   "metadata": {},
   "outputs": [],
   "source": [
    "#alg.transitivity_table"
   ]
  },
  {
   "cell_type": "code",
   "execution_count": 17,
   "metadata": {},
   "outputs": [
    {
     "data": {
      "text/plain": [
       "LinearTimeAlgebra(['B', 'D', 'M', 'O', 'S'])"
      ]
     },
     "execution_count": 17,
     "metadata": {},
     "output_type": "execute_result"
    }
   ],
   "source": [
    "BxD = alg.mult(before, during)\n",
    "BxD"
   ]
  },
  {
   "cell_type": "markdown",
   "metadata": {},
   "source": [
    "### Addition"
   ]
  },
  {
   "cell_type": "code",
   "execution_count": 18,
   "metadata": {},
   "outputs": [
    {
     "name": "stdout",
     "output_type": "stream",
     "text": [
      "('D', 'F', 'M', 'SI')\n"
     ]
    },
    {
     "data": {
      "text/plain": [
       "LinearTimeAlgebra(['D', 'M'])"
      ]
     },
     "execution_count": 18,
     "metadata": {},
     "output_type": "execute_result"
    }
   ],
   "source": [
    "bmfsi = alg.relset(['D','M','F','SI'])\n",
    "print(bmfsi.members())\n",
    "qr.add(BxD,bmfsi)"
   ]
  },
  {
   "cell_type": "code",
   "execution_count": 19,
   "metadata": {},
   "outputs": [
    {
     "name": "stdout",
     "output_type": "stream",
     "text": [
      "('BI', 'D', 'DI', 'E', 'F', 'FI', 'M', 'MI', 'O', 'OI', 'S', 'SI')\n"
     ]
    }
   ],
   "source": [
    "print(before.complement().members())"
   ]
  },
  {
   "cell_type": "code",
   "execution_count": 20,
   "metadata": {},
   "outputs": [
    {
     "name": "stdout",
     "output_type": "stream",
     "text": [
      "('BI', 'DI', 'E', 'F', 'FI', 'MI', 'OI', 'SI')\n"
     ]
    }
   ],
   "source": [
    "print(BxD.complement().members())"
   ]
  },
  {
   "cell_type": "code",
   "execution_count": 21,
   "metadata": {},
   "outputs": [
    {
     "data": {
      "text/plain": [
       "True"
      ]
     },
     "execution_count": 21,
     "metadata": {},
     "output_type": "execute_result"
    }
   ],
   "source": [
    "alg.check_multiplication_identity()"
   ]
  },
  {
   "cell_type": "markdown",
   "metadata": {},
   "source": [
    "### Description (Summary) of an Algebra"
   ]
  },
  {
   "cell_type": "markdown",
   "metadata": {},
   "source": [
    "#### Abbreviations used in the Summary"
   ]
  },
  {
   "cell_type": "raw",
   "metadata": {},
   "source": [
    "# TODO: Don't embed the abbreviation dictionary in code; create a file for it\n",
    "def abbrev(term_list):\n",
    "    abbrev_dict = {\"Point\":\"Pt\",\n",
    "                   \"ProperInterval\":\"PInt\",\n",
    "                   \"Interval\":\"Int\"}\n",
    "    return '|'.join([abbrev_dict[term] for term in term_list])\n",
    "\n",
    "# A couple of tests:\n",
    "print(abbrev([\"Point\", \"ProperInterval\"]))\n",
    "print(abbrev(['Point']))"
   ]
  },
  {
   "cell_type": "code",
   "execution_count": 22,
   "metadata": {},
   "outputs": [
    {
     "name": "stdout",
     "output_type": "stream",
     "text": [
      "  Algebra Name: LinearTimeAlgebra\n",
      "   Description: Allen's algebra of proper time intervals\n",
      "     Relations:\n",
      "            NAME (ABBREV)         CONVERSE (ABBREV)  REFLEXIVE  SYMMETRIC TRANSITIVE   DOMAIN        RANGE\n",
      "             Before (  B)               After ( BI)    False      False       True       PInt          PInt\n",
      "              After ( BI)              Before (  B)    False      False       True       PInt          PInt\n",
      "             During (  D)            Contains ( DI)    False      False       True       PInt          PInt\n",
      "           Contains ( DI)              During (  D)    False      False       True       PInt          PInt\n",
      "             Equals (  E)              Equals (  E)     True       True       True       PInt          PInt\n",
      "           Finishes (  F)         Finished-by ( FI)    False      False       True       PInt          PInt\n",
      "        Finished-by ( FI)            Finishes (  F)    False      False       True       PInt          PInt\n",
      "              Meets (  M)              Met-By ( MI)    False      False      False       PInt          PInt\n",
      "             Met-By ( MI)               Meets (  M)    False      False      False       PInt          PInt\n",
      "           Overlaps (  O)       Overlapped-By ( OI)    False      False      False       PInt          PInt\n",
      "      Overlapped-By ( OI)            Overlaps (  O)    False      False      False       PInt          PInt\n",
      "             Starts (  S)          Started-By ( SI)    False      False       True       PInt          PInt\n",
      "         Started-By ( SI)              Starts (  S)    False      False       True       PInt          PInt\n",
      "\n",
      "Domain & Range Abbreviations:\n",
      "   Pt = Point\n",
      " PInt = Proper Interval\n"
     ]
    }
   ],
   "source": [
    "alg.summary()"
   ]
  },
  {
   "cell_type": "markdown",
   "metadata": {},
   "source": [
    "### Associativity"
   ]
  },
  {
   "cell_type": "code",
   "execution_count": 23,
   "metadata": {},
   "outputs": [
    {
     "name": "stdout",
     "output_type": "stream",
     "text": [
      "\n",
      "TEST SUMMARY: 2197 OK, 0 Skipped, 0 Failed (2197 Total)\n"
     ]
    },
    {
     "data": {
      "text/plain": [
       "True"
      ]
     },
     "execution_count": 23,
     "metadata": {},
     "output_type": "execute_result"
    }
   ],
   "source": [
    "alg.is_associative()"
   ]
  },
  {
   "cell_type": "markdown",
   "metadata": {},
   "source": [
    "## Networks"
   ]
  },
  {
   "cell_type": "markdown",
   "metadata": {},
   "source": [
    "### Old Network Definition"
   ]
  },
  {
   "cell_type": "raw",
   "metadata": {},
   "source": [
    "class Network_OLD(object):\n",
    "    \"\"\"A network of entities (e.g., events) with relationships between the entities.\n",
    "    The relationships must be defined by a single, specific algebra.\n",
    "    \"\"\"\n",
    "\n",
    "    def __init__(self, algebra, network_name=None):\n",
    "        self.__algebra = algebra\n",
    "        self.__constraints = dict()\n",
    "        self.__entities = set([])\n",
    "        if network_name:\n",
    "            self.__name = network_name\n",
    "        else:\n",
    "            self.__name = uuid.uuid4()\n",
    "\n",
    "    def __len__(self):\n",
    "        return len(self.__entities)\n",
    "\n",
    "    @property\n",
    "    def name(self):\n",
    "        return str(self.__name)\n",
    "\n",
    "    def __repr__(self):\n",
    "        return f\"<Network: {self.name}, {self.__entities} entities>\"\n",
    "\n",
    "    def __add_constraint(self, e1, e2, rs):\n",
    "        \"\"\"\n",
    "        Add a constraint, rs (relset), between two entities (e1 & e2).\n",
    "        \"\"\"\n",
    "        if e1 not in self.__constraints:\n",
    "            self.__constraints[e1] = {e2: rs}\n",
    "        else:\n",
    "            if e2 not in self.__constraints[e1]:\n",
    "                self.__constraints[e1][e2] = rs\n",
    "            else:\n",
    "                self.__constraints[e1][e2].union(rs)\n",
    "\n",
    "    def __set_unconstrained_values(self):\n",
    "        ident = self.__algebra.elements\n",
    "        for ent1 in self.__entities:\n",
    "            for ent2 in self.__entities:\n",
    "                if ent1 in self.__constraints:\n",
    "                    if ent2 in self.__constraints[ent1]:\n",
    "                        pass\n",
    "                    else:\n",
    "                        self.constraint(ent1, ent2, ident)\n",
    "                else:\n",
    "                    if ent2 in self.__constraints:\n",
    "                        if ent1 in self.__constraints[ent2]:\n",
    "                            pass\n",
    "                        else:\n",
    "                            self.constraint(ent1, ent2, ident)\n",
    "                    else:\n",
    "                        self.constraint(ent1, ent2, ident)\n",
    "\n",
    "    def constraint(self, entity1, entity2, rels=None):\n",
    "        \"\"\"Assert that entity1 relates to entity2 in one of the ways\n",
    "        contained in the set of relations, rels.  For example: (e1\n",
    "        [before, overlaps, meets] e2) iff (e1 before e2) OR (e1\n",
    "        overlaps e2) OR (e1 meets e2).\n",
    "        \"\"\"\n",
    "\n",
    "        # Remember Entities:\n",
    "        self.__entities.add(entity1)\n",
    "        self.__entities.add(entity2)\n",
    "\n",
    "        if rels:\n",
    "            relset = self.__algebra.relset(rels)\n",
    "        else:\n",
    "            relset = self.__algebra.elements\n",
    "\n",
    "        self.__add_constraint(entity1, entity2, relset)\n",
    "        self.__add_constraint(entity2, entity1, relset.converse)\n",
    "\n",
    "        equality1 = [self.__algebra.equality_relation_dict[t] for t in entity1.gettype()]\n",
    "        equality2 = [self.__algebra.equality_relation_dict[t] for t in entity2.gettype()]\n",
    "\n",
    "        self.__add_constraint(entity1, entity1, RelationSet(equality1, self.__algebra))\n",
    "        self.__add_constraint(entity2, entity2, RelationSet(equality2, self.__algebra))\n",
    "\n",
    "    def propagate(self, verbose=False):\n",
    "        \"\"\"Propagate constraints in the network.\n",
    "        @param verbose: Print number of loops as constraints are propagated.\n",
    "        \"\"\"\n",
    "        loop_count = 0\n",
    "        self.__set_unconstrained_values()\n",
    "        something_changed = True  # Start off with this True so we'll loop at least once\n",
    "        while something_changed:\n",
    "            something_changed = False  # Immediately set to False; if nothing changes, we'll only loop once\n",
    "            loop_count += 1\n",
    "            for ent1 in self.__entities:\n",
    "                for ent2 in self.__entities:\n",
    "                    prod = self.__algebra.elements\n",
    "                    c12 = self.__constraints[ent1][ent2]\n",
    "                    for ent3 in self.__entities:\n",
    "                        c13 = self.__constraints[ent1][ent3]\n",
    "                        c32 = self.__constraints[ent3][ent2]\n",
    "                        prod = prod + (c13 * c32)\n",
    "                    if prod != c12:\n",
    "                        something_changed = True  # Need to continue top-level propagation loop\n",
    "                    self.__constraints[ent1][ent2] = prod\n",
    "        if verbose:\n",
    "            print(f\"Number of propagation loops: {loop_count}\")\n",
    "\n",
    "    def print_constraints(self):\n",
    "        print(f\"\\n{self}\\nConstraints: (Source, Target, RelationSet)\")\n",
    "        for x in self.__constraints:\n",
    "            for y in self.__constraints[x]:\n",
    "                rels = self.__constraints[x][y]\n",
    "                print(f\"  {x.name}, {y.name}, {sorted(list(rels))}\")"
   ]
  },
  {
   "cell_type": "raw",
   "metadata": {},
   "source": [
    "# See https://www.w3.org/TR/owl-time/\n",
    "class TemporalEntity(object):\n",
    "    \n",
    "    types = [\"Point\", \"ProperInterval\", \"Duration\"]\n",
    "\n",
    "    def __init__(self, types, name=None, start=None, end=None, dur=None):\n",
    "        self.__type = types\n",
    "        self.__name = name\n",
    "        self.__start = start\n",
    "        self.__end = end\n",
    "        self.__duration = dur\n",
    "\n",
    "    @property\n",
    "    def name(self):\n",
    "        return self.__name\n",
    "\n",
    "    def gettype(self):\n",
    "        return self.__type\n",
    "\n",
    "    def settype(self, typ):\n",
    "        self.__type = typ\n",
    "\n",
    "    def __repr__(self):\n",
    "        if self.__name:\n",
    "            return f\"<TemporalEntity {self.__name} {self.__type}>\"\n",
    "        else:\n",
    "            return f\"<TemporalEntity {self.__type}>\""
   ]
  },
  {
   "cell_type": "markdown",
   "metadata": {},
   "source": [
    "### New Network Definition"
   ]
  },
  {
   "cell_type": "code",
   "execution_count": 24,
   "metadata": {},
   "outputs": [],
   "source": [
    "#help(nx.DiGraph)"
   ]
  },
  {
   "cell_type": "raw",
   "metadata": {},
   "source": [
    "class Network(nx.DiGraph):\n",
    "    \n",
    "    def __init__(self, algebra, name=None):\n",
    "        self.algebra = algebra\n",
    "        super().__init__(name=name)\n",
    "    \n",
    "    def __str__(self):\n",
    "        return f\"<Network--{self.name}--{self.algebra.name}>\"\n",
    "    \n",
    "    def add_constraint(self, entity1, entity2, relation_set=None):\n",
    "        '''Same as add_edge, except that two edges are added with converse constraints.'''\n",
    "        if relation_set:\n",
    "            self.add_edge(entity1, entity2, constraint=relation_set)\n",
    "            self.add_edge(entity2, entity1, constraint=self.algebra.converse(relation_set))\n",
    "        else:\n",
    "            self.add_edge(entity1, entity2, constraint=self.algebra.elements)\n",
    "            self.add_edge(entity2, entity1, constraint=self.algebra.elements)\n",
    "    \n",
    "    @property\n",
    "    def constraints(self):\n",
    "        return self.edges\n",
    "    \n",
    "    @property\n",
    "    def entities(self):\n",
    "        return self.nodes\n",
    "    \n",
    "    def summary(self):\n",
    "        '''Print out a summary of this network and its nodes, edges, and constraints.'''\n",
    "        print(f\"{self.name}: {len(self.nodes)} nodes, {len(self.edges)} edges\")\n",
    "        #print(\"  Head\")\n",
    "        #print(\"    Tail: (Constraints)\")\n",
    "        for head in self.nodes:\n",
    "            print(f\"  {head.name}:\")\n",
    "            for tail in self.neighbors(head):\n",
    "                print(f\"    => {tail.name}: {list(net.edges[head,tail]['constraint'].members())}\")"
   ]
  },
  {
   "cell_type": "code",
   "execution_count": 25,
   "metadata": {},
   "outputs": [
    {
     "name": "stdout",
     "output_type": "stream",
     "text": [
      "<TemporalEntity Event1 ['ProperInterval']>\n",
      "<TemporalEntity Event2 ['ProperInterval']>\n",
      "<TemporalEntity Event3 ['ProperInterval']>\n"
     ]
    }
   ],
   "source": [
    "evt1 = qr.TemporalEntity([\"ProperInterval\"], name=\"Event1\")\n",
    "evt2 = qr.TemporalEntity([\"ProperInterval\"], name=\"Event2\")\n",
    "evt3 = qr.TemporalEntity([\"ProperInterval\"], name=\"Event3\")\n",
    "print(evt1)\n",
    "print(evt2)\n",
    "print(evt3)"
   ]
  },
  {
   "cell_type": "code",
   "execution_count": 26,
   "metadata": {},
   "outputs": [
    {
     "name": "stdout",
     "output_type": "stream",
     "text": [
      "<Network--TestGraph1--LinearTimeAlgebra>\n"
     ]
    }
   ],
   "source": [
    "net = qr.Network(alg, name=\"TestGraph1\")\n",
    "print(net)"
   ]
  },
  {
   "cell_type": "code",
   "execution_count": 27,
   "metadata": {},
   "outputs": [
    {
     "data": {
      "text/plain": [
       "LinearTimeAlgebra(['D', 'F', 'M', 'SI'])"
      ]
     },
     "execution_count": 27,
     "metadata": {},
     "output_type": "execute_result"
    }
   ],
   "source": [
    "bmfsi  # defined above"
   ]
  },
  {
   "cell_type": "code",
   "execution_count": 28,
   "metadata": {},
   "outputs": [
    {
     "name": "stdout",
     "output_type": "stream",
     "text": [
      "{'constraint': LinearTimeAlgebra(['D', 'F', 'M', 'SI'])}\n",
      "{'constraint': LinearTimeAlgebra(['DI', 'FI', 'MI', 'S'])}\n"
     ]
    }
   ],
   "source": [
    "net.add_constraint(evt1, evt2, bmfsi)\n",
    "print(net.edges[evt1,evt2])\n",
    "print(net.edges[evt2,evt1])"
   ]
  },
  {
   "cell_type": "code",
   "execution_count": 29,
   "metadata": {},
   "outputs": [
    {
     "data": {
      "text/plain": [
       "{'constraint': LinearTimeAlgebra(['B', 'BI', 'D', 'DI', 'E', 'F', 'FI', 'M', 'MI', 'O', 'OI', 'S', 'SI'])}"
      ]
     },
     "execution_count": 29,
     "metadata": {},
     "output_type": "execute_result"
    }
   ],
   "source": [
    "net.add_constraint(evt2, evt3)\n",
    "net.edges[evt2,evt3]"
   ]
  },
  {
   "cell_type": "code",
   "execution_count": 30,
   "metadata": {},
   "outputs": [
    {
     "data": {
      "text/plain": [
       "[(<TemporalEntity Event1 ['ProperInterval']>,\n",
       "  <TemporalEntity Event2 ['ProperInterval']>),\n",
       " (<TemporalEntity Event2 ['ProperInterval']>,\n",
       "  <TemporalEntity Event1 ['ProperInterval']>),\n",
       " (<TemporalEntity Event2 ['ProperInterval']>,\n",
       "  <TemporalEntity Event3 ['ProperInterval']>),\n",
       " (<TemporalEntity Event3 ['ProperInterval']>,\n",
       "  <TemporalEntity Event2 ['ProperInterval']>)]"
      ]
     },
     "execution_count": 30,
     "metadata": {},
     "output_type": "execute_result"
    }
   ],
   "source": [
    "list(net.constraints)"
   ]
  },
  {
   "cell_type": "code",
   "execution_count": 31,
   "metadata": {},
   "outputs": [
    {
     "data": {
      "text/plain": [
       "[(<TemporalEntity Event1 ['ProperInterval']>,\n",
       "  <TemporalEntity Event2 ['ProperInterval']>),\n",
       " (<TemporalEntity Event2 ['ProperInterval']>,\n",
       "  <TemporalEntity Event1 ['ProperInterval']>),\n",
       " (<TemporalEntity Event2 ['ProperInterval']>,\n",
       "  <TemporalEntity Event3 ['ProperInterval']>),\n",
       " (<TemporalEntity Event3 ['ProperInterval']>,\n",
       "  <TemporalEntity Event2 ['ProperInterval']>)]"
      ]
     },
     "execution_count": 31,
     "metadata": {},
     "output_type": "execute_result"
    }
   ],
   "source": [
    "list(net.edges)"
   ]
  },
  {
   "cell_type": "code",
   "execution_count": 32,
   "metadata": {},
   "outputs": [
    {
     "data": {
      "text/plain": [
       "{'constraint': LinearTimeAlgebra(['D', 'F', 'M', 'SI'])}"
      ]
     },
     "execution_count": 32,
     "metadata": {},
     "output_type": "execute_result"
    }
   ],
   "source": [
    "net.edges[evt1,evt2]"
   ]
  },
  {
   "cell_type": "code",
   "execution_count": 33,
   "metadata": {},
   "outputs": [
    {
     "data": {
      "text/plain": [
       "LinearTimeAlgebra(['D', 'F', 'M', 'SI'])"
      ]
     },
     "execution_count": 33,
     "metadata": {},
     "output_type": "execute_result"
    }
   ],
   "source": [
    "net.edges[evt1,evt2]['constraint']"
   ]
  },
  {
   "cell_type": "code",
   "execution_count": 34,
   "metadata": {},
   "outputs": [
    {
     "data": {
      "text/plain": [
       "[<TemporalEntity Event1 ['ProperInterval']>,\n",
       " <TemporalEntity Event2 ['ProperInterval']>,\n",
       " <TemporalEntity Event3 ['ProperInterval']>]"
      ]
     },
     "execution_count": 34,
     "metadata": {},
     "output_type": "execute_result"
    }
   ],
   "source": [
    "list(net.entities)"
   ]
  },
  {
   "cell_type": "code",
   "execution_count": 35,
   "metadata": {
    "scrolled": true
   },
   "outputs": [
    {
     "name": "stdout",
     "output_type": "stream",
     "text": [
      "TestGraph1: 3 nodes, 4 edges\n",
      "  Event1:\n",
      "    => Event2: ['D', 'F', 'M', 'SI']\n",
      "  Event2:\n",
      "    => Event1: ['DI', 'FI', 'MI', 'S']\n",
      "    => Event3: ['B', 'BI', 'D', 'DI', 'E', 'F', 'FI', 'M', 'MI', 'O', 'OI', 'S', 'SI']\n",
      "  Event3:\n",
      "    => Event2: ['B', 'BI', 'D', 'DI', 'E', 'F', 'FI', 'M', 'MI', 'O', 'OI', 'S', 'SI']\n"
     ]
    }
   ],
   "source": [
    "net.summary()"
   ]
  },
  {
   "cell_type": "raw",
   "metadata": {},
   "source": [
    "# Don't have a good source yet for a spatial vocabulary,\n",
    "# but see https://www.w3.org/2017/sdwig/bp/\n",
    "class SpatialEntity(object):\n",
    "\n",
    "    def __init__(self, types, name=None):\n",
    "        self.__type = types\n",
    "        self.__name = name\n",
    "\n",
    "    @property\n",
    "    def name(self):\n",
    "        return self.__name\n",
    "\n",
    "    def gettype(self):\n",
    "        return self.__type\n",
    "\n",
    "    def settype(self, typ):\n",
    "        self.__type = typ\n",
    "\n",
    "    def __repr__(self):\n",
    "        if self.__name:\n",
    "            return f\"<SpatialObject {self.__name} {self.__type}>\"\n",
    "        else:\n",
    "            return f\"<SpatialObject {self.__type}>\""
   ]
  },
  {
   "cell_type": "code",
   "execution_count": 36,
   "metadata": {},
   "outputs": [
    {
     "name": "stdout",
     "output_type": "stream",
     "text": [
      "\n",
      "\n",
      "Constraint: X ['B'] Y\n",
      "Constraint: Y ['D'] Z\n"
     ]
    },
    {
     "data": {
      "text/plain": [
       "[<TemporalEntity X ['ProperInterval']>,\n",
       " <TemporalEntity Y ['ProperInterval']>,\n",
       " <TemporalEntity Z ['ProperInterval']>]"
      ]
     },
     "execution_count": 36,
     "metadata": {},
     "output_type": "execute_result"
    }
   ],
   "source": [
    "#print(\"{}:\".format(alg[0].name))\n",
    "entity_x = qr.TemporalEntity([\"ProperInterval\"], \"X\")\n",
    "entity_y = qr.TemporalEntity([\"ProperInterval\"], \"Y\")\n",
    "entity_z = qr.TemporalEntity([\"ProperInterval\"], \"Z\")\n",
    "r12 = alg.relset([\"B\"])\n",
    "r23 = alg.relset([\"D\"])\n",
    "print(\"\\n\")\n",
    "print(\"Constraint: {} {} {}\".format(entity_x.name, list(r12.members()), entity_y.name))\n",
    "print(\"Constraint: {} {} {}\".format(entity_y.name, list(r23.members()), entity_z.name))\n",
    "net0 = qr.Network(alg)\n",
    "net0.add_edge(entity_x, entity_y, constraint=r12)\n",
    "net0.add_edge(entity_y, entity_z, constraint=r23)\n",
    "list(net0)\n",
    "#net0.propagate(verbose=True)\n",
    "#net0.print_constraints()\n",
    "#print(\"\\n\")"
   ]
  },
  {
   "cell_type": "markdown",
   "metadata": {},
   "source": [
    "### Compact Relation Symbols"
   ]
  },
  {
   "cell_type": "code",
   "execution_count": 37,
   "metadata": {},
   "outputs": [],
   "source": [
    "default_relations_dict = {\n",
    "    # Allen's relations\n",
    "    \"B\" :\"b\", \"BI\":\"B\", \"D\" :\"d\", \"DI\":\"D\", \"E\" :\"e\", \"F\" :\"f\",\n",
    "    \"FI\":\"F\", \"M\" :\"m\", \"MI\":\"M\", \"O\" :\"o\", \"OI\":\"O\", \"S\" :\"s\", \"SI\":\"S\",\n",
    "    # Point relations\n",
    "    \"PE\":\".e\", \"PF\":\".f\", \"PFI\":\".F\", \"PS\":\".s\", \"PSI\":\".S\",\n",
    "    # Left-branching relations\n",
    "    \"LB\":\">b\", \"LBI\":\">B\", \"LF\":\">f\", \"LO\":\">o\", \"LOI\":\">O\", \"L~\":\">~\",\n",
    "    # Right-branching relations\n",
    "    \"RB\":\"<b\", \"RBI\":\"<B\", \"RO\":\"<o\", \"ROI\":\"<O\", \"RS\":\"<s\", \"R~\":\"<~\"\n",
    "}\n",
    "\n",
    "def compact_relation(rel_str, rel_dict=default_relations_dict):\n",
    "    return rel_dict[rel_str]\n",
    "\n",
    "def compact_relset(relset):\n",
    "    return \"\".join(list(map(lambda r: compact_relation(r), relset.members())))"
   ]
  },
  {
   "cell_type": "code",
   "execution_count": 38,
   "metadata": {},
   "outputs": [
    {
     "data": {
      "text/plain": [
       "LinearTimeAlgebra(['D', 'F', 'M', 'SI'])"
      ]
     },
     "execution_count": 38,
     "metadata": {},
     "output_type": "execute_result"
    }
   ],
   "source": [
    "bmfsi"
   ]
  },
  {
   "cell_type": "code",
   "execution_count": 39,
   "metadata": {},
   "outputs": [
    {
     "data": {
      "text/plain": [
       "'dfmS'"
      ]
     },
     "execution_count": 39,
     "metadata": {},
     "output_type": "execute_result"
    }
   ],
   "source": [
    "compact_relset(bmfsi)"
   ]
  },
  {
   "cell_type": "code",
   "execution_count": 45,
   "metadata": {},
   "outputs": [],
   "source": [
    "with open('default_relation_mappings.json', 'w') as fp:\n",
    "    qr.json.dump(default_relations_dict, fp)"
   ]
  },
  {
   "cell_type": "code",
   "execution_count": null,
   "metadata": {},
   "outputs": [],
   "source": []
  }
 ],
 "metadata": {
  "kernelspec": {
   "display_name": "Python 3",
   "language": "python",
   "name": "python3"
  },
  "language_info": {
   "codemirror_mode": {
    "name": "ipython",
    "version": 3
   },
   "file_extension": ".py",
   "mimetype": "text/x-python",
   "name": "python",
   "nbconvert_exporter": "python",
   "pygments_lexer": "ipython3",
   "version": "3.7.3"
  }
 },
 "nbformat": 4,
 "nbformat_minor": 2
}
