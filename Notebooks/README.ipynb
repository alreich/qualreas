{
 "cells": [
  {
   "cell_type": "markdown",
   "metadata": {},
   "source": [
    "# Qualitative Reasoning (\"qualreas\")"
   ]
  },
  {
   "cell_type": "markdown",
   "metadata": {},
   "source": [
    "The Python module, <b>qualreas</b>, provides a framework for working with the class of <b>Relation Algebras</b> like [Allen's Algebra of Time Intervals](https://en.wikipedia.org/wiki/Allen%27s_interval_algebra) and the [Region Connection Calculus (RCC)](https://en.wikipedia.org/wiki/Region_connection_calculus).  Specifically, <i>qualreas</i> provides a representation of <b>Constraint Networks</b> where the nodes represent <b>Entities</b> (Spatial, Temporal, or whatever) and the edges are labelled with <b>Relation Sets</b> (<i>relsets</i>) that represent spatio-temporal constraints between the entities.\n",
    "\n",
    "The constraint networks in qualreas can be <b>propagated</b> to achieve <b>path consistency</b> and they can be \"factored\" into <b>consistent singleton networks</b>.\n",
    "\n",
    "Algebras and Networks in qualreas can be read from, or written to, <b>JSON</b> or Python dictionary formats."
   ]
  },
  {
   "cell_type": "markdown",
   "metadata": {},
   "source": [
    "## Table of Contents\n",
    "* [How do I get set up?](#setup)\n",
    "    * [Testing the Installation](#test_install)\n",
    "* [Repository Description](#repo_desc)\n",
    "* [References](#refs)\n",
    "* [EXAMPLES](#examples)\n",
    "    * [Imports](#imports)\n",
    "    * [Paths to Network & Algebra](#paths)\n",
    "    * [Constraint Network in JSON Format](#network_format)\n",
    "    * [Instantiate the Constraint Network Object](#instantiate)\n",
    "    * [Summarize the Network](#summarize)\n",
    "    * [Get Entity (Network Node)](#nodes)\n",
    "    * [Get Edge by Tail & Head Node IDs](#edges)\n",
    "    * [The Algebra \"Inside\" the Network](#algebra)\n",
    "    * [Perform Constraint Propagation](#prop)\n",
    "    * [Singleton Labelings of a Network](#labelings)\n",
    "    * [An Example of Temporal Reasoning](#temporal)\n",
    "    * [Converting Networks to/from Other Formats](#other_formats)\n",
    "        * [Network to Dictionary](#net_to_dict)\n",
    "        * [Dictionary to Network](#dict_to_net)\n",
    "        * [Network to JSON](#net_to_json)\n",
    "            * [Network to JSON File](#net_to_json_file)\n",
    "            * [Network to JSON String](#net_to_json_str)"
   ]
  },
  {
   "cell_type": "markdown",
   "metadata": {},
   "source": [
    "## How do I get set up? <a class=\"anchor\" id=\"setup\"></a>"
   ]
  },
  {
   "cell_type": "markdown",
   "metadata": {},
   "source": [
    "With respect the Python packages that <b>qualreas</b> depends on, here are the imports from the top of the source code file, <i>qualreas.py</i>:"
   ]
  },
  {
   "cell_type": "markdown",
   "metadata": {},
   "source": [
    "* from bitsets import bitset, bases  (https://bitsets.readthedocs.io/en/stable/)\n",
    "* import os\n",
    "* import json\n",
    "* import random\n",
    "* import string\n",
    "* import networkx as nx  (https://networkx.github.io/)\n",
    "* from functools import reduce\n",
    "* from collections import abc, OrderedDict\n",
    "* import numpy as np"
   ]
  },
  {
   "cell_type": "markdown",
   "metadata": {},
   "source": [
    "All but one of the dependencies, above, will be taken care of if the [Anaconda Python distribution for individuals](https://www.anaconda.com/products/individual) is used.\n",
    "\n",
    "The one additional dependency required is <b>bitsets</b>.  The [bitsets package](https://bitsets.readthedocs.io/en/stable/#) is not available in the Anaconda distribution, but it can be easily added by executing the following command:"
   ]
  },
  {
   "cell_type": "markdown",
   "metadata": {},
   "source": [
    "> pip install bitsets"
   ]
  },
  {
   "cell_type": "markdown",
   "metadata": {},
   "source": [
    "Then, use <b>git</b> to clone the <b>qualreas</b> respository."
   ]
  },
  {
   "cell_type": "markdown",
   "metadata": {},
   "source": [
    "### Testing the installation <a class=\"anchor\" id=\"test_install\"></a>"
   ]
  },
  {
   "cell_type": "markdown",
   "metadata": {},
   "source": [
    "Setup an environment variable, <b>PYPROJ</b>, that points to the directory containing <b>qualreas</b>.\n",
    "\n",
    "Then <b>cd</b> into the directory, <b>PYPROJ/qualreas/Source</b>, and execute the following command:"
   ]
  },
  {
   "cell_type": "markdown",
   "metadata": {},
   "source": [
    "> python qualreas.py"
   ]
  },
  {
   "cell_type": "markdown",
   "metadata": {},
   "source": [
    "This test will generate output that ends with the words, END OF TESTS."
   ]
  },
  {
   "cell_type": "markdown",
   "metadata": {},
   "source": [
    "## Repository Description <a class=\"anchor\" id=\"repo_desc\"></a>"
   ]
  },
  {
   "cell_type": "markdown",
   "metadata": {},
   "source": [
    "This is a brief description of the contents of each directory in this repository.\n",
    "\n",
    "There is a lot here that is old and even obsolete.  The important directories for now are: <b>Algebras, Networks, Notebooks, Papers, and Sources</b>.  Because much has been in flux, testing & documentation has mostly been done using the notebooks (Jupyter notebooks), but not all of the notebooks have been kept up-to-date. This readme is one of the notebooks, exported to <i>markdown (md).</i>"
   ]
  },
  {
   "cell_type": "markdown",
   "metadata": {},
   "source": [
    "* Algebras -- Relation Algebras in JSON format\n",
    "* Docs -- INCOMPLETE (Don't look in here)\n",
    "* Images -- What the title says\n",
    "* LICENSE -- same\n",
    "* Misc -- Assorted junk (Don't look in here)\n",
    "* Networks -- Constraint Networks in JSON format\n",
    "* Notebooks -- Jupyter Notebooks in wildly varying conditions (old, new, obsolete)\n",
    "*Ontologies -- The .ttl file updates the W3C.org ontology of time to correspond to the Extended_Linear_Interval_Algebra [Reich 1994]\n",
    "* Papers -- A collection of papers from the relevant literature\n",
    "* README.md -- This file\n",
    "* Source -- Two files. The one that matters is \"qualreas.py\"\n",
    "* Tests -- NCOMPLETE (Don't look in here)\n",
    "* Trash -- For when I'm too paranoid to delete something I don't really need\n",
    "* output_13_0.png -- A small figure used in the README\n"
   ]
  },
  {
   "cell_type": "markdown",
   "metadata": {},
   "source": [
    "## References <a class=\"anchor\" id=\"refs\"></a>"
   ]
  },
  {
   "cell_type": "markdown",
   "metadata": {},
   "source": [
    "1. [\"Maintaining Knowledge about Temporal Intervals\" by James F. Allen](https://cse.unl.edu/~choueiry/Documents/Allen-CACM1983.pdf) - Allen's original paper (PDF)\n",
    "1. [Allen's Interval Algebra](https://www.ics.uci.edu/~alspaugh/cls/shr/allen.html) or [here](https://thomasalspaugh.org/pub/fnd/allen.html) - summarizes Allen's algebra of proper time intervals\n",
    "1. [\"Intervals, Points, and Branching Time\" by A.J. Reich](https://www.researchgate.net/publication/220810644_Intervals_Points_and_Branching_Time) - basis for the point & branching time extensions to Allen's algebra"
   ]
  },
  {
   "cell_type": "markdown",
   "metadata": {},
   "source": [
    "## EXAMPLES <a class=\"anchor\" id=\"examples\"></a>"
   ]
  },
  {
   "cell_type": "markdown",
   "metadata": {},
   "source": [
    "In the following Jupyter Notebook examples, <b>two different types</b> of contraint algebras are demonstrated:\n",
    "1. The spatial constraint algebra, [Region Connection Calculus 8 (RCC8)](https://en.wikipedia.org/wiki/Region_connection_calculus)\n",
    "1. The temporal interval & point algebra defined by Reich in [\"Intervals, Points, and Branching Time\", 1994](https://www.researchgate.net/publication/220810644_Intervals_Points_and_Branching_Time)\n",
    "\n",
    "The examples provide brief demonstrations of a <i>qualreas</i> <b>Constraint Network</b> can be...\n",
    "* represented in JSON or Python dictionary formats\n",
    "* instantiated from a JSON file or Python dictionary\n",
    "* serialized to a JSON file/string or Python dictionary\n",
    "* summarized\n",
    "* propagated\n",
    "* queried for details about node and edge attributes\n",
    "* used to generate all consistent singleton labellings when multiple constraints (relations) are involved\n",
    "\n",
    "A brief look at Algebras and their components and methods is provided also."
   ]
  },
  {
   "cell_type": "markdown",
   "metadata": {},
   "source": [
    "## Imports <a class=\"anchor\" id=\"imports\"></a>"
   ]
  },
  {
   "cell_type": "code",
   "execution_count": 1,
   "metadata": {},
   "outputs": [],
   "source": [
    "import qualreas as qr\n",
    "import os\n",
    "from IPython.display import Image"
   ]
  },
  {
   "cell_type": "markdown",
   "metadata": {},
   "source": [
    "## Paths to Network & Algebra <a class=\"anchor\" id=\"paths\"></a>"
   ]
  },
  {
   "cell_type": "markdown",
   "metadata": {},
   "source": [
    "To begin, we will instantiate a Constraint Network and it's corresponding Algebra from two JSON files.\n",
    "\n",
    "Each are kept in separate directories, 'Networks' and 'Algebras', within a top-level 'qualreas' directory, with the full path defined here using an environment variable:"
   ]
  },
  {
   "cell_type": "code",
   "execution_count": 2,
   "metadata": {},
   "outputs": [],
   "source": [
    "qr_path = os.path.join(os.getenv('PYPROJ'), 'qualreas')"
   ]
  },
  {
   "cell_type": "markdown",
   "metadata": {},
   "source": [
    "Once defined, an Algebra's JSON format should remain unchanged. The name of the Algebra used by a Network can then be stored in the Network's definition (in JSON) regardless of where the Network's JSON file resides.  So, we only need provide the path to the directory containing Algebra files:"
   ]
  },
  {
   "cell_type": "code",
   "execution_count": 3,
   "metadata": {},
   "outputs": [],
   "source": [
    "alg_dir = os.path.join(qr_path, \"Algebras\")"
   ]
  },
  {
   "cell_type": "markdown",
   "metadata": {},
   "source": [
    "Networks, on the other hand, could be numerous and change often.  So, we need to provide the full path to the Network's JSON file."
   ]
  },
  {
   "cell_type": "code",
   "execution_count": 4,
   "metadata": {},
   "outputs": [],
   "source": [
    "rcc8_file = os.path.join(qr_path, \"Networks\", \"rcc8_example.json\")"
   ]
  },
  {
   "cell_type": "markdown",
   "metadata": {},
   "source": [
    "## Constraint Network in JSON Format <a class=\"anchor\" id=\"network_format\"></a>"
   ]
  },
  {
   "cell_type": "markdown",
   "metadata": {},
   "source": [
    "Here's what a network looks like in JSON format.\n",
    "\n",
    "A node is represented as a list of two things:\n",
    "1. Node ID (i.e., Node Name)\n",
    "1. List of ontology classes the node belongs to (e.g., \"ProperInterval\", \"Region\")\n",
    "\n",
    "> NOTE: Networks that are based on simple relation algebras, such as Allen's Interval Algebra and the Region Connection Calculus, only involve relations among <i>entities</i> that are all from the same ontology class, such as Proper Time Intervals or Spatial Regions.  So, the <b>ontology classes of entities being related by the relations</b> does not need to be considered when, for example, composing relations.  However, when ontology classes are integrated, such as Proper Time Intervals and Time Points, then the ontology classes of the entities being related become important.\n",
    "\n",
    "An edge is represented as a list of three things, representing a directed edge, labeled with a constraint:\n",
    "1. Tail Node ID\n",
    "1. Head Node ID\n",
    "1. Constraint\n",
    "\n",
    "See graphical depiction below:"
   ]
  },
  {
   "cell_type": "code",
   "execution_count": 5,
   "metadata": {},
   "outputs": [
    {
     "data": {
      "image/png": "[encoded data removed]",
      "text/plain": [
       "<IPython.core.display.Image object>"
      ]
     },
     "execution_count": 5,
     "metadata": {
      "image/png": {
       "height": 100,
       "width": 300
      }
     },
     "output_type": "execute_result"
    }
   ],
   "source": [
    "Image(\"Images/Edge_Notation_Meaning.png\", width=300, height=100)"
   ]
  },
  {
   "cell_type": "markdown",
   "metadata": {},
   "source": [
    "The network, shown in JSON format below, is the example from the [Wikipedia page on the Region Connection Calculus (RCC8)](https://en.wikipedia.org/wiki/Region_connection_calculus). The URL is also in the \"description\" field of the JSON format below."
   ]
  },
  {
   "cell_type": "code",
   "execution_count": 6,
   "metadata": {},
   "outputs": [
    {
     "name": "stdout",
     "output_type": "stream",
     "text": [
      "{\r\n",
      "    \"name\": \"Wikipedia RCC8 Example\",\r\n",
      "    \"algebra\": \"RCC8_Algebra\",\r\n",
      "    \"abbreviations\": {\"dec\": \"DC|EC\"},\r\n",
      "    \"description\": \"See https://en.wikipedia.org/wiki/Region_connection_calculus#Examples\",\r\n",
      "    \"nodes\": [\r\n",
      "        [\"House1\", [\"Region\"]],\r\n",
      "        [\"House2\", [\"Region\"]],\r\n",
      "        [\"Property1\", [\"Region\"]],\r\n",
      "        [\"Property2\", [\"Region\"]],\r\n",
      "        [\"Road\", [\"Region\"]]\r\n",
      "    ],\r\n",
      "    \"edges\": [\r\n",
      "        [\"House1\", \"House2\", \"DC\"],\r\n",
      "        [\"House1\", \"Property1\", \"TPP|NTPP\"],\r\n",
      "        [\"House1\", \"Property2\", \"dec\"],\r\n",
      "        [\"House1\", \"Road\", \"EC\"],\r\n",
      "        [\"House2\", \"Property1\", \"dec\"],\r\n",
      "        [\"House2\", \"Property2\", \"NTPP\"],\r\n",
      "        [\"House2\", \"Road\", \"EC\"],\r\n",
      "        [\"Property1\", \"Property2\", \"dec\"],\r\n",
      "        [\"Road\", \"Property1\"],\r\n",
      "        [\"Road\", \"Property2\"]\r\n",
      "    ]\r\n",
      "}"
     ]
    }
   ],
   "source": [
    "!cat {rcc8_file}"
   ]
  },
  {
   "cell_type": "markdown",
   "metadata": {},
   "source": [
    "NOTES:\n",
    "1. The Wikipedia page on RCC8 represents disjunctions of constraints as sets, e.g., {DC, EC}, whereas qualreas represents this with the string \"DC|EC\".  Constraint sets represent disjunctions of relation statements, e.g., (Tail DC|EC Head) <==> (Tail DC Head) OR (Tail EC Head).\n",
    "1. For convenience, constraints can be abbreviated using a dictionary of abbreviations.  For example, the constraint \"DC|EC\", above, is abbreviated as \"dec\".  By the way, internally, the qualreas module stores and operates on constraint sets as [bitsets](https://bitsets.readthedocs.io/en/stable/).\n",
    "1. No constraints are given for the Road-to-Property1 or Road-to-Property2 edges.  The meaning then is that all RCC8 relations are possible for those two edges.  This can be seen in the first summary of the network farther below.\n",
    "1. The Network object in qualreas is a subclass of [networkx.digraph](https://networkx.github.io/documentation/stable/reference/classes/digraph.html), which has functionality for loading/saving from/to JSON format. However, the JSON functionality in NetworkX is not easy to read, nor is it compact, and it is awkward to associate an Algebra with a Network using those formats.  So, the bespoke JSON format, described in this notebook, was developed for <i>qualreas</i>."
   ]
  },
  {
   "cell_type": "markdown",
   "metadata": {},
   "source": [
    "## Instantiate the Constraint Network Object <a class=\"anchor\" id=\"instantiate\"></a>"
   ]
  },
  {
   "cell_type": "code",
   "execution_count": 7,
   "metadata": {},
   "outputs": [],
   "source": [
    "rcc8_net = qr.Network(algebra_path=alg_dir, json_file_name=rcc8_file)"
   ]
  },
  {
   "cell_type": "markdown",
   "metadata": {},
   "source": [
    "The printed representation of a network provides its name and associated algebra:"
   ]
  },
  {
   "cell_type": "code",
   "execution_count": 8,
   "metadata": {},
   "outputs": [
    {
     "name": "stdout",
     "output_type": "stream",
     "text": [
      "<Network--Wikipedia RCC8 Example--RCC8_Algebra>\n"
     ]
    }
   ],
   "source": [
    "print(rcc8_net)"
   ]
  },
  {
   "cell_type": "markdown",
   "metadata": {},
   "source": [
    "## Summarize the Network <a class=\"anchor\" id=\"summarize\"></a>"
   ]
  },
  {
   "cell_type": "markdown",
   "metadata": {},
   "source": [
    "Below is a summary of the Network Object just instantiated.\n",
    "\n",
    "The format is:\n",
    "* Network Name: Number of Nodes, Number of Edges\n",
    "* Algebra Name\n",
    "* Tail_ID1: Class List\n",
    "    * => Head_ID1: Constraint1\n",
    "    * => Head_ID2: Constraint2\n",
    "    * ...\n",
    "* and so on ..."
   ]
  },
  {
   "cell_type": "code",
   "execution_count": 9,
   "metadata": {},
   "outputs": [
    {
     "name": "stdout",
     "output_type": "stream",
     "text": [
      "\n",
      "Wikipedia RCC8 Example: 5 nodes, 25 edges\n",
      "  Algebra: RCC8_Algebra\n",
      "  House1:['Region']\n",
      "    => House1: EQ\n",
      "    => House2: DC\n",
      "    => Property1: NTPP|TPP\n",
      "    => Property2: DC|EC\n",
      "    => Road: EC\n",
      "  House2:['Region']\n",
      "    => House2: EQ\n",
      "    => House1: DC\n",
      "    => Property1: DC|EC\n",
      "    => Property2: NTPP\n",
      "    => Road: EC\n",
      "  Property1:['Region']\n",
      "    => Property1: EQ\n",
      "    => House1: NTPPI|TPPI\n",
      "    => House2: DC|EC\n",
      "    => Property2: DC|EC\n",
      "    => Road: DC|EC|EQ|NTPP|NTPPI|PO|TPP|TPPI\n",
      "  Property2:['Region']\n",
      "    => Property2: EQ\n",
      "    => House1: DC|EC\n",
      "    => House2: NTPPI\n",
      "    => Property1: DC|EC\n",
      "    => Road: DC|EC|EQ|NTPP|NTPPI|PO|TPP|TPPI\n",
      "  Road:['Region']\n",
      "    => Road: EQ\n",
      "    => House1: EC\n",
      "    => House2: EC\n",
      "    => Property1: DC|EC|EQ|NTPP|NTPPI|PO|TPP|TPPI\n",
      "    => Property2: DC|EC|EQ|NTPP|NTPPI|PO|TPP|TPPI\n"
     ]
    }
   ],
   "source": [
    "rcc8_net.summary(show_all=True)"
   ]
  },
  {
   "cell_type": "markdown",
   "metadata": {},
   "source": [
    "Notice that, in the network summary above, even edges between an entity and itself are included (e.g., House1 --> House1, with constraint EQ). The relation on such an edge will always be the equality relation(s) for whatever ontology class(es) the entity belongs to.  These edges are included in constraint propagation so that ontology classes are properly accounted for."
   ]
  },
  {
   "cell_type": "markdown",
   "metadata": {},
   "source": [
    "Also, the summary above shows all possible connections between nodes, including converses, which is somewhat redundant.  That is, if we know that X r Y, then we can infer that Y converse(r) X.  To see a more compact representation that lists just one link per node pair, leave the argument, <i>show_all</i>, at its default setting of <i>False</i>, as shown below."
   ]
  },
  {
   "cell_type": "code",
   "execution_count": 10,
   "metadata": {},
   "outputs": [
    {
     "name": "stdout",
     "output_type": "stream",
     "text": [
      "\n",
      "Wikipedia RCC8 Example: 5 nodes, 25 edges\n",
      "  Algebra: RCC8_Algebra\n",
      "  House1:['Region']\n",
      "    => House1: EQ\n",
      "    => House2: DC\n",
      "    => Property1: NTPP|TPP\n",
      "    => Property2: DC|EC\n",
      "    => Road: EC\n",
      "  House2:['Region']\n",
      "    => House2: EQ\n",
      "    => Property1: DC|EC\n",
      "    => Property2: NTPP\n",
      "    => Road: EC\n",
      "  Property1:['Region']\n",
      "    => Property1: EQ\n",
      "    => Property2: DC|EC\n",
      "    => Road: DC|EC|EQ|NTPP|NTPPI|PO|TPP|TPPI\n",
      "  Property2:['Region']\n",
      "    => Property2: EQ\n",
      "    => Road: DC|EC|EQ|NTPP|NTPPI|PO|TPP|TPPI\n",
      "  Road:['Region']\n",
      "    => Road: EQ\n"
     ]
    }
   ],
   "source": [
    "rcc8_net.summary()"
   ]
  },
  {
   "cell_type": "markdown",
   "metadata": {},
   "source": [
    "The next two sections show how to obtain specific information about network nodes (\"entities\") and edges."
   ]
  },
  {
   "cell_type": "markdown",
   "metadata": {},
   "source": [
    "### Get Entity (Network Nodes) <a class=\"anchor\" id=\"nodes\"></a>"
   ]
  },
  {
   "cell_type": "markdown",
   "metadata": {},
   "source": [
    "<b>get_entity</b> returns an entity object (e.g., TemporalEntity, SpatialEntity). Use the object's methods to access it's attributes."
   ]
  },
  {
   "cell_type": "code",
   "execution_count": 11,
   "metadata": {
    "scrolled": true
   },
   "outputs": [
    {
     "data": {
      "text/plain": [
       "SpatialEntity(['Region'] 'House1')"
      ]
     },
     "execution_count": 11,
     "metadata": {},
     "output_type": "execute_result"
    }
   ],
   "source": [
    "entity = rcc8_net.get_entity(\"House1\")\n",
    "entity"
   ]
  },
  {
   "cell_type": "code",
   "execution_count": 12,
   "metadata": {},
   "outputs": [
    {
     "data": {
      "text/plain": [
       "'House1'"
      ]
     },
     "execution_count": 12,
     "metadata": {},
     "output_type": "execute_result"
    }
   ],
   "source": [
    "entity.name"
   ]
  },
  {
   "cell_type": "code",
   "execution_count": 13,
   "metadata": {},
   "outputs": [
    {
     "data": {
      "text/plain": [
       "['Region']"
      ]
     },
     "execution_count": 13,
     "metadata": {},
     "output_type": "execute_result"
    }
   ],
   "source": [
    "entity.classes"
   ]
  },
  {
   "cell_type": "markdown",
   "metadata": {},
   "source": [
    "### Get Edge by Tail & Head Node IDs <a class=\"anchor\" id=\"edges\"></a>"
   ]
  },
  {
   "cell_type": "markdown",
   "metadata": {},
   "source": [
    "Given a Tail ID and Head ID, <b>get_edge</b> returns an edge in the form of a tuple of three things, in order: (Tail Node ID, Head Node ID, Constraint)"
   ]
  },
  {
   "cell_type": "code",
   "execution_count": 14,
   "metadata": {
    "scrolled": true
   },
   "outputs": [
    {
     "data": {
      "text/plain": [
       "('Property1', 'Road', 'DC|EC|EQ|NTPP|NTPPI|PO|TPP|TPPI')"
      ]
     },
     "execution_count": 14,
     "metadata": {},
     "output_type": "execute_result"
    }
   ],
   "source": [
    "edge = rcc8_net.get_edge(\"Property1\", \"Road\")\n",
    "edge"
   ]
  },
  {
   "cell_type": "markdown",
   "metadata": {},
   "source": [
    "<b>get_constraint</b> takes the same inputs, but returns only the constraint for that edge."
   ]
  },
  {
   "cell_type": "code",
   "execution_count": 15,
   "metadata": {},
   "outputs": [
    {
     "data": {
      "text/plain": [
       "'DC|EC|EQ|NTPP|NTPPI|PO|TPP|TPPI'"
      ]
     },
     "execution_count": 15,
     "metadata": {},
     "output_type": "execute_result"
    }
   ],
   "source": [
    "rcc8_net.get_constraint(\"Property1\", \"Road\")"
   ]
  },
  {
   "cell_type": "markdown",
   "metadata": {},
   "source": [
    "By the way, the Network method, <b>set_constraint</b>, can be used to set or change the constraint on an edge.  Setting the constraint on an edge, [Tail, Head], will automatically, set the converse constraint on the edge, [Head, Tail]. Always run the <b>propogate</b> method on a Network after setting/changing constraints."
   ]
  },
  {
   "cell_type": "markdown",
   "metadata": {},
   "source": [
    "### The Algebra \"Inside\" the Network <a class=\"anchor\" id=\"algebra\"></a>"
   ]
  },
  {
   "cell_type": "markdown",
   "metadata": {},
   "source": [
    "<b>WARNING</b>: There really should be no reason for messing around with the algebra that a network is based on.  But we'll take a look at one here, just so we can see that it actually exists.\n",
    "\n",
    "So, to begin, we'll use an accessor to obtain the algebra, then we'll examine the algebra a bit."
   ]
  },
  {
   "cell_type": "code",
   "execution_count": 16,
   "metadata": {},
   "outputs": [
    {
     "name": "stdout",
     "output_type": "stream",
     "text": [
      "<RCC8_Algebra: Region Connection Calculus 8 Algebra>\n"
     ]
    }
   ],
   "source": [
    "rcc8 = rcc8_net.algebra\n",
    "print(rcc8)"
   ]
  },
  {
   "cell_type": "markdown",
   "metadata": {},
   "source": [
    "Here are all of the algebra's elements:"
   ]
  },
  {
   "cell_type": "code",
   "execution_count": 17,
   "metadata": {},
   "outputs": [
    {
     "data": {
      "text/plain": [
       "relset(['DC', 'EC', 'EQ', 'NTPP', 'NTPPI', 'PO', 'TPP', 'TPPI'])"
      ]
     },
     "execution_count": 17,
     "metadata": {},
     "output_type": "execute_result"
    }
   ],
   "source": [
    "rcc8.elements"
   ]
  },
  {
   "cell_type": "markdown",
   "metadata": {},
   "source": [
    "The print representation of relsets is more compact and convenient:"
   ]
  },
  {
   "cell_type": "code",
   "execution_count": 18,
   "metadata": {},
   "outputs": [
    {
     "name": "stdout",
     "output_type": "stream",
     "text": [
      "DC|EC|EQ|NTPP|NTPPI|PO|TPP|TPPI\n"
     ]
    }
   ],
   "source": [
    "print(rcc8.elements)"
   ]
  },
  {
   "cell_type": "markdown",
   "metadata": {},
   "source": [
    "Here's an example summary of an individual element:"
   ]
  },
  {
   "cell_type": "code",
   "execution_count": 19,
   "metadata": {},
   "outputs": [
    {
     "name": "stdout",
     "output_type": "stream",
     "text": [
      "                  Symbol: NTPP\n",
      "                    Name: NonTangentialProperPart\n",
      "                  Domain: ['Region']\n",
      "                   Range: ['Region']\n",
      "                Converse: NonTangentialProperPartInverse\n",
      "           Is Reflexive?: False\n",
      "           Is Symmetric?: False\n",
      "          Is Transitive?: True\n",
      "Is an Equality Relation?: False\n"
     ]
    }
   ],
   "source": [
    "rcc8.element_summary('NTPP')"
   ]
  },
  {
   "cell_type": "markdown",
   "metadata": {},
   "source": [
    "We can create relsets from lists of element names:"
   ]
  },
  {
   "cell_type": "code",
   "execution_count": 20,
   "metadata": {},
   "outputs": [
    {
     "data": {
      "text/plain": [
       "relset(['DC', 'EC'])"
      ]
     },
     "execution_count": 20,
     "metadata": {},
     "output_type": "execute_result"
    }
   ],
   "source": [
    "rs1 = rcc8.relset([\"DC\", \"EC\"])\n",
    "rs1"
   ]
  },
  {
   "cell_type": "code",
   "execution_count": 21,
   "metadata": {},
   "outputs": [
    {
     "data": {
      "text/plain": [
       "relset(['NTPP'])"
      ]
     },
     "execution_count": 21,
     "metadata": {},
     "output_type": "execute_result"
    }
   ],
   "source": [
    "rs2 = rcc8.relset([\"NTPP\"])\n",
    "rs2"
   ]
  },
  {
   "cell_type": "markdown",
   "metadata": {},
   "source": [
    "Again, the relset print representation is more compact:"
   ]
  },
  {
   "cell_type": "code",
   "execution_count": 22,
   "metadata": {},
   "outputs": [
    {
     "name": "stdout",
     "output_type": "stream",
     "text": [
      "rs1 = DC|EC\n",
      "rs2 = NTPP\n"
     ]
    }
   ],
   "source": [
    "print(f\"rs1 = {rs1}\")\n",
    "print(f\"rs2 = {rs2}\")"
   ]
  },
  {
   "cell_type": "markdown",
   "metadata": {},
   "source": [
    "Relsets can also be created from the relset print representation:"
   ]
  },
  {
   "cell_type": "code",
   "execution_count": 23,
   "metadata": {},
   "outputs": [
    {
     "data": {
      "text/plain": [
       "relset(['DC', 'EC'])"
      ]
     },
     "execution_count": 23,
     "metadata": {},
     "output_type": "execute_result"
    }
   ],
   "source": [
    "rcc8.relset('DC|EC')"
   ]
  },
  {
   "cell_type": "code",
   "execution_count": 24,
   "metadata": {},
   "outputs": [
    {
     "name": "stdout",
     "output_type": "stream",
     "text": [
      "DC|EC\n"
     ]
    }
   ],
   "source": [
    "print(rcc8.relset('DC|EC'))"
   ]
  },
  {
   "cell_type": "markdown",
   "metadata": {},
   "source": [
    "In the literature on Relation Algebras, the semicolon (\";\") is used to represent the composition operator (also called <i>multiplication</i> in many papers).  In <i>qualreas</i>, composition can only be performed on relsets.  Here's an example:"
   ]
  },
  {
   "cell_type": "code",
   "execution_count": 25,
   "metadata": {},
   "outputs": [
    {
     "name": "stdout",
     "output_type": "stream",
     "text": [
      "DC|EC ; NTPP = DC|EC|NTPP|PO|TPP\n"
     ]
    }
   ],
   "source": [
    "print(f\"{rs1} ; {rs2} = {rcc8.compose(rs1, rs2)}\")"
   ]
  },
  {
   "cell_type": "markdown",
   "metadata": {},
   "source": [
    "The meaning of the composition example, above, is that if S, R, and T are spatial entities (regions) per the RCC-8 algebra, then\n",
    "> if [(S DC R) or (S EC R)]\n",
    "> <p>and (R NTPP T)</p>\n",
    "> <p>then either (S DC T) or (S EC T) or (S NTPP T) or (S PO T) or (S TPP T)</p>"
   ]
  },
  {
   "cell_type": "markdown",
   "metadata": {},
   "source": [
    "Now, back to <b>Constraint Networks</b>."
   ]
  },
  {
   "cell_type": "markdown",
   "metadata": {},
   "source": [
    "## Perform Constraint Propagation <a class=\"anchor\" id=\"prop\"></a>"
   ]
  },
  {
   "cell_type": "markdown",
   "metadata": {},
   "source": [
    "After propagation, note the change in the constraints between the Road and the two Properties."
   ]
  },
  {
   "cell_type": "code",
   "execution_count": 26,
   "metadata": {},
   "outputs": [
    {
     "name": "stdout",
     "output_type": "stream",
     "text": [
      "\n",
      "Wikipedia RCC8 Example: 5 nodes, 25 edges\n",
      "  Algebra: RCC8_Algebra\n",
      "  House1:['Region']\n",
      "    => House1: EQ\n",
      "    => House2: DC\n",
      "    => Property1: NTPP|TPP\n",
      "    => Property2: DC|EC\n",
      "    => Road: EC\n",
      "  House2:['Region']\n",
      "    => House2: EQ\n",
      "    => Property1: DC\n",
      "    => Property2: NTPP\n",
      "    => Road: EC\n",
      "  Property1:['Region']\n",
      "    => Property1: EQ\n",
      "    => Property2: DC|EC\n",
      "    => Road: EC|PO\n",
      "  Property2:['Region']\n",
      "    => Property2: EQ\n",
      "    => Road: PO|TPPI\n",
      "  Road:['Region']\n",
      "    => Road: EQ\n"
     ]
    }
   ],
   "source": [
    "rcc8_net.propagate()\n",
    "rcc8_net.summary()"
   ]
  },
  {
   "cell_type": "markdown",
   "metadata": {},
   "source": [
    "For easier comparison, the printout below is in a format similar to that found on the [Wikipedia example page](https://en.wikipedia.org/wiki/Region_connection_calculus#Examples):"
   ]
  },
  {
   "cell_type": "code",
   "execution_count": 27,
   "metadata": {},
   "outputs": [
    {
     "name": "stdout",
     "output_type": "stream",
     "text": [
      "Road EC|PO Property1\n",
      "Road PO|TPP Property2\n"
     ]
    }
   ],
   "source": [
    "road = \"Road\"\n",
    "prop1 = \"Property1\"\n",
    "prop2 = \"Property2\"\n",
    "\n",
    "print(f\"{road} {rcc8_net.get_constraint(road, prop1)} {prop1}\")\n",
    "print(f\"{road} {rcc8_net.get_constraint(road, prop2)} {prop2}\")"
   ]
  },
  {
   "cell_type": "markdown",
   "metadata": {},
   "source": [
    "## Singleton Labelings of a Network <a class=\"anchor\" id=\"labelings\"></a>"
   ]
  },
  {
   "cell_type": "markdown",
   "metadata": {},
   "source": [
    "The constraints on the edges in a network can often involve multiple relations, representing disjunctions of single constraints. If we derive a network from that, where each constraint involves only a single relation, it is called a <b>Singleton Labelling</b>. It is possible for a singleton labeling to be inconsistent.  So, it's of great interest to derive <b>all possible consistent singleton labellings</b>.\n",
    "\n",
    "Here, we'll compute all of the singleton labelings of the Wikipedia RCC8 example, presented above.\n",
    "\n",
    "To begin, look again at the summary of that network:"
   ]
  },
  {
   "cell_type": "code",
   "execution_count": 28,
   "metadata": {},
   "outputs": [
    {
     "name": "stdout",
     "output_type": "stream",
     "text": [
      "\n",
      "Wikipedia RCC8 Example: 5 nodes, 25 edges\n",
      "  Algebra: RCC8_Algebra\n",
      "  House1:['Region']\n",
      "    => House1: EQ\n",
      "    => House2: DC\n",
      "    => Property1: NTPP|TPP\n",
      "    => Property2: DC|EC\n",
      "    => Road: EC\n",
      "  House2:['Region']\n",
      "    => House2: EQ\n",
      "    => Property1: DC\n",
      "    => Property2: NTPP\n",
      "    => Road: EC\n",
      "  Property1:['Region']\n",
      "    => Property1: EQ\n",
      "    => Property2: DC|EC\n",
      "    => Road: EC|PO\n",
      "  Property2:['Region']\n",
      "    => Property2: EQ\n",
      "    => Road: PO|TPPI\n",
      "  Road:['Region']\n",
      "    => Road: EQ\n"
     ]
    }
   ],
   "source": [
    "rcc8_net.summary()"
   ]
  },
  {
   "cell_type": "markdown",
   "metadata": {},
   "source": [
    "Not counting converses--which, conveniently, are not shown in the summary, above--there are 5 links that have multiple relations (e.g., [House1, Property1, NTPP|TPP]).  Since there are 2 relations on each of these 5 edges, if we breakout the network into all possible singleton labelings we have 2^5 = 32 possible networks.  And it's possible that not all of the 32 networks will be consistent.  In fact, as shown below, only 9 of the 32 possible singleton labelings are consistent."
   ]
  },
  {
   "cell_type": "code",
   "execution_count": 29,
   "metadata": {},
   "outputs": [],
   "source": [
    "singleton_labelings = rcc8_net.all_singleton_labelings()"
   ]
  },
  {
   "cell_type": "code",
   "execution_count": 30,
   "metadata": {},
   "outputs": [
    {
     "name": "stdout",
     "output_type": "stream",
     "text": [
      "There are 32 singleton labelings of Wikipedia's RCC8 example\n"
     ]
    }
   ],
   "source": [
    "print(f\"There are {len(singleton_labelings)} singleton labelings of Wikipedia's RCC8 example\")"
   ]
  },
  {
   "cell_type": "code",
   "execution_count": 31,
   "metadata": {},
   "outputs": [],
   "source": [
    "consistent_singleton_labelings = rcc8_net.consistent_singleton_labelings()"
   ]
  },
  {
   "cell_type": "code",
   "execution_count": 32,
   "metadata": {},
   "outputs": [
    {
     "name": "stdout",
     "output_type": "stream",
     "text": [
      "But there are only 9 consistent singleton labelings.\n"
     ]
    }
   ],
   "source": [
    "print(f\"But there are only {len(consistent_singleton_labelings)} consistent singleton labelings.\")"
   ]
  },
  {
   "cell_type": "markdown",
   "metadata": {},
   "source": [
    "Here are summaries of all 9 singleton labelings:"
   ]
  },
  {
   "cell_type": "code",
   "execution_count": 33,
   "metadata": {},
   "outputs": [
    {
     "name": "stdout",
     "output_type": "stream",
     "text": [
      "-------------------------\n",
      " Singleton Labeling #1\n",
      "-------------------------\n",
      "\n",
      "Wikipedia RCC8 Example: 5 nodes, 25 edges\n",
      "  Algebra: RCC8_Algebra\n",
      "  House1:['Region']\n",
      "    => House1: EQ\n",
      "    => House2: DC\n",
      "    => Property1: TPP\n",
      "    => Property2: EC\n",
      "    => Road: EC\n",
      "  House2:['Region']\n",
      "    => House2: EQ\n",
      "    => Property1: DC\n",
      "    => Property2: NTPP\n",
      "    => Road: EC\n",
      "  Property1:['Region']\n",
      "    => Property1: EQ\n",
      "    => Property2: EC\n",
      "    => Road: PO\n",
      "  Property2:['Region']\n",
      "    => Property2: EQ\n",
      "    => Road: PO\n",
      "  Road:['Region']\n",
      "    => Road: EQ\n",
      " \n",
      "-------------------------\n",
      " Singleton Labeling #2\n",
      "-------------------------\n",
      "\n",
      "Wikipedia RCC8 Example: 5 nodes, 25 edges\n",
      "  Algebra: RCC8_Algebra\n",
      "  House1:['Region']\n",
      "    => House1: EQ\n",
      "    => House2: DC\n",
      "    => Property1: TPP\n",
      "    => Property2: EC\n",
      "    => Road: EC\n",
      "  House2:['Region']\n",
      "    => House2: EQ\n",
      "    => Property1: DC\n",
      "    => Property2: NTPP\n",
      "    => Road: EC\n",
      "  Property1:['Region']\n",
      "    => Property1: EQ\n",
      "    => Property2: EC\n",
      "    => Road: EC\n",
      "  Property2:['Region']\n",
      "    => Property2: EQ\n",
      "    => Road: TPPI\n",
      "  Road:['Region']\n",
      "    => Road: EQ\n",
      " \n",
      "-------------------------\n",
      " Singleton Labeling #3\n",
      "-------------------------\n",
      "\n",
      "Wikipedia RCC8 Example: 5 nodes, 25 edges\n",
      "  Algebra: RCC8_Algebra\n",
      "  House1:['Region']\n",
      "    => House1: EQ\n",
      "    => House2: DC\n",
      "    => Property1: TPP\n",
      "    => Property2: EC\n",
      "    => Road: EC\n",
      "  House2:['Region']\n",
      "    => House2: EQ\n",
      "    => Property1: DC\n",
      "    => Property2: NTPP\n",
      "    => Road: EC\n",
      "  Property1:['Region']\n",
      "    => Property1: EQ\n",
      "    => Property2: EC\n",
      "    => Road: EC\n",
      "  Property2:['Region']\n",
      "    => Property2: EQ\n",
      "    => Road: PO\n",
      "  Road:['Region']\n",
      "    => Road: EQ\n",
      " \n",
      "-------------------------\n",
      " Singleton Labeling #4\n",
      "-------------------------\n",
      "\n",
      "Wikipedia RCC8 Example: 5 nodes, 25 edges\n",
      "  Algebra: RCC8_Algebra\n",
      "  House1:['Region']\n",
      "    => House1: EQ\n",
      "    => House2: DC\n",
      "    => Property1: TPP\n",
      "    => Property2: DC\n",
      "    => Road: EC\n",
      "  House2:['Region']\n",
      "    => House2: EQ\n",
      "    => Property1: DC\n",
      "    => Property2: NTPP\n",
      "    => Road: EC\n",
      "  Property1:['Region']\n",
      "    => Property1: EQ\n",
      "    => Property2: EC\n",
      "    => Road: PO\n",
      "  Property2:['Region']\n",
      "    => Property2: EQ\n",
      "    => Road: PO\n",
      "  Road:['Region']\n",
      "    => Road: EQ\n",
      " \n",
      "-------------------------\n",
      " Singleton Labeling #5\n",
      "-------------------------\n",
      "\n",
      "Wikipedia RCC8 Example: 5 nodes, 25 edges\n",
      "  Algebra: RCC8_Algebra\n",
      "  House1:['Region']\n",
      "    => House1: EQ\n",
      "    => House2: DC\n",
      "    => Property1: TPP\n",
      "    => Property2: DC\n",
      "    => Road: EC\n",
      "  House2:['Region']\n",
      "    => House2: EQ\n",
      "    => Property1: DC\n",
      "    => Property2: NTPP\n",
      "    => Road: EC\n",
      "  Property1:['Region']\n",
      "    => Property1: EQ\n",
      "    => Property2: EC\n",
      "    => Road: EC\n",
      "  Property2:['Region']\n",
      "    => Property2: EQ\n",
      "    => Road: PO\n",
      "  Road:['Region']\n",
      "    => Road: EQ\n",
      " \n",
      "-------------------------\n",
      " Singleton Labeling #6\n",
      "-------------------------\n",
      "\n",
      "Wikipedia RCC8 Example: 5 nodes, 25 edges\n",
      "  Algebra: RCC8_Algebra\n",
      "  House1:['Region']\n",
      "    => House1: EQ\n",
      "    => House2: DC\n",
      "    => Property1: TPP\n",
      "    => Property2: DC\n",
      "    => Road: EC\n",
      "  House2:['Region']\n",
      "    => House2: EQ\n",
      "    => Property1: DC\n",
      "    => Property2: NTPP\n",
      "    => Road: EC\n",
      "  Property1:['Region']\n",
      "    => Property1: EQ\n",
      "    => Property2: DC\n",
      "    => Road: PO\n",
      "  Property2:['Region']\n",
      "    => Property2: EQ\n",
      "    => Road: PO\n",
      "  Road:['Region']\n",
      "    => Road: EQ\n",
      " \n",
      "-------------------------\n",
      " Singleton Labeling #7\n",
      "-------------------------\n",
      "\n",
      "Wikipedia RCC8 Example: 5 nodes, 25 edges\n",
      "  Algebra: RCC8_Algebra\n",
      "  House1:['Region']\n",
      "    => House1: EQ\n",
      "    => House2: DC\n",
      "    => Property1: TPP\n",
      "    => Property2: DC\n",
      "    => Road: EC\n",
      "  House2:['Region']\n",
      "    => House2: EQ\n",
      "    => Property1: DC\n",
      "    => Property2: NTPP\n",
      "    => Road: EC\n",
      "  Property1:['Region']\n",
      "    => Property1: EQ\n",
      "    => Property2: DC\n",
      "    => Road: EC\n",
      "  Property2:['Region']\n",
      "    => Property2: EQ\n",
      "    => Road: PO\n",
      "  Road:['Region']\n",
      "    => Road: EQ\n",
      " \n",
      "-------------------------\n",
      " Singleton Labeling #8\n",
      "-------------------------\n",
      "\n",
      "Wikipedia RCC8 Example: 5 nodes, 25 edges\n",
      "  Algebra: RCC8_Algebra\n",
      "  House1:['Region']\n",
      "    => House1: EQ\n",
      "    => House2: DC\n",
      "    => Property1: NTPP\n",
      "    => Property2: DC\n",
      "    => Road: EC\n",
      "  House2:['Region']\n",
      "    => House2: EQ\n",
      "    => Property1: DC\n",
      "    => Property2: NTPP\n",
      "    => Road: EC\n",
      "  Property1:['Region']\n",
      "    => Property1: EQ\n",
      "    => Property2: EC\n",
      "    => Road: PO\n",
      "  Property2:['Region']\n",
      "    => Property2: EQ\n",
      "    => Road: PO\n",
      "  Road:['Region']\n",
      "    => Road: EQ\n",
      " \n",
      "-------------------------\n",
      " Singleton Labeling #9\n",
      "-------------------------\n",
      "\n",
      "Wikipedia RCC8 Example: 5 nodes, 25 edges\n",
      "  Algebra: RCC8_Algebra\n",
      "  House1:['Region']\n",
      "    => House1: EQ\n",
      "    => House2: DC\n",
      "    => Property1: NTPP\n",
      "    => Property2: DC\n",
      "    => Road: EC\n",
      "  House2:['Region']\n",
      "    => House2: EQ\n",
      "    => Property1: DC\n",
      "    => Property2: NTPP\n",
      "    => Road: EC\n",
      "  Property1:['Region']\n",
      "    => Property1: EQ\n",
      "    => Property2: DC\n",
      "    => Road: PO\n",
      "  Property2:['Region']\n",
      "    => Property2: EQ\n",
      "    => Road: PO\n",
      "  Road:['Region']\n",
      "    => Road: EQ\n",
      " \n"
     ]
    }
   ],
   "source": [
    "count = 1\n",
    "for network in consistent_singleton_labelings:\n",
    "    print(\"-------------------------\")\n",
    "    print(f\" Singleton Labeling #{count}\")\n",
    "    print(\"-------------------------\")\n",
    "    network.summary()\n",
    "    count += 1\n",
    "    print(\" \")"
   ]
  },
  {
   "cell_type": "markdown",
   "metadata": {},
   "source": [
    "## An Example of Temporal Reasoning <a class=\"anchor\" id=\"temporal\"></a>"
   ]
  },
  {
   "cell_type": "markdown",
   "metadata": {},
   "source": [
    "Here we'll use the temporal interval & point algebra, <b>Extended_Linear_Interval_Algebra</b>, defined by Reich in [\"Intervals, Points, and Branching Time\", 1994](https://www.researchgate.net/publication/220810644_Intervals_Points_and_Branching_Time)\n",
    "\n",
    "This algebra extends Allen's algebra of <b>Proper Time Intervals</b> to include <b>Time Points</b>, so those two different ontology classes are permitted.\n",
    "\n",
    "The relation, \"PF\", is \"PointFinishes\", \"PS\" is \"PointStarts\", and \"PE\" is \"PointEquals\".  \"PFI\" & \"PSI\" are the converses of \"PF\" and \"PS\", respectively.\n",
    "\n",
    "For example,\n",
    "* <i>MondayMidnight PF Monday</i>\n",
    "* <i>MondayMidnight PS Tuesday</i>\n",
    "* <i>MondayMidnight PE MondayMidnight</i>"
   ]
  },
  {
   "cell_type": "markdown",
   "metadata": {},
   "source": [
    "In the following constraint network (in dictionary form) we create four temporal entities.  We've also specified the ontology classes the entities are allowed to belong to:\n",
    "* Monday a ProperInterval\n",
    "* MondayMidnight a ProperInterval or Point\n",
    "* Tuesday a ProperInterval\n",
    "* MondayPM a ProperInterval\n",
    "\n",
    "And we create three constraints between the temporal entities:\n",
    "* Monday <b>M</b> Tuesday\n",
    "* MondayMidnight <b>PF</b> Monday\n",
    "* MondayPM <b>F</b> Monday"
   ]
  },
  {
   "cell_type": "code",
   "execution_count": 34,
   "metadata": {},
   "outputs": [],
   "source": [
    "time_net_dict = {\n",
    "    'name': 'Simple Temporal Constraint Network',\n",
    "    'algebra': 'Extended_Linear_Interval_Algebra',\n",
    "    'description': 'A simple example of a Network of Time Points integrated with Time Intervals',\n",
    "    'nodes': [\n",
    "        ['Monday', ['ProperInterval']],\n",
    "        ['MondayMidnight', ['ProperInterval', 'Point']],\n",
    "        ['Tuesday', ['ProperInterval']],\n",
    "        ['MondayPM', ['ProperInterval']]\n",
    "    ],\n",
    "    'edges': [\n",
    "        ['Monday', 'Tuesday', 'M'],\n",
    "        ['MondayMidnight', 'Monday', 'PF'],\n",
    "        ['MondayPM', 'Monday', 'F']\n",
    "    ]\n",
    "}"
   ]
  },
  {
   "cell_type": "markdown",
   "metadata": {},
   "source": [
    "Now we'll use the dictionary to instantiate a Constraint Network Object"
   ]
  },
  {
   "cell_type": "code",
   "execution_count": 35,
   "metadata": {},
   "outputs": [
    {
     "name": "stdout",
     "output_type": "stream",
     "text": [
      "A simple example of a Network of Time Points integrated with Time Intervals\n",
      "\n",
      "Simple Temporal Constraint Network: 4 nodes, 10 edges\n",
      "  Algebra: Extended_Linear_Interval_Algebra\n",
      "  Monday:['ProperInterval']\n",
      "    => Monday: E\n",
      "    => Tuesday: M\n",
      "    => MondayMidnight: PFI\n",
      "    => MondayPM: FI\n",
      "  Tuesday:['ProperInterval']\n",
      "    => Tuesday: E\n",
      "  MondayMidnight:['ProperInterval', 'Point']\n",
      "    => MondayMidnight: E|PE\n",
      "  MondayPM:['ProperInterval']\n",
      "    => MondayPM: E\n"
     ]
    }
   ],
   "source": [
    "time_net = qr.Network(algebra_path=alg_dir, network_dict=time_net_dict)\n",
    "\n",
    "print(time_net.description)\n",
    "\n",
    "time_net.summary()"
   ]
  },
  {
   "cell_type": "markdown",
   "metadata": {},
   "source": [
    "And now, we'll propagate the network's constraints and summarize the result, showing all edges."
   ]
  },
  {
   "cell_type": "code",
   "execution_count": 36,
   "metadata": {},
   "outputs": [
    {
     "name": "stdout",
     "output_type": "stream",
     "text": [
      "The network is consistent.  Here's a summary:\n",
      "\n",
      "Simple Temporal Constraint Network: 4 nodes, 16 edges\n",
      "  Algebra: Extended_Linear_Interval_Algebra\n",
      "  Monday:['ProperInterval']\n",
      "    => Monday: E\n",
      "    => Tuesday: M\n",
      "    => MondayMidnight: PFI\n",
      "    => MondayPM: FI\n",
      "  Tuesday:['ProperInterval']\n",
      "    => Tuesday: E\n",
      "    => Monday: MI\n",
      "    => MondayMidnight: PSI\n",
      "    => MondayPM: MI\n",
      "  MondayMidnight:['Point']\n",
      "    => MondayMidnight: PE\n",
      "    => Monday: PF\n",
      "    => Tuesday: PS\n",
      "    => MondayPM: PF\n",
      "  MondayPM:['ProperInterval']\n",
      "    => MondayPM: E\n",
      "    => Monday: F\n",
      "    => Tuesday: M\n",
      "    => MondayMidnight: PFI\n"
     ]
    }
   ],
   "source": [
    "ok = time_net.propagate()\n",
    "\n",
    "if ok:\n",
    "    print(\"The network is consistent.  Here's a summary:\")\n",
    "    time_net.summary(show_all=True)\n",
    "else:\n",
    "    print(\"The network is inconsistent.\")"
   ]
  },
  {
   "cell_type": "markdown",
   "metadata": {},
   "source": [
    "Note that with regard to the point, <i>MondayMidnight</i> as defined in <b>time_net_dict</b>, above, we only specified:\n",
    "\n",
    "><i>MondayMidnight PF Monday</i>\n",
    "\n",
    "That is, <i>MondayMidnight</i> is the end point (<i>PointFinishes</i>) of the interval, <i>Monday</i>.\n",
    "\n",
    "After propagation, we've inferred that:\n",
    "\n",
    "><i>MondayMidnight PS Tuesday</i>\n",
    "\n",
    "That is, <i>MondayMidnight</i> is the begin point (<i>PointStarts</i>) of the interval, <i>Tuesday</i>.\n",
    "\n",
    "We've also inferred the corresponding converses of these statements (i.e., using the relations <i>PFI</i> and <i>PSI</i>).\n",
    "\n",
    "Finally, although we defined <i>MondayMidnight</i> as being either a <i>ProperInterval</i> or a <i>Point</i>, after propagation it is determined that it can only be a <i>Point</i>."
   ]
  },
  {
   "cell_type": "markdown",
   "metadata": {},
   "source": [
    "## Converting Networks to/from Other Formats <a class=\"anchor\" id=\"other_formats\"></a>"
   ]
  },
  {
   "cell_type": "markdown",
   "metadata": {},
   "source": [
    "In this section, we show how to convert Networks to/from JSON or Python dictionary formats."
   ]
  },
  {
   "cell_type": "markdown",
   "metadata": {},
   "source": [
    "### Network to Dictionary <a class=\"anchor\" id=\"net_to_dict\"></a>"
   ]
  },
  {
   "cell_type": "markdown",
   "metadata": {},
   "source": [
    "Note: The only differences between JSON and the dictionary output by <b>to_dict</b> are the single quotes instead of double quotes required by JSON."
   ]
  },
  {
   "cell_type": "code",
   "execution_count": 37,
   "metadata": {
    "scrolled": true
   },
   "outputs": [
    {
     "data": {
      "text/plain": [
       "{'name': 'Wikipedia RCC8 Example',\n",
       " 'algebra': 'RCC8_Algebra',\n",
       " 'description': 'See https://en.wikipedia.org/wiki/Region_connection_calculus#Examples',\n",
       " 'nodes': [['House1', ['Region']],\n",
       "  ['House2', ['Region']],\n",
       "  ['Property1', ['Region']],\n",
       "  ['Property2', ['Region']],\n",
       "  ['Road', ['Region']]],\n",
       " 'edges': [['House1', 'House2', 'DC'],\n",
       "  ['House1', 'Property1', 'NTPP|TPP'],\n",
       "  ['House1', 'Property2', 'DC|EC'],\n",
       "  ['House1', 'Road', 'EC'],\n",
       "  ['House2', 'Property1', 'DC'],\n",
       "  ['House2', 'Property2', 'NTPP'],\n",
       "  ['House2', 'Road', 'EC'],\n",
       "  ['Property1', 'Property2', 'DC|EC'],\n",
       "  ['Property1', 'Road', 'EC|PO'],\n",
       "  ['Property2', 'Road', 'PO|TPPI']]}"
      ]
     },
     "execution_count": 37,
     "metadata": {},
     "output_type": "execute_result"
    }
   ],
   "source": [
    "rcc8_net_dict = rcc8_net.to_dict()\n",
    "\n",
    "rcc8_net_dict"
   ]
  },
  {
   "cell_type": "markdown",
   "metadata": {},
   "source": [
    "### Dictionary to Network <a class=\"anchor\" id=\"dict_to_net\"></a>"
   ]
  },
  {
   "cell_type": "markdown",
   "metadata": {},
   "source": [
    "Instantiating a Network from a dictionary is similar to using the JSON format.  Although it is not shown below, we can define and use abbreviations for constraints, and we can leave the constraints off of edge definitions to indicate that all relations are possible."
   ]
  },
  {
   "cell_type": "code",
   "execution_count": 38,
   "metadata": {
    "scrolled": true
   },
   "outputs": [
    {
     "name": "stdout",
     "output_type": "stream",
     "text": [
      "<Network--Wikipedia RCC8 Example--RCC8_Algebra>\n",
      "\n",
      "Wikipedia RCC8 Example: 5 nodes, 25 edges\n",
      "  Algebra: RCC8_Algebra\n",
      "  House1:['Region']\n",
      "    => House1: EQ\n",
      "    => House2: DC\n",
      "    => Property1: NTPP|TPP\n",
      "    => Property2: DC|EC\n",
      "    => Road: EC\n",
      "  House2:['Region']\n",
      "    => House2: EQ\n",
      "    => Property1: DC\n",
      "    => Property2: NTPP\n",
      "    => Road: EC\n",
      "  Property1:['Region']\n",
      "    => Property1: EQ\n",
      "    => Property2: DC|EC\n",
      "    => Road: EC|PO\n",
      "  Property2:['Region']\n",
      "    => Property2: EQ\n",
      "    => Road: PO|TPPI\n",
      "  Road:['Region']\n",
      "    => Road: EQ\n"
     ]
    }
   ],
   "source": [
    "rcc8_net_from_dict = qr.Network(algebra_path=alg_dir, network_dict=rcc8_net_dict)\n",
    "\n",
    "print(rcc8_net_from_dict)\n",
    "\n",
    "rcc8_net_from_dict.summary(show_all=False)"
   ]
  },
  {
   "cell_type": "markdown",
   "metadata": {},
   "source": [
    "### Network to JSON <a class=\"anchor\" id=\"net_to_json\"></a>"
   ]
  },
  {
   "cell_type": "markdown",
   "metadata": {},
   "source": [
    "A simple way to serialize a network in JSON format is to first convert it to a dictionary using <b>to_dict</b> and then use <b>json.dump()</b> or <b>json.dumps()</b> to write it out to a file or convert it to a string, respectively.\n",
    "\n",
    "However, either way, the resulting file or string are not pretty printed."
   ]
  },
  {
   "cell_type": "markdown",
   "metadata": {},
   "source": [
    "#### Network to JSON File <a class=\"anchor\" id=\"net_to_json_file\"></a>"
   ]
  },
  {
   "cell_type": "code",
   "execution_count": 39,
   "metadata": {},
   "outputs": [],
   "source": [
    "import json\n",
    "\n",
    "rcc8_json_file = os.path.join(qr_path, \"Networks\", \"rcc8_test1.json\")\n",
    "\n",
    "with open(rcc8_json_file, \"w\") as fout:\n",
    "    json.dump(rcc8_net_dict, fout)"
   ]
  },
  {
   "cell_type": "code",
   "execution_count": 40,
   "metadata": {
    "scrolled": false
   },
   "outputs": [
    {
     "name": "stdout",
     "output_type": "stream",
     "text": [
      "{\"name\": \"Wikipedia RCC8 Example\", \"algebra\": \"RCC8_Algebra\", \"description\": \"See https://en.wikipedia.org/wiki/Region_connection_calculus#Examples\", \"nodes\": [[\"House1\", [\"Region\"]], [\"House2\", [\"Region\"]], [\"Property1\", [\"Region\"]], [\"Property2\", [\"Region\"]], [\"Road\", [\"Region\"]]], \"edges\": [[\"House1\", \"House2\", \"DC\"], [\"House1\", \"Property1\", \"NTPP|TPP\"], [\"House1\", \"Property2\", \"DC|EC\"], [\"House1\", \"Road\", \"EC\"], [\"House2\", \"Property1\", \"DC\"], [\"House2\", \"Property2\", \"NTPP\"], [\"House2\", \"Road\", \"EC\"], [\"Property1\", \"Property2\", \"DC|EC\"], [\"Property1\", \"Road\", \"EC|PO\"], [\"Property2\", \"Road\", \"PO|TPPI\"]]}"
     ]
    }
   ],
   "source": [
    "!cat {rcc8_json_file}"
   ]
  },
  {
   "cell_type": "markdown",
   "metadata": {},
   "source": [
    "#### Network to JSON String <a class=\"anchor\" id=\"net_to_json_str\"></a>"
   ]
  },
  {
   "cell_type": "code",
   "execution_count": 41,
   "metadata": {
    "scrolled": true
   },
   "outputs": [
    {
     "data": {
      "text/plain": [
       "'{\"name\": \"Wikipedia RCC8 Example\", \"algebra\": \"RCC8_Algebra\", \"description\": \"See https://en.wikipedia.org/wiki/Region_connection_calculus#Examples\", \"nodes\": [[\"House1\", [\"Region\"]], [\"House2\", [\"Region\"]], [\"Property1\", [\"Region\"]], [\"Property2\", [\"Region\"]], [\"Road\", [\"Region\"]]], \"edges\": [[\"House1\", \"House2\", \"DC\"], [\"House1\", \"Property1\", \"NTPP|TPP\"], [\"House1\", \"Property2\", \"DC|EC\"], [\"House1\", \"Road\", \"EC\"], [\"House2\", \"Property1\", \"DC\"], [\"House2\", \"Property2\", \"NTPP\"], [\"House2\", \"Road\", \"EC\"], [\"Property1\", \"Property2\", \"DC|EC\"], [\"Property1\", \"Road\", \"EC|PO\"], [\"Property2\", \"Road\", \"PO|TPPI\"]]}'"
      ]
     },
     "execution_count": 41,
     "metadata": {},
     "output_type": "execute_result"
    }
   ],
   "source": [
    "json.dumps(rcc8_net_dict)"
   ]
  }
 ],
 "metadata": {
  "kernelspec": {
   "display_name": "Python 3",
   "language": "python",
   "name": "python3"
  },
  "language_info": {
   "codemirror_mode": {
    "name": "ipython",
    "version": 3
   },
   "file_extension": ".py",
   "mimetype": "text/x-python",
   "name": "python",
   "nbconvert_exporter": "python",
   "pygments_lexer": "ipython3",
   "version": "3.7.7"
  }
 },
 "nbformat": 4,
 "nbformat_minor": 4
}
