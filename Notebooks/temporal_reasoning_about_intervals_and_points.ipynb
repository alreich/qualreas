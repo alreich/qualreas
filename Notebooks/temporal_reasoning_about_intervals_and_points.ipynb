{
 "cells": [
  {
   "cell_type": "markdown",
   "metadata": {},
   "source": [
    "# Temporal Reasoning about Time Intervals and Time Points"
   ]
  },
  {
   "cell_type": "code",
   "execution_count": 1,
   "metadata": {},
   "outputs": [],
   "source": [
    "import qualreas as qr\n",
    "import os\n",
    "\n",
    "qr_path = os.path.join(os.getenv('PYPROJ'), 'qualreas')\n",
    "alg_dir = os.path.join(qr_path, \"Algebras\")"
   ]
  },
  {
   "cell_type": "markdown",
   "metadata": {},
   "source": [
    "## An Example of Temporal Reasoning <a class=\"anchor\" id=\"temporal\"></a>"
   ]
  },
  {
   "cell_type": "markdown",
   "metadata": {},
   "source": [
    "Here we'll use the temporal interval & point algebra, <b>Extended_Linear_Interval_Algebra</b>, defined by Reich in [\"Intervals, Points, and Branching Time\", 1994](https://www.researchgate.net/publication/220810644_Intervals_Points_and_Branching_Time)\n",
    "\n",
    "This algebra extends Allen's algebra of <b>Proper Time Intervals</b> to include <b>Time Points</b>, so those two different ontology classes are permitted.\n",
    "\n",
    "The relation, \"PF\", is \"PointFinishes\", \"PS\" is \"PointStarts\", and \"PE\" is \"PointEquals\".  \"PFI\" & \"PSI\" are the converses of \"PF\" and \"PS\", respectively.\n",
    "\n",
    "For example,\n",
    "* <i>MondayMidnight PF Monday</i>\n",
    "* <i>MondayMidnight PS Tuesday</i>\n",
    "* <i>MondayMidnight PE MondayMidnight</i>"
   ]
  },
  {
   "cell_type": "markdown",
   "metadata": {},
   "source": [
    "In the following constraint network (in dictionary form) we create four temporal entities.  We've also specified the ontology classes the entities are allowed to belong to:\n",
    "* Monday a ProperInterval\n",
    "* MondayMidnight a ProperInterval or Point\n",
    "* Tuesday a ProperInterval\n",
    "* MondayPM a ProperInterval\n",
    "\n",
    "And we create three constraints between the temporal entities:\n",
    "* Monday <b>M</b> Tuesday\n",
    "* MondayMidnight <b>PF</b> Monday\n",
    "* MondayPM <b>F</b> Monday"
   ]
  },
  {
   "cell_type": "code",
   "execution_count": 2,
   "metadata": {},
   "outputs": [],
   "source": [
    "time_net_dict = {\n",
    "    'name': 'Simple Temporal Constraint Network',\n",
    "    'algebra': 'Extended_Linear_Interval_Algebra',\n",
    "    'description': 'A simple example of a Network of Time Points integrated with Time Intervals',\n",
    "    'nodes': [\n",
    "        ['Monday', ['ProperInterval']],\n",
    "        ['MondayMidnight', ['ProperInterval', 'Point']],\n",
    "        ['Tuesday', ['ProperInterval']],\n",
    "        ['MondayPM', ['ProperInterval']]\n",
    "    ],\n",
    "    'edges': [\n",
    "        ['Monday', 'Tuesday', 'M'],\n",
    "        ['MondayMidnight', 'Monday', 'PF'],\n",
    "        ['MondayPM', 'Monday', 'F']\n",
    "    ]\n",
    "}"
   ]
  },
  {
   "cell_type": "markdown",
   "metadata": {},
   "source": [
    "Now we'll use the dictionary to instantiate a Constraint Network Object"
   ]
  },
  {
   "cell_type": "code",
   "execution_count": 3,
   "metadata": {},
   "outputs": [
    {
     "name": "stdout",
     "output_type": "stream",
     "text": [
      "A simple example of a Network of Time Points integrated with Time Intervals\n",
      "\n",
      "Simple Temporal Constraint Network: 4 nodes, 10 edges\n",
      "  Algebra: Extended_Linear_Interval_Algebra\n",
      "  Monday:['ProperInterval']\n",
      "    => Monday: E\n",
      "    => Tuesday: M\n",
      "    => MondayMidnight: PFI\n",
      "    => MondayPM: FI\n",
      "  Tuesday:['ProperInterval']\n",
      "    => Tuesday: E\n",
      "  MondayMidnight:['ProperInterval', 'Point']\n",
      "    => MondayMidnight: E|PE\n",
      "  MondayPM:['ProperInterval']\n",
      "    => MondayPM: E\n"
     ]
    }
   ],
   "source": [
    "time_net = qr.Network(algebra_path=alg_dir, network_dict=time_net_dict)\n",
    "\n",
    "print(time_net.description)\n",
    "\n",
    "time_net.summary()"
   ]
  },
  {
   "cell_type": "markdown",
   "metadata": {},
   "source": [
    "And now, we'll propagate the network's constraints and summarize the result, showing all edges."
   ]
  },
  {
   "cell_type": "code",
   "execution_count": 4,
   "metadata": {},
   "outputs": [
    {
     "name": "stdout",
     "output_type": "stream",
     "text": [
      "The network is consistent.  Here's a summary:\n",
      "\n",
      "Simple Temporal Constraint Network: 4 nodes, 16 edges\n",
      "  Algebra: Extended_Linear_Interval_Algebra\n",
      "  Monday:['ProperInterval']\n",
      "    => Monday: E\n",
      "    => Tuesday: M\n",
      "    => MondayMidnight: PFI\n",
      "    => MondayPM: FI\n",
      "  Tuesday:['ProperInterval']\n",
      "    => Tuesday: E\n",
      "    => Monday: MI\n",
      "    => MondayMidnight: PSI\n",
      "    => MondayPM: MI\n",
      "  MondayMidnight:['Point']\n",
      "    => MondayMidnight: PE\n",
      "    => Monday: PF\n",
      "    => Tuesday: PS\n",
      "    => MondayPM: PF\n",
      "  MondayPM:['ProperInterval']\n",
      "    => MondayPM: E\n",
      "    => Monday: F\n",
      "    => Tuesday: M\n",
      "    => MondayMidnight: PFI\n"
     ]
    }
   ],
   "source": [
    "ok = time_net.propagate()\n",
    "\n",
    "if ok:\n",
    "    print(\"The network is consistent.  Here's a summary:\")\n",
    "    time_net.summary(show_all=True)\n",
    "else:\n",
    "    print(\"The network is inconsistent.\")"
   ]
  },
  {
   "cell_type": "markdown",
   "metadata": {},
   "source": [
    "Note that with regard to the point, <i>MondayMidnight</i> as defined in <b>time_net_dict</b>, above, we only specified:\n",
    "\n",
    "><i>MondayMidnight PF Monday</i>\n",
    "\n",
    "That is, <i>MondayMidnight</i> is the end point (<i>PointFinishes</i>) of the interval, <i>Monday</i>.\n",
    "\n",
    "After propagation, we've inferred that:\n",
    "\n",
    "><i>MondayMidnight PS Tuesday</i>\n",
    "\n",
    "That is, <i>MondayMidnight</i> is the begin point (<i>PointStarts</i>) of the interval, <i>Tuesday</i>.\n",
    "\n",
    "We've also inferred the corresponding converses of these statements (i.e., using the relations <i>PFI</i> and <i>PSI</i>).\n",
    "\n",
    "Finally, although we defined <i>MondayMidnight</i> as being either a <i>ProperInterval</i> or a <i>Point</i>, after propagation it is determined that it can only be a <i>Point</i>."
   ]
  }
 ],
 "metadata": {
  "kernelspec": {
   "display_name": "Python 3 (ipykernel)",
   "language": "python",
   "name": "python3"
  },
  "language_info": {
   "codemirror_mode": {
    "name": "ipython",
    "version": 3
   },
   "file_extension": ".py",
   "mimetype": "text/x-python",
   "name": "python",
   "nbconvert_exporter": "python",
   "pygments_lexer": "ipython3",
   "version": "3.9.16"
  }
 },
 "nbformat": 4,
 "nbformat_minor": 4
}
