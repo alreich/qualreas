{
 "cells": [
  {
   "cell_type": "markdown",
   "metadata": {},
   "source": [
    "# NetworkX Experiments"
   ]
  },
  {
   "cell_type": "markdown",
   "metadata": {},
   "source": [
    "This notebook is just for trying out things with NetworkX."
   ]
  },
  {
   "cell_type": "markdown",
   "metadata": {},
   "source": [
    "## Basic Stuff"
   ]
  },
  {
   "cell_type": "code",
   "execution_count": 1,
   "metadata": {},
   "outputs": [],
   "source": [
    "import networkx as nx"
   ]
  },
  {
   "cell_type": "markdown",
   "metadata": {},
   "source": [
    "### Graphs"
   ]
  },
  {
   "cell_type": "code",
   "execution_count": 2,
   "metadata": {},
   "outputs": [
    {
     "data": {
      "text/plain": [
       "{'name': 'Foo', 'what': 'test1'}"
      ]
     },
     "execution_count": 2,
     "metadata": {},
     "output_type": "execute_result"
    }
   ],
   "source": [
    "g1 = nx.DiGraph(name=\"Foo\", what=\"test1\")\n",
    "\n",
    "g1.graph"
   ]
  },
  {
   "cell_type": "code",
   "execution_count": 3,
   "metadata": {},
   "outputs": [
    {
     "data": {
      "text/plain": [
       "networkx.classes.digraph.DiGraph"
      ]
     },
     "execution_count": 3,
     "metadata": {},
     "output_type": "execute_result"
    }
   ],
   "source": [
    "type(g1)"
   ]
  },
  {
   "cell_type": "markdown",
   "metadata": {},
   "source": [
    "### Nodes"
   ]
  },
  {
   "cell_type": "code",
   "execution_count": 4,
   "metadata": {},
   "outputs": [
    {
     "data": {
      "text/plain": [
       "NodeView(('nd1', 'nd2', 'nd3'))"
      ]
     },
     "execution_count": 4,
     "metadata": {},
     "output_type": "execute_result"
    }
   ],
   "source": [
    "nodes = [(\"nd1\", {\"alpha\": \"ABC\"}),\n",
    "         (\"nd2\", {\"alpha\": \"DEF\"}),\n",
    "         (\"nd3\", {\"alpha\": \"GHI\"})]\n",
    "\n",
    "g1.add_nodes_from(nodes)\n",
    "\n",
    "g1.nodes"
   ]
  },
  {
   "cell_type": "code",
   "execution_count": 5,
   "metadata": {},
   "outputs": [
    {
     "data": {
      "text/plain": [
       "NodeDataView({'nd1': {'alpha': 'ABC'}, 'nd2': {'alpha': 'DEF'}, 'nd3': {'alpha': 'GHI'}})"
      ]
     },
     "execution_count": 5,
     "metadata": {},
     "output_type": "execute_result"
    }
   ],
   "source": [
    "g1.nodes.data()"
   ]
  },
  {
   "cell_type": "code",
   "execution_count": 6,
   "metadata": {},
   "outputs": [
    {
     "name": "stdout",
     "output_type": "stream",
     "text": [
      "[('nd1', {'alpha': 'ABC'}), ('nd2', {'alpha': 'DEF'}), ('nd3', {'alpha': 'GHI'})]\n"
     ]
    }
   ],
   "source": [
    "print(g1.nodes.data())"
   ]
  },
  {
   "cell_type": "markdown",
   "metadata": {},
   "source": [
    "### Edges"
   ]
  },
  {
   "cell_type": "code",
   "execution_count": 7,
   "metadata": {},
   "outputs": [
    {
     "data": {
      "text/plain": [
       "OutEdgeView([('nd1', 'nd2'), ('nd1', 'nd3'), ('nd2', 'nd1'), ('nd2', 'nd3'), ('nd3', 'nd1'), ('nd3', 'nd2')])"
      ]
     },
     "execution_count": 7,
     "metadata": {},
     "output_type": "execute_result"
    }
   ],
   "source": [
    "edges = [(\"nd1\", \"nd2\", {\"fruit\": \"apple\"}),\n",
    "         (\"nd1\", \"nd3\", {\"fruit\": \"pear\"}),\n",
    "         (\"nd2\", \"nd1\", {\"fruit\": \"APPLE\"}),\n",
    "         (\"nd2\", \"nd3\", {\"fruit\": \"banana\"}),\n",
    "         (\"nd3\", \"nd1\", {\"fruit\": \"PEAR\"}),\n",
    "         (\"nd3\", \"nd2\", {\"fruit\": \"BANANA\"})]\n",
    "\n",
    "g1.add_edges_from(edges)\n",
    "\n",
    "g1.edges"
   ]
  },
  {
   "cell_type": "code",
   "execution_count": 8,
   "metadata": {},
   "outputs": [
    {
     "data": {
      "text/plain": [
       "OutEdgeDataView([('nd1', 'nd2', {'fruit': 'apple'}), ('nd1', 'nd3', {'fruit': 'pear'}), ('nd2', 'nd1', {'fruit': 'APPLE'}), ('nd2', 'nd3', {'fruit': 'banana'}), ('nd3', 'nd1', {'fruit': 'PEAR'}), ('nd3', 'nd2', {'fruit': 'BANANA'})])"
      ]
     },
     "execution_count": 8,
     "metadata": {},
     "output_type": "execute_result"
    }
   ],
   "source": [
    "g1.edges.data()"
   ]
  },
  {
   "cell_type": "code",
   "execution_count": 9,
   "metadata": {},
   "outputs": [
    {
     "name": "stdout",
     "output_type": "stream",
     "text": [
      "[('nd1', 'nd2', {'fruit': 'apple'}), ('nd1', 'nd3', {'fruit': 'pear'}), ('nd2', 'nd1', {'fruit': 'APPLE'}), ('nd2', 'nd3', {'fruit': 'banana'}), ('nd3', 'nd1', {'fruit': 'PEAR'}), ('nd3', 'nd2', {'fruit': 'BANANA'})]\n"
     ]
    }
   ],
   "source": [
    "print(g1.edges.data())"
   ]
  },
  {
   "cell_type": "code",
   "execution_count": 10,
   "metadata": {},
   "outputs": [
    {
     "name": "stdout",
     "output_type": "stream",
     "text": [
      "('nd1', 'nd2', {'fruit': 'apple'})\n",
      "('nd1', 'nd3', {'fruit': 'pear'})\n",
      "('nd2', 'nd1', {'fruit': 'APPLE'})\n",
      "('nd2', 'nd3', {'fruit': 'banana'})\n",
      "('nd3', 'nd1', {'fruit': 'PEAR'})\n",
      "('nd3', 'nd2', {'fruit': 'BANANA'})\n"
     ]
    }
   ],
   "source": [
    "for item in g1.edges.data():\n",
    "    print(item)"
   ]
  },
  {
   "cell_type": "markdown",
   "metadata": {},
   "source": [
    "## Dictionaries & Lists"
   ]
  },
  {
   "cell_type": "markdown",
   "metadata": {},
   "source": [
    "<b>to_dict_of_dicts</b>: Keeps edge attributes but loses the graph and node attributes"
   ]
  },
  {
   "cell_type": "code",
   "execution_count": 11,
   "metadata": {},
   "outputs": [
    {
     "data": {
      "text/plain": [
       "{'nd1': {'nd2': {'fruit': 'apple'}, 'nd3': {'fruit': 'pear'}},\n",
       " 'nd2': {'nd1': {'fruit': 'APPLE'}, 'nd3': {'fruit': 'banana'}},\n",
       " 'nd3': {'nd1': {'fruit': 'PEAR'}, 'nd2': {'fruit': 'BANANA'}}}"
      ]
     },
     "execution_count": 11,
     "metadata": {},
     "output_type": "execute_result"
    }
   ],
   "source": [
    "dict_of_dicts1 = nx.to_dict_of_dicts(g1)\n",
    "dict_of_dicts1"
   ]
  },
  {
   "cell_type": "code",
   "execution_count": 12,
   "metadata": {},
   "outputs": [
    {
     "name": "stdout",
     "output_type": "stream",
     "text": [
      "[('nd1', {}), ('nd2', {}), ('nd3', {})]\n",
      "[('nd1', 'nd2', {'fruit': 'APPLE'}), ('nd1', 'nd3', {'fruit': 'PEAR'}), ('nd2', 'nd3', {'fruit': 'BANANA'})]\n"
     ]
    }
   ],
   "source": [
    "g1_from_dicts = nx.to_networkx_graph(dict_of_dicts1)\n",
    "print(g1_from_dicts.nodes.data())\n",
    "print(g1_from_dicts.edges.data())"
   ]
  },
  {
   "cell_type": "markdown",
   "metadata": {},
   "source": [
    "<b>to_dict_of_lists</b>: Loses all attributes"
   ]
  },
  {
   "cell_type": "code",
   "execution_count": 13,
   "metadata": {},
   "outputs": [
    {
     "data": {
      "text/plain": [
       "{'nd1': ['nd2', 'nd3'], 'nd2': ['nd1', 'nd3'], 'nd3': ['nd1', 'nd2']}"
      ]
     },
     "execution_count": 13,
     "metadata": {},
     "output_type": "execute_result"
    }
   ],
   "source": [
    "nx.to_dict_of_lists(g1)"
   ]
  },
  {
   "cell_type": "markdown",
   "metadata": {},
   "source": [
    "<b>to_edgelist</b>: Only preserves edges"
   ]
  },
  {
   "cell_type": "code",
   "execution_count": 14,
   "metadata": {},
   "outputs": [
    {
     "data": {
      "text/plain": [
       "OutEdgeDataView([('nd1', 'nd2', {'fruit': 'apple'}), ('nd1', 'nd3', {'fruit': 'pear'}), ('nd2', 'nd1', {'fruit': 'APPLE'}), ('nd2', 'nd3', {'fruit': 'banana'}), ('nd3', 'nd1', {'fruit': 'PEAR'}), ('nd3', 'nd2', {'fruit': 'BANANA'})])"
      ]
     },
     "execution_count": 14,
     "metadata": {},
     "output_type": "execute_result"
    }
   ],
   "source": [
    "nx.to_edgelist(g1)"
   ]
  },
  {
   "cell_type": "code",
   "execution_count": 15,
   "metadata": {},
   "outputs": [
    {
     "data": {
      "text/plain": [
       "[('nd1', 'nd2', {'fruit': 'apple'}),\n",
       " ('nd1', 'nd3', {'fruit': 'pear'}),\n",
       " ('nd2', 'nd1', {'fruit': 'APPLE'}),\n",
       " ('nd2', 'nd3', {'fruit': 'banana'}),\n",
       " ('nd3', 'nd1', {'fruit': 'PEAR'}),\n",
       " ('nd3', 'nd2', {'fruit': 'BANANA'})]"
      ]
     },
     "execution_count": 15,
     "metadata": {},
     "output_type": "execute_result"
    }
   ],
   "source": [
    "edgelist1 = list(nx.to_edgelist(g1))\n",
    "edgelist1"
   ]
  },
  {
   "cell_type": "markdown",
   "metadata": {},
   "source": [
    "## Constraint Networks"
   ]
  },
  {
   "cell_type": "code",
   "execution_count": 21,
   "metadata": {},
   "outputs": [
    {
     "name": "stdout",
     "output_type": "stream",
     "text": [
      "/Users/alfredreich/Documents/Github/repo/qualreas\n"
     ]
    }
   ],
   "source": [
    "import json\n",
    "import os\n",
    "\n",
    "path = os.path.join(os.getenv('PYPROJ'), 'qualreas')\n",
    "print(path)"
   ]
  },
  {
   "cell_type": "code",
   "execution_count": 22,
   "metadata": {},
   "outputs": [
    {
     "name": "stdout",
     "output_type": "stream",
     "text": [
      "total 104\r\n",
      "-rw-r--r--  1 alfredreich  staff   509 Sep 19 14:08 BookExample.json\r\n",
      "-rw-r--r--  1 alfredreich  staff   573 Sep 19 14:08 BookExampleExtended.json\r\n",
      "-rw-r--r--  1 alfredreich  staff   452 Oct 26 18:02 golumbic1993_example_2_5.json\r\n",
      "-rw-r--r--  1 alfredreich  staff   450 Oct 26 18:02 golumbic1993_example_2_6.json\r\n",
      "-rw-r--r--  1 alfredreich  staff  1150 Sep 26 16:12 nssdfExample2.json\r\n",
      "-rw-r--r--  1 alfredreich  staff  1032 Sep 30 15:57 nssdfExample2.py\r\n",
      "-rw-r--r--  1 alfredreich  staff  1597 Oct  4 11:06 nssdfExample2_node_link_data.json\r\n",
      "-rw-r--r--  1 alfredreich  staff  1593 Sep 30 18:32 nssdfExample2_node_link_data.py\r\n",
      "-rw-r--r--  1 alfredreich  staff   783 Oct 17 16:39 rcc8_example.json\r\n",
      "-rw-r--r--  1 alfredreich  staff   712 Sep 19 14:08 rcc8_example_MISSING.json\r\n",
      "-rw-r--r--  1 alfredreich  staff   757 Oct 17 16:39 rcc8_example_OLD.json\r\n",
      "-rw-r--r--  1 alfredreich  staff   613 Nov  5 20:04 rcc8_test1.json\r\n",
      "-rw-r--r--  1 alfredreich  staff  1197 Nov 22 13:45 test_g1.gml\r\n"
     ]
    }
   ],
   "source": [
    "!ls -lF {path}/Networks"
   ]
  },
  {
   "cell_type": "code",
   "execution_count": 23,
   "metadata": {},
   "outputs": [
    {
     "name": "stdout",
     "output_type": "stream",
     "text": [
      "{\r\n",
      "    \"name\": \"Wikipedia RCC8 Example\",\r\n",
      "    \"algebra\": \"RCC8_Algebra\",\r\n",
      "    \"abbreviations\": {\"dec\": \"DC|EC\"},\r\n",
      "    \"description\": \"See https://en.wikipedia.org/wiki/Region_connection_calculus#Examples\",\r\n",
      "    \"nodes\": [\r\n",
      "        [\"House1\", [\"Region\"]],\r\n",
      "        [\"House2\", [\"Region\"]],\r\n",
      "        [\"Property1\", [\"Region\"]],\r\n",
      "        [\"Property2\", [\"Region\"]],\r\n",
      "        [\"Road\", [\"Region\"]]\r\n",
      "    ],\r\n",
      "    \"edges\": [\r\n",
      "        [\"House1\", \"House2\", \"DC\"],\r\n",
      "        [\"House1\", \"Property1\", \"TPP|NTPP\"],\r\n",
      "        [\"House1\", \"Property2\", \"dec\"],\r\n",
      "        [\"House1\", \"Road\", \"EC\"],\r\n",
      "        [\"House2\", \"Property1\", \"dec\"],\r\n",
      "        [\"House2\", \"Property2\", \"NTPP\"],\r\n",
      "        [\"House2\", \"Road\", \"EC\"],\r\n",
      "        [\"Property1\", \"Property2\", \"dec\"],\r\n",
      "        [\"Road\", \"Property1\"],\r\n",
      "        [\"Road\", \"Property2\"]\r\n",
      "    ]\r\n",
      "}"
     ]
    }
   ],
   "source": [
    "!cat {path}/Networks/rcc8_example.json"
   ]
  },
  {
   "cell_type": "code",
   "execution_count": 24,
   "metadata": {},
   "outputs": [],
   "source": [
    "with open(path + \"/Networks/rcc8_example.json\") as fin:\n",
    "    rcc8_dict = json.load(fin)"
   ]
  },
  {
   "cell_type": "code",
   "execution_count": 25,
   "metadata": {},
   "outputs": [
    {
     "data": {
      "text/plain": [
       "{'name': 'Wikipedia RCC8 Example',\n",
       " 'algebra': 'RCC8_Algebra',\n",
       " 'abbreviations': {'dec': 'DC|EC'},\n",
       " 'description': 'See https://en.wikipedia.org/wiki/Region_connection_calculus#Examples',\n",
       " 'nodes': [['House1', ['Region']],\n",
       "  ['House2', ['Region']],\n",
       "  ['Property1', ['Region']],\n",
       "  ['Property2', ['Region']],\n",
       "  ['Road', ['Region']]],\n",
       " 'edges': [['House1', 'House2', 'DC'],\n",
       "  ['House1', 'Property1', 'TPP|NTPP'],\n",
       "  ['House1', 'Property2', 'dec'],\n",
       "  ['House1', 'Road', 'EC'],\n",
       "  ['House2', 'Property1', 'dec'],\n",
       "  ['House2', 'Property2', 'NTPP'],\n",
       "  ['House2', 'Road', 'EC'],\n",
       "  ['Property1', 'Property2', 'dec'],\n",
       "  ['Road', 'Property1'],\n",
       "  ['Road', 'Property2']]}"
      ]
     },
     "execution_count": 25,
     "metadata": {},
     "output_type": "execute_result"
    }
   ],
   "source": [
    "rcc8_dict"
   ]
  },
  {
   "cell_type": "markdown",
   "metadata": {},
   "source": [
    "## JSON"
   ]
  },
  {
   "cell_type": "code",
   "execution_count": 26,
   "metadata": {},
   "outputs": [
    {
     "name": "stdout",
     "output_type": "stream",
     "text": [
      "<Network--Wikipedia RCC8 Example--RCC8_Algebra>\n"
     ]
    }
   ],
   "source": [
    "import qualreas as qr\n",
    "\n",
    "qr_path = os.path.join(os.getenv('PYPROJ'), 'qualreas')\n",
    "alg_dir = os.path.join(qr_path, \"Algebras\")\n",
    "rcc8_file = os.path.join(qr_path, \"Networks\", \"rcc8_example.json\")\n",
    "rcc8_net = qr.Network(algebra_path=alg_dir, json_file_name=rcc8_file)\n",
    "\n",
    "print(rcc8_net)"
   ]
  },
  {
   "cell_type": "code",
   "execution_count": 28,
   "metadata": {},
   "outputs": [
    {
     "data": {
      "text/plain": [
       "<qualreas.Algebra at 0x7f9120198910>"
      ]
     },
     "execution_count": 28,
     "metadata": {},
     "output_type": "execute_result"
    }
   ],
   "source": [
    "rcc8_net.algebra"
   ]
  },
  {
   "cell_type": "code",
   "execution_count": null,
   "metadata": {},
   "outputs": [],
   "source": []
  },
  {
   "cell_type": "code",
   "execution_count": 27,
   "metadata": {},
   "outputs": [
    {
     "data": {
      "text/plain": [
       "{'directed': True,\n",
       " 'multigraph': False,\n",
       " 'graph': {'name': 'Wikipedia RCC8 Example'},\n",
       " 'nodes': [{'id': SpatialObject(['Region'] 'House1')},\n",
       "  {'id': SpatialObject(['Region'] 'House2')},\n",
       "  {'id': SpatialObject(['Region'] 'Property1')},\n",
       "  {'id': SpatialObject(['Region'] 'Property2')},\n",
       "  {'id': SpatialObject(['Region'] 'Road')}],\n",
       " 'links': [{'constraint': relset(['EQ']),\n",
       "   'source': SpatialObject(['Region'] 'House1'),\n",
       "   'target': SpatialObject(['Region'] 'House1')},\n",
       "  {'constraint': relset(['DC']),\n",
       "   'source': SpatialObject(['Region'] 'House1'),\n",
       "   'target': SpatialObject(['Region'] 'House2')},\n",
       "  {'constraint': relset(['NTPP', 'TPP']),\n",
       "   'source': SpatialObject(['Region'] 'House1'),\n",
       "   'target': SpatialObject(['Region'] 'Property1')},\n",
       "  {'constraint': relset(['DC', 'EC']),\n",
       "   'source': SpatialObject(['Region'] 'House1'),\n",
       "   'target': SpatialObject(['Region'] 'Property2')},\n",
       "  {'constraint': relset(['EC']),\n",
       "   'source': SpatialObject(['Region'] 'House1'),\n",
       "   'target': SpatialObject(['Region'] 'Road')},\n",
       "  {'constraint': relset(['EQ']),\n",
       "   'source': SpatialObject(['Region'] 'House2'),\n",
       "   'target': SpatialObject(['Region'] 'House2')},\n",
       "  {'constraint': relset(['DC']),\n",
       "   'source': SpatialObject(['Region'] 'House2'),\n",
       "   'target': SpatialObject(['Region'] 'House1')},\n",
       "  {'constraint': relset(['DC', 'EC']),\n",
       "   'source': SpatialObject(['Region'] 'House2'),\n",
       "   'target': SpatialObject(['Region'] 'Property1')},\n",
       "  {'constraint': relset(['NTPP']),\n",
       "   'source': SpatialObject(['Region'] 'House2'),\n",
       "   'target': SpatialObject(['Region'] 'Property2')},\n",
       "  {'constraint': relset(['EC']),\n",
       "   'source': SpatialObject(['Region'] 'House2'),\n",
       "   'target': SpatialObject(['Region'] 'Road')},\n",
       "  {'constraint': relset(['EQ']),\n",
       "   'source': SpatialObject(['Region'] 'Property1'),\n",
       "   'target': SpatialObject(['Region'] 'Property1')},\n",
       "  {'constraint': relset(['NTPPI', 'TPPI']),\n",
       "   'source': SpatialObject(['Region'] 'Property1'),\n",
       "   'target': SpatialObject(['Region'] 'House1')},\n",
       "  {'constraint': relset(['DC', 'EC']),\n",
       "   'source': SpatialObject(['Region'] 'Property1'),\n",
       "   'target': SpatialObject(['Region'] 'House2')},\n",
       "  {'constraint': relset(['DC', 'EC']),\n",
       "   'source': SpatialObject(['Region'] 'Property1'),\n",
       "   'target': SpatialObject(['Region'] 'Property2')},\n",
       "  {'constraint': relset(['DC', 'EC', 'EQ', 'NTPP', 'NTPPI', 'PO', 'TPP', 'TPPI']),\n",
       "   'source': SpatialObject(['Region'] 'Property1'),\n",
       "   'target': SpatialObject(['Region'] 'Road')},\n",
       "  {'constraint': relset(['EQ']),\n",
       "   'source': SpatialObject(['Region'] 'Property2'),\n",
       "   'target': SpatialObject(['Region'] 'Property2')},\n",
       "  {'constraint': relset(['DC', 'EC']),\n",
       "   'source': SpatialObject(['Region'] 'Property2'),\n",
       "   'target': SpatialObject(['Region'] 'House1')},\n",
       "  {'constraint': relset(['NTPPI']),\n",
       "   'source': SpatialObject(['Region'] 'Property2'),\n",
       "   'target': SpatialObject(['Region'] 'House2')},\n",
       "  {'constraint': relset(['DC', 'EC']),\n",
       "   'source': SpatialObject(['Region'] 'Property2'),\n",
       "   'target': SpatialObject(['Region'] 'Property1')},\n",
       "  {'constraint': relset(['DC', 'EC', 'EQ', 'NTPP', 'NTPPI', 'PO', 'TPP', 'TPPI']),\n",
       "   'source': SpatialObject(['Region'] 'Property2'),\n",
       "   'target': SpatialObject(['Region'] 'Road')},\n",
       "  {'constraint': relset(['EQ']),\n",
       "   'source': SpatialObject(['Region'] 'Road'),\n",
       "   'target': SpatialObject(['Region'] 'Road')},\n",
       "  {'constraint': relset(['EC']),\n",
       "   'source': SpatialObject(['Region'] 'Road'),\n",
       "   'target': SpatialObject(['Region'] 'House1')},\n",
       "  {'constraint': relset(['EC']),\n",
       "   'source': SpatialObject(['Region'] 'Road'),\n",
       "   'target': SpatialObject(['Region'] 'House2')},\n",
       "  {'constraint': relset(['DC', 'EC', 'EQ', 'NTPP', 'NTPPI', 'PO', 'TPP', 'TPPI']),\n",
       "   'source': SpatialObject(['Region'] 'Road'),\n",
       "   'target': SpatialObject(['Region'] 'Property1')},\n",
       "  {'constraint': relset(['DC', 'EC', 'EQ', 'NTPP', 'NTPPI', 'PO', 'TPP', 'TPPI']),\n",
       "   'source': SpatialObject(['Region'] 'Road'),\n",
       "   'target': SpatialObject(['Region'] 'Property2')}]}"
      ]
     },
     "execution_count": 27,
     "metadata": {},
     "output_type": "execute_result"
    }
   ],
   "source": [
    "rcc8_nx_json = nx.readwrite.json_graph.node_link_data(rcc8_net)\n",
    "rcc8_nx_json"
   ]
  },
  {
   "cell_type": "code",
   "execution_count": null,
   "metadata": {},
   "outputs": [],
   "source": []
  },
  {
   "cell_type": "markdown",
   "metadata": {},
   "source": [
    "Reading and writing JSON seems to work."
   ]
  },
  {
   "cell_type": "code",
   "execution_count": null,
   "metadata": {},
   "outputs": [],
   "source": [
    "g1_json = nx.readwrite.json_graph.node_link_data(g1)\n",
    "g1_json"
   ]
  },
  {
   "cell_type": "code",
   "execution_count": null,
   "metadata": {},
   "outputs": [],
   "source": [
    "g1_from_json = nx.readwrite.json_graph.node_link_graph(g1_json)\n",
    "nx.readwrite.json_graph.node_link_data(g1_from_json)"
   ]
  },
  {
   "cell_type": "markdown",
   "metadata": {},
   "source": [
    "<b>nx.readwrite.json_graph.node_link_graph</b>: Doesn't work for DiGraphs"
   ]
  },
  {
   "cell_type": "markdown",
   "metadata": {},
   "source": [
    "## GraphML"
   ]
  },
  {
   "cell_type": "markdown",
   "metadata": {},
   "source": [
    "GraphML keeps graph, node, and edge attributes, but loses readability."
   ]
  },
  {
   "cell_type": "code",
   "execution_count": null,
   "metadata": {},
   "outputs": [],
   "source": [
    "nx.readwrite.graphml.write_graphml(g1, path + \"/Networks/test_g1.gml\")"
   ]
  },
  {
   "cell_type": "code",
   "execution_count": null,
   "metadata": {},
   "outputs": [],
   "source": [
    "!cat {path}/Networks/test_g1.gml"
   ]
  },
  {
   "cell_type": "code",
   "execution_count": null,
   "metadata": {},
   "outputs": [],
   "source": [
    "net_g1 = nx.from_dict_of_dicts(g1_dict)"
   ]
  },
  {
   "cell_type": "code",
   "execution_count": null,
   "metadata": {},
   "outputs": [],
   "source": [
    "net_g1_A = nx.json_graph.node_link_graph(json.load(open(path + \"/Networks/nssdfExample2_node_link_data.json\")))"
   ]
  },
  {
   "cell_type": "code",
   "execution_count": null,
   "metadata": {},
   "outputs": [],
   "source": []
  }
 ],
 "metadata": {
  "kernelspec": {
   "display_name": "Python 3",
   "language": "python",
   "name": "python3"
  },
  "language_info": {
   "codemirror_mode": {
    "name": "ipython",
    "version": 3
   },
   "file_extension": ".py",
   "mimetype": "text/x-python",
   "name": "python",
   "nbconvert_exporter": "python",
   "pygments_lexer": "ipython3",
   "version": "3.7.7"
  }
 },
 "nbformat": 4,
 "nbformat_minor": 4
}
