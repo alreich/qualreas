{
 "cells": [
  {
   "cell_type": "markdown",
   "metadata": {},
   "source": [
    "# Region Connection Calculus 8"
   ]
  },
  {
   "cell_type": "markdown",
   "metadata": {},
   "source": [
    "<i>Version 1</i>"
   ]
  },
  {
   "cell_type": "markdown",
   "metadata": {},
   "source": [
    "## References"
   ]
  },
  {
   "cell_type": "markdown",
   "metadata": {},
   "source": [
    "1. [\"Intervals, Points, and Branching Time\" by A.J. Reich](https://www.researchgate.net/publication/220810644_Intervals_Points_and_Branching_Time) - basis for the extensions here to Allen's algebra\n",
    "1. [Allen's Interval Algebra](https://www.ics.uci.edu/~alspaugh/cls/shr/allen.html) or [here](https://thomasalspaugh.org/pub/fnd/allen.html) - summarizes Allen's algebra of proper time intervals\n",
    "1. [\"Maintaining Knowledge about Temporal Intervals\" by James F. Allen](https://cse.unl.edu/~choueiry/Documents/Allen-CACM1983.pdf) - Allen's original paper (PDF)\n"
   ]
  },
  {
   "cell_type": "markdown",
   "metadata": {},
   "source": [
    "## Dependencies"
   ]
  },
  {
   "cell_type": "code",
   "execution_count": 1,
   "metadata": {},
   "outputs": [],
   "source": [
    "import qualreas as qr\n",
    "import os"
   ]
  },
  {
   "cell_type": "code",
   "execution_count": 2,
   "metadata": {},
   "outputs": [],
   "source": [
    "path = os.path.join(os.getenv('PYPROJ'), 'qualreas')"
   ]
  },
  {
   "cell_type": "markdown",
   "metadata": {},
   "source": [
    "## Instantiate the RCC8 Algebra"
   ]
  },
  {
   "cell_type": "code",
   "execution_count": 3,
   "metadata": {},
   "outputs": [],
   "source": [
    "alg = qr.Algebra(os.path.join(path, \"Algebras/RCC8Algebra.json\"))"
   ]
  },
  {
   "cell_type": "markdown",
   "metadata": {},
   "source": [
    "## Algebra Summary"
   ]
  },
  {
   "cell_type": "markdown",
   "metadata": {},
   "source": [
    "Two important aspects of an algebra are defined in the JSON file that was loaded above:\n",
    "1. The algebra's set of relations and their properties\n",
    "1. The algebra's composition table (called TransTable in the JSON file)"
   ]
  },
  {
   "cell_type": "markdown",
   "metadata": {},
   "source": [
    "There are 8 relations in RCC8.  Here is a summary of the properties of each one:"
   ]
  },
  {
   "cell_type": "code",
   "execution_count": 17,
   "metadata": {},
   "outputs": [
    {
     "name": "stdout",
     "output_type": "stream",
     "text": [
      "\n",
      "Name: RCC8Algebra\n",
      "Description: Region Connection Calculus 8 Algebra\n",
      "\n",
      "                  Symbol: DC\n",
      "                    Name: Disconnected\n",
      "                  Domain: ['Region']\n",
      "                   Range: ['Region']\n",
      "                Converse: Disconnected\n",
      "           Is Reflexive?: False\n",
      "           Is Symmetric?: True\n",
      "          Is Transitive?: False\n",
      "Is an Equality Relation?: False\n",
      "\n",
      "                  Symbol: EC\n",
      "                    Name: ExternallyConnected\n",
      "                  Domain: ['Region']\n",
      "                   Range: ['Region']\n",
      "                Converse: ExternallyConnected\n",
      "           Is Reflexive?: False\n",
      "           Is Symmetric?: True\n",
      "          Is Transitive?: False\n",
      "Is an Equality Relation?: False\n",
      "\n",
      "                  Symbol: EQ\n",
      "                    Name: Equal\n",
      "                  Domain: ['Region']\n",
      "                   Range: ['Region']\n",
      "                Converse: Equal\n",
      "           Is Reflexive?: True\n",
      "           Is Symmetric?: True\n",
      "          Is Transitive?: True\n",
      "Is an Equality Relation?: True\n",
      "\n",
      "                  Symbol: NTPP\n",
      "                    Name: NonTangentialProperPart\n",
      "                  Domain: ['Region']\n",
      "                   Range: ['Region']\n",
      "                Converse: NonTangentialProperPartInverse\n",
      "           Is Reflexive?: False\n",
      "           Is Symmetric?: False\n",
      "          Is Transitive?: True\n",
      "Is an Equality Relation?: False\n",
      "\n",
      "                  Symbol: NTPPI\n",
      "                    Name: NonTangentialProperPartInverse\n",
      "                  Domain: ['Region']\n",
      "                   Range: ['Region']\n",
      "                Converse: NonTangentialProperPart\n",
      "           Is Reflexive?: False\n",
      "           Is Symmetric?: False\n",
      "          Is Transitive?: True\n",
      "Is an Equality Relation?: False\n",
      "\n",
      "                  Symbol: PO\n",
      "                    Name: PartiallyOverlapping\n",
      "                  Domain: ['Region']\n",
      "                   Range: ['Region']\n",
      "                Converse: PartiallyOverlapping\n",
      "           Is Reflexive?: False\n",
      "           Is Symmetric?: True\n",
      "          Is Transitive?: False\n",
      "Is an Equality Relation?: False\n",
      "\n",
      "                  Symbol: TPP\n",
      "                    Name: TangentialProperPart\n",
      "                  Domain: ['Region']\n",
      "                   Range: ['Region']\n",
      "                Converse: TangentialProperPartInverse\n",
      "           Is Reflexive?: False\n",
      "           Is Symmetric?: False\n",
      "          Is Transitive?: False\n",
      "Is an Equality Relation?: False\n",
      "\n",
      "                  Symbol: TPPI\n",
      "                    Name: TangentialProperPartInverse\n",
      "                  Domain: ['Region']\n",
      "                   Range: ['Region']\n",
      "                Converse: TangentialProperPart\n",
      "           Is Reflexive?: False\n",
      "           Is Symmetric?: False\n",
      "          Is Transitive?: False\n",
      "Is an Equality Relation?: False\n"
     ]
    }
   ],
   "source": [
    "print(f\"\\nName: {alg.name}\")\n",
    "print(f\"Description: {alg.description}\")\n",
    "for element in list(alg.elements):\n",
    "    print(f\"\\n                  Symbol: {element}\")\n",
    "    alg.element_summary(element)"
   ]
  },
  {
   "cell_type": "markdown",
   "metadata": {},
   "source": [
    "The relations can be described pictorially as shown in the following image from [Wikipedia on RCC8](https://en.wikipedia.org/wiki/Region_connection_calculus):"
   ]
  },
  {
   "cell_type": "markdown",
   "metadata": {},
   "source": [
    "![Region Connection Calculus 8](https://upload.wikimedia.org/wikipedia/en/1/1c/RCC8.jpg)"
   ]
  },
  {
   "cell_type": "markdown",
   "metadata": {},
   "source": [
    "## Creating Relation Sets"
   ]
  },
  {
   "cell_type": "markdown",
   "metadata": {},
   "source": [
    "There are two acceptable input formats for creating relation sets:"
   ]
  },
  {
   "cell_type": "code",
   "execution_count": 23,
   "metadata": {},
   "outputs": [
    {
     "name": "stdout",
     "output_type": "stream",
     "text": [
      "DC|EC|NTPP\n",
      "DC|EC|NTPP\n",
      "Same? True\n"
     ]
    }
   ],
   "source": [
    "relset_version1 = alg.relset(\"DC|EC|NTPP\")\n",
    "relset_version2 = alg.relset(['DC', 'EC', 'NTPP'])\n",
    "print(relset_version1)\n",
    "print(relset_version2)\n",
    "print(f\"Same? {relset_version1 == relset_version2}\")"
   ]
  },
  {
   "cell_type": "markdown",
   "metadata": {},
   "source": [
    "Singleton sets can also be created in two ways:"
   ]
  },
  {
   "cell_type": "code",
   "execution_count": 24,
   "metadata": {},
   "outputs": [
    {
     "name": "stdout",
     "output_type": "stream",
     "text": [
      "DC\n",
      "DC\n",
      "Same? True\n"
     ]
    }
   ],
   "source": [
    "singleton_relset_v1 = alg.relset(\"DC\")\n",
    "singleton_relset_v2 = alg.relset([\"DC\"])\n",
    "print(singleton_relset_v1)\n",
    "print(singleton_relset_v2)\n",
    "print(f\"Same? {singleton_relset_v1 == singleton_relset_v2}\")"
   ]
  },
  {
   "cell_type": "markdown",
   "metadata": {},
   "source": [
    "And, there are two ways the empty set can be created:"
   ]
  },
  {
   "cell_type": "code",
   "execution_count": 25,
   "metadata": {},
   "outputs": [
    {
     "name": "stdout",
     "output_type": "stream",
     "text": [
      "\n",
      "\n",
      "Same? True\n"
     ]
    },
    {
     "data": {
      "text/plain": [
       "relset()"
      ]
     },
     "execution_count": 25,
     "metadata": {},
     "output_type": "execute_result"
    }
   ],
   "source": [
    "empty_relset_v1 = alg.relset(\"\")\n",
    "empty_relset_v2 = alg.relset([])\n",
    "print(empty_relset_v1)  # Nothing will printout here.\n",
    "print(empty_relset_v2)  # Nor here.\n",
    "print(f\"Same? {empty_relset_v1 == empty_relset_v2}\")\n",
    "\n",
    "empty_relset_v1  # Just so we can see something that looks empty..."
   ]
  },
  {
   "cell_type": "markdown",
   "metadata": {},
   "source": [
    "## Operations on Relation Sets"
   ]
  },
  {
   "cell_type": "markdown",
   "metadata": {},
   "source": [
    "### Addition"
   ]
  },
  {
   "cell_type": "markdown",
   "metadata": {},
   "source": [
    "Addition (+) is set intersection:"
   ]
  },
  {
   "cell_type": "code",
   "execution_count": 26,
   "metadata": {},
   "outputs": [
    {
     "data": {
      "text/plain": [
       "relset(['DC', 'NTPP'])"
      ]
     },
     "execution_count": 26,
     "metadata": {},
     "output_type": "execute_result"
    }
   ],
   "source": [
    "alg.relset('DC|EC|NTPP') + alg.relset('DC|NTPP|PO|EQ')"
   ]
  },
  {
   "cell_type": "code",
   "execution_count": 27,
   "metadata": {},
   "outputs": [
    {
     "data": {
      "text/plain": [
       "relset()"
      ]
     },
     "execution_count": 27,
     "metadata": {},
     "output_type": "execute_result"
    }
   ],
   "source": [
    "alg.relset('DC|EC|NTPP') + alg.relset('PO|EQ')"
   ]
  },
  {
   "cell_type": "markdown",
   "metadata": {},
   "source": [
    "### Composition"
   ]
  },
  {
   "cell_type": "markdown",
   "metadata": {},
   "source": [
    "Composition, sometimes referred to as \"multiplication\", is relation composition applied to sets of relations.  (https://en.wikipedia.org/wiki/Composition_of_relations)\n",
    "\n",
    "When more than one relation appears in the sets, the result of composition is the union of all pairwise compositions of the individual relations in the sets.\n",
    "\n",
    "Below, we calculate 4 different compositions involving single relations, representing the pairwise compositions of F|MI and O|D:"
   ]
  },
  {
   "cell_type": "code",
   "execution_count": 28,
   "metadata": {},
   "outputs": [
    {
     "name": "stdout",
     "output_type": "stream",
     "text": [
      "DC;EC = DC|EC|NTPP|PO|TPP\n",
      "DC;PO = DC|EC|NTPP|PO|TPP\n",
      "NTPP;EC = DC\n",
      "NTPP;PO = DC|EC|NTPP|PO|TPP\n"
     ]
    }
   ],
   "source": [
    "rel1 = \"DC\"\n",
    "rel2= \"EC\"\n",
    "rel3 = \"NTPP\"\n",
    "rel4 = \"PO\"\n",
    "print(f\"{rel1};{rel2} = {alg.compose(alg.relset(rel1), alg.relset(rel2))}\")\n",
    "print(f\"{rel1};{rel4} = {alg.compose(alg.relset(rel1), alg.relset(rel4))}\")\n",
    "print(f\"{rel3};{rel2} = {alg.compose(alg.relset(rel3), alg.relset(rel2))}\")\n",
    "print(f\"{rel3};{rel4} = {alg.compose(alg.relset(rel3), alg.relset(rel4))}\")"
   ]
  },
  {
   "cell_type": "code",
   "execution_count": 30,
   "metadata": {},
   "outputs": [
    {
     "name": "stdout",
     "output_type": "stream",
     "text": [
      "(DC|NTPP);(EC|PO) = DC|EC|NTPP|PO|TPP\n"
     ]
    }
   ],
   "source": [
    "print(f\"({rel1}|{rel3});({rel2}|{rel4}) = {alg.compose(alg.relset('DC|EC'), alg.relset('NTPP|PO'))}\")"
   ]
  },
  {
   "cell_type": "markdown",
   "metadata": {},
   "source": [
    "### Converses"
   ]
  },
  {
   "cell_type": "markdown",
   "metadata": {},
   "source": [
    "<u><b>NOTATION</b></u>:  Here, we'll denote the converse operation with \"!\".  So, if $A$ and $B$ are Spatial Entities, and $r$ is a relation between them, then $!r$ is its converse relation, so, $A r B$ if and only if $B !r A$.  For example, \"A before B\" if and only if \"B after A\"."
   ]
  },
  {
   "cell_type": "markdown",
   "metadata": {},
   "source": [
    "Individual relations have converses:"
   ]
  },
  {
   "cell_type": "code",
   "execution_count": 32,
   "metadata": {},
   "outputs": [
    {
     "name": "stdout",
     "output_type": "stream",
     "text": [
      "The converse of TangentialProperPart is TangentialProperPartInverse\n"
     ]
    }
   ],
   "source": [
    "rel_symbol = 'TPP'\n",
    "print(f\"The converse of {alg.rel_name(rel_symbol)} is {alg.rel_converse_name(rel_symbol)}\")"
   ]
  },
  {
   "cell_type": "markdown",
   "metadata": {},
   "source": [
    "And relation sets also have converses:"
   ]
  },
  {
   "cell_type": "code",
   "execution_count": 33,
   "metadata": {},
   "outputs": [
    {
     "name": "stdout",
     "output_type": "stream",
     "text": [
      "!TPP = TPPI.\n",
      "!(DC|EC|NTPPI) = DC|EC|NTPP\n"
     ]
    }
   ],
   "source": [
    "print(f\"!{alg.relset(rel_symbol)} = {alg.converse(alg.relset(rel_symbol))}.\")\n",
    "print(f\"!({alg.converse(relset_version1)}) = {relset_version1}\")"
   ]
  },
  {
   "cell_type": "markdown",
   "metadata": {},
   "source": [
    "### Complement of a Relation Set"
   ]
  },
  {
   "cell_type": "markdown",
   "metadata": {},
   "source": [
    "The complement of a relation set, R, is the set of all relation elements that are not in R.\n",
    "\n",
    "We'll use ~R to denote the complement of R."
   ]
  },
  {
   "cell_type": "code",
   "execution_count": 35,
   "metadata": {},
   "outputs": [
    {
     "name": "stdout",
     "output_type": "stream",
     "text": [
      "DC|EC|EQ|NTPP|NTPPI|PO|TPP|TPPI\n"
     ]
    }
   ],
   "source": [
    "print(alg.elements)"
   ]
  },
  {
   "cell_type": "code",
   "execution_count": 38,
   "metadata": {},
   "outputs": [
    {
     "name": "stdout",
     "output_type": "stream",
     "text": [
      "\n",
      "All Elements:\n",
      "        DC|EC|EQ|NTPP|NTPPI|PO|TPP|TPPI\n",
      "   R  = DC|EC|EQ|NTPP\n",
      "  ~R  =               NTPPI|PO|TPP|TPPI\n",
      "~(~R) = DC|EC|EQ|NTPP\n"
     ]
    }
   ],
   "source": [
    "R = alg.relset('DC|EC|EQ|NTPP')\n",
    "compR = R.complement()\n",
    "\n",
    "print(f\"\\nAll Elements:\\n        {alg.elements}\")\n",
    "print(f\"   R  = {R}\")\n",
    "print(f\"  ~R  =               {compR}\")\n",
    "print(f\"~(~R) = {compR.complement()}\")"
   ]
  },
  {
   "cell_type": "markdown",
   "metadata": {},
   "source": [
    "## Global Properties of an Algebra of Relations"
   ]
  },
  {
   "cell_type": "markdown",
   "metadata": {},
   "source": [
    "There are two properties of an Algebra that are true for all \"applicable\" elements in the algebra:\n",
    "* The Composition Identity\n",
    "* Associativity, when domains & ranges permit"
   ]
  },
  {
   "cell_type": "markdown",
   "metadata": {},
   "source": [
    "### Composition Identity"
   ]
  },
  {
   "cell_type": "markdown",
   "metadata": {},
   "source": [
    "If $r$ and $s$ are two relations, then $(r;s)^{-1} = s^{-1};r^{-1}$"
   ]
  },
  {
   "cell_type": "markdown",
   "metadata": {},
   "source": [
    "If $r$ and $s$ are two relations, then $!(r;s) = (!s);(!r)$"
   ]
  },
  {
   "cell_type": "markdown",
   "metadata": {},
   "source": [
    "Here's an example:"
   ]
  },
  {
   "cell_type": "code",
   "execution_count": 39,
   "metadata": {},
   "outputs": [
    {
     "name": "stdout",
     "output_type": "stream",
     "text": [
      "!(DC;EC) = DC|EC|NTPPI|PO|TPPI\n",
      "!EC;!DC = DC|EC|NTPPI|PO|TPPI\n",
      "Same? True\n"
     ]
    }
   ],
   "source": [
    "r = alg.relset(\"DC\")\n",
    "s = alg.relset(\"EC\")\n",
    "\n",
    "conv_comp_r_s = alg.converse(alg.compose(r, s))\n",
    "print(f\"!({r};{s}) = {conv_comp_r_s}\")\n",
    "\n",
    "comp_conv_s_conv_r = alg.compose(alg.converse(s), alg.converse(r))\n",
    "print(f\"!{s};!{r} = {comp_conv_s_conv_r}\")\n",
    "\n",
    "print(f\"Same? {conv_comp_r_s == comp_conv_s_conv_r}\")"
   ]
  },
  {
   "cell_type": "markdown",
   "metadata": {},
   "source": [
    "The <i><b>check_composition_identity</b></i> Algebra method checks every possible pairing of individual algebra relations wrt the composition identity, and returns True if all pairs check out."
   ]
  },
  {
   "cell_type": "code",
   "execution_count": 40,
   "metadata": {},
   "outputs": [
    {
     "data": {
      "text/plain": [
       "True"
      ]
     },
     "execution_count": 40,
     "metadata": {},
     "output_type": "execute_result"
    }
   ],
   "source": [
    "alg.check_composition_identity()"
   ]
  },
  {
   "cell_type": "markdown",
   "metadata": {},
   "source": [
    "### Associativity"
   ]
  },
  {
   "cell_type": "markdown",
   "metadata": {},
   "source": [
    "The <i><b>is_associative</b></i> Algebra method checks all possible triples of individual algebra relations and, if the domains and ranges are \"compatible\", checks to see if the triple is associative.  Incompatible triples are skipped.  It returns True if all compatible triples are associative."
   ]
  },
  {
   "cell_type": "code",
   "execution_count": 41,
   "metadata": {},
   "outputs": [
    {
     "name": "stdout",
     "output_type": "stream",
     "text": [
      "There are 8^3 = 512 ways we can combine the algebra's elements to test associativity.\n"
     ]
    }
   ],
   "source": [
    "num_elements = len(alg.elements)\n",
    "print(f\"There are {num_elements}^3 = {num_elements**3} ways we can combine the algebra's elements to test associativity.\")"
   ]
  },
  {
   "cell_type": "markdown",
   "metadata": {},
   "source": [
    "The following method tests all of those ways, skipping the ones that don't make sense due to range-domain mismatches."
   ]
  },
  {
   "cell_type": "code",
   "execution_count": 42,
   "metadata": {},
   "outputs": [
    {
     "name": "stdout",
     "output_type": "stream",
     "text": [
      "TEST SUMMARY: 512 OK, 0 Skipped, 0 Failed (512 Total)\n"
     ]
    },
    {
     "data": {
      "text/plain": [
       "True"
      ]
     },
     "execution_count": 42,
     "metadata": {},
     "output_type": "execute_result"
    }
   ],
   "source": [
    "alg.is_associative()"
   ]
  }
 ],
 "metadata": {
  "kernelspec": {
   "display_name": "Python 3",
   "language": "python",
   "name": "python3"
  },
  "language_info": {
   "codemirror_mode": {
    "name": "ipython",
    "version": 3
   },
   "file_extension": ".py",
   "mimetype": "text/x-python",
   "name": "python",
   "nbconvert_exporter": "python",
   "pygments_lexer": "ipython3",
   "version": "3.7.3"
  }
 },
 "nbformat": 4,
 "nbformat_minor": 2
}
