{
 "cells": [
  {
   "cell_type": "markdown",
   "metadata": {},
   "source": [
    "# Branching Time"
   ]
  },
  {
   "cell_type": "markdown",
   "metadata": {},
   "source": [
    "<i>Version 0</i>"
   ]
  },
  {
   "cell_type": "code",
   "execution_count": 1,
   "metadata": {},
   "outputs": [],
   "source": [
    "import qualreas as qr"
   ]
  },
  {
   "cell_type": "markdown",
   "metadata": {},
   "source": [
    "## Reich's Right-Branching Interval & Point Algebra"
   ]
  },
  {
   "cell_type": "code",
   "execution_count": 2,
   "metadata": {},
   "outputs": [
    {
     "name": "stdout",
     "output_type": "stream",
     "text": [
      "B|BI|D|DI|E|F|FI|M|MI|O|OI|PE|PF|PFI|PS|PSI|RB|RBI|RO|ROI|RS|R~|S|SI\n"
     ]
    }
   ],
   "source": [
    "import os\n",
    "path = os.path.join(os.getenv('PYPROJ'), 'qualreas/Algebras')\n",
    "ralg = qr.Algebra(os.path.join(path, 'Right_Branching_Interval_Algebra.json'))\n",
    "print(ralg.elements)"
   ]
  },
  {
   "cell_type": "code",
   "execution_count": 3,
   "metadata": {},
   "outputs": [
    {
     "name": "stdout",
     "output_type": "stream",
     "text": [
      "  Algebra Name: Right_Branching_Interval_Algebra\n",
      "   Description: Reich's right-branching extension to Allen's time interval algebra (see TIME-94 paper)\n",
      " Equality Rels: E|PE\n",
      "     Relations:\n",
      "            NAME (SYMBOL)         CONVERSE (ABBREV)  REFLEXIVE  SYMMETRIC TRANSITIVE   DOMAIN        RANGE\n",
      "             Before (  B)               After ( BI)    False      False       True    Pt|PInt       Pt|PInt\n",
      "              After ( BI)              Before (  B)    False      False       True    Pt|PInt       Pt|PInt\n",
      "             During (  D)            Contains ( DI)    False      False       True    Pt|PInt          PInt\n",
      "           Contains ( DI)              During (  D)    False      False       True       PInt       Pt|PInt\n",
      "             Equals (  E)              Equals (  E)     True       True       True       PInt          PInt\n",
      "           Finishes (  F)         Finished-by ( FI)    False      False       True       PInt          PInt\n",
      "        Finished-by ( FI)            Finishes (  F)    False      False       True       PInt          PInt\n",
      "              Meets (  M)              Met-By ( MI)    False      False      False       PInt          PInt\n",
      "             Met-By ( MI)               Meets (  M)    False      False      False       PInt          PInt\n",
      "           Overlaps (  O)       Overlapped-By ( OI)    False      False      False       PInt          PInt\n",
      "      Overlapped-By ( OI)            Overlaps (  O)    False      False      False       PInt          PInt\n",
      "       Point-Equals ( PE)        Point-Equals ( PE)     True       True       True         Pt            Pt\n",
      "     Point-Finishes ( PF)   Point-Finished-By (PFI)    False      False      False         Pt          PInt\n",
      "  Point-Finished-By (PFI)      Point-Finishes ( PF)    False      False      False       PInt            Pt\n",
      "       Point-Starts ( PS)    Point-Started-By (PSI)    False      False      False         Pt          PInt\n",
      "   Point-Started-By (PSI)        Point-Starts ( PS)    False      False      False       PInt            Pt\n",
      "       Right-Before ( RB)         Right-After (RBI)    False      False       True       PInt       Pt|PInt\n",
      "        Right-After (RBI)        Right-Before ( RB)    False      False       True    Pt|PInt          PInt\n",
      "     Right-Overlaps ( RO) Right-Overlapped-By (ROI)    False      False      False       PInt          PInt\n",
      "Right-Overlapped-By (ROI)      Right-Overlaps ( RO)    False      False      False       PInt          PInt\n",
      "       Right-Starts ( RS)        Right-Starts ( RS)    False       True      False       PInt          PInt\n",
      " Right-Incomparable ( R~)  Right-Incomparable ( R~)    False       True      False    Pt|PInt       Pt|PInt\n",
      "             Starts (  S)          Started-By ( SI)    False      False       True       PInt          PInt\n",
      "         Started-By ( SI)              Starts (  S)    False      False       True       PInt          PInt\n",
      "\n",
      "Domain & Range Abbreviations:\n",
      "   Pt = Point\n",
      " PInt = Proper Interval\n"
     ]
    }
   ],
   "source": [
    "ralg.summary()"
   ]
  },
  {
   "cell_type": "markdown",
   "metadata": {},
   "source": [
    "## Reich's Left-Branching Interval & Point Algebra"
   ]
  },
  {
   "cell_type": "code",
   "execution_count": 4,
   "metadata": {},
   "outputs": [
    {
     "name": "stdout",
     "output_type": "stream",
     "text": [
      "B|BI|D|DI|E|F|FI|LB|LBI|LF|LO|LOI|L~|M|MI|O|OI|PE|PF|PFI|PS|PSI|S|SI\n"
     ]
    }
   ],
   "source": [
    "lalg = qr.Algebra(os.path.join(path, 'Left_Branching_Interval_Algebra.json'))\n",
    "print(lalg.elements)"
   ]
  },
  {
   "cell_type": "code",
   "execution_count": 5,
   "metadata": {},
   "outputs": [
    {
     "name": "stdout",
     "output_type": "stream",
     "text": [
      "  Algebra Name: Left_Branching_Interval_Algebra\n",
      "   Description: Reich's left-branching extension to Allen's time interval algebra (see TIME-94 paper)\n",
      " Equality Rels: E|PE\n",
      "     Relations:\n",
      "            NAME (SYMBOL)         CONVERSE (ABBREV)  REFLEXIVE  SYMMETRIC TRANSITIVE   DOMAIN        RANGE\n",
      "             Before (  B)               After ( BI)    False      False       True    Pt|PInt       Pt|PInt\n",
      "              After ( BI)              Before (  B)    False      False       True    Pt|PInt       Pt|PInt\n",
      "             During (  D)            Contains ( DI)    False      False       True    Pt|PInt          PInt\n",
      "           Contains ( DI)              During (  D)    False      False       True       PInt       Pt|PInt\n",
      "             Equals (  E)              Equals (  E)     True       True       True       PInt          PInt\n",
      "           Finishes (  F)         Finished-by ( FI)    False      False       True       PInt          PInt\n",
      "        Finished-by ( FI)            Finishes (  F)    False      False       True       PInt          PInt\n",
      "        Left-Before ( LB)          Left-After (LBI)    False      False       True    Pt|PInt          PInt\n",
      "         Left-After (LBI)         Left-Before ( LB)    False      False       True       PInt       Pt|PInt\n",
      "      Left-Finishes ( LF)       Left-Finishes ( LF)    False       True      False       PInt          PInt\n",
      "      Left-Overlaps ( LO)  Left-Overlapped-By (LOI)    False      False      False       PInt          PInt\n",
      " Left-Overlapped-By (LOI)       Left-Overlaps ( LO)    False      False      False       PInt          PInt\n",
      "  Left-Incomparable ( L~)   Left-Incomparable ( L~)    False       True      False    Pt|PInt       Pt|PInt\n",
      "              Meets (  M)              Met-By ( MI)    False      False      False       PInt          PInt\n",
      "             Met-By ( MI)               Meets (  M)    False      False      False       PInt          PInt\n",
      "           Overlaps (  O)       Overlapped-By ( OI)    False      False      False       PInt          PInt\n",
      "      Overlapped-By ( OI)            Overlaps (  O)    False      False      False       PInt          PInt\n",
      "       Point-Equals ( PE)        Point-Equals ( PE)     True       True       True         Pt            Pt\n",
      "     Point-Finishes ( PF)   Point-Finished-By (PFI)    False      False      False         Pt          PInt\n",
      "  Point-Finished-By (PFI)      Point-Finishes ( PF)    False      False      False       PInt            Pt\n",
      "       Point-Starts ( PS)    Point-Started-By (PSI)    False      False      False         Pt          PInt\n",
      "   Point-Started-By (PSI)        Point-Starts ( PS)    False      False      False       PInt            Pt\n",
      "             Starts (  S)          Started-By ( SI)    False      False       True       PInt          PInt\n",
      "         Started-By ( SI)              Starts (  S)    False      False       True       PInt          PInt\n",
      "\n",
      "Domain & Range Abbreviations:\n",
      "   Pt = Point\n",
      " PInt = Proper Interval\n"
     ]
    }
   ],
   "source": [
    "lalg.summary()"
   ]
  },
  {
   "cell_type": "code",
   "execution_count": null,
   "metadata": {},
   "outputs": [],
   "source": []
  }
 ],
 "metadata": {
  "kernelspec": {
   "display_name": "Python 3",
   "language": "python",
   "name": "python3"
  },
  "language_info": {
   "codemirror_mode": {
    "name": "ipython",
    "version": 3
   },
   "file_extension": ".py",
   "mimetype": "text/x-python",
   "name": "python",
   "nbconvert_exporter": "python",
   "pygments_lexer": "ipython3",
   "version": "3.7.7"
  }
 },
 "nbformat": 4,
 "nbformat_minor": 1
}
