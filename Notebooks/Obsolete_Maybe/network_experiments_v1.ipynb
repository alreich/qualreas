{
 "cells": [
  {
   "cell_type": "markdown",
   "metadata": {},
   "source": [
    "# Network Experiments"
   ]
  },
  {
   "cell_type": "markdown",
   "metadata": {},
   "source": [
    "<i>Version 1</i>"
   ]
  },
  {
   "cell_type": "code",
   "execution_count": 1,
   "metadata": {},
   "outputs": [],
   "source": [
    "#import networkx as nx\n",
    "import qualreas as qr\n",
    "import os"
   ]
  },
  {
   "cell_type": "code",
   "execution_count": 2,
   "metadata": {},
   "outputs": [],
   "source": [
    "path = os.path.join(os.getenv('PYPROJ'), 'qualreas')"
   ]
  },
  {
   "cell_type": "code",
   "execution_count": 3,
   "metadata": {},
   "outputs": [],
   "source": [
    "pt_alg = qr.Algebra(os.path.join(path, \"Algebras/LinearPointAlgebra.json\"))\n",
    "#pt_alg = qr.Algebra(os.path.join(path, \"Algebras/RightBranchingPointAlgebra.json\"))\n",
    "#pt_alg = qr.Algebra(os.path.join(path, \"Algebras/LeftBranchingPointAlgebra.json\"))\n",
    "\n",
    "#alg = qr.Algebra(os.path.join(path, \"Algebras/LinearIntervalAlgebra.json\"))  # Allen's algebra of proper time intervals\n",
    "# The following 3 algebras are from [Reich, 1994]\n",
    "#alg = qr.Algebra(os.path.join(path, \"Algebras/ExtendedLinearIntervalAlgebra.json\"))\n",
    "#alg = qr.Algebra(os.path.join(path, \"Algebras/LeftBranchingIntervalAlgebra.json\"))\n",
    "#alg = qr.Algebra(os.path.join(path, \"Algebras/RightBranchingIntervalAlgebra.json\"))"
   ]
  },
  {
   "cell_type": "code",
   "execution_count": 4,
   "metadata": {},
   "outputs": [],
   "source": [
    "class IntervalPointNet(qr.Network):\n",
    "    \n",
    "    def __init__(self, algebra, name, lessthanstr, startname=\"StartPt\", endname=\"EndPt\"):\n",
    "        self.algebra = algebra\n",
    "        self.lessthan = algebra.relset(lessthanstr)\n",
    "        # Start & End Points of the interval\n",
    "        self.start = qr.TemporalEntity([\"Point\"], name=startname + \"1\")\n",
    "        self.end = qr.TemporalEntity([\"Point\"], name=endname + \"1\")\n",
    "        super().__init__(algebra, name)\n",
    "        self.add_constraint(self.start, self.end, self.lessthan, verbose=False)"
   ]
  },
  {
   "cell_type": "code",
   "execution_count": 5,
   "metadata": {},
   "outputs": [],
   "source": [
    "ipn1 = IntervalPointNet(pt_alg, \"IPN1\", \"<\", startname=\"I1Start\", endname=\"I1End\")"
   ]
  },
  {
   "cell_type": "code",
   "execution_count": 6,
   "metadata": {},
   "outputs": [
    {
     "name": "stdout",
     "output_type": "stream",
     "text": [
      "\n",
      "IPN1: 2 nodes, 4 edges\n",
      "  Algebra: LinearPointAlgebra\n",
      "  I1Start1:\n",
      "    => I1Start1: =\n",
      "    => I1End1: <\n",
      "  I1End1:\n",
      "    => I1End1: =\n",
      "    => I1Start1: >\n"
     ]
    }
   ],
   "source": [
    "ipn1.summary()"
   ]
  },
  {
   "cell_type": "code",
   "execution_count": 7,
   "metadata": {},
   "outputs": [],
   "source": [
    "ipn2 = IntervalPointNet(pt_alg, \"IPN2\", \"<\", startname=\"I2Start\", endname=\"I2End\")"
   ]
  },
  {
   "cell_type": "code",
   "execution_count": 8,
   "metadata": {},
   "outputs": [
    {
     "name": "stdout",
     "output_type": "stream",
     "text": [
      "\n",
      "IPN2: 2 nodes, 4 edges\n",
      "  Algebra: LinearPointAlgebra\n",
      "  I2Start1:\n",
      "    => I2Start1: =\n",
      "    => I2End1: <\n",
      "  I2End1:\n",
      "    => I2End1: =\n",
      "    => I2Start1: >\n"
     ]
    }
   ],
   "source": [
    "ipn2.summary()"
   ]
  },
  {
   "cell_type": "code",
   "execution_count": 9,
   "metadata": {},
   "outputs": [],
   "source": [
    "ipn3 = ipn1 + ipn2"
   ]
  },
  {
   "cell_type": "code",
   "execution_count": 10,
   "metadata": {},
   "outputs": [
    {
     "name": "stdout",
     "output_type": "stream",
     "text": [
      "\n",
      "IPN1+IPN2: 4 nodes, 8 edges\n",
      "  Algebra: LinearPointAlgebra\n",
      "  I2Start1:\n",
      "    => I2Start1: =\n",
      "    => I2End1: <\n",
      "  I2End1:\n",
      "    => I2End1: =\n",
      "    => I2Start1: >\n",
      "  I1Start1:\n",
      "    => I1Start1: =\n",
      "    => I1End1: <\n",
      "  I1End1:\n",
      "    => I1End1: =\n",
      "    => I1Start1: >\n"
     ]
    }
   ],
   "source": [
    "ipn3.summary()"
   ]
  },
  {
   "cell_type": "code",
   "execution_count": null,
   "metadata": {},
   "outputs": [],
   "source": []
  }
 ],
 "metadata": {
  "kernelspec": {
   "display_name": "Python 3",
   "language": "python",
   "name": "python3"
  },
  "language_info": {
   "codemirror_mode": {
    "name": "ipython",
    "version": 3
   },
   "file_extension": ".py",
   "mimetype": "text/x-python",
   "name": "python",
   "nbconvert_exporter": "python",
   "pygments_lexer": "ipython3",
   "version": "3.7.3"
  }
 },
 "nbformat": 4,
 "nbformat_minor": 4
}
