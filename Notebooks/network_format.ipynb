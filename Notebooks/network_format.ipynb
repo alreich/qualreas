{
 "cells": [
  {
   "cell_type": "code",
   "execution_count": 1,
   "metadata": {},
   "outputs": [],
   "source": [
    "import qualreas as qr\n",
    "import os\n",
    "import json"
   ]
  },
  {
   "cell_type": "code",
   "execution_count": 2,
   "metadata": {},
   "outputs": [
    {
     "name": "stdout",
     "output_type": "stream",
     "text": [
      "/Users/alfredreich/Documents/Programming/Python/Repos/qualreas\n"
     ]
    }
   ],
   "source": [
    "path = os.path.join(os.getenv('PYPROJ'), 'qualreas')\n",
    "print(path)"
   ]
  },
  {
   "cell_type": "code",
   "execution_count": 3,
   "metadata": {},
   "outputs": [],
   "source": [
    "apath = path + \"/Algebras/\"\n",
    "\n",
    "rcc8 = path + \"/Networks/rcc8_example.json\"\n",
    "rcc8_noname = path + \"/Networks/rcc8_example_NONAME.json\"\n",
    "#rcc8_newfmt = path + \"/Networks/rcc8_example_NEW_FORMAT.json\"\n",
    "\n",
    "book = path + \"/Networks/BookExample.json\"\n",
    "bookx = path + \"/Networks/BookExampleExtended.json\""
   ]
  },
  {
   "cell_type": "markdown",
   "metadata": {},
   "source": [
    "## Interval Algebra"
   ]
  },
  {
   "cell_type": "code",
   "execution_count": null,
   "metadata": {},
   "outputs": [],
   "source": [
    "!cat {book}"
   ]
  },
  {
   "cell_type": "code",
   "execution_count": null,
   "metadata": {},
   "outputs": [],
   "source": [
    "book_net = qr.Network(algebra_path=apath, json_file_name=book)"
   ]
  },
  {
   "cell_type": "code",
   "execution_count": null,
   "metadata": {},
   "outputs": [],
   "source": [
    "book_net.summary()"
   ]
  },
  {
   "cell_type": "code",
   "execution_count": null,
   "metadata": {},
   "outputs": [],
   "source": [
    "book_net.propagate()\n",
    "book_net.summary()"
   ]
  },
  {
   "cell_type": "markdown",
   "metadata": {},
   "source": [
    "## Extended Interval Algebra"
   ]
  },
  {
   "cell_type": "code",
   "execution_count": null,
   "metadata": {},
   "outputs": [],
   "source": [
    "!cat {bookx}"
   ]
  },
  {
   "cell_type": "code",
   "execution_count": null,
   "metadata": {},
   "outputs": [],
   "source": [
    "bookx_net = qr.Network(algebra_path=apath, json_file_name=bookx)"
   ]
  },
  {
   "cell_type": "code",
   "execution_count": null,
   "metadata": {},
   "outputs": [],
   "source": [
    "bookx_net.summary()"
   ]
  },
  {
   "cell_type": "code",
   "execution_count": null,
   "metadata": {},
   "outputs": [],
   "source": [
    "bookx_net.propagate()\n",
    "bookx_net.summary()"
   ]
  },
  {
   "cell_type": "markdown",
   "metadata": {},
   "source": [
    "## Region Connection Calculus 8"
   ]
  },
  {
   "cell_type": "code",
   "execution_count": 4,
   "metadata": {},
   "outputs": [
    {
     "name": "stdout",
     "output_type": "stream",
     "text": [
      "{\r\n",
      "    \"name\": \"RCC8 Example 1\",\r\n",
      "    \"algebra\": \"RCC8Algebra\",\r\n",
      "    \"abbreviations\": {\"?\": \"DC|EC|TPP|TPPI|PO|EQ|NTPP|NTPPI\"},\r\n",
      "    \"description\": \"See https://en.wikipedia.org/wiki/Region_connection_calculus#Examples\",\r\n",
      "    \"nodes\": [\r\n",
      "        [\"House1\", [\"Region\"]],\r\n",
      "        [\"House2\", [\"Region\"]],\r\n",
      "        [\"Property1\", [\"Region\"]],\r\n",
      "        [\"Property2\", [\"Region\"]],\r\n",
      "        [\"Road\", [\"Region\"]]\r\n",
      "    ],\r\n",
      "    \"edges\": [\r\n",
      "        [\"House1\", \"House2\", \"DC\"],\r\n",
      "        [\"House1\", \"Property1\", \"TPP|NTPP\"],\r\n",
      "        [\"House1\", \"Property2\", \"DC|EC\"],\r\n",
      "        [\"House1\", \"Road\", \"EC\"],\r\n",
      "        [\"House2\", \"Property1\", \"DC|EC\"],\r\n",
      "        [\"House2\", \"Property2\", \"NTPP\"],\r\n",
      "        [\"House2\", \"Road\", \"EC\"],\r\n",
      "        [\"Property1\", \"Property2\", \"DC|EC\"],\r\n",
      "        [\"Road\", \"Property1\", \"?\"],\r\n",
      "        [\"Road\", \"Property2\", \"?\"]\r\n",
      "    ]\r\n",
      "}"
     ]
    }
   ],
   "source": [
    "!cat {rcc8_newfmt}"
   ]
  },
  {
   "cell_type": "code",
   "execution_count": 6,
   "metadata": {},
   "outputs": [
    {
     "ename": "NameError",
     "evalue": "name 'rcc8_example_NEW_FORMAT' is not defined",
     "output_type": "error",
     "traceback": [
      "\u001b[0;31m---------------------------------------------------------------------------\u001b[0m",
      "\u001b[0;31mNameError\u001b[0m                                 Traceback (most recent call last)",
      "\u001b[0;32m<ipython-input-6-d88ac8bee342>\u001b[0m in \u001b[0;36m<module>\u001b[0;34m\u001b[0m\n\u001b[0;32m----> 1\u001b[0;31m \u001b[0mrcc8_newfmt\u001b[0m \u001b[0;34m=\u001b[0m \u001b[0mqr\u001b[0m\u001b[0;34m.\u001b[0m\u001b[0mNetwork\u001b[0m\u001b[0;34m(\u001b[0m\u001b[0malgebra_path\u001b[0m\u001b[0;34m=\u001b[0m\u001b[0mapath\u001b[0m\u001b[0;34m,\u001b[0m \u001b[0mjson_file_name\u001b[0m\u001b[0;34m=\u001b[0m\u001b[0mrcc8_example_NEW_FORMAT\u001b[0m\u001b[0;34m)\u001b[0m\u001b[0;34m\u001b[0m\u001b[0;34m\u001b[0m\u001b[0m\n\u001b[0m",
      "\u001b[0;31mNameError\u001b[0m: name 'rcc8_example_NEW_FORMAT' is not defined"
     ]
    }
   ],
   "source": [
    "rcc8_newfmt = qr.Network(algebra_path=apath, json_file_name=rcc8_example_NEW_FORMAT)"
   ]
  },
  {
   "cell_type": "code",
   "execution_count": null,
   "metadata": {},
   "outputs": [],
   "source": [
    "rcc8_net.summary()"
   ]
  },
  {
   "cell_type": "code",
   "execution_count": null,
   "metadata": {},
   "outputs": [],
   "source": [
    "rcc8_net.propagate()\n",
    "rcc8_net.summary()"
   ]
  },
  {
   "cell_type": "markdown",
   "metadata": {},
   "source": [
    "## RCC8 no name & no constraint"
   ]
  },
  {
   "cell_type": "code",
   "execution_count": null,
   "metadata": {},
   "outputs": [],
   "source": [
    "!cat {rcc8_noname}"
   ]
  },
  {
   "cell_type": "code",
   "execution_count": null,
   "metadata": {},
   "outputs": [],
   "source": [
    "rcc8_net_noname = qr.Network(algebra_path=apath, json_file_name=rcc8_noname)"
   ]
  },
  {
   "cell_type": "code",
   "execution_count": null,
   "metadata": {},
   "outputs": [],
   "source": [
    "rcc8_net_noname.summary()"
   ]
  },
  {
   "cell_type": "code",
   "execution_count": null,
   "metadata": {
    "scrolled": true
   },
   "outputs": [],
   "source": [
    "rcc8_net_noname.propagate()\n",
    "rcc8_net_noname.summary()"
   ]
  },
  {
   "cell_type": "code",
   "execution_count": null,
   "metadata": {},
   "outputs": [],
   "source": []
  },
  {
   "cell_type": "code",
   "execution_count": null,
   "metadata": {},
   "outputs": [],
   "source": []
  },
  {
   "cell_type": "code",
   "execution_count": null,
   "metadata": {},
   "outputs": [],
   "source": []
  },
  {
   "cell_type": "code",
   "execution_count": null,
   "metadata": {},
   "outputs": [],
   "source": []
  },
  {
   "cell_type": "code",
   "execution_count": null,
   "metadata": {},
   "outputs": [],
   "source": []
  },
  {
   "cell_type": "code",
   "execution_count": null,
   "metadata": {},
   "outputs": [],
   "source": [
    "json_string = \"\"\"{\n",
    "    \"name\": \"RCC8 Example 1\",\n",
    "    \"algebra\": \"RCC8Algebra\",\n",
    "    \"abbreviations\": {\"?\": \"DC|EC|TPP|TPPI|PO|EQ|NTPP|NTPPI\"},\n",
    "    \"nodes\": {\n",
    "        \"h1\": [\"House1\", \"Region\"],\n",
    "        \"h2\": [\"House2\", \"Region\"],\n",
    "        \"p1\": [\"Property1\", \"Region\"],\n",
    "        \"p2\": [\"Property2\", \"Region\"],\n",
    "        \"rd\": [\"Road\", \"Region\"]\n",
    "    },\n",
    "    \"edges\": [\n",
    "        [\"h1\", \"h2\", \"DC\"],\n",
    "        [\"h1\", \"p1\", \"TPP|NTPP\"],\n",
    "        [\"h1\", \"p2\", \"DC|EC\"],\n",
    "        [\"h1\", \"rd\", \"EC\"],\n",
    "        [\"h2\", \"p1\", \"DC|EC\"],\n",
    "        [\"h2\", \"p2\", \"NTPP\"],\n",
    "        [\"h2\", \"rd\", \"EC\"],\n",
    "        [\"p1\", \"p2\", \"DC|EC\"],\n",
    "        [\"rd\", \"p1\", \"?\"],\n",
    "        [\"rd\", \"p2\", \"?\"]\n",
    "    ]\n",
    "}\"\"\""
   ]
  },
  {
   "cell_type": "code",
   "execution_count": null,
   "metadata": {},
   "outputs": [],
   "source": [
    "!cat {json_file_noname}"
   ]
  },
  {
   "cell_type": "code",
   "execution_count": null,
   "metadata": {},
   "outputs": [],
   "source": [
    "net1 = qr.Network(algebra_path=alg_path, json_file_name=json_file_noname)\n",
    "net1.summary()"
   ]
  },
  {
   "cell_type": "code",
   "execution_count": null,
   "metadata": {},
   "outputs": [],
   "source": [
    "len([1, 2, 3])"
   ]
  },
  {
   "cell_type": "code",
   "execution_count": null,
   "metadata": {},
   "outputs": [],
   "source": [
    "print(net0.out_degree)"
   ]
  },
  {
   "cell_type": "code",
   "execution_count": null,
   "metadata": {},
   "outputs": [],
   "source": [
    "from networkx.readwrite import json_graph"
   ]
  },
  {
   "cell_type": "code",
   "execution_count": null,
   "metadata": {},
   "outputs": [],
   "source": [
    "data1 = json_graph.node_link_data(net1)"
   ]
  },
  {
   "cell_type": "code",
   "execution_count": null,
   "metadata": {},
   "outputs": [],
   "source": [
    "data1"
   ]
  },
  {
   "cell_type": "code",
   "execution_count": null,
   "metadata": {},
   "outputs": [],
   "source": [
    "import networkx as nx\n",
    "\n",
    "H = nx.gn_graph(2)\n",
    "\n",
    "H"
   ]
  },
  {
   "cell_type": "code",
   "execution_count": null,
   "metadata": {},
   "outputs": [],
   "source": [
    "H = json_graph.node_link_graph(data1)\n",
    "H"
   ]
  },
  {
   "cell_type": "code",
   "execution_count": null,
   "metadata": {},
   "outputs": [],
   "source": []
  }
 ],
 "metadata": {
  "kernelspec": {
   "display_name": "Python 3",
   "language": "python",
   "name": "python3"
  },
  "language_info": {
   "codemirror_mode": {
    "name": "ipython",
    "version": 3
   },
   "file_extension": ".py",
   "mimetype": "text/x-python",
   "name": "python",
   "nbconvert_exporter": "python",
   "pygments_lexer": "ipython3",
   "version": "3.7.7"
  }
 },
 "nbformat": 4,
 "nbformat_minor": 4
}
