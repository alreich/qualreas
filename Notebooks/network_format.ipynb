{
 "cells": [
  {
   "cell_type": "code",
   "execution_count": 1,
   "metadata": {},
   "outputs": [],
   "source": [
    "import qualreas as qr\n",
    "import os\n",
    "import json"
   ]
  },
  {
   "cell_type": "code",
   "execution_count": 2,
   "metadata": {},
   "outputs": [
    {
     "name": "stdout",
     "output_type": "stream",
     "text": [
      "/Users/alfredreich/Documents/Programming/Python/Repos/qualreas\n"
     ]
    }
   ],
   "source": [
    "path = os.path.join(os.getenv('PYPROJ'), 'qualreas')\n",
    "print(path)"
   ]
  },
  {
   "cell_type": "code",
   "execution_count": 3,
   "metadata": {},
   "outputs": [],
   "source": [
    "apath = path + \"/Algebras/\"\n",
    "rcc8 = path + \"/Networks/rcc8_example.json\"\n",
    "rcc8_noname = path + \"/Networks/rcc8_example_NONAME.json\"\n",
    "book = path + \"/Networks/BookExample.json\"\n",
    "bookx = path + \"/Networks/BookExampleExtended.json\""
   ]
  },
  {
   "cell_type": "code",
   "execution_count": 4,
   "metadata": {},
   "outputs": [
    {
     "name": "stdout",
     "output_type": "stream",
     "text": [
      "{\r\n",
      "    \"name\": \"Example from book\",\r\n",
      "    \"algebra\": \"LinearIntervalAlgebra\",\r\n",
      "    \"description\": \"Example in book on constraint processing for temporal reasoning\",\r\n",
      "    \"nodes\": {\r\n",
      "        \"pint_I\": [\"I\", [\"ProperInterval\"]],\r\n",
      "        \"pint_J\": [\"J\", [\"ProperInterval\"]],\r\n",
      "        \"pint_K\": [\"K\", [\"ProperInterval\"]],\r\n",
      "        \"pint_L\": [\"L\", [\"ProperInterval\"]]\r\n",
      "    },\r\n",
      "    \"edges\": [\r\n",
      "        [\"pint_I\", \"pint_J\", \"F|FI\"],\r\n",
      "        [\"pint_I\", \"pint_L\", \"S|M\"],\r\n",
      "        [\"pint_L\", \"pint_J\", \"S|M\"],\r\n",
      "        [\"pint_K\", \"pint_I\", \"D|DI\"],\r\n",
      "        [\"pint_K\", \"pint_J\", \"D|DI\"],\r\n",
      "        [\"pint_L\", \"pint_K\", \"O\"]\r\n",
      "    ]\r\n",
      "}\r\n"
     ]
    }
   ],
   "source": [
    "!cat {book}"
   ]
  },
  {
   "cell_type": "code",
   "execution_count": 5,
   "metadata": {},
   "outputs": [],
   "source": [
    "book_net = qr.Network(algebra_path=apath, json_file_name=book)"
   ]
  },
  {
   "cell_type": "code",
   "execution_count": 6,
   "metadata": {},
   "outputs": [
    {
     "name": "stdout",
     "output_type": "stream",
     "text": [
      "\n",
      "Example from book: 4 nodes, 16 edges\n",
      "  Algebra: Linear_Interval_Algebra\n",
      "  I:\n",
      "    => I: E\n",
      "    => J: F|FI\n",
      "    => L: M|S\n",
      "    => K: D|DI\n",
      "  J:\n",
      "    => J: E\n",
      "    => I: F|FI\n",
      "    => L: MI|SI\n",
      "    => K: D|DI\n",
      "  L:\n",
      "    => L: E\n",
      "    => I: MI|SI\n",
      "    => J: M|S\n",
      "    => K: O\n",
      "  K:\n",
      "    => K: E\n",
      "    => I: D|DI\n",
      "    => J: D|DI\n",
      "    => L: OI\n"
     ]
    }
   ],
   "source": [
    "book_net.summary()"
   ]
  },
  {
   "cell_type": "code",
   "execution_count": 7,
   "metadata": {},
   "outputs": [
    {
     "name": "stdout",
     "output_type": "stream",
     "text": [
      "\n",
      "Example from book: 4 nodes, 16 edges\n",
      "  Algebra: Linear_Interval_Algebra\n",
      "  I:\n",
      "    => I: E\n",
      "    => J: \n",
      "    => L: M|S\n",
      "    => K: D|DI\n",
      "  J:\n",
      "    => J: E\n",
      "    => I: F|FI\n",
      "    => L: MI|SI\n",
      "    => K: D|DI\n",
      "  L:\n",
      "    => L: E\n",
      "    => I: MI|SI\n",
      "    => J: M|S\n",
      "    => K: O\n",
      "  K:\n",
      "    => K: E\n",
      "    => I: D|DI\n",
      "    => J: D|DI\n",
      "    => L: OI\n"
     ]
    }
   ],
   "source": [
    "book_net.propagate()\n",
    "book_net.summary()"
   ]
  },
  {
   "cell_type": "code",
   "execution_count": 9,
   "metadata": {},
   "outputs": [],
   "source": [
    "bookx_net = qr.Network(algebra_path=apath, json_file_name=bookx)"
   ]
  },
  {
   "cell_type": "code",
   "execution_count": 11,
   "metadata": {},
   "outputs": [
    {
     "name": "stdout",
     "output_type": "stream",
     "text": [
      "\n",
      "Extended example from book: 4 nodes, 16 edges\n",
      "  Algebra: Extended_Linear_Interval_Algebra\n",
      "  I:\n",
      "    => I: E|PE\n",
      "    => J: F|FI\n",
      "    => L: M|S\n",
      "    => K: D|DI\n",
      "  J:\n",
      "    => J: E|PE\n",
      "    => I: F|FI\n",
      "    => L: MI|SI\n",
      "    => K: D|DI\n",
      "  L:\n",
      "    => L: E|PE\n",
      "    => I: MI|SI\n",
      "    => J: M|S\n",
      "    => K: O\n",
      "  K:\n",
      "    => K: E|PE\n",
      "    => I: D|DI\n",
      "    => J: D|DI\n",
      "    => L: OI\n"
     ]
    }
   ],
   "source": [
    "bookx_net.summary()"
   ]
  },
  {
   "cell_type": "code",
   "execution_count": 12,
   "metadata": {},
   "outputs": [
    {
     "name": "stdout",
     "output_type": "stream",
     "text": [
      "\n",
      "Extended example from book: 4 nodes, 16 edges\n",
      "  Algebra: Extended_Linear_Interval_Algebra\n",
      "  I:\n",
      "    => I: E\n",
      "    => J: \n",
      "    => L: M|S\n",
      "    => K: D|DI\n",
      "  J:\n",
      "    => J: E|PE\n",
      "    => I: F|FI\n",
      "    => L: MI|SI\n",
      "    => K: D|DI\n",
      "  L:\n",
      "    => L: E|PE\n",
      "    => I: MI|SI\n",
      "    => J: M|S\n",
      "    => K: O\n",
      "  K:\n",
      "    => K: E|PE\n",
      "    => I: D|DI\n",
      "    => J: D|DI\n",
      "    => L: OI\n"
     ]
    }
   ],
   "source": [
    "bookx_net.propagate()\n",
    "bookx_net.summary()"
   ]
  },
  {
   "cell_type": "code",
   "execution_count": null,
   "metadata": {},
   "outputs": [],
   "source": []
  },
  {
   "cell_type": "code",
   "execution_count": null,
   "metadata": {},
   "outputs": [],
   "source": [
    "json_string = \"\"\"{\n",
    "    \"name\": \"RCC8 Example 1\",\n",
    "    \"algebra\": \"RCC8Algebra\",\n",
    "    \"abbreviations\": {\"?\": \"DC|EC|TPP|TPPI|PO|EQ|NTPP|NTPPI\"},\n",
    "    \"nodes\": {\n",
    "        \"h1\": [\"House1\", \"Region\"],\n",
    "        \"h2\": [\"House2\", \"Region\"],\n",
    "        \"p1\": [\"Property1\", \"Region\"],\n",
    "        \"p2\": [\"Property2\", \"Region\"],\n",
    "        \"rd\": [\"Road\", \"Region\"]\n",
    "    },\n",
    "    \"edges\": [\n",
    "        [\"h1\", \"h2\", \"DC\"],\n",
    "        [\"h1\", \"p1\", \"TPP|NTPP\"],\n",
    "        [\"h1\", \"p2\", \"DC|EC\"],\n",
    "        [\"h1\", \"rd\", \"EC\"],\n",
    "        [\"h2\", \"p1\", \"DC|EC\"],\n",
    "        [\"h2\", \"p2\", \"NTPP\"],\n",
    "        [\"h2\", \"rd\", \"EC\"],\n",
    "        [\"p1\", \"p2\", \"DC|EC\"],\n",
    "        [\"rd\", \"p1\", \"?\"],\n",
    "        [\"rd\", \"p2\", \"?\"]\n",
    "    ]\n",
    "}\"\"\""
   ]
  },
  {
   "cell_type": "code",
   "execution_count": null,
   "metadata": {},
   "outputs": [],
   "source": [
    "!cat {json_file_noname}"
   ]
  },
  {
   "cell_type": "code",
   "execution_count": null,
   "metadata": {},
   "outputs": [],
   "source": [
    "net1 = qr.Network(algebra_path=alg_path, json_file_name=json_file_noname)\n",
    "net1.summary()"
   ]
  },
  {
   "cell_type": "code",
   "execution_count": null,
   "metadata": {},
   "outputs": [],
   "source": [
    "len([1, 2, 3])"
   ]
  },
  {
   "cell_type": "code",
   "execution_count": null,
   "metadata": {},
   "outputs": [],
   "source": [
    "print(net0.out_degree)"
   ]
  },
  {
   "cell_type": "code",
   "execution_count": null,
   "metadata": {},
   "outputs": [],
   "source": [
    "from networkx.readwrite import json_graph"
   ]
  },
  {
   "cell_type": "code",
   "execution_count": null,
   "metadata": {},
   "outputs": [],
   "source": [
    "data1 = json_graph.node_link_data(net1)"
   ]
  },
  {
   "cell_type": "code",
   "execution_count": null,
   "metadata": {},
   "outputs": [],
   "source": [
    "data1"
   ]
  },
  {
   "cell_type": "code",
   "execution_count": null,
   "metadata": {},
   "outputs": [],
   "source": [
    "import networkx as nx\n",
    "\n",
    "H = nx.gn_graph(2)\n",
    "\n",
    "H"
   ]
  },
  {
   "cell_type": "code",
   "execution_count": null,
   "metadata": {},
   "outputs": [],
   "source": [
    "H = json_graph.node_link_graph(data1)\n",
    "H"
   ]
  },
  {
   "cell_type": "code",
   "execution_count": null,
   "metadata": {},
   "outputs": [],
   "source": []
  }
 ],
 "metadata": {
  "kernelspec": {
   "display_name": "Python 3",
   "language": "python",
   "name": "python3"
  },
  "language_info": {
   "codemirror_mode": {
    "name": "ipython",
    "version": 3
   },
   "file_extension": ".py",
   "mimetype": "text/x-python",
   "name": "python",
   "nbconvert_exporter": "python",
   "pygments_lexer": "ipython3",
   "version": "3.7.7"
  }
 },
 "nbformat": 4,
 "nbformat_minor": 4
}
