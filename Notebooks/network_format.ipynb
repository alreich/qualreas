{
 "cells": [
  {
   "cell_type": "code",
   "execution_count": 1,
   "metadata": {},
   "outputs": [],
   "source": [
    "import qualreas as qr\n",
    "import json"
   ]
  },
  {
   "cell_type": "code",
   "execution_count": 2,
   "metadata": {},
   "outputs": [],
   "source": [
    "alg_path = \"/Users/alfredreich/Documents/Github/repo/qualreas/Algebras/\"\n",
    "json_file = \"/Users/alfredreich/Documents/Github/repo/qualreas/Misc/rcc8_example.json\"\n",
    "json_file_noname = \"/Users/alfredreich/Documents/Github/repo/qualreas/Misc/rcc8_example_NONAME.json\""
   ]
  },
  {
   "cell_type": "code",
   "execution_count": 3,
   "metadata": {},
   "outputs": [
    {
     "name": "stdout",
     "output_type": "stream",
     "text": [
      "{\r\n",
      "    \"name\": \"RCC8 Example 1\",\r\n",
      "    \"algebra\": \"RCC8Algebra\",\r\n",
      "    \"abbreviations\": {\"?\": \"DC|EC|TPP|TPPI|PO|EQ|NTPP|NTPPI\"},\r\n",
      "    \"nodes\": {\r\n",
      "        \"h1\": [\"House1\", \"Region\"],\r\n",
      "        \"h2\": [\"House2\", \"Region\"],\r\n",
      "        \"p1\": [\"Property1\", \"Region\"],\r\n",
      "        \"p2\": [\"Property2\", \"Region\"],\r\n",
      "        \"rd\": [\"Road\", \"Region\"]\r\n",
      "    },\r\n",
      "    \"edges\": [\r\n",
      "        [\"h1\", \"h2\", \"DC\"],\r\n",
      "        [\"h1\", \"p1\", \"TPP|NTPP\"],\r\n",
      "        [\"h1\", \"p2\", \"DC|EC\"],\r\n",
      "        [\"h1\", \"rd\", \"EC\"],\r\n",
      "        [\"h2\", \"p1\", \"DC|EC\"],\r\n",
      "        [\"h2\", \"p2\", \"NTPP\"],\r\n",
      "        [\"h2\", \"rd\", \"EC\"],\r\n",
      "        [\"p1\", \"p2\", \"DC|EC\"],\r\n",
      "        [\"rd\", \"p1\", \"?\"],\r\n",
      "        [\"rd\", \"p2\", \"?\"]\r\n",
      "    ]\r\n",
      "}"
     ]
    }
   ],
   "source": [
    "!cat {json_file}"
   ]
  },
  {
   "cell_type": "code",
   "execution_count": 4,
   "metadata": {},
   "outputs": [],
   "source": [
    "net0 = qr.Network(algebra_path=alg_path, json_file_name=json_file)"
   ]
  },
  {
   "cell_type": "code",
   "execution_count": 5,
   "metadata": {},
   "outputs": [
    {
     "name": "stdout",
     "output_type": "stream",
     "text": [
      "\n",
      "RCC8 Example 1: 5 nodes, 25 edges\n",
      "  Algebra: RCC8Algebra\n",
      "  House1:\n",
      "    => House1: EQ\n",
      "    => House2: DC\n",
      "    => Property1: NTPP|TPP\n",
      "    => Property2: DC|EC\n",
      "    => Road: EC\n",
      "  House2:\n",
      "    => House2: EQ\n",
      "    => House1: DC\n",
      "    => Property1: DC|EC\n",
      "    => Property2: NTPP\n",
      "    => Road: EC\n",
      "  Property1:\n",
      "    => Property1: EQ\n",
      "    => House1: NTPPI|TPPI\n",
      "    => House2: DC|EC\n",
      "    => Property2: DC|EC\n",
      "    => Road: DC|EC|EQ|NTPP|NTPPI|PO|TPP|TPPI\n",
      "  Property2:\n",
      "    => Property2: EQ\n",
      "    => House1: DC|EC\n",
      "    => House2: NTPPI\n",
      "    => Property1: DC|EC\n",
      "    => Road: DC|EC|EQ|NTPP|NTPPI|PO|TPP|TPPI\n",
      "  Road:\n",
      "    => Road: EQ\n",
      "    => House1: EC\n",
      "    => House2: EC\n",
      "    => Property1: DC|EC|EQ|NTPP|NTPPI|PO|TPP|TPPI\n",
      "    => Property2: DC|EC|EQ|NTPP|NTPPI|PO|TPP|TPPI\n"
     ]
    }
   ],
   "source": [
    "net0.summary()"
   ]
  },
  {
   "cell_type": "code",
   "execution_count": 6,
   "metadata": {},
   "outputs": [
    {
     "name": "stdout",
     "output_type": "stream",
     "text": [
      "\n",
      "RCC8 Example 1: 5 nodes, 25 edges\n",
      "  Algebra: RCC8Algebra\n",
      "  House1:\n",
      "    => House1: EQ\n",
      "    => House2: DC\n",
      "    => Property1: NTPP|TPP\n",
      "    => Property2: DC|EC\n",
      "    => Road: EC\n",
      "  House2:\n",
      "    => House2: EQ\n",
      "    => House1: DC\n",
      "    => Property1: DC\n",
      "    => Property2: NTPP\n",
      "    => Road: EC\n",
      "  Property1:\n",
      "    => Property1: EQ\n",
      "    => House1: NTPPI|TPPI\n",
      "    => House2: DC\n",
      "    => Property2: DC|EC\n",
      "    => Road: EC|PO\n",
      "  Property2:\n",
      "    => Property2: EQ\n",
      "    => House1: DC|EC\n",
      "    => House2: NTPPI\n",
      "    => Property1: DC|EC\n",
      "    => Road: PO|TPPI\n",
      "  Road:\n",
      "    => Road: EQ\n",
      "    => House1: EC\n",
      "    => House2: EC\n",
      "    => Property1: EC|PO\n",
      "    => Property2: PO|TPP\n"
     ]
    }
   ],
   "source": [
    "net0.propagate()\n",
    "net0.summary()"
   ]
  },
  {
   "cell_type": "code",
   "execution_count": 7,
   "metadata": {},
   "outputs": [],
   "source": [
    "json_string = \"\"\"{\n",
    "    \"name\": \"RCC8 Example 1\",\n",
    "    \"algebra\": \"RCC8Algebra\",\n",
    "    \"abbreviations\": {\"?\": \"DC|EC|TPP|TPPI|PO|EQ|NTPP|NTPPI\"},\n",
    "    \"nodes\": {\n",
    "        \"h1\": [\"House1\", \"Region\"],\n",
    "        \"h2\": [\"House2\", \"Region\"],\n",
    "        \"p1\": [\"Property1\", \"Region\"],\n",
    "        \"p2\": [\"Property2\", \"Region\"],\n",
    "        \"rd\": [\"Road\", \"Region\"]\n",
    "    },\n",
    "    \"edges\": [\n",
    "        [\"h1\", \"h2\", \"DC\"],\n",
    "        [\"h1\", \"p1\", \"TPP|NTPP\"],\n",
    "        [\"h1\", \"p2\", \"DC|EC\"],\n",
    "        [\"h1\", \"rd\", \"EC\"],\n",
    "        [\"h2\", \"p1\", \"DC|EC\"],\n",
    "        [\"h2\", \"p2\", \"NTPP\"],\n",
    "        [\"h2\", \"rd\", \"EC\"],\n",
    "        [\"p1\", \"p2\", \"DC|EC\"],\n",
    "        [\"rd\", \"p1\", \"?\"],\n",
    "        [\"rd\", \"p2\", \"?\"]\n",
    "    ]\n",
    "}\"\"\""
   ]
  },
  {
   "cell_type": "code",
   "execution_count": 9,
   "metadata": {},
   "outputs": [
    {
     "name": "stdout",
     "output_type": "stream",
     "text": [
      "{\r\n",
      "    \"algebra\": \"RCC8Algebra\",\r\n",
      "    \"abbreviations\": {\"?\": \"DC|EC|TPP|TPPI|PO|EQ|NTPP|NTPPI\"},\r\n",
      "    \"nodes\": {\r\n",
      "        \"h1\": [\"House1\", \"Region\"],\r\n",
      "        \"h2\": [\"House2\", \"Region\"],\r\n",
      "        \"p1\": [\"Property1\", \"Region\"],\r\n",
      "        \"p2\": [\"Property2\", \"Region\"],\r\n",
      "        \"rd\": [\"Road\", \"Region\"]\r\n",
      "    },\r\n",
      "    \"edges\": [\r\n",
      "        [\"h1\", \"h2\", \"DC\"],\r\n",
      "        [\"h1\", \"p1\", \"TPP|NTPP\"],\r\n",
      "        [\"h1\", \"p2\", \"DC|EC\"],\r\n",
      "        [\"h1\", \"rd\", \"EC\"],\r\n",
      "        [\"h2\", \"p1\", \"DC|EC\"],\r\n",
      "        [\"h2\", \"p2\", \"NTPP\"],\r\n",
      "        [\"h2\", \"rd\", \"EC\"],\r\n",
      "        [\"p1\", \"p2\", \"DC|EC\"],\r\n",
      "        [\"rd\", \"p1\"],\r\n",
      "        [\"rd\", \"p2\", \"?\"]\r\n",
      "    ]\r\n",
      "}"
     ]
    }
   ],
   "source": [
    "!cat {json_file_noname}"
   ]
  },
  {
   "cell_type": "code",
   "execution_count": 8,
   "metadata": {},
   "outputs": [
    {
     "name": "stdout",
     "output_type": "stream",
     "text": [
      "\n",
      "Network:aMDSWBIA: 5 nodes, 25 edges\n",
      "  Algebra: RCC8Algebra\n",
      "  House1:\n",
      "    => House1: EQ\n",
      "    => House2: DC\n",
      "    => Property1: NTPP|TPP\n",
      "    => Property2: DC|EC\n",
      "    => Road: EC\n",
      "  House2:\n",
      "    => House2: EQ\n",
      "    => House1: DC\n",
      "    => Property1: DC|EC\n",
      "    => Property2: NTPP\n",
      "    => Road: EC\n",
      "  Property1:\n",
      "    => Property1: EQ\n",
      "    => House1: NTPPI|TPPI\n",
      "    => House2: DC|EC\n",
      "    => Property2: DC|EC\n",
      "    => Road: DC|EC|EQ|NTPP|NTPPI|PO|TPP|TPPI\n",
      "  Property2:\n",
      "    => Property2: EQ\n",
      "    => House1: DC|EC\n",
      "    => House2: NTPPI\n",
      "    => Property1: DC|EC\n",
      "    => Road: DC|EC|EQ|NTPP|NTPPI|PO|TPP|TPPI\n",
      "  Road:\n",
      "    => Road: EQ\n",
      "    => House1: EC\n",
      "    => House2: EC\n",
      "    => Property1: DC|EC|EQ|NTPP|NTPPI|PO|TPP|TPPI\n",
      "    => Property2: DC|EC|EQ|NTPP|NTPPI|PO|TPP|TPPI\n"
     ]
    }
   ],
   "source": [
    "net1 = qr.Network(algebra_path=alg_path, json_file_name=json_file_noname)\n",
    "net1.summary()"
   ]
  },
  {
   "cell_type": "code",
   "execution_count": null,
   "metadata": {},
   "outputs": [],
   "source": [
    "len([1, 2, 3])"
   ]
  },
  {
   "cell_type": "code",
   "execution_count": 10,
   "metadata": {},
   "outputs": [
    {
     "data": {
      "text/plain": [
       "OutDegreeView({<SpatialObject House1 ['Region']>: 5, <SpatialObject House2 ['Region']>: 5, <SpatialObject Property1 ['Region']>: 5, <SpatialObject Property2 ['Region']>: 5, <SpatialObject Road ['Region']>: 5})"
      ]
     },
     "execution_count": 10,
     "metadata": {},
     "output_type": "execute_result"
    }
   ],
   "source": [
    "print(net0.out_degree)"
   ]
  },
  {
   "cell_type": "code",
   "execution_count": 11,
   "metadata": {},
   "outputs": [],
   "source": [
    "from networkx.readwrite import json_graph"
   ]
  },
  {
   "cell_type": "code",
   "execution_count": 21,
   "metadata": {},
   "outputs": [],
   "source": [
    "data1 = json_graph.node_link_data(net1)"
   ]
  },
  {
   "cell_type": "code",
   "execution_count": 22,
   "metadata": {},
   "outputs": [
    {
     "data": {
      "text/plain": [
       "{'directed': True,\n",
       " 'multigraph': False,\n",
       " 'graph': {'name': 'Network:aMDSWBIA'},\n",
       " 'nodes': [{'id': <SpatialObject House1 ['Region']>},\n",
       "  {'id': <SpatialObject House2 ['Region']>},\n",
       "  {'id': <SpatialObject Property1 ['Region']>},\n",
       "  {'id': <SpatialObject Property2 ['Region']>},\n",
       "  {'id': <SpatialObject Road ['Region']>}],\n",
       " 'links': [{'constraint': relset(['EQ']),\n",
       "   'source': <SpatialObject House1 ['Region']>,\n",
       "   'target': <SpatialObject House1 ['Region']>},\n",
       "  {'constraint': relset(['DC']),\n",
       "   'source': <SpatialObject House1 ['Region']>,\n",
       "   'target': <SpatialObject House2 ['Region']>},\n",
       "  {'constraint': relset(['NTPP', 'TPP']),\n",
       "   'source': <SpatialObject House1 ['Region']>,\n",
       "   'target': <SpatialObject Property1 ['Region']>},\n",
       "  {'constraint': relset(['DC', 'EC']),\n",
       "   'source': <SpatialObject House1 ['Region']>,\n",
       "   'target': <SpatialObject Property2 ['Region']>},\n",
       "  {'constraint': relset(['EC']),\n",
       "   'source': <SpatialObject House1 ['Region']>,\n",
       "   'target': <SpatialObject Road ['Region']>},\n",
       "  {'constraint': relset(['EQ']),\n",
       "   'source': <SpatialObject House2 ['Region']>,\n",
       "   'target': <SpatialObject House2 ['Region']>},\n",
       "  {'constraint': relset(['DC']),\n",
       "   'source': <SpatialObject House2 ['Region']>,\n",
       "   'target': <SpatialObject House1 ['Region']>},\n",
       "  {'constraint': relset(['DC', 'EC']),\n",
       "   'source': <SpatialObject House2 ['Region']>,\n",
       "   'target': <SpatialObject Property1 ['Region']>},\n",
       "  {'constraint': relset(['NTPP']),\n",
       "   'source': <SpatialObject House2 ['Region']>,\n",
       "   'target': <SpatialObject Property2 ['Region']>},\n",
       "  {'constraint': relset(['EC']),\n",
       "   'source': <SpatialObject House2 ['Region']>,\n",
       "   'target': <SpatialObject Road ['Region']>},\n",
       "  {'constraint': relset(['EQ']),\n",
       "   'source': <SpatialObject Property1 ['Region']>,\n",
       "   'target': <SpatialObject Property1 ['Region']>},\n",
       "  {'constraint': relset(['NTPPI', 'TPPI']),\n",
       "   'source': <SpatialObject Property1 ['Region']>,\n",
       "   'target': <SpatialObject House1 ['Region']>},\n",
       "  {'constraint': relset(['DC', 'EC']),\n",
       "   'source': <SpatialObject Property1 ['Region']>,\n",
       "   'target': <SpatialObject House2 ['Region']>},\n",
       "  {'constraint': relset(['DC', 'EC']),\n",
       "   'source': <SpatialObject Property1 ['Region']>,\n",
       "   'target': <SpatialObject Property2 ['Region']>},\n",
       "  {'constraint': relset(['DC', 'EC', 'EQ', 'NTPP', 'NTPPI', 'PO', 'TPP', 'TPPI']),\n",
       "   'source': <SpatialObject Property1 ['Region']>,\n",
       "   'target': <SpatialObject Road ['Region']>},\n",
       "  {'constraint': relset(['EQ']),\n",
       "   'source': <SpatialObject Property2 ['Region']>,\n",
       "   'target': <SpatialObject Property2 ['Region']>},\n",
       "  {'constraint': relset(['DC', 'EC']),\n",
       "   'source': <SpatialObject Property2 ['Region']>,\n",
       "   'target': <SpatialObject House1 ['Region']>},\n",
       "  {'constraint': relset(['NTPPI']),\n",
       "   'source': <SpatialObject Property2 ['Region']>,\n",
       "   'target': <SpatialObject House2 ['Region']>},\n",
       "  {'constraint': relset(['DC', 'EC']),\n",
       "   'source': <SpatialObject Property2 ['Region']>,\n",
       "   'target': <SpatialObject Property1 ['Region']>},\n",
       "  {'constraint': relset(['DC', 'EC', 'EQ', 'NTPP', 'NTPPI', 'PO', 'TPP', 'TPPI']),\n",
       "   'source': <SpatialObject Property2 ['Region']>,\n",
       "   'target': <SpatialObject Road ['Region']>},\n",
       "  {'constraint': relset(['EQ']),\n",
       "   'source': <SpatialObject Road ['Region']>,\n",
       "   'target': <SpatialObject Road ['Region']>},\n",
       "  {'constraint': relset(['EC']),\n",
       "   'source': <SpatialObject Road ['Region']>,\n",
       "   'target': <SpatialObject House1 ['Region']>},\n",
       "  {'constraint': relset(['EC']),\n",
       "   'source': <SpatialObject Road ['Region']>,\n",
       "   'target': <SpatialObject House2 ['Region']>},\n",
       "  {'constraint': relset(['DC', 'EC', 'EQ', 'NTPP', 'NTPPI', 'PO', 'TPP', 'TPPI']),\n",
       "   'source': <SpatialObject Road ['Region']>,\n",
       "   'target': <SpatialObject Property1 ['Region']>},\n",
       "  {'constraint': relset(['DC', 'EC', 'EQ', 'NTPP', 'NTPPI', 'PO', 'TPP', 'TPPI']),\n",
       "   'source': <SpatialObject Road ['Region']>,\n",
       "   'target': <SpatialObject Property2 ['Region']>}]}"
      ]
     },
     "execution_count": 22,
     "metadata": {},
     "output_type": "execute_result"
    }
   ],
   "source": [
    "data1"
   ]
  },
  {
   "cell_type": "code",
   "execution_count": 19,
   "metadata": {},
   "outputs": [
    {
     "data": {
      "text/plain": [
       "<networkx.classes.digraph.DiGraph at 0x7ff4d0bd2950>"
      ]
     },
     "execution_count": 19,
     "metadata": {},
     "output_type": "execute_result"
    }
   ],
   "source": [
    "import networkx as nx\n",
    "\n",
    "H = nx.gn_graph(2)\n",
    "\n",
    "H"
   ]
  },
  {
   "cell_type": "code",
   "execution_count": 20,
   "metadata": {},
   "outputs": [
    {
     "data": {
      "text/plain": [
       "<networkx.classes.digraph.DiGraph at 0x7ff4d0bd2dd0>"
      ]
     },
     "execution_count": 20,
     "metadata": {},
     "output_type": "execute_result"
    }
   ],
   "source": [
    "H = json_graph.node_link_graph(data1)\n",
    "H"
   ]
  },
  {
   "cell_type": "code",
   "execution_count": null,
   "metadata": {},
   "outputs": [],
   "source": []
  }
 ],
 "metadata": {
  "kernelspec": {
   "display_name": "Python 3",
   "language": "python",
   "name": "python3"
  },
  "language_info": {
   "codemirror_mode": {
    "name": "ipython",
    "version": 3
   },
   "file_extension": ".py",
   "mimetype": "text/x-python",
   "name": "python",
   "nbconvert_exporter": "python",
   "pygments_lexer": "ipython3",
   "version": "3.7.7"
  }
 },
 "nbformat": 4,
 "nbformat_minor": 4
}
