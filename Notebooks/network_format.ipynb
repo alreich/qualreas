{
 "cells": [
  {
   "cell_type": "code",
   "execution_count": 1,
   "metadata": {},
   "outputs": [],
   "source": [
    "import qualreas as qr"
   ]
  },
  {
   "cell_type": "code",
   "execution_count": 2,
   "metadata": {},
   "outputs": [],
   "source": [
    "alg_path = \"/Users/alfredreich/Documents/Github/repo/qualreas/Algebras/\"\n",
    "json_file = \"/Users/alfredreich/Documents/Github/repo/qualreas/Misc/rcc8_example.json\""
   ]
  },
  {
   "cell_type": "code",
   "execution_count": 3,
   "metadata": {},
   "outputs": [
    {
     "name": "stdout",
     "output_type": "stream",
     "text": [
      "\n",
      "RCC8 Example 1: 5 nodes, 25 edges\n",
      "  Algebra: RCC8Algebra\n",
      "  House1:\n",
      "    => House1: EQ\n",
      "    => House2: DC\n",
      "    => Property1: NTPP|TPP\n",
      "    => Property2: DC|EC\n",
      "    => Road: EC\n",
      "  House2:\n",
      "    => House2: EQ\n",
      "    => House1: DC\n",
      "    => Property1: DC|EC\n",
      "    => Property2: NTPP\n",
      "    => Road: EC\n",
      "  Property1:\n",
      "    => Property1: EQ\n",
      "    => House1: NTPPI|TPPI\n",
      "    => House2: DC|EC\n",
      "    => Property2: DC|EC\n",
      "    => Road: DC|EC|EQ|NTPP|NTPPI|PO|TPP|TPPI\n",
      "  Property2:\n",
      "    => Property2: EQ\n",
      "    => House1: DC|EC\n",
      "    => House2: NTPPI\n",
      "    => Property1: DC|EC\n",
      "    => Road: DC|EC|EQ|NTPP|NTPPI|PO|TPP|TPPI\n",
      "  Road:\n",
      "    => Road: EQ\n",
      "    => House1: EC\n",
      "    => House2: EC\n",
      "    => Property1: DC|EC|EQ|NTPP|NTPPI|PO|TPP|TPPI\n",
      "    => Property2: DC|EC|EQ|NTPP|NTPPI|PO|TPP|TPPI\n"
     ]
    }
   ],
   "source": [
    "net = qr.load_network(alg_path, json_file)\n",
    "net.summary()"
   ]
  },
  {
   "cell_type": "code",
   "execution_count": 4,
   "metadata": {},
   "outputs": [
    {
     "name": "stdout",
     "output_type": "stream",
     "text": [
      "\n",
      "RCC8 Example 1: 5 nodes, 25 edges\n",
      "  Algebra: RCC8Algebra\n",
      "  House1:\n",
      "    => House1: EQ\n",
      "    => House2: DC\n",
      "    => Property1: NTPP|TPP\n",
      "    => Property2: DC|EC\n",
      "    => Road: EC\n",
      "  House2:\n",
      "    => House2: EQ\n",
      "    => House1: DC\n",
      "    => Property1: DC\n",
      "    => Property2: NTPP\n",
      "    => Road: EC\n",
      "  Property1:\n",
      "    => Property1: EQ\n",
      "    => House1: NTPPI|TPPI\n",
      "    => House2: DC\n",
      "    => Property2: DC|EC\n",
      "    => Road: EC|PO\n",
      "  Property2:\n",
      "    => Property2: EQ\n",
      "    => House1: DC|EC\n",
      "    => House2: NTPPI\n",
      "    => Property1: DC|EC\n",
      "    => Road: PO|TPPI\n",
      "  Road:\n",
      "    => Road: EQ\n",
      "    => House1: EC\n",
      "    => House2: EC\n",
      "    => Property1: EC|PO\n",
      "    => Property2: PO|TPP\n"
     ]
    }
   ],
   "source": [
    "net.propagate()\n",
    "net.summary()"
   ]
  },
  {
   "cell_type": "code",
   "execution_count": null,
   "metadata": {},
   "outputs": [],
   "source": []
  }
 ],
 "metadata": {
  "kernelspec": {
   "display_name": "Python 3",
   "language": "python",
   "name": "python3"
  },
  "language_info": {
   "codemirror_mode": {
    "name": "ipython",
    "version": 3
   },
   "file_extension": ".py",
   "mimetype": "text/x-python",
   "name": "python",
   "nbconvert_exporter": "python",
   "pygments_lexer": "ipython3",
   "version": "3.7.7"
  }
 },
 "nbformat": 4,
 "nbformat_minor": 4
}
