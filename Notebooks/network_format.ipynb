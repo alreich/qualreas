{
 "cells": [
  {
   "cell_type": "markdown",
   "metadata": {},
   "source": [
    "# Network Format"
   ]
  },
  {
   "cell_type": "code",
   "execution_count": 3,
   "metadata": {},
   "outputs": [],
   "source": [
    "import qualreas as qr\n",
    "import os\n",
    "import json"
   ]
  },
  {
   "cell_type": "code",
   "execution_count": 4,
   "metadata": {},
   "outputs": [
    {
     "name": "stdout",
     "output_type": "stream",
     "text": [
      "/Users/alfredreich/Documents/Github/repo/qualreas\n"
     ]
    }
   ],
   "source": [
    "path = os.path.join(os.getenv('PYPROJ'), 'qualreas')\n",
    "print(path)"
   ]
  },
  {
   "cell_type": "code",
   "execution_count": 15,
   "metadata": {},
   "outputs": [],
   "source": [
    "apath = path + \"/Algebras/\"\n",
    "\n",
    "rcc8 = path + \"/Networks/rcc8_example.json\"\n",
    "rcc8_missing = path + \"/Networks/rcc8_example_MISSING.json\"  # Missing specifications (force defaults)\n",
    "\n",
    "book = path + \"/Networks/BookExample.json\"\n",
    "bookx = path + \"/Networks/BookExampleExtended.json\"\n",
    "\n",
    "nssdf = path + \"/Networks/nssdfExample2.json\""
   ]
  },
  {
   "cell_type": "markdown",
   "metadata": {},
   "source": [
    "## Interval Algebra"
   ]
  },
  {
   "cell_type": "code",
   "execution_count": 6,
   "metadata": {},
   "outputs": [
    {
     "name": "stdout",
     "output_type": "stream",
     "text": [
      "{\r\n",
      "    \"name\": \"Example from book\",\r\n",
      "    \"algebra\": \"Linear_Interval_Algebra\",\r\n",
      "    \"description\": \"Example in book on constraint processing for temporal reasoning\",\r\n",
      "    \"nodes\": [\r\n",
      "        [\"I\", [\"ProperInterval\"]],\r\n",
      "        [\"J\", [\"ProperInterval\"]],\r\n",
      "        [\"K\", [\"ProperInterval\"]],\r\n",
      "        [\"L\", [\"ProperInterval\"]]\r\n",
      "    ],\r\n",
      "    \"edges\": [\r\n",
      "        [\"I\", \"J\", \"F|FI\"],\r\n",
      "        [\"I\", \"L\", \"S|M\"],\r\n",
      "        [\"L\", \"J\", \"S|M\"],\r\n",
      "        [\"K\", \"I\", \"D|DI\"],\r\n",
      "        [\"K\", \"J\", \"D|DI\"],\r\n",
      "        [\"L\", \"K\", \"O\"]\r\n",
      "    ]\r\n",
      "}\r\n"
     ]
    }
   ],
   "source": [
    "!cat {book}"
   ]
  },
  {
   "cell_type": "code",
   "execution_count": 7,
   "metadata": {},
   "outputs": [],
   "source": [
    "book_net = qr.Network(algebra_path=apath, json_file_name=book)"
   ]
  },
  {
   "cell_type": "code",
   "execution_count": 8,
   "metadata": {},
   "outputs": [
    {
     "name": "stdout",
     "output_type": "stream",
     "text": [
      "\n",
      "Example from book: 4 nodes, 16 edges\n",
      "  Algebra: Linear_Interval_Algebra\n",
      "  I:\n",
      "    => I: E\n",
      "    => J: F|FI\n",
      "    => L: M|S\n",
      "    => K: D|DI\n",
      "  J:\n",
      "    => J: E\n",
      "    => I: F|FI\n",
      "    => L: MI|SI\n",
      "    => K: D|DI\n",
      "  L:\n",
      "    => L: E\n",
      "    => I: MI|SI\n",
      "    => J: M|S\n",
      "    => K: O\n",
      "  K:\n",
      "    => K: E\n",
      "    => I: D|DI\n",
      "    => J: D|DI\n",
      "    => L: OI\n"
     ]
    }
   ],
   "source": [
    "book_net.summary()"
   ]
  },
  {
   "cell_type": "code",
   "execution_count": 9,
   "metadata": {},
   "outputs": [
    {
     "name": "stdout",
     "output_type": "stream",
     "text": [
      "\n",
      "Example from book: 4 nodes, 16 edges\n",
      "  Algebra: Linear_Interval_Algebra\n",
      "  I:\n",
      "    => I: E\n",
      "    => J: \n",
      "    => L: M|S\n",
      "    => K: D|DI\n",
      "  J:\n",
      "    => J: E\n",
      "    => I: F|FI\n",
      "    => L: MI|SI\n",
      "    => K: D|DI\n",
      "  L:\n",
      "    => L: E\n",
      "    => I: MI|SI\n",
      "    => J: M|S\n",
      "    => K: O\n",
      "  K:\n",
      "    => K: E\n",
      "    => I: D|DI\n",
      "    => J: D|DI\n",
      "    => L: OI\n"
     ]
    }
   ],
   "source": [
    "book_net.propagate()\n",
    "book_net.summary()"
   ]
  },
  {
   "cell_type": "markdown",
   "metadata": {},
   "source": [
    "## Extended Interval Algebra"
   ]
  },
  {
   "cell_type": "markdown",
   "metadata": {},
   "source": [
    "### Example from Book"
   ]
  },
  {
   "cell_type": "markdown",
   "metadata": {},
   "source": [
    "(What book was this?  I've forgotten.)"
   ]
  },
  {
   "cell_type": "code",
   "execution_count": 10,
   "metadata": {},
   "outputs": [
    {
     "name": "stdout",
     "output_type": "stream",
     "text": [
      "{\r\n",
      "    \"name\": \"Extended example from book\",\r\n",
      "    \"algebra\": \"Extended_Linear_Interval_Algebra\",\r\n",
      "    \"description\": \"Example in book on constraint processing for temporal reasoning, extended\",\r\n",
      "    \"nodes\": [\r\n",
      "        [\"I\", [\"Point\", \"ProperInterval\"]],\r\n",
      "        [\"J\", [\"Point\", \"ProperInterval\"]],\r\n",
      "        [\"K\", [\"Point\", \"ProperInterval\"]],\r\n",
      "        [\"L\", [\"Point\", \"ProperInterval\"]]\r\n",
      "    ],\r\n",
      "    \"edges\": [\r\n",
      "        [\"I\", \"J\", \"F|FI\"],\r\n",
      "        [\"I\", \"L\", \"S|M\"],\r\n",
      "        [\"L\", \"J\", \"S|M\"],\r\n",
      "        [\"K\", \"I\", \"D|DI\"],\r\n",
      "        [\"K\", \"J\", \"D|DI\"],\r\n",
      "        [\"L\", \"K\", \"O\"]\r\n",
      "    ]\r\n",
      "}\r\n"
     ]
    }
   ],
   "source": [
    "!cat {bookx}"
   ]
  },
  {
   "cell_type": "code",
   "execution_count": 11,
   "metadata": {},
   "outputs": [],
   "source": [
    "bookx_net = qr.Network(algebra_path=apath, json_file_name=bookx)"
   ]
  },
  {
   "cell_type": "code",
   "execution_count": 12,
   "metadata": {},
   "outputs": [
    {
     "name": "stdout",
     "output_type": "stream",
     "text": [
      "\n",
      "Extended example from book: 4 nodes, 16 edges\n",
      "  Algebra: Extended_Linear_Interval_Algebra\n",
      "  I:\n",
      "    => I: E|PE\n",
      "    => J: F|FI\n",
      "    => L: M|S\n",
      "    => K: D|DI\n",
      "  J:\n",
      "    => J: E|PE\n",
      "    => I: F|FI\n",
      "    => L: MI|SI\n",
      "    => K: D|DI\n",
      "  L:\n",
      "    => L: E|PE\n",
      "    => I: MI|SI\n",
      "    => J: M|S\n",
      "    => K: O\n",
      "  K:\n",
      "    => K: E|PE\n",
      "    => I: D|DI\n",
      "    => J: D|DI\n",
      "    => L: OI\n"
     ]
    }
   ],
   "source": [
    "bookx_net.summary()"
   ]
  },
  {
   "cell_type": "code",
   "execution_count": 13,
   "metadata": {},
   "outputs": [
    {
     "name": "stdout",
     "output_type": "stream",
     "text": [
      "\n",
      "Extended example from book: 4 nodes, 16 edges\n",
      "  Algebra: Extended_Linear_Interval_Algebra\n",
      "  I:\n",
      "    => I: E\n",
      "    => J: \n",
      "    => L: M|S\n",
      "    => K: D|DI\n",
      "  J:\n",
      "    => J: E|PE\n",
      "    => I: F|FI\n",
      "    => L: MI|SI\n",
      "    => K: D|DI\n",
      "  L:\n",
      "    => L: E|PE\n",
      "    => I: MI|SI\n",
      "    => J: M|S\n",
      "    => K: O\n",
      "  K:\n",
      "    => K: E|PE\n",
      "    => I: D|DI\n",
      "    => J: D|DI\n",
      "    => L: OI\n"
     ]
    }
   ],
   "source": [
    "bookx_net.propagate()\n",
    "bookx_net.summary()"
   ]
  },
  {
   "cell_type": "markdown",
   "metadata": {},
   "source": [
    "### NSSDF 2009 Example 2"
   ]
  },
  {
   "cell_type": "markdown",
   "metadata": {},
   "source": [
    "From paper: \"Using Semantic Web Technology to Exploit Soft Information\"\n",
    "\n",
    "The example here represents a scenario where the following two statements hold:\n",
    "\n",
    "1. A person was arrested yesterday morning and put in jail.  Today, he was released.\n",
    "1. Someone that looked like that same person was observed yesterday evening far away from the jail.\n",
    "    \n",
    "It's easy (for a human) to reason that the two persons mentioned could not have been the same person, but how could a machine reasoning system come to the same conclusion using only the information in the two statements, plus some common sense information about how days, mornings, and evenings relate to each other?\n",
    "\n",
    "Assuming that the machine reasoning system possesses an <i>axiom</i> stating that a person cannot be in two different places at the same time, the network below shows how this could be done.\n",
    "\n",
    "The network definition, below, captures only the information contained in the two statements, above, plus some common sense information about days, mornings, and evenings.  Note that it does not specify a relationship between Period_of_Detention and Time_of_Obs(servation) and that it is does not commit to Temporal Entity type for Period_of_Detention; it could be a Period or a ProperInterval.\n",
    "\n",
    "However, after propagation, it can be seen that Period_of_Detention is a ProperInterval, and Time_of_Obs occurred <i>During</i> Period_of_Detention.  So, the machine can reason that the person mentioned in statement 1 was in jail during the time that the person mentioned in statement 2 was seen far away from the jail.  This conclusion plus the axiom, mentioned above, implies that the two statements are about different people."
   ]
  },
  {
   "cell_type": "code",
   "execution_count": 16,
   "metadata": {},
   "outputs": [
    {
     "name": "stdout",
     "output_type": "stream",
     "text": [
      "{\r\n",
      "    \"name\": \"NSSDF 2009 Example 2\",\r\n",
      "    \"algebra\": \"Extended_Linear_Interval_Algebra\",\r\n",
      "    \"description\": \"Using Semantic Web Technology to Exploit Soft Information\",\r\n",
      "    \"nodes\": [\r\n",
      "        [\"Yesterday\",           [\"ProperInterval\"]],\r\n",
      "        [\"Today\",               [\"ProperInterval\"]],\r\n",
      "        [\"Yesterday_Morning\",   [\"ProperInterval\"]],\r\n",
      "        [\"Yesterday_Evening\",   [\"ProperInterval\"]],\r\n",
      "        [\"Time_of_Arrest\",      [\"Point\"]],\r\n",
      "        [\"Time_of_Obs\",         [\"Point\"]],\r\n",
      "        [\"Time_of_Release\",     [\"Point\"]],\r\n",
      "        [\"Period_of_Detention\", [\"ProperInterval\", \"Point\"]]\r\n",
      "    ],\r\n",
      "    \"edges\": [\r\n",
      "        [\"Yesterday\",         \"Today\",               \"M\"],\r\n",
      "        [\"Yesterday_Morning\", \"Yesterday\",           \"S\"],\r\n",
      "        [\"Yesterday_Evening\", \"Yesterday\",           \"F\"],\r\n",
      "        [\"Yesterday_Morning\", \"Yesterday_Evening\",   \"B\"],\r\n",
      "        [\"Time_of_Obs\",       \"Yesterday_Evening\",   \"D\"],\r\n",
      "        [\"Time_of_Arrest\",    \"Yesterday_Morning\",   \"D\"],\r\n",
      "        [\"Time_of_Release\",   \"Today\",               \"D\"],\r\n",
      "        [\"Time_of_Arrest\",    \"Period_of_Detention\", \"PS\"],\r\n",
      "        [\"Time_of_Release\",   \"Period_of_Detention\", \"PF\"]\r\n",
      "    ]\r\n",
      "}"
     ]
    }
   ],
   "source": [
    "!cat {nssdf}"
   ]
  },
  {
   "cell_type": "code",
   "execution_count": 17,
   "metadata": {},
   "outputs": [],
   "source": [
    "nssdf_net = qr.Network(algebra_path=apath, json_file_name=nssdf)"
   ]
  },
  {
   "cell_type": "code",
   "execution_count": 18,
   "metadata": {},
   "outputs": [
    {
     "name": "stdout",
     "output_type": "stream",
     "text": [
      "\n",
      "NSSDF 2009 Example 2: 8 nodes, 26 edges\n",
      "  Algebra: Extended_Linear_Interval_Algebra\n",
      "  Yesterday:\n",
      "    => Yesterday: E\n",
      "    => Today: M\n",
      "    => Yesterday_Morning: SI\n",
      "    => Yesterday_Evening: FI\n",
      "  Today:\n",
      "    => Today: E\n",
      "    => Yesterday: MI\n",
      "    => Time_of_Release: DI\n",
      "  Yesterday_Morning:\n",
      "    => Yesterday_Morning: E\n",
      "    => Yesterday: S\n",
      "    => Yesterday_Evening: B\n",
      "    => Time_of_Arrest: DI\n",
      "  Yesterday_Evening:\n",
      "    => Yesterday_Evening: E\n",
      "    => Yesterday: F\n",
      "    => Yesterday_Morning: BI\n",
      "    => Time_of_Obs: DI\n",
      "  Time_of_Obs:\n",
      "    => Time_of_Obs: PE\n",
      "    => Yesterday_Evening: D\n",
      "  Time_of_Arrest:\n",
      "    => Time_of_Arrest: PE\n",
      "    => Yesterday_Morning: D\n",
      "    => Period_of_Detention: PS\n",
      "  Time_of_Release:\n",
      "    => Time_of_Release: PE\n",
      "    => Today: D\n",
      "    => Period_of_Detention: PF\n",
      "  Period_of_Detention:\n",
      "    => Period_of_Detention: E|PE\n",
      "    => Time_of_Arrest: PSI\n",
      "    => Time_of_Release: PFI\n"
     ]
    }
   ],
   "source": [
    "nssdf_net.summary()"
   ]
  },
  {
   "cell_type": "code",
   "execution_count": 19,
   "metadata": {},
   "outputs": [
    {
     "name": "stdout",
     "output_type": "stream",
     "text": [
      "\n",
      "NSSDF 2009 Example 2: 8 nodes, 64 edges\n",
      "  Algebra: Extended_Linear_Interval_Algebra\n",
      "  Yesterday:\n",
      "    => Yesterday: E\n",
      "    => Today: M\n",
      "    => Yesterday_Morning: SI\n",
      "    => Yesterday_Evening: FI\n",
      "    => Time_of_Obs: DI\n",
      "    => Time_of_Arrest: DI\n",
      "    => Time_of_Release: B\n",
      "    => Period_of_Detention: O\n",
      "  Today:\n",
      "    => Today: E\n",
      "    => Yesterday: MI\n",
      "    => Time_of_Release: DI\n",
      "    => Yesterday_Morning: BI\n",
      "    => Yesterday_Evening: MI\n",
      "    => Time_of_Obs: BI\n",
      "    => Time_of_Arrest: BI\n",
      "    => Period_of_Detention: OI\n",
      "  Yesterday_Morning:\n",
      "    => Yesterday_Morning: E\n",
      "    => Yesterday: S\n",
      "    => Yesterday_Evening: B\n",
      "    => Time_of_Arrest: DI\n",
      "    => Today: B\n",
      "    => Time_of_Obs: B\n",
      "    => Time_of_Release: B\n",
      "    => Period_of_Detention: O\n",
      "  Yesterday_Evening:\n",
      "    => Yesterday_Evening: E\n",
      "    => Yesterday: F\n",
      "    => Yesterday_Morning: BI\n",
      "    => Time_of_Obs: DI\n",
      "    => Today: M\n",
      "    => Time_of_Arrest: BI\n",
      "    => Time_of_Release: B\n",
      "    => Period_of_Detention: D\n",
      "  Time_of_Obs:\n",
      "    => Time_of_Obs: PE\n",
      "    => Yesterday_Evening: D\n",
      "    => Yesterday: D\n",
      "    => Today: B\n",
      "    => Yesterday_Morning: BI\n",
      "    => Time_of_Arrest: BI\n",
      "    => Time_of_Release: B\n",
      "    => Period_of_Detention: D\n",
      "  Time_of_Arrest:\n",
      "    => Time_of_Arrest: PE\n",
      "    => Yesterday_Morning: D\n",
      "    => Period_of_Detention: PS\n",
      "    => Yesterday: D\n",
      "    => Today: B\n",
      "    => Yesterday_Evening: B\n",
      "    => Time_of_Obs: B\n",
      "    => Time_of_Release: B\n",
      "  Time_of_Release:\n",
      "    => Time_of_Release: PE\n",
      "    => Today: D\n",
      "    => Period_of_Detention: PF\n",
      "    => Yesterday: BI\n",
      "    => Yesterday_Morning: BI\n",
      "    => Yesterday_Evening: BI\n",
      "    => Time_of_Obs: BI\n",
      "    => Time_of_Arrest: BI\n",
      "  Period_of_Detention:\n",
      "    => Period_of_Detention: E\n",
      "    => Time_of_Arrest: PSI\n",
      "    => Time_of_Release: PFI\n",
      "    => Yesterday: OI\n",
      "    => Today: O\n",
      "    => Yesterday_Morning: OI\n",
      "    => Yesterday_Evening: DI\n",
      "    => Time_of_Obs: DI\n"
     ]
    }
   ],
   "source": [
    "nssdf_net.propagate()\n",
    "nssdf_net.summary()"
   ]
  },
  {
   "cell_type": "markdown",
   "metadata": {},
   "source": [
    "## Region Connection Calculus 8"
   ]
  },
  {
   "cell_type": "code",
   "execution_count": 12,
   "metadata": {},
   "outputs": [
    {
     "name": "stdout",
     "output_type": "stream",
     "text": [
      "{\r\n",
      "    \"name\": \"RCC8 Example 1\",\r\n",
      "    \"algebra\": \"RCC8_Algebra\",\r\n",
      "    \"abbreviations\": {\"?\": \"DC|EC|TPP|TPPI|PO|EQ|NTPP|NTPPI\"},\r\n",
      "    \"description\": \"See https://en.wikipedia.org/wiki/Region_connection_calculus#Examples\",\r\n",
      "    \"nodes\": [\r\n",
      "        [\"House1\", [\"Region\"]],\r\n",
      "        [\"House2\", [\"Region\"]],\r\n",
      "        [\"Property1\", [\"Region\"]],\r\n",
      "        [\"Property2\", [\"Region\"]],\r\n",
      "        [\"Road\", [\"Region\"]]\r\n",
      "    ],\r\n",
      "    \"edges\": [\r\n",
      "        [\"House1\", \"House2\", \"DC\"],\r\n",
      "        [\"House1\", \"Property1\", \"TPP|NTPP\"],\r\n",
      "        [\"House1\", \"Property2\", \"DC|EC\"],\r\n",
      "        [\"House1\", \"Road\", \"EC\"],\r\n",
      "        [\"House2\", \"Property1\", \"DC|EC\"],\r\n",
      "        [\"House2\", \"Property2\", \"NTPP\"],\r\n",
      "        [\"House2\", \"Road\", \"EC\"],\r\n",
      "        [\"Property1\", \"Property2\", \"DC|EC\"],\r\n",
      "        [\"Road\", \"Property1\", \"?\"],\r\n",
      "        [\"Road\", \"Property2\", \"?\"]\r\n",
      "    ]\r\n",
      "}"
     ]
    }
   ],
   "source": [
    "!cat {rcc8}"
   ]
  },
  {
   "cell_type": "code",
   "execution_count": 13,
   "metadata": {},
   "outputs": [],
   "source": [
    "rcc8_net = qr.Network(algebra_path=apath, json_file_name=rcc8)"
   ]
  },
  {
   "cell_type": "code",
   "execution_count": 14,
   "metadata": {},
   "outputs": [
    {
     "name": "stdout",
     "output_type": "stream",
     "text": [
      "\n",
      "RCC8 Example 1: 5 nodes, 25 edges\n",
      "  Algebra: RCC8_Algebra\n",
      "  House1:\n",
      "    => House1: EQ\n",
      "    => House2: DC\n",
      "    => Property1: NTPP|TPP\n",
      "    => Property2: DC|EC\n",
      "    => Road: EC\n",
      "  House2:\n",
      "    => House2: EQ\n",
      "    => House1: DC\n",
      "    => Property1: DC|EC\n",
      "    => Property2: NTPP\n",
      "    => Road: EC\n",
      "  Property1:\n",
      "    => Property1: EQ\n",
      "    => House1: NTPPI|TPPI\n",
      "    => House2: DC|EC\n",
      "    => Property2: DC|EC\n",
      "    => Road: DC|EC|EQ|NTPP|NTPPI|PO|TPP|TPPI\n",
      "  Property2:\n",
      "    => Property2: EQ\n",
      "    => House1: DC|EC\n",
      "    => House2: NTPPI\n",
      "    => Property1: DC|EC\n",
      "    => Road: DC|EC|EQ|NTPP|NTPPI|PO|TPP|TPPI\n",
      "  Road:\n",
      "    => Road: EQ\n",
      "    => House1: EC\n",
      "    => House2: EC\n",
      "    => Property1: DC|EC|EQ|NTPP|NTPPI|PO|TPP|TPPI\n",
      "    => Property2: DC|EC|EQ|NTPP|NTPPI|PO|TPP|TPPI\n"
     ]
    }
   ],
   "source": [
    "rcc8_net.summary()"
   ]
  },
  {
   "cell_type": "code",
   "execution_count": 15,
   "metadata": {},
   "outputs": [
    {
     "name": "stdout",
     "output_type": "stream",
     "text": [
      "\n",
      "RCC8 Example 1: 5 nodes, 25 edges\n",
      "  Algebra: RCC8_Algebra\n",
      "  House1:\n",
      "    => House1: EQ\n",
      "    => House2: DC\n",
      "    => Property1: NTPP|TPP\n",
      "    => Property2: DC|EC\n",
      "    => Road: EC\n",
      "  House2:\n",
      "    => House2: EQ\n",
      "    => House1: DC\n",
      "    => Property1: DC\n",
      "    => Property2: NTPP\n",
      "    => Road: EC\n",
      "  Property1:\n",
      "    => Property1: EQ\n",
      "    => House1: NTPPI|TPPI\n",
      "    => House2: DC\n",
      "    => Property2: DC|EC\n",
      "    => Road: EC|PO\n",
      "  Property2:\n",
      "    => Property2: EQ\n",
      "    => House1: DC|EC\n",
      "    => House2: NTPPI\n",
      "    => Property1: DC|EC\n",
      "    => Road: PO|TPPI\n",
      "  Road:\n",
      "    => Road: EQ\n",
      "    => House1: EC\n",
      "    => House2: EC\n",
      "    => Property1: EC|PO\n",
      "    => Property2: PO|TPP\n"
     ]
    }
   ],
   "source": [
    "rcc8_net.propagate()\n",
    "rcc8_net.summary()"
   ]
  },
  {
   "cell_type": "markdown",
   "metadata": {},
   "source": [
    "## RCC8 no name & no constraint"
   ]
  },
  {
   "cell_type": "code",
   "execution_count": 16,
   "metadata": {},
   "outputs": [
    {
     "name": "stdout",
     "output_type": "stream",
     "text": [
      "{\r\n",
      "    \"algebra\": \"RCC8_Algebra\",\r\n",
      "    \"description\": \"See https://en.wikipedia.org/wiki/Region_connection_calculus#Examples\",\r\n",
      "    \"nodes\": [\r\n",
      "        [\"House1\", [\"Region\"]],\r\n",
      "        [\"House2\", [\"Region\"]],\r\n",
      "        [\"Property1\", [\"Region\"]],\r\n",
      "        [\"Property2\", [\"Region\"]],\r\n",
      "        [\"Road\", [\"Region\"]]\r\n",
      "    ],\r\n",
      "    \"edges\": [\r\n",
      "        [\"House1\", \"House2\", \"DC\"],\r\n",
      "        [\"House1\", \"Property1\", \"TPP|NTPP\"],\r\n",
      "        [\"House1\", \"Property2\", \"DC|EC\"],\r\n",
      "        [\"House1\", \"Road\", \"EC\"],\r\n",
      "        [\"House2\", \"Property1\", \"DC|EC\"],\r\n",
      "        [\"House2\", \"Property2\", \"NTPP\"],\r\n",
      "        [\"House2\", \"Road\", \"EC\"],\r\n",
      "        [\"Property1\", \"Property2\", \"DC|EC\"],\r\n",
      "        [\"Road\", \"Property1\"],\r\n",
      "        [\"Road\", \"Property2\"]\r\n",
      "    ]\r\n",
      "}"
     ]
    }
   ],
   "source": [
    "!cat {rcc8_missing}"
   ]
  },
  {
   "cell_type": "code",
   "execution_count": 17,
   "metadata": {},
   "outputs": [],
   "source": [
    "rcc8_net_missing = qr.Network(algebra_path=apath, json_file_name=rcc8_missing)"
   ]
  },
  {
   "cell_type": "code",
   "execution_count": 18,
   "metadata": {
    "scrolled": true
   },
   "outputs": [
    {
     "name": "stdout",
     "output_type": "stream",
     "text": [
      "\n",
      "Network:QcOxidMO: 5 nodes, 25 edges\n",
      "  Algebra: RCC8_Algebra\n",
      "  House1:\n",
      "    => House1: EQ\n",
      "    => House2: DC\n",
      "    => Property1: NTPP|TPP\n",
      "    => Property2: DC|EC\n",
      "    => Road: EC\n",
      "  House2:\n",
      "    => House2: EQ\n",
      "    => House1: DC\n",
      "    => Property1: DC|EC\n",
      "    => Property2: NTPP\n",
      "    => Road: EC\n",
      "  Property1:\n",
      "    => Property1: EQ\n",
      "    => House1: NTPPI|TPPI\n",
      "    => House2: DC|EC\n",
      "    => Property2: DC|EC\n",
      "    => Road: DC|EC|EQ|NTPP|NTPPI|PO|TPP|TPPI\n",
      "  Property2:\n",
      "    => Property2: EQ\n",
      "    => House1: DC|EC\n",
      "    => House2: NTPPI\n",
      "    => Property1: DC|EC\n",
      "    => Road: DC|EC|EQ|NTPP|NTPPI|PO|TPP|TPPI\n",
      "  Road:\n",
      "    => Road: EQ\n",
      "    => House1: EC\n",
      "    => House2: EC\n",
      "    => Property1: DC|EC|EQ|NTPP|NTPPI|PO|TPP|TPPI\n",
      "    => Property2: DC|EC|EQ|NTPP|NTPPI|PO|TPP|TPPI\n"
     ]
    }
   ],
   "source": [
    "rcc8_net_missing.summary()"
   ]
  },
  {
   "cell_type": "code",
   "execution_count": 19,
   "metadata": {
    "scrolled": true
   },
   "outputs": [
    {
     "name": "stdout",
     "output_type": "stream",
     "text": [
      "\n",
      "Network:QcOxidMO: 5 nodes, 25 edges\n",
      "  Algebra: RCC8_Algebra\n",
      "  House1:\n",
      "    => House1: EQ\n",
      "    => House2: DC\n",
      "    => Property1: NTPP|TPP\n",
      "    => Property2: DC|EC\n",
      "    => Road: EC\n",
      "  House2:\n",
      "    => House2: EQ\n",
      "    => House1: DC\n",
      "    => Property1: DC\n",
      "    => Property2: NTPP\n",
      "    => Road: EC\n",
      "  Property1:\n",
      "    => Property1: EQ\n",
      "    => House1: NTPPI|TPPI\n",
      "    => House2: DC\n",
      "    => Property2: DC|EC\n",
      "    => Road: EC|PO\n",
      "  Property2:\n",
      "    => Property2: EQ\n",
      "    => House1: DC|EC\n",
      "    => House2: NTPPI\n",
      "    => Property1: DC|EC\n",
      "    => Road: PO|TPPI\n",
      "  Road:\n",
      "    => Road: EQ\n",
      "    => House1: EC\n",
      "    => House2: EC\n",
      "    => Property1: EC|PO\n",
      "    => Property2: PO|TPP\n"
     ]
    }
   ],
   "source": [
    "rcc8_net_missing.propagate()\n",
    "rcc8_net_missing.summary()"
   ]
  },
  {
   "cell_type": "markdown",
   "metadata": {},
   "source": [
    "## Network Examination"
   ]
  },
  {
   "cell_type": "markdown",
   "metadata": {},
   "source": [
    "This examination uses the NetworkX API."
   ]
  },
  {
   "cell_type": "code",
   "execution_count": 20,
   "metadata": {},
   "outputs": [
    {
     "data": {
      "text/plain": [
       "<qualreas.Network at 0x7fd248676410>"
      ]
     },
     "execution_count": 20,
     "metadata": {},
     "output_type": "execute_result"
    }
   ],
   "source": [
    "rcc8_net"
   ]
  },
  {
   "cell_type": "code",
   "execution_count": 21,
   "metadata": {},
   "outputs": [
    {
     "data": {
      "text/plain": [
       "[SpatialObject(['Region'] 'House1'),\n",
       " SpatialObject(['Region'] 'House2'),\n",
       " SpatialObject(['Region'] 'Property1'),\n",
       " SpatialObject(['Region'] 'Property2'),\n",
       " SpatialObject(['Region'] 'Road')]"
      ]
     },
     "execution_count": 21,
     "metadata": {},
     "output_type": "execute_result"
    }
   ],
   "source": [
    "list(rcc8_net.nodes)"
   ]
  },
  {
   "cell_type": "code",
   "execution_count": 22,
   "metadata": {},
   "outputs": [
    {
     "name": "stdout",
     "output_type": "stream",
     "text": [
      "House1\n",
      "House2\n",
      "Property1\n",
      "Property2\n",
      "Road\n"
     ]
    }
   ],
   "source": [
    "for n in rcc8_net.nodes:\n",
    "    print(n.name)"
   ]
  },
  {
   "cell_type": "code",
   "execution_count": 23,
   "metadata": {},
   "outputs": [
    {
     "name": "stdout",
     "output_type": "stream",
     "text": [
      "(SpatialObject(['Region'] 'House1'), SpatialObject(['Region'] 'House1'))\n",
      "(SpatialObject(['Region'] 'House1'), SpatialObject(['Region'] 'House2'))\n",
      "(SpatialObject(['Region'] 'House1'), SpatialObject(['Region'] 'Property1'))\n",
      "(SpatialObject(['Region'] 'House1'), SpatialObject(['Region'] 'Property2'))\n",
      "(SpatialObject(['Region'] 'House1'), SpatialObject(['Region'] 'Road'))\n",
      "(SpatialObject(['Region'] 'House2'), SpatialObject(['Region'] 'House2'))\n",
      "(SpatialObject(['Region'] 'House2'), SpatialObject(['Region'] 'House1'))\n",
      "(SpatialObject(['Region'] 'House2'), SpatialObject(['Region'] 'Property1'))\n",
      "(SpatialObject(['Region'] 'House2'), SpatialObject(['Region'] 'Property2'))\n",
      "(SpatialObject(['Region'] 'House2'), SpatialObject(['Region'] 'Road'))\n",
      "(SpatialObject(['Region'] 'Property1'), SpatialObject(['Region'] 'Property1'))\n",
      "(SpatialObject(['Region'] 'Property1'), SpatialObject(['Region'] 'House1'))\n",
      "(SpatialObject(['Region'] 'Property1'), SpatialObject(['Region'] 'House2'))\n",
      "(SpatialObject(['Region'] 'Property1'), SpatialObject(['Region'] 'Property2'))\n",
      "(SpatialObject(['Region'] 'Property1'), SpatialObject(['Region'] 'Road'))\n",
      "(SpatialObject(['Region'] 'Property2'), SpatialObject(['Region'] 'Property2'))\n",
      "(SpatialObject(['Region'] 'Property2'), SpatialObject(['Region'] 'House1'))\n",
      "(SpatialObject(['Region'] 'Property2'), SpatialObject(['Region'] 'House2'))\n",
      "(SpatialObject(['Region'] 'Property2'), SpatialObject(['Region'] 'Property1'))\n",
      "(SpatialObject(['Region'] 'Property2'), SpatialObject(['Region'] 'Road'))\n",
      "(SpatialObject(['Region'] 'Road'), SpatialObject(['Region'] 'Road'))\n",
      "(SpatialObject(['Region'] 'Road'), SpatialObject(['Region'] 'House1'))\n",
      "(SpatialObject(['Region'] 'Road'), SpatialObject(['Region'] 'House2'))\n",
      "(SpatialObject(['Region'] 'Road'), SpatialObject(['Region'] 'Property1'))\n",
      "(SpatialObject(['Region'] 'Road'), SpatialObject(['Region'] 'Property2'))\n"
     ]
    }
   ],
   "source": [
    "for e in rcc8_net.edges:\n",
    "    print(e)"
   ]
  },
  {
   "cell_type": "code",
   "execution_count": 34,
   "metadata": {},
   "outputs": [
    {
     "name": "stdout",
     "output_type": "stream",
     "text": [
      "SpatialObject(['Region'] 'House1')\n",
      "SpatialObject(['Region'] 'House2')\n"
     ]
    }
   ],
   "source": [
    "h1 = rcc8_net.get_entity_by_name(\"House1\")\n",
    "h2 = rcc8_net.get_entity_by_name(\"House2\")\n",
    "print(h1)\n",
    "print(h2)"
   ]
  },
  {
   "cell_type": "code",
   "execution_count": 35,
   "metadata": {},
   "outputs": [
    {
     "name": "stdout",
     "output_type": "stream",
     "text": [
      "DC\n"
     ]
    }
   ],
   "source": [
    "print(rcc8_net.edges[h1, h2]['constraint'])"
   ]
  },
  {
   "cell_type": "code",
   "execution_count": 36,
   "metadata": {},
   "outputs": [
    {
     "data": {
      "text/plain": [
       "{'constraint': relset(['DC'])}"
      ]
     },
     "execution_count": 36,
     "metadata": {},
     "output_type": "execute_result"
    }
   ],
   "source": [
    "h1 = rcc8_net.get_entity_by_name(\"House1\")\n",
    "h2 = rcc8_net.get_entity_by_name(\"House2\")\n",
    "rcc8_net.get_edge_data(h1, h2)"
   ]
  },
  {
   "cell_type": "code",
   "execution_count": 38,
   "metadata": {},
   "outputs": [
    {
     "data": {
      "text/plain": [
       "('House1', 'House2', 'DC')"
      ]
     },
     "execution_count": 38,
     "metadata": {},
     "output_type": "execute_result"
    }
   ],
   "source": [
    "rcc8_net.get_edge_by_names(\"House1\", \"House2\")"
   ]
  },
  {
   "cell_type": "code",
   "execution_count": null,
   "metadata": {},
   "outputs": [],
   "source": []
  }
 ],
 "metadata": {
  "kernelspec": {
   "display_name": "Python 3",
   "language": "python",
   "name": "python3"
  },
  "language_info": {
   "codemirror_mode": {
    "name": "ipython",
    "version": 3
   },
   "file_extension": ".py",
   "mimetype": "text/x-python",
   "name": "python",
   "nbconvert_exporter": "python",
   "pygments_lexer": "ipython3",
   "version": "3.7.7"
  }
 },
 "nbformat": 4,
 "nbformat_minor": 4
}
