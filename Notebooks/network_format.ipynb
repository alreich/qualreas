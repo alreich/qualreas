{
 "cells": [
  {
   "cell_type": "markdown",
   "metadata": {},
   "source": [
    "# Network Format"
   ]
  },
  {
   "cell_type": "code",
   "execution_count": 1,
   "metadata": {},
   "outputs": [],
   "source": [
    "import qualreas as qr\n",
    "import os\n",
    "import json"
   ]
  },
  {
   "cell_type": "code",
   "execution_count": 2,
   "metadata": {},
   "outputs": [
    {
     "name": "stdout",
     "output_type": "stream",
     "text": [
      "/Users/alfredreich/Documents/Github/repo/qualreas\n"
     ]
    }
   ],
   "source": [
    "path = os.path.join(os.getenv('PYPROJ'), 'qualreas')\n",
    "print(path)"
   ]
  },
  {
   "cell_type": "code",
   "execution_count": 3,
   "metadata": {},
   "outputs": [],
   "source": [
    "apath = path + \"/Algebras/\"\n",
    "\n",
    "rcc8 = path + \"/Networks/rcc8_example.json\"\n",
    "rcc8_missing = path + \"/Networks/rcc8_example_MISSING.json\"  # Missing specifications (force defaults)\n",
    "\n",
    "book = path + \"/Networks/BookExample.json\"\n",
    "bookx = path + \"/Networks/BookExampleExtended.json\""
   ]
  },
  {
   "cell_type": "markdown",
   "metadata": {},
   "source": [
    "## Interval Algebra"
   ]
  },
  {
   "cell_type": "code",
   "execution_count": 4,
   "metadata": {},
   "outputs": [
    {
     "name": "stdout",
     "output_type": "stream",
     "text": [
      "{\r\n",
      "    \"name\": \"Example from book\",\r\n",
      "    \"algebra\": \"Linear_Interval_Algebra\",\r\n",
      "    \"description\": \"Example in book on constraint processing for temporal reasoning\",\r\n",
      "    \"nodes\": [\r\n",
      "        [\"I\", [\"ProperInterval\"]],\r\n",
      "        [\"J\", [\"ProperInterval\"]],\r\n",
      "        [\"K\", [\"ProperInterval\"]],\r\n",
      "        [\"L\", [\"ProperInterval\"]]\r\n",
      "    ],\r\n",
      "    \"edges\": [\r\n",
      "        [\"I\", \"J\", \"F|FI\"],\r\n",
      "        [\"I\", \"L\", \"S|M\"],\r\n",
      "        [\"L\", \"J\", \"S|M\"],\r\n",
      "        [\"K\", \"I\", \"D|DI\"],\r\n",
      "        [\"K\", \"J\", \"D|DI\"],\r\n",
      "        [\"L\", \"K\", \"O\"]\r\n",
      "    ]\r\n",
      "}\r\n"
     ]
    }
   ],
   "source": [
    "!cat {book}"
   ]
  },
  {
   "cell_type": "code",
   "execution_count": 5,
   "metadata": {},
   "outputs": [],
   "source": [
    "book_net = qr.Network(algebra_path=apath, json_file_name=book)"
   ]
  },
  {
   "cell_type": "code",
   "execution_count": 6,
   "metadata": {},
   "outputs": [
    {
     "name": "stdout",
     "output_type": "stream",
     "text": [
      "\n",
      "Example from book: 4 nodes, 16 edges\n",
      "  Algebra: Linear_Interval_Algebra\n",
      "  I:\n",
      "    => I: E\n",
      "    => J: F|FI\n",
      "    => L: M|S\n",
      "    => K: D|DI\n",
      "  J:\n",
      "    => J: E\n",
      "    => I: F|FI\n",
      "    => L: MI|SI\n",
      "    => K: D|DI\n",
      "  L:\n",
      "    => L: E\n",
      "    => I: MI|SI\n",
      "    => J: M|S\n",
      "    => K: O\n",
      "  K:\n",
      "    => K: E\n",
      "    => I: D|DI\n",
      "    => J: D|DI\n",
      "    => L: OI\n"
     ]
    }
   ],
   "source": [
    "book_net.summary()"
   ]
  },
  {
   "cell_type": "code",
   "execution_count": 7,
   "metadata": {},
   "outputs": [
    {
     "name": "stdout",
     "output_type": "stream",
     "text": [
      "\n",
      "Example from book: 4 nodes, 16 edges\n",
      "  Algebra: Linear_Interval_Algebra\n",
      "  I:\n",
      "    => I: E\n",
      "    => J: \n",
      "    => L: M|S\n",
      "    => K: D|DI\n",
      "  J:\n",
      "    => J: E\n",
      "    => I: F|FI\n",
      "    => L: MI|SI\n",
      "    => K: D|DI\n",
      "  L:\n",
      "    => L: E\n",
      "    => I: MI|SI\n",
      "    => J: M|S\n",
      "    => K: O\n",
      "  K:\n",
      "    => K: E\n",
      "    => I: D|DI\n",
      "    => J: D|DI\n",
      "    => L: OI\n"
     ]
    }
   ],
   "source": [
    "book_net.propagate()\n",
    "book_net.summary()"
   ]
  },
  {
   "cell_type": "markdown",
   "metadata": {},
   "source": [
    "## Extended Interval Algebra"
   ]
  },
  {
   "cell_type": "code",
   "execution_count": 8,
   "metadata": {},
   "outputs": [
    {
     "name": "stdout",
     "output_type": "stream",
     "text": [
      "{\r\n",
      "    \"name\": \"Extended example from book\",\r\n",
      "    \"algebra\": \"Extended_Linear_Interval_Algebra\",\r\n",
      "    \"description\": \"Example in book on constraint processing for temporal reasoning, extended\",\r\n",
      "    \"nodes\": [\r\n",
      "        [\"I\", [\"Point\", \"ProperInterval\"]],\r\n",
      "        [\"J\", [\"Point\", \"ProperInterval\"]],\r\n",
      "        [\"K\", [\"Point\", \"ProperInterval\"]],\r\n",
      "        [\"L\", [\"Point\", \"ProperInterval\"]]\r\n",
      "    ],\r\n",
      "    \"edges\": [\r\n",
      "        [\"I\", \"J\", \"F|FI\"],\r\n",
      "        [\"I\", \"L\", \"S|M\"],\r\n",
      "        [\"L\", \"J\", \"S|M\"],\r\n",
      "        [\"K\", \"I\", \"D|DI\"],\r\n",
      "        [\"K\", \"J\", \"D|DI\"],\r\n",
      "        [\"L\", \"K\", \"O\"]\r\n",
      "    ]\r\n",
      "}\r\n"
     ]
    }
   ],
   "source": [
    "!cat {bookx}"
   ]
  },
  {
   "cell_type": "code",
   "execution_count": 9,
   "metadata": {},
   "outputs": [],
   "source": [
    "bookx_net = qr.Network(algebra_path=apath, json_file_name=bookx)"
   ]
  },
  {
   "cell_type": "code",
   "execution_count": 10,
   "metadata": {},
   "outputs": [
    {
     "name": "stdout",
     "output_type": "stream",
     "text": [
      "\n",
      "Extended example from book: 4 nodes, 16 edges\n",
      "  Algebra: Extended_Linear_Interval_Algebra\n",
      "  I:\n",
      "    => I: E|PE\n",
      "    => J: F|FI\n",
      "    => L: M|S\n",
      "    => K: D|DI\n",
      "  J:\n",
      "    => J: E|PE\n",
      "    => I: F|FI\n",
      "    => L: MI|SI\n",
      "    => K: D|DI\n",
      "  L:\n",
      "    => L: E|PE\n",
      "    => I: MI|SI\n",
      "    => J: M|S\n",
      "    => K: O\n",
      "  K:\n",
      "    => K: E|PE\n",
      "    => I: D|DI\n",
      "    => J: D|DI\n",
      "    => L: OI\n"
     ]
    }
   ],
   "source": [
    "bookx_net.summary()"
   ]
  },
  {
   "cell_type": "code",
   "execution_count": 11,
   "metadata": {},
   "outputs": [
    {
     "name": "stdout",
     "output_type": "stream",
     "text": [
      "\n",
      "Extended example from book: 4 nodes, 16 edges\n",
      "  Algebra: Extended_Linear_Interval_Algebra\n",
      "  I:\n",
      "    => I: E\n",
      "    => J: \n",
      "    => L: M|S\n",
      "    => K: D|DI\n",
      "  J:\n",
      "    => J: E|PE\n",
      "    => I: F|FI\n",
      "    => L: MI|SI\n",
      "    => K: D|DI\n",
      "  L:\n",
      "    => L: E|PE\n",
      "    => I: MI|SI\n",
      "    => J: M|S\n",
      "    => K: O\n",
      "  K:\n",
      "    => K: E|PE\n",
      "    => I: D|DI\n",
      "    => J: D|DI\n",
      "    => L: OI\n"
     ]
    }
   ],
   "source": [
    "bookx_net.propagate()\n",
    "bookx_net.summary()"
   ]
  },
  {
   "cell_type": "markdown",
   "metadata": {},
   "source": [
    "## Region Connection Calculus 8"
   ]
  },
  {
   "cell_type": "code",
   "execution_count": 12,
   "metadata": {},
   "outputs": [
    {
     "name": "stdout",
     "output_type": "stream",
     "text": [
      "{\r\n",
      "    \"name\": \"RCC8 Example 1\",\r\n",
      "    \"algebra\": \"RCC8_Algebra\",\r\n",
      "    \"abbreviations\": {\"?\": \"DC|EC|TPP|TPPI|PO|EQ|NTPP|NTPPI\"},\r\n",
      "    \"description\": \"See https://en.wikipedia.org/wiki/Region_connection_calculus#Examples\",\r\n",
      "    \"nodes\": [\r\n",
      "        [\"House1\", [\"Region\"]],\r\n",
      "        [\"House2\", [\"Region\"]],\r\n",
      "        [\"Property1\", [\"Region\"]],\r\n",
      "        [\"Property2\", [\"Region\"]],\r\n",
      "        [\"Road\", [\"Region\"]]\r\n",
      "    ],\r\n",
      "    \"edges\": [\r\n",
      "        [\"House1\", \"House2\", \"DC\"],\r\n",
      "        [\"House1\", \"Property1\", \"TPP|NTPP\"],\r\n",
      "        [\"House1\", \"Property2\", \"DC|EC\"],\r\n",
      "        [\"House1\", \"Road\", \"EC\"],\r\n",
      "        [\"House2\", \"Property1\", \"DC|EC\"],\r\n",
      "        [\"House2\", \"Property2\", \"NTPP\"],\r\n",
      "        [\"House2\", \"Road\", \"EC\"],\r\n",
      "        [\"Property1\", \"Property2\", \"DC|EC\"],\r\n",
      "        [\"Road\", \"Property1\", \"?\"],\r\n",
      "        [\"Road\", \"Property2\", \"?\"]\r\n",
      "    ]\r\n",
      "}"
     ]
    }
   ],
   "source": [
    "!cat {rcc8}"
   ]
  },
  {
   "cell_type": "code",
   "execution_count": 13,
   "metadata": {},
   "outputs": [],
   "source": [
    "rcc8_net = qr.Network(algebra_path=apath, json_file_name=rcc8)"
   ]
  },
  {
   "cell_type": "code",
   "execution_count": 14,
   "metadata": {},
   "outputs": [
    {
     "name": "stdout",
     "output_type": "stream",
     "text": [
      "\n",
      "RCC8 Example 1: 5 nodes, 25 edges\n",
      "  Algebra: RCC8_Algebra\n",
      "  House1:\n",
      "    => House1: EQ\n",
      "    => House2: DC\n",
      "    => Property1: NTPP|TPP\n",
      "    => Property2: DC|EC\n",
      "    => Road: EC\n",
      "  House2:\n",
      "    => House2: EQ\n",
      "    => House1: DC\n",
      "    => Property1: DC|EC\n",
      "    => Property2: NTPP\n",
      "    => Road: EC\n",
      "  Property1:\n",
      "    => Property1: EQ\n",
      "    => House1: NTPPI|TPPI\n",
      "    => House2: DC|EC\n",
      "    => Property2: DC|EC\n",
      "    => Road: DC|EC|EQ|NTPP|NTPPI|PO|TPP|TPPI\n",
      "  Property2:\n",
      "    => Property2: EQ\n",
      "    => House1: DC|EC\n",
      "    => House2: NTPPI\n",
      "    => Property1: DC|EC\n",
      "    => Road: DC|EC|EQ|NTPP|NTPPI|PO|TPP|TPPI\n",
      "  Road:\n",
      "    => Road: EQ\n",
      "    => House1: EC\n",
      "    => House2: EC\n",
      "    => Property1: DC|EC|EQ|NTPP|NTPPI|PO|TPP|TPPI\n",
      "    => Property2: DC|EC|EQ|NTPP|NTPPI|PO|TPP|TPPI\n"
     ]
    }
   ],
   "source": [
    "rcc8_net.summary()"
   ]
  },
  {
   "cell_type": "code",
   "execution_count": 15,
   "metadata": {},
   "outputs": [
    {
     "name": "stdout",
     "output_type": "stream",
     "text": [
      "\n",
      "RCC8 Example 1: 5 nodes, 25 edges\n",
      "  Algebra: RCC8_Algebra\n",
      "  House1:\n",
      "    => House1: EQ\n",
      "    => House2: DC\n",
      "    => Property1: NTPP|TPP\n",
      "    => Property2: DC|EC\n",
      "    => Road: EC\n",
      "  House2:\n",
      "    => House2: EQ\n",
      "    => House1: DC\n",
      "    => Property1: DC\n",
      "    => Property2: NTPP\n",
      "    => Road: EC\n",
      "  Property1:\n",
      "    => Property1: EQ\n",
      "    => House1: NTPPI|TPPI\n",
      "    => House2: DC\n",
      "    => Property2: DC|EC\n",
      "    => Road: EC|PO\n",
      "  Property2:\n",
      "    => Property2: EQ\n",
      "    => House1: DC|EC\n",
      "    => House2: NTPPI\n",
      "    => Property1: DC|EC\n",
      "    => Road: PO|TPPI\n",
      "  Road:\n",
      "    => Road: EQ\n",
      "    => House1: EC\n",
      "    => House2: EC\n",
      "    => Property1: EC|PO\n",
      "    => Property2: PO|TPP\n"
     ]
    }
   ],
   "source": [
    "rcc8_net.propagate()\n",
    "rcc8_net.summary()"
   ]
  },
  {
   "cell_type": "markdown",
   "metadata": {},
   "source": [
    "## RCC8 no name & no constraint"
   ]
  },
  {
   "cell_type": "code",
   "execution_count": 16,
   "metadata": {},
   "outputs": [
    {
     "name": "stdout",
     "output_type": "stream",
     "text": [
      "{\r\n",
      "    \"algebra\": \"RCC8_Algebra\",\r\n",
      "    \"description\": \"See https://en.wikipedia.org/wiki/Region_connection_calculus#Examples\",\r\n",
      "    \"nodes\": [\r\n",
      "        [\"House1\", [\"Region\"]],\r\n",
      "        [\"House2\", [\"Region\"]],\r\n",
      "        [\"Property1\", [\"Region\"]],\r\n",
      "        [\"Property2\", [\"Region\"]],\r\n",
      "        [\"Road\", [\"Region\"]]\r\n",
      "    ],\r\n",
      "    \"edges\": [\r\n",
      "        [\"House1\", \"House2\", \"DC\"],\r\n",
      "        [\"House1\", \"Property1\", \"TPP|NTPP\"],\r\n",
      "        [\"House1\", \"Property2\", \"DC|EC\"],\r\n",
      "        [\"House1\", \"Road\", \"EC\"],\r\n",
      "        [\"House2\", \"Property1\", \"DC|EC\"],\r\n",
      "        [\"House2\", \"Property2\", \"NTPP\"],\r\n",
      "        [\"House2\", \"Road\", \"EC\"],\r\n",
      "        [\"Property1\", \"Property2\", \"DC|EC\"],\r\n",
      "        [\"Road\", \"Property1\"],\r\n",
      "        [\"Road\", \"Property2\"]\r\n",
      "    ]\r\n",
      "}"
     ]
    }
   ],
   "source": [
    "!cat {rcc8_missing}"
   ]
  },
  {
   "cell_type": "code",
   "execution_count": 17,
   "metadata": {},
   "outputs": [],
   "source": [
    "rcc8_net_missing = qr.Network(algebra_path=apath, json_file_name=rcc8_missing)"
   ]
  },
  {
   "cell_type": "code",
   "execution_count": 18,
   "metadata": {
    "scrolled": true
   },
   "outputs": [
    {
     "name": "stdout",
     "output_type": "stream",
     "text": [
      "\n",
      "Network:QcOxidMO: 5 nodes, 25 edges\n",
      "  Algebra: RCC8_Algebra\n",
      "  House1:\n",
      "    => House1: EQ\n",
      "    => House2: DC\n",
      "    => Property1: NTPP|TPP\n",
      "    => Property2: DC|EC\n",
      "    => Road: EC\n",
      "  House2:\n",
      "    => House2: EQ\n",
      "    => House1: DC\n",
      "    => Property1: DC|EC\n",
      "    => Property2: NTPP\n",
      "    => Road: EC\n",
      "  Property1:\n",
      "    => Property1: EQ\n",
      "    => House1: NTPPI|TPPI\n",
      "    => House2: DC|EC\n",
      "    => Property2: DC|EC\n",
      "    => Road: DC|EC|EQ|NTPP|NTPPI|PO|TPP|TPPI\n",
      "  Property2:\n",
      "    => Property2: EQ\n",
      "    => House1: DC|EC\n",
      "    => House2: NTPPI\n",
      "    => Property1: DC|EC\n",
      "    => Road: DC|EC|EQ|NTPP|NTPPI|PO|TPP|TPPI\n",
      "  Road:\n",
      "    => Road: EQ\n",
      "    => House1: EC\n",
      "    => House2: EC\n",
      "    => Property1: DC|EC|EQ|NTPP|NTPPI|PO|TPP|TPPI\n",
      "    => Property2: DC|EC|EQ|NTPP|NTPPI|PO|TPP|TPPI\n"
     ]
    }
   ],
   "source": [
    "rcc8_net_missing.summary()"
   ]
  },
  {
   "cell_type": "code",
   "execution_count": 19,
   "metadata": {
    "scrolled": true
   },
   "outputs": [
    {
     "name": "stdout",
     "output_type": "stream",
     "text": [
      "\n",
      "Network:QcOxidMO: 5 nodes, 25 edges\n",
      "  Algebra: RCC8_Algebra\n",
      "  House1:\n",
      "    => House1: EQ\n",
      "    => House2: DC\n",
      "    => Property1: NTPP|TPP\n",
      "    => Property2: DC|EC\n",
      "    => Road: EC\n",
      "  House2:\n",
      "    => House2: EQ\n",
      "    => House1: DC\n",
      "    => Property1: DC\n",
      "    => Property2: NTPP\n",
      "    => Road: EC\n",
      "  Property1:\n",
      "    => Property1: EQ\n",
      "    => House1: NTPPI|TPPI\n",
      "    => House2: DC\n",
      "    => Property2: DC|EC\n",
      "    => Road: EC|PO\n",
      "  Property2:\n",
      "    => Property2: EQ\n",
      "    => House1: DC|EC\n",
      "    => House2: NTPPI\n",
      "    => Property1: DC|EC\n",
      "    => Road: PO|TPPI\n",
      "  Road:\n",
      "    => Road: EQ\n",
      "    => House1: EC\n",
      "    => House2: EC\n",
      "    => Property1: EC|PO\n",
      "    => Property2: PO|TPP\n"
     ]
    }
   ],
   "source": [
    "rcc8_net_missing.propagate()\n",
    "rcc8_net_missing.summary()"
   ]
  },
  {
   "cell_type": "markdown",
   "metadata": {},
   "source": [
    "## Network Examination"
   ]
  },
  {
   "cell_type": "markdown",
   "metadata": {},
   "source": [
    "This examination uses the NetworkX API."
   ]
  },
  {
   "cell_type": "code",
   "execution_count": 20,
   "metadata": {},
   "outputs": [
    {
     "data": {
      "text/plain": [
       "<qualreas.Network at 0x7fd248676410>"
      ]
     },
     "execution_count": 20,
     "metadata": {},
     "output_type": "execute_result"
    }
   ],
   "source": [
    "rcc8_net"
   ]
  },
  {
   "cell_type": "code",
   "execution_count": 21,
   "metadata": {},
   "outputs": [
    {
     "data": {
      "text/plain": [
       "[SpatialObject(['Region'] 'House1'),\n",
       " SpatialObject(['Region'] 'House2'),\n",
       " SpatialObject(['Region'] 'Property1'),\n",
       " SpatialObject(['Region'] 'Property2'),\n",
       " SpatialObject(['Region'] 'Road')]"
      ]
     },
     "execution_count": 21,
     "metadata": {},
     "output_type": "execute_result"
    }
   ],
   "source": [
    "list(rcc8_net.nodes)"
   ]
  },
  {
   "cell_type": "code",
   "execution_count": 22,
   "metadata": {},
   "outputs": [
    {
     "name": "stdout",
     "output_type": "stream",
     "text": [
      "House1\n",
      "House2\n",
      "Property1\n",
      "Property2\n",
      "Road\n"
     ]
    }
   ],
   "source": [
    "for n in rcc8_net.nodes:\n",
    "    print(n.name)"
   ]
  },
  {
   "cell_type": "code",
   "execution_count": 23,
   "metadata": {},
   "outputs": [
    {
     "name": "stdout",
     "output_type": "stream",
     "text": [
      "(SpatialObject(['Region'] 'House1'), SpatialObject(['Region'] 'House1'))\n",
      "(SpatialObject(['Region'] 'House1'), SpatialObject(['Region'] 'House2'))\n",
      "(SpatialObject(['Region'] 'House1'), SpatialObject(['Region'] 'Property1'))\n",
      "(SpatialObject(['Region'] 'House1'), SpatialObject(['Region'] 'Property2'))\n",
      "(SpatialObject(['Region'] 'House1'), SpatialObject(['Region'] 'Road'))\n",
      "(SpatialObject(['Region'] 'House2'), SpatialObject(['Region'] 'House2'))\n",
      "(SpatialObject(['Region'] 'House2'), SpatialObject(['Region'] 'House1'))\n",
      "(SpatialObject(['Region'] 'House2'), SpatialObject(['Region'] 'Property1'))\n",
      "(SpatialObject(['Region'] 'House2'), SpatialObject(['Region'] 'Property2'))\n",
      "(SpatialObject(['Region'] 'House2'), SpatialObject(['Region'] 'Road'))\n",
      "(SpatialObject(['Region'] 'Property1'), SpatialObject(['Region'] 'Property1'))\n",
      "(SpatialObject(['Region'] 'Property1'), SpatialObject(['Region'] 'House1'))\n",
      "(SpatialObject(['Region'] 'Property1'), SpatialObject(['Region'] 'House2'))\n",
      "(SpatialObject(['Region'] 'Property1'), SpatialObject(['Region'] 'Property2'))\n",
      "(SpatialObject(['Region'] 'Property1'), SpatialObject(['Region'] 'Road'))\n",
      "(SpatialObject(['Region'] 'Property2'), SpatialObject(['Region'] 'Property2'))\n",
      "(SpatialObject(['Region'] 'Property2'), SpatialObject(['Region'] 'House1'))\n",
      "(SpatialObject(['Region'] 'Property2'), SpatialObject(['Region'] 'House2'))\n",
      "(SpatialObject(['Region'] 'Property2'), SpatialObject(['Region'] 'Property1'))\n",
      "(SpatialObject(['Region'] 'Property2'), SpatialObject(['Region'] 'Road'))\n",
      "(SpatialObject(['Region'] 'Road'), SpatialObject(['Region'] 'Road'))\n",
      "(SpatialObject(['Region'] 'Road'), SpatialObject(['Region'] 'House1'))\n",
      "(SpatialObject(['Region'] 'Road'), SpatialObject(['Region'] 'House2'))\n",
      "(SpatialObject(['Region'] 'Road'), SpatialObject(['Region'] 'Property1'))\n",
      "(SpatialObject(['Region'] 'Road'), SpatialObject(['Region'] 'Property2'))\n"
     ]
    }
   ],
   "source": [
    "for e in rcc8_net.edges:\n",
    "    print(e)"
   ]
  },
  {
   "cell_type": "code",
   "execution_count": 34,
   "metadata": {},
   "outputs": [
    {
     "name": "stdout",
     "output_type": "stream",
     "text": [
      "SpatialObject(['Region'] 'House1')\n",
      "SpatialObject(['Region'] 'House2')\n"
     ]
    }
   ],
   "source": [
    "h1 = rcc8_net.get_entity_by_name(\"House1\")\n",
    "h2 = rcc8_net.get_entity_by_name(\"House2\")\n",
    "print(h1)\n",
    "print(h2)"
   ]
  },
  {
   "cell_type": "code",
   "execution_count": 35,
   "metadata": {},
   "outputs": [
    {
     "name": "stdout",
     "output_type": "stream",
     "text": [
      "DC\n"
     ]
    }
   ],
   "source": [
    "print(rcc8_net.edges[h1, h2]['constraint'])"
   ]
  },
  {
   "cell_type": "code",
   "execution_count": 36,
   "metadata": {},
   "outputs": [
    {
     "data": {
      "text/plain": [
       "{'constraint': relset(['DC'])}"
      ]
     },
     "execution_count": 36,
     "metadata": {},
     "output_type": "execute_result"
    }
   ],
   "source": [
    "h1 = rcc8_net.get_entity_by_name(\"House1\")\n",
    "h2 = rcc8_net.get_entity_by_name(\"House2\")\n",
    "rcc8_net.get_edge_data(h1, h2)"
   ]
  },
  {
   "cell_type": "code",
   "execution_count": 38,
   "metadata": {},
   "outputs": [
    {
     "data": {
      "text/plain": [
       "('House1', 'House2', 'DC')"
      ]
     },
     "execution_count": 38,
     "metadata": {},
     "output_type": "execute_result"
    }
   ],
   "source": [
    "rcc8_net.get_edge_by_names(\"House1\", \"House2\")"
   ]
  },
  {
   "cell_type": "code",
   "execution_count": null,
   "metadata": {},
   "outputs": [],
   "source": []
  }
 ],
 "metadata": {
  "kernelspec": {
   "display_name": "Python 3",
   "language": "python",
   "name": "python3"
  },
  "language_info": {
   "codemirror_mode": {
    "name": "ipython",
    "version": 3
   },
   "file_extension": ".py",
   "mimetype": "text/x-python",
   "name": "python",
   "nbconvert_exporter": "python",
   "pygments_lexer": "ipython3",
   "version": "3.7.7"
  }
 },
 "nbformat": 4,
 "nbformat_minor": 4
}
