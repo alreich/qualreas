{
 "cells": [
  {
   "cell_type": "markdown",
   "metadata": {},
   "source": [
    "# Template Network Definitions"
   ]
  },
  {
   "cell_type": "markdown",
   "metadata": {},
   "source": [
    "<i>Version 2</i>"
   ]
  },
  {
   "cell_type": "markdown",
   "metadata": {},
   "source": [
    "## References"
   ]
  },
  {
   "cell_type": "markdown",
   "metadata": {},
   "source": [
    "1. [\"Maintaining Knowledge about Temporal Intervals\" by James F. Allen](https://cse.unl.edu/~choueiry/Documents/Allen-CACM1983.pdf) - Allen's original paper (PDF)\n",
    "1. [Allen's Interval Algebra](https://www.ics.uci.edu/~alspaugh/cls/shr/allen.html) or [here](https://thomasalspaugh.org/pub/fnd/allen.html) - summarizes Allen's algebra of proper time intervals\n",
    "1. [W3C Time Ontology in OWL](https://www.w3.org/TR/owl-time/) - temporal vocabulary used here is based on the W3C vocabulary of time\n",
    "1. [bitsets Python package](https://bitsets.readthedocs.io/en/stable/) - used to implement Algebra relation sets and operations\n",
    "1. [NetworkX Python package](http://networkx.github.io/) - used to represent directed graph of constraints\n",
    "1. [Python format string syntax](https://docs.python.org/3/library/string.html#format-string-syntax) - used in Algebra summary method\n",
    "1. [Spatial Ontology](https://www.w3.org/2017/sdwig/bp/) - I'm still looking for a standard spatial vocabulary; maybe start here\n",
    "1. [Qualitative Spatial Relations (QSR) Library](https://qsrlib.readthedocs.io/en/latest/index.html) - an alternative library to the one defined here"
   ]
  },
  {
   "cell_type": "markdown",
   "metadata": {},
   "source": [
    "## Dependencies"
   ]
  },
  {
   "cell_type": "code",
   "execution_count": 1,
   "metadata": {},
   "outputs": [],
   "source": [
    "import os\n",
    "import qualreas as qr\n",
    "import numpy as np"
   ]
  },
  {
   "cell_type": "code",
   "execution_count": 2,
   "metadata": {},
   "outputs": [],
   "source": [
    "path = os.path.join(os.getenv('PYPROJ'), 'qualreas')"
   ]
  },
  {
   "cell_type": "code",
   "execution_count": 3,
   "metadata": {},
   "outputs": [],
   "source": [
    "#pt_alg = qr.Algebra(os.path.join(path, \"Algebras/LinearPointAlgebra.json\"))\n",
    "#pt_alg = qr.Algebra(os.path.join(path, \"Algebras/RightBranchingPointAlgebra.json\"))\n",
    "pt_alg = qr.Algebra(os.path.join(path, \"Algebras/LeftBranchingPointAlgebra.json\"))"
   ]
  },
  {
   "cell_type": "markdown",
   "metadata": {},
   "source": [
    "## Create Algebra Elements using 4-Point Networks"
   ]
  },
  {
   "cell_type": "markdown",
   "metadata": {},
   "source": [
    "### Define 4-Point Network Generator"
   ]
  },
  {
   "cell_type": "code",
   "execution_count": 52,
   "metadata": {},
   "outputs": [],
   "source": [
    "class Four_Point(qr.Network):\n",
    "    \n",
    "    def __init__(self, algebra, name, lessthanstr, startname=\"StartPt\", endname=\"EndPt\"):\n",
    "        self.algebra = algebra\n",
    "        self.lessthan = algebra.relset(lessthanstr)\n",
    "        print(self.lessthan)\n",
    "        self.add_constraint(qr.TemporalEntity([\"Point\"], name=startname+\"1\"),\n",
    "                            qr.TemporalEntity([\"Point\"], name=endname+\"1\"),\n",
    "                            self.lessthan, verbose=False)\n",
    "        self.add_constraint(qr.TemporalEntity([\"Point\"], name=startname+\"2\"),\n",
    "                            qr.TemporalEntity([\"Point\"], name=endname+\"2\"),\n",
    "                            self.lessthan, verbose=False)\n",
    "        super().__init__(algebra, name)"
   ]
  },
  {
   "cell_type": "code",
   "execution_count": null,
   "metadata": {},
   "outputs": [],
   "source": []
  },
  {
   "cell_type": "code",
   "execution_count": 53,
   "metadata": {},
   "outputs": [
    {
     "name": "stdout",
     "output_type": "stream",
     "text": [
      "<\n"
     ]
    },
    {
     "ename": "AttributeError",
     "evalue": "'Four_Point' object has no attribute '_adj'",
     "output_type": "error",
     "traceback": [
      "\u001b[0;31m---------------------------------------------------------------------------\u001b[0m",
      "\u001b[0;31mAttributeError\u001b[0m                            Traceback (most recent call last)",
      "\u001b[0;32m<ipython-input-53-75616bd0af6e>\u001b[0m in \u001b[0;36m<module>\u001b[0;34m\u001b[0m\n\u001b[0;32m----> 1\u001b[0;31m \u001b[0mfoobar\u001b[0m \u001b[0;34m=\u001b[0m \u001b[0mFour_Point\u001b[0m\u001b[0;34m(\u001b[0m\u001b[0mpt_alg\u001b[0m\u001b[0;34m,\u001b[0m \u001b[0;34m\"Foobar\"\u001b[0m\u001b[0;34m,\u001b[0m \u001b[0;34m\"<\"\u001b[0m\u001b[0;34m)\u001b[0m\u001b[0;34m\u001b[0m\u001b[0;34m\u001b[0m\u001b[0m\n\u001b[0m\u001b[1;32m      2\u001b[0m \u001b[0mfoobar\u001b[0m\u001b[0;34m.\u001b[0m\u001b[0msummary\u001b[0m\u001b[0;34m(\u001b[0m\u001b[0;34m)\u001b[0m\u001b[0;34m\u001b[0m\u001b[0;34m\u001b[0m\u001b[0m\n",
      "\u001b[0;32m<ipython-input-52-b8b7f1d0aa1d>\u001b[0m in \u001b[0;36m__init__\u001b[0;34m(self, algebra, name, lessthanstr, startname, endname)\u001b[0m\n\u001b[1;32m      7\u001b[0m         self.add_constraint(qr.TemporalEntity([\"Point\"], name=startname+\"1\"),\n\u001b[1;32m      8\u001b[0m                             \u001b[0mqr\u001b[0m\u001b[0;34m.\u001b[0m\u001b[0mTemporalEntity\u001b[0m\u001b[0;34m(\u001b[0m\u001b[0;34m[\u001b[0m\u001b[0;34m\"Point\"\u001b[0m\u001b[0;34m]\u001b[0m\u001b[0;34m,\u001b[0m \u001b[0mname\u001b[0m\u001b[0;34m=\u001b[0m\u001b[0mendname\u001b[0m\u001b[0;34m+\u001b[0m\u001b[0;34m\"1\"\u001b[0m\u001b[0;34m)\u001b[0m\u001b[0;34m,\u001b[0m\u001b[0;34m\u001b[0m\u001b[0;34m\u001b[0m\u001b[0m\n\u001b[0;32m----> 9\u001b[0;31m                             self.lessthan, verbose=False)\n\u001b[0m\u001b[1;32m     10\u001b[0m         self.add_constraint(qr.TemporalEntity([\"Point\"], name=startname+\"2\"),\n\u001b[1;32m     11\u001b[0m                             \u001b[0mqr\u001b[0m\u001b[0;34m.\u001b[0m\u001b[0mTemporalEntity\u001b[0m\u001b[0;34m(\u001b[0m\u001b[0;34m[\u001b[0m\u001b[0;34m\"Point\"\u001b[0m\u001b[0;34m]\u001b[0m\u001b[0;34m,\u001b[0m \u001b[0mname\u001b[0m\u001b[0;34m=\u001b[0m\u001b[0mendname\u001b[0m\u001b[0;34m+\u001b[0m\u001b[0;34m\"2\"\u001b[0m\u001b[0;34m)\u001b[0m\u001b[0;34m,\u001b[0m\u001b[0;34m\u001b[0m\u001b[0;34m\u001b[0m\u001b[0m\n",
      "\u001b[0;32m~/Documents/Github/repo/qualreas/qualreas.py\u001b[0m in \u001b[0;36madd_constraint\u001b[0;34m(self, entity1, entity2, relation_set, verbose)\u001b[0m\n\u001b[1;32m    335\u001b[0m \u001b[0;34m\u001b[0m\u001b[0m\n\u001b[1;32m    336\u001b[0m         \u001b[0;31m# Each entity must equal itself\u001b[0m\u001b[0;34m\u001b[0m\u001b[0;34m\u001b[0m\u001b[0;34m\u001b[0m\u001b[0m\n\u001b[0;32m--> 337\u001b[0;31m         \u001b[0mself\u001b[0m\u001b[0;34m.\u001b[0m\u001b[0m__set_equality_constraint\u001b[0m\u001b[0;34m(\u001b[0m\u001b[0mentity1\u001b[0m\u001b[0;34m,\u001b[0m \u001b[0meq_rels1\u001b[0m\u001b[0;34m,\u001b[0m \u001b[0mverbose\u001b[0m\u001b[0;34m)\u001b[0m\u001b[0;34m\u001b[0m\u001b[0;34m\u001b[0m\u001b[0m\n\u001b[0m\u001b[1;32m    338\u001b[0m         \u001b[0mself\u001b[0m\u001b[0;34m.\u001b[0m\u001b[0m__set_equality_constraint\u001b[0m\u001b[0;34m(\u001b[0m\u001b[0mentity2\u001b[0m\u001b[0;34m,\u001b[0m \u001b[0meq_rels2\u001b[0m\u001b[0;34m,\u001b[0m \u001b[0mverbose\u001b[0m\u001b[0;34m)\u001b[0m\u001b[0;34m\u001b[0m\u001b[0;34m\u001b[0m\u001b[0m\n\u001b[1;32m    339\u001b[0m \u001b[0;34m\u001b[0m\u001b[0m\n",
      "\u001b[0;32m~/Documents/Github/repo/qualreas/qualreas.py\u001b[0m in \u001b[0;36m__set_equality_constraint\u001b[0;34m(self, entity, equality_rels, verbose)\u001b[0m\n\u001b[1;32m    309\u001b[0m \u001b[0;34m\u001b[0m\u001b[0m\n\u001b[1;32m    310\u001b[0m     \u001b[0;32mdef\u001b[0m \u001b[0m__set_equality_constraint\u001b[0m\u001b[0;34m(\u001b[0m\u001b[0mself\u001b[0m\u001b[0;34m,\u001b[0m \u001b[0mentity\u001b[0m\u001b[0;34m,\u001b[0m \u001b[0mequality_rels\u001b[0m\u001b[0;34m,\u001b[0m \u001b[0mverbose\u001b[0m\u001b[0;34m)\u001b[0m\u001b[0;34m:\u001b[0m\u001b[0;34m\u001b[0m\u001b[0;34m\u001b[0m\u001b[0m\n\u001b[0;32m--> 311\u001b[0;31m         \u001b[0;32mif\u001b[0m \u001b[0;32mnot\u001b[0m \u001b[0mself\u001b[0m\u001b[0;34m.\u001b[0m\u001b[0mhas_edge\u001b[0m\u001b[0;34m(\u001b[0m\u001b[0mentity\u001b[0m\u001b[0;34m,\u001b[0m \u001b[0mentity\u001b[0m\u001b[0;34m)\u001b[0m\u001b[0;34m:\u001b[0m\u001b[0;34m\u001b[0m\u001b[0;34m\u001b[0m\u001b[0m\n\u001b[0m\u001b[1;32m    312\u001b[0m             \u001b[0mself\u001b[0m\u001b[0;34m.\u001b[0m\u001b[0madd_edge\u001b[0m\u001b[0;34m(\u001b[0m\u001b[0mentity\u001b[0m\u001b[0;34m,\u001b[0m \u001b[0mentity\u001b[0m\u001b[0;34m,\u001b[0m \u001b[0mconstraint\u001b[0m\u001b[0;34m=\u001b[0m\u001b[0mequality_rels\u001b[0m\u001b[0;34m)\u001b[0m\u001b[0;34m\u001b[0m\u001b[0;34m\u001b[0m\u001b[0m\n\u001b[1;32m    313\u001b[0m             \u001b[0;32mif\u001b[0m \u001b[0mverbose\u001b[0m\u001b[0;34m:\u001b[0m\u001b[0;34m\u001b[0m\u001b[0;34m\u001b[0m\u001b[0m\n",
      "\u001b[0;32m~/anaconda3/lib/python3.7/site-packages/networkx/classes/graph.py\u001b[0m in \u001b[0;36mhas_edge\u001b[0;34m(self, u, v)\u001b[0m\n\u001b[1;32m   1192\u001b[0m         \"\"\"\n\u001b[1;32m   1193\u001b[0m         \u001b[0;32mtry\u001b[0m\u001b[0;34m:\u001b[0m\u001b[0;34m\u001b[0m\u001b[0;34m\u001b[0m\u001b[0m\n\u001b[0;32m-> 1194\u001b[0;31m             \u001b[0;32mreturn\u001b[0m \u001b[0mv\u001b[0m \u001b[0;32min\u001b[0m \u001b[0mself\u001b[0m\u001b[0;34m.\u001b[0m\u001b[0m_adj\u001b[0m\u001b[0;34m[\u001b[0m\u001b[0mu\u001b[0m\u001b[0;34m]\u001b[0m\u001b[0;34m\u001b[0m\u001b[0;34m\u001b[0m\u001b[0m\n\u001b[0m\u001b[1;32m   1195\u001b[0m         \u001b[0;32mexcept\u001b[0m \u001b[0mKeyError\u001b[0m\u001b[0;34m:\u001b[0m\u001b[0;34m\u001b[0m\u001b[0;34m\u001b[0m\u001b[0m\n\u001b[1;32m   1196\u001b[0m             \u001b[0;32mreturn\u001b[0m \u001b[0;32mFalse\u001b[0m\u001b[0;34m\u001b[0m\u001b[0;34m\u001b[0m\u001b[0m\n",
      "\u001b[0;31mAttributeError\u001b[0m: 'Four_Point' object has no attribute '_adj'"
     ]
    }
   ],
   "source": [
    "foobar = Four_Point(pt_alg, \"Foobar\", \"<\")\n",
    "foobar.summary()"
   ]
  },
  {
   "cell_type": "code",
   "execution_count": null,
   "metadata": {},
   "outputs": [],
   "source": []
  },
  {
   "cell_type": "code",
   "execution_count": 35,
   "metadata": {},
   "outputs": [],
   "source": [
    "def four_point_network(alg, lessthan_symbol, startname=\"StartPt\", endname=\"EndPt\",\n",
    "                       verbose=False):\n",
    "    '''Create four Temporal Entities that represent time points and use them\n",
    "    to express two independent intervals. For example, (s1,e1) and (s2,e2),\n",
    "    where s1 < e1 and s2 < e2, represents two proper intervals.  Using '<|='\n",
    "    instead of '<', would represent two intervals where one or both might\n",
    "    be points.  Return the network and the four temporal entities.'''\n",
    "    net = qr.Network(alg, \"Four Point Network\")\n",
    "    lessthan = alg.relset(lessthan_symbol)\n",
    "    # Start & End Points of Interval 1\n",
    "    start1 = qr.TemporalEntity([\"Point\"], name=startname+\"1\")\n",
    "    end1   = qr.TemporalEntity([\"Point\"], name=endname+\"1\")\n",
    "    # Start & End Points of Interval 2\n",
    "    start2 = qr.TemporalEntity([\"Point\"], name=startname+\"2\")\n",
    "    end2   = qr.TemporalEntity([\"Point\"], name=endname+\"2\")\n",
    "    net.add_constraint(start1, end1, lessthan, verbose)\n",
    "    net.add_constraint(start2, end2, lessthan, verbose)\n",
    "    entities = [start1, end1, start2, end2]\n",
    "    return net, entities\n",
    "\n",
    "def constraint_matrix_to_list(net, entities=None):\n",
    "    if not entities:\n",
    "        entities = net.nodes\n",
    "    result = []\n",
    "    for a in entities:\n",
    "        row = []\n",
    "        for b in entities:\n",
    "            row.append(str(net.edges[a, b]['constraint']))\n",
    "        result.append(row)\n",
    "    return result\n",
    "\n",
    "# Map 4-Point Network \"Signatures\" to Typical Names\n",
    "key_name_mapping = {\n",
    "    '<,<,<,<': 'B', '>,>,>,>': 'BI',\n",
    "    '>,<,>,<': 'D', '<,<,>,>': 'DI',\n",
    "    '=,<,>,=': 'E', '=,=,=,=': 'PE',\n",
    "    '>,<,>,=': 'F', '<,<,>,=': 'FI',\n",
    "    '<,<,=,<': 'M', '>,=,>,>': 'MI',\n",
    "    '<,<,>,<': 'O', '>,<,>,>': 'OI',\n",
    "    '=,<,>,<': 'S', '=,<,>,>': 'SI',\n",
    "    '>,=,>,=': 'PF', '<,<,=,=': 'PFI',\n",
    "    '=,<,=,<': 'PS', '=,=,>,>': 'PSI',\n",
    "    '<,<,>,r~': 'RO', '<,<,r~,r~': 'RB',\n",
    "    '=,<,>,r~': 'RS', '>,<,>,r~': 'ROI',\n",
    "    '>,r~,>,r~': 'RBI', 'r~,r~,r~,r~': 'R~',\n",
    "    'l~,<,>,<': 'LO', 'l~,<,>,=': 'LF',\n",
    "    'l~,<,>,>': 'LOI', 'l~,l~,>,>': 'LBI',\n",
    "    'l~,<,l~,<': 'LB', 'l~,l~,l~,l~': 'L~'\n",
    "}\n",
    "\n",
    "# Viewing the network as a matrix, 'elem13', below, refers to the element in row 1 col 3,\n",
    "# and so on for 'elem23', etc.  The matrix is 4x4, so if we partition it into four 2x2\n",
    "# matrices, then the two partiions on the diagonal represent two intervals and the two\n",
    "# off-diagonal partitions represent how those two intervals relate to each other.\n",
    "# Also, the off-diagonal 2x2 partitions are converse transposes of each other.\n",
    "# Oh, and the intervals represented by the diagonal partitions could be intervals,\n",
    "# proper intervals, or points.\n",
    "\n",
    "def generate_consistent_networks(alg, lessthan=\"<\", startname=\"StartPt\", endname=\"EndPt\",\n",
    "                                 verbose=False):\n",
    "    consistent_nets = dict()\n",
    "    for elem13 in alg.elements:\n",
    "        for elem23 in alg.elements:\n",
    "            for elem14 in alg.elements:\n",
    "                for elem24 in alg.elements:\n",
    "                    net, pts = four_point_network(alg, lessthan, startname, endname)\n",
    "                    pt1, pt2, pt3, pt4 = pts\n",
    "                    rs13 = alg.relset(elem13)\n",
    "                    rs23 = alg.relset(elem23)\n",
    "                    rs14 = alg.relset(elem14)\n",
    "                    rs24 = alg.relset(elem24)\n",
    "                    net.add_constraint(pt1, pt3, rs13)\n",
    "                    net.add_constraint(pt2, pt3, rs23)\n",
    "                    net.add_constraint(pt1, pt4, rs14)\n",
    "                    net.add_constraint(pt2, pt4, rs24)\n",
    "                    if net.propagate():\n",
    "                        elem_key = \",\".join([str(rs13), str(rs14), str(rs23), str(rs24)])\n",
    "                        consistent_nets[key_name_mapping[elem_key]] = net\n",
    "                        if verbose:\n",
    "                            print(\"==========================\")\n",
    "                            if elem_key in key_name_mapping:\n",
    "                                print(key_name_mapping[elem_key])\n",
    "                            else:\n",
    "                                print(\"UNKNOWN\")\n",
    "                            print(np.matrix(constraint_matrix_to_list(net, pts)))\n",
    "    print(f\"\\n{len(consistent_nets)} consistent networks\")\n",
    "    return consistent_nets"
   ]
  },
  {
   "cell_type": "markdown",
   "metadata": {},
   "source": [
    "### Generating a 4-Point Network that Represents 2 Intervals"
   ]
  },
  {
   "cell_type": "code",
   "execution_count": 36,
   "metadata": {},
   "outputs": [
    {
     "name": "stdout",
     "output_type": "stream",
     "text": [
      "\n",
      "Four Point Network: 4 nodes, 8 edges\n",
      "  Algebra: LeftBranchingPointAlgebra\n",
      "  StartPt1:\n",
      "    => StartPt1: =\n",
      "    => EndPt1: <|=\n",
      "  EndPt1:\n",
      "    => EndPt1: =\n",
      "    => StartPt1: =|>\n",
      "  StartPt2:\n",
      "    => StartPt2: =\n",
      "    => EndPt2: <|=\n",
      "  EndPt2:\n",
      "    => EndPt2: =\n",
      "    => StartPt2: =|>\n"
     ]
    }
   ],
   "source": [
    "net4pt, pts = four_point_network(pt_alg, \"=|<\")\n",
    "net4pt.summary()"
   ]
  },
  {
   "cell_type": "code",
   "execution_count": 13,
   "metadata": {},
   "outputs": [
    {
     "name": "stdout",
     "output_type": "stream",
     "text": [
      "<TemporalEntity StartPt1 ['Point']>\n",
      "<TemporalEntity EndPt1 ['Point']>\n",
      "<TemporalEntity StartPt2 ['Point']>\n",
      "<TemporalEntity EndPt2 ['Point']>\n"
     ]
    }
   ],
   "source": [
    "for pt in pts:\n",
    "    print(pt)"
   ]
  },
  {
   "cell_type": "markdown",
   "metadata": {},
   "source": [
    "## Derive Algebra Elements"
   ]
  },
  {
   "cell_type": "markdown",
   "metadata": {},
   "source": [
    "A 4-point network, like that generated above, only has constraints specified so that the first two points define an interval, and same for the second two points.  No constraints are specified between the two implied intervals (e.g., no constraint between StartPt1/EndPt1 and StartPt2/EndPt2).  Depending on which point algebra is used there are either 3^4 (81) or 4^4 (256) different ways the unassigned constraint pairs can be made.  The function,  <i>generate_consistent_networks</i> tries all of these possibilities and returns the ones that are consistent.  Doing this for the linear point algebra ('<', '=', '>') results in 13 consistent networks that correspond to Allen's Temporal Algebra of Proper Time Intervals.  Using ('<|=', '=', '>|=\") results in 18 consistent networks that are a superset of Allen's relations that includes 5 additional relations that integrate points into the algebra.  Using ('<|=', '=', '>|=', '~'), where '~' is either the left-incomparable or right-incomparable relation of the left- or right-branching time point algebra will result in 24 consistent networks that integrate points into a left- or right-branching time interval algebra."
   ]
  },
  {
   "cell_type": "code",
   "execution_count": 18,
   "metadata": {},
   "outputs": [
    {
     "name": "stdout",
     "output_type": "stream",
     "text": [
      "==========================\n",
      "B\n",
      "[['=' '<|=' '<' '<']\n",
      " ['=|>' '=' '<' '<']\n",
      " ['>' '>' '=' '<|=']\n",
      " ['>' '>' '=|>' '=']]\n",
      "==========================\n",
      "M\n",
      "[['=' '<' '<' '<']\n",
      " ['>' '=' '=' '<']\n",
      " ['>' '=' '=' '<']\n",
      " ['>' '>' '>' '=']]\n",
      "==========================\n",
      "PFI\n",
      "[['=' '<' '<' '<']\n",
      " ['>' '=' '=' '=']\n",
      " ['>' '=' '=' '=']\n",
      " ['>' '=' '=' '=']]\n",
      "==========================\n",
      "O\n",
      "[['=' '<' '<' '<']\n",
      " ['>' '=' '>' '<']\n",
      " ['>' '<' '=' '<']\n",
      " ['>' '>' '>' '=']]\n",
      "==========================\n",
      "FI\n",
      "[['=' '<' '<' '<']\n",
      " ['>' '=' '>' '=']\n",
      " ['>' '<' '=' '<']\n",
      " ['>' '=' '>' '=']]\n",
      "==========================\n",
      "DI\n",
      "[['=' '<' '<' '<']\n",
      " ['>' '=' '>' '>']\n",
      " ['>' '<' '=' '<|=']\n",
      " ['>' '<' '=|>' '=']]\n",
      "==========================\n",
      "PS\n",
      "[['=' '=' '=' '<']\n",
      " ['=' '=' '=' '<']\n",
      " ['=' '=' '=' '<']\n",
      " ['>' '>' '>' '=']]\n",
      "==========================\n",
      "PE\n",
      "[['=' '=' '=' '=']\n",
      " ['=' '=' '=' '=']\n",
      " ['=' '=' '=' '=']\n",
      " ['=' '=' '=' '=']]\n",
      "==========================\n",
      "S\n",
      "[['=' '<' '=' '<']\n",
      " ['>' '=' '>' '<']\n",
      " ['=' '<' '=' '<']\n",
      " ['>' '>' '>' '=']]\n",
      "==========================\n",
      "E\n",
      "[['=' '<' '=' '<']\n",
      " ['>' '=' '>' '=']\n",
      " ['=' '<' '=' '<']\n",
      " ['>' '=' '>' '=']]\n",
      "==========================\n",
      "SI\n",
      "[['=' '<' '=' '<']\n",
      " ['>' '=' '>' '>']\n",
      " ['=' '<' '=' '<']\n",
      " ['>' '<' '>' '=']]\n",
      "==========================\n",
      "PSI\n",
      "[['=' '<' '=' '=']\n",
      " ['>' '=' '>' '>']\n",
      " ['=' '<' '=' '=']\n",
      " ['=' '<' '=' '=']]\n",
      "==========================\n",
      "D\n",
      "[['=' '<|=' '>' '<']\n",
      " ['=|>' '=' '>' '<']\n",
      " ['<' '<' '=' '<']\n",
      " ['>' '>' '>' '=']]\n",
      "==========================\n",
      "F\n",
      "[['=' '<' '>' '<']\n",
      " ['>' '=' '>' '=']\n",
      " ['<' '<' '=' '<']\n",
      " ['>' '=' '>' '=']]\n",
      "==========================\n",
      "OI\n",
      "[['=' '<' '>' '<']\n",
      " ['>' '=' '>' '>']\n",
      " ['<' '<' '=' '<']\n",
      " ['>' '<' '>' '=']]\n",
      "==========================\n",
      "PF\n",
      "[['=' '=' '>' '=']\n",
      " ['=' '=' '>' '=']\n",
      " ['<' '<' '=' '<']\n",
      " ['=' '=' '>' '=']]\n",
      "==========================\n",
      "MI\n",
      "[['=' '<' '>' '=']\n",
      " ['>' '=' '>' '>']\n",
      " ['<' '<' '=' '<']\n",
      " ['=' '<' '>' '=']]\n",
      "==========================\n",
      "BI\n",
      "[['=' '<|=' '>' '>']\n",
      " ['=|>' '=' '>' '>']\n",
      " ['<' '<' '=' '<|=']\n",
      " ['<' '<' '=|>' '=']]\n",
      "==========================\n",
      "LO\n",
      "[['=' '<' 'l~' '<']\n",
      " ['>' '=' '>' '<']\n",
      " ['l~' '<' '=' '<']\n",
      " ['>' '>' '>' '=']]\n",
      "==========================\n",
      "LF\n",
      "[['=' '<' 'l~' '<']\n",
      " ['>' '=' '>' '=']\n",
      " ['l~' '<' '=' '<']\n",
      " ['>' '=' '>' '=']]\n",
      "==========================\n",
      "LOI\n",
      "[['=' '<' 'l~' '<']\n",
      " ['>' '=' '>' '>']\n",
      " ['l~' '<' '=' '<']\n",
      " ['>' '<' '>' '=']]\n",
      "==========================\n",
      "LBI\n",
      "[['=' '<' 'l~' 'l~']\n",
      " ['>' '=' '>' '>']\n",
      " ['l~' '<' '=' '<|=']\n",
      " ['l~' '<' '=|>' '=']]\n",
      "==========================\n",
      "LB\n",
      "[['=' '<|=' 'l~' '<']\n",
      " ['=|>' '=' 'l~' '<']\n",
      " ['l~' 'l~' '=' '<']\n",
      " ['>' '>' '>' '=']]\n",
      "==========================\n",
      "L~\n",
      "[['=' '<|=' 'l~' 'l~']\n",
      " ['=|>' '=' 'l~' 'l~']\n",
      " ['l~' 'l~' '=' '<|=']\n",
      " ['l~' 'l~' '=|>' '=']]\n",
      "\n",
      "24 consistent networks\n"
     ]
    }
   ],
   "source": [
    "consistent_nets = generate_consistent_networks(pt_alg, lessthan=\"=|<\", verbose=True)"
   ]
  },
  {
   "cell_type": "code",
   "execution_count": 19,
   "metadata": {},
   "outputs": [
    {
     "data": {
      "text/plain": [
       "{'B': <qualreas.Network at 0x7f9a6029d278>,\n",
       " 'M': <qualreas.Network at 0x7f9a6029d320>,\n",
       " 'PFI': <qualreas.Network at 0x7f9a6029d550>,\n",
       " 'O': <qualreas.Network at 0x7f9a81c22b00>,\n",
       " 'FI': <qualreas.Network at 0x7f9a81c9b630>,\n",
       " 'DI': <qualreas.Network at 0x7f9a81c8fda0>,\n",
       " 'PS': <qualreas.Network at 0x7f9a81c8f780>,\n",
       " 'PE': <qualreas.Network at 0x7f9a81c52940>,\n",
       " 'S': <qualreas.Network at 0x7f9a81c52ac8>,\n",
       " 'E': <qualreas.Network at 0x7f9a81c8f978>,\n",
       " 'SI': <qualreas.Network at 0x7f9a81c14e48>,\n",
       " 'PSI': <qualreas.Network at 0x7f9a6029dcf8>,\n",
       " 'D': <qualreas.Network at 0x7f9a81c22a90>,\n",
       " 'F': <qualreas.Network at 0x7f9a6029d978>,\n",
       " 'OI': <qualreas.Network at 0x7f9a6029d6a0>,\n",
       " 'PF': <qualreas.Network at 0x7f9a602b9780>,\n",
       " 'MI': <qualreas.Network at 0x7f9a602b95c0>,\n",
       " 'BI': <qualreas.Network at 0x7f9a602b9c88>,\n",
       " 'LO': <qualreas.Network at 0x7f9a81c67f28>,\n",
       " 'LF': <qualreas.Network at 0x7f9a81c6cb70>,\n",
       " 'LOI': <qualreas.Network at 0x7f9a602b9438>,\n",
       " 'LBI': <qualreas.Network at 0x7f9a602b9f28>,\n",
       " 'LB': <qualreas.Network at 0x7f9a602b99e8>,\n",
       " 'L~': <qualreas.Network at 0x7f9a602b9dd8>}"
      ]
     },
     "execution_count": 19,
     "metadata": {},
     "output_type": "execute_result"
    }
   ],
   "source": [
    "consistent_nets"
   ]
  },
  {
   "cell_type": "code",
   "execution_count": 20,
   "metadata": {},
   "outputs": [
    {
     "ename": "SyntaxError",
     "evalue": "unexpected EOF while parsing (<ipython-input-20-597988533393>, line 2)",
     "output_type": "error",
     "traceback": [
      "\u001b[0;36m  File \u001b[0;32m\"<ipython-input-20-597988533393>\"\u001b[0;36m, line \u001b[0;32m2\u001b[0m\n\u001b[0;31m    \u001b[0m\n\u001b[0m    ^\u001b[0m\n\u001b[0;31mSyntaxError\u001b[0m\u001b[0;31m:\u001b[0m unexpected EOF while parsing\n"
     ]
    }
   ],
   "source": [
    "def print_as_matrix(net, entities=None):\n",
    "    "
   ]
  },
  {
   "cell_type": "code",
   "execution_count": 21,
   "metadata": {},
   "outputs": [
    {
     "name": "stdout",
     "output_type": "stream",
     "text": [
      "[['=' '<|=' '<' '<']\n",
      " ['=|>' '=' '<' '<']\n",
      " ['>' '>' '=' '<|=']\n",
      " ['>' '>' '=|>' '=']]\n"
     ]
    }
   ],
   "source": [
    "before = consistent_nets['B']\n",
    "print(np.matrix(constraint_matrix_to_list(before)))"
   ]
  },
  {
   "cell_type": "code",
   "execution_count": null,
   "metadata": {},
   "outputs": [],
   "source": []
  },
  {
   "cell_type": "code",
   "execution_count": 22,
   "metadata": {},
   "outputs": [],
   "source": [
    "def ontology_classes(net, start, end):\n",
    "    \"\"\"The constraints between the start and end points of a temporal entity\n",
    "    determine whether it belongs to the class of Point, ProperIntervals, or\n",
    "    both.  Return a list containing the class names for the input network, net.\"\"\"\n",
    "    class_list = []\n",
    "    constr = net.edges[net.get_entity_by_name(start),\n",
    "                       net.get_entity_by_name(end)]['constraint']\n",
    "    if '=' in constr:\n",
    "        class_list.append('Point')\n",
    "    if '<' in constr:\n",
    "        class_list.append('ProperInterval')\n",
    "    return class_list\n",
    "\n",
    "def domain_and_range(four_point_network, startname=\"StartPt\", endname=\"EndPt\"):\n",
    "    \"\"\"Return a tuple, (domain, range), for the interval/point relation\n",
    "    represented by the input 4-point network.\"\"\"\n",
    "    return (ontology_classes(four_point_network, startname+\"1\", endname+\"1\"),\n",
    "            ontology_classes(four_point_network, startname+\"2\", endname+\"2\"))"
   ]
  },
  {
   "cell_type": "code",
   "execution_count": 23,
   "metadata": {},
   "outputs": [
    {
     "data": {
      "text/plain": [
       "(['Point'], ['ProperInterval'])"
      ]
     },
     "execution_count": 23,
     "metadata": {},
     "output_type": "execute_result"
    }
   ],
   "source": [
    "domain_and_range(consistent_nets['PS'])"
   ]
  },
  {
   "cell_type": "code",
   "execution_count": null,
   "metadata": {},
   "outputs": [],
   "source": []
  }
 ],
 "metadata": {
  "kernelspec": {
   "display_name": "Python 3",
   "language": "python",
   "name": "python3"
  },
  "language_info": {
   "codemirror_mode": {
    "name": "ipython",
    "version": 3
   },
   "file_extension": ".py",
   "mimetype": "text/x-python",
   "name": "python",
   "nbconvert_exporter": "python",
   "pygments_lexer": "ipython3",
   "version": "3.7.3"
  }
 },
 "nbformat": 4,
 "nbformat_minor": 2
}
