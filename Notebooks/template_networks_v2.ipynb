{
 "cells": [
  {
   "cell_type": "markdown",
   "metadata": {},
   "source": [
    "# Template Network Definitions"
   ]
  },
  {
   "cell_type": "markdown",
   "metadata": {},
   "source": [
    "<i>Version 2</i>"
   ]
  },
  {
   "cell_type": "markdown",
   "metadata": {},
   "source": [
    "## References"
   ]
  },
  {
   "cell_type": "markdown",
   "metadata": {},
   "source": [
    "1. [\"Maintaining Knowledge about Temporal Intervals\" by James F. Allen](https://cse.unl.edu/~choueiry/Documents/Allen-CACM1983.pdf) - Allen's original paper (PDF)\n",
    "1. [Allen's Interval Algebra](https://www.ics.uci.edu/~alspaugh/cls/shr/allen.html) or [here](https://thomasalspaugh.org/pub/fnd/allen.html) - summarizes Allen's algebra of proper time intervals\n",
    "1. [W3C Time Ontology in OWL](https://www.w3.org/TR/owl-time/) - temporal vocabulary used here is based on the W3C vocabulary of time\n",
    "1. [bitsets Python package](https://bitsets.readthedocs.io/en/stable/) - used to implement Algebra relation sets and operations\n",
    "1. [NetworkX Python package](http://networkx.github.io/) - used to represent directed graph of constraints\n",
    "1. [Python format string syntax](https://docs.python.org/3/library/string.html#format-string-syntax) - used in Algebra summary method\n",
    "1. [Spatial Ontology](https://www.w3.org/2017/sdwig/bp/) - I'm still looking for a standard spatial vocabulary; maybe start here\n",
    "1. [Qualitative Spatial Relations (QSR) Library](https://qsrlib.readthedocs.io/en/latest/index.html) - an alternative library to the one defined here"
   ]
  },
  {
   "cell_type": "markdown",
   "metadata": {},
   "source": [
    "## Dependencies"
   ]
  },
  {
   "cell_type": "code",
   "execution_count": 1,
   "metadata": {},
   "outputs": [],
   "source": [
    "import os\n",
    "import qualreas as qr\n",
    "import numpy as np"
   ]
  },
  {
   "cell_type": "code",
   "execution_count": 2,
   "metadata": {},
   "outputs": [],
   "source": [
    "path = os.path.join(os.getenv('PYPROJ'), 'qualreas')"
   ]
  },
  {
   "cell_type": "code",
   "execution_count": 3,
   "metadata": {},
   "outputs": [],
   "source": [
    "#pt_alg = qr.Algebra(os.path.join(path, \"Algebras/LinearPointAlgebra.json\"))\n",
    "#pt_alg = qr.Algebra(os.path.join(path, \"Algebras/RightBranchingPointAlgebra.json\"))\n",
    "pt_alg = qr.Algebra(os.path.join(path, \"Algebras/LeftBranchingPointAlgebra.json\"))"
   ]
  },
  {
   "cell_type": "markdown",
   "metadata": {},
   "source": [
    "## Create Algebra Elements using 4-Point Networks"
   ]
  },
  {
   "cell_type": "markdown",
   "metadata": {},
   "source": [
    "### Define 4-Point Network Generator"
   ]
  },
  {
   "cell_type": "raw",
   "metadata": {},
   "source": [
    "class Four_Point(qr.Network):\n",
    "    '''Create four Temporal Entities that represent time points and use them\n",
    "    to express two independent intervals. For example, (s1,e1) and (s2,e2),\n",
    "    where s1 < e1 and s2 < e2, represents two proper intervals.  Using '<|='\n",
    "    instead of '<', would represent two intervals where one or both might\n",
    "    be points.  Return the network and the four temporal entities.'''\n",
    "    \n",
    "    def __init__(self, algebra, name, lessthanstr, startname=\"StartPt\", endname=\"EndPt\"):\n",
    "        self.algebra = algebra\n",
    "        self.lessthan = algebra.relset(lessthanstr)\n",
    "        # Start & End Points of Interval 1\n",
    "        start1 = qr.TemporalEntity([\"Point\"], name=startname+\"1\")\n",
    "        end1   = qr.TemporalEntity([\"Point\"], name=endname+\"1\")\n",
    "        # Start & End Points of Interval 2\n",
    "        start2 = qr.TemporalEntity([\"Point\"], name=startname+\"2\")\n",
    "        end2   = qr.TemporalEntity([\"Point\"], name=endname+\"2\")\n",
    "        super().__init__(algebra, name)\n",
    "        self.add_constraint(start1, end1, self.lessthan, verbose=False)\n",
    "        self.add_constraint(start2, end2, self.lessthan, verbose=False)\n",
    "        \n",
    "    def get_points(self):\n",
    "        return [start1, end1, start2, end2]"
   ]
  },
  {
   "cell_type": "raw",
   "metadata": {},
   "source": [
    "def four_point_network(alg, lessthan_symbol, startname=\"StartPt\", endname=\"EndPt\",\n",
    "                       verbose=False):\n",
    "    '''Create four Temporal Entities that represent time points and use them\n",
    "    to express two independent intervals. For example, (s1,e1) and (s2,e2),\n",
    "    where s1 < e1 and s2 < e2, represents two proper intervals.  Using '<|='\n",
    "    instead of '<', would represent two intervals where one or both might\n",
    "    be points.  Return the network and the four temporal entities.'''\n",
    "    net = qr.Network(alg, \"Four Point Network\")\n",
    "    lessthan = alg.relset(lessthan_symbol)\n",
    "    # Start & End Points of Interval 1\n",
    "    start1 = qr.TemporalEntity([\"Point\"], name=startname+\"1\")\n",
    "    end1   = qr.TemporalEntity([\"Point\"], name=endname+\"1\")\n",
    "    # Start & End Points of Interval 2\n",
    "    start2 = qr.TemporalEntity([\"Point\"], name=startname+\"2\")\n",
    "    end2   = qr.TemporalEntity([\"Point\"], name=endname+\"2\")\n",
    "    net.add_constraint(start1, end1, lessthan, verbose)\n",
    "    net.add_constraint(start2, end2, lessthan, verbose)\n",
    "    entities = [start1, end1, start2, end2]\n",
    "    return net, entities"
   ]
  },
  {
   "cell_type": "raw",
   "metadata": {},
   "source": [
    "def constraint_matrix_to_list(net, entities=None):\n",
    "    if not entities:\n",
    "        entities = net.nodes\n",
    "    result = []\n",
    "    for a in entities:\n",
    "        row = []\n",
    "        for b in entities:\n",
    "            row.append(str(net.edges[a, b]['constraint']))\n",
    "        result.append(row)\n",
    "    return result"
   ]
  },
  {
   "cell_type": "raw",
   "metadata": {},
   "source": [
    "# Map 4-Point Network \"Signatures\" to Typical Names\n",
    "key_name_mapping = {\n",
    "    '<,<,<,<': 'B', '>,>,>,>': 'BI',\n",
    "    '>,<,>,<': 'D', '<,<,>,>': 'DI',\n",
    "    '=,<,>,=': 'E', '=,=,=,=': 'PE',\n",
    "    '>,<,>,=': 'F', '<,<,>,=': 'FI',\n",
    "    '<,<,=,<': 'M', '>,=,>,>': 'MI',\n",
    "    '<,<,>,<': 'O', '>,<,>,>': 'OI',\n",
    "    '=,<,>,<': 'S', '=,<,>,>': 'SI',\n",
    "    '>,=,>,=': 'PF', '<,<,=,=': 'PFI',\n",
    "    '=,<,=,<': 'PS', '=,=,>,>': 'PSI',\n",
    "    '<,<,>,r~': 'RO', '<,<,r~,r~': 'RB',\n",
    "    '=,<,>,r~': 'RS', '>,<,>,r~': 'ROI',\n",
    "    '>,r~,>,r~': 'RBI', 'r~,r~,r~,r~': 'R~',\n",
    "    'l~,<,>,<': 'LO', 'l~,<,>,=': 'LF',\n",
    "    'l~,<,>,>': 'LOI', 'l~,l~,>,>': 'LBI',\n",
    "    'l~,<,l~,<': 'LB', 'l~,l~,l~,l~': 'L~'\n",
    "}"
   ]
  },
  {
   "cell_type": "code",
   "execution_count": 5,
   "metadata": {},
   "outputs": [
    {
     "name": "stdout",
     "output_type": "stream",
     "text": [
      "\n",
      "Foobar: 4 nodes, 8 edges\n",
      "  Algebra: LeftBranchingPointAlgebra\n",
      "  StartPt1:\n",
      "    => StartPt1: =\n",
      "    => EndPt1: <|=\n",
      "  EndPt1:\n",
      "    => EndPt1: =\n",
      "    => StartPt1: =|>\n",
      "  StartPt2:\n",
      "    => StartPt2: =\n",
      "    => EndPt2: <|=\n",
      "  EndPt2:\n",
      "    => EndPt2: =\n",
      "    => StartPt2: =|>\n"
     ]
    }
   ],
   "source": [
    "foobar = qr.FourPoint(pt_alg, \"Foobar\", \"<|=\")\n",
    "foobar.summary()"
   ]
  },
  {
   "cell_type": "code",
   "execution_count": 19,
   "metadata": {},
   "outputs": [],
   "source": [
    "# Viewing the network as a matrix, 'elem13', below, refers to the element in row 1 col 3,\n",
    "# and so on for 'elem23', etc.  The matrix is 4x4, so if we partition it into four 2x2\n",
    "# matrices, then the two partiions on the diagonal represent two intervals and the two\n",
    "# off-diagonal partitions represent how those two intervals relate to each other.\n",
    "# Also, the off-diagonal 2x2 partitions are converse transposes of each other.\n",
    "# Oh, and the intervals represented by the diagonal partitions could be intervals,\n",
    "# proper intervals, or points.\n",
    "\n",
    "def generate_consistent_networks(alg, lessthan=\"<\", startname=\"StartPt\", endname=\"EndPt\",\n",
    "                                 verbose=False):\n",
    "    consistent_nets = dict()\n",
    "    for elem13 in alg.elements:\n",
    "        for elem23 in alg.elements:\n",
    "            for elem14 in alg.elements:\n",
    "                for elem24 in alg.elements:\n",
    "                    four_pt_net_name = elem13 + ',' + elem23 + ',' + elem14 + ',' + elem24\n",
    "                    #net, pts = four_point_network(alg, lessthan, startname, endname)\n",
    "                    net = qr.FourPoint(alg, four_pt_net_name, lessthan, startname, endname)\n",
    "                    #pt1, pt2, pt3, pt4 = pts\n",
    "                    pt1, pt2, pt3, pt4 = net.get_points()\n",
    "                    rs13 = alg.relset(elem13)\n",
    "                    rs23 = alg.relset(elem23)\n",
    "                    rs14 = alg.relset(elem14)\n",
    "                    rs24 = alg.relset(elem24)\n",
    "                    net.add_constraint(pt1, pt3, rs13)\n",
    "                    net.add_constraint(pt2, pt3, rs23)\n",
    "                    net.add_constraint(pt1, pt4, rs14)\n",
    "                    net.add_constraint(pt2, pt4, rs24)\n",
    "                    if net.propagate():\n",
    "                        elem_key = \",\".join([str(rs13), str(rs14), str(rs23), str(rs24)])\n",
    "                        consistent_nets[qr.key_name_mapping[elem_key]] = net\n",
    "                        if verbose:\n",
    "                            print(\"==========================\")\n",
    "                            if elem_key in qr.key_name_mapping:\n",
    "                                print(qr.key_name_mapping[elem_key])\n",
    "                            else:\n",
    "                                print(\"UNKNOWN\")\n",
    "                            #print(np.matrix(constraint_matrix_to_list(net, pts)))\n",
    "                            print(np.matrix(net.to_list()))\n",
    "    print(f\"\\n{len(consistent_nets)} consistent networks\")\n",
    "    return consistent_nets"
   ]
  },
  {
   "cell_type": "markdown",
   "metadata": {},
   "source": [
    "### Generating a 4-Point Network that Represents 2 Intervals"
   ]
  },
  {
   "cell_type": "code",
   "execution_count": 20,
   "metadata": {},
   "outputs": [
    {
     "name": "stdout",
     "output_type": "stream",
     "text": [
      "\n",
      "FourPointNetwork: 4 nodes, 8 edges\n",
      "  Algebra: LeftBranchingPointAlgebra\n",
      "  StartPt1:\n",
      "    => StartPt1: =\n",
      "    => EndPt1: <|=\n",
      "  EndPt1:\n",
      "    => EndPt1: =\n",
      "    => StartPt1: =|>\n",
      "  StartPt2:\n",
      "    => StartPt2: =\n",
      "    => EndPt2: <|=\n",
      "  EndPt2:\n",
      "    => EndPt2: =\n",
      "    => StartPt2: =|>\n"
     ]
    }
   ],
   "source": [
    "#net4pt = four_point_network(pt_alg, \"=|<\")\n",
    "net4pt = qr.FourPoint(pt_alg, \"FourPointNetwork\", \"=|<\")\n",
    "pts = net4pt.get_points()\n",
    "net4pt.summary()"
   ]
  },
  {
   "cell_type": "code",
   "execution_count": 21,
   "metadata": {},
   "outputs": [
    {
     "name": "stdout",
     "output_type": "stream",
     "text": [
      "<TemporalEntity StartPt1 ['Point']>\n",
      "<TemporalEntity EndPt1 ['Point']>\n",
      "<TemporalEntity StartPt2 ['Point']>\n",
      "<TemporalEntity EndPt2 ['Point']>\n"
     ]
    }
   ],
   "source": [
    "for pt in pts:\n",
    "    print(pt)"
   ]
  },
  {
   "cell_type": "markdown",
   "metadata": {},
   "source": [
    "## Derive Algebra Elements"
   ]
  },
  {
   "cell_type": "markdown",
   "metadata": {},
   "source": [
    "A 4-point network, like that generated above, only has constraints specified so that the first two points define an interval, and same for the second two points.  No constraints are specified between the two implied intervals (e.g., no constraint between StartPt1/EndPt1 and StartPt2/EndPt2).  Depending on which point algebra is used there are either 3^4 (81) or 4^4 (256) different ways the unassigned constraint pairs can be made.  The function,  <i>generate_consistent_networks</i> tries all of these possibilities and returns the ones that are consistent.  Doing this for the linear point algebra ('<', '=', '>') results in 13 consistent networks that correspond to Allen's Temporal Algebra of Proper Time Intervals.  Using ('<|=', '=', '>|=\") results in 18 consistent networks that are a superset of Allen's relations that includes 5 additional relations that integrate points into the algebra.  Using ('<|=', '=', '>|=', '~'), where '~' is either the left-incomparable or right-incomparable relation of the left- or right-branching time point algebra will result in 24 consistent networks that integrate points into a left- or right-branching time interval algebra."
   ]
  },
  {
   "cell_type": "code",
   "execution_count": 22,
   "metadata": {},
   "outputs": [
    {
     "name": "stdout",
     "output_type": "stream",
     "text": [
      "==========================\n",
      "B\n",
      "[['=' '<|=' '<' '<']\n",
      " ['=|>' '=' '<' '<']\n",
      " ['>' '>' '=' '<|=']\n",
      " ['>' '>' '=|>' '=']]\n",
      "==========================\n",
      "M\n",
      "[['=' '<' '<' '<']\n",
      " ['>' '=' '=' '<']\n",
      " ['>' '=' '=' '<']\n",
      " ['>' '>' '>' '=']]\n",
      "==========================\n",
      "PFI\n",
      "[['=' '<' '<' '<']\n",
      " ['>' '=' '=' '=']\n",
      " ['>' '=' '=' '=']\n",
      " ['>' '=' '=' '=']]\n",
      "==========================\n",
      "O\n",
      "[['=' '<' '<' '<']\n",
      " ['>' '=' '>' '<']\n",
      " ['>' '<' '=' '<']\n",
      " ['>' '>' '>' '=']]\n",
      "==========================\n",
      "FI\n",
      "[['=' '<' '<' '<']\n",
      " ['>' '=' '>' '=']\n",
      " ['>' '<' '=' '<']\n",
      " ['>' '=' '>' '=']]\n",
      "==========================\n",
      "DI\n",
      "[['=' '<' '<' '<']\n",
      " ['>' '=' '>' '>']\n",
      " ['>' '<' '=' '<|=']\n",
      " ['>' '<' '=|>' '=']]\n",
      "==========================\n",
      "PS\n",
      "[['=' '=' '=' '<']\n",
      " ['=' '=' '=' '<']\n",
      " ['=' '=' '=' '<']\n",
      " ['>' '>' '>' '=']]\n",
      "==========================\n",
      "PE\n",
      "[['=' '=' '=' '=']\n",
      " ['=' '=' '=' '=']\n",
      " ['=' '=' '=' '=']\n",
      " ['=' '=' '=' '=']]\n",
      "==========================\n",
      "S\n",
      "[['=' '<' '=' '<']\n",
      " ['>' '=' '>' '<']\n",
      " ['=' '<' '=' '<']\n",
      " ['>' '>' '>' '=']]\n",
      "==========================\n",
      "E\n",
      "[['=' '<' '=' '<']\n",
      " ['>' '=' '>' '=']\n",
      " ['=' '<' '=' '<']\n",
      " ['>' '=' '>' '=']]\n",
      "==========================\n",
      "SI\n",
      "[['=' '<' '=' '<']\n",
      " ['>' '=' '>' '>']\n",
      " ['=' '<' '=' '<']\n",
      " ['>' '<' '>' '=']]\n",
      "==========================\n",
      "PSI\n",
      "[['=' '<' '=' '=']\n",
      " ['>' '=' '>' '>']\n",
      " ['=' '<' '=' '=']\n",
      " ['=' '<' '=' '=']]\n",
      "==========================\n",
      "D\n",
      "[['=' '<|=' '>' '<']\n",
      " ['=|>' '=' '>' '<']\n",
      " ['<' '<' '=' '<']\n",
      " ['>' '>' '>' '=']]\n",
      "==========================\n",
      "F\n",
      "[['=' '<' '>' '<']\n",
      " ['>' '=' '>' '=']\n",
      " ['<' '<' '=' '<']\n",
      " ['>' '=' '>' '=']]\n",
      "==========================\n",
      "OI\n",
      "[['=' '<' '>' '<']\n",
      " ['>' '=' '>' '>']\n",
      " ['<' '<' '=' '<']\n",
      " ['>' '<' '>' '=']]\n",
      "==========================\n",
      "PF\n",
      "[['=' '=' '>' '=']\n",
      " ['=' '=' '>' '=']\n",
      " ['<' '<' '=' '<']\n",
      " ['=' '=' '>' '=']]\n",
      "==========================\n",
      "MI\n",
      "[['=' '<' '>' '=']\n",
      " ['>' '=' '>' '>']\n",
      " ['<' '<' '=' '<']\n",
      " ['=' '<' '>' '=']]\n",
      "==========================\n",
      "BI\n",
      "[['=' '<|=' '>' '>']\n",
      " ['=|>' '=' '>' '>']\n",
      " ['<' '<' '=' '<|=']\n",
      " ['<' '<' '=|>' '=']]\n",
      "==========================\n",
      "LO\n",
      "[['=' '<' 'l~' '<']\n",
      " ['>' '=' '>' '<']\n",
      " ['l~' '<' '=' '<']\n",
      " ['>' '>' '>' '=']]\n",
      "==========================\n",
      "LF\n",
      "[['=' '<' 'l~' '<']\n",
      " ['>' '=' '>' '=']\n",
      " ['l~' '<' '=' '<']\n",
      " ['>' '=' '>' '=']]\n",
      "==========================\n",
      "LOI\n",
      "[['=' '<' 'l~' '<']\n",
      " ['>' '=' '>' '>']\n",
      " ['l~' '<' '=' '<']\n",
      " ['>' '<' '>' '=']]\n",
      "==========================\n",
      "LBI\n",
      "[['=' '<' 'l~' 'l~']\n",
      " ['>' '=' '>' '>']\n",
      " ['l~' '<' '=' '<|=']\n",
      " ['l~' '<' '=|>' '=']]\n",
      "==========================\n",
      "LB\n",
      "[['=' '<|=' 'l~' '<']\n",
      " ['=|>' '=' 'l~' '<']\n",
      " ['l~' 'l~' '=' '<']\n",
      " ['>' '>' '>' '=']]\n",
      "==========================\n",
      "L~\n",
      "[['=' '<|=' 'l~' 'l~']\n",
      " ['=|>' '=' 'l~' 'l~']\n",
      " ['l~' 'l~' '=' '<|=']\n",
      " ['l~' 'l~' '=|>' '=']]\n",
      "\n",
      "24 consistent networks\n"
     ]
    }
   ],
   "source": [
    "consistent_nets = generate_consistent_networks(pt_alg, lessthan=\"=|<\", verbose=True)"
   ]
  },
  {
   "cell_type": "code",
   "execution_count": 23,
   "metadata": {},
   "outputs": [
    {
     "data": {
      "text/plain": [
       "{'B': <qualreas.FourPoint at 0x7f8d291eada0>,\n",
       " 'M': <qualreas.FourPoint at 0x7f8d1853d4a8>,\n",
       " 'PFI': <qualreas.FourPoint at 0x7f8d291e3160>,\n",
       " 'O': <qualreas.FourPoint at 0x7f8d386203c8>,\n",
       " 'FI': <qualreas.FourPoint at 0x7f8d18542dd8>,\n",
       " 'DI': <qualreas.FourPoint at 0x7f8d18542780>,\n",
       " 'PS': <qualreas.FourPoint at 0x7f8d38629f98>,\n",
       " 'PE': <qualreas.FourPoint at 0x7f8d3862af98>,\n",
       " 'S': <qualreas.FourPoint at 0x7f8d3862cf98>,\n",
       " 'E': <qualreas.FourPoint at 0x7f8d3862ceb8>,\n",
       " 'SI': <qualreas.FourPoint at 0x7f8d38630dd8>,\n",
       " 'PSI': <qualreas.FourPoint at 0x7f8d386357f0>,\n",
       " 'D': <qualreas.FourPoint at 0x7f8d3863ff98>,\n",
       " 'F': <qualreas.FourPoint at 0x7f8d38630eb8>,\n",
       " 'OI': <qualreas.FourPoint at 0x7f8d38641f28>,\n",
       " 'PF': <qualreas.FourPoint at 0x7f8d386436d8>,\n",
       " 'MI': <qualreas.FourPoint at 0x7f8d38643f28>,\n",
       " 'BI': <qualreas.FourPoint at 0x7f8d38649940>,\n",
       " 'LO': <qualreas.FourPoint at 0x7f8d38653fd0>,\n",
       " 'LF': <qualreas.FourPoint at 0x7f8d38643978>,\n",
       " 'LOI': <qualreas.FourPoint at 0x7f8d386575c0>,\n",
       " 'LBI': <qualreas.FourPoint at 0x7f8d3865acc0>,\n",
       " 'LB': <qualreas.FourPoint at 0x7f8d3865f3c8>,\n",
       " 'L~': <qualreas.FourPoint at 0x7f8d3865ff98>}"
      ]
     },
     "execution_count": 23,
     "metadata": {},
     "output_type": "execute_result"
    }
   ],
   "source": [
    "consistent_nets"
   ]
  },
  {
   "cell_type": "code",
   "execution_count": 25,
   "metadata": {},
   "outputs": [],
   "source": [
    "#def print_as_matrix(net, entities=None):\n",
    "    "
   ]
  },
  {
   "cell_type": "code",
   "execution_count": 27,
   "metadata": {},
   "outputs": [
    {
     "name": "stdout",
     "output_type": "stream",
     "text": [
      "[['=' '<|=' '<' '<']\n",
      " ['=|>' '=' '<' '<']\n",
      " ['>' '>' '=' '<|=']\n",
      " ['>' '>' '=|>' '=']]\n"
     ]
    }
   ],
   "source": [
    "before = consistent_nets['B']\n",
    "print(np.matrix(before.to_list()))"
   ]
  },
  {
   "cell_type": "code",
   "execution_count": null,
   "metadata": {},
   "outputs": [],
   "source": []
  },
  {
   "cell_type": "code",
   "execution_count": 28,
   "metadata": {},
   "outputs": [],
   "source": [
    "def ontology_classes(net, start, end):\n",
    "    \"\"\"The constraints between the start and end points of a temporal entity\n",
    "    determine whether it belongs to the class of Point, ProperIntervals, or\n",
    "    both.  Return a list containing the class names for the input network, net.\"\"\"\n",
    "    class_list = []\n",
    "    constr = net.edges[net.get_entity(start),\n",
    "                       net.get_entity(end)]['constraint']\n",
    "    if '=' in constr:\n",
    "        class_list.append('Point')\n",
    "    if '<' in constr:\n",
    "        class_list.append('ProperInterval')\n",
    "    return class_list\n",
    "\n",
    "def domain_and_range(four_point_network, startname=\"StartPt\", endname=\"EndPt\"):\n",
    "    \"\"\"Return a tuple, (domain, range), for the interval/point relation\n",
    "    represented by the input 4-point network.\"\"\"\n",
    "    return (ontology_classes(four_point_network, startname+\"1\", endname+\"1\"),\n",
    "            ontology_classes(four_point_network, startname+\"2\", endname+\"2\"))"
   ]
  },
  {
   "cell_type": "code",
   "execution_count": 34,
   "metadata": {},
   "outputs": [
    {
     "name": "stdout",
     "output_type": "stream",
     "text": [
      "B: (['Point', 'ProperInterval'], ['Point', 'ProperInterval'])\n",
      "M: (['ProperInterval'], ['ProperInterval'])\n",
      "PFI: (['ProperInterval'], ['Point'])\n",
      "O: (['ProperInterval'], ['ProperInterval'])\n",
      "FI: (['ProperInterval'], ['ProperInterval'])\n",
      "DI: (['ProperInterval'], ['Point', 'ProperInterval'])\n",
      "PS: (['Point'], ['ProperInterval'])\n",
      "PE: (['Point'], ['Point'])\n",
      "S: (['ProperInterval'], ['ProperInterval'])\n",
      "E: (['ProperInterval'], ['ProperInterval'])\n",
      "SI: (['ProperInterval'], ['ProperInterval'])\n",
      "PSI: (['ProperInterval'], ['Point'])\n",
      "D: (['Point', 'ProperInterval'], ['ProperInterval'])\n",
      "F: (['ProperInterval'], ['ProperInterval'])\n",
      "OI: (['ProperInterval'], ['ProperInterval'])\n",
      "PF: (['Point'], ['ProperInterval'])\n",
      "MI: (['ProperInterval'], ['ProperInterval'])\n",
      "BI: (['Point', 'ProperInterval'], ['Point', 'ProperInterval'])\n",
      "LO: (['ProperInterval'], ['ProperInterval'])\n",
      "LF: (['ProperInterval'], ['ProperInterval'])\n",
      "LOI: (['ProperInterval'], ['ProperInterval'])\n",
      "LBI: (['ProperInterval'], ['Point', 'ProperInterval'])\n",
      "LB: (['Point', 'ProperInterval'], ['ProperInterval'])\n",
      "L~: (['Point', 'ProperInterval'], ['Point', 'ProperInterval'])\n"
     ]
    }
   ],
   "source": [
    "for rel in consistent_nets:\n",
    "    print(f\"{rel}: {domain_and_range(consistent_nets[rel])}\")"
   ]
  },
  {
   "cell_type": "code",
   "execution_count": 38,
   "metadata": {},
   "outputs": [
    {
     "name": "stdout",
     "output_type": "stream",
     "text": [
      "B: <,<,<,<\n",
      "M: <,=,<,<\n",
      "PFI: <,=,<,=\n",
      "O: <,>,<,<\n",
      "FI: <,>,<,=\n",
      "DI: <,>,<,>\n",
      "PS: =,=,<,<\n",
      "PE: =,=,=,=\n",
      "S: =,>,<,<\n",
      "E: =,>,<,=\n",
      "SI: =,>,<,>\n",
      "PSI: =,>,=,>\n",
      "D: >,>,<,<\n",
      "F: >,>,<,=\n",
      "OI: >,>,<,>\n",
      "PF: >,>,=,=\n",
      "MI: >,>,=,>\n",
      "BI: >,>,>,>\n",
      "LO: l~,>,<,<\n",
      "LF: l~,>,<,=\n",
      "LOI: l~,>,<,>\n",
      "LBI: l~,>,l~,>\n",
      "LB: l~,l~,<,<\n",
      "L~: l~,l~,l~,l~\n"
     ]
    }
   ],
   "source": [
    "for rel in consistent_nets:\n",
    "    print(f\"{rel}: {consistent_nets[rel].name}\")"
   ]
  },
  {
   "cell_type": "code",
   "execution_count": null,
   "metadata": {},
   "outputs": [],
   "source": []
  }
 ],
 "metadata": {
  "kernelspec": {
   "display_name": "Python 3",
   "language": "python",
   "name": "python3"
  },
  "language_info": {
   "codemirror_mode": {
    "name": "ipython",
    "version": 3
   },
   "file_extension": ".py",
   "mimetype": "text/x-python",
   "name": "python",
   "nbconvert_exporter": "python",
   "pygments_lexer": "ipython3",
   "version": "3.7.3"
  }
 },
 "nbformat": 4,
 "nbformat_minor": 2
}
