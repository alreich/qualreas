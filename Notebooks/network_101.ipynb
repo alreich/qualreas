{
 "cells": [
  {
   "cell_type": "markdown",
   "metadata": {},
   "source": [
    "# QR Constraint Networks 101"
   ]
  },
  {
   "cell_type": "markdown",
   "metadata": {},
   "source": [
    "This notebook provides a brief example of how a constraint network can be:\n",
    "* represented in JSON\n",
    "* read-in from the JSON file to create a Network object\n",
    "* summarized\n",
    "* propagated\n",
    "\n",
    "The constraint algebra defined by the Region Connection Calculus 8 (RCC8) is used for this example.\n",
    "\n",
    "See the [Wikipedia webpage for RCC8](https://en.wikipedia.org/wiki/Region_connection_calculus)."
   ]
  },
  {
   "cell_type": "markdown",
   "metadata": {},
   "source": [
    "## Imports"
   ]
  },
  {
   "cell_type": "code",
   "execution_count": 1,
   "metadata": {},
   "outputs": [],
   "source": [
    "import qualreas as qr\n",
    "import os"
   ]
  },
  {
   "cell_type": "markdown",
   "metadata": {},
   "source": [
    "## Path to Network & Algebra"
   ]
  },
  {
   "cell_type": "markdown",
   "metadata": {},
   "source": [
    "Here an environment variable is used to provide a machine/OS-independent path to the top-level Qualitative Reasoning directory"
   ]
  },
  {
   "cell_type": "code",
   "execution_count": 2,
   "metadata": {},
   "outputs": [
    {
     "name": "stdout",
     "output_type": "stream",
     "text": [
      "/Users/alfredreich/Documents/Github/repo/qualreas\n"
     ]
    }
   ],
   "source": [
    "path = os.path.join(os.getenv('PYPROJ'), 'qualreas')\n",
    "print(path)"
   ]
  },
  {
   "cell_type": "markdown",
   "metadata": {},
   "source": [
    "Networks can be loaded from a custom JSON file."
   ]
  },
  {
   "cell_type": "code",
   "execution_count": 3,
   "metadata": {},
   "outputs": [
    {
     "name": "stdout",
     "output_type": "stream",
     "text": [
      "/Users/alfredreich/Documents/Github/repo/qualreas/Networks/rcc8_example.json\n"
     ]
    }
   ],
   "source": [
    "rcc8_file = path + \"/Networks/rcc8_example.json\"\n",
    "print(rcc8_file)"
   ]
  },
  {
   "cell_type": "markdown",
   "metadata": {},
   "source": [
    "The algebra used by a network is only specified by file name in the network's JSON file, so we need to provide the path (directory) to the file."
   ]
  },
  {
   "cell_type": "code",
   "execution_count": 4,
   "metadata": {},
   "outputs": [
    {
     "name": "stdout",
     "output_type": "stream",
     "text": [
      "/Users/alfredreich/Documents/Github/repo/qualreas/Algebras/\n"
     ]
    }
   ],
   "source": [
    "alg_dir = path + \"/Algebras/\"\n",
    "print(alg_dir)"
   ]
  },
  {
   "cell_type": "markdown",
   "metadata": {},
   "source": [
    "## Constraint Network in JSON Format"
   ]
  },
  {
   "cell_type": "markdown",
   "metadata": {},
   "source": [
    "Here's what a network looks like in JSON format.\n",
    "\n",
    "A node is represented as a list of two things:\n",
    "* Node ID\n",
    "* List of ontology classes the node belongs to\n",
    "\n",
    "An edge is represented as a list of three things, representing a directed edge with a \"label\":\n",
    "* Head Node ID\n",
    "* Target Node ID\n",
    "* Constraint\n",
    "\n",
    "Two Things to Note:\n",
    "1. The Wikipedia page on RCC8 represents disjunctions of constraints as sets, {DC, EC}, whereas QR represents this with the string \"DC|EC\".\n",
    "1. Constraints can be abbreviated using a dictionary of abbreviations.  For example, below, the constraint \"DC|EC\" is abbreviated as \"dec\".\n",
    "1. No constraints are given for the Road-to-Property1 or Road-to-Property2 edges.  The meaning then is that all RCC8 relations are possible for those two edges.  This can be seen in the first summary of the network farther below."
   ]
  },
  {
   "cell_type": "code",
   "execution_count": 5,
   "metadata": {},
   "outputs": [
    {
     "name": "stdout",
     "output_type": "stream",
     "text": [
      "{\r\n",
      "    \"name\": \"RCC8 Example 1\",\r\n",
      "    \"algebra\": \"RCC8_Algebra\",\r\n",
      "    \"abbreviations\": {\"dec\": \"DC|EC\"},\r\n",
      "    \"description\": \"See https://en.wikipedia.org/wiki/Region_connection_calculus#Examples\",\r\n",
      "    \"nodes\": [\r\n",
      "        [\"House1\", [\"Region\"]],\r\n",
      "        [\"House2\", [\"Region\"]],\r\n",
      "        [\"Property1\", [\"Region\"]],\r\n",
      "        [\"Property2\", [\"Region\"]],\r\n",
      "        [\"Road\", [\"Region\"]]\r\n",
      "    ],\r\n",
      "    \"edges\": [\r\n",
      "        [\"House1\", \"House2\", \"DC\"],\r\n",
      "        [\"House1\", \"Property1\", \"TPP|NTPP\"],\r\n",
      "        [\"House1\", \"Property2\", \"dec\"],\r\n",
      "        [\"House1\", \"Road\", \"EC\"],\r\n",
      "        [\"House2\", \"Property1\", \"dec\"],\r\n",
      "        [\"House2\", \"Property2\", \"NTPP\"],\r\n",
      "        [\"House2\", \"Road\", \"EC\"],\r\n",
      "        [\"Property1\", \"Property2\", \"dec\"],\r\n",
      "        [\"Road\", \"Property1\"],\r\n",
      "        [\"Road\", \"Property2\"]\r\n",
      "    ]\r\n",
      "}"
     ]
    }
   ],
   "source": [
    "!cat {rcc8_file}"
   ]
  },
  {
   "cell_type": "markdown",
   "metadata": {},
   "source": [
    "## Load the Constraint Network"
   ]
  },
  {
   "cell_type": "code",
   "execution_count": 6,
   "metadata": {},
   "outputs": [
    {
     "name": "stdout",
     "output_type": "stream",
     "text": [
      "<Network--RCC8 Example 1--RCC8_Algebra>\n"
     ]
    }
   ],
   "source": [
    "rcc8_net = qr.Network(algebra_path=alg_dir, json_file_name=rcc8_file)\n",
    "\n",
    "print(rcc8_net)"
   ]
  },
  {
   "cell_type": "markdown",
   "metadata": {},
   "source": [
    "## Summarize the Network"
   ]
  },
  {
   "cell_type": "markdown",
   "metadata": {},
   "source": [
    "This network is an example on the Wikipedia page for RCC8 (see \"description\" field, above).\n",
    "\n",
    "Here's a summary of the network just loaded in.\n",
    "\n",
    "The format is:\n",
    "* Network Name: Number of Nodes, Number of Edges\n",
    "* Algebra Name\n",
    "* Head Node ID 1:\n",
    "    * => Tail Node ID 1: Constraint 1\n",
    "    * => Tail Node ID 2: Constraint 2\n",
    "    * ...\n",
    "* and so on ..."
   ]
  },
  {
   "cell_type": "code",
   "execution_count": 7,
   "metadata": {},
   "outputs": [
    {
     "name": "stdout",
     "output_type": "stream",
     "text": [
      "\n",
      "RCC8 Example 1: 5 nodes, 25 edges\n",
      "  Algebra: RCC8_Algebra\n",
      "  House1:\n",
      "    => House1: EQ\n",
      "    => House2: DC\n",
      "    => Property1: NTPP|TPP\n",
      "    => Property2: DC|EC\n",
      "    => Road: EC\n",
      "  House2:\n",
      "    => House2: EQ\n",
      "    => House1: DC\n",
      "    => Property1: DC|EC\n",
      "    => Property2: NTPP\n",
      "    => Road: EC\n",
      "  Property1:\n",
      "    => Property1: EQ\n",
      "    => House1: NTPPI|TPPI\n",
      "    => House2: DC|EC\n",
      "    => Property2: DC|EC\n",
      "    => Road: DC|EC|EQ|NTPP|NTPPI|PO|TPP|TPPI\n",
      "  Property2:\n",
      "    => Property2: EQ\n",
      "    => House1: DC|EC\n",
      "    => House2: NTPPI\n",
      "    => Property1: DC|EC\n",
      "    => Road: DC|EC|EQ|NTPP|NTPPI|PO|TPP|TPPI\n",
      "  Road:\n",
      "    => Road: EQ\n",
      "    => House1: EC\n",
      "    => House2: EC\n",
      "    => Property1: DC|EC|EQ|NTPP|NTPPI|PO|TPP|TPPI\n",
      "    => Property2: DC|EC|EQ|NTPP|NTPPI|PO|TPP|TPPI\n"
     ]
    }
   ],
   "source": [
    "rcc8_net.summary()"
   ]
  },
  {
   "cell_type": "markdown",
   "metadata": {},
   "source": [
    "## Perform Constraint Propagation"
   ]
  },
  {
   "cell_type": "markdown",
   "metadata": {},
   "source": [
    "After propagation, note the change in the constraints between the Road and the two Properties."
   ]
  },
  {
   "cell_type": "code",
   "execution_count": 8,
   "metadata": {},
   "outputs": [
    {
     "name": "stdout",
     "output_type": "stream",
     "text": [
      "\n",
      "RCC8 Example 1: 5 nodes, 25 edges\n",
      "  Algebra: RCC8_Algebra\n",
      "  House1:\n",
      "    => House1: EQ\n",
      "    => House2: DC\n",
      "    => Property1: NTPP|TPP\n",
      "    => Property2: DC|EC\n",
      "    => Road: EC\n",
      "  House2:\n",
      "    => House2: EQ\n",
      "    => House1: DC\n",
      "    => Property1: DC\n",
      "    => Property2: NTPP\n",
      "    => Road: EC\n",
      "  Property1:\n",
      "    => Property1: EQ\n",
      "    => House1: NTPPI|TPPI\n",
      "    => House2: DC\n",
      "    => Property2: DC|EC\n",
      "    => Road: EC|PO\n",
      "  Property2:\n",
      "    => Property2: EQ\n",
      "    => House1: DC|EC\n",
      "    => House2: NTPPI\n",
      "    => Property1: DC|EC\n",
      "    => Road: PO|TPPI\n",
      "  Road:\n",
      "    => Road: EQ\n",
      "    => House1: EC\n",
      "    => House2: EC\n",
      "    => Property1: EC|PO\n",
      "    => Property2: PO|TPP\n"
     ]
    }
   ],
   "source": [
    "rcc8_net.propagate()\n",
    "rcc8_net.summary()"
   ]
  },
  {
   "cell_type": "markdown",
   "metadata": {},
   "source": [
    "## Other Things We Can Do With Networks"
   ]
  },
  {
   "cell_type": "markdown",
   "metadata": {},
   "source": [
    "### Get Entity by Name"
   ]
  },
  {
   "cell_type": "code",
   "execution_count": 9,
   "metadata": {},
   "outputs": [
    {
     "data": {
      "text/plain": [
       "SpatialObject(['Region'] 'House1')"
      ]
     },
     "execution_count": 9,
     "metadata": {},
     "output_type": "execute_result"
    }
   ],
   "source": [
    "entity = rcc8_net.get_entity_by_name(\"House1\")\n",
    "entity"
   ]
  },
  {
   "cell_type": "code",
   "execution_count": 10,
   "metadata": {},
   "outputs": [
    {
     "data": {
      "text/plain": [
       "'House1'"
      ]
     },
     "execution_count": 10,
     "metadata": {},
     "output_type": "execute_result"
    }
   ],
   "source": [
    "entity.name"
   ]
  },
  {
   "cell_type": "code",
   "execution_count": 11,
   "metadata": {},
   "outputs": [
    {
     "data": {
      "text/plain": [
       "['Region']"
      ]
     },
     "execution_count": 11,
     "metadata": {},
     "output_type": "execute_result"
    }
   ],
   "source": [
    "entity.classes"
   ]
  },
  {
   "cell_type": "markdown",
   "metadata": {},
   "source": [
    "### Get Edge by Head/Tail Names"
   ]
  },
  {
   "cell_type": "code",
   "execution_count": 12,
   "metadata": {},
   "outputs": [
    {
     "data": {
      "text/plain": [
       "('Property1', 'Road', 'EC|PO')"
      ]
     },
     "execution_count": 12,
     "metadata": {},
     "output_type": "execute_result"
    }
   ],
   "source": [
    "edge = rcc8_net.get_edge_by_names(\"Property1\", \"Road\")\n",
    "edge"
   ]
  },
  {
   "cell_type": "code",
   "execution_count": 13,
   "metadata": {},
   "outputs": [
    {
     "data": {
      "text/plain": [
       "'EC|PO'"
      ]
     },
     "execution_count": 13,
     "metadata": {},
     "output_type": "execute_result"
    }
   ],
   "source": [
    "edge[2]  # It's just a list, so use square brackets to obtain items in it"
   ]
  },
  {
   "cell_type": "markdown",
   "metadata": {},
   "source": [
    "### Network to Dictionary"
   ]
  },
  {
   "cell_type": "code",
   "execution_count": 14,
   "metadata": {},
   "outputs": [
    {
     "data": {
      "text/plain": [
       "{'name': 'RCC8 Example 1',\n",
       " 'algebra': 'RCC8_Algebra',\n",
       " 'description': 'See https://en.wikipedia.org/wiki/Region_connection_calculus#Examples',\n",
       " 'nodes': [['House1', ['Region']],\n",
       "  ['House2', ['Region']],\n",
       "  ['Property1', ['Region']],\n",
       "  ['Property2', ['Region']],\n",
       "  ['Road', ['Region']]],\n",
       " 'edges': [['House1', 'House2', 'DC'],\n",
       "  ['House1', 'Property1', 'NTPP|TPP'],\n",
       "  ['House1', 'Property2', 'DC|EC'],\n",
       "  ['House1', 'Road', 'EC'],\n",
       "  ['House2', 'Property1', 'DC'],\n",
       "  ['House2', 'Property2', 'NTPP'],\n",
       "  ['House2', 'Road', 'EC'],\n",
       "  ['Property1', 'Property2', 'DC|EC'],\n",
       "  ['Property1', 'Road', 'EC|PO'],\n",
       "  ['Property2', 'Road', 'PO|TPPI']]}"
      ]
     },
     "execution_count": 14,
     "metadata": {},
     "output_type": "execute_result"
    }
   ],
   "source": [
    "rcc8_net_dict = rcc8_net.to_dict()\n",
    "\n",
    "rcc8_net_dict"
   ]
  },
  {
   "cell_type": "markdown",
   "metadata": {},
   "source": [
    "### Dictionary to Network"
   ]
  },
  {
   "cell_type": "code",
   "execution_count": 15,
   "metadata": {},
   "outputs": [
    {
     "name": "stdout",
     "output_type": "stream",
     "text": [
      "<Network--RCC8 Example 1--RCC8_Algebra>\n",
      "\n",
      "RCC8 Example 1: 5 nodes, 25 edges\n",
      "  Algebra: RCC8_Algebra\n",
      "  House1:\n",
      "    => House1: EQ\n",
      "    => House2: DC\n",
      "    => Property1: NTPP|TPP\n",
      "    => Property2: DC|EC\n",
      "    => Road: EC\n",
      "  House2:\n",
      "    => House2: EQ\n",
      "    => House1: DC\n",
      "    => Property1: DC\n",
      "    => Property2: NTPP\n",
      "    => Road: EC\n",
      "  Property1:\n",
      "    => Property1: EQ\n",
      "    => House1: NTPPI|TPPI\n",
      "    => House2: DC\n",
      "    => Property2: DC|EC\n",
      "    => Road: EC|PO\n",
      "  Property2:\n",
      "    => Property2: EQ\n",
      "    => House1: DC|EC\n",
      "    => House2: NTPPI\n",
      "    => Property1: DC|EC\n",
      "    => Road: PO|TPPI\n",
      "  Road:\n",
      "    => Road: EQ\n",
      "    => House1: EC\n",
      "    => House2: EC\n",
      "    => Property1: EC|PO\n",
      "    => Property2: PO|TPP\n"
     ]
    }
   ],
   "source": [
    "rcc8_net_from_dict = qr.Network(algebra_path=alg_dir, network_dict=rcc8_net_dict)\n",
    "\n",
    "print(rcc8_net_from_dict)\n",
    "\n",
    "rcc8_net_from_dict.summary()"
   ]
  },
  {
   "cell_type": "markdown",
   "metadata": {},
   "source": [
    "### Another Dictionary to Network Example"
   ]
  },
  {
   "cell_type": "markdown",
   "metadata": {},
   "source": [
    "Here we'll use the <b>Extended_Linear_Interval_Algebra</b>, that integrates proper time intervals (Allen's algebra) with time points.\n",
    "\n",
    "The relation, \"PF\", is \"PointFinishes\", \"PS\" is \"PointStarts\", and \"PE\" is \"PointEquals\".\n",
    "\n",
    "For example,\n",
    "* <i>MondayMidnight PF Monday</i>\n",
    "* <i>MondayMidnight PS Tuesday</i>\n",
    "* <i>MondayMidnight PE MondayMidnight</i>"
   ]
  },
  {
   "cell_type": "code",
   "execution_count": 22,
   "metadata": {},
   "outputs": [],
   "source": [
    "allen_net_dict = {\n",
    "    'name': 'Allen Algebra Network',\n",
    "    'algebra': 'Extended_Linear_Interval_Algebra',\n",
    "    'description': 'A network based on Allen\\'s algebra of proper intervals',\n",
    "    'nodes': [\n",
    "        ['Monday', ['ProperInterval']],\n",
    "        ['MondayMidnight', ['Point']],\n",
    "        ['Tuesday', ['ProperInterval']],\n",
    "        ['MondayPM', ['ProperInterval']]\n",
    "    ],\n",
    "    'edges': [\n",
    "        ['Monday', 'Tuesday', 'M'],\n",
    "        ['MondayMidnight', 'Monday', 'PF'],\n",
    "        ['MondayPM', 'Monday', 'F']\n",
    "    ]\n",
    "}"
   ]
  },
  {
   "cell_type": "code",
   "execution_count": 23,
   "metadata": {},
   "outputs": [
    {
     "name": "stdout",
     "output_type": "stream",
     "text": [
      "A network based on Allen's algebra of proper intervals\n",
      "\n",
      "Allen Algebra Network: 4 nodes, 10 edges\n",
      "  Algebra: Extended_Linear_Interval_Algebra\n",
      "  Monday:\n",
      "    => Monday: E\n",
      "    => Tuesday: M\n",
      "    => MondayMidnight: PFI\n",
      "    => MondayPM: FI\n",
      "  Tuesday:\n",
      "    => Tuesday: E\n",
      "    => Monday: MI\n",
      "  MondayMidnight:\n",
      "    => MondayMidnight: PE\n",
      "    => Monday: PF\n",
      "  MondayPM:\n",
      "    => MondayPM: E\n",
      "    => Monday: F\n"
     ]
    }
   ],
   "source": [
    "allen_net = qr.Network(algebra_path=alg_dir, network_dict=allen_net_dict)\n",
    "\n",
    "print(allen_net.description)\n",
    "\n",
    "allen_net.summary()"
   ]
  },
  {
   "cell_type": "code",
   "execution_count": 24,
   "metadata": {},
   "outputs": [
    {
     "name": "stdout",
     "output_type": "stream",
     "text": [
      "\n",
      "Allen Algebra Network: 4 nodes, 16 edges\n",
      "  Algebra: Extended_Linear_Interval_Algebra\n",
      "  Monday:\n",
      "    => Monday: E\n",
      "    => Tuesday: M\n",
      "    => MondayMidnight: PFI\n",
      "    => MondayPM: FI\n",
      "  Tuesday:\n",
      "    => Tuesday: E\n",
      "    => Monday: MI\n",
      "    => MondayMidnight: PSI\n",
      "    => MondayPM: MI\n",
      "  MondayMidnight:\n",
      "    => MondayMidnight: PE\n",
      "    => Monday: PF\n",
      "    => Tuesday: PS\n",
      "    => MondayPM: PF\n",
      "  MondayPM:\n",
      "    => MondayPM: E\n",
      "    => Monday: F\n",
      "    => Tuesday: M\n",
      "    => MondayMidnight: PFI\n"
     ]
    }
   ],
   "source": [
    "allen_net.propagate()\n",
    "allen_net.summary()"
   ]
  },
  {
   "cell_type": "code",
   "execution_count": null,
   "metadata": {},
   "outputs": [],
   "source": []
  }
 ],
 "metadata": {
  "kernelspec": {
   "display_name": "Python 3",
   "language": "python",
   "name": "python3"
  },
  "language_info": {
   "codemirror_mode": {
    "name": "ipython",
    "version": 3
   },
   "file_extension": ".py",
   "mimetype": "text/x-python",
   "name": "python",
   "nbconvert_exporter": "python",
   "pygments_lexer": "ipython3",
   "version": "3.7.7"
  }
 },
 "nbformat": 4,
 "nbformat_minor": 4
}
