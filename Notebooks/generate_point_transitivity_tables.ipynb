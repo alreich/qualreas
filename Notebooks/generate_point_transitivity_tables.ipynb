{
 "cells": [
  {
   "cell_type": "markdown",
   "id": "c6839eb9",
   "metadata": {},
   "source": [
    "# Generating Point Transitivity Tables & Point Algebras"
   ]
  },
  {
   "cell_type": "markdown",
   "id": "40b73314",
   "metadata": {},
   "source": [
    "## Transitivity Table for Linear Time Point Relations"
   ]
  },
  {
   "cell_type": "markdown",
   "id": "9fda1b2b",
   "metadata": {},
   "source": [
    "The following code produces the transitivity table in <b>Figure 5 of Reich's 1994 paper</b>, <i>\"Intervals, Points, and Branching Time\"</i>:"
   ]
  },
  {
   "cell_type": "code",
   "execution_count": 2,
   "id": "d6819a73",
   "metadata": {},
   "outputs": [],
   "source": [
    "rels = [\"<\", \"=\", \">\"]"
   ]
  },
  {
   "cell_type": "code",
   "execution_count": 3,
   "id": "aa11d02d",
   "metadata": {},
   "outputs": [],
   "source": [
    "def rel(x, y):\n",
    "    \"\"\"Return the relation between x and y.\"\"\"\n",
    "    if x < y:\n",
    "        return \"<\"\n",
    "    elif x > y:\n",
    "        return \">\"\n",
    "    else:\n",
    "        return \"=\""
   ]
  },
  {
   "cell_type": "markdown",
   "id": "dc2254ce",
   "metadata": {},
   "source": [
    "Initialize an empty table:"
   ]
  },
  {
   "cell_type": "code",
   "execution_count": 4,
   "id": "c6c87416",
   "metadata": {},
   "outputs": [],
   "source": [
    "def create_initial_table(relations):\n",
    "    table = dict()\n",
    "    for rel1 in relations:\n",
    "        table[rel1] = dict()\n",
    "        for rel2 in relations:\n",
    "            table[rel1][rel2] = set()\n",
    "    return table"
   ]
  },
  {
   "cell_type": "code",
   "execution_count": 5,
   "id": "179b3551",
   "metadata": {},
   "outputs": [
    {
     "data": {
      "text/plain": [
       "{'<': {'<': set(), '=': set(), '>': set()},\n",
       " '=': {'<': set(), '=': set(), '>': set()},\n",
       " '>': {'<': set(), '=': set(), '>': set()}}"
      ]
     },
     "execution_count": 5,
     "metadata": {},
     "output_type": "execute_result"
    }
   ],
   "source": [
    "fig5 = create_initial_table(rels)\n",
    "\n",
    "fig5"
   ]
  },
  {
   "cell_type": "markdown",
   "id": "123e51e9",
   "metadata": {},
   "source": [
    "Here, we use the integers on the number line as surrogates for time points, and then collect an exhaustive set of transitivity relations for three integers, a, b, & c."
   ]
  },
  {
   "cell_type": "markdown",
   "id": "d5d49b48",
   "metadata": {},
   "source": [
    "First, we choose the number, <b>n</b>, of values that each of the three integers will range over. Actually, n=3 appears to work in this case, but to be sure, we'll use a larger value."
   ]
  },
  {
   "cell_type": "code",
   "execution_count": 6,
   "id": "f461fb2d",
   "metadata": {},
   "outputs": [],
   "source": [
    "n = 7"
   ]
  },
  {
   "cell_type": "markdown",
   "id": "a6c6e6e7",
   "metadata": {},
   "source": [
    "The 2-dimensional table, <b>fig5</b> below, produced by this \"brute force\" process is identical to that found in Figure 5 of [Reich, 1994]:"
   ]
  },
  {
   "cell_type": "code",
   "execution_count": 7,
   "id": "0a758c14",
   "metadata": {},
   "outputs": [
    {
     "data": {
      "text/plain": [
       "{'<': {'<': {'<'}, '=': {'<'}, '>': {'<', '=', '>'}},\n",
       " '=': {'<': {'<'}, '=': {'='}, '>': {'>'}},\n",
       " '>': {'<': {'<', '=', '>'}, '=': {'>'}, '>': {'>'}}}"
      ]
     },
     "execution_count": 7,
     "metadata": {},
     "output_type": "execute_result"
    }
   ],
   "source": [
    "for a in range(0, n):\n",
    "    for b in range(0, n):\n",
    "        for c in range(0, n):\n",
    "            # Add transitive relation to table\n",
    "            fig5[rel(a, b)][rel(b, c)].add(rel(a, c))\n",
    "\n",
    "fig5"
   ]
  },
  {
   "cell_type": "markdown",
   "id": "b696ea73",
   "metadata": {},
   "source": [
    "## Create Linear Point Algebra from Generated Table"
   ]
  },
  {
   "cell_type": "markdown",
   "id": "f59d52e3",
   "metadata": {},
   "source": [
    "The Algebra constructor in qualreas requires the table cell entries to be lists, not sets, so that conversion is made below:"
   ]
  },
  {
   "cell_type": "code",
   "execution_count": 8,
   "id": "00ebc3cd",
   "metadata": {},
   "outputs": [],
   "source": [
    "from copy import deepcopy\n",
    "\n",
    "def convert_sets_to_lists(table):\n",
    "    \"\"\"Returns a copy of the input table that has lists in places where there were sets.\"\"\"\n",
    "    tbl = deepcopy(table)\n",
    "    for r1 in tbl:\n",
    "        for r2 in tbl[r1]:\n",
    "            tbl[r1][r2] = list(tbl[r1][r2])\n",
    "    return tbl"
   ]
  },
  {
   "cell_type": "code",
   "execution_count": 9,
   "id": "41addb5a",
   "metadata": {},
   "outputs": [],
   "source": [
    "fig5x = convert_sets_to_lists(fig5)"
   ]
  },
  {
   "cell_type": "code",
   "execution_count": 10,
   "id": "d129ba83",
   "metadata": {},
   "outputs": [
    {
     "data": {
      "text/plain": [
       "{'<': {'<': ['<'], '=': ['<'], '>': ['<', '>', '=']},\n",
       " '=': {'<': ['<'], '=': ['='], '>': ['>']},\n",
       " '>': {'<': ['<', '>', '='], '=': ['>'], '>': ['>']}}"
      ]
     },
     "execution_count": 10,
     "metadata": {},
     "output_type": "execute_result"
    }
   ],
   "source": [
    "fig5x"
   ]
  },
  {
   "cell_type": "code",
   "execution_count": 11,
   "id": "b3995fee",
   "metadata": {},
   "outputs": [],
   "source": [
    "ptalg_dict = {\n",
    "    \"Description\": \"Autogenerated Linear Point Algebra\", \n",
    "    \"Name\": \"Linear_Point_Algebra\",\n",
    "    \"Relations\": {\n",
    "        \"<\": {\n",
    "            \"Domain\": [\"Point\"], \n",
    "            \"Converse\": \">\", \n",
    "            \"Name\": \"LessThan\", \n",
    "            \"Range\": [\"Point\"], \n",
    "            \"Reflexive\": False, \n",
    "            \"Symmetric\": False, \n",
    "            \"Transitive\": True\n",
    "        }, \n",
    "        \"=\": {\n",
    "            \"Domain\": [\"Point\"], \n",
    "            \"Converse\": \"=\", \n",
    "            \"Name\": \"Equals\", \n",
    "            \"Range\": [\"Point\"], \n",
    "            \"Reflexive\": True, \n",
    "            \"Symmetric\": True, \n",
    "            \"Transitive\": True\n",
    "        }, \n",
    "        \">\": {\n",
    "            \"Domain\": [\"Point\"], \n",
    "            \"Converse\": \"<\", \n",
    "            \"Name\": \"GreaterThan\", \n",
    "            \"Range\": [\"Point\"], \n",
    "            \"Reflexive\": False, \n",
    "            \"Symmetric\": False, \n",
    "            \"Transitive\": True\n",
    "        }\n",
    "    }, \n",
    "    \"TransTable\": fig5x\n",
    "}      "
   ]
  },
  {
   "cell_type": "code",
   "execution_count": 12,
   "id": "63915d28",
   "metadata": {},
   "outputs": [],
   "source": [
    "import qualreas as qr"
   ]
  },
  {
   "cell_type": "code",
   "execution_count": 13,
   "id": "b93a2efc",
   "metadata": {},
   "outputs": [],
   "source": [
    "ptalg = qr.Algebra(alg_dict=ptalg_dict)"
   ]
  },
  {
   "cell_type": "code",
   "execution_count": 14,
   "id": "b9f7fbb7",
   "metadata": {},
   "outputs": [
    {
     "data": {
      "text/plain": [
       "<qualreas.Algebra at 0x7f92a0ad6c50>"
      ]
     },
     "execution_count": 14,
     "metadata": {},
     "output_type": "execute_result"
    }
   ],
   "source": [
    "ptalg"
   ]
  },
  {
   "cell_type": "code",
   "execution_count": 15,
   "id": "071290ce",
   "metadata": {},
   "outputs": [
    {
     "name": "stdout",
     "output_type": "stream",
     "text": [
      "  Algebra Name: Linear_Point_Algebra\n",
      "   Description: Autogenerated Linear Point Algebra\n",
      " Equality Rels: =\n",
      "     Relations:\n",
      "            NAME (SYMBOL)         CONVERSE (ABBREV)  REFLEXIVE  SYMMETRIC TRANSITIVE   DOMAIN        RANGE\n",
      "           LessThan (  <)         GreaterThan (  >)    False      False       True         Pt            Pt\n",
      "             Equals (  =)              Equals (  =)     True       True       True         Pt            Pt\n",
      "        GreaterThan (  >)            LessThan (  <)    False      False       True         Pt            Pt\n",
      "\n",
      "Domain & Range Abbreviations:\n",
      "   Pt = Point\n",
      " PInt = Proper Interval\n"
     ]
    }
   ],
   "source": [
    "ptalg.summary()"
   ]
  },
  {
   "cell_type": "code",
   "execution_count": 16,
   "id": "5a732c45",
   "metadata": {},
   "outputs": [
    {
     "data": {
      "text/plain": [
       "{'<': {'<': relset(['<']), '=': relset(['<']), '>': relset(['<', '=', '>'])},\n",
       " '=': {'<': relset(['<']), '=': relset(['=']), '>': relset(['>'])},\n",
       " '>': {'<': relset(['<', '=', '>']), '=': relset(['>']), '>': relset(['>'])}}"
      ]
     },
     "execution_count": 16,
     "metadata": {},
     "output_type": "execute_result"
    }
   ],
   "source": [
    "ptalg.transitivity_table"
   ]
  },
  {
   "cell_type": "code",
   "execution_count": 17,
   "id": "e71f9209",
   "metadata": {},
   "outputs": [
    {
     "name": "stdout",
     "output_type": "stream",
     "text": [
      "    \"TransTable\": {\n",
      "        \"<\": {\n",
      "            \"<\": \"<\",\n",
      "            \"=\": \"<\",\n",
      "            \">\": \"<|=|>\"\n",
      "        },\n",
      "        \"=\": {\n",
      "            \"<\": \"<\",\n",
      "            \"=\": \"=\",\n",
      "            \">\": \">\"\n",
      "        },\n",
      "        \">\": {\n",
      "            \"<\": \"<|=|>\",\n",
      "            \"=\": \">\",\n",
      "            \">\": \">\"\n",
      "        }\n",
      "    }\n"
     ]
    }
   ],
   "source": [
    "ptalg.print_compact_transitivity_table()"
   ]
  },
  {
   "cell_type": "markdown",
   "id": "a8483089",
   "metadata": {},
   "source": [
    "## Transitivity Table for Branching Time Point Relations"
   ]
  },
  {
   "cell_type": "markdown",
   "id": "57300628",
   "metadata": {},
   "source": [
    "<b>TODO</b>: Modify the function <b>rel</b>, defined above, so that it can handle left and right branching time."
   ]
  },
  {
   "cell_type": "markdown",
   "id": "84095eaa",
   "metadata": {},
   "source": [
    "## Transitivity Table for 2-Dimensional Point Relations"
   ]
  },
  {
   "cell_type": "markdown",
   "id": "6ff08bc3",
   "metadata": {},
   "source": [
    "Now, we'll apply the concept above to create a 2-dimensional point algebra by using an nxn array of integers as surrogates for 2-dimensional spatial coordinates, and 8 compass directions, along with <i>equals</i>."
   ]
  },
  {
   "cell_type": "code",
   "execution_count": 18,
   "id": "02925155",
   "metadata": {},
   "outputs": [],
   "source": [
    "def rel2d(coord1, coord2):\n",
    "    x1, y1 = coord1\n",
    "    x2, y2 = coord2\n",
    "    if x1 == x2:  # Coords are vertically aligned\n",
    "        if y1 == y2:\n",
    "            return \"EQ\"  # coord1 equals coord2\n",
    "        elif y1 < y2:\n",
    "            return \"S\"  # coord1 south-of coord2\n",
    "        else:\n",
    "            return \"N\"  # coord1 north-of coord2\n",
    "    elif x1 < x2:  # coord1 is to the left (west) of coord2\n",
    "        if y1 == y2:\n",
    "            return \"W\"  # coord1 west-of coord2\n",
    "        elif y1 < y2:\n",
    "            return \"SW\"  # coord1 southwest-of coord2\n",
    "        else:\n",
    "            return \"NW\"  # coord1 northwest-of coord2\n",
    "    else:  # coord1 is to the right (east) of coord2\n",
    "        if y1 == y2:\n",
    "            return \"E\"  # coord1 east-of coord2\n",
    "        elif y1 < y2:\n",
    "            return \"SE\"  # coord1 southeast-of coord2\n",
    "        else:\n",
    "            return \"NE\"  # coord1 northeast-of coord2"
   ]
  },
  {
   "cell_type": "markdown",
   "id": "4dd09e4a",
   "metadata": {},
   "source": [
    "Here are the 8 compass directions, along with <i>equals</i>:"
   ]
  },
  {
   "cell_type": "code",
   "execution_count": 19,
   "id": "bf8bf3a3",
   "metadata": {},
   "outputs": [],
   "source": [
    "rels2d = ['S', 'EQ', 'N', 'SW', 'W', 'NW', 'SE', 'E', 'NE']"
   ]
  },
  {
   "cell_type": "markdown",
   "id": "d1b1181d",
   "metadata": {},
   "source": [
    "First, initialize an empty 9x9 table:"
   ]
  },
  {
   "cell_type": "code",
   "execution_count": 20,
   "id": "fb3a213d",
   "metadata": {},
   "outputs": [],
   "source": [
    "tbl2d = create_initial_table(rels2d)"
   ]
  },
  {
   "cell_type": "markdown",
   "id": "83c43e55",
   "metadata": {},
   "source": [
    "The following code populates the table. Note that there will be many duplicate compass directions generated by the combinations of 3 coordinates (x, y, & z), but since they are stored in sets, only one of each direction can be stored."
   ]
  },
  {
   "cell_type": "code",
   "execution_count": 21,
   "id": "5259e7f3",
   "metadata": {},
   "outputs": [],
   "source": [
    "for x1 in range(0, n):\n",
    "    for x2 in range(0, n):\n",
    "        x = (x1, x2)\n",
    "        for y1 in range(0, n):\n",
    "            for y2 in range(0, n):\n",
    "                y = (y1, y2)\n",
    "                for z1 in range(0, n):\n",
    "                    for z2 in range(0, n):\n",
    "                        z = (z1, z2)\n",
    "                        # Add transitive relation to table\n",
    "                        tbl2d[rel2d(x, y)][rel2d(y, z)].add(rel2d(x, z))"
   ]
  },
  {
   "cell_type": "markdown",
   "id": "bc76d466",
   "metadata": {},
   "source": [
    "Here's the resulting transitivity table:"
   ]
  },
  {
   "cell_type": "code",
   "execution_count": 22,
   "id": "29913aa3",
   "metadata": {},
   "outputs": [
    {
     "data": {
      "text/plain": [
       "{'S': {'S': {'S'},\n",
       "  'EQ': {'S'},\n",
       "  'N': {'EQ', 'N', 'S'},\n",
       "  'SW': {'SW'},\n",
       "  'W': {'SW'},\n",
       "  'NW': {'NW', 'SW', 'W'},\n",
       "  'SE': {'SE'},\n",
       "  'E': {'SE'},\n",
       "  'NE': {'E', 'NE', 'SE'}},\n",
       " 'EQ': {'S': {'S'},\n",
       "  'EQ': {'EQ'},\n",
       "  'N': {'N'},\n",
       "  'SW': {'SW'},\n",
       "  'W': {'W'},\n",
       "  'NW': {'NW'},\n",
       "  'SE': {'SE'},\n",
       "  'E': {'E'},\n",
       "  'NE': {'NE'}},\n",
       " 'N': {'S': {'EQ', 'N', 'S'},\n",
       "  'EQ': {'N'},\n",
       "  'N': {'N'},\n",
       "  'SW': {'NW', 'SW', 'W'},\n",
       "  'W': {'NW'},\n",
       "  'NW': {'NW'},\n",
       "  'SE': {'E', 'NE', 'SE'},\n",
       "  'E': {'NE'},\n",
       "  'NE': {'NE'}},\n",
       " 'SW': {'S': {'SW'},\n",
       "  'EQ': {'SW'},\n",
       "  'N': {'NW', 'SW', 'W'},\n",
       "  'SW': {'SW'},\n",
       "  'W': {'SW'},\n",
       "  'NW': {'NW', 'SW', 'W'},\n",
       "  'SE': {'S', 'SE', 'SW'},\n",
       "  'E': {'S', 'SE', 'SW'},\n",
       "  'NE': {'E', 'EQ', 'N', 'NE', 'NW', 'S', 'SE', 'SW', 'W'}},\n",
       " 'W': {'S': {'SW'},\n",
       "  'EQ': {'W'},\n",
       "  'N': {'NW'},\n",
       "  'SW': {'SW'},\n",
       "  'W': {'W'},\n",
       "  'NW': {'NW'},\n",
       "  'SE': {'S', 'SE', 'SW'},\n",
       "  'E': {'E', 'EQ', 'W'},\n",
       "  'NE': {'N', 'NE', 'NW'}},\n",
       " 'NW': {'S': {'NW', 'SW', 'W'},\n",
       "  'EQ': {'NW'},\n",
       "  'N': {'NW'},\n",
       "  'SW': {'NW', 'SW', 'W'},\n",
       "  'W': {'NW'},\n",
       "  'NW': {'NW'},\n",
       "  'SE': {'E', 'EQ', 'N', 'NE', 'NW', 'S', 'SE', 'SW', 'W'},\n",
       "  'E': {'N', 'NE', 'NW'},\n",
       "  'NE': {'N', 'NE', 'NW'}},\n",
       " 'SE': {'S': {'SE'},\n",
       "  'EQ': {'SE'},\n",
       "  'N': {'E', 'NE', 'SE'},\n",
       "  'SW': {'S', 'SE', 'SW'},\n",
       "  'W': {'S', 'SE', 'SW'},\n",
       "  'NW': {'E', 'EQ', 'N', 'NE', 'NW', 'S', 'SE', 'SW', 'W'},\n",
       "  'SE': {'SE'},\n",
       "  'E': {'SE'},\n",
       "  'NE': {'E', 'NE', 'SE'}},\n",
       " 'E': {'S': {'SE'},\n",
       "  'EQ': {'E'},\n",
       "  'N': {'NE'},\n",
       "  'SW': {'S', 'SE', 'SW'},\n",
       "  'W': {'E', 'EQ', 'W'},\n",
       "  'NW': {'N', 'NE', 'NW'},\n",
       "  'SE': {'SE'},\n",
       "  'E': {'E'},\n",
       "  'NE': {'NE'}},\n",
       " 'NE': {'S': {'E', 'NE', 'SE'},\n",
       "  'EQ': {'NE'},\n",
       "  'N': {'NE'},\n",
       "  'SW': {'E', 'EQ', 'N', 'NE', 'NW', 'S', 'SE', 'SW', 'W'},\n",
       "  'W': {'N', 'NE', 'NW'},\n",
       "  'NW': {'N', 'NE', 'NW'},\n",
       "  'SE': {'E', 'NE', 'SE'},\n",
       "  'E': {'NE'},\n",
       "  'NE': {'NE'}}}"
      ]
     },
     "execution_count": 22,
     "metadata": {},
     "output_type": "execute_result"
    }
   ],
   "source": [
    "tbl2d"
   ]
  },
  {
   "cell_type": "code",
   "execution_count": 23,
   "id": "caae9c14",
   "metadata": {},
   "outputs": [],
   "source": [
    "tbl2dx = convert_sets_to_lists(tbl2d)"
   ]
  },
  {
   "cell_type": "markdown",
   "id": "789fc7e4",
   "metadata": {},
   "source": [
    "Here's the converted 2D point transitivity table:"
   ]
  },
  {
   "cell_type": "code",
   "execution_count": 24,
   "id": "1c8347e4",
   "metadata": {},
   "outputs": [
    {
     "data": {
      "text/plain": [
       "{'S': {'S': ['S'],\n",
       "  'EQ': ['S'],\n",
       "  'N': ['S', 'EQ', 'N'],\n",
       "  'SW': ['SW'],\n",
       "  'W': ['SW'],\n",
       "  'NW': ['W', 'SW', 'NW'],\n",
       "  'SE': ['SE'],\n",
       "  'E': ['SE'],\n",
       "  'NE': ['NE', 'E', 'SE']},\n",
       " 'EQ': {'S': ['S'],\n",
       "  'EQ': ['EQ'],\n",
       "  'N': ['N'],\n",
       "  'SW': ['SW'],\n",
       "  'W': ['W'],\n",
       "  'NW': ['NW'],\n",
       "  'SE': ['SE'],\n",
       "  'E': ['E'],\n",
       "  'NE': ['NE']},\n",
       " 'N': {'S': ['S', 'EQ', 'N'],\n",
       "  'EQ': ['N'],\n",
       "  'N': ['N'],\n",
       "  'SW': ['W', 'SW', 'NW'],\n",
       "  'W': ['NW'],\n",
       "  'NW': ['NW'],\n",
       "  'SE': ['NE', 'E', 'SE'],\n",
       "  'E': ['NE'],\n",
       "  'NE': ['NE']},\n",
       " 'SW': {'S': ['SW'],\n",
       "  'EQ': ['SW'],\n",
       "  'N': ['W', 'SW', 'NW'],\n",
       "  'SW': ['SW'],\n",
       "  'W': ['SW'],\n",
       "  'NW': ['W', 'SW', 'NW'],\n",
       "  'SE': ['S', 'SW', 'SE'],\n",
       "  'E': ['S', 'SW', 'SE'],\n",
       "  'NE': ['S', 'EQ', 'SW', 'E', 'N', 'W', 'SE', 'NW', 'NE']},\n",
       " 'W': {'S': ['SW'],\n",
       "  'EQ': ['W'],\n",
       "  'N': ['NW'],\n",
       "  'SW': ['SW'],\n",
       "  'W': ['W'],\n",
       "  'NW': ['NW'],\n",
       "  'SE': ['S', 'SW', 'SE'],\n",
       "  'E': ['E', 'EQ', 'W'],\n",
       "  'NE': ['N', 'NE', 'NW']},\n",
       " 'NW': {'S': ['W', 'SW', 'NW'],\n",
       "  'EQ': ['NW'],\n",
       "  'N': ['NW'],\n",
       "  'SW': ['W', 'SW', 'NW'],\n",
       "  'W': ['NW'],\n",
       "  'NW': ['NW'],\n",
       "  'SE': ['S', 'EQ', 'SW', 'E', 'N', 'W', 'SE', 'NW', 'NE'],\n",
       "  'E': ['N', 'NE', 'NW'],\n",
       "  'NE': ['N', 'NE', 'NW']},\n",
       " 'SE': {'S': ['SE'],\n",
       "  'EQ': ['SE'],\n",
       "  'N': ['NE', 'E', 'SE'],\n",
       "  'SW': ['S', 'SW', 'SE'],\n",
       "  'W': ['S', 'SW', 'SE'],\n",
       "  'NW': ['S', 'EQ', 'SW', 'E', 'N', 'W', 'SE', 'NW', 'NE'],\n",
       "  'SE': ['SE'],\n",
       "  'E': ['SE'],\n",
       "  'NE': ['NE', 'E', 'SE']},\n",
       " 'E': {'S': ['SE'],\n",
       "  'EQ': ['E'],\n",
       "  'N': ['NE'],\n",
       "  'SW': ['S', 'SW', 'SE'],\n",
       "  'W': ['E', 'EQ', 'W'],\n",
       "  'NW': ['N', 'NE', 'NW'],\n",
       "  'SE': ['SE'],\n",
       "  'E': ['E'],\n",
       "  'NE': ['NE']},\n",
       " 'NE': {'S': ['NE', 'E', 'SE'],\n",
       "  'EQ': ['NE'],\n",
       "  'N': ['NE'],\n",
       "  'SW': ['S', 'EQ', 'SW', 'E', 'N', 'W', 'SE', 'NW', 'NE'],\n",
       "  'W': ['N', 'NE', 'NW'],\n",
       "  'NW': ['N', 'NE', 'NW'],\n",
       "  'SE': ['NE', 'E', 'SE'],\n",
       "  'E': ['NE'],\n",
       "  'NE': ['NE']}}"
      ]
     },
     "execution_count": 24,
     "metadata": {},
     "output_type": "execute_result"
    }
   ],
   "source": [
    "tbl2dx"
   ]
  },
  {
   "cell_type": "markdown",
   "id": "16769233",
   "metadata": {},
   "source": [
    "## Create Point Algebras from Generated Tables"
   ]
  },
  {
   "cell_type": "markdown",
   "id": "017b1004",
   "metadata": {},
   "source": [
    "> Much more work is needed here. For now, I'm just forcing the tables into algebras to see what's missing or could be done better."
   ]
  },
  {
   "cell_type": "markdown",
   "id": "939ef3db",
   "metadata": {},
   "source": [
    "qualreas requires that the domains and ranges of relations be specified:"
   ]
  },
  {
   "cell_type": "code",
   "execution_count": 25,
   "id": "ce8bed9a",
   "metadata": {},
   "outputs": [],
   "source": [
    "qr.class_type_dict[\"2DPoint\"] = qr.SpatialEntity"
   ]
  },
  {
   "cell_type": "markdown",
   "id": "6424626d",
   "metadata": {},
   "source": [
    "Abbreviated names of entity types/classes are used to print table summaries more compactly:"
   ]
  },
  {
   "cell_type": "code",
   "execution_count": 26,
   "id": "0e9adf9e",
   "metadata": {},
   "outputs": [],
   "source": [
    "ENTITY_ABBREVIATIONS = {\"Point\": \"Pt\",\n",
    "                        \"ProperInterval\": \"PInt\",\n",
    "                        \"Interval\": \"Int\",\n",
    "                        \"Region\": \"Reg\",\n",
    "                        \"2DPoint\": \"2DPt\"}"
   ]
  },
  {
   "cell_type": "code",
   "execution_count": 27,
   "id": "c7536a46",
   "metadata": {},
   "outputs": [],
   "source": [
    "def abbrev(term_list, abbrev_dict=ENTITY_ABBREVIATIONS):\n",
    "    \"\"\"Given a list of terms, return the corresponding list of abbreviated terms.\"\"\"\n",
    "    return '|'.join([abbrev_dict[term] for term in term_list])"
   ]
  },
  {
   "cell_type": "code",
   "execution_count": 28,
   "id": "9a425754",
   "metadata": {},
   "outputs": [],
   "source": [
    "qr.abbrev = abbrev"
   ]
  },
  {
   "cell_type": "markdown",
   "id": "adba6010",
   "metadata": {},
   "source": [
    "WARNING: The values, below, for Reflexive, Symmetric, & Transitive have all been temporarily set to False."
   ]
  },
  {
   "cell_type": "code",
   "execution_count": 29,
   "id": "1f31f388",
   "metadata": {},
   "outputs": [],
   "source": [
    "alg2d_dict = {\n",
    "    \"Description\": \"Autogenerated 2-dimensional point algebra\", \n",
    "    \"Name\": \"2D_Point_Algebra\",\n",
    "    \"Relations\": {\n",
    "        \"S\": {\n",
    "            \"Domain\": [\"2DPoint\"], \n",
    "            \"Converse\": \"N\", \n",
    "            \"Name\": \"South\", \n",
    "            \"Range\": [\"2DPoint\"],\n",
    "            \"Reflexive\": False, \n",
    "            \"Symmetric\": False, \n",
    "            \"Transitive\": False\n",
    "        },\n",
    "        \"EQ\": {\n",
    "            \"Domain\": [\"2DPoint\"], \n",
    "            \"Converse\": \"EQ\", \n",
    "            \"Name\": \"Equals\", \n",
    "            \"Range\": [\"2DPoint\"],\n",
    "            \"Reflexive\": False, \n",
    "            \"Symmetric\": False, \n",
    "            \"Transitive\": False\n",
    "        },\n",
    "        \"N\": {\n",
    "            \"Domain\": [\"2DPoint\"], \n",
    "            \"Converse\": \"S\", \n",
    "            \"Name\": \"North\", \n",
    "            \"Range\": [\"2DPoint\"],\n",
    "            \"Reflexive\": False, \n",
    "            \"Symmetric\": False, \n",
    "            \"Transitive\": False\n",
    "        },\n",
    "        \"SW\": {\n",
    "            \"Domain\": [\"2DPoint\"], \n",
    "            \"Converse\": \"NE\", \n",
    "            \"Name\": \"Southwest\", \n",
    "            \"Range\": [\"2DPoint\"],\n",
    "            \"Reflexive\": False, \n",
    "            \"Symmetric\": False, \n",
    "            \"Transitive\": False\n",
    "        },\n",
    "        \"W\": {\n",
    "            \"Domain\": [\"2DPoint\"], \n",
    "            \"Converse\": \"E\", \n",
    "            \"Name\": \"West\", \n",
    "            \"Range\": [\"2DPoint\"],\n",
    "            \"Reflexive\": False, \n",
    "            \"Symmetric\": False, \n",
    "            \"Transitive\": False\n",
    "        },\n",
    "        \"NW\": {\n",
    "            \"Domain\": [\"2DPoint\"], \n",
    "            \"Converse\": \"SE\", \n",
    "            \"Name\": \"Northwest\", \n",
    "            \"Range\": [\"2DPoint\"],\n",
    "            \"Reflexive\": False, \n",
    "            \"Symmetric\": False, \n",
    "            \"Transitive\": False\n",
    "        },\n",
    "        \"SE\": {\n",
    "            \"Domain\": [\"2DPoint\"], \n",
    "            \"Converse\": \"NW\", \n",
    "            \"Name\": \"Southeast\", \n",
    "            \"Range\": [\"2DPoint\"],\n",
    "            \"Reflexive\": False, \n",
    "            \"Symmetric\": False, \n",
    "            \"Transitive\": False\n",
    "        },\n",
    "        \"E\": {\n",
    "            \"Domain\": [\"2DPoint\"], \n",
    "            \"Converse\": \"W\", \n",
    "            \"Name\": \"East\", \n",
    "            \"Range\": [\"2DPoint\"],\n",
    "            \"Reflexive\": False, \n",
    "            \"Symmetric\": False, \n",
    "            \"Transitive\": False\n",
    "        },\n",
    "        \"NE\": {\n",
    "            \"Domain\": [\"2DPoint\"], \n",
    "            \"Converse\": \"SW\", \n",
    "            \"Name\": \"Northeast\", \n",
    "            \"Range\": [\"2DPoint\"],\n",
    "            \"Reflexive\": False, \n",
    "            \"Symmetric\": False, \n",
    "            \"Transitive\": False\n",
    "        }\n",
    "    }, \n",
    "    \"TransTable\": tbl2dx\n",
    "}      "
   ]
  },
  {
   "cell_type": "markdown",
   "id": "0996ad0a",
   "metadata": {},
   "source": [
    "Now, finally, we can create a 2D point algebra:"
   ]
  },
  {
   "cell_type": "code",
   "execution_count": 30,
   "id": "4d33d95f",
   "metadata": {},
   "outputs": [],
   "source": [
    "alg2d = qr.Algebra(alg_dict=alg2d_dict)"
   ]
  },
  {
   "cell_type": "code",
   "execution_count": 31,
   "id": "42572902",
   "metadata": {},
   "outputs": [
    {
     "name": "stdout",
     "output_type": "stream",
     "text": [
      "  Algebra Name: 2D_Point_Algebra\n",
      "   Description: Autogenerated 2-dimensional point algebra\n",
      " Equality Rels: \n",
      "     Relations:\n",
      "            NAME (SYMBOL)         CONVERSE (ABBREV)  REFLEXIVE  SYMMETRIC TRANSITIVE   DOMAIN        RANGE\n",
      "              South (  S)               North (  N)    False      False      False       2DPt          2DPt\n",
      "             Equals ( EQ)              Equals ( EQ)    False      False      False       2DPt          2DPt\n",
      "              North (  N)               South (  S)    False      False      False       2DPt          2DPt\n",
      "          Southwest ( SW)           Northeast ( NE)    False      False      False       2DPt          2DPt\n",
      "               West (  W)                East (  E)    False      False      False       2DPt          2DPt\n",
      "          Northwest ( NW)           Southeast ( SE)    False      False      False       2DPt          2DPt\n",
      "          Southeast ( SE)           Northwest ( NW)    False      False      False       2DPt          2DPt\n",
      "               East (  E)                West (  W)    False      False      False       2DPt          2DPt\n",
      "          Northeast ( NE)           Southwest ( SW)    False      False      False       2DPt          2DPt\n",
      "\n",
      "Domain & Range Abbreviations:\n",
      "   Pt = Point\n",
      " PInt = Proper Interval\n"
     ]
    }
   ],
   "source": [
    "alg2d.summary()"
   ]
  },
  {
   "cell_type": "code",
   "execution_count": 32,
   "id": "b0b7efe4",
   "metadata": {},
   "outputs": [
    {
     "name": "stdout",
     "output_type": "stream",
     "text": [
      "    \"TransTable\": {\n",
      "        \"S\": {\n",
      "            \"S\": \"S\",\n",
      "            \"EQ\": \"S\",\n",
      "            \"N\": \"S|EQ|N\",\n",
      "            \"SW\": \"SW\",\n",
      "            \"W\": \"SW\",\n",
      "            \"NW\": \"SW|W|NW\",\n",
      "            \"SE\": \"SE\",\n",
      "            \"E\": \"SE\",\n",
      "            \"NE\": \"SE|E|NE\"\n",
      "        },\n",
      "        \"EQ\": {\n",
      "            \"S\": \"S\",\n",
      "            \"EQ\": \"EQ\",\n",
      "            \"N\": \"N\",\n",
      "            \"SW\": \"SW\",\n",
      "            \"W\": \"W\",\n",
      "            \"NW\": \"NW\",\n",
      "            \"SE\": \"SE\",\n",
      "            \"E\": \"E\",\n",
      "            \"NE\": \"NE\"\n",
      "        },\n",
      "        \"N\": {\n",
      "            \"S\": \"S|EQ|N\",\n",
      "            \"EQ\": \"N\",\n",
      "            \"N\": \"N\",\n",
      "            \"SW\": \"SW|W|NW\",\n",
      "            \"W\": \"NW\",\n",
      "            \"NW\": \"NW\",\n",
      "            \"SE\": \"SE|E|NE\",\n",
      "            \"E\": \"NE\",\n",
      "            \"NE\": \"NE\"\n",
      "        },\n",
      "        \"SW\": {\n",
      "            \"S\": \"SW\",\n",
      "            \"EQ\": \"SW\",\n",
      "            \"N\": \"SW|W|NW\",\n",
      "            \"SW\": \"SW\",\n",
      "            \"W\": \"SW\",\n",
      "            \"NW\": \"SW|W|NW\",\n",
      "            \"SE\": \"S|SW|SE\",\n",
      "            \"E\": \"S|SW|SE\",\n",
      "            \"NE\": \"S|EQ|N|SW|W|NW|SE|E|NE\"\n",
      "        },\n",
      "        \"W\": {\n",
      "            \"S\": \"SW\",\n",
      "            \"EQ\": \"W\",\n",
      "            \"N\": \"NW\",\n",
      "            \"SW\": \"SW\",\n",
      "            \"W\": \"W\",\n",
      "            \"NW\": \"NW\",\n",
      "            \"SE\": \"S|SW|SE\",\n",
      "            \"E\": \"EQ|W|E\",\n",
      "            \"NE\": \"N|NW|NE\"\n",
      "        },\n",
      "        \"NW\": {\n",
      "            \"S\": \"SW|W|NW\",\n",
      "            \"EQ\": \"NW\",\n",
      "            \"N\": \"NW\",\n",
      "            \"SW\": \"SW|W|NW\",\n",
      "            \"W\": \"NW\",\n",
      "            \"NW\": \"NW\",\n",
      "            \"SE\": \"S|EQ|N|SW|W|NW|SE|E|NE\",\n",
      "            \"E\": \"N|NW|NE\",\n",
      "            \"NE\": \"N|NW|NE\"\n",
      "        },\n",
      "        \"SE\": {\n",
      "            \"S\": \"SE\",\n",
      "            \"EQ\": \"SE\",\n",
      "            \"N\": \"SE|E|NE\",\n",
      "            \"SW\": \"S|SW|SE\",\n",
      "            \"W\": \"S|SW|SE\",\n",
      "            \"NW\": \"S|EQ|N|SW|W|NW|SE|E|NE\",\n",
      "            \"SE\": \"SE\",\n",
      "            \"E\": \"SE\",\n",
      "            \"NE\": \"SE|E|NE\"\n",
      "        },\n",
      "        \"E\": {\n",
      "            \"S\": \"SE\",\n",
      "            \"EQ\": \"E\",\n",
      "            \"N\": \"NE\",\n",
      "            \"SW\": \"S|SW|SE\",\n",
      "            \"W\": \"EQ|W|E\",\n",
      "            \"NW\": \"N|NW|NE\",\n",
      "            \"SE\": \"SE\",\n",
      "            \"E\": \"E\",\n",
      "            \"NE\": \"NE\"\n",
      "        },\n",
      "        \"NE\": {\n",
      "            \"S\": \"SE|E|NE\",\n",
      "            \"EQ\": \"NE\",\n",
      "            \"N\": \"NE\",\n",
      "            \"SW\": \"S|EQ|N|SW|W|NW|SE|E|NE\",\n",
      "            \"W\": \"N|NW|NE\",\n",
      "            \"NW\": \"N|NW|NE\",\n",
      "            \"SE\": \"SE|E|NE\",\n",
      "            \"E\": \"NE\",\n",
      "            \"NE\": \"NE\"\n",
      "        }\n",
      "    }\n"
     ]
    }
   ],
   "source": [
    "alg2d.print_compact_transitivity_table()"
   ]
  },
  {
   "cell_type": "markdown",
   "id": "e02a331c",
   "metadata": {},
   "source": [
    "Putting everything above together into a complete, compact definition of a 2D point algebra:"
   ]
  },
  {
   "cell_type": "code",
   "execution_count": 34,
   "id": "b41c0d2e",
   "metadata": {},
   "outputs": [],
   "source": [
    "alg2d_dict_FULL = {\n",
    "    \"Description\": \"Autogenerated 2-dimensional point algebra\", \n",
    "    \"Name\": \"2D_Point_Algebra\",\n",
    "    \"Relations\": {\n",
    "        \"S\": {\n",
    "            \"Domain\": [\"2DPoint\"], \n",
    "            \"Converse\": \"N\", \n",
    "            \"Name\": \"South\", \n",
    "            \"Range\": [\"2DPoint\"],\n",
    "            \"Reflexive\": False, \n",
    "            \"Symmetric\": False, \n",
    "            \"Transitive\": True\n",
    "        },\n",
    "        \"EQ\": {\n",
    "            \"Domain\": [\"2DPoint\"], \n",
    "            \"Converse\": \"EQ\", \n",
    "            \"Name\": \"Equals\", \n",
    "            \"Range\": [\"2DPoint\"],\n",
    "            \"Reflexive\": True, \n",
    "            \"Symmetric\": True, \n",
    "            \"Transitive\": True\n",
    "        },\n",
    "        \"N\": {\n",
    "            \"Domain\": [\"2DPoint\"], \n",
    "            \"Converse\": \"S\", \n",
    "            \"Name\": \"North\", \n",
    "            \"Range\": [\"2DPoint\"],\n",
    "            \"Reflexive\": False, \n",
    "            \"Symmetric\": False, \n",
    "            \"Transitive\": True\n",
    "        },\n",
    "        \"SW\": {\n",
    "            \"Domain\": [\"2DPoint\"], \n",
    "            \"Converse\": \"NE\", \n",
    "            \"Name\": \"Southwest\", \n",
    "            \"Range\": [\"2DPoint\"],\n",
    "            \"Reflexive\": False, \n",
    "            \"Symmetric\": False, \n",
    "            \"Transitive\": True\n",
    "        },\n",
    "        \"W\": {\n",
    "            \"Domain\": [\"2DPoint\"], \n",
    "            \"Converse\": \"E\", \n",
    "            \"Name\": \"West\", \n",
    "            \"Range\": [\"2DPoint\"],\n",
    "            \"Reflexive\": False, \n",
    "            \"Symmetric\": False, \n",
    "            \"Transitive\": True\n",
    "        },\n",
    "        \"NW\": {\n",
    "            \"Domain\": [\"2DPoint\"], \n",
    "            \"Converse\": \"SE\", \n",
    "            \"Name\": \"Northwest\", \n",
    "            \"Range\": [\"2DPoint\"],\n",
    "            \"Reflexive\": False, \n",
    "            \"Symmetric\": False, \n",
    "            \"Transitive\": True\n",
    "        },\n",
    "        \"SE\": {\n",
    "            \"Domain\": [\"2DPoint\"], \n",
    "            \"Converse\": \"NW\", \n",
    "            \"Name\": \"Southeast\", \n",
    "            \"Range\": [\"2DPoint\"],\n",
    "            \"Reflexive\": False, \n",
    "            \"Symmetric\": False, \n",
    "            \"Transitive\": True\n",
    "        },\n",
    "        \"E\": {\n",
    "            \"Domain\": [\"2DPoint\"], \n",
    "            \"Converse\": \"W\", \n",
    "            \"Name\": \"East\", \n",
    "            \"Range\": [\"2DPoint\"],\n",
    "            \"Reflexive\": False, \n",
    "            \"Symmetric\": False, \n",
    "            \"Transitive\": True\n",
    "        },\n",
    "        \"NE\": {\n",
    "            \"Domain\": [\"2DPoint\"], \n",
    "            \"Converse\": \"SW\", \n",
    "            \"Name\": \"Northeast\", \n",
    "            \"Range\": [\"2DPoint\"],\n",
    "            \"Reflexive\": False, \n",
    "            \"Symmetric\": False, \n",
    "            \"Transitive\": True\n",
    "        }\n",
    "    }, \n",
    "    \"TransTable\": {\n",
    "        \"S\": {\n",
    "            \"S\": \"S\",\n",
    "            \"EQ\": \"S\",\n",
    "            \"N\": \"S|EQ|N\",\n",
    "            \"SW\": \"SW\",\n",
    "            \"W\": \"SW\",\n",
    "            \"NW\": \"SW|W|NW\",\n",
    "            \"SE\": \"SE\",\n",
    "            \"E\": \"SE\",\n",
    "            \"NE\": \"SE|E|NE\"\n",
    "        },\n",
    "        \"EQ\": {\n",
    "            \"S\": \"S\",\n",
    "            \"EQ\": \"EQ\",\n",
    "            \"N\": \"N\",\n",
    "            \"SW\": \"SW\",\n",
    "            \"W\": \"W\",\n",
    "            \"NW\": \"NW\",\n",
    "            \"SE\": \"SE\",\n",
    "            \"E\": \"E\",\n",
    "            \"NE\": \"NE\"\n",
    "        },\n",
    "        \"N\": {\n",
    "            \"S\": \"S|EQ|N\",\n",
    "            \"EQ\": \"N\",\n",
    "            \"N\": \"N\",\n",
    "            \"SW\": \"SW|W|NW\",\n",
    "            \"W\": \"NW\",\n",
    "            \"NW\": \"NW\",\n",
    "            \"SE\": \"SE|E|NE\",\n",
    "            \"E\": \"NE\",\n",
    "            \"NE\": \"NE\"\n",
    "        },\n",
    "        \"SW\": {\n",
    "            \"S\": \"SW\",\n",
    "            \"EQ\": \"SW\",\n",
    "            \"N\": \"SW|W|NW\",\n",
    "            \"SW\": \"SW\",\n",
    "            \"W\": \"SW\",\n",
    "            \"NW\": \"SW|W|NW\",\n",
    "            \"SE\": \"S|SW|SE\",\n",
    "            \"E\": \"S|SW|SE\",\n",
    "            \"NE\": \"S|EQ|N|SW|W|NW|SE|E|NE\"\n",
    "        },\n",
    "        \"W\": {\n",
    "            \"S\": \"SW\",\n",
    "            \"EQ\": \"W\",\n",
    "            \"N\": \"NW\",\n",
    "            \"SW\": \"SW\",\n",
    "            \"W\": \"W\",\n",
    "            \"NW\": \"NW\",\n",
    "            \"SE\": \"S|SW|SE\",\n",
    "            \"E\": \"EQ|W|E\",\n",
    "            \"NE\": \"N|NW|NE\"\n",
    "        },\n",
    "        \"NW\": {\n",
    "            \"S\": \"SW|W|NW\",\n",
    "            \"EQ\": \"NW\",\n",
    "            \"N\": \"NW\",\n",
    "            \"SW\": \"SW|W|NW\",\n",
    "            \"W\": \"NW\",\n",
    "            \"NW\": \"NW\",\n",
    "            \"SE\": \"S|EQ|N|SW|W|NW|SE|E|NE\",\n",
    "            \"E\": \"N|NW|NE\",\n",
    "            \"NE\": \"N|NW|NE\"\n",
    "        },\n",
    "        \"SE\": {\n",
    "            \"S\": \"SE\",\n",
    "            \"EQ\": \"SE\",\n",
    "            \"N\": \"SE|E|NE\",\n",
    "            \"SW\": \"S|SW|SE\",\n",
    "            \"W\": \"S|SW|SE\",\n",
    "            \"NW\": \"S|EQ|N|SW|W|NW|SE|E|NE\",\n",
    "            \"SE\": \"SE\",\n",
    "            \"E\": \"SE\",\n",
    "            \"NE\": \"SE|E|NE\"\n",
    "        },\n",
    "        \"E\": {\n",
    "            \"S\": \"SE\",\n",
    "            \"EQ\": \"E\",\n",
    "            \"N\": \"NE\",\n",
    "            \"SW\": \"S|SW|SE\",\n",
    "            \"W\": \"EQ|W|E\",\n",
    "            \"NW\": \"N|NW|NE\",\n",
    "            \"SE\": \"SE\",\n",
    "            \"E\": \"E\",\n",
    "            \"NE\": \"NE\"\n",
    "        },\n",
    "        \"NE\": {\n",
    "            \"S\": \"SE|E|NE\",\n",
    "            \"EQ\": \"NE\",\n",
    "            \"N\": \"NE\",\n",
    "            \"SW\": \"S|EQ|N|SW|W|NW|SE|E|NE\",\n",
    "            \"W\": \"N|NW|NE\",\n",
    "            \"NW\": \"N|NW|NE\",\n",
    "            \"SE\": \"SE|E|NE\",\n",
    "            \"E\": \"NE\",\n",
    "            \"NE\": \"NE\"\n",
    "        }\n",
    "    }\n",
    "}"
   ]
  },
  {
   "cell_type": "markdown",
   "id": "6102205c",
   "metadata": {},
   "source": [
    "### Test the version of this saved in the Algebras directory (in JSON format) "
   ]
  },
  {
   "cell_type": "markdown",
   "id": "24d40f1f",
   "metadata": {},
   "source": [
    "The 2-dimensional point algebra, derived above, has been stored in the Algebras directory in JSON format.\n",
    "\n",
    "In this section, the JSON file is used to instantiate the algebra.\n",
    "\n",
    "A summary of the algebra is printed, and it is check for associativity and the composition identity."
   ]
  },
  {
   "cell_type": "code",
   "execution_count": 35,
   "id": "fd2a2db3",
   "metadata": {},
   "outputs": [],
   "source": [
    "import os\n",
    "\n",
    "path = os.path.join(os.getenv('PYPROJ'), 'qualreas')\n",
    "\n",
    "alg = qr.Algebra(os.path.join(path, \"Algebras/2D_Point_Algebra.json\"))"
   ]
  },
  {
   "cell_type": "code",
   "execution_count": 36,
   "id": "7856ff38",
   "metadata": {},
   "outputs": [
    {
     "name": "stdout",
     "output_type": "stream",
     "text": [
      "  Algebra Name: 2D_Point_Algebra\n",
      "   Description: Autogenerated 2-dimensional point algebra\n",
      " Equality Rels: EQ\n",
      "     Relations:\n",
      "            NAME (SYMBOL)         CONVERSE (ABBREV)  REFLEXIVE  SYMMETRIC TRANSITIVE   DOMAIN        RANGE\n",
      "              South (  S)               North (  N)    False      False       True       2DPt          2DPt\n",
      "             Equals ( EQ)              Equals ( EQ)     True       True       True       2DPt          2DPt\n",
      "              North (  N)               South (  S)    False      False       True       2DPt          2DPt\n",
      "          Southwest ( SW)           Northeast ( NE)    False      False       True       2DPt          2DPt\n",
      "               West (  W)                East (  E)    False      False       True       2DPt          2DPt\n",
      "          Northwest ( NW)           Southeast ( SE)    False      False       True       2DPt          2DPt\n",
      "          Southeast ( SE)           Northwest ( NW)    False      False       True       2DPt          2DPt\n",
      "               East (  E)                West (  W)    False      False       True       2DPt          2DPt\n",
      "          Northeast ( NE)           Southwest ( SW)    False      False       True       2DPt          2DPt\n",
      "\n",
      "Domain & Range Abbreviations:\n",
      "   Pt = Point\n",
      " PInt = Proper Interval\n"
     ]
    }
   ],
   "source": [
    "alg.summary()"
   ]
  },
  {
   "cell_type": "code",
   "execution_count": 37,
   "id": "981c1bf5",
   "metadata": {},
   "outputs": [
    {
     "data": {
      "text/plain": [
       "True"
      ]
     },
     "execution_count": 37,
     "metadata": {},
     "output_type": "execute_result"
    }
   ],
   "source": [
    "alg.check_composition_identity()"
   ]
  },
  {
   "cell_type": "code",
   "execution_count": 38,
   "id": "b5b2165b",
   "metadata": {},
   "outputs": [
    {
     "name": "stdout",
     "output_type": "stream",
     "text": [
      "TEST SUMMARY: 729 OK, 0 Skipped, 0 Failed (729 Total)\n"
     ]
    },
    {
     "data": {
      "text/plain": [
       "True"
      ]
     },
     "execution_count": 38,
     "metadata": {},
     "output_type": "execute_result"
    }
   ],
   "source": [
    "alg.is_associative()"
   ]
  },
  {
   "cell_type": "code",
   "execution_count": null,
   "id": "2c73f459",
   "metadata": {},
   "outputs": [],
   "source": []
  }
 ],
 "metadata": {
  "kernelspec": {
   "display_name": "Python 3 (ipykernel)",
   "language": "python",
   "name": "python3"
  },
  "language_info": {
   "codemirror_mode": {
    "name": "ipython",
    "version": 3
   },
   "file_extension": ".py",
   "mimetype": "text/x-python",
   "name": "python",
   "nbconvert_exporter": "python",
   "pygments_lexer": "ipython3",
   "version": "3.7.16"
  }
 },
 "nbformat": 4,
 "nbformat_minor": 5
}
