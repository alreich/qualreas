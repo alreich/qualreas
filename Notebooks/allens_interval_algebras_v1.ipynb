{
 "cells": [
  {
   "cell_type": "markdown",
   "metadata": {},
   "source": [
    "# Allen's Algebra of Proper Time Intervals"
   ]
  },
  {
   "cell_type": "markdown",
   "metadata": {},
   "source": [
    "<i>Version 1</i>"
   ]
  },
  {
   "cell_type": "markdown",
   "metadata": {},
   "source": [
    "## References"
   ]
  },
  {
   "cell_type": "markdown",
   "metadata": {},
   "source": [
    "1. [\"Intervals, Points, and Branching Time\" by A.J. Reich](https://www.researchgate.net/publication/220810644_Intervals_Points_and_Branching_Time) - basis for the extensions here to Allen's algebra\n",
    "1. [Allen's Interval Algebra](https://www.ics.uci.edu/~alspaugh/cls/shr/allen.html) or [here](https://thomasalspaugh.org/pub/fnd/allen.html) - summarizes Allen's algebra of proper time intervals\n",
    "1. [\"Maintaining Knowledge about Temporal Intervals\" by James F. Allen](https://cse.unl.edu/~choueiry/Documents/Allen-CACM1983.pdf) - Allen's original paper (PDF)\n"
   ]
  },
  {
   "cell_type": "markdown",
   "metadata": {},
   "source": [
    "## Dependencies"
   ]
  },
  {
   "cell_type": "code",
   "execution_count": 1,
   "metadata": {},
   "outputs": [],
   "source": [
    "import qualreas as qr\n",
    "import os"
   ]
  },
  {
   "cell_type": "code",
   "execution_count": 2,
   "metadata": {},
   "outputs": [],
   "source": [
    "path = os.path.join(os.getenv('PYPROJ'), 'qualreas')"
   ]
  },
  {
   "cell_type": "markdown",
   "metadata": {},
   "source": [
    "## Instantiate an Algebra"
   ]
  },
  {
   "cell_type": "markdown",
   "metadata": {},
   "source": [
    "Algebras are defined in JSON format.  The definition of Allen's algebra of proper time intervals, published in 1983, is a \"Linear Interval Algebra\" and is instantiated as follows:"
   ]
  },
  {
   "cell_type": "code",
   "execution_count": 4,
   "metadata": {},
   "outputs": [],
   "source": [
    "alg = qr.Algebra(os.path.join(path, \"Algebras/LinearIntervalAlgebra.json\"))"
   ]
  },
  {
   "cell_type": "markdown",
   "metadata": {},
   "source": [
    "## Algebra Summary"
   ]
  },
  {
   "cell_type": "markdown",
   "metadata": {},
   "source": [
    "Two important aspects of an algebra are defined in the JSON file that was loaded above:\n",
    "1. The algebra's set of relations and their properties\n",
    "1. The algebra's composition or transitivity table (called TransTable in the JSON file)\n",
    "\n",
    "The first of these aspects, the set of relations, is described by the Algebra's <i><b>summary</b></i> method, as shown below.\n",
    "\n",
    "Composition/Transitivity tables are used to implement the Algebra's <i><b>compose</b></i> method, and are generally too large to print out.  (Note: Composition is often referred to as \"multiplication\".)"
   ]
  },
  {
   "cell_type": "code",
   "execution_count": 6,
   "metadata": {},
   "outputs": [
    {
     "name": "stdout",
     "output_type": "stream",
     "text": [
      "  Algebra Name: LinearIntervalAlgebra\n",
      "   Description: Allen's algebra of proper time intervals\n",
      " Equality Rels: E\n",
      "     Relations:\n",
      "            NAME (SYMBOL)         CONVERSE (ABBREV)  REFLEXIVE  SYMMETRIC TRANSITIVE   DOMAIN        RANGE\n",
      "             Before (  B)               After ( BI)    False      False       True       PInt          PInt\n",
      "              After ( BI)              Before (  B)    False      False       True       PInt          PInt\n",
      "             During (  D)            Contains ( DI)    False      False       True       PInt          PInt\n",
      "           Contains ( DI)              During (  D)    False      False       True       PInt          PInt\n",
      "             Equals (  E)              Equals (  E)     True       True       True       PInt          PInt\n",
      "           Finishes (  F)         Finished-by ( FI)    False      False       True       PInt          PInt\n",
      "        Finished-by ( FI)            Finishes (  F)    False      False       True       PInt          PInt\n",
      "              Meets (  M)              Met-By ( MI)    False      False      False       PInt          PInt\n",
      "             Met-By ( MI)               Meets (  M)    False      False      False       PInt          PInt\n",
      "           Overlaps (  O)       Overlapped-By ( OI)    False      False      False       PInt          PInt\n",
      "      Overlapped-By ( OI)            Overlaps (  O)    False      False      False       PInt          PInt\n",
      "             Starts (  S)          Started-By ( SI)    False      False       True       PInt          PInt\n",
      "         Started-By ( SI)              Starts (  S)    False      False       True       PInt          PInt\n",
      "\n",
      "Domain & Range Abbreviations:\n",
      "   Pt = Point\n",
      " PInt = Proper Interval\n"
     ]
    }
   ],
   "source": [
    "alg.summary()"
   ]
  },
  {
   "cell_type": "markdown",
   "metadata": {},
   "source": [
    "## Algebra Element Summary"
   ]
  },
  {
   "cell_type": "markdown",
   "metadata": {},
   "source": [
    "Here are a few individual element summaries:"
   ]
  },
  {
   "cell_type": "code",
   "execution_count": 20,
   "metadata": {},
   "outputs": [
    {
     "name": "stdout",
     "output_type": "stream",
     "text": [
      "--------------------------------------------------\n",
      "M:\n",
      "                    Name: Meets\n",
      "                  Domain: ['ProperInterval']\n",
      "                   Range: ['ProperInterval']\n",
      "                Converse: Met-By\n",
      "           Is Reflexive?: False\n",
      "           Is Symmetric?: False\n",
      "          Is Transitive?: False\n",
      "Is an Equality Relation?: False\n",
      "--------------------------------------------------\n",
      "OI:\n",
      "                    Name: Overlapped-By\n",
      "                  Domain: ['ProperInterval']\n",
      "                   Range: ['ProperInterval']\n",
      "                Converse: Overlaps\n",
      "           Is Reflexive?: False\n",
      "           Is Symmetric?: False\n",
      "          Is Transitive?: False\n",
      "Is an Equality Relation?: False\n",
      "--------------------------------------------------\n",
      "E:\n",
      "                    Name: Equals\n",
      "                  Domain: ['ProperInterval']\n",
      "                   Range: ['ProperInterval']\n",
      "                Converse: Equals\n",
      "           Is Reflexive?: True\n",
      "           Is Symmetric?: True\n",
      "          Is Transitive?: True\n",
      "Is an Equality Relation?: True\n",
      "--------------------------------------------------\n"
     ]
    }
   ],
   "source": [
    "from random import sample\n",
    "\n",
    "sample_size = 3\n",
    "\n",
    "for element in sample(list(alg.elements), sample_size):\n",
    "    print(50*\"-\")\n",
    "    print(f\"{element}:\")\n",
    "    alg.element_summary(element)\n",
    "print(50*\"-\")"
   ]
  },
  {
   "cell_type": "markdown",
   "metadata": {},
   "source": [
    "## Equality Relations"
   ]
  },
  {
   "cell_type": "markdown",
   "metadata": {},
   "source": [
    "The number and type of equality relations in an algebra depends on the number and type of domains and ranges supported by the algebra.  (e.g., 'Point', 'ProperInterval', both, etc.)"
   ]
  },
  {
   "cell_type": "code",
   "execution_count": 15,
   "metadata": {},
   "outputs": [
    {
     "name": "stdout",
     "output_type": "stream",
     "text": [
      "\n",
      "Allen's algebra of proper time intervals\n",
      "has the following Equality Relation(s): E\n"
     ]
    }
   ],
   "source": [
    "print(f\"\\n{alg.description}\")\n",
    "print(f\"has the following Equality Relation(s): {alg.all_equality_relations}\")"
   ]
  },
  {
   "cell_type": "markdown",
   "metadata": {},
   "source": [
    "Here are element summaries of the algebra's equality relations:"
   ]
  },
  {
   "cell_type": "code",
   "execution_count": 16,
   "metadata": {},
   "outputs": [
    {
     "name": "stdout",
     "output_type": "stream",
     "text": [
      "--------------------------------------------------\n",
      "E:\n",
      "                    Name: Equals\n",
      "                  Domain: ['ProperInterval']\n",
      "                   Range: ['ProperInterval']\n",
      "                Converse: Equals\n",
      "           Is Reflexive?: True\n",
      "           Is Symmetric?: True\n",
      "          Is Transitive?: True\n",
      "Is an Equality Relation?: True\n",
      "--------------------------------------------------\n"
     ]
    }
   ],
   "source": [
    "for eq_rel in alg.all_equality_relations:\n",
    "    print(50*\"-\")\n",
    "    print(f\"{eq_rel}:\")\n",
    "    alg.element_summary(eq_rel)\n",
    "print(50*\"-\")"
   ]
  },
  {
   "cell_type": "markdown",
   "metadata": {},
   "source": [
    "## Creating Relation Sets"
   ]
  },
  {
   "cell_type": "markdown",
   "metadata": {},
   "source": [
    "There are two acceptable input formats for creating relation sets:"
   ]
  },
  {
   "cell_type": "code",
   "execution_count": 8,
   "metadata": {},
   "outputs": [
    {
     "name": "stdout",
     "output_type": "stream",
     "text": [
      "B|FI|M\n",
      "B|FI|M\n",
      "Same? True\n"
     ]
    }
   ],
   "source": [
    "relset_version1 = alg.relset(\"B|M|FI\")\n",
    "relset_version2 = alg.relset(['B', 'FI', 'M'])\n",
    "print(relset_version1)\n",
    "print(relset_version2)\n",
    "print(f\"Same? {relset_version1 == relset_version2}\")"
   ]
  },
  {
   "cell_type": "markdown",
   "metadata": {},
   "source": [
    "Singleton sets can also be created in two ways:"
   ]
  },
  {
   "cell_type": "code",
   "execution_count": 9,
   "metadata": {},
   "outputs": [
    {
     "name": "stdout",
     "output_type": "stream",
     "text": [
      "B\n",
      "B\n",
      "Same? True\n"
     ]
    }
   ],
   "source": [
    "singleton_relset_v1 = alg.relset(\"B\")\n",
    "singleton_relset_v2 = alg.relset([\"B\"])\n",
    "print(singleton_relset_v1)\n",
    "print(singleton_relset_v2)\n",
    "print(f\"Same? {singleton_relset_v1 == singleton_relset_v2}\")"
   ]
  },
  {
   "cell_type": "markdown",
   "metadata": {},
   "source": [
    "And, there are two ways the empty set can be created:"
   ]
  },
  {
   "cell_type": "code",
   "execution_count": 10,
   "metadata": {},
   "outputs": [
    {
     "name": "stdout",
     "output_type": "stream",
     "text": [
      "\n",
      "\n",
      "Same? True\n"
     ]
    },
    {
     "data": {
      "text/plain": [
       "relset()"
      ]
     },
     "execution_count": 10,
     "metadata": {},
     "output_type": "execute_result"
    }
   ],
   "source": [
    "empty_relset_v1 = alg.relset(\"\")\n",
    "empty_relset_v2 = alg.relset([])\n",
    "print(empty_relset_v1)  # Nothing will printout here.\n",
    "print(empty_relset_v2)  # Nor here.\n",
    "print(f\"Same? {empty_relset_v1 == empty_relset_v2}\")\n",
    "\n",
    "empty_relset_v1  # Just so we can see something that looks empty..."
   ]
  },
  {
   "cell_type": "markdown",
   "metadata": {},
   "source": [
    "## Operations on Relation Sets"
   ]
  },
  {
   "cell_type": "markdown",
   "metadata": {},
   "source": [
    "### Addition"
   ]
  },
  {
   "cell_type": "markdown",
   "metadata": {},
   "source": [
    "Addition (+) is set intersection:"
   ]
  },
  {
   "cell_type": "code",
   "execution_count": 11,
   "metadata": {},
   "outputs": [
    {
     "data": {
      "text/plain": [
       "relset(['M', 'O'])"
      ]
     },
     "execution_count": 11,
     "metadata": {},
     "output_type": "execute_result"
    }
   ],
   "source": [
    "alg.relset('B|M|O') + alg.relset('F|O|M|S')"
   ]
  },
  {
   "cell_type": "code",
   "execution_count": 12,
   "metadata": {},
   "outputs": [
    {
     "data": {
      "text/plain": [
       "relset()"
      ]
     },
     "execution_count": 12,
     "metadata": {},
     "output_type": "execute_result"
    }
   ],
   "source": [
    "alg.relset('B|M|O') + alg.relset('F|S')"
   ]
  },
  {
   "cell_type": "markdown",
   "metadata": {},
   "source": [
    "### Composition"
   ]
  },
  {
   "cell_type": "markdown",
   "metadata": {},
   "source": [
    "Composition, sometimes referred to as \"multiplication\", is relation composition applied to sets of relations.  (https://en.wikipedia.org/wiki/Composition_of_relations)\n",
    "\n",
    "When more than one relation appears in the sets, the result of composition is the union of all pairwise compositions of the individual relations in the sets.\n",
    "\n",
    "Below, we calculate 4 different compositions involving single relations, representing the pairwise compositions of F|MI and O|D:"
   ]
  },
  {
   "cell_type": "code",
   "execution_count": 13,
   "metadata": {},
   "outputs": [
    {
     "name": "stdout",
     "output_type": "stream",
     "text": [
      "F;O = D|O|S\n",
      "F;D = D\n",
      "MI;O = D|F|OI\n",
      "MI;D = D|F|OI\n"
     ]
    }
   ],
   "source": [
    "rel1 = \"F\"\n",
    "rel2= \"O\"\n",
    "rel3 = \"MI\"\n",
    "rel4 = \"D\"\n",
    "print(f\"{rel1};{rel2} = {alg.compose(alg.relset(rel1), alg.relset(rel2))}\")\n",
    "print(f\"{rel1};{rel4} = {alg.compose(alg.relset(rel1), alg.relset(rel4))}\")\n",
    "print(f\"{rel3};{rel2} = {alg.compose(alg.relset(rel3), alg.relset(rel2))}\")\n",
    "print(f\"{rel3};{rel4} = {alg.compose(alg.relset(rel3), alg.relset(rel4))}\")"
   ]
  },
  {
   "cell_type": "code",
   "execution_count": 14,
   "metadata": {},
   "outputs": [
    {
     "name": "stdout",
     "output_type": "stream",
     "text": [
      "(F|MI);(O|D) = D|F|O|OI|S\n"
     ]
    }
   ],
   "source": [
    "print(f\"({rel1}|{rel3});({rel2}|{rel4}) = {alg.compose(alg.relset('F|MI'), alg.relset('O|D'))}\")"
   ]
  },
  {
   "cell_type": "markdown",
   "metadata": {},
   "source": [
    "### Converses"
   ]
  },
  {
   "cell_type": "markdown",
   "metadata": {},
   "source": [
    "<u><b>NOTATION</b></u>:  Here, we'll denote the converse operation with \"!\".  So, if $A$ and $B$ are Temporal Entities, and $r$ is a relation between them, then $!r$ is its converse relation, so, $A r B$ if and only if $B !r A$.  For example, \"A before B\" if and only if \"B after A\"."
   ]
  },
  {
   "cell_type": "markdown",
   "metadata": {},
   "source": [
    "Individual relations have converses:"
   ]
  },
  {
   "cell_type": "code",
   "execution_count": 15,
   "metadata": {},
   "outputs": [
    {
     "name": "stdout",
     "output_type": "stream",
     "text": [
      "The converse of Before is After\n"
     ]
    }
   ],
   "source": [
    "rel_symbol = 'B'\n",
    "print(f\"The converse of {alg.rel_name(rel_symbol)} is {alg.rel_converse_name(rel_symbol)}\")"
   ]
  },
  {
   "cell_type": "markdown",
   "metadata": {},
   "source": [
    "And relation sets also have converses:"
   ]
  },
  {
   "cell_type": "code",
   "execution_count": 16,
   "metadata": {},
   "outputs": [
    {
     "name": "stdout",
     "output_type": "stream",
     "text": [
      "!B = BI.\n",
      "!(BI|F|MI) = B|FI|M\n"
     ]
    }
   ],
   "source": [
    "print(f\"!{alg.relset(rel_symbol)} = {alg.converse(alg.relset(rel_symbol))}.\")\n",
    "print(f\"!({alg.converse(relset_version1)}) = {relset_version1}\")"
   ]
  },
  {
   "cell_type": "markdown",
   "metadata": {},
   "source": [
    "### Complement of a Relation Set"
   ]
  },
  {
   "cell_type": "markdown",
   "metadata": {},
   "source": [
    "The complement of a relation set, R, is the set of all relation elements that are not in R.\n",
    "\n",
    "We'll use ~R to denote the complement of R."
   ]
  },
  {
   "cell_type": "code",
   "execution_count": 26,
   "metadata": {},
   "outputs": [
    {
     "name": "stdout",
     "output_type": "stream",
     "text": [
      "\n",
      "All Elements = B|BI|D|DI|E|F|FI|M|MI|O|OI|S|SI\n",
      "          R  = B|BI|D|DI|E|F|FI\n",
      "         ~R  =                  M|MI|O|OI|S|SI\n",
      "       ~(~R) = B|BI|D|DI|E|F|FI\n"
     ]
    }
   ],
   "source": [
    "R = alg.relset('B|BI|D|DI|E|F|FI')\n",
    "compR = R.complement()\n",
    "\n",
    "print(f\"\\nAll Elements = {alg.elements}\")\n",
    "print(f\"          R  = {R}\")\n",
    "print(f\"         ~R  =                  {compR}\")\n",
    "print(f\"       ~(~R) = {compR.complement()}\")"
   ]
  },
  {
   "cell_type": "markdown",
   "metadata": {},
   "source": [
    "## Global Properties of an Algebra of Relations"
   ]
  },
  {
   "cell_type": "markdown",
   "metadata": {},
   "source": [
    "There are two properties of an Algebra that are true for all \"applicable\" elements in the algebra:\n",
    "* The Composition Identity\n",
    "* Associativity, when domains & ranges permit"
   ]
  },
  {
   "cell_type": "markdown",
   "metadata": {},
   "source": [
    "### Composition Identity"
   ]
  },
  {
   "cell_type": "markdown",
   "metadata": {},
   "source": [
    "If $r$ and $s$ are two relations, then $(r;s)^{-1} = s^{-1};r^{-1}$"
   ]
  },
  {
   "cell_type": "markdown",
   "metadata": {},
   "source": [
    "If $r$ and $s$ are two relations, then $!(r;s) = (!s);(!r)$"
   ]
  },
  {
   "cell_type": "markdown",
   "metadata": {},
   "source": [
    "Here's an example:"
   ]
  },
  {
   "cell_type": "code",
   "execution_count": 27,
   "metadata": {},
   "outputs": [
    {
     "name": "stdout",
     "output_type": "stream",
     "text": [
      "!(O;F) = DI|OI|SI\n",
      "!F;!O = DI|OI|SI\n",
      "Same? True\n"
     ]
    }
   ],
   "source": [
    "r = alg.relset(\"O\")\n",
    "s = alg.relset(\"F\")\n",
    "\n",
    "conv_comp_r_s = alg.converse(alg.compose(r, s))\n",
    "print(f\"!({r};{s}) = {conv_comp_r_s}\")\n",
    "\n",
    "comp_conv_s_conv_r = alg.compose(alg.converse(s), alg.converse(r))\n",
    "print(f\"!{s};!{r} = {comp_conv_s_conv_r}\")\n",
    "\n",
    "print(f\"Same? {conv_comp_r_s == comp_conv_s_conv_r}\")"
   ]
  },
  {
   "cell_type": "markdown",
   "metadata": {},
   "source": [
    "The <i><b>check_composition_identity</b></i> Algebra method checks every possible pairing of individual algebra relations wrt the composition identity, and returns True if all pairs check out."
   ]
  },
  {
   "cell_type": "code",
   "execution_count": 28,
   "metadata": {},
   "outputs": [
    {
     "data": {
      "text/plain": [
       "True"
      ]
     },
     "execution_count": 28,
     "metadata": {},
     "output_type": "execute_result"
    }
   ],
   "source": [
    "alg.check_composition_identity()"
   ]
  },
  {
   "cell_type": "markdown",
   "metadata": {},
   "source": [
    "### Associativity"
   ]
  },
  {
   "cell_type": "markdown",
   "metadata": {},
   "source": [
    "The <i><b>is_associative</b></i> Algebra method checks all possible triples of individual algebra relations and, if the domains and ranges are \"compatible\", checks to see if the triple is associative.  Incompatible triples are skipped.  It returns True if all compatible triples are associative."
   ]
  },
  {
   "cell_type": "code",
   "execution_count": 29,
   "metadata": {},
   "outputs": [
    {
     "name": "stdout",
     "output_type": "stream",
     "text": [
      "There are 13^3 = 2197 ways we can combine the algebra's elements to test associativity.\n"
     ]
    }
   ],
   "source": [
    "num_elements = len(alg.elements)\n",
    "print(f\"There are {num_elements}^3 = {num_elements**3} ways we can combine the algebra's elements to test associativity.\")"
   ]
  },
  {
   "cell_type": "markdown",
   "metadata": {},
   "source": [
    "The following method tests all of those ways, skipping the ones that don't make sense due to range-domain mismatches."
   ]
  },
  {
   "cell_type": "code",
   "execution_count": 30,
   "metadata": {},
   "outputs": [
    {
     "name": "stdout",
     "output_type": "stream",
     "text": [
      "TEST SUMMARY: 2197 OK, 0 Skipped, 0 Failed (2197 Total)\n"
     ]
    },
    {
     "data": {
      "text/plain": [
       "True"
      ]
     },
     "execution_count": 30,
     "metadata": {},
     "output_type": "execute_result"
    }
   ],
   "source": [
    "alg.is_associative()"
   ]
  }
 ],
 "metadata": {
  "kernelspec": {
   "display_name": "Python 3",
   "language": "python",
   "name": "python3"
  },
  "language_info": {
   "codemirror_mode": {
    "name": "ipython",
    "version": 3
   },
   "file_extension": ".py",
   "mimetype": "text/x-python",
   "name": "python",
   "nbconvert_exporter": "python",
   "pygments_lexer": "ipython3",
   "version": "3.7.7"
  }
 },
 "nbformat": 4,
 "nbformat_minor": 2
}
