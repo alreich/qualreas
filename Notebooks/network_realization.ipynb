{
 "cells": [
  {
   "cell_type": "markdown",
   "metadata": {},
   "source": [
    "# Network Realization"
   ]
  },
  {
   "cell_type": "code",
   "execution_count": 1,
   "metadata": {},
   "outputs": [],
   "source": [
    "import qualreas as qr\n",
    "import os\n",
    "import copy"
   ]
  },
  {
   "cell_type": "code",
   "execution_count": 2,
   "metadata": {},
   "outputs": [],
   "source": [
    "qr_path = os.path.join(os.getenv('PYPROJ'), 'qualreas')\n",
    "alg_dir = os.path.join(qr_path, \"Algebras\")"
   ]
  },
  {
   "cell_type": "markdown",
   "metadata": {},
   "source": [
    "## Some Test Networks"
   ]
  },
  {
   "cell_type": "code",
   "execution_count": 3,
   "metadata": {},
   "outputs": [],
   "source": [
    "testnet1_dict = {\n",
    "    'name': 'Network Test 1',\n",
    "    'algebra': 'Linear_Interval_Algebra',\n",
    "    'description': 'Testing/Developing network copy functionality',\n",
    "    'nodes': [\n",
    "        ['U', ['ProperInterval']],\n",
    "        ['V', ['ProperInterval']],\n",
    "        ['W', ['ProperInterval']]\n",
    "    ],\n",
    "    'edges': [\n",
    "        ['U', 'V', 'B|M'],\n",
    "        ['U', 'W', 'D|M|FI'],\n",
    "        ['W', 'V', 'O']\n",
    "    ]\n",
    "}"
   ]
  },
  {
   "cell_type": "code",
   "execution_count": 4,
   "metadata": {},
   "outputs": [],
   "source": [
    "testnet2_dict = {\n",
    "    'name': 'Network Test 2',\n",
    "    'algebra': 'Extended_Linear_Interval_Algebra',\n",
    "    'description': 'Testing/Developing network copy functionality',\n",
    "    'nodes': [\n",
    "        ['X', ['ProperInterval']],\n",
    "        ['Y', ['ProperInterval']],\n",
    "        ['Z', ['ProperInterval']]\n",
    "    ],\n",
    "    'edges': [\n",
    "        ['X', 'Y', 'B'],\n",
    "        ['Y', 'Z', 'B']\n",
    "    ]\n",
    "}"
   ]
  },
  {
   "cell_type": "code",
   "execution_count": 5,
   "metadata": {},
   "outputs": [],
   "source": [
    "testnet1 = qr.Network(algebra_path=alg_dir, network_dict=testnet1_dict)\n",
    "testnet2 = qr.Network(algebra_path=alg_dir, network_dict=testnet2_dict)"
   ]
  },
  {
   "cell_type": "code",
   "execution_count": 6,
   "metadata": {},
   "outputs": [
    {
     "name": "stdout",
     "output_type": "stream",
     "text": [
      "\n",
      "Network Test 1: 3 nodes, 9 edges\n",
      "  Algebra: Linear_Interval_Algebra\n",
      "  U:['ProperInterval']\n",
      "    => U: E\n",
      "    => V: B|M\n",
      "    => W: D|M\n",
      "  V:['ProperInterval']\n",
      "    => V: E\n",
      "    => W: OI\n",
      "  W:['ProperInterval']\n",
      "    => W: E\n"
     ]
    }
   ],
   "source": [
    "testnet1.propagate()\n",
    "testnet1.summary(show_all=False)"
   ]
  },
  {
   "cell_type": "code",
   "execution_count": 7,
   "metadata": {},
   "outputs": [
    {
     "name": "stdout",
     "output_type": "stream",
     "text": [
      "\n",
      "Network Test 2: 3 nodes, 9 edges\n",
      "  Algebra: Extended_Linear_Interval_Algebra\n",
      "  X:['ProperInterval']\n",
      "    => X: E\n",
      "    => Y: B\n",
      "    => Z: B\n",
      "  Y:['ProperInterval']\n",
      "    => Y: E\n",
      "    => Z: B\n",
      "  Z:['ProperInterval']\n",
      "    => Z: E\n"
     ]
    }
   ],
   "source": [
    "testnet2.propagate()\n",
    "testnet2.summary(show_all=False)"
   ]
  },
  {
   "cell_type": "code",
   "execution_count": 8,
   "metadata": {},
   "outputs": [
    {
     "name": "stdout",
     "output_type": "stream",
     "text": [
      "X X E\n",
      "X Y B\n",
      "X Z B\n",
      "Y Y E\n",
      "Y Z B\n",
      "Z Z E\n"
     ]
    }
   ],
   "source": [
    "testnet = testnet2\n",
    "done = []\n",
    "foo = []\n",
    "for eg in testnet.edges:\n",
    "    src = eg[0]; tgt = eg[1]\n",
    "    srcID = src.name; tgtID = tgt.name\n",
    "    if not (src, tgt) in done:\n",
    "        cons = testnet.edges[src, tgt]['constraint']\n",
    "        print(srcID, tgtID, cons)\n",
    "        if len(cons) > 1:\n",
    "            foo.append((srcID, tgtID, cons))\n",
    "    done.append((tgt, src))"
   ]
  },
  {
   "cell_type": "code",
   "execution_count": 9,
   "metadata": {},
   "outputs": [
    {
     "name": "stdout",
     "output_type": "stream",
     "text": [
      "Call Main: [2, 3, 4], []\n",
      "Call Main: [2, 3], [16]\n",
      "Call Main: [2], [16, 9]\n",
      "Call Main: [], [16, 9, 4]\n",
      "Should Return: [16, 9, 4]\n",
      "Output: [16, 9, 4]\n"
     ]
    }
   ],
   "source": [
    "def main(list1, list2):\n",
    "    print(f\"Call Main: {list1}, {list2}\")\n",
    "    if len(list1) == 0:\n",
    "        print(f\"Should Return: {list2}\")\n",
    "    else:\n",
    "        item = list1.pop()\n",
    "        return main(list1, list2 + [item * item])\n",
    "    return list2\n",
    "\n",
    "out = main([2,3,4], [])\n",
    "print(f\"Output: {out}\")"
   ]
  },
  {
   "cell_type": "raw",
   "metadata": {},
   "source": [
    "def generate_singletons(in_work, result):\n",
    "    if len(in_work) == 0:\n",
    "        return result\n",
    "    else:\n",
    "        next_net = in_work.pop()\n",
    "        if finished(next_net):\n",
    "            return generate_singletons(in_work, result + [next_net])\n",
    "        else:\n",
    "            return generate_singletons(in_work + expand(next_net), result)\n",
    "\n",
    "def expand(net):\n",
    "    expansion = []\n",
    "    for src, tgt in net.edges:\n",
    "        edge_constraint = net.edges[src, tgt]['constraint']\n",
    "        if len(edge_constraint) > 1:\n",
    "            print(\"--------\")\n",
    "            print(f\"Edge Constraint: {edge_constraint}\")\n",
    "            for rel in edge_constraint:\n",
    "                print(f\"   Relation: {rel}\")\n",
    "                net_copy = net.copy()\n",
    "                src_node, tgt_node, _ = net_copy.get_edge_by_names(src.name, tgt.name, return_names=False)\n",
    "                net_copy.set_constraint(src_node, tgt_node, net_copy.algebra.relset(rel))\n",
    "                expansion = expansion + [net_copy]\n",
    "                print(f\"   Expansion: {expansion}\")\n",
    "            break\n",
    "    return expansion\n",
    "\n",
    "def finished(net):\n",
    "    \"\"\"Returns True if all constraints are singletons.\"\"\"\n",
    "    answer = True\n",
    "    for src, tgt in net.edges:\n",
    "        edge_constraint = net.edges[src, tgt]['constraint']\n",
    "        if len(edge_constraint) > 1:\n",
    "            answer = False\n",
    "            break\n",
    "    return answer"
   ]
  },
  {
   "cell_type": "code",
   "execution_count": null,
   "metadata": {},
   "outputs": [],
   "source": []
  },
  {
   "cell_type": "code",
   "execution_count": 10,
   "metadata": {},
   "outputs": [],
   "source": [
    "x = qr.generate_realizations([testnet1], list())"
   ]
  },
  {
   "cell_type": "code",
   "execution_count": 11,
   "metadata": {},
   "outputs": [
    {
     "data": {
      "text/plain": [
       "[<qualreas.Network at 0x7f8eb07854d0>,\n",
       " <qualreas.Network at 0x7f8eb077de90>,\n",
       " <qualreas.Network at 0x7f8eb0785ad0>]"
      ]
     },
     "execution_count": 11,
     "metadata": {},
     "output_type": "execute_result"
    }
   ],
   "source": [
    "x"
   ]
  },
  {
   "cell_type": "code",
   "execution_count": 12,
   "metadata": {},
   "outputs": [],
   "source": [
    "a, b, c = x"
   ]
  },
  {
   "cell_type": "code",
   "execution_count": 13,
   "metadata": {},
   "outputs": [
    {
     "name": "stdout",
     "output_type": "stream",
     "text": [
      "\n",
      "Network Test 1: 3 nodes, 9 edges\n",
      "  Algebra: Linear_Interval_Algebra\n",
      "  U:['ProperInterval']\n",
      "    => U: E\n",
      "    => V: B|M\n",
      "    => W: D|M\n",
      "  V:['ProperInterval']\n",
      "    => V: E\n",
      "    => W: OI\n",
      "  W:['ProperInterval']\n",
      "    => W: E\n"
     ]
    }
   ],
   "source": [
    "testnet1.summary(show_all=False)"
   ]
  },
  {
   "cell_type": "code",
   "execution_count": 14,
   "metadata": {},
   "outputs": [
    {
     "name": "stdout",
     "output_type": "stream",
     "text": [
      "\n",
      "Network Test 1: 3 nodes, 9 edges\n",
      "  Algebra: Linear_Interval_Algebra\n",
      "  U:['ProperInterval']\n",
      "    => U: E\n",
      "    => V: M\n",
      "    => W: D\n",
      "  V:['ProperInterval']\n",
      "    => V: E\n",
      "    => W: OI\n",
      "  W:['ProperInterval']\n",
      "    => W: E\n"
     ]
    }
   ],
   "source": [
    "a.propagate()\n",
    "a.summary(show_all=False)"
   ]
  },
  {
   "cell_type": "code",
   "execution_count": 15,
   "metadata": {},
   "outputs": [
    {
     "name": "stdout",
     "output_type": "stream",
     "text": [
      "\n",
      "Network Test 1: 3 nodes, 9 edges\n",
      "  Algebra: Linear_Interval_Algebra\n",
      "  U:['ProperInterval']\n",
      "    => U: E\n",
      "    => V: B\n",
      "    => W: M\n",
      "  V:['ProperInterval']\n",
      "    => V: E\n",
      "    => W: OI\n",
      "  W:['ProperInterval']\n",
      "    => W: E\n"
     ]
    }
   ],
   "source": [
    "b.propagate()\n",
    "b.summary(show_all=False)"
   ]
  },
  {
   "cell_type": "code",
   "execution_count": 16,
   "metadata": {},
   "outputs": [
    {
     "name": "stdout",
     "output_type": "stream",
     "text": [
      "\n",
      "Network Test 1: 3 nodes, 9 edges\n",
      "  Algebra: Linear_Interval_Algebra\n",
      "  U:['ProperInterval']\n",
      "    => U: E\n",
      "    => V: B\n",
      "    => W: D\n",
      "  V:['ProperInterval']\n",
      "    => V: E\n",
      "    => W: OI\n",
      "  W:['ProperInterval']\n",
      "    => W: E\n"
     ]
    }
   ],
   "source": [
    "c.propagate()\n",
    "c.summary(show_all=False)"
   ]
  },
  {
   "cell_type": "code",
   "execution_count": null,
   "metadata": {},
   "outputs": [],
   "source": []
  }
 ],
 "metadata": {
  "kernelspec": {
   "display_name": "Python 3",
   "language": "python",
   "name": "python3"
  },
  "language_info": {
   "codemirror_mode": {
    "name": "ipython",
    "version": 3
   },
   "file_extension": ".py",
   "mimetype": "text/x-python",
   "name": "python",
   "nbconvert_exporter": "python",
   "pygments_lexer": "ipython3",
   "version": "3.7.7"
  }
 },
 "nbformat": 4,
 "nbformat_minor": 4
}
