{
 "cells": [
  {
   "cell_type": "markdown",
   "id": "c6839eb9",
   "metadata": {},
   "source": [
    "# Generating Point Transitivity Tables"
   ]
  },
  {
   "cell_type": "markdown",
   "id": "40b73314",
   "metadata": {},
   "source": [
    "## Transitivity Table for Linear Time Point Relations"
   ]
  },
  {
   "cell_type": "markdown",
   "id": "9fda1b2b",
   "metadata": {},
   "source": [
    "The following code produces the transitivity table in <b>Figure 5 of Reich's 1994 paper</b>, <i>\"Intervals, Points, and Branching Time\"</i>:"
   ]
  },
  {
   "cell_type": "code",
   "execution_count": 1,
   "id": "aa11d02d",
   "metadata": {},
   "outputs": [],
   "source": [
    "def rel(x, y):\n",
    "    \"\"\"Return the relation between x and y.\"\"\"\n",
    "    if x < y:\n",
    "        return \"<\"\n",
    "    elif x > y:\n",
    "        return \">\"\n",
    "    else:\n",
    "        return \"=\""
   ]
  },
  {
   "cell_type": "markdown",
   "id": "dc2254ce",
   "metadata": {},
   "source": [
    "Initialize an empty table:"
   ]
  },
  {
   "cell_type": "code",
   "execution_count": 2,
   "id": "a2c23675",
   "metadata": {},
   "outputs": [],
   "source": [
    "fig5 = {'<': {'<': set(), '=': set(), '>': set()},\n",
    "        '=': {'<': set(), '=': set(), '>': set()},\n",
    "        '>': {'<': set(), '=': set(), '>': set()}}"
   ]
  },
  {
   "cell_type": "markdown",
   "id": "d5d49b48",
   "metadata": {},
   "source": [
    "Choose the number of values, <b>n</b>, to generate all possible configurations of 3 points, a, b, & c.\n",
    "\n",
    "(Actually, 3 will work fine, but to be sure, I've used 7 here.)"
   ]
  },
  {
   "cell_type": "code",
   "execution_count": 3,
   "id": "f461fb2d",
   "metadata": {},
   "outputs": [],
   "source": [
    "n = 7"
   ]
  },
  {
   "cell_type": "code",
   "execution_count": 4,
   "id": "0a758c14",
   "metadata": {},
   "outputs": [],
   "source": [
    "for a in range(0, n):\n",
    "    for b in range(0, n):\n",
    "        for c in range(0, n):\n",
    "            fig5[rel(a, b)][rel(b, c)].add(rel(a, c))"
   ]
  },
  {
   "cell_type": "markdown",
   "id": "a6c6e6e7",
   "metadata": {},
   "source": [
    "The following \"table\" is identical to that found in Figure 5 of [Reich, 1994]:"
   ]
  },
  {
   "cell_type": "code",
   "execution_count": 5,
   "id": "0ec897e7",
   "metadata": {},
   "outputs": [
    {
     "data": {
      "text/plain": [
       "{'<': {'<': {'<'}, '=': {'<'}, '>': {'<', '=', '>'}},\n",
       " '=': {'<': {'<'}, '=': {'='}, '>': {'>'}},\n",
       " '>': {'<': {'<', '=', '>'}, '=': {'>'}, '>': {'>'}}}"
      ]
     },
     "execution_count": 5,
     "metadata": {},
     "output_type": "execute_result"
    }
   ],
   "source": [
    "fig5"
   ]
  },
  {
   "cell_type": "markdown",
   "id": "a8483089",
   "metadata": {},
   "source": [
    "## Transitivity Table for Branching Time Point Relations"
   ]
  },
  {
   "cell_type": "markdown",
   "id": "57300628",
   "metadata": {},
   "source": [
    "<b>TODO</b>: Modify the function <b>rel</b>, defined above, so that it can handle left and right branching time."
   ]
  },
  {
   "cell_type": "markdown",
   "id": "84095eaa",
   "metadata": {},
   "source": [
    "## Transitivity Table for 2-Dimensional Point Relations"
   ]
  },
  {
   "cell_type": "code",
   "execution_count": 6,
   "id": "02925155",
   "metadata": {},
   "outputs": [],
   "source": [
    "def rel2d(coord1, coord2):\n",
    "    x1, y1 = coord1\n",
    "    x2, y2 = coord2\n",
    "    if x1 == x2:  # Vertically aligned\n",
    "        if y1 == y2:\n",
    "            return \"EQ\"  # coord1 equals coord2\n",
    "        elif y1 < y2:\n",
    "            return \"S\"  # coord1 south-of coord2\n",
    "        else:\n",
    "            return \"N\"  # coord1 north-of coord2\n",
    "    elif x1 < x2:\n",
    "        if y1 == y2:\n",
    "            return \"W\"  # coord1 west-of coord2\n",
    "        elif y1 < y2:\n",
    "            return \"SW\"  # coord1 southwest-of coord2\n",
    "        else:\n",
    "            return \"NW\"  # coord1 northwest-of coord2\n",
    "    else:\n",
    "        if y1 == y2:\n",
    "            return \"E\"  # coord1 east-of coord2\n",
    "        elif y1 < y2:\n",
    "            return \"SE\"  # coord1 southeast-of coord2\n",
    "        else:\n",
    "            return \"NE\"  # coord1 northeast-of coord2"
   ]
  },
  {
   "cell_type": "code",
   "execution_count": 7,
   "id": "575b0b5e",
   "metadata": {},
   "outputs": [],
   "source": [
    "tbl = {'S': {'S': set(), 'EQ': set(), 'N': set(),\n",
    "             'SW': set(), 'W': set(), 'NW': set(),\n",
    "             'SE': set(), 'E': set(), 'NE': set()\n",
    "            },\n",
    "       'EQ': {'S': set(), 'EQ': set(), 'N': set(),\n",
    "              'SW': set(), 'W': set(), 'NW': set(),\n",
    "              'SE': set(), 'E': set(), 'NE': set()\n",
    "            },\n",
    "       'N': {'S': set(), 'EQ': set(), 'N': set(),\n",
    "             'SW': set(), 'W': set(), 'NW': set(),\n",
    "             'SE': set(), 'E': set(), 'NE': set()\n",
    "            },\n",
    "       'SW': {'S': set(), 'EQ': set(), 'N': set(),\n",
    "              'SW': set(), 'W': set(), 'NW': set(),\n",
    "              'SE': set(), 'E': set(), 'NE': set()\n",
    "            },\n",
    "       'W': {'S': set(), 'EQ': set(), 'N': set(),\n",
    "             'SW': set(), 'W': set(), 'NW': set(),\n",
    "             'SE': set(), 'E': set(), 'NE': set()\n",
    "            },\n",
    "       'NW': {'S': set(), 'EQ': set(), 'N': set(),\n",
    "              'SW': set(), 'W': set(), 'NW': set(),\n",
    "              'SE': set(), 'E': set(), 'NE': set()\n",
    "            },\n",
    "       'SE': {'S': set(), 'EQ': set(), 'N': set(),\n",
    "              'SW': set(), 'W': set(), 'NW': set(),\n",
    "              'SE': set(), 'E': set(), 'NE': set()\n",
    "            },\n",
    "       'E': {'S': set(), 'EQ': set(), 'N': set(),\n",
    "             'SW': set(), 'W': set(), 'NW': set(),\n",
    "             'SE': set(), 'E': set(), 'NE': set()\n",
    "            },\n",
    "       'NE': {'S': set(), 'EQ': set(), 'N': set(),\n",
    "              'SW': set(), 'W': set(), 'NW': set(),\n",
    "              'SE': set(), 'E': set(), 'NE': set()\n",
    "            }\n",
    "      }"
   ]
  },
  {
   "cell_type": "code",
   "execution_count": 8,
   "id": "5259e7f3",
   "metadata": {},
   "outputs": [],
   "source": [
    "for x1 in range(0, n):\n",
    "    for x2 in range(0, n):\n",
    "        x = (x1, x2)\n",
    "        for y1 in range(0, n):\n",
    "            for y2 in range(0, n):\n",
    "                y = (y1, y2)\n",
    "                for z1 in range(0, n):\n",
    "                    for z2 in range(0, n):\n",
    "                        z = (z1, z2)\n",
    "                        tbl[rel2d(x, y)][rel2d(y, z)].add(rel2d(x, z))"
   ]
  },
  {
   "cell_type": "code",
   "execution_count": 9,
   "id": "29913aa3",
   "metadata": {},
   "outputs": [
    {
     "data": {
      "text/plain": [
       "{'S': {'S': {'S'},\n",
       "  'EQ': {'S'},\n",
       "  'N': {'EQ', 'N', 'S'},\n",
       "  'SW': {'SW'},\n",
       "  'W': {'SW'},\n",
       "  'NW': {'NW', 'SW', 'W'},\n",
       "  'SE': {'SE'},\n",
       "  'E': {'SE'},\n",
       "  'NE': {'E', 'NE', 'SE'}},\n",
       " 'EQ': {'S': {'S'},\n",
       "  'EQ': {'EQ'},\n",
       "  'N': {'N'},\n",
       "  'SW': {'SW'},\n",
       "  'W': {'W'},\n",
       "  'NW': {'NW'},\n",
       "  'SE': {'SE'},\n",
       "  'E': {'E'},\n",
       "  'NE': {'NE'}},\n",
       " 'N': {'S': {'EQ', 'N', 'S'},\n",
       "  'EQ': {'N'},\n",
       "  'N': {'N'},\n",
       "  'SW': {'NW', 'SW', 'W'},\n",
       "  'W': {'NW'},\n",
       "  'NW': {'NW'},\n",
       "  'SE': {'E', 'NE', 'SE'},\n",
       "  'E': {'NE'},\n",
       "  'NE': {'NE'}},\n",
       " 'SW': {'S': {'SW'},\n",
       "  'EQ': {'SW'},\n",
       "  'N': {'NW', 'SW', 'W'},\n",
       "  'SW': {'SW'},\n",
       "  'W': {'SW'},\n",
       "  'NW': {'NW', 'SW', 'W'},\n",
       "  'SE': {'S', 'SE', 'SW'},\n",
       "  'E': {'S', 'SE', 'SW'},\n",
       "  'NE': {'E', 'EQ', 'N', 'NE', 'NW', 'S', 'SE', 'SW', 'W'}},\n",
       " 'W': {'S': {'SW'},\n",
       "  'EQ': {'W'},\n",
       "  'N': {'NW'},\n",
       "  'SW': {'SW'},\n",
       "  'W': {'W'},\n",
       "  'NW': {'NW'},\n",
       "  'SE': {'S', 'SE', 'SW'},\n",
       "  'E': {'E', 'EQ', 'W'},\n",
       "  'NE': {'N', 'NE', 'NW'}},\n",
       " 'NW': {'S': {'NW', 'SW', 'W'},\n",
       "  'EQ': {'NW'},\n",
       "  'N': {'NW'},\n",
       "  'SW': {'NW', 'SW', 'W'},\n",
       "  'W': {'NW'},\n",
       "  'NW': {'NW'},\n",
       "  'SE': {'E', 'EQ', 'N', 'NE', 'NW', 'S', 'SE', 'SW', 'W'},\n",
       "  'E': {'N', 'NE', 'NW'},\n",
       "  'NE': {'N', 'NE', 'NW'}},\n",
       " 'SE': {'S': {'SE'},\n",
       "  'EQ': {'SE'},\n",
       "  'N': {'E', 'NE', 'SE'},\n",
       "  'SW': {'S', 'SE', 'SW'},\n",
       "  'W': {'S', 'SE', 'SW'},\n",
       "  'NW': {'E', 'EQ', 'N', 'NE', 'NW', 'S', 'SE', 'SW', 'W'},\n",
       "  'SE': {'SE'},\n",
       "  'E': {'SE'},\n",
       "  'NE': {'E', 'NE', 'SE'}},\n",
       " 'E': {'S': {'SE'},\n",
       "  'EQ': {'E'},\n",
       "  'N': {'NE'},\n",
       "  'SW': {'S', 'SE', 'SW'},\n",
       "  'W': {'E', 'EQ', 'W'},\n",
       "  'NW': {'N', 'NE', 'NW'},\n",
       "  'SE': {'SE'},\n",
       "  'E': {'E'},\n",
       "  'NE': {'NE'}},\n",
       " 'NE': {'S': {'E', 'NE', 'SE'},\n",
       "  'EQ': {'NE'},\n",
       "  'N': {'NE'},\n",
       "  'SW': {'E', 'EQ', 'N', 'NE', 'NW', 'S', 'SE', 'SW', 'W'},\n",
       "  'W': {'N', 'NE', 'NW'},\n",
       "  'NW': {'N', 'NE', 'NW'},\n",
       "  'SE': {'E', 'NE', 'SE'},\n",
       "  'E': {'NE'},\n",
       "  'NE': {'NE'}}}"
      ]
     },
     "execution_count": 9,
     "metadata": {},
     "output_type": "execute_result"
    }
   ],
   "source": [
    "tbl"
   ]
  },
  {
   "cell_type": "code",
   "execution_count": null,
   "id": "4bb73ed3",
   "metadata": {},
   "outputs": [],
   "source": []
  }
 ],
 "metadata": {
  "kernelspec": {
   "display_name": "Python 3 (ipykernel)",
   "language": "python",
   "name": "python3"
  },
  "language_info": {
   "codemirror_mode": {
    "name": "ipython",
    "version": 3
   },
   "file_extension": ".py",
   "mimetype": "text/x-python",
   "name": "python",
   "nbconvert_exporter": "python",
   "pygments_lexer": "ipython3",
   "version": "3.9.16"
  }
 },
 "nbformat": 4,
 "nbformat_minor": 5
}
