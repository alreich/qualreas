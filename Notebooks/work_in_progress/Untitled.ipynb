{
 "cells": [
  {
   "cell_type": "markdown",
   "id": "c6839eb9",
   "metadata": {},
   "source": [
    "# Experiments with Point Tables"
   ]
  },
  {
   "cell_type": "code",
   "execution_count": 4,
   "id": "53eadbf3",
   "metadata": {},
   "outputs": [],
   "source": [
    "n = 3"
   ]
  },
  {
   "cell_type": "code",
   "execution_count": 7,
   "id": "aa11d02d",
   "metadata": {},
   "outputs": [],
   "source": [
    "def rel(x, y):\n",
    "    if x < y:\n",
    "        return \"LT\"\n",
    "    elif x > y:\n",
    "        return \"GT\"\n",
    "    else:\n",
    "        return \"EQ\""
   ]
  },
  {
   "cell_type": "code",
   "execution_count": 12,
   "id": "a2c23675",
   "metadata": {},
   "outputs": [],
   "source": [
    "tbl = {'LT': {'LT': set(), 'EQ': set(), 'GT': set()},\n",
    "       'EQ': {'LT': set(), 'EQ': set(), 'GT': set()},\n",
    "       'GT': {'LT': set(), 'EQ': set(), 'GT': set()}}"
   ]
  },
  {
   "cell_type": "code",
   "execution_count": 13,
   "id": "16c07641",
   "metadata": {},
   "outputs": [
    {
     "data": {
      "text/plain": [
       "{'LT': {'LT': set(), 'EQ': set(), 'GT': set()},\n",
       " 'EQ': {'LT': set(), 'EQ': set(), 'GT': set()},\n",
       " 'GT': {'LT': set(), 'EQ': set(), 'GT': set()}}"
      ]
     },
     "execution_count": 13,
     "metadata": {},
     "output_type": "execute_result"
    }
   ],
   "source": [
    "tbl"
   ]
  },
  {
   "cell_type": "code",
   "execution_count": null,
   "id": "77035859",
   "metadata": {},
   "outputs": [],
   "source": []
  },
  {
   "cell_type": "code",
   "execution_count": 9,
   "id": "0a758c14",
   "metadata": {},
   "outputs": [
    {
     "name": "stdout",
     "output_type": "stream",
     "text": [
      "0 0 0\n",
      "EQ EQ\n",
      "0 0 1\n",
      "EQ LT\n",
      "0 0 2\n",
      "EQ LT\n",
      "0 1 0\n",
      "LT GT\n",
      "0 1 1\n",
      "LT EQ\n",
      "0 1 2\n",
      "LT LT\n",
      "0 2 0\n",
      "LT GT\n",
      "0 2 1\n",
      "LT GT\n",
      "0 2 2\n",
      "LT EQ\n",
      "1 0 0\n",
      "GT EQ\n",
      "1 0 1\n",
      "GT LT\n",
      "1 0 2\n",
      "GT LT\n",
      "1 1 0\n",
      "EQ GT\n",
      "1 1 1\n",
      "EQ EQ\n",
      "1 1 2\n",
      "EQ LT\n",
      "1 2 0\n",
      "LT GT\n",
      "1 2 1\n",
      "LT GT\n",
      "1 2 2\n",
      "LT EQ\n",
      "2 0 0\n",
      "GT EQ\n",
      "2 0 1\n",
      "GT LT\n",
      "2 0 2\n",
      "GT LT\n",
      "2 1 0\n",
      "GT GT\n",
      "2 1 1\n",
      "GT EQ\n",
      "2 1 2\n",
      "GT LT\n",
      "2 2 0\n",
      "EQ GT\n",
      "2 2 1\n",
      "EQ GT\n",
      "2 2 2\n",
      "EQ EQ\n"
     ]
    }
   ],
   "source": [
    "for a in range(0, n):\n",
    "    for b in range(0, n):\n",
    "        for c in range(0, n):\n",
    "            print(a, b, c)\n",
    "            print(f\"{rel(a, b)} {rel(b, c)}\")"
   ]
  },
  {
   "cell_type": "code",
   "execution_count": null,
   "id": "0ec897e7",
   "metadata": {},
   "outputs": [],
   "source": []
  }
 ],
 "metadata": {
  "kernelspec": {
   "display_name": "Python 3 (ipykernel)",
   "language": "python",
   "name": "python3"
  },
  "language_info": {
   "codemirror_mode": {
    "name": "ipython",
    "version": 3
   },
   "file_extension": ".py",
   "mimetype": "text/x-python",
   "name": "python",
   "nbconvert_exporter": "python",
   "pygments_lexer": "ipython3",
   "version": "3.7.16"
  }
 },
 "nbformat": 4,
 "nbformat_minor": 5
}
