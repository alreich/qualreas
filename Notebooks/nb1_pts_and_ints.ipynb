{
 "cells": [
  {
   "cell_type": "markdown",
   "metadata": {},
   "source": [
    "# Integrating Time Points and Time Intervals"
   ]
  },
  {
   "cell_type": "code",
   "execution_count": 1,
   "metadata": {},
   "outputs": [],
   "source": [
    "import qualreas as qr"
   ]
  },
  {
   "cell_type": "markdown",
   "metadata": {},
   "source": [
    "## References"
   ]
  },
  {
   "cell_type": "markdown",
   "metadata": {},
   "source": [
    "* Allen, James F. (26 November 1983). <b>\"Maintaining knowledge about temporal intervals\"</b>. Communications of the ACM. 26 (11): 832–843.\n",
    "    * [PDF](http://cse.unl.edu/~choueiry/Documents/Allen-CACM1983.pdf)\n",
    "* Reich, Alfred J. (1994). <b>“Intervals, Points, and Branching Time.”</b> 121-133.\n",
    "    * Published in TIME 1994: An International Workshop on Temporal Representation and Reasoning.\n",
    "    * <b>ABSTRACT.</b> This paper extends Allen's interval algebra to include points and either left or right-branching time. The branching time algebras each contain 24 relations: Allen's original 13 relations, 5 more relations resulting from the inclusion of points, and 6 relations because of the inclusion of branching time. The paper also presents: (1) A technique for automatically deriving algebras of relations; (2) a way of representing temporal constraint networks using constraint matrices; and (3) a way of performing constraint propagation using constraint matrix multiplication.\n",
    "    * <b>PDFs</b> are available at the following locations:\n",
    "        * [ResearchGate](https://www.researchgate.net/publication/220810644_Intervals_Points_and_Branching_Time) (Includes a supplementary file containing algebras in structured text form.)\n",
    "        * [SemanticScholar](https://www.semanticscholar.org/paper/Intervals%2C-Points%2C-and-Branching-Time-Reich/a12eca974573c812d696f3d0a58bccb171a8c39d)\n",
    "        * [Time-94](http://www2.cs.uregina.ca/~temporal/time94/reich.pdf)"
   ]
  },
  {
   "cell_type": "markdown",
   "metadata": {},
   "source": [
    "### An Interval & Point Algebra"
   ]
  },
  {
   "cell_type": "markdown",
   "metadata": {},
   "source": [
    "Allen's original algebra of time pertains only to proper intervals.  That is, the domains and ranges of each of his 13 relations are proper time intervals.  Degenerate intervals (i.e., time points) are not permitted.\n",
    "\n",
    "The Interval & Point algebra, described in [Reich 1994] and illustrated in this notebook, extends Allen's algebra by adding 5 new relations and modifying the domains and ranges of the relations to include, not only proper intervals, but also time points (i.e., degenerate intervals).\n",
    "\n",
    "<p>Each of the 5 new relations have something to do with time points and so their abbreviated name starts with the letter 'P'.</p>"
   ]
  },
  {
   "cell_type": "code",
   "execution_count": 2,
   "metadata": {},
   "outputs": [
    {
     "name": "stdout",
     "output_type": "stream",
     "text": [
      "[B, BI, D, DI, E, F, FI, M, MI, O, OI, PE, PF, PFI, PS, PSI, S, SI]\n"
     ]
    }
   ],
   "source": [
    "allenX = qr.Algebra(\"IntervalAndPointAlgebra.json\")\n",
    "print(sorted(allenX.relations.values(), key=lambda rel: rel.short_name))"
   ]
  },
  {
   "cell_type": "markdown",
   "metadata": {},
   "source": [
    "Of Allen's original 13 relations, 9 stay the same here (apply to proper intervals only), 4 have their domain, range, or both modified, and 5 are entirely new.  See the last two columns of the table in the next cell, below.\n",
    "\n",
    "* <b>Pint</b> refers to Proper Time Intervals\n",
    "* <b>Pt</b> refers to Time Points\n",
    "* <b>Int</b> refers to (general) Interval, so <b>Pint</b> or <b>Pt</b>."
   ]
  },
  {
   "cell_type": "code",
   "execution_count": 3,
   "metadata": {},
   "outputs": [
    {
     "name": "stdout",
     "output_type": "stream",
     "text": [
      "  Algebra Name: Linear Time Interval & Point Algebra\n",
      "   Description: Reich's point extension to Allen's time interval algebra (see TIME-94 paper)\n",
      " Equality Rels: [PE, E]\n",
      "     Relations:\n",
      "            NAME (ABBREV)         CONVERSE (ABBREV)  REFLEXIVE  SYMMETRIC TRANSITIVE  DOMAIN   RANGE\n",
      "             Before (  B)               After ( BI)    False      False       True      Int     Int\n",
      "              After ( BI)              Before (  B)    False      False       True      Int     Int\n",
      "             During (  D)            Contains ( DI)    False      False       True      Int    PInt\n",
      "           Contains ( DI)              During (  D)    False      False       True     PInt     Int\n",
      "             Equals (  E)              Equals (  E)     True       True       True     PInt    PInt\n",
      "           Finishes (  F)         Finished-by ( FI)    False      False       True     PInt    PInt\n",
      "        Finished-by ( FI)            Finishes (  F)    False      False       True     PInt    PInt\n",
      "              Meets (  M)              Met-By ( MI)    False      False      False     PInt    PInt\n",
      "             Met-By ( MI)               Meets (  M)    False      False      False     PInt    PInt\n",
      "           Overlaps (  O)       Overlapped-By ( OI)    False      False      False     PInt    PInt\n",
      "      Overlapped-By ( OI)            Overlaps (  O)    False      False      False     PInt    PInt\n",
      "       Point-Equals ( PE)        Point-Equals ( PE)     True       True       True       Pt      Pt\n",
      "     Point-Finishes ( PF)   Point-Finished-By (PFI)    False      False      False       Pt    PInt\n",
      "  Point-Finished-By (PFI)      Point-Finishes ( PF)    False      False      False     PInt      Pt\n",
      "       Point-Starts ( PS)    Point-Started-By (PSI)    False      False      False       Pt    PInt\n",
      "   Point-Started-By (PSI)        Point-Starts ( PS)    False      False      False     PInt      Pt\n",
      "             Starts (  S)          Started-By ( SI)    False      False       True     PInt    PInt\n",
      "         Started-By ( SI)              Starts (  S)    False      False       True     PInt    PInt\n"
     ]
    }
   ],
   "source": [
    "allenX.print_info()"
   ]
  },
  {
   "cell_type": "markdown",
   "metadata": {},
   "source": [
    "Create the singleton relation sets, {Before} and {Met-By} for this algebra and compute their product"
   ]
  },
  {
   "cell_type": "code",
   "execution_count": 4,
   "metadata": {},
   "outputs": [
    {
     "name": "stdout",
     "output_type": "stream",
     "text": [
      "For the Interval & Point Algebra: [B] x [MI] = []\n"
     ]
    }
   ],
   "source": [
    "B = allenX.relset([\"B\"])\n",
    "MI = allenX.relset([\"MI\"])\n",
    "BxMI = B * MI\n",
    "print(f\"For the Interval & Point Algebra: {B.sorted_list()} x {MI.sorted_list()} = {BxMI.sorted_list()}\")"
   ]
  },
  {
   "cell_type": "markdown",
   "metadata": {},
   "source": [
    "### Multiplication is Still Not Commutative"
   ]
  },
  {
   "cell_type": "code",
   "execution_count": 5,
   "metadata": {},
   "outputs": [
    {
     "name": "stdout",
     "output_type": "stream",
     "text": [
      "[]\n",
      "[]\n",
      "True\n"
     ]
    }
   ],
   "source": [
    "MIxB = MI * B\n",
    "print(MIxB.sorted_list())\n",
    "\n",
    "BxMI = B * MI\n",
    "print(BxMI.sorted_list())\n",
    "\n",
    "print(MIxB == BxMI)"
   ]
  },
  {
   "cell_type": "code",
   "execution_count": 7,
   "metadata": {},
   "outputs": [
    {
     "name": "stdout",
     "output_type": "stream",
     "text": [
      "[MI]\n",
      "[BI]\n",
      "False\n"
     ]
    }
   ],
   "source": [
    "F = allenX.relset([\"F\"])\n",
    "\n",
    "MIxF = MI * F\n",
    "print(MIxF.sorted_list())\n",
    "\n",
    "FxMI = F * MI\n",
    "print(FxMI.sorted_list())\n",
    "\n",
    "print(MIxF == FxMI)"
   ]
  },
  {
   "cell_type": "markdown",
   "metadata": {},
   "source": [
    "### Equality Relations"
   ]
  },
  {
   "cell_type": "markdown",
   "metadata": {},
   "source": [
    "Allen's algebra has only one identity element, E, because it deals with only one class of temporal entity, the <i>proper interval</i>.\n",
    "\n",
    "<p>The <i>Interval and Point Algebra</i>, on the other hand, deals with two types of temporal entities, and so it has an equality relation for each one, intervals and points.  Note that intervals here can be degenerate (i.e., equivalent to a point).  This means that the relation <i>E</i> in Allen's algebra is not quite the same as the relation <i>E</i> in the Interval and Point Algebra, since the latter handles degenerate intervals, whereas the former only applies to proper intervals\n",
    "\n",
    "<p>The equality relations of an algebra are important when propagating contraints, so there is an Algebra property that returns a list of its equality relations:"
   ]
  },
  {
   "cell_type": "code",
   "execution_count": null,
   "metadata": {},
   "outputs": [],
   "source": [
    "print(f\"The Interval & Point Algebra's equality relations: {allenX.all_equality_relations}\")"
   ]
  },
  {
   "cell_type": "markdown",
   "metadata": {},
   "source": [
    "## Associativity"
   ]
  },
  {
   "cell_type": "markdown",
   "metadata": {},
   "source": [
    "### Example: {PS} x {B} x {D}"
   ]
  },
  {
   "cell_type": "markdown",
   "metadata": {},
   "source": [
    "Associativity does not hold for this example, because <b>\\(</b> {PS} \\* {B} <b>\\)</b> \\* {D} = {D}, but PS \\* <b>(</b> {B} \\* {D} <b>)</b> = {B, D, PS}.\n",
    "\n",
    "<p>The details are shown below.</p>"
   ]
  },
  {
   "cell_type": "code",
   "execution_count": null,
   "metadata": {},
   "outputs": [],
   "source": [
    "PS = allenX.relset([\"PS\"])\n",
    "B = allenX.relset([\"B\"])\n",
    "D = allenX.relset([\"D\"])"
   ]
  },
  {
   "cell_type": "markdown",
   "metadata": {},
   "source": [
    "#### First, we group {PS} & {B} together:"
   ]
  },
  {
   "cell_type": "markdown",
   "metadata": {},
   "source": [
    "<p><b>(</b> {PS} x {B} <b>)</b> x {D}</p>\n",
    "<p>=  {B} \\* {D}</p>\n",
    "<p>=  {D}</p>\n",
    "<p>This calculation is illustrated below.</p>"
   ]
  },
  {
   "cell_type": "code",
   "execution_count": null,
   "metadata": {},
   "outputs": [],
   "source": [
    "PSxB = PS * B\n",
    "print \"%s * %s = %s\" % (PS, B, PSxB)\n",
    "\n",
    "PSxB_x_D = PSxB * D\n",
    "print \"%s * %s = %s\" % (PSxB, D, PSxB_x_D)"
   ]
  },
  {
   "cell_type": "markdown",
   "metadata": {},
   "source": [
    "#### Then, we group {B} & {D} together:"
   ]
  },
  {
   "cell_type": "markdown",
   "metadata": {},
   "source": [
    "<p>PS \\* <b>(</b> {B} \\* {D} <b>)</b></p>\n",
    "<p>=  PS \\* {B, D, M, O, PS, S}</p>\n",
    "<p>=  {B, D, PS}</p>\n",
    "<p>This calculation is illustrated below.</p>"
   ]
  },
  {
   "cell_type": "code",
   "execution_count": null,
   "metadata": {},
   "outputs": [],
   "source": [
    "BxD = B * D\n",
    "print BxD.sorted_list()\n",
    "\n",
    "PS_x_BxD = PS * BxD\n",
    "print PS_x_BxD.sorted_list()"
   ]
  },
  {
   "cell_type": "markdown",
   "metadata": {},
   "source": [
    "#### Finally, we have..."
   ]
  },
  {
   "cell_type": "code",
   "execution_count": null,
   "metadata": {},
   "outputs": [],
   "source": [
    "PSxB_x_D == PS_x_BxD"
   ]
  },
  {
   "cell_type": "markdown",
   "metadata": {},
   "source": [
    "### So, What's Going on with Associativity?"
   ]
  },
  {
   "cell_type": "markdown",
   "metadata": {},
   "source": [
    "Note on associativity: As long as all of the elements of an \"algebra\" have the same domain & range (and domain == range) we can talk about associativity of the algebra.  However, if the relation_lookup in the \"algebra\" have different domains and ranges, and those domains must match ranges in order to compose relation_lookup to find transitive relation_lookup, we're really not talking about algebras anymore.  We can't \"multiply\" any element in the algebra by any other element in the algebra.  For example, PS \\* PS \\* B does not associate.  If A{PS}B & B{PS}C ..."
   ]
  },
  {
   "cell_type": "code",
   "execution_count": null,
   "metadata": {},
   "outputs": [],
   "source": [
    "PS = alg.relation_lookup[\"PS\"]\n",
    "print PS.domain\n",
    "print PS.range"
   ]
  },
  {
   "cell_type": "markdown",
   "metadata": {},
   "source": [
    "...finish this thought..."
   ]
  },
  {
   "cell_type": "markdown",
   "metadata": {},
   "source": [
    "### Some Scratch Work..."
   ]
  },
  {
   "cell_type": "markdown",
   "metadata": {},
   "source": [
    "Let's examine associativity for $B*D*OI$"
   ]
  },
  {
   "cell_type": "markdown",
   "metadata": {},
   "source": [
    "<i>B</i> and <i>D</i> were defined earlier in this notebook:"
   ]
  },
  {
   "cell_type": "code",
   "execution_count": null,
   "metadata": {},
   "outputs": [],
   "source": [
    "print B\n",
    "print D"
   ]
  },
  {
   "cell_type": "code",
   "execution_count": null,
   "metadata": {},
   "outputs": [],
   "source": [
    "OI = alg.relset([\"OI\"])\n",
    "print OI"
   ]
  },
  {
   "cell_type": "code",
   "execution_count": null,
   "metadata": {},
   "outputs": [],
   "source": [
    "BxD = B * D\n",
    "DxOI = D * OI"
   ]
  },
  {
   "cell_type": "markdown",
   "metadata": {},
   "source": [
    "$(B * D) * OI$ = The 13 Allen-like relation_lookup together with {PF, PS}"
   ]
  },
  {
   "cell_type": "code",
   "execution_count": null,
   "metadata": {},
   "outputs": [],
   "source": [
    "BxD_x_OI = BxD * OI\n",
    "print BxD_x_OI.sorted_list()"
   ]
  },
  {
   "cell_type": "markdown",
   "metadata": {},
   "source": [
    "$B * (D * OI)$ = All 18 of the algebra's relation_lookup"
   ]
  },
  {
   "cell_type": "code",
   "execution_count": null,
   "metadata": {},
   "outputs": [],
   "source": [
    "B_x_DxOI = B * DxOI\n",
    "print B_x_DxOI.sorted_list()"
   ]
  },
  {
   "cell_type": "markdown",
   "metadata": {},
   "source": [
    "So, clearly, $(B * D) * OI \\ne B * (D * OI).$"
   ]
  },
  {
   "cell_type": "markdown",
   "metadata": {},
   "source": [
    "Let's examine the domains and ranges involved."
   ]
  },
  {
   "cell_type": "code",
   "execution_count": null,
   "metadata": {},
   "outputs": [],
   "source": [
    "print alg.relation_lookup['B'].domain\n",
    "print alg.relation_lookup['B'].range"
   ]
  },
  {
   "cell_type": "code",
   "execution_count": null,
   "metadata": {},
   "outputs": [],
   "source": [
    "print alg.relation_lookup['D'].domain\n",
    "print alg.relation_lookup['D'].range"
   ]
  },
  {
   "cell_type": "code",
   "execution_count": null,
   "metadata": {},
   "outputs": [],
   "source": [
    "print alg.relation_lookup['OI'].domain\n",
    "print alg.relation_lookup['OI'].range"
   ]
  },
  {
   "cell_type": "markdown",
   "metadata": {},
   "source": [
    "So, chaining these together in terms of domains and ranges is:\n",
    "<p>$(Int,Int) * (Int,PInt) * (PInt,PInt) = (Int, PInt)$,</p>\n",
    "<p>where $Int = \\{PInt, Pt\\}$</p>"
   ]
  },
  {
   "cell_type": "code",
   "execution_count": null,
   "metadata": {},
   "outputs": [],
   "source": [
    "B*D"
   ]
  },
  {
   "cell_type": "markdown",
   "metadata": {},
   "source": [
    "Now, if W, X, Y, and Z are time intervals, such that W {B} X, X {D} Y, and Y {OI} Z, then...\n",
    "1. In what possible ways does W relate to Y?\n",
    "1. In what possible ways does X relate to Z?"
   ]
  },
  {
   "cell_type": "markdown",
   "metadata": {},
   "source": [
    "To answer these questions, first look at B*D:"
   ]
  },
  {
   "cell_type": "code",
   "execution_count": null,
   "metadata": {},
   "outputs": [],
   "source": [
    "print \"%s:\\n\" % BxD\n",
    "for rel in B*D:\n",
    "    print \"%s has domain %s\" % (rel, list(rel.domain))"
   ]
  },
  {
   "cell_type": "code",
   "execution_count": null,
   "metadata": {},
   "outputs": [],
   "source": [
    "print \"%s:\\n\" % BxD\n",
    "for rel in B*D:\n",
    "    print \"%s has range %s\" % (rel, list(rel.range))"
   ]
  },
  {
   "cell_type": "code",
   "execution_count": null,
   "metadata": {},
   "outputs": [],
   "source": []
  },
  {
   "cell_type": "code",
   "execution_count": null,
   "metadata": {},
   "outputs": [],
   "source": []
  },
  {
   "cell_type": "code",
   "execution_count": null,
   "metadata": {},
   "outputs": [],
   "source": [
    "W = qr.TemporalObject(['ProperInterval', 'Point'], 'W')\n",
    "X = qr.TemporalObject(['ProperInterval', 'Point'], 'X')\n",
    "Y = qr.TemporalObject(['ProperInterval'], 'Y')\n",
    "Z = qr.TemporalObject(['ProperInterval'], 'Z')\n",
    "print W\n",
    "print X\n",
    "print Y\n",
    "print Z"
   ]
  },
  {
   "cell_type": "code",
   "execution_count": null,
   "metadata": {},
   "outputs": [],
   "source": [
    "net_BxDxOI = qr.Network(alg, \"BxDxOI\")\n",
    "print net_BxDxOI"
   ]
  },
  {
   "cell_type": "markdown",
   "metadata": {},
   "source": [
    "Assume W, X, Y, and Z are time intervals, such that W {B} X, X {D} Y, and Y {OI} Z"
   ]
  },
  {
   "cell_type": "code",
   "execution_count": null,
   "metadata": {},
   "outputs": [],
   "source": [
    "rel_B  = alg.relation_lookup['B']\n",
    "rel_D  = alg.relation_lookup['D']\n",
    "rel_OI = alg.relation_lookup['OI']"
   ]
  },
  {
   "cell_type": "code",
   "execution_count": null,
   "metadata": {},
   "outputs": [],
   "source": [
    "net_BxDxOI.constraint(W, X, [rel_B])\n",
    "net_BxDxOI.constraint(X, Y, [rel_D])\n",
    "net_BxDxOI.constraint(Y, Z, [rel_OI])"
   ]
  },
  {
   "cell_type": "code",
   "execution_count": null,
   "metadata": {},
   "outputs": [],
   "source": [
    "print net_BxDxOI"
   ]
  },
  {
   "cell_type": "code",
   "execution_count": null,
   "metadata": {},
   "outputs": [],
   "source": [
    "net_BxDxOI.print_constraints()"
   ]
  },
  {
   "cell_type": "code",
   "execution_count": null,
   "metadata": {},
   "outputs": [],
   "source": [
    "net_BxDxOI.propagate()"
   ]
  },
  {
   "cell_type": "code",
   "execution_count": null,
   "metadata": {},
   "outputs": [],
   "source": [
    "net_BxDxOI.print_constraints()"
   ]
  },
  {
   "cell_type": "code",
   "execution_count": null,
   "metadata": {},
   "outputs": [],
   "source": []
  },
  {
   "cell_type": "code",
   "execution_count": null,
   "metadata": {},
   "outputs": [],
   "source": []
  }
 ],
 "metadata": {
  "kernelspec": {
   "display_name": "Python 3",
   "language": "python",
   "name": "python3"
  },
  "language_info": {
   "codemirror_mode": {
    "name": "ipython",
    "version": 3
   },
   "file_extension": ".py",
   "mimetype": "text/x-python",
   "name": "python",
   "nbconvert_exporter": "python",
   "pygments_lexer": "ipython3",
   "version": "3.7.3"
  }
 },
 "nbformat": 4,
 "nbformat_minor": 1
}
