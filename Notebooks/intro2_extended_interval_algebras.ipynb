{
 "cells": [
  {
   "cell_type": "markdown",
   "metadata": {},
   "source": [
    "# Intro 2: Extended Interval Algebras"
   ]
  },
  {
   "cell_type": "markdown",
   "metadata": {},
   "source": [
    "This notebook builds on the Intro 1 notebook by extending Allen's interval algebra in three ways:\n",
    "\n",
    "1. Points & Intervals -- Time points are integrated with time intervals\n",
    "1. Right-Branching Time -- Building on 1, time can branch to the right (future)\n",
    "1. Left-Branching Time -- Building on 1, time can branch from the left (past)"
   ]
  },
  {
   "cell_type": "markdown",
   "metadata": {},
   "source": [
    "## References"
   ]
  },
  {
   "cell_type": "markdown",
   "metadata": {},
   "source": [
    "1. [\"Intervals, Points, and Branching Time\" by A.J. Reich](https://www.researchgate.net/publication/220810644_Intervals_Points_and_Branching_Time) - basis for the extensions here to Allen's algebra\n",
    "1. [Allen's Interval Algebra](https://www.ics.uci.edu/~alspaugh/cls/shr/allen.html) or [here](https://thomasalspaugh.org/pub/fnd/allen.html) - summarizes Allen's algebra of proper time intervals\n",
    "1. [\"Maintaining Knowledge about Temporal Intervals\" by James F. Allen](https://cse.unl.edu/~choueiry/Documents/Allen-CACM1983.pdf) - Allen's original paper (PDF)\n"
   ]
  },
  {
   "cell_type": "markdown",
   "metadata": {},
   "source": [
    "## Dependencies"
   ]
  },
  {
   "cell_type": "code",
   "execution_count": 1,
   "metadata": {},
   "outputs": [],
   "source": [
    "import qualreas as qr\n",
    "import os"
   ]
  },
  {
   "cell_type": "code",
   "execution_count": 2,
   "metadata": {},
   "outputs": [],
   "source": [
    "path = os.path.join(os.getenv('PYPROJ'), 'qualreas')"
   ]
  },
  {
   "cell_type": "markdown",
   "metadata": {},
   "source": [
    "## 1. Linear Interval and Point Algebra"
   ]
  },
  {
   "cell_type": "markdown",
   "metadata": {},
   "source": [
    "In Allen's original algebra, time is linear and only applies to proper time intervals, not time points.  So, effectively, it is a <i>Linear Interval Algebra</i>, which is the name used for its JSON definition file.\n",
    "\n",
    "In [[Reich, 1994](https://www.researchgate.net/publication/220810644_Intervals_Points_and_Branching_Time)], Allen's algebra was extended to include time points, as well as proper intervals, to obtain a <i>Linear Interval & Point Algebra</i>.  We'll describe it in this section.\n",
    "\n",
    "The Linear Interval & Point algebra extends Allen's algebra by adding 5 new relations, involving time points, and modifies the domains and ranges of 4 of the original 13 relations."
   ]
  },
  {
   "cell_type": "code",
   "execution_count": 3,
   "metadata": {},
   "outputs": [
    {
     "name": "stdout",
     "output_type": "stream",
     "text": [
      "Extended_Linear_Interval_Algebra\n",
      "Extension of Allen's algebra to include points and intervals\n",
      "This algebra has the following 18 elements:\n",
      "   B, BI, D, DI, E, F, FI, M, MI, O, OI, PE, PF, PFI, PS, PSI, S, SI\n"
     ]
    }
   ],
   "source": [
    "# Instantiate algebra and print some basic info about it\n",
    "algX = qr.Algebra(os.path.join(path, \"Algebras/ExtendedLinearIntervalAlgebra.json\"))\n",
    "print(algX.name)\n",
    "print(algX.description)\n",
    "algX_num_elements = len(algX.elements)\n",
    "algX_elem_list = ', '.join(str(algX.elements).split(\"|\"))\n",
    "print(f\"This algebra has the following {algX_num_elements} elements:\\n   {algX_elem_list}\")"
   ]
  },
  {
   "cell_type": "markdown",
   "metadata": {},
   "source": [
    "Figure 1, below, from [Reich 1994](https://www.researchgate.net/publication/220810644_Intervals_Points_and_Branching_Time), shows the domain and range modifications to the original 13 relations. The subscripts on the temporal entities, X and Y, indicate that they can be proper intervals (\"i\") or points (\"p\") or both (\"ip\"). Where the subscript is \"i\" alone for both domain and range (X & Y)  the original relations are unchanged."
   ]
  },
  {
   "cell_type": "markdown",
   "metadata": {},
   "source": [
    "<img src=\"Images/Extension_of_Allens_Interval_Relations.png\" width=\"400\">"
   ]
  },
  {
   "cell_type": "markdown",
   "metadata": {},
   "source": [
    "The 5 additional relations needed to integrate Points with Intervals are shown in Figure 2, below.  The meaning of the subscripts remains the same as above."
   ]
  },
  {
   "cell_type": "markdown",
   "metadata": {},
   "source": [
    "<img src=\"Images/Point_Interval_Relations.png\" width=\"400\">"
   ]
  },
  {
   "cell_type": "code",
   "execution_count": 4,
   "metadata": {},
   "outputs": [
    {
     "name": "stdout",
     "output_type": "stream",
     "text": [
      "  Algebra Name: Extended_Linear_Interval_Algebra\n",
      "   Description: Extension of Allen's algebra to include points and intervals\n",
      " Equality Rels: E|PE\n",
      "     Relations:\n",
      "            NAME (SYMBOL)         CONVERSE (ABBREV)  REFLEXIVE  SYMMETRIC TRANSITIVE   DOMAIN        RANGE\n",
      "             Before (  B)               After ( BI)    False      False       True    Pt|PInt       Pt|PInt\n",
      "              After ( BI)              Before (  B)    False      False       True    Pt|PInt       Pt|PInt\n",
      "             During (  D)            Contains ( DI)    False      False       True    Pt|PInt          PInt\n",
      "           Contains ( DI)              During (  D)    False      False       True       PInt       Pt|PInt\n",
      "             Equals (  E)              Equals (  E)     True       True       True       PInt          PInt\n",
      "           Finishes (  F)         Finished-by ( FI)    False      False       True       PInt          PInt\n",
      "        Finished-by ( FI)            Finishes (  F)    False      False       True       PInt          PInt\n",
      "              Meets (  M)              Met-By ( MI)    False      False      False       PInt          PInt\n",
      "             Met-By ( MI)               Meets (  M)    False      False      False       PInt          PInt\n",
      "           Overlaps (  O)       Overlapped-By ( OI)    False      False      False       PInt          PInt\n",
      "      Overlapped-By ( OI)            Overlaps (  O)    False      False      False       PInt          PInt\n",
      "       Point-Equals ( PE)        Point-Equals ( PE)     True       True       True         Pt            Pt\n",
      "     Point-Finishes ( PF)   Point-Finished-By (PFI)    False      False      False         Pt          PInt\n",
      "  Point-Finished-By (PFI)      Point-Finishes ( PF)    False      False      False       PInt            Pt\n",
      "       Point-Starts ( PS)    Point-Started-By (PSI)    False      False      False         Pt          PInt\n",
      "   Point-Started-By (PSI)        Point-Starts ( PS)    False      False      False       PInt            Pt\n",
      "             Starts (  S)          Started-By ( SI)    False      False       True       PInt          PInt\n",
      "         Started-By ( SI)              Starts (  S)    False      False       True       PInt          PInt\n",
      "\n",
      "Domain & Range Abbreviations:\n",
      "   Pt = Point\n",
      " PInt = Proper Interval\n"
     ]
    }
   ],
   "source": [
    "algX.summary()"
   ]
  },
  {
   "cell_type": "markdown",
   "metadata": {},
   "source": [
    "### Equality Relations"
   ]
  },
  {
   "cell_type": "markdown",
   "metadata": {},
   "source": [
    "The number and type of equality relations in an algebra depends on the number and type of entities (e.g., 'Point', 'ProperInterval') related by relations in the algebra.\n",
    "\n",
    "The Extended Linear Interval Algebra supports both <i>ProperIntervals</i> and <i>Points</i>."
   ]
  },
  {
   "cell_type": "code",
   "execution_count": 5,
   "metadata": {},
   "outputs": [
    {
     "name": "stdout",
     "output_type": "stream",
     "text": [
      "\n",
      "Extended_Linear_Interval_Algebra\n",
      "Set of all equality relations: E|PE\n",
      "--------------------------------------------------\n",
      "                  Symbol: E\n",
      "                    Name: Equals\n",
      "                  Domain: ['ProperInterval']\n",
      "                   Range: ['ProperInterval']\n",
      "                Converse: Equals\n",
      "           Is Reflexive?: True\n",
      "           Is Symmetric?: True\n",
      "          Is Transitive?: True\n",
      "Is an Equality Relation?: True\n",
      "--------------------------------------------------\n",
      "                  Symbol: PE\n",
      "                    Name: Point-Equals\n",
      "                  Domain: ['Point']\n",
      "                   Range: ['Point']\n",
      "                Converse: Point-Equals\n",
      "           Is Reflexive?: True\n",
      "           Is Symmetric?: True\n",
      "          Is Transitive?: True\n",
      "Is an Equality Relation?: True\n",
      "--------------------------------------------------\n"
     ]
    }
   ],
   "source": [
    "print(f\"\\n{algX.name}\")\n",
    "print(f\"Set of all equality relations: {algX.all_equality_relations}\")\n",
    "for eq_rel in algX.all_equality_relations:\n",
    "    print(50*\"-\")\n",
    "    algX.element_summary(eq_rel)\n",
    "print(50*\"-\")"
   ]
  },
  {
   "cell_type": "markdown",
   "metadata": {},
   "source": [
    "### Check Composition Identity"
   ]
  },
  {
   "cell_type": "markdown",
   "metadata": {},
   "source": [
    "If $r$ and $s$ are two relations, then $!(r;s) = (!s);(!r)$\n",
    "<p>The <i><b>check_composition_identity</b></i> Algebra method checks every possible pairing of individual algebra relations wrt the composition identity, and returns True if all pairs check out.</p>"
   ]
  },
  {
   "cell_type": "code",
   "execution_count": 6,
   "metadata": {},
   "outputs": [
    {
     "name": "stdout",
     "output_type": "stream",
     "text": [
      "There are 324 (18x18) possible compositions.\n",
      "\n",
      "Extended_Linear_Interval_Algebra -- Composition Identity Check:\n",
      "PASSED . 324 products tested.\n"
     ]
    },
    {
     "data": {
      "text/plain": [
       "True"
      ]
     },
     "execution_count": 6,
     "metadata": {},
     "output_type": "execute_result"
    }
   ],
   "source": [
    "print(f\"There are {algX_num_elements**2} ({algX_num_elements}x{algX_num_elements}) possible compositions.\")\n",
    "algX.check_composition_identity(verbose=True)"
   ]
  },
  {
   "cell_type": "markdown",
   "metadata": {},
   "source": [
    "### Check Associativity"
   ]
  },
  {
   "cell_type": "markdown",
   "metadata": {},
   "source": [
    "The <i><b>is_associative</b></i> Algebra method checks all possible triples of individual algebra relations and, if the domains and ranges are \"compatible\", checks to see if the triple is associative.  Incompatible triples are skipped.  It returns True if all compatible triples are associative."
   ]
  },
  {
   "cell_type": "code",
   "execution_count": 7,
   "metadata": {},
   "outputs": [
    {
     "name": "stdout",
     "output_type": "stream",
     "text": [
      "\n",
      "Extended_Linear_Interval_Algebra:\n",
      "There are 18^3 = 5832 ways we can combine the algebra's elements to test associativity.\n",
      "\n",
      "TEST SUMMARY: 3609 OK, 2223 Skipped, 0 Failed (5832 Total)\n"
     ]
    },
    {
     "data": {
      "text/plain": [
       "True"
      ]
     },
     "execution_count": 7,
     "metadata": {},
     "output_type": "execute_result"
    }
   ],
   "source": [
    "print(f\"\\n{algX.name}:\")\n",
    "print(f\"There are {algX_num_elements}^3 = {algX_num_elements**3} ways we can combine the algebra's elements to test associativity.\\n\")\n",
    "algX.is_associative()"
   ]
  },
  {
   "cell_type": "markdown",
   "metadata": {},
   "source": [
    "## 2. Right-Branching Interval and Point Algebra"
   ]
  },
  {
   "cell_type": "markdown",
   "metadata": {},
   "source": [
    "In [[Reich, 1994](https://www.researchgate.net/publication/220810644_Intervals_Points_and_Branching_Time)], the Linear Interval and Point Algebra described above was further extended to support <b>Branching Time</b>.  Both Right-Branching Time and Left-Branching Time are possible, but not both together at the same time.\n",
    "\n",
    "Figure 9 from [[Reich, 1994](https://www.researchgate.net/publication/220810644_Intervals_Points_and_Branching_Time)] depicts the 6 new relations required to support Right-Branching Time, in addition to the 18 described above."
   ]
  },
  {
   "cell_type": "code",
   "execution_count": 11,
   "metadata": {},
   "outputs": [
    {
     "name": "stdout",
     "output_type": "stream",
     "text": [
      "Right_Branching_Interval_Algebra\n",
      "Reich's right-branching extension to Allen's time interval algebra (see TIME-94 paper)\n",
      "This algebra has the following 24 elements:\n",
      "B, BI, D, DI, E, F, FI, M, MI, O, OI, PE, PF, PFI, PS, PSI, RB, RBI, RO, ROI, RS, R~, S, SI\n"
     ]
    }
   ],
   "source": [
    "# Instantiate algebra and print some basic info about it\n",
    "algR = qr.Algebra(os.path.join(path, \"Algebras/RightBranchingIntervalAlgebra.json\"))\n",
    "print(algR.name)\n",
    "print(algR.description)\n",
    "algR_num_elements = len(algR.elements)\n",
    "algR_elem_list = ', '.join(str(algR.elements).split(\"|\"))\n",
    "print(f\"This algebra has the following {algR_num_elements} elements:\\n{algR_elem_list}\")"
   ]
  },
  {
   "cell_type": "markdown",
   "metadata": {},
   "source": [
    "<img src=\"Images/Right_Branching_Time_Relations.png\" width=\"400\">"
   ]
  },
  {
   "cell_type": "code",
   "execution_count": 12,
   "metadata": {},
   "outputs": [
    {
     "name": "stdout",
     "output_type": "stream",
     "text": [
      "  Algebra Name: Right_Branching_Interval_Algebra\n",
      "   Description: Reich's right-branching extension to Allen's time interval algebra (see TIME-94 paper)\n",
      " Equality Rels: E|PE\n",
      "     Relations:\n",
      "            NAME (SYMBOL)         CONVERSE (ABBREV)  REFLEXIVE  SYMMETRIC TRANSITIVE   DOMAIN        RANGE\n",
      "             Before (  B)               After ( BI)    False      False       True    Pt|PInt       Pt|PInt\n",
      "              After ( BI)              Before (  B)    False      False       True    Pt|PInt       Pt|PInt\n",
      "             During (  D)            Contains ( DI)    False      False       True    Pt|PInt          PInt\n",
      "           Contains ( DI)              During (  D)    False      False       True       PInt       Pt|PInt\n",
      "             Equals (  E)              Equals (  E)     True       True       True       PInt          PInt\n",
      "           Finishes (  F)         Finished-by ( FI)    False      False       True       PInt          PInt\n",
      "        Finished-by ( FI)            Finishes (  F)    False      False       True       PInt          PInt\n",
      "              Meets (  M)              Met-By ( MI)    False      False      False       PInt          PInt\n",
      "             Met-By ( MI)               Meets (  M)    False      False      False       PInt          PInt\n",
      "           Overlaps (  O)       Overlapped-By ( OI)    False      False      False       PInt          PInt\n",
      "      Overlapped-By ( OI)            Overlaps (  O)    False      False      False       PInt          PInt\n",
      "       Point-Equals ( PE)        Point-Equals ( PE)     True       True       True         Pt            Pt\n",
      "     Point-Finishes ( PF)   Point-Finished-By (PFI)    False      False      False         Pt          PInt\n",
      "  Point-Finished-By (PFI)      Point-Finishes ( PF)    False      False      False       PInt            Pt\n",
      "       Point-Starts ( PS)    Point-Started-By (PSI)    False      False      False         Pt          PInt\n",
      "   Point-Started-By (PSI)        Point-Starts ( PS)    False      False      False       PInt            Pt\n",
      "       Right-Before ( RB)         Right-After (RBI)    False      False       True       PInt       Pt|PInt\n",
      "        Right-After (RBI)        Right-Before ( RB)    False      False       True    Pt|PInt          PInt\n",
      "     Right-Overlaps ( RO) Right-Overlapped-By (ROI)    False      False      False       PInt          PInt\n",
      "Right-Overlapped-By (ROI)      Right-Overlaps ( RO)    False      False      False       PInt          PInt\n",
      "       Right-Starts ( RS)        Right-Starts ( RS)    False      False      False       PInt          PInt\n",
      " Right-Incomparable ( R~)  Right-Incomparable ( R~)    False       True      False    Pt|PInt       Pt|PInt\n",
      "             Starts (  S)          Started-By ( SI)    False      False       True       PInt          PInt\n",
      "         Started-By ( SI)              Starts (  S)    False      False       True       PInt          PInt\n",
      "\n",
      "Domain & Range Abbreviations:\n",
      "   Pt = Point\n",
      " PInt = Proper Interval\n"
     ]
    }
   ],
   "source": [
    "algR.summary()"
   ]
  },
  {
   "cell_type": "markdown",
   "metadata": {},
   "source": [
    "## 3. Left-Branching Interval and Point Algebra"
   ]
  },
  {
   "cell_type": "markdown",
   "metadata": {},
   "source": [
    "Figure 10 from [[Reich, 1994](https://www.researchgate.net/publication/220810644_Intervals_Points_and_Branching_Time)] depicts the 6 new relations required to support Left-Branching Time, in addition to the 18 described, above, for the Extended Linear Interval Algebra."
   ]
  },
  {
   "cell_type": "code",
   "execution_count": null,
   "metadata": {},
   "outputs": [],
   "source": [
    "# Allen's interval algebra integrated with points and left-branching time relations\n",
    "algL = qr.Algebra(os.path.join(path, \"Algebras/LeftBranchingIntervalAlgebra.json\"))"
   ]
  },
  {
   "cell_type": "code",
   "execution_count": 13,
   "metadata": {},
   "outputs": [
    {
     "name": "stdout",
     "output_type": "stream",
     "text": [
      "Left_Branching_Interval_Algebra\n",
      "Reich's left-branching extension to Allen's time interval algebra (see TIME-94 paper)\n",
      "This algebra has the following 24 elements:\n",
      "B, BI, D, DI, E, F, FI, LB, LBI, LF, LO, LOI, L~, M, MI, O, OI, PE, PF, PFI, PS, PSI, S, SI\n"
     ]
    }
   ],
   "source": [
    "# Instantiate algebra and print some basic info about it\n",
    "algL = qr.Algebra(os.path.join(path, \"Algebras/LeftBranchingIntervalAlgebra.json\"))\n",
    "print(algL.name)\n",
    "print(algL.description)\n",
    "algL_num_elements = len(algL.elements)\n",
    "algL_elem_list = ', '.join(str(algL.elements).split(\"|\"))\n",
    "print(f\"This algebra has the following {algL_num_elements} elements:\\n{algL_elem_list}\")"
   ]
  },
  {
   "cell_type": "markdown",
   "metadata": {},
   "source": [
    "<img src=\"Images/Left_Branching_Time_Relations.png\" width=\"400\">"
   ]
  },
  {
   "cell_type": "code",
   "execution_count": 14,
   "metadata": {},
   "outputs": [
    {
     "name": "stdout",
     "output_type": "stream",
     "text": [
      "  Algebra Name: Left_Branching_Interval_Algebra\n",
      "   Description: Reich's left-branching extension to Allen's time interval algebra (see TIME-94 paper)\n",
      " Equality Rels: E|PE\n",
      "     Relations:\n",
      "            NAME (SYMBOL)         CONVERSE (ABBREV)  REFLEXIVE  SYMMETRIC TRANSITIVE   DOMAIN        RANGE\n",
      "             Before (  B)               After ( BI)    False      False       True    Pt|PInt       Pt|PInt\n",
      "              After ( BI)              Before (  B)    False      False       True    Pt|PInt       Pt|PInt\n",
      "             During (  D)            Contains ( DI)    False      False       True    Pt|PInt          PInt\n",
      "           Contains ( DI)              During (  D)    False      False       True       PInt       Pt|PInt\n",
      "             Equals (  E)              Equals (  E)     True       True       True       PInt          PInt\n",
      "           Finishes (  F)         Finished-by ( FI)    False      False       True       PInt          PInt\n",
      "        Finished-by ( FI)            Finishes (  F)    False      False       True       PInt          PInt\n",
      "        Left-Before ( LB)          Left-After (LBI)    False      False       True    Pt|PInt          PInt\n",
      "         Left-After (LBI)         Left-Before ( LB)    False      False       True       PInt       Pt|PInt\n",
      "      Left-Finishes ( LF)       Left-Finishes ( LF)    False      False      False       PInt          PInt\n",
      "      Left-Overlaps ( LO)  Left-Overlapped-By (LOI)    False      False      False       PInt          PInt\n",
      " Left-Overlapped-By (LOI)       Left-Overlaps ( LO)    False      False      False       PInt          PInt\n",
      "  Left-Incomparable ( L~)   Left-Incomparable ( L~)    False       True      False    Pt|PInt       Pt|PInt\n",
      "              Meets (  M)              Met-By ( MI)    False      False      False       PInt          PInt\n",
      "             Met-By ( MI)               Meets (  M)    False      False      False       PInt          PInt\n",
      "           Overlaps (  O)       Overlapped-By ( OI)    False      False      False       PInt          PInt\n",
      "      Overlapped-By ( OI)            Overlaps (  O)    False      False      False       PInt          PInt\n",
      "       Point-Equals ( PE)        Point-Equals ( PE)     True       True       True         Pt            Pt\n",
      "     Point-Finishes ( PF)   Point-Finished-By (PFI)    False      False      False         Pt          PInt\n",
      "  Point-Finished-By (PFI)      Point-Finishes ( PF)    False      False      False       PInt            Pt\n",
      "       Point-Starts ( PS)    Point-Started-By (PSI)    False      False      False         Pt          PInt\n",
      "   Point-Started-By (PSI)        Point-Starts ( PS)    False      False      False       PInt            Pt\n",
      "             Starts (  S)          Started-By ( SI)    False      False       True       PInt          PInt\n",
      "         Started-By ( SI)              Starts (  S)    False      False       True       PInt          PInt\n",
      "\n",
      "Domain & Range Abbreviations:\n",
      "   Pt = Point\n",
      " PInt = Proper Interval\n"
     ]
    }
   ],
   "source": [
    "algL.summary()"
   ]
  },
  {
   "cell_type": "markdown",
   "metadata": {},
   "source": [
    "## Pick one of the three algebras to use for examples:"
   ]
  },
  {
   "cell_type": "code",
   "execution_count": 15,
   "metadata": {},
   "outputs": [],
   "source": [
    "alg = algR"
   ]
  },
  {
   "cell_type": "markdown",
   "metadata": {},
   "source": [
    "## Algebra Element Summary"
   ]
  },
  {
   "cell_type": "markdown",
   "metadata": {},
   "source": [
    "A domain (or range) of ['Point', 'ProperInterval'] means that the Temporal Entity being related can be a 'Point' or a 'ProperInterval', but not both at the same time.\n",
    "\n",
    "Here are a few element summaries:"
   ]
  },
  {
   "cell_type": "code",
   "execution_count": 16,
   "metadata": {},
   "outputs": [
    {
     "name": "stdout",
     "output_type": "stream",
     "text": [
      "                  Symbol: DI\n",
      "                    Name: Contains\n",
      "                  Domain: ['ProperInterval']\n",
      "                   Range: ['Point', 'ProperInterval']\n",
      "                Converse: During\n",
      "           Is Reflexive?: False\n",
      "           Is Symmetric?: False\n",
      "          Is Transitive?: True\n",
      "Is an Equality Relation?: False\n",
      "\n",
      "\n",
      "                  Symbol: OI\n",
      "                    Name: Overlapped-By\n",
      "                  Domain: ['ProperInterval']\n",
      "                   Range: ['ProperInterval']\n",
      "                Converse: Overlaps\n",
      "           Is Reflexive?: False\n",
      "           Is Symmetric?: False\n",
      "          Is Transitive?: False\n",
      "Is an Equality Relation?: False\n",
      "\n",
      "\n",
      "                  Symbol: PS\n",
      "                    Name: Point-Starts\n",
      "                  Domain: ['Point']\n",
      "                   Range: ['ProperInterval']\n",
      "                Converse: Point-Started-By\n",
      "           Is Reflexive?: False\n",
      "           Is Symmetric?: False\n",
      "          Is Transitive?: False\n",
      "Is an Equality Relation?: False\n",
      "\n",
      "\n"
     ]
    }
   ],
   "source": [
    "from random import sample\n",
    "\n",
    "sample_size = 3\n",
    "\n",
    "for element in sample(list(alg.elements), sample_size):\n",
    "    alg.element_summary(element)\n",
    "    print(\"\\n\")"
   ]
  },
  {
   "cell_type": "markdown",
   "metadata": {},
   "source": [
    "## Equality Relations"
   ]
  },
  {
   "cell_type": "markdown",
   "metadata": {},
   "source": [
    "The number and type of equality relations in an algebra depends on the number and type of domains and ranges supported by the algebra.  (e.g., 'Point', 'ProperInterval', or both)"
   ]
  },
  {
   "cell_type": "code",
   "execution_count": 17,
   "metadata": {},
   "outputs": [
    {
     "name": "stdout",
     "output_type": "stream",
     "text": [
      "\n",
      "Reich's right-branching extension to Allen's time interval algebra (see TIME-94 paper)\n",
      "Set of all equality relations: E|PE\n"
     ]
    }
   ],
   "source": [
    "print(f\"\\n{alg.description}\")\n",
    "print(f\"Set of all equality relations: {alg.all_equality_relations}\")"
   ]
  },
  {
   "cell_type": "markdown",
   "metadata": {},
   "source": [
    "Here are element summaries of the algebra's equality relations:"
   ]
  },
  {
   "cell_type": "code",
   "execution_count": 18,
   "metadata": {},
   "outputs": [
    {
     "name": "stdout",
     "output_type": "stream",
     "text": [
      "--------------------------------------------------\n",
      "E:\n",
      "                  Symbol: E\n",
      "                    Name: Equals\n",
      "                  Domain: ['ProperInterval']\n",
      "                   Range: ['ProperInterval']\n",
      "                Converse: Equals\n",
      "           Is Reflexive?: True\n",
      "           Is Symmetric?: True\n",
      "          Is Transitive?: True\n",
      "Is an Equality Relation?: True\n",
      "--------------------------------------------------\n",
      "PE:\n",
      "                  Symbol: PE\n",
      "                    Name: Point-Equals\n",
      "                  Domain: ['Point']\n",
      "                   Range: ['Point']\n",
      "                Converse: Point-Equals\n",
      "           Is Reflexive?: True\n",
      "           Is Symmetric?: True\n",
      "          Is Transitive?: True\n",
      "Is an Equality Relation?: True\n",
      "--------------------------------------------------\n"
     ]
    }
   ],
   "source": [
    "for eq_rel in alg.all_equality_relations:\n",
    "    print(50*\"-\")\n",
    "    print(f\"{eq_rel}:\")\n",
    "    alg.element_summary(eq_rel)\n",
    "print(50*\"-\")"
   ]
  },
  {
   "cell_type": "markdown",
   "metadata": {},
   "source": [
    "## Creating Relation Sets"
   ]
  },
  {
   "cell_type": "markdown",
   "metadata": {},
   "source": [
    "There are two acceptable input formats for creating relation sets:"
   ]
  },
  {
   "cell_type": "code",
   "execution_count": 19,
   "metadata": {},
   "outputs": [
    {
     "name": "stdout",
     "output_type": "stream",
     "text": [
      "B|FI|M\n",
      "B|FI|M\n",
      "Same? True\n"
     ]
    }
   ],
   "source": [
    "relset_version1 = alg.relset(\"B|M|FI\")\n",
    "relset_version2 = alg.relset(['B', 'FI', 'M'])\n",
    "print(relset_version1)\n",
    "print(relset_version2)\n",
    "print(f\"Same? {relset_version1 == relset_version2}\")"
   ]
  },
  {
   "cell_type": "markdown",
   "metadata": {},
   "source": [
    "Singleton sets can also be created in two ways:"
   ]
  },
  {
   "cell_type": "code",
   "execution_count": 20,
   "metadata": {},
   "outputs": [
    {
     "name": "stdout",
     "output_type": "stream",
     "text": [
      "B\n",
      "B\n",
      "Same? True\n"
     ]
    }
   ],
   "source": [
    "singleton_relset_v1 = alg.relset(\"B\")\n",
    "singleton_relset_v2 = alg.relset([\"B\"])\n",
    "print(singleton_relset_v1)\n",
    "print(singleton_relset_v2)\n",
    "print(f\"Same? {singleton_relset_v1 == singleton_relset_v2}\")"
   ]
  },
  {
   "cell_type": "markdown",
   "metadata": {},
   "source": [
    "And, there are two ways the empty set can be created:"
   ]
  },
  {
   "cell_type": "code",
   "execution_count": 21,
   "metadata": {},
   "outputs": [
    {
     "name": "stdout",
     "output_type": "stream",
     "text": [
      "\n",
      "\n",
      "Same? True\n"
     ]
    },
    {
     "data": {
      "text/plain": [
       "relset()"
      ]
     },
     "execution_count": 21,
     "metadata": {},
     "output_type": "execute_result"
    }
   ],
   "source": [
    "empty_relset_v1 = alg.relset(\"\")\n",
    "empty_relset_v2 = alg.relset([])\n",
    "print(empty_relset_v1)  # Nothing will printout here.\n",
    "print(empty_relset_v2)  # Nor here.\n",
    "print(f\"Same? {empty_relset_v1 == empty_relset_v2}\")\n",
    "\n",
    "empty_relset_v1  # Just so we can see something that looks empty..."
   ]
  },
  {
   "cell_type": "markdown",
   "metadata": {},
   "source": [
    "## Operations on Relation Sets"
   ]
  },
  {
   "cell_type": "markdown",
   "metadata": {},
   "source": [
    "### Addition"
   ]
  },
  {
   "cell_type": "markdown",
   "metadata": {},
   "source": [
    "Addition (+) is set intersection:"
   ]
  },
  {
   "cell_type": "code",
   "execution_count": 22,
   "metadata": {},
   "outputs": [
    {
     "data": {
      "text/plain": [
       "relset(['M', 'O'])"
      ]
     },
     "execution_count": 22,
     "metadata": {},
     "output_type": "execute_result"
    }
   ],
   "source": [
    "alg.relset('B|M|O') + alg.relset('F|O|M|S')"
   ]
  },
  {
   "cell_type": "code",
   "execution_count": 23,
   "metadata": {},
   "outputs": [
    {
     "data": {
      "text/plain": [
       "relset()"
      ]
     },
     "execution_count": 23,
     "metadata": {},
     "output_type": "execute_result"
    }
   ],
   "source": [
    "alg.relset('B|M|O') + alg.relset('F|S')"
   ]
  },
  {
   "cell_type": "markdown",
   "metadata": {},
   "source": [
    "### Composition"
   ]
  },
  {
   "cell_type": "markdown",
   "metadata": {},
   "source": [
    "Composition, sometimes referred to as \"multiplication\", is relation composition applied to sets of relations.  (https://en.wikipedia.org/wiki/Composition_of_relations)\n",
    "\n",
    "When more than one relation appears in the sets, the result of composition is the union of all pairwise compositions of the individual relations in the sets.\n",
    "\n",
    "Below, we calculate 4 different compositions involving single relations, representing the pairwise compositions of F|MI and O|D:"
   ]
  },
  {
   "cell_type": "code",
   "execution_count": 24,
   "metadata": {},
   "outputs": [
    {
     "name": "stdout",
     "output_type": "stream",
     "text": [
      "F;O = D|O|S\n",
      "F;D = D\n",
      "MI;O = D|F|OI|ROI\n",
      "MI;D = D|F|OI|ROI\n"
     ]
    }
   ],
   "source": [
    "rel1 = \"F\"\n",
    "rel2= \"O\"\n",
    "rel3 = \"MI\"\n",
    "rel4 = \"D\"\n",
    "print(f\"{rel1};{rel2} = {alg.compose(alg.relset(rel1), alg.relset(rel2))}\")\n",
    "print(f\"{rel1};{rel4} = {alg.compose(alg.relset(rel1), alg.relset(rel4))}\")\n",
    "print(f\"{rel3};{rel2} = {alg.compose(alg.relset(rel3), alg.relset(rel2))}\")\n",
    "print(f\"{rel3};{rel4} = {alg.compose(alg.relset(rel3), alg.relset(rel4))}\")"
   ]
  },
  {
   "cell_type": "code",
   "execution_count": 25,
   "metadata": {},
   "outputs": [
    {
     "name": "stdout",
     "output_type": "stream",
     "text": [
      "(F|MI);(O|D) = D|F|O|OI|ROI|S\n"
     ]
    }
   ],
   "source": [
    "print(f\"({rel1}|{rel3});({rel2}|{rel4}) = {alg.compose(alg.relset('F|MI'), alg.relset('O|D'))}\")"
   ]
  },
  {
   "cell_type": "markdown",
   "metadata": {},
   "source": [
    "Not every composition of relations makes sense, and the result then is the empty relation set.\n",
    "\n",
    "For example..."
   ]
  },
  {
   "cell_type": "code",
   "execution_count": 26,
   "metadata": {},
   "outputs": [
    {
     "data": {
      "text/plain": [
       "relset()"
      ]
     },
     "execution_count": 26,
     "metadata": {},
     "output_type": "execute_result"
    }
   ],
   "source": [
    "alg.compose(alg.relset(\"F\"), alg.relset(\"PF\"))"
   ]
  },
  {
   "cell_type": "code",
   "execution_count": 27,
   "metadata": {},
   "outputs": [
    {
     "name": "stdout",
     "output_type": "stream",
     "text": [
      "                  Symbol: F\n",
      "                    Name: Finishes\n",
      "                  Domain: ['ProperInterval']\n",
      "                   Range: ['ProperInterval']\n",
      "                Converse: Finished-by\n",
      "           Is Reflexive?: False\n",
      "           Is Symmetric?: False\n",
      "          Is Transitive?: True\n",
      "Is an Equality Relation?: False\n",
      "\n",
      "\n",
      "                  Symbol: PF\n",
      "                    Name: Point-Finishes\n",
      "                  Domain: ['Point']\n",
      "                   Range: ['ProperInterval']\n",
      "                Converse: Point-Finished-By\n",
      "           Is Reflexive?: False\n",
      "           Is Symmetric?: False\n",
      "          Is Transitive?: False\n",
      "Is an Equality Relation?: False\n"
     ]
    }
   ],
   "source": [
    "alg.element_summary(\"F\")\n",
    "print(\"\\n\")\n",
    "alg.element_summary(\"PF\")"
   ]
  },
  {
   "cell_type": "markdown",
   "metadata": {},
   "source": [
    "The relation set above is empty because the range of F has nothing in common with the domain of PF.  Their domains and ranges are shown by the summaries below."
   ]
  },
  {
   "cell_type": "markdown",
   "metadata": {},
   "source": [
    "If we assume that A, B, and C are Temporal Entities, then the expression (A Finishes B) implies that B is a Proper Interval, but (B Point-Finishes C) implies that B is a Point.  Since B cannot be both a Point and a Proper Interval, the composition, F;PF, results in the empty set."
   ]
  },
  {
   "cell_type": "markdown",
   "metadata": {},
   "source": [
    "### Converses"
   ]
  },
  {
   "cell_type": "markdown",
   "metadata": {},
   "source": [
    "<u><b>NOTATION</b></u>:  Here, we'll denote the converse operation with \"!\".  So, if $A$ and $B$ are Temporal Entities, and $r$ is a relation between them, then $!r$ is its converse relation, so, $A r B$ if and only if $B !r A$.  For example, \"A before B\" if and only if \"B after A\"."
   ]
  },
  {
   "cell_type": "markdown",
   "metadata": {},
   "source": [
    "Individual relations have converses:"
   ]
  },
  {
   "cell_type": "code",
   "execution_count": 28,
   "metadata": {},
   "outputs": [
    {
     "name": "stdout",
     "output_type": "stream",
     "text": [
      "The converse of Before is After\n"
     ]
    }
   ],
   "source": [
    "rel_symbol = 'B'\n",
    "print(f\"The converse of {alg.rel_name(rel_symbol)} is {alg.rel_converse_name(rel_symbol)}\")"
   ]
  },
  {
   "cell_type": "markdown",
   "metadata": {},
   "source": [
    "And relation sets also have converses:"
   ]
  },
  {
   "cell_type": "code",
   "execution_count": 29,
   "metadata": {},
   "outputs": [
    {
     "name": "stdout",
     "output_type": "stream",
     "text": [
      "!B = BI\n",
      "!(BI|F|MI) = B|FI|M\n"
     ]
    }
   ],
   "source": [
    "print(f\"!{alg.relset(rel_symbol)} = {alg.converse(alg.relset(rel_symbol))}\")\n",
    "print(f\"!({alg.converse(relset_version1)}) = {relset_version1}\")"
   ]
  },
  {
   "cell_type": "markdown",
   "metadata": {},
   "source": [
    "### Complement of a Relation Set"
   ]
  },
  {
   "cell_type": "markdown",
   "metadata": {},
   "source": [
    "The complement of a relation set, R, is the set of all relation elements that are not in R.\n",
    "\n",
    "We'll use ~R to denote the complement of R."
   ]
  },
  {
   "cell_type": "code",
   "execution_count": 30,
   "metadata": {},
   "outputs": [
    {
     "name": "stdout",
     "output_type": "stream",
     "text": [
      "\n",
      "All Elements = B|BI|D|DI|E|F|FI|M|MI|O|OI|PE|PF|PFI|PS|PSI|RB|RBI|RO|ROI|RS|R~|S|SI\n",
      "          R  = B|BI|D|DI|E|F|FI|M|MI|O|OI\n",
      "         ~R  =                            PE|PF|PFI|PS|PSI|RB|RBI|RO|ROI|RS|R~|S|SI\n",
      "       ~(~R) = B|BI|D|DI|E|F|FI|M|MI|O|OI\n"
     ]
    }
   ],
   "source": [
    "R = alg.relset('B|BI|D|DI|E|F|FI|M|MI|O|OI')\n",
    "compR = R.complement()\n",
    "\n",
    "print(f\"\\nAll Elements = {alg.elements}\")\n",
    "print(f\"          R  = {R}\")\n",
    "print(f\"         ~R  =                            {compR}\")\n",
    "print(f\"       ~(~R) = {compR.complement()}\")"
   ]
  },
  {
   "cell_type": "markdown",
   "metadata": {},
   "source": [
    "## Global Properties of an Algebra of Relations"
   ]
  },
  {
   "cell_type": "markdown",
   "metadata": {},
   "source": [
    "There are two properties of an Algebra that are true for all \"applicable\" elements in the algebra:\n",
    "* The Composition Identity\n",
    "* Associativity, when domains & ranges permit"
   ]
  },
  {
   "cell_type": "markdown",
   "metadata": {},
   "source": [
    "### Composition Identity"
   ]
  },
  {
   "cell_type": "markdown",
   "metadata": {},
   "source": [
    "If $r$ and $s$ are two relations, then $!(r;s) = (!s);(!r)$"
   ]
  },
  {
   "cell_type": "markdown",
   "metadata": {},
   "source": [
    "Here's an example:"
   ]
  },
  {
   "cell_type": "code",
   "execution_count": 31,
   "metadata": {},
   "outputs": [
    {
     "name": "stdout",
     "output_type": "stream",
     "text": [
      "!(O;F) = DI|OI|SI\n",
      "!F;!O = DI|OI|SI\n",
      "Same? True\n"
     ]
    }
   ],
   "source": [
    "r = alg.relset(\"O\")\n",
    "s = alg.relset(\"F\")\n",
    "\n",
    "conv_comp_r_s = alg.converse(alg.compose(r, s))\n",
    "print(f\"!({r};{s}) = {conv_comp_r_s}\")\n",
    "\n",
    "comp_conv_s_conv_r = alg.compose(alg.converse(s), alg.converse(r))\n",
    "print(f\"!{s};!{r} = {comp_conv_s_conv_r}\")\n",
    "\n",
    "print(f\"Same? {conv_comp_r_s == comp_conv_s_conv_r}\")"
   ]
  },
  {
   "cell_type": "markdown",
   "metadata": {},
   "source": [
    "The <i><b>check_composition_identity</b></i> Algebra method checks every possible pairing of individual algebra relations wrt the composition identity, and returns True if all pairs check out."
   ]
  },
  {
   "cell_type": "code",
   "execution_count": 32,
   "metadata": {},
   "outputs": [
    {
     "name": "stdout",
     "output_type": "stream",
     "text": [
      "\n",
      "Extended_Linear_Interval_Algebra -- Composition Identity Check:\n",
      "PASSED . 324 products tested.\n"
     ]
    },
    {
     "data": {
      "text/plain": [
       "True"
      ]
     },
     "execution_count": 32,
     "metadata": {},
     "output_type": "execute_result"
    }
   ],
   "source": [
    "algX.check_composition_identity(verbose=True)"
   ]
  },
  {
   "cell_type": "markdown",
   "metadata": {},
   "source": [
    "### Associativity"
   ]
  },
  {
   "cell_type": "markdown",
   "metadata": {},
   "source": [
    "The <i><b>is_associative</b></i> Algebra method checks all possible triples of individual algebra relations and, if the domains and ranges are \"compatible\", checks to see if the triple is associative.  Incompatible triples are skipped.  It returns True if all compatible triples are associative."
   ]
  },
  {
   "cell_type": "code",
   "execution_count": 33,
   "metadata": {},
   "outputs": [
    {
     "name": "stdout",
     "output_type": "stream",
     "text": [
      "There are 24^3 = 13824 ways we can combine the algebra's elements to test associativity.\n"
     ]
    }
   ],
   "source": [
    "num_elements = len(alg.elements)\n",
    "print(f\"There are {num_elements}^3 = {num_elements**3} ways we can combine the algebra's elements to test associativity.\")"
   ]
  },
  {
   "cell_type": "markdown",
   "metadata": {},
   "source": [
    "The following method tests all of those ways, skipping the ones that don't make sense due to range-domain mismatches."
   ]
  },
  {
   "cell_type": "code",
   "execution_count": 34,
   "metadata": {},
   "outputs": [
    {
     "name": "stdout",
     "output_type": "stream",
     "text": [
      "TEST SUMMARY: 9772 OK, 4052 Skipped, 0 Failed (13824 Total)\n"
     ]
    },
    {
     "data": {
      "text/plain": [
       "True"
      ]
     },
     "execution_count": 34,
     "metadata": {},
     "output_type": "execute_result"
    }
   ],
   "source": [
    "alg.is_associative()"
   ]
  },
  {
   "cell_type": "code",
   "execution_count": null,
   "metadata": {},
   "outputs": [],
   "source": []
  }
 ],
 "metadata": {
  "kernelspec": {
   "display_name": "Python 3",
   "language": "python",
   "name": "python3"
  },
  "language_info": {
   "codemirror_mode": {
    "name": "ipython",
    "version": 3
   },
   "file_extension": ".py",
   "mimetype": "text/x-python",
   "name": "python",
   "nbconvert_exporter": "python",
   "pygments_lexer": "ipython3",
   "version": "3.7.7"
  }
 },
 "nbformat": 4,
 "nbformat_minor": 2
}
