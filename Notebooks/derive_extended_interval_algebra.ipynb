{
 "cells": [
  {
   "cell_type": "markdown",
   "metadata": {},
   "source": [
    "# Derive Extended Interval Algebra"
   ]
  },
  {
   "cell_type": "markdown",
   "metadata": {},
   "source": [
    "<b>NOTE:</b> From a derivation point-of-view, what distinquishes this algebra from Allen's algebra it the definition of <b>less than</b> used to define intervals.  In particular, this derivation uses '=|<' rather than '<', which allows intervals to be degenerate (i.e., equal a point).  See the section, below, titled, <i>\"Derive the Extended Interval Algebra as a Dictionary\"</i>."
   ]
  },
  {
   "cell_type": "markdown",
   "metadata": {},
   "source": [
    "## References"
   ]
  },
  {
   "cell_type": "markdown",
   "metadata": {},
   "source": [
    "1. [\"Maintaining Knowledge about Temporal Intervals\" by J.F. Allen](https://cse.unl.edu/~choueiry/Documents/Allen-CACM1983.pdf) - Allen's original paper\n",
    "1. [Allen's Interval Algebra](https://www.ics.uci.edu/~alspaugh/cls/shr/allen.html) or [here](https://thomasalspaugh.org/pub/fnd/allen.html) - summarizes Allen's algebra of proper time intervals\n",
    "1. [\"Intervals, Points, and Branching Time\" by A.J. Reich](https://www.researchgate.net/publication/220810644_Intervals_Points_and_Branching_Time) - basis for the extensions here to Allen's algebra\n",
    "1. [W3C Time Ontology in OWL](https://www.w3.org/TR/owl-time/) - temporal vocabulary used here is based on the W3C vocabulary of time\n",
    "1. [bitsets Python package](https://bitsets.readthedocs.io/en/stable/) - used to implement Algebra relation sets and operations\n",
    "1. [NetworkX Python package](http://networkx.github.io/) - used to represent directed graph of constraints\n",
    "1. [Python format string syntax](https://docs.python.org/3/library/string.html#format-string-syntax) - used in Algebra summary method\n",
    "1. [Spatial Ontology](https://www.w3.org/2017/sdwig/bp/) - I'm still looking for a standard spatial vocabulary; maybe start here\n",
    "1. [Qualitative Spatial Relations (QSR) Library](https://qsrlib.readthedocs.io/en/latest/index.html) - an alternative library to the one defined here"
   ]
  },
  {
   "cell_type": "markdown",
   "metadata": {},
   "source": [
    "## Dependencies"
   ]
  },
  {
   "cell_type": "code",
   "execution_count": 1,
   "metadata": {},
   "outputs": [],
   "source": [
    "import os\n",
    "import qualreas as qr\n",
    "import numpy as np\n",
    "\n",
    "import sys"
   ]
  },
  {
   "cell_type": "code",
   "execution_count": 2,
   "metadata": {},
   "outputs": [],
   "source": [
    "sys.setrecursionlimit(10000)"
   ]
  },
  {
   "cell_type": "code",
   "execution_count": 3,
   "metadata": {},
   "outputs": [],
   "source": [
    "path = os.path.join(os.getenv('PYPROJ'), 'qualreas')"
   ]
  },
  {
   "cell_type": "markdown",
   "metadata": {},
   "source": [
    "## Deriving Extended Interval Algebra from Extended Point Algebra"
   ]
  },
  {
   "cell_type": "markdown",
   "metadata": {},
   "source": [
    "### Extended Point Algebra"
   ]
  },
  {
   "cell_type": "code",
   "execution_count": 4,
   "metadata": {},
   "outputs": [],
   "source": [
    "pt_alg = qr.Algebra(os.path.join(path, \"Algebras/Linear_Point_Algebra.json\"))"
   ]
  },
  {
   "cell_type": "code",
   "execution_count": 5,
   "metadata": {},
   "outputs": [
    {
     "name": "stdout",
     "output_type": "stream",
     "text": [
      "  Algebra Name: Linear_Point_Algebra\n",
      "   Description: Linear Point Algebra\n",
      " Equality Rels: =\n",
      "     Relations:\n",
      "            NAME (SYMBOL)         CONVERSE (ABBREV)  REFLEXIVE  SYMMETRIC TRANSITIVE   DOMAIN        RANGE\n",
      "           LessThan (  <)         GreaterThan (  >)    False      False       True         Pt            Pt\n",
      "             Equals (  =)              Equals (  =)     True       True       True         Pt            Pt\n",
      "        GreaterThan (  >)            LessThan (  <)    False      False       True         Pt            Pt\n",
      "\n",
      "Domain & Range Abbreviations:\n",
      "   Pt = Point\n",
      " PInt = Proper Interval\n"
     ]
    }
   ],
   "source": [
    "pt_alg.summary()"
   ]
  },
  {
   "cell_type": "code",
   "execution_count": 6,
   "metadata": {},
   "outputs": [
    {
     "name": "stdout",
     "output_type": "stream",
     "text": [
      "Linear_Point_Algebra\n",
      "Elements: <, =, >\n",
      "==============================\n",
      " rel1 ; rel2 = composition\n",
      "==============================\n",
      "   <      <      <\n",
      "   <      =      <\n",
      "   <      >      <|=|>\n",
      "------------------------------\n",
      "   =      <      <\n",
      "   =      =      =\n",
      "   =      >      >\n",
      "------------------------------\n",
      "   >      <      <|=|>\n",
      "   >      =      >\n",
      "   >      >      >\n",
      "------------------------------\n"
     ]
    }
   ],
   "source": [
    "qr.print_point_algebra_composition_table(pt_alg)"
   ]
  },
  {
   "cell_type": "markdown",
   "metadata": {},
   "source": [
    "### Derive the Extended Interval Algebra as a Dictionary"
   ]
  },
  {
   "cell_type": "markdown",
   "metadata": {},
   "source": [
    "The definition of <b>less than</b>, below, either restricts intervals to be proper ('<') or allows intervals to be degenerate ('=|<') (i.e., integrates points and intervals)."
   ]
  },
  {
   "cell_type": "code",
   "execution_count": 7,
   "metadata": {},
   "outputs": [],
   "source": [
    "less_than_rel = '=|<'\n",
    "#less_than_rel = '<'"
   ]
  },
  {
   "cell_type": "code",
   "execution_count": 8,
   "metadata": {},
   "outputs": [
    {
     "name": "stdout",
     "output_type": "stream",
     "text": [
      "==========================\n",
      "<,<,<,<\n",
      "B\n",
      "(['Point', 'ProperInterval'], ['Point', 'ProperInterval'])\n",
      "[['=' '<|=' '<' '<']\n",
      " ['=|>' '=' '<' '<']\n",
      " ['>' '>' '=' '<|=']\n",
      " ['>' '>' '=|>' '=']]\n",
      "==========================\n",
      "<,<,=,<\n",
      "M\n",
      "(['ProperInterval'], ['ProperInterval'])\n",
      "[['=' '<' '<' '<']\n",
      " ['>' '=' '=' '<']\n",
      " ['>' '=' '=' '<']\n",
      " ['>' '>' '>' '=']]\n",
      "==========================\n",
      "<,<,=,=\n",
      "PFI\n",
      "(['ProperInterval'], ['Point'])\n",
      "[['=' '<' '<' '<']\n",
      " ['>' '=' '=' '=']\n",
      " ['>' '=' '=' '=']\n",
      " ['>' '=' '=' '=']]\n",
      "==========================\n",
      "<,<,>,<\n",
      "O\n",
      "(['ProperInterval'], ['ProperInterval'])\n",
      "[['=' '<' '<' '<']\n",
      " ['>' '=' '>' '<']\n",
      " ['>' '<' '=' '<']\n",
      " ['>' '>' '>' '=']]\n",
      "==========================\n",
      "<,<,>,=\n",
      "FI\n",
      "(['ProperInterval'], ['ProperInterval'])\n",
      "[['=' '<' '<' '<']\n",
      " ['>' '=' '>' '=']\n",
      " ['>' '<' '=' '<']\n",
      " ['>' '=' '>' '=']]\n",
      "==========================\n",
      "<,<,>,>\n",
      "DI\n",
      "(['ProperInterval'], ['Point', 'ProperInterval'])\n",
      "[['=' '<' '<' '<']\n",
      " ['>' '=' '>' '>']\n",
      " ['>' '<' '=' '<|=']\n",
      " ['>' '<' '=|>' '=']]\n",
      "==========================\n",
      "=,<,=,<\n",
      "PS\n",
      "(['Point'], ['ProperInterval'])\n",
      "[['=' '=' '=' '<']\n",
      " ['=' '=' '=' '<']\n",
      " ['=' '=' '=' '<']\n",
      " ['>' '>' '>' '=']]\n",
      "==========================\n",
      "=,=,=,=\n",
      "PE\n",
      "(['Point'], ['Point'])\n",
      "[['=' '=' '=' '=']\n",
      " ['=' '=' '=' '=']\n",
      " ['=' '=' '=' '=']\n",
      " ['=' '=' '=' '=']]\n",
      "==========================\n",
      "=,<,>,<\n",
      "S\n",
      "(['ProperInterval'], ['ProperInterval'])\n",
      "[['=' '<' '=' '<']\n",
      " ['>' '=' '>' '<']\n",
      " ['=' '<' '=' '<']\n",
      " ['>' '>' '>' '=']]\n",
      "==========================\n",
      "=,<,>,=\n",
      "E\n",
      "(['ProperInterval'], ['ProperInterval'])\n",
      "[['=' '<' '=' '<']\n",
      " ['>' '=' '>' '=']\n",
      " ['=' '<' '=' '<']\n",
      " ['>' '=' '>' '=']]\n",
      "==========================\n",
      "=,<,>,>\n",
      "SI\n",
      "(['ProperInterval'], ['ProperInterval'])\n",
      "[['=' '<' '=' '<']\n",
      " ['>' '=' '>' '>']\n",
      " ['=' '<' '=' '<']\n",
      " ['>' '<' '>' '=']]\n",
      "==========================\n",
      "=,=,>,>\n",
      "PSI\n",
      "(['ProperInterval'], ['Point'])\n",
      "[['=' '<' '=' '=']\n",
      " ['>' '=' '>' '>']\n",
      " ['=' '<' '=' '=']\n",
      " ['=' '<' '=' '=']]\n",
      "==========================\n",
      ">,<,>,<\n",
      "D\n",
      "(['Point', 'ProperInterval'], ['ProperInterval'])\n",
      "[['=' '<|=' '>' '<']\n",
      " ['=|>' '=' '>' '<']\n",
      " ['<' '<' '=' '<']\n",
      " ['>' '>' '>' '=']]\n",
      "==========================\n",
      ">,<,>,=\n",
      "F\n",
      "(['ProperInterval'], ['ProperInterval'])\n",
      "[['=' '<' '>' '<']\n",
      " ['>' '=' '>' '=']\n",
      " ['<' '<' '=' '<']\n",
      " ['>' '=' '>' '=']]\n",
      "==========================\n",
      ">,<,>,>\n",
      "OI\n",
      "(['ProperInterval'], ['ProperInterval'])\n",
      "[['=' '<' '>' '<']\n",
      " ['>' '=' '>' '>']\n",
      " ['<' '<' '=' '<']\n",
      " ['>' '<' '>' '=']]\n",
      "==========================\n",
      ">,=,>,=\n",
      "PF\n",
      "(['Point'], ['ProperInterval'])\n",
      "[['=' '=' '>' '=']\n",
      " ['=' '=' '>' '=']\n",
      " ['<' '<' '=' '<']\n",
      " ['=' '=' '>' '=']]\n",
      "==========================\n",
      ">,=,>,>\n",
      "MI\n",
      "(['ProperInterval'], ['ProperInterval'])\n",
      "[['=' '<' '>' '=']\n",
      " ['>' '=' '>' '>']\n",
      " ['<' '<' '=' '<']\n",
      " ['=' '<' '>' '=']]\n",
      "==========================\n",
      ">,>,>,>\n",
      "BI\n",
      "(['Point', 'ProperInterval'], ['Point', 'ProperInterval'])\n",
      "[['=' '<|=' '>' '>']\n",
      " ['=|>' '=' '>' '>']\n",
      " ['<' '<' '=' '<|=']\n",
      " ['<' '<' '=|>' '=']]\n",
      "\n",
      "18 consistent networks\n",
      "CPU times: user 19.4 s, sys: 73.5 ms, total: 19.5 s\n",
      "Wall time: 19.5 s\n"
     ]
    }
   ],
   "source": [
    "ext_alg_name=\"Derived_Extended_Interval_Algebra\"\n",
    "ext_alg_desc=\"Extended linear interval algebra derived from point relations\"\n",
    "\n",
    "verbose = True\n",
    "\n",
    "%time test_ext_alg_dict = qr.derive_algebra(pt_alg, less_than_rel, name=ext_alg_name, description=ext_alg_desc, verbose=verbose)"
   ]
  },
  {
   "cell_type": "code",
   "execution_count": 9,
   "metadata": {},
   "outputs": [
    {
     "data": {
      "text/plain": [
       "{'Name': 'Derived_Extended_Interval_Algebra',\n",
       " 'Description': 'Extended linear interval algebra derived from point relations',\n",
       " 'Relations': {'B': {'Name': 'Before',\n",
       "   'Converse': 'BI',\n",
       "   'Domain': ['Point', 'ProperInterval'],\n",
       "   'Range': ['Point', 'ProperInterval'],\n",
       "   'Reflexive': False,\n",
       "   'Symmetric': False,\n",
       "   'Transitive': True},\n",
       "  'BI': {'Name': 'After',\n",
       "   'Converse': 'B',\n",
       "   'Domain': ['Point', 'ProperInterval'],\n",
       "   'Range': ['Point', 'ProperInterval'],\n",
       "   'Reflexive': False,\n",
       "   'Symmetric': False,\n",
       "   'Transitive': True},\n",
       "  'D': {'Name': 'During',\n",
       "   'Converse': 'DI',\n",
       "   'Domain': ['Point', 'ProperInterval'],\n",
       "   'Range': ['ProperInterval'],\n",
       "   'Reflexive': False,\n",
       "   'Symmetric': False,\n",
       "   'Transitive': True},\n",
       "  'DI': {'Name': 'Contains',\n",
       "   'Converse': 'D',\n",
       "   'Domain': ['ProperInterval'],\n",
       "   'Range': ['Point', 'ProperInterval'],\n",
       "   'Reflexive': False,\n",
       "   'Symmetric': False,\n",
       "   'Transitive': True},\n",
       "  'E': {'Name': 'Equals',\n",
       "   'Converse': 'E',\n",
       "   'Domain': ['ProperInterval'],\n",
       "   'Range': ['ProperInterval'],\n",
       "   'Reflexive': True,\n",
       "   'Symmetric': True,\n",
       "   'Transitive': True},\n",
       "  'F': {'Name': 'Finishes',\n",
       "   'Converse': 'FI',\n",
       "   'Domain': ['ProperInterval'],\n",
       "   'Range': ['ProperInterval'],\n",
       "   'Reflexive': False,\n",
       "   'Symmetric': False,\n",
       "   'Transitive': True},\n",
       "  'FI': {'Name': 'Finished-by',\n",
       "   'Converse': 'F',\n",
       "   'Domain': ['ProperInterval'],\n",
       "   'Range': ['ProperInterval'],\n",
       "   'Reflexive': False,\n",
       "   'Symmetric': False,\n",
       "   'Transitive': True},\n",
       "  'M': {'Name': 'Meets',\n",
       "   'Converse': 'MI',\n",
       "   'Domain': ['ProperInterval'],\n",
       "   'Range': ['ProperInterval'],\n",
       "   'Reflexive': False,\n",
       "   'Symmetric': False,\n",
       "   'Transitive': False},\n",
       "  'MI': {'Name': 'Met-By',\n",
       "   'Converse': 'M',\n",
       "   'Domain': ['ProperInterval'],\n",
       "   'Range': ['ProperInterval'],\n",
       "   'Reflexive': False,\n",
       "   'Symmetric': False,\n",
       "   'Transitive': False},\n",
       "  'O': {'Name': 'Overlaps',\n",
       "   'Converse': 'OI',\n",
       "   'Domain': ['ProperInterval'],\n",
       "   'Range': ['ProperInterval'],\n",
       "   'Reflexive': False,\n",
       "   'Symmetric': False,\n",
       "   'Transitive': False},\n",
       "  'OI': {'Name': 'Overlapped-By',\n",
       "   'Converse': 'O',\n",
       "   'Domain': ['ProperInterval'],\n",
       "   'Range': ['ProperInterval'],\n",
       "   'Reflexive': False,\n",
       "   'Symmetric': False,\n",
       "   'Transitive': False},\n",
       "  'PE': {'Name': 'Point-Equals',\n",
       "   'Converse': 'PE',\n",
       "   'Domain': ['Point'],\n",
       "   'Range': ['Point'],\n",
       "   'Reflexive': True,\n",
       "   'Symmetric': True,\n",
       "   'Transitive': True},\n",
       "  'PF': {'Name': 'Point-Finishes',\n",
       "   'Converse': 'PFI',\n",
       "   'Domain': ['Point'],\n",
       "   'Range': ['ProperInterval'],\n",
       "   'Reflexive': False,\n",
       "   'Symmetric': False,\n",
       "   'Transitive': False},\n",
       "  'PFI': {'Name': 'Point-Finished-By',\n",
       "   'Converse': 'PF',\n",
       "   'Domain': ['ProperInterval'],\n",
       "   'Range': ['Point'],\n",
       "   'Reflexive': False,\n",
       "   'Symmetric': False,\n",
       "   'Transitive': False},\n",
       "  'PS': {'Name': 'Point-Starts',\n",
       "   'Converse': 'PSI',\n",
       "   'Domain': ['Point'],\n",
       "   'Range': ['ProperInterval'],\n",
       "   'Reflexive': False,\n",
       "   'Symmetric': False,\n",
       "   'Transitive': False},\n",
       "  'PSI': {'Name': 'Point-Started-By',\n",
       "   'Converse': 'PS',\n",
       "   'Domain': ['ProperInterval'],\n",
       "   'Range': ['Point'],\n",
       "   'Reflexive': False,\n",
       "   'Symmetric': False,\n",
       "   'Transitive': False},\n",
       "  'S': {'Name': 'Starts',\n",
       "   'Converse': 'SI',\n",
       "   'Domain': ['ProperInterval'],\n",
       "   'Range': ['ProperInterval'],\n",
       "   'Reflexive': False,\n",
       "   'Symmetric': False,\n",
       "   'Transitive': True},\n",
       "  'SI': {'Name': 'Started-By',\n",
       "   'Converse': 'S',\n",
       "   'Domain': ['ProperInterval'],\n",
       "   'Range': ['ProperInterval'],\n",
       "   'Reflexive': False,\n",
       "   'Symmetric': False,\n",
       "   'Transitive': True}},\n",
       " 'TransTable': {'B': {'B': 'B',\n",
       "   'BI': 'B|BI|D|DI|E|F|FI|M|MI|O|OI|PE|PF|PFI|PS|PSI|S|SI',\n",
       "   'D': 'B|D|M|O|PS|S',\n",
       "   'DI': 'B',\n",
       "   'E': 'B',\n",
       "   'F': 'B|D|M|O|PS|S',\n",
       "   'FI': 'B',\n",
       "   'M': 'B',\n",
       "   'MI': 'B|D|M|O|PS|S',\n",
       "   'O': 'B',\n",
       "   'OI': 'B|D|M|O|PS|S',\n",
       "   'PE': 'B',\n",
       "   'PF': 'B|D|M|O|PS|S',\n",
       "   'PFI': 'B',\n",
       "   'PS': 'B',\n",
       "   'PSI': 'B',\n",
       "   'S': 'B',\n",
       "   'SI': 'B'},\n",
       "  'BI': {'B': 'B|BI|D|DI|E|F|FI|M|MI|O|OI|PE|PF|PFI|PS|PSI|S|SI',\n",
       "   'BI': 'BI',\n",
       "   'D': 'BI|D|F|MI|OI|PF',\n",
       "   'DI': 'BI',\n",
       "   'E': 'BI',\n",
       "   'F': 'BI',\n",
       "   'FI': 'BI',\n",
       "   'M': 'BI|D|F|MI|OI|PF',\n",
       "   'MI': 'BI',\n",
       "   'O': 'BI|D|F|MI|OI|PF',\n",
       "   'OI': 'BI',\n",
       "   'PE': 'BI',\n",
       "   'PF': 'BI',\n",
       "   'PFI': 'BI',\n",
       "   'PS': 'BI|D|F|MI|OI|PF',\n",
       "   'PSI': 'BI',\n",
       "   'S': 'BI|D|F|MI|OI|PF',\n",
       "   'SI': 'BI'},\n",
       "  'D': {'B': 'B',\n",
       "   'BI': 'BI',\n",
       "   'D': 'D',\n",
       "   'DI': 'B|BI|D|DI|E|F|FI|M|MI|O|OI|PE|PF|PFI|PS|PSI|S|SI',\n",
       "   'E': 'D',\n",
       "   'F': 'D',\n",
       "   'FI': 'B|D|M|O|PS|S',\n",
       "   'M': 'B',\n",
       "   'MI': 'BI',\n",
       "   'O': 'B|D|M|O|PS|S',\n",
       "   'OI': 'BI|D|F|MI|OI|PF',\n",
       "   'PE': '',\n",
       "   'PF': '',\n",
       "   'PFI': 'B',\n",
       "   'PS': '',\n",
       "   'PSI': 'BI',\n",
       "   'S': 'D',\n",
       "   'SI': 'BI|D|F|MI|OI|PF'},\n",
       "  'DI': {'B': 'B|DI|FI|M|O|PFI',\n",
       "   'BI': 'BI|DI|MI|OI|PSI|SI',\n",
       "   'D': 'D|DI|E|F|FI|O|OI|S|SI',\n",
       "   'DI': 'DI',\n",
       "   'E': 'DI',\n",
       "   'F': 'DI|OI|SI',\n",
       "   'FI': 'DI',\n",
       "   'M': 'DI|FI|O',\n",
       "   'MI': 'DI|OI|SI',\n",
       "   'O': 'DI|FI|O',\n",
       "   'OI': 'DI|OI|SI',\n",
       "   'PE': 'DI',\n",
       "   'PF': 'DI|OI|SI',\n",
       "   'PFI': 'DI',\n",
       "   'PS': 'DI|FI|O',\n",
       "   'PSI': 'DI',\n",
       "   'S': 'DI|FI|O',\n",
       "   'SI': 'DI'},\n",
       "  'E': {'B': 'B',\n",
       "   'BI': 'BI',\n",
       "   'D': 'D',\n",
       "   'DI': 'DI',\n",
       "   'E': 'E',\n",
       "   'F': 'F',\n",
       "   'FI': 'FI',\n",
       "   'M': 'M',\n",
       "   'MI': 'MI',\n",
       "   'O': 'O',\n",
       "   'OI': 'OI',\n",
       "   'PE': '',\n",
       "   'PF': '',\n",
       "   'PFI': 'PFI',\n",
       "   'PS': '',\n",
       "   'PSI': 'PSI',\n",
       "   'S': 'S',\n",
       "   'SI': 'SI'},\n",
       "  'F': {'B': 'B',\n",
       "   'BI': 'BI',\n",
       "   'D': 'D',\n",
       "   'DI': 'BI|DI|MI|OI|PSI|SI',\n",
       "   'E': 'F',\n",
       "   'F': 'F',\n",
       "   'FI': 'E|F|FI',\n",
       "   'M': 'M',\n",
       "   'MI': 'BI',\n",
       "   'O': 'D|O|S',\n",
       "   'OI': 'BI|MI|OI',\n",
       "   'PE': '',\n",
       "   'PF': '',\n",
       "   'PFI': 'PFI',\n",
       "   'PS': '',\n",
       "   'PSI': 'BI',\n",
       "   'S': 'D',\n",
       "   'SI': 'BI|MI|OI'},\n",
       "  'FI': {'B': 'B',\n",
       "   'BI': 'BI|DI|MI|OI|PSI|SI',\n",
       "   'D': 'D|O|S',\n",
       "   'DI': 'DI',\n",
       "   'E': 'FI',\n",
       "   'F': 'E|F|FI',\n",
       "   'FI': 'FI',\n",
       "   'M': 'M',\n",
       "   'MI': 'DI|OI|SI',\n",
       "   'O': 'O',\n",
       "   'OI': 'DI|OI|SI',\n",
       "   'PE': '',\n",
       "   'PF': '',\n",
       "   'PFI': 'PFI',\n",
       "   'PS': '',\n",
       "   'PSI': 'DI',\n",
       "   'S': 'O',\n",
       "   'SI': 'DI'},\n",
       "  'M': {'B': 'B',\n",
       "   'BI': 'BI|DI|MI|OI|PSI|SI',\n",
       "   'D': 'D|O|S',\n",
       "   'DI': 'B',\n",
       "   'E': 'M',\n",
       "   'F': 'D|O|S',\n",
       "   'FI': 'B',\n",
       "   'M': 'B',\n",
       "   'MI': 'E|F|FI',\n",
       "   'O': 'B',\n",
       "   'OI': 'D|O|S',\n",
       "   'PE': '',\n",
       "   'PF': '',\n",
       "   'PFI': 'B',\n",
       "   'PS': '',\n",
       "   'PSI': 'PFI',\n",
       "   'S': 'M',\n",
       "   'SI': 'M'},\n",
       "  'MI': {'B': 'B|DI|FI|M|O|PFI',\n",
       "   'BI': 'BI',\n",
       "   'D': 'D|F|OI',\n",
       "   'DI': 'BI',\n",
       "   'E': 'MI',\n",
       "   'F': 'MI',\n",
       "   'FI': 'MI',\n",
       "   'M': 'E|S|SI',\n",
       "   'MI': 'BI',\n",
       "   'O': 'D|F|OI',\n",
       "   'OI': 'BI',\n",
       "   'PE': '',\n",
       "   'PF': '',\n",
       "   'PFI': 'PSI',\n",
       "   'PS': '',\n",
       "   'PSI': 'BI',\n",
       "   'S': 'D|F|OI',\n",
       "   'SI': 'BI'},\n",
       "  'O': {'B': 'B',\n",
       "   'BI': 'BI|DI|MI|OI|PSI|SI',\n",
       "   'D': 'D|O|S',\n",
       "   'DI': 'B|DI|FI|M|O|PFI',\n",
       "   'E': 'O',\n",
       "   'F': 'D|O|S',\n",
       "   'FI': 'B|M|O',\n",
       "   'M': 'B',\n",
       "   'MI': 'DI|OI|SI',\n",
       "   'O': 'B|M|O',\n",
       "   'OI': 'D|DI|E|F|FI|O|OI|S|SI',\n",
       "   'PE': '',\n",
       "   'PF': '',\n",
       "   'PFI': 'B',\n",
       "   'PS': '',\n",
       "   'PSI': 'DI',\n",
       "   'S': 'O',\n",
       "   'SI': 'DI|FI|O'},\n",
       "  'OI': {'B': 'B|DI|FI|M|O|PFI',\n",
       "   'BI': 'BI',\n",
       "   'D': 'D|F|OI',\n",
       "   'DI': 'BI|DI|MI|OI|PSI|SI',\n",
       "   'E': 'OI',\n",
       "   'F': 'OI',\n",
       "   'FI': 'DI|OI|SI',\n",
       "   'M': 'DI|FI|O',\n",
       "   'MI': 'BI',\n",
       "   'O': 'D|DI|E|F|FI|O|OI|S|SI',\n",
       "   'OI': 'BI|MI|OI',\n",
       "   'PE': '',\n",
       "   'PF': '',\n",
       "   'PFI': 'DI',\n",
       "   'PS': '',\n",
       "   'PSI': 'BI',\n",
       "   'S': 'D|F|OI',\n",
       "   'SI': 'BI|MI|OI'},\n",
       "  'PE': {'B': 'B',\n",
       "   'BI': 'BI',\n",
       "   'D': 'D',\n",
       "   'DI': '',\n",
       "   'E': '',\n",
       "   'F': '',\n",
       "   'FI': '',\n",
       "   'M': '',\n",
       "   'MI': '',\n",
       "   'O': '',\n",
       "   'OI': '',\n",
       "   'PE': 'PE',\n",
       "   'PF': 'PF',\n",
       "   'PFI': '',\n",
       "   'PS': 'PS',\n",
       "   'PSI': '',\n",
       "   'S': '',\n",
       "   'SI': ''},\n",
       "  'PF': {'B': 'B',\n",
       "   'BI': 'BI',\n",
       "   'D': 'D',\n",
       "   'DI': 'BI',\n",
       "   'E': 'PF',\n",
       "   'F': 'PF',\n",
       "   'FI': 'PF',\n",
       "   'M': 'PS',\n",
       "   'MI': 'BI',\n",
       "   'O': 'D',\n",
       "   'OI': 'BI',\n",
       "   'PE': '',\n",
       "   'PF': '',\n",
       "   'PFI': 'PE',\n",
       "   'PS': '',\n",
       "   'PSI': 'BI',\n",
       "   'S': 'D',\n",
       "   'SI': 'BI'},\n",
       "  'PFI': {'B': 'B',\n",
       "   'BI': 'BI|DI|MI|OI|PSI|SI',\n",
       "   'D': 'D|O|S',\n",
       "   'DI': '',\n",
       "   'E': '',\n",
       "   'F': '',\n",
       "   'FI': '',\n",
       "   'M': '',\n",
       "   'MI': '',\n",
       "   'O': '',\n",
       "   'OI': '',\n",
       "   'PE': 'PFI',\n",
       "   'PF': 'E|F|FI',\n",
       "   'PFI': '',\n",
       "   'PS': 'M',\n",
       "   'PSI': '',\n",
       "   'S': '',\n",
       "   'SI': ''},\n",
       "  'PS': {'B': 'B',\n",
       "   'BI': 'BI',\n",
       "   'D': 'D',\n",
       "   'DI': 'B',\n",
       "   'E': 'PS',\n",
       "   'F': 'D',\n",
       "   'FI': 'B',\n",
       "   'M': 'B',\n",
       "   'MI': 'PF',\n",
       "   'O': 'B',\n",
       "   'OI': 'D',\n",
       "   'PE': '',\n",
       "   'PF': '',\n",
       "   'PFI': 'B',\n",
       "   'PS': '',\n",
       "   'PSI': 'PE',\n",
       "   'S': 'PS',\n",
       "   'SI': 'PS'},\n",
       "  'PSI': {'B': 'B|DI|FI|M|O|PFI',\n",
       "   'BI': 'BI',\n",
       "   'D': 'D|F|OI',\n",
       "   'DI': '',\n",
       "   'E': '',\n",
       "   'F': '',\n",
       "   'FI': '',\n",
       "   'M': '',\n",
       "   'MI': '',\n",
       "   'O': '',\n",
       "   'OI': '',\n",
       "   'PE': 'PSI',\n",
       "   'PF': 'MI',\n",
       "   'PFI': '',\n",
       "   'PS': 'E|S|SI',\n",
       "   'PSI': '',\n",
       "   'S': '',\n",
       "   'SI': ''},\n",
       "  'S': {'B': 'B',\n",
       "   'BI': 'BI',\n",
       "   'D': 'D',\n",
       "   'DI': 'B|DI|FI|M|O|PFI',\n",
       "   'E': 'S',\n",
       "   'F': 'D',\n",
       "   'FI': 'B|M|O',\n",
       "   'M': 'B',\n",
       "   'MI': 'MI',\n",
       "   'O': 'B|M|O',\n",
       "   'OI': 'D|F|OI',\n",
       "   'PE': '',\n",
       "   'PF': '',\n",
       "   'PFI': 'B',\n",
       "   'PS': '',\n",
       "   'PSI': 'PSI',\n",
       "   'S': 'S',\n",
       "   'SI': 'E|S|SI'},\n",
       "  'SI': {'B': 'B|DI|FI|M|O|PFI',\n",
       "   'BI': 'BI',\n",
       "   'D': 'D|F|OI',\n",
       "   'DI': 'DI',\n",
       "   'E': 'SI',\n",
       "   'F': 'OI',\n",
       "   'FI': 'DI',\n",
       "   'M': 'DI|FI|O',\n",
       "   'MI': 'MI',\n",
       "   'O': 'DI|FI|O',\n",
       "   'OI': 'OI',\n",
       "   'PE': '',\n",
       "   'PF': '',\n",
       "   'PFI': 'DI',\n",
       "   'PS': '',\n",
       "   'PSI': 'PSI',\n",
       "   'S': 'E|S|SI',\n",
       "   'SI': 'SI'}}}"
      ]
     },
     "execution_count": 9,
     "metadata": {},
     "output_type": "execute_result"
    }
   ],
   "source": [
    "test_ext_alg_dict"
   ]
  },
  {
   "cell_type": "markdown",
   "metadata": {},
   "source": [
    "### Save Algebra Dictionary to JSON File"
   ]
  },
  {
   "cell_type": "code",
   "execution_count": 10,
   "metadata": {},
   "outputs": [
    {
     "data": {
      "text/plain": [
       "'/Users/alfredreich/Documents/Github/repo/qualreas/Algebras/test_derived_extended_interval_algebra.json'"
      ]
     },
     "execution_count": 10,
     "metadata": {},
     "output_type": "execute_result"
    }
   ],
   "source": [
    "test_ext_json_path = os.path.join(path, \"Algebras/test_derived_extended_interval_algebra.json\")\n",
    "test_ext_json_path"
   ]
  },
  {
   "cell_type": "code",
   "execution_count": 11,
   "metadata": {},
   "outputs": [],
   "source": [
    "qr.algebra_to_json_file(test_ext_alg_dict, test_ext_json_path)"
   ]
  },
  {
   "cell_type": "markdown",
   "metadata": {},
   "source": [
    "### Instantiate an Algebra Object from JSON File"
   ]
  },
  {
   "cell_type": "code",
   "execution_count": 12,
   "metadata": {},
   "outputs": [
    {
     "data": {
      "text/plain": [
       "<qualreas.Algebra at 0x7fe4c18d4710>"
      ]
     },
     "execution_count": 12,
     "metadata": {},
     "output_type": "execute_result"
    }
   ],
   "source": [
    "test_ext_alg = qr.Algebra(test_ext_json_path)\n",
    "test_ext_alg"
   ]
  },
  {
   "cell_type": "code",
   "execution_count": 13,
   "metadata": {},
   "outputs": [
    {
     "name": "stdout",
     "output_type": "stream",
     "text": [
      "  Algebra Name: Derived_Extended_Interval_Algebra\n",
      "   Description: Extended linear interval algebra derived from point relations\n",
      " Equality Rels: E|PE\n",
      "     Relations:\n",
      "            NAME (SYMBOL)         CONVERSE (ABBREV)  REFLEXIVE  SYMMETRIC TRANSITIVE   DOMAIN        RANGE\n",
      "             Before (  B)               After ( BI)    False      False       True    Pt|PInt       Pt|PInt\n",
      "              After ( BI)              Before (  B)    False      False       True    Pt|PInt       Pt|PInt\n",
      "             During (  D)            Contains ( DI)    False      False       True    Pt|PInt          PInt\n",
      "           Contains ( DI)              During (  D)    False      False       True       PInt       Pt|PInt\n",
      "             Equals (  E)              Equals (  E)     True       True       True       PInt          PInt\n",
      "           Finishes (  F)         Finished-by ( FI)    False      False       True       PInt          PInt\n",
      "        Finished-by ( FI)            Finishes (  F)    False      False       True       PInt          PInt\n",
      "              Meets (  M)              Met-By ( MI)    False      False      False       PInt          PInt\n",
      "             Met-By ( MI)               Meets (  M)    False      False      False       PInt          PInt\n",
      "           Overlaps (  O)       Overlapped-By ( OI)    False      False      False       PInt          PInt\n",
      "      Overlapped-By ( OI)            Overlaps (  O)    False      False      False       PInt          PInt\n",
      "       Point-Equals ( PE)        Point-Equals ( PE)     True       True       True         Pt            Pt\n",
      "     Point-Finishes ( PF)   Point-Finished-By (PFI)    False      False      False         Pt          PInt\n",
      "  Point-Finished-By (PFI)      Point-Finishes ( PF)    False      False      False       PInt            Pt\n",
      "       Point-Starts ( PS)    Point-Started-By (PSI)    False      False      False         Pt          PInt\n",
      "   Point-Started-By (PSI)        Point-Starts ( PS)    False      False      False       PInt            Pt\n",
      "             Starts (  S)          Started-By ( SI)    False      False       True       PInt          PInt\n",
      "         Started-By ( SI)              Starts (  S)    False      False       True       PInt          PInt\n",
      "\n",
      "Domain & Range Abbreviations:\n",
      "   Pt = Point\n",
      " PInt = Proper Interval\n"
     ]
    }
   ],
   "source": [
    "test_ext_alg.summary()"
   ]
  },
  {
   "cell_type": "code",
   "execution_count": 14,
   "metadata": {},
   "outputs": [
    {
     "data": {
      "text/plain": [
       "True"
      ]
     },
     "execution_count": 14,
     "metadata": {},
     "output_type": "execute_result"
    }
   ],
   "source": [
    "test_ext_alg.check_composition_identity()"
   ]
  },
  {
   "cell_type": "code",
   "execution_count": 15,
   "metadata": {},
   "outputs": [
    {
     "name": "stdout",
     "output_type": "stream",
     "text": [
      "TEST SUMMARY: 3609 OK, 2223 Skipped, 0 Failed (5832 Total)\n"
     ]
    },
    {
     "data": {
      "text/plain": [
       "True"
      ]
     },
     "execution_count": 15,
     "metadata": {},
     "output_type": "execute_result"
    }
   ],
   "source": [
    "test_ext_alg.is_associative()"
   ]
  },
  {
   "cell_type": "markdown",
   "metadata": {},
   "source": [
    "### Load Original Extended Interval Algebra"
   ]
  },
  {
   "cell_type": "code",
   "execution_count": 16,
   "metadata": {},
   "outputs": [
    {
     "data": {
      "text/plain": [
       "<qualreas.Algebra at 0x7fe4c16477d0>"
      ]
     },
     "execution_count": 16,
     "metadata": {},
     "output_type": "execute_result"
    }
   ],
   "source": [
    "ext_alg = qr.Algebra(os.path.join(path, \"Algebras/Extended_Linear_Interval_Algebra.json\"))\n",
    "ext_alg"
   ]
  },
  {
   "cell_type": "code",
   "execution_count": 17,
   "metadata": {},
   "outputs": [
    {
     "name": "stdout",
     "output_type": "stream",
     "text": [
      "  Algebra Name: Extended_Linear_Interval_Algebra\n",
      "   Description: Extension of Allen's algebra to include points and intervals\n",
      " Equality Rels: E|PE\n",
      "     Relations:\n",
      "            NAME (SYMBOL)         CONVERSE (ABBREV)  REFLEXIVE  SYMMETRIC TRANSITIVE   DOMAIN        RANGE\n",
      "             Before (  B)               After ( BI)    False      False       True    Pt|PInt       Pt|PInt\n",
      "              After ( BI)              Before (  B)    False      False       True    Pt|PInt       Pt|PInt\n",
      "             During (  D)            Contains ( DI)    False      False       True    Pt|PInt          PInt\n",
      "           Contains ( DI)              During (  D)    False      False       True       PInt       Pt|PInt\n",
      "             Equals (  E)              Equals (  E)     True       True       True       PInt          PInt\n",
      "           Finishes (  F)         Finished-by ( FI)    False      False       True       PInt          PInt\n",
      "        Finished-by ( FI)            Finishes (  F)    False      False       True       PInt          PInt\n",
      "              Meets (  M)              Met-By ( MI)    False      False      False       PInt          PInt\n",
      "             Met-By ( MI)               Meets (  M)    False      False      False       PInt          PInt\n",
      "           Overlaps (  O)       Overlapped-By ( OI)    False      False      False       PInt          PInt\n",
      "      Overlapped-By ( OI)            Overlaps (  O)    False      False      False       PInt          PInt\n",
      "       Point-Equals ( PE)        Point-Equals ( PE)     True       True       True         Pt            Pt\n",
      "     Point-Finishes ( PF)   Point-Finished-By (PFI)    False      False      False         Pt          PInt\n",
      "  Point-Finished-By (PFI)      Point-Finishes ( PF)    False      False      False       PInt            Pt\n",
      "       Point-Starts ( PS)    Point-Started-By (PSI)    False      False      False         Pt          PInt\n",
      "   Point-Started-By (PSI)        Point-Starts ( PS)    False      False      False       PInt            Pt\n",
      "             Starts (  S)          Started-By ( SI)    False      False       True       PInt          PInt\n",
      "         Started-By ( SI)              Starts (  S)    False      False       True       PInt          PInt\n",
      "\n",
      "Domain & Range Abbreviations:\n",
      "   Pt = Point\n",
      " PInt = Proper Interval\n"
     ]
    }
   ],
   "source": [
    "ext_alg.summary()"
   ]
  },
  {
   "cell_type": "markdown",
   "metadata": {},
   "source": [
    "### Compare Derived Extended Interval Algebra with Original"
   ]
  },
  {
   "cell_type": "code",
   "execution_count": 19,
   "metadata": {},
   "outputs": [
    {
     "name": "stdout",
     "output_type": "stream",
     "text": [
      "Same as original algebra? True\n"
     ]
    }
   ],
   "source": [
    "print(f\"Same as original algebra? {ext_alg.equivalent_algebra(test_ext_alg)}\")"
   ]
  }
 ],
 "metadata": {
  "kernelspec": {
   "display_name": "Python 3",
   "language": "python",
   "name": "python3"
  },
  "language_info": {
   "codemirror_mode": {
    "name": "ipython",
    "version": 3
   },
   "file_extension": ".py",
   "mimetype": "text/x-python",
   "name": "python",
   "nbconvert_exporter": "python",
   "pygments_lexer": "ipython3",
   "version": "3.7.7"
  }
 },
 "nbformat": 4,
 "nbformat_minor": 2
}
