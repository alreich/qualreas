{
 "cells": [
  {
   "cell_type": "markdown",
   "metadata": {},
   "source": [
    "# Golumbic & Shamir 1993 Paper Examples"
   ]
  },
  {
   "cell_type": "markdown",
   "metadata": {},
   "source": [
    "## Imports"
   ]
  },
  {
   "cell_type": "code",
   "execution_count": 1,
   "metadata": {},
   "outputs": [],
   "source": [
    "import qualreas as qr\n",
    "import os"
   ]
  },
  {
   "cell_type": "markdown",
   "metadata": {},
   "source": [
    "## Path to Network & Algebra"
   ]
  },
  {
   "cell_type": "markdown",
   "metadata": {},
   "source": [
    "To begin, we will instantiate a Constraint Network and it's corresponding Algebra from JSON files.\n",
    "\n",
    "Each are kept in separate directories, 'Networks' and 'Algebras', within a top-level 'qualreas' directory, with the full path defined here using an environment variable:"
   ]
  },
  {
   "cell_type": "code",
   "execution_count": 2,
   "metadata": {},
   "outputs": [],
   "source": [
    "qr_path = os.path.join(os.getenv('PYPROJ'), 'qualreas')"
   ]
  },
  {
   "cell_type": "markdown",
   "metadata": {},
   "source": [
    "Once defined, an Algebra's JSON format should remain unchanged. The name of the Algebra used by a Network can then be stored in the Network's definition (in JSON) regardless of where the Network's JSON file resides.  So, we only need provide the path to the directory containing Algebra files:"
   ]
  },
  {
   "cell_type": "code",
   "execution_count": 3,
   "metadata": {},
   "outputs": [],
   "source": [
    "alg_dir = os.path.join(qr_path, \"Algebras\")"
   ]
  },
  {
   "cell_type": "markdown",
   "metadata": {},
   "source": [
    "Networks, on the other hand, could be numerous and change often.  So, we need to provide the full path to the Network JSON files."
   ]
  },
  {
   "cell_type": "code",
   "execution_count": 4,
   "metadata": {},
   "outputs": [],
   "source": [
    "golumbic1993_example_2_5_file = os.path.join(qr_path, \"Networks\", \"golumbic1993_example_2_5.json\")\n",
    "golumbic1993_example_2_6_file = os.path.join(qr_path, \"Networks\", \"golumbic1993_example_2_6.json\")"
   ]
  },
  {
   "cell_type": "markdown",
   "metadata": {},
   "source": [
    "## Constraint Network in JSON Format"
   ]
  },
  {
   "cell_type": "markdown",
   "metadata": {},
   "source": [
    "Here's what a network looks like in JSON format.\n",
    "\n",
    "A node is represented as a list of two things:\n",
    "* Node ID\n",
    "* List of ontology classes the node belongs to\n",
    "\n",
    "An edge is represented as a list of three things, representing a directed edge, labeled with a constraint:\n",
    "* Head Node ID\n",
    "* Target Node ID\n",
    "* Constraint"
   ]
  },
  {
   "cell_type": "markdown",
   "metadata": {},
   "source": [
    "## Golumbic & Shamir Example 2.5"
   ]
  },
  {
   "cell_type": "code",
   "execution_count": 5,
   "metadata": {},
   "outputs": [
    {
     "name": "stdout",
     "output_type": "stream",
     "text": [
      "{\r\n",
      "    \"name\": \"Golumbic & Shamir 1993 Example 2.5\",\r\n",
      "    \"algebra\": \"Linear_Interval_Algebra\",\r\n",
      "    \"description\": \"1993 Complexity & Algorithms for Reasoning about Time: A Graph-Theoretic Approach by Golumbic & Shamir\",\r\n",
      "    \"nodes\": [\r\n",
      "        [\"x\", [\"ProperInterval\"]],\r\n",
      "        [\"y\", [\"ProperInterval\"]],\r\n",
      "        [\"z\", [\"ProperInterval\"]]\r\n",
      "    ],\r\n",
      "    \"edges\": [\r\n",
      "        [\"x\", \"y\", \"B|M|O\"],\r\n",
      "        [\"y\", \"z\", \"B|E|BI\"],\r\n",
      "        [\"z\", \"x\", \"F|S\"]\r\n",
      "    ]\r\n",
      "}"
     ]
    }
   ],
   "source": [
    "!cat {golumbic1993_example_2_5_file}"
   ]
  },
  {
   "cell_type": "markdown",
   "metadata": {},
   "source": [
    "### Instantiate the Constraint Network "
   ]
  },
  {
   "cell_type": "code",
   "execution_count": 6,
   "metadata": {},
   "outputs": [
    {
     "name": "stdout",
     "output_type": "stream",
     "text": [
      "<Network--Golumbic & Shamir 1993 Example 2.5--Linear_Interval_Algebra>\n"
     ]
    }
   ],
   "source": [
    "golumbic1993_example_2_5_net = qr.Network(algebra_path=alg_dir, json_file_name=golumbic1993_example_2_5_file)\n",
    "\n",
    "print(golumbic1993_example_2_5_net)"
   ]
  },
  {
   "cell_type": "markdown",
   "metadata": {},
   "source": [
    "### Summarize the Network"
   ]
  },
  {
   "cell_type": "markdown",
   "metadata": {},
   "source": [
    "Below is a summary of the Network Object just instantiated.\n",
    "\n",
    "The format is:\n",
    "* Network Name: Number of Nodes, Number of Edges\n",
    "* Algebra Name\n",
    "* Head Node ID 1: Class List\n",
    "    * => Tail Node ID 1: Constraint 1\n",
    "    * => Tail Node ID 2: Constraint 2\n",
    "    * ...\n",
    "* and so on ..."
   ]
  },
  {
   "cell_type": "code",
   "execution_count": 7,
   "metadata": {},
   "outputs": [
    {
     "name": "stdout",
     "output_type": "stream",
     "text": [
      "\n",
      "Golumbic & Shamir 1993 Example 2.5: 3 nodes, 9 edges\n",
      "  Algebra: Linear_Interval_Algebra\n",
      "  x:['ProperInterval']\n",
      "    => x: E\n",
      "    => y: B|M|O\n",
      "    => z: FI|SI\n",
      "  y:['ProperInterval']\n",
      "    => y: E\n",
      "    => x: BI|MI|OI\n",
      "    => z: B|BI|E\n",
      "  z:['ProperInterval']\n",
      "    => z: E\n",
      "    => y: B|BI|E\n",
      "    => x: F|S\n"
     ]
    }
   ],
   "source": [
    "golumbic1993_example_2_5_net.summary()"
   ]
  },
  {
   "cell_type": "markdown",
   "metadata": {},
   "source": [
    "The summary above shows all possible connections between nodes, including converses, which is somewhat redundant.  That is, if we know that X <r> Y, then Y <r.converse> X.  To see just one link per node pair, set <i>show_all</i> to <i>False</i>, as shown below."
   ]
  },
  {
   "cell_type": "code",
   "execution_count": 8,
   "metadata": {},
   "outputs": [
    {
     "name": "stdout",
     "output_type": "stream",
     "text": [
      "\n",
      "Golumbic & Shamir 1993 Example 2.5: 3 nodes, 9 edges\n",
      "  Algebra: Linear_Interval_Algebra\n",
      "  x:['ProperInterval']\n",
      "    => x: E\n",
      "    => y: B|M|O\n",
      "    => z: FI|SI\n",
      "  y:['ProperInterval']\n",
      "    => y: E\n",
      "    => z: B|BI|E\n",
      "  z:['ProperInterval']\n",
      "    => z: E\n"
     ]
    }
   ],
   "source": [
    "golumbic1993_example_2_5_net.summary(show_all=False)"
   ]
  },
  {
   "cell_type": "markdown",
   "metadata": {},
   "source": [
    "### Perform Constraint Propagation"
   ]
  },
  {
   "cell_type": "markdown",
   "metadata": {},
   "source": [
    "After propagation, note the change in the constraints between the Road and the two Properties."
   ]
  },
  {
   "cell_type": "code",
   "execution_count": 9,
   "metadata": {},
   "outputs": [
    {
     "name": "stdout",
     "output_type": "stream",
     "text": [
      "\n",
      "Golumbic & Shamir 1993 Example 2.5: 3 nodes, 9 edges\n",
      "  Algebra: Linear_Interval_Algebra\n",
      "  x:['ProperInterval']\n",
      "    => x: E\n",
      "    => y: B|M|O\n",
      "    => z: FI|SI\n",
      "  y:['ProperInterval']\n",
      "    => y: E\n",
      "    => z: BI\n",
      "  z:['ProperInterval']\n",
      "    => z: E\n"
     ]
    }
   ],
   "source": [
    "golumbic1993_example_2_5_net.propagate()\n",
    "golumbic1993_example_2_5_net.summary(show_all=False)"
   ]
  },
  {
   "cell_type": "markdown",
   "metadata": {},
   "source": [
    "### Network Realizations"
   ]
  },
  {
   "cell_type": "code",
   "execution_count": 10,
   "metadata": {},
   "outputs": [],
   "source": [
    "golumbic1993_example_2_5_REALZ = golumbic1993_example_2_5_net.all_realizations()"
   ]
  },
  {
   "cell_type": "code",
   "execution_count": 11,
   "metadata": {},
   "outputs": [
    {
     "name": "stdout",
     "output_type": "stream",
     "text": [
      "There are 4 possible realizations, as shown below:\n"
     ]
    }
   ],
   "source": [
    "print(f\"There are {len(golumbic1993_example_2_5_REALZ)} possible realizations, as shown below:\")"
   ]
  },
  {
   "cell_type": "code",
   "execution_count": 12,
   "metadata": {},
   "outputs": [
    {
     "name": "stdout",
     "output_type": "stream",
     "text": [
      "------------------------\n",
      "   Realization #1\n",
      "------------------------\n",
      "\n",
      "Golumbic & Shamir 1993 Example 2.5: 3 nodes, 9 edges\n",
      "  Algebra: Linear_Interval_Algebra\n",
      "  x:['ProperInterval']\n",
      "    => x: E\n",
      "    => y: O\n",
      "    => z: SI\n",
      "  y:['ProperInterval']\n",
      "    => y: E\n",
      "    => z: BI\n",
      "  z:['ProperInterval']\n",
      "    => z: E\n",
      " \n",
      "------------------------\n",
      "   Realization #2\n",
      "------------------------\n",
      "\n",
      "Golumbic & Shamir 1993 Example 2.5: 3 nodes, 9 edges\n",
      "  Algebra: Linear_Interval_Algebra\n",
      "  x:['ProperInterval']\n",
      "    => x: E\n",
      "    => y: M\n",
      "    => z: SI\n",
      "  y:['ProperInterval']\n",
      "    => y: E\n",
      "    => z: BI\n",
      "  z:['ProperInterval']\n",
      "    => z: E\n",
      " \n",
      "------------------------\n",
      "   Realization #3\n",
      "------------------------\n",
      "\n",
      "Golumbic & Shamir 1993 Example 2.5: 3 nodes, 9 edges\n",
      "  Algebra: Linear_Interval_Algebra\n",
      "  x:['ProperInterval']\n",
      "    => x: E\n",
      "    => y: B\n",
      "    => z: SI\n",
      "  y:['ProperInterval']\n",
      "    => y: E\n",
      "    => z: BI\n",
      "  z:['ProperInterval']\n",
      "    => z: E\n",
      " \n",
      "------------------------\n",
      "   Realization #4\n",
      "------------------------\n",
      "\n",
      "Golumbic & Shamir 1993 Example 2.5: 3 nodes, 9 edges\n",
      "  Algebra: Linear_Interval_Algebra\n",
      "  x:['ProperInterval']\n",
      "    => x: E\n",
      "    => y: B\n",
      "    => z: FI\n",
      "  y:['ProperInterval']\n",
      "    => y: E\n",
      "    => z: BI\n",
      "  z:['ProperInterval']\n",
      "    => z: E\n",
      " \n"
     ]
    }
   ],
   "source": [
    "count = 1\n",
    "for r in golumbic1993_example_2_5_REALZ:\n",
    "    print(\"------------------------\")\n",
    "    print(f\"   Realization #{count}\")\n",
    "    print(\"------------------------\")\n",
    "    r.summary(show_all=False)\n",
    "    count += 1\n",
    "    print(\" \")"
   ]
  },
  {
   "cell_type": "markdown",
   "metadata": {},
   "source": [
    "## Golumbic & Shamir Example 2.6"
   ]
  },
  {
   "cell_type": "code",
   "execution_count": 13,
   "metadata": {},
   "outputs": [
    {
     "name": "stdout",
     "output_type": "stream",
     "text": [
      "{\r\n",
      "    \"name\": \"Golumbic & Shamir 1993 Example 2.6\",\r\n",
      "    \"algebra\": \"Linear_Interval_Algebra\",\r\n",
      "    \"description\": \"1993 Complexity & Algorithms for Reasoning about Time: A Graph-Theoretic Approach by Golumbic & Shamir\",\r\n",
      "    \"nodes\": [\r\n",
      "        [\"a\", [\"ProperInterval\"]],\r\n",
      "        [\"b\", [\"ProperInterval\"]],\r\n",
      "        [\"c\", [\"ProperInterval\"]]\r\n",
      "    ],\r\n",
      "    \"edges\": [\r\n",
      "        [\"a\", \"b\", \"B|BI\"],\r\n",
      "        [\"b\", \"c\", \"B|BI\"],\r\n",
      "        [\"a\", \"c\", \"B|BI\"]\r\n",
      "    ]\r\n",
      "}"
     ]
    }
   ],
   "source": [
    "!cat {golumbic1993_example_2_6_file}"
   ]
  },
  {
   "cell_type": "code",
   "execution_count": 14,
   "metadata": {},
   "outputs": [
    {
     "name": "stdout",
     "output_type": "stream",
     "text": [
      "<Network--Golumbic & Shamir 1993 Example 2.6--Linear_Interval_Algebra>\n",
      "\n",
      "Golumbic & Shamir 1993 Example 2.6: 3 nodes, 9 edges\n",
      "  Algebra: Linear_Interval_Algebra\n",
      "  a:['ProperInterval']\n",
      "    => a: E\n",
      "    => b: B|BI\n",
      "    => c: B|BI\n",
      "  b:['ProperInterval']\n",
      "    => b: E\n",
      "    => c: B|BI\n",
      "  c:['ProperInterval']\n",
      "    => c: E\n"
     ]
    }
   ],
   "source": [
    "golumbic1993_example_2_6_net = qr.Network(algebra_path=alg_dir,\n",
    "                                          json_file_name=golumbic1993_example_2_6_file)\n",
    "\n",
    "print(golumbic1993_example_2_6_net)\n",
    "\n",
    "golumbic1993_example_2_6_net.summary(show_all=False)"
   ]
  },
  {
   "cell_type": "code",
   "execution_count": 15,
   "metadata": {},
   "outputs": [
    {
     "name": "stdout",
     "output_type": "stream",
     "text": [
      "\n",
      "Golumbic & Shamir 1993 Example 2.6: 3 nodes, 9 edges\n",
      "  Algebra: Linear_Interval_Algebra\n",
      "  a:['ProperInterval']\n",
      "    => a: E\n",
      "    => b: B|BI\n",
      "    => c: B|BI\n",
      "  b:['ProperInterval']\n",
      "    => b: E\n",
      "    => c: B|BI\n",
      "  c:['ProperInterval']\n",
      "    => c: E\n"
     ]
    }
   ],
   "source": [
    "golumbic1993_example_2_6_net.propagate()\n",
    "golumbic1993_example_2_6_net.summary(show_all=False)"
   ]
  },
  {
   "cell_type": "code",
   "execution_count": 16,
   "metadata": {},
   "outputs": [
    {
     "name": "stdout",
     "output_type": "stream",
     "text": [
      "There are 6 possible realizations, as shown below:\n",
      "------------------------\n",
      "   Realization #1\n",
      "------------------------\n",
      "\n",
      "Golumbic & Shamir 1993 Example 2.6: 3 nodes, 9 edges\n",
      "  Algebra: Linear_Interval_Algebra\n",
      "  a:['ProperInterval']\n",
      "    => a: E\n",
      "    => b: BI\n",
      "    => c: BI\n",
      "  b:['ProperInterval']\n",
      "    => b: E\n",
      "    => c: BI\n",
      "  c:['ProperInterval']\n",
      "    => c: E\n",
      " \n",
      "------------------------\n",
      "   Realization #2\n",
      "------------------------\n",
      "\n",
      "Golumbic & Shamir 1993 Example 2.6: 3 nodes, 9 edges\n",
      "  Algebra: Linear_Interval_Algebra\n",
      "  a:['ProperInterval']\n",
      "    => a: E\n",
      "    => b: BI\n",
      "    => c: BI\n",
      "  b:['ProperInterval']\n",
      "    => b: E\n",
      "    => c: B\n",
      "  c:['ProperInterval']\n",
      "    => c: E\n",
      " \n",
      "------------------------\n",
      "   Realization #3\n",
      "------------------------\n",
      "\n",
      "Golumbic & Shamir 1993 Example 2.6: 3 nodes, 9 edges\n",
      "  Algebra: Linear_Interval_Algebra\n",
      "  a:['ProperInterval']\n",
      "    => a: E\n",
      "    => b: BI\n",
      "    => c: B\n",
      "  b:['ProperInterval']\n",
      "    => b: E\n",
      "    => c: B\n",
      "  c:['ProperInterval']\n",
      "    => c: E\n",
      " \n",
      "------------------------\n",
      "   Realization #4\n",
      "------------------------\n",
      "\n",
      "Golumbic & Shamir 1993 Example 2.6: 3 nodes, 9 edges\n",
      "  Algebra: Linear_Interval_Algebra\n",
      "  a:['ProperInterval']\n",
      "    => a: E\n",
      "    => b: B\n",
      "    => c: BI\n",
      "  b:['ProperInterval']\n",
      "    => b: E\n",
      "    => c: BI\n",
      "  c:['ProperInterval']\n",
      "    => c: E\n",
      " \n",
      "------------------------\n",
      "   Realization #5\n",
      "------------------------\n",
      "\n",
      "Golumbic & Shamir 1993 Example 2.6: 3 nodes, 9 edges\n",
      "  Algebra: Linear_Interval_Algebra\n",
      "  a:['ProperInterval']\n",
      "    => a: E\n",
      "    => b: B\n",
      "    => c: B\n",
      "  b:['ProperInterval']\n",
      "    => b: E\n",
      "    => c: BI\n",
      "  c:['ProperInterval']\n",
      "    => c: E\n",
      " \n",
      "------------------------\n",
      "   Realization #6\n",
      "------------------------\n",
      "\n",
      "Golumbic & Shamir 1993 Example 2.6: 3 nodes, 9 edges\n",
      "  Algebra: Linear_Interval_Algebra\n",
      "  a:['ProperInterval']\n",
      "    => a: E\n",
      "    => b: B\n",
      "    => c: B\n",
      "  b:['ProperInterval']\n",
      "    => b: E\n",
      "    => c: B\n",
      "  c:['ProperInterval']\n",
      "    => c: E\n",
      " \n"
     ]
    }
   ],
   "source": [
    "golumbic1993_example_2_6_REALZ = golumbic1993_example_2_6_net.all_realizations()\n",
    "print(f\"There are {len(golumbic1993_example_2_6_REALZ)} possible realizations, as shown below:\")\n",
    "\n",
    "count = 1\n",
    "for r in golumbic1993_example_2_6_REALZ:\n",
    "    print(\"------------------------\")\n",
    "    print(f\"   Realization #{count}\")\n",
    "    print(\"------------------------\")\n",
    "    r.summary(show_all=False)\n",
    "    count += 1\n",
    "    print(\" \")"
   ]
  },
  {
   "cell_type": "code",
   "execution_count": null,
   "metadata": {},
   "outputs": [],
   "source": []
  }
 ],
 "metadata": {
  "kernelspec": {
   "display_name": "Python 3",
   "language": "python",
   "name": "python3"
  },
  "language_info": {
   "codemirror_mode": {
    "name": "ipython",
    "version": 3
   },
   "file_extension": ".py",
   "mimetype": "text/x-python",
   "name": "python",
   "nbconvert_exporter": "python",
   "pygments_lexer": "ipython3",
   "version": "3.7.7"
  }
 },
 "nbformat": 4,
 "nbformat_minor": 4
}
