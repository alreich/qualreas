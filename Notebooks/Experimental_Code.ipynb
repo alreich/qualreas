{
 "cells": [
  {
   "cell_type": "markdown",
   "metadata": {},
   "source": [
    "# Experimental Code"
   ]
  },
  {
   "cell_type": "markdown",
   "metadata": {},
   "source": [
    "<i>Version 1.0</i>"
   ]
  },
  {
   "cell_type": "markdown",
   "metadata": {},
   "source": [
    "## Dependencies"
   ]
  },
  {
   "cell_type": "markdown",
   "metadata": {},
   "source": [
    "The package, [bitsets](https://bitsets.readthedocs.io/en/stable/), provides a memory-efficient pure-python immutable ordered set data type for working with large numbers of subsets from a predetermined pool of objects."
   ]
  },
  {
   "cell_type": "code",
   "execution_count": 1,
   "metadata": {},
   "outputs": [],
   "source": [
    "from bitsets import bitset"
   ]
  },
  {
   "cell_type": "markdown",
   "metadata": {},
   "source": [
    "Algebra's are defined in JSON format."
   ]
  },
  {
   "cell_type": "code",
   "execution_count": 2,
   "metadata": {},
   "outputs": [],
   "source": [
    "import json"
   ]
  },
  {
   "cell_type": "markdown",
   "metadata": {},
   "source": [
    "We need the path to this project:"
   ]
  },
  {
   "cell_type": "code",
   "execution_count": 3,
   "metadata": {},
   "outputs": [],
   "source": [
    "import os"
   ]
  },
  {
   "cell_type": "code",
   "execution_count": 4,
   "metadata": {},
   "outputs": [],
   "source": [
    "path = os.path.join(os.getenv('PYPROJ'), 'qualreas')"
   ]
  },
  {
   "cell_type": "markdown",
   "metadata": {},
   "source": [
    "## Algebras use Bitsets to Represent Sets of Relations"
   ]
  },
  {
   "cell_type": "code",
   "execution_count": 5,
   "metadata": {},
   "outputs": [],
   "source": [
    "# TODO: Don't embed the abbreviation dictionary in code; create a file for it\n",
    "def abbrev(term_list):\n",
    "    abbrev_dict = {\"Point\":\"Pt\",\n",
    "                   \"ProperInterval\":\"PInt\",\n",
    "                   \"Interval\":\"Int\"}\n",
    "    return '|'.join([abbrev_dict[term] for term in term_list])"
   ]
  },
  {
   "cell_type": "code",
   "execution_count": 6,
   "metadata": {},
   "outputs": [
    {
     "data": {
      "text/plain": [
       "'Pt|PInt'"
      ]
     },
     "execution_count": 6,
     "metadata": {},
     "output_type": "execute_result"
    }
   ],
   "source": [
    "abbrev([\"Point\", \"ProperInterval\"])"
   ]
  },
  {
   "cell_type": "code",
   "execution_count": 7,
   "metadata": {},
   "outputs": [
    {
     "data": {
      "text/plain": [
       "'Pt'"
      ]
     },
     "execution_count": 7,
     "metadata": {},
     "output_type": "execute_result"
    }
   ],
   "source": [
    "abbrev(['Point'])"
   ]
  },
  {
   "cell_type": "code",
   "execution_count": 8,
   "metadata": {},
   "outputs": [],
   "source": [
    "class Algebra(object):\n",
    "\n",
    "    def __init__(self, filename):\n",
    "        \"\"\"An algebra is created from a JSON file containing the algebra's\n",
    "        relation and transitivity table definitions.\n",
    "        \"\"\"\n",
    "        with open(filename, 'r') as f:\n",
    "            self.algebra_dict = json.load(f)\n",
    "\n",
    "        self.name = self.algebra_dict[\"Name\"]\n",
    "        self.description = self.algebra_dict[\"Description\"]\n",
    "        # TODO: For consistency, rename rel_info to rel_dict\n",
    "        self.rel_info = self.algebra_dict[\"Relations\"]\n",
    "        # TODO: Maybe rename AlgBitSet to, say, alg_rels (or allrels_bitset, or ...)\n",
    "        self.AlgBitSet = bitset(self.name, tuple(self.rel_info.keys()))  # A class object\n",
    "        # TODO: Remove identity, and just use AlgBitSet.supremum\n",
    "        self.identity = self.AlgBitSet.supremum\n",
    "\n",
    "        # Setup the transitivity table used by Relation Set multiplication\n",
    "        self.transitivity_table = dict()\n",
    "        tabledefs = self.algebra_dict[\"TransTable\"]\n",
    "        for rel1 in tabledefs:\n",
    "            self.transitivity_table[rel1] = dict()\n",
    "            for rel2 in tabledefs[rel1]:\n",
    "                self.transitivity_table[rel1][rel2] = self.AlgBitSet(tuple(tabledefs[rel1][rel2]))\n",
    "                \n",
    "    # Accessors for information about a given relation, rel.\n",
    "    def rel_name(self, rel):\n",
    "        return self.rel_info[rel][\"Name\"]\n",
    "    def rel_domain(self,rel):\n",
    "        return self.rel_info[rel][\"Domain\"]\n",
    "    def rel_range(self,rel):\n",
    "        return self.rel_info[rel][\"Range\"]\n",
    "    def rel_reflexive(self,rel):\n",
    "        return self.rel_info[rel][\"Reflexive\"]\n",
    "    def rel_symmetric(self,rel):\n",
    "        return self.rel_info[rel][\"Symmetric\"]\n",
    "    def rel_transitive(self, rel):\n",
    "        return self.rel_info[rel][\"Transitive\"]\n",
    "    \n",
    "    def converse(self, rel_or_relset):\n",
    "        '''Return the converse of a relation (str) or relation set (bitset).'''\n",
    "        if isinstance(rel_or_relset, str):\n",
    "            return self.rel_info[rel_or_relset][\"Converse\"]\n",
    "        else:\n",
    "            return self.AlgBitSet((self.converse(r) for r in rel_or_relset.members()))\n",
    "        \n",
    "    def __str__(self):\n",
    "        \"\"\"Return a string representation of the Algebra.\"\"\"\n",
    "        return f\"<{self.name}: {self.description}>\"\n",
    "    \n",
    "    def relset(self, elements):\n",
    "        \"\"\"Return a relation set (bitset) for the given elements.\"\"\"\n",
    "        return self.AlgBitSet(elements)\n",
    "    \n",
    "    def add(self, relset1, relset2):\n",
    "        '''Addition for relation sets is equivalent to set intersection.'''\n",
    "        return relset1.intersection(relset2)\n",
    "    \n",
    "    def mult(self, relset1, relset2):\n",
    "        '''Multiplication is done, element-by-element, on the cross-product\n",
    "        of the two sets using the algebra's transitivity table, and\n",
    "        then reducing those results to a single relation set using set\n",
    "        union.\n",
    "        '''\n",
    "        result = self.AlgBitSet.infimum  # the empty relation set\n",
    "        for r1 in relset1:\n",
    "            for r2 in relset2:\n",
    "                result = result.union(self.transitivity_table[r1][r2])\n",
    "        return result\n",
    "    \n",
    "    def check_multiplication_identity(self, verbose=False):\n",
    "        \"\"\"Check the validity of the multiplicative identity for every\n",
    "        combination of singleton relset.  :param verbose: Print out\n",
    "        the details of each test :return: True or False\n",
    "\n",
    "        \"\"\"\n",
    "        count = 0\n",
    "        result = True\n",
    "        rels = self.identity\n",
    "        for r in rels:\n",
    "            r_rs = self.relset((r,))\n",
    "            for s in rels:\n",
    "                count += 1\n",
    "                s_rs = self.relset((s,))\n",
    "                prod1 = self.mult(r_rs, s_rs)\n",
    "                prod2 = self.converse(self.mult(self.converse(s_rs), self.converse(r_rs)))\n",
    "                if prod1 != prod2:\n",
    "                    if verbose:\n",
    "                        print(\"FAIL:\")\n",
    "                        print(f\"      r    = {r_rs}\")\n",
    "                        print(f\"      s    = {s_rs}\")\n",
    "                        print(f\"( r *  s)  = {prod1}\")\n",
    "                        print(f\"(si * ri)i = {prod2}\")\n",
    "                        print(f\"{prod1} != {prod2}\")\n",
    "                    result = False\n",
    "        if verbose:\n",
    "            print(f\"\\n{self.name} -- Multiplication Identity Check:\")\n",
    "        if result:\n",
    "            if verbose:\n",
    "                print(f\"PASSED . {count} products tested.\")\n",
    "        else:\n",
    "            if verbose:\n",
    "                print(\"FAILED. See FAILURE output above.\")\n",
    "        return result\n",
    "\n",
    "    def print_info(self):\n",
    "        print(f\"  Algebra Name: {self.name}\")\n",
    "        print(f\"   Description: {self.description}\")\n",
    "        # print(f\" Equality Rels: {self.equality_relations}\")\n",
    "        print(\"     Relations:\")\n",
    "        print(\"{:>25s} {:>25s} {:>10s} {:>10s} {:>10s} {:>8s} {:>12s}\".format(\"NAME (ABBREV)\", \"CONVERSE (ABBREV)\",\n",
    "                                                                              \"REFLEXIVE\", \"SYMMETRIC\", \"TRANSITIVE\",\n",
    "                                                                              \"DOMAIN\", \"RANGE\"))\n",
    "        # TODO: Vary spacing between columns based on max word lengths\n",
    "        for r in self.identity:\n",
    "            print(f\"{self.rel_name(r):>19s} ({r:>3s}) \" \\\n",
    "                  f\"{self.rel_name(self.converse(r)):>19s} ({self.converse(r):>3s}) \" \\\n",
    "                  f\"{self.rel_reflexive(r)!s:>8} {self.rel_symmetric(r)!s:>10} {self.rel_transitive(r)!s:>10}\" \\\n",
    "                  f\"{abbrev(self.rel_domain(r))!s:>11} {abbrev(self.rel_range(r))!s:>13}\")\n",
    "        # TODO: Don't hardcode the legend below; make it depend on an abbreviations file (JSON)\n",
    "        print(\"\\nDomain & Range Abbreviations:\")\n",
    "        print(\"   Pt = Point\")\n",
    "        print(\" PInt = Proper Interval\")\n",
    "        \n",
    "    def is_associative(self, verbose=False):\n",
    "        result = True\n",
    "        countskipped = 0\n",
    "        countok = 0\n",
    "        countfailed = 0\n",
    "        counttotal = 0\n",
    "        rels = self.identity\n",
    "        for _a in rels:\n",
    "            for _b in rels:\n",
    "                for _c in rels:\n",
    "                    if verbose:\n",
    "                        print(f\"{_a} x {_b} x {_c} :\")\n",
    "                    if (set(self.rel_range(_a)) & set(self.rel_domain(_b))) & (set(self.rel_range(_b)) & set(self.rel_domain(_c))):\n",
    "                        a_rs = self.relset((_a,))\n",
    "                        b_rs = self.relset((_b,))\n",
    "                        c_rs = self.relset((_c,))\n",
    "                        prod_ab = a_rs * b_rs\n",
    "                        prod_bc = b_rs * c_rs\n",
    "                        prod_ab_c = prod_ab * c_rs\n",
    "                        prod_a_bc = a_rs * prod_bc\n",
    "                        if not (prod_ab_c == prod_a_bc):\n",
    "                            if verbose:\n",
    "                                print(f\"  Associativity fails for a = {a_rs}, b = {b_rs}, c = {c_rs}\")\n",
    "                                print(f\"    associativity check: {self.rel_range(_a)}::{self.rel_domain(_b)} {self.rel_range(_b)}::{self.rel_domain(_c)}\")\n",
    "                                print(f\"    (a * b) * c = {prod_ab_c}\")\n",
    "                                print(f\"    a * (b * c) = {prod_a_bc}\")\n",
    "                            countfailed += 1\n",
    "                            counttotal += 1\n",
    "                            result = False\n",
    "                        else:\n",
    "                            if verbose:\n",
    "                                print(\"  Associativity OK\")\n",
    "                            countok += 1\n",
    "                            counttotal += 1\n",
    "                    else:\n",
    "                        if verbose:\n",
    "                            print(f\"  Skipping associativity check: {self.rel_range(_a)}::{self.rel_domain(_b)} {self.rel_range(_b)}::{self.rel_domain(_c)}\")\n",
    "                        countskipped += 1\n",
    "                        counttotal += 1\n",
    "        print(f\"\\nTEST SUMMARY: {countok} OK, {countskipped} Skipped, {countfailed} Failed ({counttotal} Total)\")\n",
    "        numrels = len(rels)\n",
    "        totaltests = numrels * numrels * numrels\n",
    "        if (counttotal != totaltests):\n",
    "            print(f\"Test counts do not add up; Total should be {totaltests}\")\n",
    "        return result"
   ]
  },
  {
   "cell_type": "code",
   "execution_count": 9,
   "metadata": {},
   "outputs": [
    {
     "name": "stdout",
     "output_type": "stream",
     "text": [
      "<RightBranchingTimeIntervalAndPointAlgebra: Reich's right-branching extension to Allen's time interval algebra (see TIME-94 paper)>\n"
     ]
    }
   ],
   "source": [
    "#alg = Algebra(os.path.join(path, \"Algebras/IntervalAlgebra.json\"))  # Allen's algebra of proper time intervals\n",
    "#alg = Algebra(os.path.join(path, \"Algebras/LeftBranchingIntervalAndPointAlgebra.json\"))\n",
    "alg = Algebra(os.path.join(path, \"Algebras/RightBranchingIntervalAndPointAlgebra.json\"))\n",
    "#alg = Algebra(os.path.join(path, \"Algebras/rcc8Algebra.json\"))\n",
    "\n",
    "print(alg)"
   ]
  },
  {
   "cell_type": "code",
   "execution_count": 10,
   "metadata": {},
   "outputs": [
    {
     "data": {
      "text/plain": [
       "RightBranchingTimeIntervalAndPointAlgebra(['BI', 'MI', 'O'])"
      ]
     },
     "execution_count": 10,
     "metadata": {},
     "output_type": "execute_result"
    }
   ],
   "source": [
    "alg.converse(alg.relset(('B','M','OI')))"
   ]
  },
  {
   "cell_type": "code",
   "execution_count": 11,
   "metadata": {},
   "outputs": [
    {
     "data": {
      "text/plain": [
       "'BI'"
      ]
     },
     "execution_count": 11,
     "metadata": {},
     "output_type": "execute_result"
    }
   ],
   "source": [
    "alg.converse('B')"
   ]
  },
  {
   "cell_type": "code",
   "execution_count": 12,
   "metadata": {},
   "outputs": [
    {
     "data": {
      "text/plain": [
       "RightBranchingTimeIntervalAndPointAlgebra(['B', 'BI', 'D', 'DI', 'E', 'F', 'FI', 'M', 'MI', 'O', 'OI', 'PE', 'PF', 'PFI', 'PS', 'PSI', 'RB', 'RBI', 'RO', 'ROI', 'RS', 'R~', 'S', 'SI'])"
      ]
     },
     "execution_count": 12,
     "metadata": {},
     "output_type": "execute_result"
    }
   ],
   "source": [
    "alg.identity"
   ]
  },
  {
   "cell_type": "code",
   "execution_count": 13,
   "metadata": {},
   "outputs": [
    {
     "data": {
      "text/plain": [
       "'Before'"
      ]
     },
     "execution_count": 13,
     "metadata": {},
     "output_type": "execute_result"
    }
   ],
   "source": [
    "alg.rel_name('B')"
   ]
  },
  {
   "cell_type": "code",
   "execution_count": 14,
   "metadata": {},
   "outputs": [],
   "source": [
    "#alg.transitivity_table"
   ]
  },
  {
   "cell_type": "code",
   "execution_count": 15,
   "metadata": {},
   "outputs": [
    {
     "data": {
      "text/plain": [
       "RightBranchingTimeIntervalAndPointAlgebra(['B', 'D', 'M', 'O', 'PS', 'S'])"
      ]
     },
     "execution_count": 15,
     "metadata": {},
     "output_type": "execute_result"
    }
   ],
   "source": [
    "before = alg.relset(['B'])\n",
    "during = alg.relset(['D'])\n",
    "\n",
    "bxd = alg.mult(before, during)\n",
    "bxd"
   ]
  },
  {
   "cell_type": "code",
   "execution_count": 16,
   "metadata": {},
   "outputs": [
    {
     "name": "stdout",
     "output_type": "stream",
     "text": [
      "('D', 'F', 'M', 'SI')\n"
     ]
    },
    {
     "data": {
      "text/plain": [
       "RightBranchingTimeIntervalAndPointAlgebra(['D', 'M'])"
      ]
     },
     "execution_count": 16,
     "metadata": {},
     "output_type": "execute_result"
    }
   ],
   "source": [
    "foobar = alg.relset(['D','M','F','SI'])\n",
    "print(foobar.members())\n",
    "alg.add(bxd,foobar)"
   ]
  },
  {
   "cell_type": "code",
   "execution_count": 17,
   "metadata": {},
   "outputs": [
    {
     "name": "stdout",
     "output_type": "stream",
     "text": [
      "('BI', 'D', 'DI', 'E', 'F', 'FI', 'M', 'MI', 'O', 'OI', 'PE', 'PF', 'PFI', 'PS', 'PSI', 'RB', 'RBI', 'RO', 'ROI', 'RS', 'R~', 'S', 'SI')\n",
      "('BI', 'DI', 'E', 'F', 'FI', 'MI', 'OI', 'PE', 'PF', 'PFI', 'PSI', 'RB', 'RBI', 'RO', 'ROI', 'RS', 'R~', 'SI')\n"
     ]
    }
   ],
   "source": [
    "print(before.complement().members())\n",
    "print(bxd.complement().members())"
   ]
  },
  {
   "cell_type": "code",
   "execution_count": 18,
   "metadata": {},
   "outputs": [
    {
     "data": {
      "text/plain": [
       "True"
      ]
     },
     "execution_count": 18,
     "metadata": {},
     "output_type": "execute_result"
    }
   ],
   "source": [
    "alg.check_multiplication_identity()"
   ]
  },
  {
   "cell_type": "markdown",
   "metadata": {},
   "source": [
    "See [Format String Syntax](https://docs.python.org/3/library/string.html#format-string-syntax)"
   ]
  },
  {
   "cell_type": "code",
   "execution_count": 19,
   "metadata": {},
   "outputs": [
    {
     "name": "stdout",
     "output_type": "stream",
     "text": [
      "  Algebra Name: RightBranchingTimeIntervalAndPointAlgebra\n",
      "   Description: Reich's right-branching extension to Allen's time interval algebra (see TIME-94 paper)\n",
      "     Relations:\n",
      "            NAME (ABBREV)         CONVERSE (ABBREV)  REFLEXIVE  SYMMETRIC TRANSITIVE   DOMAIN        RANGE\n",
      "             Before (  B)               After ( BI)    False      False       True    Pt|PInt       Pt|PInt\n",
      "              After ( BI)              Before (  B)    False      False       True    Pt|PInt       Pt|PInt\n",
      "             During (  D)            Contains ( DI)    False      False       True    Pt|PInt          PInt\n",
      "           Contains ( DI)              During (  D)    False      False       True       PInt       Pt|PInt\n",
      "             Equals (  E)              Equals (  E)     True       True       True       PInt          PInt\n",
      "           Finishes (  F)         Finished-by ( FI)    False      False       True       PInt          PInt\n",
      "        Finished-by ( FI)            Finishes (  F)    False      False       True       PInt          PInt\n",
      "              Meets (  M)              Met-By ( MI)    False      False      False       PInt          PInt\n",
      "             Met-By ( MI)               Meets (  M)    False      False      False       PInt          PInt\n",
      "           Overlaps (  O)       Overlapped-By ( OI)    False      False      False       PInt          PInt\n",
      "      Overlapped-By ( OI)            Overlaps (  O)    False      False      False       PInt          PInt\n",
      "       Point-Equals ( PE)        Point-Equals ( PE)     True       True       True         Pt            Pt\n",
      "     Point-Finishes ( PF)   Point-Finished-By (PFI)    False      False      False         Pt          PInt\n",
      "  Point-Finished-By (PFI)      Point-Finishes ( PF)    False      False      False       PInt            Pt\n",
      "       Point-Starts ( PS)    Point-Started-By (PSI)    False      False      False         Pt          PInt\n",
      "   Point-Started-By (PSI)        Point-Starts ( PS)    False      False      False       PInt            Pt\n",
      "       Right-Before ( RB)         Right-After (RBI)    False      False       True       PInt       Pt|PInt\n",
      "        Right-After (RBI)        Right-Before ( RB)    False      False       True    Pt|PInt          PInt\n",
      "     Right-Overlaps ( RO) Right-Overlapped-By (ROI)    False      False      False       PInt          PInt\n",
      "Right-Overlapped-By (ROI)      Right-Overlaps ( RO)    False      False      False       PInt          PInt\n",
      "       Right-Starts ( RS)        Right-Starts ( RS)    False      False      False       PInt          PInt\n",
      " Right-Incomparable ( R~)  Right-Incomparable ( R~)    False       True      False    Pt|PInt       Pt|PInt\n",
      "             Starts (  S)          Started-By ( SI)    False      False       True       PInt          PInt\n",
      "         Started-By ( SI)              Starts (  S)    False      False       True       PInt          PInt\n",
      "\n",
      "Domain & Range Abbreviations:\n",
      "   Pt = Point\n",
      " PInt = Proper Interval\n"
     ]
    }
   ],
   "source": [
    "alg.print_info()"
   ]
  },
  {
   "cell_type": "code",
   "execution_count": 20,
   "metadata": {},
   "outputs": [
    {
     "name": "stdout",
     "output_type": "stream",
     "text": [
      "\n",
      "TEST SUMMARY: 8560 OK, 5264 Skipped, 0 Failed (13824 Total)\n"
     ]
    },
    {
     "data": {
      "text/plain": [
       "True"
      ]
     },
     "execution_count": 20,
     "metadata": {},
     "output_type": "execute_result"
    }
   ],
   "source": [
    "alg.is_associative()"
   ]
  },
  {
   "cell_type": "code",
   "execution_count": null,
   "metadata": {},
   "outputs": [],
   "source": []
  }
 ],
 "metadata": {
  "kernelspec": {
   "display_name": "Python 3",
   "language": "python",
   "name": "python3"
  },
  "language_info": {
   "codemirror_mode": {
    "name": "ipython",
    "version": 3
   },
   "file_extension": ".py",
   "mimetype": "text/x-python",
   "name": "python",
   "nbconvert_exporter": "python",
   "pygments_lexer": "ipython3",
   "version": "3.7.4"
  }
 },
 "nbformat": 4,
 "nbformat_minor": 2
}
