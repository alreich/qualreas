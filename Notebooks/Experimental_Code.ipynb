{
 "cells": [
  {
   "cell_type": "markdown",
   "metadata": {},
   "source": [
    "# Experimental Code"
   ]
  },
  {
   "cell_type": "markdown",
   "metadata": {},
   "source": [
    "<i>Version 1.0</i>"
   ]
  },
  {
   "cell_type": "markdown",
   "metadata": {},
   "source": [
    "## Dependencies"
   ]
  },
  {
   "cell_type": "markdown",
   "metadata": {},
   "source": [
    "The package, [bitsets](https://bitsets.readthedocs.io/en/stable/), provides a memory-efficient pure-python immutable ordered set data type for working with large numbers of subsets from a predetermined pool of objects."
   ]
  },
  {
   "cell_type": "code",
   "execution_count": 1,
   "metadata": {},
   "outputs": [],
   "source": [
    "from bitsets import bitset"
   ]
  },
  {
   "cell_type": "markdown",
   "metadata": {},
   "source": [
    "Algebra's are defined in JSON format."
   ]
  },
  {
   "cell_type": "code",
   "execution_count": 2,
   "metadata": {},
   "outputs": [],
   "source": [
    "import json"
   ]
  },
  {
   "cell_type": "markdown",
   "metadata": {},
   "source": [
    "## Allen's Interval Algebra using Bitsets"
   ]
  },
  {
   "cell_type": "code",
   "execution_count": 24,
   "metadata": {},
   "outputs": [],
   "source": [
    "class Algebra(object):\n",
    "\n",
    "    def __init__(self, filename):\n",
    "        \"\"\"An algebra is created from a JSON file containing the algebra's\n",
    "        relation and transitivity table definitions.\n",
    "        \"\"\"\n",
    "        with open(filename, 'r') as f:\n",
    "            self.algebra_dict = json.load(f)\n",
    "\n",
    "        self.name = self.algebra_dict[\"Name\"]\n",
    "        self.description = self.algebra_dict[\"Description\"]\n",
    "        self.rel_info = self.algebra_dict[\"Relations\"]\n",
    "        self.AlgBitSet = bitset(self.name, tuple(self.rel_info.keys()))  # A class object\n",
    "        self.identity = self.AlgBitSet.supremum\n",
    "\n",
    "        # Setup the transitivity table used by Relation Set multiplication\n",
    "        self.transitivity_table = dict()\n",
    "        tabledefs = self.algebra_dict[\"TransTable\"]\n",
    "        for rel1 in tabledefs:\n",
    "            self.transitivity_table[rel1] = dict()\n",
    "            for rel2 in tabledefs[rel1]:\n",
    "                self.transitivity_table[rel1][rel2] = self.AlgBitSet(tuple(tabledefs[rel1][rel2]))\n",
    "                \n",
    "    def __str__(self):\n",
    "        return f\"<{self.name}: {self.description}>\"\n",
    "    \n",
    "    def converse(self, rel_or_relset):\n",
    "        '''Return the converse of a relation (str) or relation set (bitset).'''\n",
    "        if isinstance(rel_or_relset, str):\n",
    "            return self.rel_info[rel_or_relset][\"Converse\"]\n",
    "        else:\n",
    "            return self.AlgBitSet((self.converse(r) for r in rel_or_relset.members()))\n",
    "        \n",
    "    def relset(self, elements):\n",
    "        return self.AlgBitSet(elements)\n",
    "        \n",
    "    def relname(self, rel):\n",
    "        return self.rel_info[rel][\"Name\"]\n",
    "    \n",
    "    def reltran(self, rel):\n",
    "        return self.rel_info[rel][\"Transitive\"]\n",
    "    \n",
    "    def add(self, relset1, relset2):\n",
    "        '''Addition for relation sets is equivalent to set intersection.'''\n",
    "        return relset1.intersection(relset2)\n",
    "    \n",
    "    def mult(self, relset1, relset2):\n",
    "        '''Multiplication is done, element-by-element, on the cross-product\n",
    "        of the two sets using the algebra's transitivity table, and\n",
    "        then reducing those results to a single relation set using set\n",
    "        union.\n",
    "        '''\n",
    "        result = self.AlgBitSet.infimum  # the empty relation set\n",
    "        for r1 in relset1:\n",
    "            for r2 in relset2:\n",
    "                result = result.union(self.transitivity_table[r1][r2])\n",
    "        return result\n",
    "    \n",
    "    def check_multiplication_identity(self, verbose=False):\n",
    "        \"\"\"Check the validity of the multiplicative identity for every\n",
    "        combination of singleton relset.  :param verbose: Print out\n",
    "        the details of each test :return: True or False\n",
    "\n",
    "        \"\"\"\n",
    "        count = 0\n",
    "        result = True\n",
    "        rels = self.identity\n",
    "        for r in rels:\n",
    "            r_rs = self.relset((r,))\n",
    "            for s in rels:\n",
    "                count += 1\n",
    "                s_rs = self.relset((s,))\n",
    "                prod1 = self.mult(r_rs, s_rs)\n",
    "                prod2 = self.converse(self.mult(self.converse(s_rs), self.converse(r_rs)))\n",
    "                if prod1 != prod2:\n",
    "                    if verbose:\n",
    "                        print(\"FAIL:\")\n",
    "                        print(f\"      r    = {r_rs}\")\n",
    "                        print(f\"      s    = {s_rs}\")\n",
    "                        print(f\"( r *  s)  = {prod1}\")\n",
    "                        print(f\"(si * ri)i = {prod2}\")\n",
    "                        print(f\"{prod1} != {prod2}\")\n",
    "                    result = False\n",
    "        if verbose:\n",
    "            print(f\"\\n{self.name} -- Multiplication Identity Check:\")\n",
    "        if result:\n",
    "            if verbose:\n",
    "                print(f\"PASSED . {count} products tested.\")\n",
    "        else:\n",
    "            if verbose:\n",
    "                print(\"FAILED. See FAILURE output above.\")\n",
    "        return result\n",
    "\n",
    "    def print_info(self):\n",
    "        mapping = {frozenset([u'ProperInterval', u'Point']): \"Int\",\n",
    "                   frozenset([u'Point']): \"Pt\",\n",
    "                   frozenset([u'ProperInterval']): \"PInt\",\n",
    "                   frozenset([u'Region']): \"Region\"\n",
    "                   }\n",
    "        print(f\"  Algebra Name: {self.name}\")\n",
    "        print(f\"   Description: {self.description}\")\n",
    "#        print(f\" Equality Rels: {self.equality_relations}\")\n",
    "        print(\"     Relations:\")\n",
    "        print(\"{:>25s} {:>25s} {:>10s} {:>10s} {:>10s} {:>7s} {:>7s}\".format(\"NAME (ABBREV)\", \"CONVERSE (ABBREV)\",\n",
    "                                                                             \"REFLEXIVE\", \"SYMMETRIC\", \"TRANSITIVE\",\n",
    "                                                                             \"DOMAIN\", \"RANGE\"))\n",
    "        # TODO: Vary spacing between columns based on max word lengths\n",
    "#        for r in sorted_rels:\n",
    "#            print(\"{:>19s} ({:>3s}) {:>19s} ({:>3s}) {:>8s} {:>10s} {:>10s} {:>8s} {:>7s}\".format(r.long_name,\n",
    "#                                                                                                  r.short_name,\n",
    "#                                                                                                  r.converse.long_name,\n",
    "#                                                                                                  r.converse.short_name,\n",
    "#                                                                                                  str(r.is_reflexive),\n",
    "#                                                                                                  str(r.is_symmetric),\n",
    "#                                                                                                  str(r.is_transitive),\n",
    "#                                                                                                  mapping[r.domain],\n",
    "#                                                                                                  mapping[r.range]))\n"
   ]
  },
  {
   "cell_type": "code",
   "execution_count": 25,
   "metadata": {},
   "outputs": [
    {
     "name": "stdout",
     "output_type": "stream",
     "text": [
      "<LinearTimeIntervalAlgebra: Allen's algebra of proper time intervals>\n"
     ]
    }
   ],
   "source": [
    "allen = Algebra(\"IntervalAlgebra.json\")\n",
    "print(allen)"
   ]
  },
  {
   "cell_type": "code",
   "execution_count": 26,
   "metadata": {},
   "outputs": [
    {
     "data": {
      "text/plain": [
       "LinearTimeIntervalAlgebra(['BI', 'MI', 'O'])"
      ]
     },
     "execution_count": 26,
     "metadata": {},
     "output_type": "execute_result"
    }
   ],
   "source": [
    "allen.converse(allen.relset(('B','M','OI')))"
   ]
  },
  {
   "cell_type": "code",
   "execution_count": 27,
   "metadata": {},
   "outputs": [
    {
     "data": {
      "text/plain": [
       "'BI'"
      ]
     },
     "execution_count": 27,
     "metadata": {},
     "output_type": "execute_result"
    }
   ],
   "source": [
    "allen.converse('B')"
   ]
  },
  {
   "cell_type": "code",
   "execution_count": 28,
   "metadata": {},
   "outputs": [
    {
     "data": {
      "text/plain": [
       "LinearTimeIntervalAlgebra(['B', 'BI', 'D', 'DI', 'E', 'F', 'FI', 'M', 'MI', 'O', 'OI', 'S', 'SI'])"
      ]
     },
     "execution_count": 28,
     "metadata": {},
     "output_type": "execute_result"
    }
   ],
   "source": [
    "allen.identity"
   ]
  },
  {
   "cell_type": "code",
   "execution_count": 29,
   "metadata": {},
   "outputs": [
    {
     "data": {
      "text/plain": [
       "'Before'"
      ]
     },
     "execution_count": 29,
     "metadata": {},
     "output_type": "execute_result"
    }
   ],
   "source": [
    "allen.relname('B')"
   ]
  },
  {
   "cell_type": "code",
   "execution_count": 30,
   "metadata": {},
   "outputs": [
    {
     "data": {
      "text/plain": [
       "{'B': {'B': LinearTimeIntervalAlgebra(['B']),\n",
       "  'BI': LinearTimeIntervalAlgebra(['B', 'BI', 'D', 'DI', 'E', 'F', 'FI', 'M', 'MI', 'O', 'OI', 'S', 'SI']),\n",
       "  'D': LinearTimeIntervalAlgebra(['B', 'D', 'M', 'O', 'S']),\n",
       "  'DI': LinearTimeIntervalAlgebra(['B']),\n",
       "  'E': LinearTimeIntervalAlgebra(['B']),\n",
       "  'F': LinearTimeIntervalAlgebra(['B', 'D', 'M', 'O', 'S']),\n",
       "  'FI': LinearTimeIntervalAlgebra(['B']),\n",
       "  'M': LinearTimeIntervalAlgebra(['B']),\n",
       "  'MI': LinearTimeIntervalAlgebra(['B', 'D', 'M', 'O', 'S']),\n",
       "  'O': LinearTimeIntervalAlgebra(['B']),\n",
       "  'OI': LinearTimeIntervalAlgebra(['B', 'D', 'M', 'O', 'S']),\n",
       "  'S': LinearTimeIntervalAlgebra(['B']),\n",
       "  'SI': LinearTimeIntervalAlgebra(['B'])},\n",
       " 'BI': {'B': LinearTimeIntervalAlgebra(['B', 'BI', 'D', 'DI', 'E', 'F', 'FI', 'M', 'MI', 'O', 'OI', 'S', 'SI']),\n",
       "  'BI': LinearTimeIntervalAlgebra(['BI']),\n",
       "  'D': LinearTimeIntervalAlgebra(['BI', 'D', 'F', 'MI', 'OI']),\n",
       "  'DI': LinearTimeIntervalAlgebra(['BI']),\n",
       "  'E': LinearTimeIntervalAlgebra(['BI']),\n",
       "  'F': LinearTimeIntervalAlgebra(['BI']),\n",
       "  'FI': LinearTimeIntervalAlgebra(['BI']),\n",
       "  'M': LinearTimeIntervalAlgebra(['BI', 'D', 'F', 'MI', 'OI']),\n",
       "  'MI': LinearTimeIntervalAlgebra(['BI']),\n",
       "  'O': LinearTimeIntervalAlgebra(['BI', 'D', 'F', 'MI', 'OI']),\n",
       "  'OI': LinearTimeIntervalAlgebra(['BI']),\n",
       "  'S': LinearTimeIntervalAlgebra(['BI', 'D', 'F', 'MI', 'OI']),\n",
       "  'SI': LinearTimeIntervalAlgebra(['BI'])},\n",
       " 'D': {'B': LinearTimeIntervalAlgebra(['B']),\n",
       "  'BI': LinearTimeIntervalAlgebra(['BI']),\n",
       "  'D': LinearTimeIntervalAlgebra(['D']),\n",
       "  'DI': LinearTimeIntervalAlgebra(['B', 'BI', 'D', 'DI', 'E', 'F', 'FI', 'M', 'MI', 'O', 'OI', 'S', 'SI']),\n",
       "  'E': LinearTimeIntervalAlgebra(['D']),\n",
       "  'F': LinearTimeIntervalAlgebra(['D']),\n",
       "  'FI': LinearTimeIntervalAlgebra(['B', 'D', 'M', 'O', 'S']),\n",
       "  'M': LinearTimeIntervalAlgebra(['B']),\n",
       "  'MI': LinearTimeIntervalAlgebra(['BI']),\n",
       "  'O': LinearTimeIntervalAlgebra(['B', 'D', 'M', 'O', 'S']),\n",
       "  'OI': LinearTimeIntervalAlgebra(['BI', 'D', 'F', 'MI', 'OI']),\n",
       "  'S': LinearTimeIntervalAlgebra(['D']),\n",
       "  'SI': LinearTimeIntervalAlgebra(['BI', 'D', 'F', 'MI', 'OI'])},\n",
       " 'DI': {'B': LinearTimeIntervalAlgebra(['B', 'DI', 'FI', 'M', 'O']),\n",
       "  'BI': LinearTimeIntervalAlgebra(['BI', 'DI', 'MI', 'OI', 'SI']),\n",
       "  'D': LinearTimeIntervalAlgebra(['D', 'DI', 'E', 'F', 'FI', 'O', 'OI', 'S', 'SI']),\n",
       "  'DI': LinearTimeIntervalAlgebra(['DI']),\n",
       "  'E': LinearTimeIntervalAlgebra(['DI']),\n",
       "  'F': LinearTimeIntervalAlgebra(['DI', 'OI', 'SI']),\n",
       "  'FI': LinearTimeIntervalAlgebra(['DI']),\n",
       "  'M': LinearTimeIntervalAlgebra(['DI', 'FI', 'O']),\n",
       "  'MI': LinearTimeIntervalAlgebra(['DI', 'OI', 'SI']),\n",
       "  'O': LinearTimeIntervalAlgebra(['DI', 'FI', 'O']),\n",
       "  'OI': LinearTimeIntervalAlgebra(['DI', 'OI', 'SI']),\n",
       "  'S': LinearTimeIntervalAlgebra(['DI', 'FI', 'O']),\n",
       "  'SI': LinearTimeIntervalAlgebra(['DI'])},\n",
       " 'E': {'B': LinearTimeIntervalAlgebra(['B']),\n",
       "  'BI': LinearTimeIntervalAlgebra(['BI']),\n",
       "  'D': LinearTimeIntervalAlgebra(['D']),\n",
       "  'DI': LinearTimeIntervalAlgebra(['DI']),\n",
       "  'E': LinearTimeIntervalAlgebra(['E']),\n",
       "  'F': LinearTimeIntervalAlgebra(['F']),\n",
       "  'FI': LinearTimeIntervalAlgebra(['FI']),\n",
       "  'M': LinearTimeIntervalAlgebra(['M']),\n",
       "  'MI': LinearTimeIntervalAlgebra(['MI']),\n",
       "  'O': LinearTimeIntervalAlgebra(['O']),\n",
       "  'OI': LinearTimeIntervalAlgebra(['OI']),\n",
       "  'S': LinearTimeIntervalAlgebra(['S']),\n",
       "  'SI': LinearTimeIntervalAlgebra(['SI'])},\n",
       " 'F': {'B': LinearTimeIntervalAlgebra(['B']),\n",
       "  'BI': LinearTimeIntervalAlgebra(['BI']),\n",
       "  'D': LinearTimeIntervalAlgebra(['D']),\n",
       "  'DI': LinearTimeIntervalAlgebra(['BI', 'DI', 'MI', 'OI', 'SI']),\n",
       "  'E': LinearTimeIntervalAlgebra(['F']),\n",
       "  'F': LinearTimeIntervalAlgebra(['F']),\n",
       "  'FI': LinearTimeIntervalAlgebra(['E', 'F', 'FI']),\n",
       "  'M': LinearTimeIntervalAlgebra(['M']),\n",
       "  'MI': LinearTimeIntervalAlgebra(['BI']),\n",
       "  'O': LinearTimeIntervalAlgebra(['D', 'O', 'S']),\n",
       "  'OI': LinearTimeIntervalAlgebra(['BI', 'MI', 'OI']),\n",
       "  'S': LinearTimeIntervalAlgebra(['D']),\n",
       "  'SI': LinearTimeIntervalAlgebra(['BI', 'MI', 'OI'])},\n",
       " 'FI': {'B': LinearTimeIntervalAlgebra(['B']),\n",
       "  'BI': LinearTimeIntervalAlgebra(['BI', 'DI', 'MI', 'OI', 'SI']),\n",
       "  'D': LinearTimeIntervalAlgebra(['D', 'O', 'S']),\n",
       "  'DI': LinearTimeIntervalAlgebra(['DI']),\n",
       "  'E': LinearTimeIntervalAlgebra(['FI']),\n",
       "  'F': LinearTimeIntervalAlgebra(['E', 'F', 'FI']),\n",
       "  'FI': LinearTimeIntervalAlgebra(['FI']),\n",
       "  'M': LinearTimeIntervalAlgebra(['M']),\n",
       "  'MI': LinearTimeIntervalAlgebra(['DI', 'OI', 'SI']),\n",
       "  'O': LinearTimeIntervalAlgebra(['O']),\n",
       "  'OI': LinearTimeIntervalAlgebra(['DI', 'OI', 'SI']),\n",
       "  'S': LinearTimeIntervalAlgebra(['O']),\n",
       "  'SI': LinearTimeIntervalAlgebra(['DI'])},\n",
       " 'M': {'B': LinearTimeIntervalAlgebra(['B']),\n",
       "  'BI': LinearTimeIntervalAlgebra(['BI', 'DI', 'MI', 'OI', 'SI']),\n",
       "  'D': LinearTimeIntervalAlgebra(['D', 'O', 'S']),\n",
       "  'DI': LinearTimeIntervalAlgebra(['B']),\n",
       "  'E': LinearTimeIntervalAlgebra(['M']),\n",
       "  'F': LinearTimeIntervalAlgebra(['D', 'O', 'S']),\n",
       "  'FI': LinearTimeIntervalAlgebra(['B']),\n",
       "  'M': LinearTimeIntervalAlgebra(['B']),\n",
       "  'MI': LinearTimeIntervalAlgebra(['E', 'F', 'FI']),\n",
       "  'O': LinearTimeIntervalAlgebra(['B']),\n",
       "  'OI': LinearTimeIntervalAlgebra(['D', 'O', 'S']),\n",
       "  'S': LinearTimeIntervalAlgebra(['M']),\n",
       "  'SI': LinearTimeIntervalAlgebra(['M'])},\n",
       " 'MI': {'B': LinearTimeIntervalAlgebra(['B', 'DI', 'FI', 'M', 'O']),\n",
       "  'BI': LinearTimeIntervalAlgebra(['BI']),\n",
       "  'D': LinearTimeIntervalAlgebra(['D', 'F', 'OI']),\n",
       "  'DI': LinearTimeIntervalAlgebra(['BI']),\n",
       "  'E': LinearTimeIntervalAlgebra(['MI']),\n",
       "  'F': LinearTimeIntervalAlgebra(['MI']),\n",
       "  'FI': LinearTimeIntervalAlgebra(['MI']),\n",
       "  'M': LinearTimeIntervalAlgebra(['E', 'S', 'SI']),\n",
       "  'MI': LinearTimeIntervalAlgebra(['BI']),\n",
       "  'O': LinearTimeIntervalAlgebra(['D', 'F', 'OI']),\n",
       "  'OI': LinearTimeIntervalAlgebra(['BI']),\n",
       "  'S': LinearTimeIntervalAlgebra(['D', 'F', 'OI']),\n",
       "  'SI': LinearTimeIntervalAlgebra(['BI'])},\n",
       " 'O': {'B': LinearTimeIntervalAlgebra(['B']),\n",
       "  'BI': LinearTimeIntervalAlgebra(['BI', 'DI', 'MI', 'OI', 'SI']),\n",
       "  'D': LinearTimeIntervalAlgebra(['D', 'O', 'S']),\n",
       "  'DI': LinearTimeIntervalAlgebra(['B', 'DI', 'FI', 'M', 'O']),\n",
       "  'E': LinearTimeIntervalAlgebra(['O']),\n",
       "  'F': LinearTimeIntervalAlgebra(['D', 'O', 'S']),\n",
       "  'FI': LinearTimeIntervalAlgebra(['B', 'M', 'O']),\n",
       "  'M': LinearTimeIntervalAlgebra(['B']),\n",
       "  'MI': LinearTimeIntervalAlgebra(['DI', 'OI', 'SI']),\n",
       "  'O': LinearTimeIntervalAlgebra(['B', 'M', 'O']),\n",
       "  'OI': LinearTimeIntervalAlgebra(['D', 'DI', 'E', 'F', 'FI', 'O', 'OI', 'S', 'SI']),\n",
       "  'S': LinearTimeIntervalAlgebra(['O']),\n",
       "  'SI': LinearTimeIntervalAlgebra(['DI', 'FI', 'O'])},\n",
       " 'OI': {'B': LinearTimeIntervalAlgebra(['B', 'DI', 'FI', 'M', 'O']),\n",
       "  'BI': LinearTimeIntervalAlgebra(['BI']),\n",
       "  'D': LinearTimeIntervalAlgebra(['D', 'F', 'OI']),\n",
       "  'DI': LinearTimeIntervalAlgebra(['BI', 'DI', 'MI', 'OI', 'SI']),\n",
       "  'E': LinearTimeIntervalAlgebra(['OI']),\n",
       "  'F': LinearTimeIntervalAlgebra(['OI']),\n",
       "  'FI': LinearTimeIntervalAlgebra(['DI', 'OI', 'SI']),\n",
       "  'M': LinearTimeIntervalAlgebra(['DI', 'FI', 'O']),\n",
       "  'MI': LinearTimeIntervalAlgebra(['BI']),\n",
       "  'O': LinearTimeIntervalAlgebra(['D', 'DI', 'E', 'F', 'FI', 'O', 'OI', 'S', 'SI']),\n",
       "  'OI': LinearTimeIntervalAlgebra(['BI', 'MI', 'OI']),\n",
       "  'S': LinearTimeIntervalAlgebra(['D', 'F', 'OI']),\n",
       "  'SI': LinearTimeIntervalAlgebra(['BI', 'MI', 'OI'])},\n",
       " 'S': {'B': LinearTimeIntervalAlgebra(['B']),\n",
       "  'BI': LinearTimeIntervalAlgebra(['BI']),\n",
       "  'D': LinearTimeIntervalAlgebra(['D']),\n",
       "  'DI': LinearTimeIntervalAlgebra(['B', 'DI', 'FI', 'M', 'O']),\n",
       "  'E': LinearTimeIntervalAlgebra(['S']),\n",
       "  'F': LinearTimeIntervalAlgebra(['D']),\n",
       "  'FI': LinearTimeIntervalAlgebra(['B', 'M', 'O']),\n",
       "  'M': LinearTimeIntervalAlgebra(['B']),\n",
       "  'MI': LinearTimeIntervalAlgebra(['MI']),\n",
       "  'O': LinearTimeIntervalAlgebra(['B', 'M', 'O']),\n",
       "  'OI': LinearTimeIntervalAlgebra(['D', 'F', 'OI']),\n",
       "  'S': LinearTimeIntervalAlgebra(['S']),\n",
       "  'SI': LinearTimeIntervalAlgebra(['E', 'S', 'SI'])},\n",
       " 'SI': {'B': LinearTimeIntervalAlgebra(['B', 'DI', 'FI', 'M', 'O']),\n",
       "  'BI': LinearTimeIntervalAlgebra(['BI']),\n",
       "  'D': LinearTimeIntervalAlgebra(['D', 'F', 'OI']),\n",
       "  'DI': LinearTimeIntervalAlgebra(['DI']),\n",
       "  'E': LinearTimeIntervalAlgebra(['SI']),\n",
       "  'F': LinearTimeIntervalAlgebra(['OI']),\n",
       "  'FI': LinearTimeIntervalAlgebra(['DI']),\n",
       "  'M': LinearTimeIntervalAlgebra(['DI', 'FI', 'O']),\n",
       "  'MI': LinearTimeIntervalAlgebra(['MI']),\n",
       "  'O': LinearTimeIntervalAlgebra(['DI', 'FI', 'O']),\n",
       "  'OI': LinearTimeIntervalAlgebra(['OI']),\n",
       "  'S': LinearTimeIntervalAlgebra(['E', 'S', 'SI']),\n",
       "  'SI': LinearTimeIntervalAlgebra(['SI'])}}"
      ]
     },
     "execution_count": 30,
     "metadata": {},
     "output_type": "execute_result"
    }
   ],
   "source": [
    "allen.transitivity_table"
   ]
  },
  {
   "cell_type": "code",
   "execution_count": 31,
   "metadata": {},
   "outputs": [
    {
     "data": {
      "text/plain": [
       "LinearTimeIntervalAlgebra(['B', 'D', 'M', 'O', 'S'])"
      ]
     },
     "execution_count": 31,
     "metadata": {},
     "output_type": "execute_result"
    }
   ],
   "source": [
    "before = allen.relset(['B'])\n",
    "during = allen.relset(['D'])\n",
    "\n",
    "bxd = allen.mult(before, during)\n",
    "bxd"
   ]
  },
  {
   "cell_type": "code",
   "execution_count": 32,
   "metadata": {},
   "outputs": [
    {
     "name": "stdout",
     "output_type": "stream",
     "text": [
      "('D', 'F', 'M', 'SI')\n"
     ]
    },
    {
     "data": {
      "text/plain": [
       "LinearTimeIntervalAlgebra(['D', 'M'])"
      ]
     },
     "execution_count": 32,
     "metadata": {},
     "output_type": "execute_result"
    }
   ],
   "source": [
    "foobar = allen.relset(['D','M','F','SI'])\n",
    "print(foobar.members())\n",
    "allen.add(bxd,foobar)"
   ]
  },
  {
   "cell_type": "code",
   "execution_count": 33,
   "metadata": {},
   "outputs": [
    {
     "data": {
      "text/plain": [
       "True"
      ]
     },
     "execution_count": 33,
     "metadata": {},
     "output_type": "execute_result"
    }
   ],
   "source": [
    "allen.check_multiplication_identity()"
   ]
  },
  {
   "cell_type": "code",
   "execution_count": 34,
   "metadata": {},
   "outputs": [
    {
     "name": "stdout",
     "output_type": "stream",
     "text": [
      "  Algebra Name: LinearTimeIntervalAlgebra\n",
      "   Description: Allen's algebra of proper time intervals\n",
      "     Relations:\n",
      "            NAME (ABBREV)         CONVERSE (ABBREV)  REFLEXIVE  SYMMETRIC TRANSITIVE  DOMAIN   RANGE\n"
     ]
    }
   ],
   "source": [
    "allen.print_info()"
   ]
  },
  {
   "cell_type": "code",
   "execution_count": null,
   "metadata": {},
   "outputs": [],
   "source": []
  }
 ],
 "metadata": {
  "kernelspec": {
   "display_name": "Python 3",
   "language": "python",
   "name": "python3"
  },
  "language_info": {
   "codemirror_mode": {
    "name": "ipython",
    "version": 3
   },
   "file_extension": ".py",
   "mimetype": "text/x-python",
   "name": "python",
   "nbconvert_exporter": "python",
   "pygments_lexer": "ipython3",
   "version": "3.7.3"
  }
 },
 "nbformat": 4,
 "nbformat_minor": 2
}
