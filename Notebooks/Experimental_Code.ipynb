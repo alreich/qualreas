{
 "cells": [
  {
   "cell_type": "markdown",
   "metadata": {},
   "source": [
    "# Experimental Code"
   ]
  },
  {
   "cell_type": "markdown",
   "metadata": {},
   "source": [
    "<i>Version 1.0</i>"
   ]
  },
  {
   "cell_type": "markdown",
   "metadata": {},
   "source": [
    "## Dependencies"
   ]
  },
  {
   "cell_type": "markdown",
   "metadata": {},
   "source": [
    "Algebra's are defined in JSON format."
   ]
  },
  {
   "cell_type": "code",
   "execution_count": 8,
   "metadata": {},
   "outputs": [],
   "source": [
    "import json"
   ]
  },
  {
   "cell_type": "markdown",
   "metadata": {},
   "source": [
    "The basic elements of an <b>Algebra</b>, as defined here, are subsets of a finite set of relations (<b>relsets</b>). Relsets are represented here using [the <b>bitset</b> package](https://bitsets.readthedocs.io/en/stable/)."
   ]
  },
  {
   "cell_type": "code",
   "execution_count": 9,
   "metadata": {},
   "outputs": [],
   "source": [
    "from bitsets import bitset"
   ]
  },
  {
   "cell_type": "markdown",
   "metadata": {},
   "source": [
    "Relsets are used to represent spatio-temporal constraints between spatio-temporal entities.  This can be represented as a graph, where the nodes are the entities and the edges are \"labeled\" with the constraints.  The Graph class in [the NetworkX package](https://networkx.github.io/) is extended to represent a Constraint Graph."
   ]
  },
  {
   "cell_type": "code",
   "execution_count": 10,
   "metadata": {},
   "outputs": [],
   "source": [
    "import networkx as nx"
   ]
  },
  {
   "cell_type": "markdown",
   "metadata": {},
   "source": [
    "We use os.path, along with an environment variable, PYPROJ, to provide an OS/env-agnostic way of finding the qualreas code.  You must define or set PYPROJ appropriately for your own environment."
   ]
  },
  {
   "cell_type": "code",
   "execution_count": 11,
   "metadata": {},
   "outputs": [],
   "source": [
    "import os"
   ]
  },
  {
   "cell_type": "code",
   "execution_count": 12,
   "metadata": {},
   "outputs": [],
   "source": [
    "path = os.path.join(os.getenv('PYPROJ'), 'qualreas')"
   ]
  },
  {
   "cell_type": "markdown",
   "metadata": {},
   "source": [
    "## Algebras use Bitsets to Represent Sets of Relations"
   ]
  },
  {
   "cell_type": "code",
   "execution_count": 13,
   "metadata": {},
   "outputs": [],
   "source": [
    "# TODO: Don't embed the abbreviation dictionary in code; create a file for it\n",
    "def abbrev(term_list):\n",
    "    abbrev_dict = {\"Point\":\"Pt\",\n",
    "                   \"ProperInterval\":\"PInt\",\n",
    "                   \"Interval\":\"Int\"}\n",
    "    return '|'.join([abbrev_dict[term] for term in term_list])"
   ]
  },
  {
   "cell_type": "code",
   "execution_count": 14,
   "metadata": {},
   "outputs": [
    {
     "data": {
      "text/plain": [
       "'Pt|PInt'"
      ]
     },
     "execution_count": 14,
     "metadata": {},
     "output_type": "execute_result"
    }
   ],
   "source": [
    "abbrev([\"Point\", \"ProperInterval\"])"
   ]
  },
  {
   "cell_type": "code",
   "execution_count": 15,
   "metadata": {},
   "outputs": [
    {
     "data": {
      "text/plain": [
       "'Pt'"
      ]
     },
     "execution_count": 15,
     "metadata": {},
     "output_type": "execute_result"
    }
   ],
   "source": [
    "abbrev(['Point'])"
   ]
  },
  {
   "cell_type": "code",
   "execution_count": 16,
   "metadata": {},
   "outputs": [],
   "source": [
    "class Algebra(object):\n",
    "\n",
    "    def __init__(self, filename):\n",
    "        \"\"\"An algebra is created from a JSON file containing the algebra's\n",
    "        relation and transitivity table definitions.\n",
    "        \"\"\"\n",
    "        with open(filename, 'r') as f:\n",
    "            self.algebra_dict = json.load(f)\n",
    "\n",
    "        self.name = self.algebra_dict[\"Name\"]\n",
    "        self.description = self.algebra_dict[\"Description\"]\n",
    "        # TODO: For consistency, rename rel_info to rel_dict\n",
    "        self.rel_info = self.algebra_dict[\"Relations\"]\n",
    "        # TODO: Maybe rename AlgBitSet to, say, alg_rels (or allrels_bitset, or ...)\n",
    "        self.AlgBitSet = bitset(self.name, tuple(self.rel_info.keys()))  # A class object\n",
    "        # TODO: Remove identity, and just use AlgBitSet.supremum\n",
    "        self.identity = self.AlgBitSet.supremum\n",
    "\n",
    "        # Setup the transitivity table used by Relation Set multiplication\n",
    "        self.transitivity_table = dict()\n",
    "        tabledefs = self.algebra_dict[\"TransTable\"]\n",
    "        for rel1 in tabledefs:\n",
    "            self.transitivity_table[rel1] = dict()\n",
    "            for rel2 in tabledefs[rel1]:\n",
    "                self.transitivity_table[rel1][rel2] = self.AlgBitSet(tuple(tabledefs[rel1][rel2]))\n",
    "                \n",
    "    # Accessors for information about a given relation, rel.\n",
    "    def rel_name(self, rel):\n",
    "        return self.rel_info[rel][\"Name\"]\n",
    "    def rel_domain(self,rel):\n",
    "        return self.rel_info[rel][\"Domain\"]\n",
    "    def rel_range(self,rel):\n",
    "        return self.rel_info[rel][\"Range\"]\n",
    "    def rel_reflexive(self,rel):\n",
    "        return self.rel_info[rel][\"Reflexive\"]\n",
    "    def rel_symmetric(self,rel):\n",
    "        return self.rel_info[rel][\"Symmetric\"]\n",
    "    def rel_transitive(self, rel):\n",
    "        return self.rel_info[rel][\"Transitive\"]\n",
    "    \n",
    "    def converse(self, rel_or_relset):\n",
    "        '''Return the converse of a relation (str) or relation set (bitset).'''\n",
    "        if isinstance(rel_or_relset, str):\n",
    "            return self.rel_info[rel_or_relset][\"Converse\"]\n",
    "        else:\n",
    "            return self.AlgBitSet((self.converse(r) for r in rel_or_relset.members()))\n",
    "        \n",
    "    def __str__(self):\n",
    "        \"\"\"Return a string representation of the Algebra.\"\"\"\n",
    "        return f\"<{self.name}: {self.description}>\"\n",
    "    \n",
    "    def relset(self, elements):\n",
    "        \"\"\"Return a relation set (bitset) for the given elements.\"\"\"\n",
    "        return self.AlgBitSet(elements)\n",
    "    \n",
    "    def add(self, relset1, relset2):\n",
    "        '''Addition for relation sets is equivalent to set intersection.'''\n",
    "        return relset1.intersection(relset2)\n",
    "    \n",
    "    def mult(self, relset1, relset2):\n",
    "        '''Multiplication is done, element-by-element, on the cross-product\n",
    "        of the two sets using the algebra's transitivity table, and\n",
    "        then reducing those results to a single relation set using set\n",
    "        union.\n",
    "        '''\n",
    "        result = self.AlgBitSet.infimum  # the empty relation set\n",
    "        for r1 in relset1:\n",
    "            for r2 in relset2:\n",
    "                result = result.union(self.transitivity_table[r1][r2])\n",
    "        return result\n",
    "    \n",
    "    def check_multiplication_identity(self, verbose=False):\n",
    "        \"\"\"Check the validity of the multiplicative identity for every\n",
    "        combination of singleton relset.  :param verbose: Print out\n",
    "        the details of each test :return: True or False\n",
    "\n",
    "        \"\"\"\n",
    "        count = 0\n",
    "        result = True\n",
    "        rels = self.identity\n",
    "        for r in rels:\n",
    "            r_rs = self.relset((r,))\n",
    "            for s in rels:\n",
    "                count += 1\n",
    "                s_rs = self.relset((s,))\n",
    "                prod1 = self.mult(r_rs, s_rs)\n",
    "                prod2 = self.converse(self.mult(self.converse(s_rs), self.converse(r_rs)))\n",
    "                if prod1 != prod2:\n",
    "                    if verbose:\n",
    "                        print(\"FAIL:\")\n",
    "                        print(f\"      r    = {r_rs}\")\n",
    "                        print(f\"      s    = {s_rs}\")\n",
    "                        print(f\"( r *  s)  = {prod1}\")\n",
    "                        print(f\"(si * ri)i = {prod2}\")\n",
    "                        print(f\"{prod1} != {prod2}\")\n",
    "                    result = False\n",
    "        if verbose:\n",
    "            print(f\"\\n{self.name} -- Multiplication Identity Check:\")\n",
    "        if result:\n",
    "            if verbose:\n",
    "                print(f\"PASSED . {count} products tested.\")\n",
    "        else:\n",
    "            if verbose:\n",
    "                print(\"FAILED. See FAILURE output above.\")\n",
    "        return result\n",
    "\n",
    "    def print_info(self):\n",
    "        print(f\"  Algebra Name: {self.name}\")\n",
    "        print(f\"   Description: {self.description}\")\n",
    "        # print(f\" Equality Rels: {self.equality_relations}\")\n",
    "        print(\"     Relations:\")\n",
    "        print(\"{:>25s} {:>25s} {:>10s} {:>10s} {:>10s} {:>8s} {:>12s}\".format(\"NAME (ABBREV)\", \"CONVERSE (ABBREV)\",\n",
    "                                                                              \"REFLEXIVE\", \"SYMMETRIC\", \"TRANSITIVE\",\n",
    "                                                                              \"DOMAIN\", \"RANGE\"))\n",
    "        # TODO: Vary spacing between columns based on max word lengths\n",
    "        for r in self.identity:\n",
    "            print(f\"{self.rel_name(r):>19s} ({r:>3s}) \" \\\n",
    "                  f\"{self.rel_name(self.converse(r)):>19s} ({self.converse(r):>3s}) \" \\\n",
    "                  f\"{self.rel_reflexive(r)!s:>8} {self.rel_symmetric(r)!s:>10} {self.rel_transitive(r)!s:>10}\" \\\n",
    "                  f\"{abbrev(self.rel_domain(r))!s:>11} {abbrev(self.rel_range(r))!s:>13}\")\n",
    "        # TODO: Don't hardcode the legend below; make it depend on an abbreviations file (JSON)\n",
    "        print(\"\\nDomain & Range Abbreviations:\")\n",
    "        print(\"   Pt = Point\")\n",
    "        print(\" PInt = Proper Interval\")\n",
    "        \n",
    "    def is_associative(self, verbose=False):\n",
    "        result = True\n",
    "        countskipped = 0\n",
    "        countok = 0\n",
    "        countfailed = 0\n",
    "        counttotal = 0\n",
    "        rels = self.identity\n",
    "        for _a in rels:\n",
    "            for _b in rels:\n",
    "                for _c in rels:\n",
    "                    if verbose:\n",
    "                        print(f\"{_a} x {_b} x {_c} :\")\n",
    "                    if (set(self.rel_range(_a)) & set(self.rel_domain(_b))) & (set(self.rel_range(_b)) & set(self.rel_domain(_c))):\n",
    "                        a_rs = self.relset((_a,))\n",
    "                        b_rs = self.relset((_b,))\n",
    "                        c_rs = self.relset((_c,))\n",
    "                        prod_ab = a_rs * b_rs\n",
    "                        prod_bc = b_rs * c_rs\n",
    "                        prod_ab_c = prod_ab * c_rs\n",
    "                        prod_a_bc = a_rs * prod_bc\n",
    "                        if not (prod_ab_c == prod_a_bc):\n",
    "                            if verbose:\n",
    "                                print(f\"  Associativity fails for a = {a_rs}, b = {b_rs}, c = {c_rs}\")\n",
    "                                print(f\"    associativity check: {self.rel_range(_a)}::{self.rel_domain(_b)} {self.rel_range(_b)}::{self.rel_domain(_c)}\")\n",
    "                                print(f\"    (a * b) * c = {prod_ab_c}\")\n",
    "                                print(f\"    a * (b * c) = {prod_a_bc}\")\n",
    "                            countfailed += 1\n",
    "                            counttotal += 1\n",
    "                            result = False\n",
    "                        else:\n",
    "                            if verbose:\n",
    "                                print(\"  Associativity OK\")\n",
    "                            countok += 1\n",
    "                            counttotal += 1\n",
    "                    else:\n",
    "                        if verbose:\n",
    "                            print(f\"  Skipping associativity check: {self.rel_range(_a)}::{self.rel_domain(_b)} {self.rel_range(_b)}::{self.rel_domain(_c)}\")\n",
    "                        countskipped += 1\n",
    "                        counttotal += 1\n",
    "        print(f\"\\nTEST SUMMARY: {countok} OK, {countskipped} Skipped, {countfailed} Failed ({counttotal} Total)\")\n",
    "        numrels = len(rels)\n",
    "        totaltests = numrels * numrels * numrels\n",
    "        if (counttotal != totaltests):\n",
    "            print(f\"Test counts do not add up; Total should be {totaltests}\")\n",
    "        return result\n",
    "    \n",
    "    def is_associative_NEW(self, verbose=False):\n",
    "        result = True\n",
    "        countskipped = 0\n",
    "        countok = 0\n",
    "        countfailed = 0\n",
    "        counttotal = 0\n",
    "        rels = self.identity\n",
    "        for _a in rels:\n",
    "            for _b in rels:\n",
    "                for _c in rels:\n",
    "                    if verbose:\n",
    "                        print(f\"{_a} x {_b} x {_c} :\")\n",
    "                    a_rs = self.relset((_a,))\n",
    "                    b_rs = self.relset((_b,))\n",
    "                    c_rs = self.relset((_c,))\n",
    "                    if (set(self.rel_range(_a)) & set(self.rel_domain(_b))):\n",
    "                        prod_ab = a_rs * b_rs\n",
    "                        prod_ab_c = prod_ab * c_rs\n",
    "                        if (set(self.rel_range(_b)) & set(self.rel_domain(_c))):\n",
    "                            prod_bc = b_rs * c_rs\n",
    "                            prod_a_bc = a_rs * prod_bc\n",
    "                            if not (prod_ab_c == prod_a_bc):\n",
    "                                if verbose:\n",
    "                                    print(f\"  Associativity fails for a = {a_rs}, b = {b_rs}, c = {c_rs}\")\n",
    "                                    print(f\"    associativity check: {self.rel_range(_a)}::{self.rel_domain(_b)} {self.rel_range(_b)}::{self.rel_domain(_c)}\")\n",
    "                                    print(f\"    (a * b) * c = {prod_ab_c}\")\n",
    "                                    print(f\"    a * (b * c) = {prod_a_bc}\")\n",
    "                                countfailed += 1\n",
    "                                counttotal += 1\n",
    "                                result = False\n",
    "                            else:\n",
    "                                if verbose:\n",
    "                                    print(\"  Associativity OK\")\n",
    "                                countok += 1\n",
    "                                counttotal += 1\n",
    "                        else:\n",
    "                            if verbose:\n",
    "                                print(f\"  Skipping associativity due to b x c: {self.rel_range(_b)}::{self.rel_domain(_c)}\")\n",
    "                            countskipped += 1\n",
    "                            counttotal += 1\n",
    "                    else:\n",
    "                        if verbose:\n",
    "                            print(f\"  Skipping associativity due to a x b: {self.rel_range(_a)}::{self.rel_domain(_b)}\")\n",
    "                        countskipped += 1\n",
    "                        counttotal += 1\n",
    "        print(f\"\\nTEST SUMMARY: {countok} OK, {countskipped} Skipped, {countfailed} Failed ({counttotal} Total)\")\n",
    "        numrels = len(rels)\n",
    "        totaltests = numrels * numrels * numrels\n",
    "        if (counttotal != totaltests):\n",
    "            print(f\"Test counts do not add up; Total should be {totaltests}\")\n",
    "        return result"
   ]
  },
  {
   "cell_type": "code",
   "execution_count": 17,
   "metadata": {},
   "outputs": [
    {
     "name": "stdout",
     "output_type": "stream",
     "text": [
      "<LinearTimeIntervalAlgebra: Allen's algebra of proper time intervals>\n"
     ]
    }
   ],
   "source": [
    "alg = Algebra(os.path.join(path, \"Algebras/IntervalAlgebra.json\"))  # Allen's algebra of proper time intervals\n",
    "#alg = Algebra(os.path.join(path, \"Algebras/LeftBranchingIntervalAndPointAlgebra.json\"))\n",
    "#alg = Algebra(os.path.join(path, \"Algebras/RightBranchingIntervalAndPointAlgebra.json\"))\n",
    "#alg = Algebra(os.path.join(path, \"Algebras/rcc8Algebra.json\"))\n",
    "\n",
    "print(alg)"
   ]
  },
  {
   "cell_type": "code",
   "execution_count": 18,
   "metadata": {},
   "outputs": [
    {
     "data": {
      "text/plain": [
       "LinearTimeIntervalAlgebra(['BI', 'MI', 'O'])"
      ]
     },
     "execution_count": 18,
     "metadata": {},
     "output_type": "execute_result"
    }
   ],
   "source": [
    "alg.converse(alg.relset(('B','M','OI')))"
   ]
  },
  {
   "cell_type": "code",
   "execution_count": 19,
   "metadata": {},
   "outputs": [
    {
     "data": {
      "text/plain": [
       "'BI'"
      ]
     },
     "execution_count": 19,
     "metadata": {},
     "output_type": "execute_result"
    }
   ],
   "source": [
    "alg.converse('B')"
   ]
  },
  {
   "cell_type": "code",
   "execution_count": 20,
   "metadata": {},
   "outputs": [
    {
     "data": {
      "text/plain": [
       "LinearTimeIntervalAlgebra(['B', 'BI', 'D', 'DI', 'E', 'F', 'FI', 'M', 'MI', 'O', 'OI', 'S', 'SI'])"
      ]
     },
     "execution_count": 20,
     "metadata": {},
     "output_type": "execute_result"
    }
   ],
   "source": [
    "alg.identity"
   ]
  },
  {
   "cell_type": "code",
   "execution_count": 21,
   "metadata": {},
   "outputs": [
    {
     "data": {
      "text/plain": [
       "13"
      ]
     },
     "execution_count": 21,
     "metadata": {},
     "output_type": "execute_result"
    }
   ],
   "source": [
    "len(alg.identity)"
   ]
  },
  {
   "cell_type": "code",
   "execution_count": 22,
   "metadata": {},
   "outputs": [
    {
     "data": {
      "text/plain": [
       "'Before'"
      ]
     },
     "execution_count": 22,
     "metadata": {},
     "output_type": "execute_result"
    }
   ],
   "source": [
    "alg.rel_name('B')"
   ]
  },
  {
   "cell_type": "code",
   "execution_count": 23,
   "metadata": {},
   "outputs": [],
   "source": [
    "#alg.transitivity_table"
   ]
  },
  {
   "cell_type": "code",
   "execution_count": 24,
   "metadata": {},
   "outputs": [
    {
     "data": {
      "text/plain": [
       "LinearTimeIntervalAlgebra(['B', 'D', 'M', 'O', 'S'])"
      ]
     },
     "execution_count": 24,
     "metadata": {},
     "output_type": "execute_result"
    }
   ],
   "source": [
    "before = alg.relset(['B'])\n",
    "during = alg.relset(['D'])\n",
    "\n",
    "bxd = alg.mult(before, during)\n",
    "bxd"
   ]
  },
  {
   "cell_type": "code",
   "execution_count": 25,
   "metadata": {},
   "outputs": [
    {
     "name": "stdout",
     "output_type": "stream",
     "text": [
      "('D', 'F', 'M', 'SI')\n"
     ]
    },
    {
     "data": {
      "text/plain": [
       "LinearTimeIntervalAlgebra(['D', 'M'])"
      ]
     },
     "execution_count": 25,
     "metadata": {},
     "output_type": "execute_result"
    }
   ],
   "source": [
    "foobar = alg.relset(['D','M','F','SI'])\n",
    "print(foobar.members())\n",
    "alg.add(bxd,foobar)"
   ]
  },
  {
   "cell_type": "code",
   "execution_count": 26,
   "metadata": {},
   "outputs": [
    {
     "data": {
      "text/plain": [
       "\"('D', 'F', 'M', 'SI')\""
      ]
     },
     "execution_count": 26,
     "metadata": {},
     "output_type": "execute_result"
    }
   ],
   "source": [
    "str(foobar.members())"
   ]
  },
  {
   "cell_type": "code",
   "execution_count": 27,
   "metadata": {},
   "outputs": [
    {
     "name": "stdout",
     "output_type": "stream",
     "text": [
      "('BI', 'D', 'DI', 'E', 'F', 'FI', 'M', 'MI', 'O', 'OI', 'S', 'SI')\n",
      "('BI', 'DI', 'E', 'F', 'FI', 'MI', 'OI', 'SI')\n"
     ]
    }
   ],
   "source": [
    "print(before.complement().members())\n",
    "print(bxd.complement().members())"
   ]
  },
  {
   "cell_type": "code",
   "execution_count": 28,
   "metadata": {},
   "outputs": [
    {
     "data": {
      "text/plain": [
       "True"
      ]
     },
     "execution_count": 28,
     "metadata": {},
     "output_type": "execute_result"
    }
   ],
   "source": [
    "alg.check_multiplication_identity()"
   ]
  },
  {
   "cell_type": "markdown",
   "metadata": {},
   "source": [
    "See [Format String Syntax](https://docs.python.org/3/library/string.html#format-string-syntax)"
   ]
  },
  {
   "cell_type": "code",
   "execution_count": 29,
   "metadata": {},
   "outputs": [
    {
     "name": "stdout",
     "output_type": "stream",
     "text": [
      "  Algebra Name: LinearTimeIntervalAlgebra\n",
      "   Description: Allen's algebra of proper time intervals\n",
      "     Relations:\n",
      "            NAME (ABBREV)         CONVERSE (ABBREV)  REFLEXIVE  SYMMETRIC TRANSITIVE   DOMAIN        RANGE\n",
      "             Before (  B)               After ( BI)    False      False       True       PInt          PInt\n",
      "              After ( BI)              Before (  B)    False      False       True       PInt          PInt\n",
      "             During (  D)            Contains ( DI)    False      False       True       PInt          PInt\n",
      "           Contains ( DI)              During (  D)    False      False       True       PInt          PInt\n",
      "             Equals (  E)              Equals (  E)     True       True       True       PInt          PInt\n",
      "           Finishes (  F)         Finished-by ( FI)    False      False       True       PInt          PInt\n",
      "        Finished-by ( FI)            Finishes (  F)    False      False       True       PInt          PInt\n",
      "              Meets (  M)              Met-By ( MI)    False      False      False       PInt          PInt\n",
      "             Met-By ( MI)               Meets (  M)    False      False      False       PInt          PInt\n",
      "           Overlaps (  O)       Overlapped-By ( OI)    False      False      False       PInt          PInt\n",
      "      Overlapped-By ( OI)            Overlaps (  O)    False      False      False       PInt          PInt\n",
      "             Starts (  S)          Started-By ( SI)    False      False       True       PInt          PInt\n",
      "         Started-By ( SI)              Starts (  S)    False      False       True       PInt          PInt\n",
      "\n",
      "Domain & Range Abbreviations:\n",
      "   Pt = Point\n",
      " PInt = Proper Interval\n"
     ]
    }
   ],
   "source": [
    "alg.print_info()"
   ]
  },
  {
   "cell_type": "code",
   "execution_count": 30,
   "metadata": {},
   "outputs": [
    {
     "name": "stdout",
     "output_type": "stream",
     "text": [
      "\n",
      "TEST SUMMARY: 2197 OK, 0 Skipped, 0 Failed (2197 Total)\n"
     ]
    },
    {
     "data": {
      "text/plain": [
       "True"
      ]
     },
     "execution_count": 30,
     "metadata": {},
     "output_type": "execute_result"
    }
   ],
   "source": [
    "alg.is_associative()"
   ]
  },
  {
   "cell_type": "code",
   "execution_count": 31,
   "metadata": {},
   "outputs": [
    {
     "name": "stdout",
     "output_type": "stream",
     "text": [
      "\n",
      "TEST SUMMARY: 2197 OK, 0 Skipped, 0 Failed (2197 Total)\n"
     ]
    },
    {
     "data": {
      "text/plain": [
       "True"
      ]
     },
     "execution_count": 31,
     "metadata": {},
     "output_type": "execute_result"
    }
   ],
   "source": [
    "alg.is_associative_NEW()"
   ]
  },
  {
   "cell_type": "markdown",
   "metadata": {},
   "source": [
    "## Networks"
   ]
  },
  {
   "cell_type": "markdown",
   "metadata": {},
   "source": [
    "### Old Network Definition"
   ]
  },
  {
   "cell_type": "code",
   "execution_count": 34,
   "metadata": {},
   "outputs": [],
   "source": [
    "class Network_OLD(object):\n",
    "    \"\"\"A network of entities (e.g., events) with relationships between the entities.\n",
    "    The relationships must be defined by a single, specific algebra.\n",
    "    \"\"\"\n",
    "\n",
    "    def __init__(self, algebra, network_name=None):\n",
    "        self.__algebra = algebra\n",
    "        self.__constraints = dict()\n",
    "        self.__entities = set([])\n",
    "        if network_name:\n",
    "            self.__name = network_name\n",
    "        else:\n",
    "            self.__name = uuid.uuid4()\n",
    "\n",
    "    def __len__(self):\n",
    "        return len(self.__entities)\n",
    "\n",
    "    @property\n",
    "    def name(self):\n",
    "        return str(self.__name)\n",
    "\n",
    "    def __repr__(self):\n",
    "        return f\"<Network: {self.name}, {self.__entities} entities>\"\n",
    "\n",
    "    def __add_constraint(self, e1, e2, rs):\n",
    "        \"\"\"\n",
    "        Add a constraint, rs (relset), between two entities (e1 & e2).\n",
    "        \"\"\"\n",
    "        if e1 not in self.__constraints:\n",
    "            self.__constraints[e1] = {e2: rs}\n",
    "        else:\n",
    "            if e2 not in self.__constraints[e1]:\n",
    "                self.__constraints[e1][e2] = rs\n",
    "            else:\n",
    "                self.__constraints[e1][e2].union(rs)\n",
    "\n",
    "    def __set_unconstrained_values(self):\n",
    "        ident = self.__algebra.identity\n",
    "        for ent1 in self.__entities:\n",
    "            for ent2 in self.__entities:\n",
    "                if ent1 in self.__constraints:\n",
    "                    if ent2 in self.__constraints[ent1]:\n",
    "                        pass\n",
    "                    else:\n",
    "                        self.constraint(ent1, ent2, ident)\n",
    "                else:\n",
    "                    if ent2 in self.__constraints:\n",
    "                        if ent1 in self.__constraints[ent2]:\n",
    "                            pass\n",
    "                        else:\n",
    "                            self.constraint(ent1, ent2, ident)\n",
    "                    else:\n",
    "                        self.constraint(ent1, ent2, ident)\n",
    "\n",
    "    def constraint(self, entity1, entity2, rels=None):\n",
    "        \"\"\"Assert that entity1 relates to entity2 in one of the ways\n",
    "        contained in the set of relations, rels.  For example: (e1\n",
    "        [before, overlaps, meets] e2) iff (e1 before e2) OR (e1\n",
    "        overlaps e2) OR (e1 meets e2).\n",
    "        \"\"\"\n",
    "\n",
    "        # Remember Entities:\n",
    "        self.__entities.add(entity1)\n",
    "        self.__entities.add(entity2)\n",
    "\n",
    "        if rels:\n",
    "            relset = self.__algebra.relset(rels)\n",
    "        else:\n",
    "            relset = self.__algebra.identity\n",
    "\n",
    "        self.__add_constraint(entity1, entity2, relset)\n",
    "        self.__add_constraint(entity2, entity1, relset.converse)\n",
    "\n",
    "        equality1 = [self.__algebra.equality_relation_dict[t] for t in entity1.gettype()]\n",
    "        equality2 = [self.__algebra.equality_relation_dict[t] for t in entity2.gettype()]\n",
    "\n",
    "        self.__add_constraint(entity1, entity1, RelationSet(equality1, self.__algebra))\n",
    "        self.__add_constraint(entity2, entity2, RelationSet(equality2, self.__algebra))\n",
    "\n",
    "    def propagate(self, verbose=False):\n",
    "        \"\"\"Propagate constraints in the network.\n",
    "        @param verbose: Print number of loops as constraints are propagated.\n",
    "        \"\"\"\n",
    "        loop_count = 0\n",
    "        self.__set_unconstrained_values()\n",
    "        something_changed = True  # Start off with this True so we'll loop at least once\n",
    "        while something_changed:\n",
    "            something_changed = False  # Immediately set to False; if nothing changes, we'll only loop once\n",
    "            loop_count += 1\n",
    "            for ent1 in self.__entities:\n",
    "                for ent2 in self.__entities:\n",
    "                    prod = self.__algebra.identity\n",
    "                    c12 = self.__constraints[ent1][ent2]\n",
    "                    for ent3 in self.__entities:\n",
    "                        c13 = self.__constraints[ent1][ent3]\n",
    "                        c32 = self.__constraints[ent3][ent2]\n",
    "                        prod = prod + (c13 * c32)\n",
    "                    if prod != c12:\n",
    "                        something_changed = True  # Need to continue top-level propagation loop\n",
    "                    self.__constraints[ent1][ent2] = prod\n",
    "        if verbose:\n",
    "            print(f\"Number of propagation loops: {loop_count}\")\n",
    "\n",
    "    def print_constraints(self):\n",
    "        print(f\"\\n{self}\\nConstraints: (Source, Target, RelationSet)\")\n",
    "        for x in self.__constraints:\n",
    "            for y in self.__constraints[x]:\n",
    "                rels = self.__constraints[x][y]\n",
    "                print(f\"  {x.name}, {y.name}, {sorted(list(rels))}\")"
   ]
  },
  {
   "cell_type": "code",
   "execution_count": 35,
   "metadata": {},
   "outputs": [],
   "source": [
    "class TemporalObject(object):\n",
    "\n",
    "    def __init__(self, types, name=None, start=None, end=None, dur=None):\n",
    "        self.__type = types\n",
    "        self.__name = name\n",
    "        self.__start = start\n",
    "        self.__end = end\n",
    "        self.__duration = dur\n",
    "\n",
    "    @property\n",
    "    def name(self):\n",
    "        return self.__name\n",
    "\n",
    "    def gettype(self):\n",
    "        return self.__type\n",
    "\n",
    "    def settype(self, typ):\n",
    "        self.__type = typ\n",
    "\n",
    "    def __repr__(self):\n",
    "        if self.__name:\n",
    "            return f\"<TemporalObject {self.__name} {self.__type}>\"\n",
    "        else:\n",
    "            return f\"<TemporalObject {self.__type}>\""
   ]
  },
  {
   "cell_type": "markdown",
   "metadata": {},
   "source": [
    "### New Network Definition"
   ]
  },
  {
   "cell_type": "code",
   "execution_count": 33,
   "metadata": {},
   "outputs": [],
   "source": [
    "class Network(nx.Graph):\n",
    "    pass"
   ]
  },
  {
   "cell_type": "code",
   "execution_count": 36,
   "metadata": {},
   "outputs": [
    {
     "name": "stdout",
     "output_type": "stream",
     "text": [
      "<TemporalObject Event1 ['ProperInterval']>\n",
      "<TemporalObject Event2 ['ProperInterval']>\n"
     ]
    }
   ],
   "source": [
    "evt1 = TemporalObject([\"ProperInterval\"], name=\"Event1\")\n",
    "evt2 = TemporalObject([\"ProperInterval\"], name=\"Event2\")\n",
    "print(evt1)\n",
    "print(evt2)"
   ]
  },
  {
   "cell_type": "code",
   "execution_count": 37,
   "metadata": {},
   "outputs": [],
   "source": [
    "net0 = Network()"
   ]
  },
  {
   "cell_type": "code",
   "execution_count": 38,
   "metadata": {},
   "outputs": [],
   "source": [
    "net0.add_edge(evt1, evt2, object=foobar)"
   ]
  },
  {
   "cell_type": "code",
   "execution_count": 39,
   "metadata": {},
   "outputs": [
    {
     "data": {
      "text/plain": [
       "[(<TemporalObject Event1 ['ProperInterval']>,\n",
       "  <TemporalObject Event2 ['ProperInterval']>)]"
      ]
     },
     "execution_count": 39,
     "metadata": {},
     "output_type": "execute_result"
    }
   ],
   "source": [
    "list(net0.edges)"
   ]
  },
  {
   "cell_type": "code",
   "execution_count": 40,
   "metadata": {},
   "outputs": [
    {
     "data": {
      "text/plain": [
       "[<TemporalObject Event1 ['ProperInterval']>,\n",
       " <TemporalObject Event2 ['ProperInterval']>]"
      ]
     },
     "execution_count": 40,
     "metadata": {},
     "output_type": "execute_result"
    }
   ],
   "source": [
    "list(net0.nodes)"
   ]
  },
  {
   "cell_type": "code",
   "execution_count": 41,
   "metadata": {},
   "outputs": [],
   "source": [
    "class SpatialObject(object):\n",
    "\n",
    "    def __init__(self, types, name=None):\n",
    "        self.__type = types\n",
    "        self.__name = name\n",
    "\n",
    "    @property\n",
    "    def name(self):\n",
    "        return self.__name\n",
    "\n",
    "    def gettype(self):\n",
    "        return self.__type\n",
    "\n",
    "    def settype(self, typ):\n",
    "        self.__type = typ\n",
    "\n",
    "    def __repr__(self):\n",
    "        if self.__name:\n",
    "            return f\"<SpatialObject {self.__name} {self.__type}>\"\n",
    "        else:\n",
    "            return f\"<SpatialObject {self.__type}>\""
   ]
  },
  {
   "cell_type": "code",
   "execution_count": 42,
   "metadata": {},
   "outputs": [
    {
     "name": "stdout",
     "output_type": "stream",
     "text": [
      "\n",
      "\n",
      "Constraint: X ['B'] Y\n",
      "Constraint: Y ['D'] Z\n"
     ]
    },
    {
     "ename": "TypeError",
     "evalue": "__init__() takes from 1 to 2 positional arguments but 3 were given",
     "output_type": "error",
     "traceback": [
      "\u001b[0;31m---------------------------------------------------------------------------\u001b[0m",
      "\u001b[0;31mTypeError\u001b[0m                                 Traceback (most recent call last)",
      "\u001b[0;32m<ipython-input-42-2cbcd806d1df>\u001b[0m in \u001b[0;36m<module>\u001b[0;34m\u001b[0m\n\u001b[1;32m      8\u001b[0m \u001b[0mprint\u001b[0m\u001b[0;34m(\u001b[0m\u001b[0;34m\"Constraint: {} {} {}\"\u001b[0m\u001b[0;34m.\u001b[0m\u001b[0mformat\u001b[0m\u001b[0;34m(\u001b[0m\u001b[0mentity_x\u001b[0m\u001b[0;34m.\u001b[0m\u001b[0mname\u001b[0m\u001b[0;34m,\u001b[0m \u001b[0mlist\u001b[0m\u001b[0;34m(\u001b[0m\u001b[0mr12\u001b[0m\u001b[0;34m.\u001b[0m\u001b[0mmembers\u001b[0m\u001b[0;34m(\u001b[0m\u001b[0;34m)\u001b[0m\u001b[0;34m)\u001b[0m\u001b[0;34m,\u001b[0m \u001b[0mentity_y\u001b[0m\u001b[0;34m.\u001b[0m\u001b[0mname\u001b[0m\u001b[0;34m)\u001b[0m\u001b[0;34m)\u001b[0m\u001b[0;34m\u001b[0m\u001b[0;34m\u001b[0m\u001b[0m\n\u001b[1;32m      9\u001b[0m \u001b[0mprint\u001b[0m\u001b[0;34m(\u001b[0m\u001b[0;34m\"Constraint: {} {} {}\"\u001b[0m\u001b[0;34m.\u001b[0m\u001b[0mformat\u001b[0m\u001b[0;34m(\u001b[0m\u001b[0mentity_y\u001b[0m\u001b[0;34m.\u001b[0m\u001b[0mname\u001b[0m\u001b[0;34m,\u001b[0m \u001b[0mlist\u001b[0m\u001b[0;34m(\u001b[0m\u001b[0mr23\u001b[0m\u001b[0;34m.\u001b[0m\u001b[0mmembers\u001b[0m\u001b[0;34m(\u001b[0m\u001b[0;34m)\u001b[0m\u001b[0;34m)\u001b[0m\u001b[0;34m,\u001b[0m \u001b[0mentity_z\u001b[0m\u001b[0;34m.\u001b[0m\u001b[0mname\u001b[0m\u001b[0;34m)\u001b[0m\u001b[0;34m)\u001b[0m\u001b[0;34m\u001b[0m\u001b[0;34m\u001b[0m\u001b[0m\n\u001b[0;32m---> 10\u001b[0;31m \u001b[0mnet0\u001b[0m \u001b[0;34m=\u001b[0m \u001b[0mNetwork\u001b[0m\u001b[0;34m(\u001b[0m\u001b[0malg\u001b[0m\u001b[0;34m,\u001b[0m \u001b[0;34m\"Test0\"\u001b[0m\u001b[0;34m)\u001b[0m\u001b[0;34m\u001b[0m\u001b[0;34m\u001b[0m\u001b[0m\n\u001b[0m\u001b[1;32m     11\u001b[0m \u001b[0mnet0\u001b[0m\u001b[0;34m.\u001b[0m\u001b[0mconstraint\u001b[0m\u001b[0;34m(\u001b[0m\u001b[0mentity_x\u001b[0m\u001b[0;34m,\u001b[0m \u001b[0mentity_y\u001b[0m\u001b[0;34m,\u001b[0m \u001b[0;34m[\u001b[0m\u001b[0mr12\u001b[0m\u001b[0;34m]\u001b[0m\u001b[0;34m)\u001b[0m\u001b[0;34m\u001b[0m\u001b[0;34m\u001b[0m\u001b[0m\n\u001b[1;32m     12\u001b[0m \u001b[0mnet0\u001b[0m\u001b[0;34m.\u001b[0m\u001b[0mconstraint\u001b[0m\u001b[0;34m(\u001b[0m\u001b[0mentity_y\u001b[0m\u001b[0;34m,\u001b[0m \u001b[0mentity_z\u001b[0m\u001b[0;34m,\u001b[0m \u001b[0;34m[\u001b[0m\u001b[0mr23\u001b[0m\u001b[0;34m]\u001b[0m\u001b[0;34m)\u001b[0m\u001b[0;34m\u001b[0m\u001b[0;34m\u001b[0m\u001b[0m\n",
      "\u001b[0;31mTypeError\u001b[0m: __init__() takes from 1 to 2 positional arguments but 3 were given"
     ]
    }
   ],
   "source": [
    "#print(\"{}:\".format(alg[0].name))\n",
    "entity_x = TemporalObject([\"ProperInterval\"], \"X\")\n",
    "entity_y = TemporalObject([\"ProperInterval\"], \"Y\")\n",
    "entity_z = TemporalObject([\"ProperInterval\"], \"Z\")\n",
    "r12 = alg.relset([\"B\"])\n",
    "r23 = alg.relset([\"D\"])\n",
    "print(\"\\n\")\n",
    "print(\"Constraint: {} {} {}\".format(entity_x.name, list(r12.members()), entity_y.name))\n",
    "print(\"Constraint: {} {} {}\".format(entity_y.name, list(r23.members()), entity_z.name))\n",
    "net0 = Network(alg, \"Test0\")\n",
    "net0.constraint(entity_x, entity_y, [r12])\n",
    "net0.constraint(entity_y, entity_z, [r23])\n",
    "net0.print_constraints()\n",
    "net0.propagate(verbose=True)\n",
    "net0.print_constraints()\n",
    "print(\"\\n\")"
   ]
  },
  {
   "cell_type": "code",
   "execution_count": null,
   "metadata": {},
   "outputs": [],
   "source": []
  }
 ],
 "metadata": {
  "kernelspec": {
   "display_name": "Python 3",
   "language": "python",
   "name": "python3"
  },
  "language_info": {
   "codemirror_mode": {
    "name": "ipython",
    "version": 3
   },
   "file_extension": ".py",
   "mimetype": "text/x-python",
   "name": "python",
   "nbconvert_exporter": "python",
   "pygments_lexer": "ipython3",
   "version": "3.7.4"
  }
 },
 "nbformat": 4,
 "nbformat_minor": 2
}
