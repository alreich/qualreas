{
 "cells": [
  {
   "cell_type": "markdown",
   "metadata": {},
   "source": [
    "# Experimental Code"
   ]
  },
  {
   "cell_type": "markdown",
   "metadata": {},
   "source": [
    "<i>Version 1.0</i>"
   ]
  },
  {
   "cell_type": "markdown",
   "metadata": {},
   "source": [
    "## Dependencies"
   ]
  },
  {
   "cell_type": "markdown",
   "metadata": {},
   "source": [
    "The package, [bitsets](https://bitsets.readthedocs.io/en/stable/), provides a memory-efficient pure-python immutable ordered set data type for working with large numbers of subsets from a predetermined pool of objects."
   ]
  },
  {
   "cell_type": "code",
   "execution_count": 1,
   "metadata": {},
   "outputs": [],
   "source": [
    "from bitsets import bitset"
   ]
  },
  {
   "cell_type": "markdown",
   "metadata": {},
   "source": [
    "Algebra's are defined in JSON format."
   ]
  },
  {
   "cell_type": "code",
   "execution_count": 2,
   "metadata": {},
   "outputs": [],
   "source": [
    "import json"
   ]
  },
  {
   "cell_type": "markdown",
   "metadata": {},
   "source": [
    "We need the path to this project:"
   ]
  },
  {
   "cell_type": "code",
   "execution_count": 3,
   "metadata": {},
   "outputs": [],
   "source": [
    "import os"
   ]
  },
  {
   "cell_type": "code",
   "execution_count": 4,
   "metadata": {},
   "outputs": [],
   "source": [
    "path = os.path.join(os.getenv('PYPROJ'), 'qualreas')"
   ]
  },
  {
   "cell_type": "markdown",
   "metadata": {},
   "source": [
    "## Allen's Interval Algebra using Bitsets"
   ]
  },
  {
   "cell_type": "code",
   "execution_count": 5,
   "metadata": {},
   "outputs": [],
   "source": [
    "def abbrev(term_list):\n",
    "    abbrev_dict = {\"Point\":\"pt\",\n",
    "                   \"ProperInterval\":\"pint\",\n",
    "                   \"Interval\":\"int\"}\n",
    "    return [abbrev_dict[term] for term in term_list]"
   ]
  },
  {
   "cell_type": "code",
   "execution_count": 6,
   "metadata": {},
   "outputs": [
    {
     "data": {
      "text/plain": [
       "['pt', 'pint']"
      ]
     },
     "execution_count": 6,
     "metadata": {},
     "output_type": "execute_result"
    }
   ],
   "source": [
    "abbrev([\"Point\", \"ProperInterval\"])"
   ]
  },
  {
   "cell_type": "code",
   "execution_count": 91,
   "metadata": {},
   "outputs": [],
   "source": [
    "class Algebra(object):\n",
    "\n",
    "    def __init__(self, filename):\n",
    "        \"\"\"An algebra is created from a JSON file containing the algebra's\n",
    "        relation and transitivity table definitions.\n",
    "        \"\"\"\n",
    "        with open(filename, 'r') as f:\n",
    "            self.algebra_dict = json.load(f)\n",
    "\n",
    "        self.name = self.algebra_dict[\"Name\"]\n",
    "        self.description = self.algebra_dict[\"Description\"]\n",
    "        # TODO: For consistency, rename rel_info to rel_dict\n",
    "        self.rel_info = self.algebra_dict[\"Relations\"]\n",
    "        # TODO: Maybe rename AlgBitSet to, say, alg_rels (or allrels_bitset, or ...)\n",
    "        self.AlgBitSet = bitset(self.name, tuple(self.rel_info.keys()))  # A class object\n",
    "        # TODO: Remove identity, and just use AlgBitSet.supremum\n",
    "        self.identity = self.AlgBitSet.supremum\n",
    "\n",
    "        # Setup the transitivity table used by Relation Set multiplication\n",
    "        self.transitivity_table = dict()\n",
    "        tabledefs = self.algebra_dict[\"TransTable\"]\n",
    "        for rel1 in tabledefs:\n",
    "            self.transitivity_table[rel1] = dict()\n",
    "            for rel2 in tabledefs[rel1]:\n",
    "                self.transitivity_table[rel1][rel2] = self.AlgBitSet(tuple(tabledefs[rel1][rel2]))\n",
    "                \n",
    "    # Accessors for information about a given relation, rel.\n",
    "    def rel_name(self, rel):\n",
    "        return self.rel_info[rel][\"Name\"]\n",
    "    def rel_domain(self,rel):\n",
    "        return self.rel_info[rel][\"Domain\"]\n",
    "    def rel_range(self,rel):\n",
    "        return self.rel_info[rel][\"Range\"]\n",
    "    def rel_reflexive(self,rel):\n",
    "        return self.rel_info[rel][\"Reflexive\"]\n",
    "    def rel_symmetric(self,rel):\n",
    "        return self.rel_info[rel][\"Symmetric\"]\n",
    "    def rel_transitive(self, rel):\n",
    "        return self.rel_info[rel][\"Transitive\"]\n",
    "    \n",
    "    def converse(self, rel_or_relset):\n",
    "        '''Return the converse of a relation (str) or relation set (bitset).'''\n",
    "        if isinstance(rel_or_relset, str):\n",
    "            return self.rel_info[rel_or_relset][\"Converse\"]\n",
    "        else:\n",
    "            return self.AlgBitSet((self.converse(r) for r in rel_or_relset.members()))\n",
    "        \n",
    "    def __str__(self):\n",
    "        \"\"\"Return a string representation of the Algebra.\"\"\"\n",
    "        return f\"<{self.name}: {self.description}>\"\n",
    "    \n",
    "    def relset(self, elements):\n",
    "        \"\"\"Return a relation set (bitset) for the given elements.\"\"\"\n",
    "        return self.AlgBitSet(elements)\n",
    "    \n",
    "    def add(self, relset1, relset2):\n",
    "        '''Addition for relation sets is equivalent to set intersection.'''\n",
    "        return relset1.intersection(relset2)\n",
    "    \n",
    "    def mult(self, relset1, relset2):\n",
    "        '''Multiplication is done, element-by-element, on the cross-product\n",
    "        of the two sets using the algebra's transitivity table, and\n",
    "        then reducing those results to a single relation set using set\n",
    "        union.\n",
    "        '''\n",
    "        result = self.AlgBitSet.infimum  # the empty relation set\n",
    "        for r1 in relset1:\n",
    "            for r2 in relset2:\n",
    "                result = result.union(self.transitivity_table[r1][r2])\n",
    "        return result\n",
    "    \n",
    "    def check_multiplication_identity(self, verbose=False):\n",
    "        \"\"\"Check the validity of the multiplicative identity for every\n",
    "        combination of singleton relset.  :param verbose: Print out\n",
    "        the details of each test :return: True or False\n",
    "\n",
    "        \"\"\"\n",
    "        count = 0\n",
    "        result = True\n",
    "        rels = self.identity\n",
    "        for r in rels:\n",
    "            r_rs = self.relset((r,))\n",
    "            for s in rels:\n",
    "                count += 1\n",
    "                s_rs = self.relset((s,))\n",
    "                prod1 = self.mult(r_rs, s_rs)\n",
    "                prod2 = self.converse(self.mult(self.converse(s_rs), self.converse(r_rs)))\n",
    "                if prod1 != prod2:\n",
    "                    if verbose:\n",
    "                        print(\"FAIL:\")\n",
    "                        print(f\"      r    = {r_rs}\")\n",
    "                        print(f\"      s    = {s_rs}\")\n",
    "                        print(f\"( r *  s)  = {prod1}\")\n",
    "                        print(f\"(si * ri)i = {prod2}\")\n",
    "                        print(f\"{prod1} != {prod2}\")\n",
    "                    result = False\n",
    "        if verbose:\n",
    "            print(f\"\\n{self.name} -- Multiplication Identity Check:\")\n",
    "        if result:\n",
    "            if verbose:\n",
    "                print(f\"PASSED . {count} products tested.\")\n",
    "        else:\n",
    "            if verbose:\n",
    "                print(\"FAILED. See FAILURE output above.\")\n",
    "        return result\n",
    "\n",
    "    def print_info(self):\n",
    "        mapping = {frozenset([u'ProperInterval', u'Point']): \"Int\",\n",
    "                   frozenset([u'Point']): \"Pt\",\n",
    "                   frozenset([u'ProperInterval']): \"PInt\",\n",
    "                   frozenset([u'Region']): \"Region\"\n",
    "                   }\n",
    "        print(f\"  Algebra Name: {self.name}\")\n",
    "        print(f\"   Description: {self.description}\")\n",
    "#        print(f\" Equality Rels: {self.equality_relations}\")\n",
    "        print(\"     Relations:\")\n",
    "        print(\"{:>25s} {:>25s} {:>10s} {:>10s} {:>10s} {:>7s} {:>7s}\".format(\"NAME (ABBREV)\", \"CONVERSE (ABBREV)\",\n",
    "                                                                             \"REFLEXIVE\", \"SYMMETRIC\", \"TRANSITIVE\",\n",
    "                                                                             \"DOMAIN\", \"RANGE\"))\n",
    "        # TODO: Vary spacing between columns based on max word lengths\n",
    "        for r in self.identity:\n",
    "            print(f\"{self.rel_name(r):>19s} ({r:>3s}) \" \\\n",
    "                  f\"{self.rel_name(self.converse(r)):>19s} ({self.converse(r):>3s}) \" \\\n",
    "                  f\"{self.rel_reflexive(r)!s:>8} {self.rel_symmetric(r)!s:>10} {self.rel_transitive(r)!s:>10}\")\n",
    "            #{abbrev(self.rel_domain(r)):8!s} \\\n",
    "            #{abbrev(self.rel_range(r)):7!s}\")\n",
    "            #print(f\"{self.rel_name(r):>19s} ({r:>3s}) {self.rel_name(self.converse(r)):>19s} ({self.converse(r):>3s}) {self.rel_reflexive(r)!s:>8} {self.rel_symmetric(r)!s:>10} {self.rel_transitive(r)!s:>10}\")\n"
   ]
  },
  {
   "cell_type": "raw",
   "metadata": {},
   "source": [
    "        for r in self.identity:\n",
    "            print(f\"{self.rel_name(r):>19s} \\\n",
    "            {r:>3s} \\\n",
    "            {self.rel_name(self.converse(r)):>19s} \\\n",
    "            {self.converse(r):>3s} \\\n",
    "            {self.rel_reflexive(r):>8s} \\\n",
    "            {self.rel_symmetric(r):>10s} \\\n",
    "            {self.rel_transitive(r):>10s} \\\n",
    "            {abbrev(self.rel_domain(r)):>8s} \\\n",
    "            {abbrev(self.rel_range(r)):>7s}\")"
   ]
  },
  {
   "cell_type": "code",
   "execution_count": 92,
   "metadata": {},
   "outputs": [
    {
     "name": "stdout",
     "output_type": "stream",
     "text": [
      "<LinearTimeIntervalAlgebra: Allen's algebra of proper time intervals>\n"
     ]
    }
   ],
   "source": [
    "allen = Algebra(os.path.join(path, \"Algebras/IntervalAlgebra.json\"))\n",
    "print(allen)"
   ]
  },
  {
   "cell_type": "code",
   "execution_count": 93,
   "metadata": {},
   "outputs": [
    {
     "data": {
      "text/plain": [
       "LinearTimeIntervalAlgebra(['BI', 'MI', 'O'])"
      ]
     },
     "execution_count": 93,
     "metadata": {},
     "output_type": "execute_result"
    }
   ],
   "source": [
    "allen.converse(allen.relset(('B','M','OI')))"
   ]
  },
  {
   "cell_type": "code",
   "execution_count": 94,
   "metadata": {},
   "outputs": [
    {
     "data": {
      "text/plain": [
       "'BI'"
      ]
     },
     "execution_count": 94,
     "metadata": {},
     "output_type": "execute_result"
    }
   ],
   "source": [
    "allen.converse('B')"
   ]
  },
  {
   "cell_type": "code",
   "execution_count": 95,
   "metadata": {},
   "outputs": [
    {
     "data": {
      "text/plain": [
       "LinearTimeIntervalAlgebra(['B', 'BI', 'D', 'DI', 'E', 'F', 'FI', 'M', 'MI', 'O', 'OI', 'S', 'SI'])"
      ]
     },
     "execution_count": 95,
     "metadata": {},
     "output_type": "execute_result"
    }
   ],
   "source": [
    "allen.identity"
   ]
  },
  {
   "cell_type": "code",
   "execution_count": 96,
   "metadata": {},
   "outputs": [
    {
     "data": {
      "text/plain": [
       "'Before'"
      ]
     },
     "execution_count": 96,
     "metadata": {},
     "output_type": "execute_result"
    }
   ],
   "source": [
    "allen.rel_name('B')"
   ]
  },
  {
   "cell_type": "code",
   "execution_count": 97,
   "metadata": {},
   "outputs": [],
   "source": [
    "#allen.transitivity_table"
   ]
  },
  {
   "cell_type": "code",
   "execution_count": 98,
   "metadata": {},
   "outputs": [
    {
     "data": {
      "text/plain": [
       "LinearTimeIntervalAlgebra(['B', 'D', 'M', 'O', 'S'])"
      ]
     },
     "execution_count": 98,
     "metadata": {},
     "output_type": "execute_result"
    }
   ],
   "source": [
    "before = allen.relset(['B'])\n",
    "during = allen.relset(['D'])\n",
    "\n",
    "bxd = allen.mult(before, during)\n",
    "bxd"
   ]
  },
  {
   "cell_type": "code",
   "execution_count": 99,
   "metadata": {},
   "outputs": [
    {
     "name": "stdout",
     "output_type": "stream",
     "text": [
      "('D', 'F', 'M', 'SI')\n"
     ]
    },
    {
     "data": {
      "text/plain": [
       "LinearTimeIntervalAlgebra(['D', 'M'])"
      ]
     },
     "execution_count": 99,
     "metadata": {},
     "output_type": "execute_result"
    }
   ],
   "source": [
    "foobar = allen.relset(['D','M','F','SI'])\n",
    "print(foobar.members())\n",
    "allen.add(bxd,foobar)"
   ]
  },
  {
   "cell_type": "code",
   "execution_count": 100,
   "metadata": {},
   "outputs": [
    {
     "name": "stdout",
     "output_type": "stream",
     "text": [
      "('BI', 'D', 'DI', 'E', 'F', 'FI', 'M', 'MI', 'O', 'OI', 'S', 'SI')\n",
      "('BI', 'DI', 'E', 'F', 'FI', 'MI', 'OI', 'SI')\n"
     ]
    }
   ],
   "source": [
    "print(before.complement().members())\n",
    "print(bxd.complement().members())"
   ]
  },
  {
   "cell_type": "code",
   "execution_count": 101,
   "metadata": {},
   "outputs": [
    {
     "data": {
      "text/plain": [
       "True"
      ]
     },
     "execution_count": 101,
     "metadata": {},
     "output_type": "execute_result"
    }
   ],
   "source": [
    "allen.check_multiplication_identity()"
   ]
  },
  {
   "cell_type": "markdown",
   "metadata": {},
   "source": [
    "See [Format String Syntax](https://docs.python.org/3/library/string.html#format-string-syntax)"
   ]
  },
  {
   "cell_type": "code",
   "execution_count": 102,
   "metadata": {},
   "outputs": [
    {
     "name": "stdout",
     "output_type": "stream",
     "text": [
      "  Algebra Name: LinearTimeIntervalAlgebra\n",
      "   Description: Allen's algebra of proper time intervals\n",
      "     Relations:\n",
      "            NAME (ABBREV)         CONVERSE (ABBREV)  REFLEXIVE  SYMMETRIC TRANSITIVE  DOMAIN   RANGE\n",
      "             Before (  B)               After ( BI)    False      False       True\n",
      "              After ( BI)              Before (  B)    False      False       True\n",
      "             During (  D)            Contains ( DI)    False      False       True\n",
      "           Contains ( DI)              During (  D)    False      False       True\n",
      "             Equals (  E)              Equals (  E)     True       True       True\n",
      "           Finishes (  F)         Finished-by ( FI)    False      False       True\n",
      "        Finished-by ( FI)            Finishes (  F)    False      False       True\n",
      "              Meets (  M)              Met-By ( MI)    False      False      False\n",
      "             Met-By ( MI)               Meets (  M)    False      False      False\n",
      "           Overlaps (  O)       Overlapped-By ( OI)    False      False      False\n",
      "      Overlapped-By ( OI)            Overlaps (  O)    False      False      False\n",
      "             Starts (  S)          Started-By ( SI)    False      False       True\n",
      "         Started-By ( SI)              Starts (  S)    False      False       True\n"
     ]
    }
   ],
   "source": [
    "allen.print_info()"
   ]
  },
  {
   "cell_type": "code",
   "execution_count": null,
   "metadata": {},
   "outputs": [],
   "source": []
  },
  {
   "cell_type": "code",
   "execution_count": null,
   "metadata": {},
   "outputs": [],
   "source": []
  }
 ],
 "metadata": {
  "kernelspec": {
   "display_name": "Python 3",
   "language": "python",
   "name": "python3"
  },
  "language_info": {
   "codemirror_mode": {
    "name": "ipython",
    "version": 3
   },
   "file_extension": ".py",
   "mimetype": "text/x-python",
   "name": "python",
   "nbconvert_exporter": "python",
   "pygments_lexer": "ipython3",
   "version": "3.7.4"
  }
 },
 "nbformat": 4,
 "nbformat_minor": 2
}
