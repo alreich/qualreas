{
 "cells": [
  {
   "cell_type": "markdown",
   "id": "92c4cb4a",
   "metadata": {},
   "source": [
    "# Signature Name Mapping Function"
   ]
  },
  {
   "cell_type": "markdown",
   "id": "1358d8ce",
   "metadata": {},
   "source": [
    "The purpose of this notebook is to derive a function that can replace the global dictionary, <i>signature_name_mapping</b>."
   ]
  },
  {
   "cell_type": "markdown",
   "id": "9d7cdaf4",
   "metadata": {},
   "source": [
    "The folowing code cells were copied from the \"derive_allens_algebra\" notebook, so that I can have access to the 13 FourPointNetwork objects from which Allen's algebra was derived."
   ]
  },
  {
   "cell_type": "code",
   "execution_count": 1,
   "id": "805697b0",
   "metadata": {},
   "outputs": [],
   "source": [
    "import os\n",
    "import qualreas as qr\n",
    "import numpy as np\n",
    "\n",
    "import sys"
   ]
  },
  {
   "cell_type": "code",
   "execution_count": 2,
   "id": "682d161d",
   "metadata": {},
   "outputs": [],
   "source": [
    "sys.setrecursionlimit(10000)"
   ]
  },
  {
   "cell_type": "code",
   "execution_count": 3,
   "id": "04c09efd",
   "metadata": {},
   "outputs": [],
   "source": [
    "path = os.path.join(os.getenv('PYPROJ'), 'qualreas')"
   ]
  },
  {
   "cell_type": "code",
   "execution_count": 4,
   "id": "27227c8b",
   "metadata": {},
   "outputs": [],
   "source": [
    "pt_alg = qr.Algebra(os.path.join(path, \"Algebras/Linear_Point_Algebra.json\"))"
   ]
  },
  {
   "cell_type": "code",
   "execution_count": 5,
   "id": "7267db28",
   "metadata": {},
   "outputs": [],
   "source": [
    "less_than_rel = '<'"
   ]
  },
  {
   "cell_type": "code",
   "execution_count": 6,
   "id": "8fda109c",
   "metadata": {},
   "outputs": [
    {
     "name": "stdout",
     "output_type": "stream",
     "text": [
      "\n",
      "13 consistent networks\n"
     ]
    }
   ],
   "source": [
    "base_nets = qr.generate_consistent_networks(pt_alg, lessthan=less_than_rel, verbose=False)"
   ]
  },
  {
   "cell_type": "markdown",
   "id": "7d5d6bc2",
   "metadata": {},
   "source": [
    "## Work-in-Progress"
   ]
  },
  {
   "cell_type": "markdown",
   "id": "c98ba16f",
   "metadata": {},
   "source": [
    "So, now I have the 13 FourPointNetworks corresponding to the relations in Allen's interval algebra."
   ]
  },
  {
   "cell_type": "code",
   "execution_count": 7,
   "id": "8c0d3b5b",
   "metadata": {},
   "outputs": [
    {
     "data": {
      "text/plain": [
       "dict_keys(['B', 'M', 'O', 'FI', 'DI', 'S', 'E', 'SI', 'D', 'F', 'OI', 'MI', 'BI'])"
      ]
     },
     "execution_count": 7,
     "metadata": {},
     "output_type": "execute_result"
    }
   ],
   "source": [
    "base_nets.keys()"
   ]
  },
  {
   "cell_type": "code",
   "execution_count": 8,
   "id": "c0733395",
   "metadata": {},
   "outputs": [
    {
     "data": {
      "text/plain": [
       "<qualreas.FourPointNet at 0x7ff522ad0e50>"
      ]
     },
     "execution_count": 8,
     "metadata": {},
     "output_type": "execute_result"
    }
   ],
   "source": [
    "ptnet = base_nets['D']\n",
    "ptnet"
   ]
  },
  {
   "cell_type": "code",
   "execution_count": 9,
   "id": "ce9ad3b6",
   "metadata": {},
   "outputs": [
    {
     "name": "stdout",
     "output_type": "stream",
     "text": [
      "[['=' '<' '>' '<']\n",
      " ['>' '=' '>' '<']\n",
      " ['<' '<' '=' '<']\n",
      " ['>' '>' '>' '=']]\n"
     ]
    }
   ],
   "source": [
    "ptarr = np.array(ptnet.to_list())\n",
    "print(ptarr)"
   ]
  },
  {
   "cell_type": "code",
   "execution_count": 10,
   "id": "50f77c5f",
   "metadata": {},
   "outputs": [],
   "source": [
    "def get_2x2_subarray(arr):\n",
    "    \"\"\"Return the 4 elements of the upper right 2x2 subarray.\"\"\"\n",
    "    return arr[0][2], arr[0][3], arr[1][2], arr[1][3]"
   ]
  },
  {
   "cell_type": "code",
   "execution_count": 11,
   "id": "6d2a8b33",
   "metadata": {},
   "outputs": [
    {
     "data": {
      "text/plain": [
       "('>', '<', '>', '<')"
      ]
     },
     "execution_count": 11,
     "metadata": {},
     "output_type": "execute_result"
    }
   ],
   "source": [
    "get_2x2_subarray(ptarr)"
   ]
  },
  {
   "cell_type": "code",
   "execution_count": 12,
   "id": "ed0526c4",
   "metadata": {},
   "outputs": [
    {
     "name": "stdout",
     "output_type": "stream",
     "text": [
      "B: ('<', '<', '<', '<')\n",
      "M: ('<', '<', '=', '<')\n",
      "O: ('<', '<', '>', '<')\n",
      "FI: ('<', '<', '>', '=')\n",
      "DI: ('<', '<', '>', '>')\n",
      "S: ('=', '<', '>', '<')\n",
      "E: ('=', '<', '>', '=')\n",
      "SI: ('=', '<', '>', '>')\n",
      "D: ('>', '<', '>', '<')\n",
      "F: ('>', '<', '>', '=')\n",
      "OI: ('>', '<', '>', '>')\n",
      "MI: ('>', '=', '>', '>')\n",
      "BI: ('>', '>', '>', '>')\n"
     ]
    }
   ],
   "source": [
    "for relname in base_nets.keys():\n",
    "    ptnet = base_nets[relname]\n",
    "    ptarr = np.array(ptnet.to_list())\n",
    "    print(f\"{relname}: {get_2x2_subarray(ptarr)}\")"
   ]
  },
  {
   "cell_type": "code",
   "execution_count": null,
   "id": "fe0132b9",
   "metadata": {},
   "outputs": [],
   "source": []
  }
 ],
 "metadata": {
  "kernelspec": {
   "display_name": "Python 3 (ipykernel)",
   "language": "python",
   "name": "python3"
  },
  "language_info": {
   "codemirror_mode": {
    "name": "ipython",
    "version": 3
   },
   "file_extension": ".py",
   "mimetype": "text/x-python",
   "name": "python",
   "nbconvert_exporter": "python",
   "pygments_lexer": "ipython3",
   "version": "3.7.16"
  }
 },
 "nbformat": 4,
 "nbformat_minor": 5
}
