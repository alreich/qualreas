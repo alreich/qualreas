{
 "cells": [
  {
   "cell_type": "markdown",
   "id": "92c4cb4a",
   "metadata": {},
   "source": [
    "# Signature Name Mapping Function"
   ]
  },
  {
   "cell_type": "markdown",
   "id": "1358d8ce",
   "metadata": {},
   "source": [
    "The purpose of this notebook is to derive a function that can replace the global dictionary, <i>signature_name_mapping</b>."
   ]
  },
  {
   "cell_type": "markdown",
   "id": "2119f289",
   "metadata": {},
   "source": [
    "## Allen's Interval Algebra"
   ]
  },
  {
   "cell_type": "markdown",
   "id": "9d7cdaf4",
   "metadata": {},
   "source": [
    "The folowing code cells were copied from the \"derive_allens_algebra\" notebook, so that I can have access to the 13 FourPointNetwork objects from which Allen's algebra was derived."
   ]
  },
  {
   "cell_type": "code",
   "execution_count": 1,
   "id": "805697b0",
   "metadata": {},
   "outputs": [],
   "source": [
    "import os\n",
    "import qualreas as qr\n",
    "import numpy as np\n",
    "\n",
    "import sys"
   ]
  },
  {
   "cell_type": "code",
   "execution_count": 2,
   "id": "682d161d",
   "metadata": {},
   "outputs": [],
   "source": [
    "sys.setrecursionlimit(10000)"
   ]
  },
  {
   "cell_type": "code",
   "execution_count": 3,
   "id": "04c09efd",
   "metadata": {},
   "outputs": [],
   "source": [
    "path = os.path.join(os.getenv('PYPROJ'), 'qualreas')"
   ]
  },
  {
   "cell_type": "code",
   "execution_count": 4,
   "id": "27227c8b",
   "metadata": {},
   "outputs": [],
   "source": [
    "pt_alg = qr.Algebra(os.path.join(path, \"Algebras/Linear_Point_Algebra.json\"))"
   ]
  },
  {
   "cell_type": "code",
   "execution_count": 5,
   "id": "7267db28",
   "metadata": {},
   "outputs": [],
   "source": [
    "less_than_rel = '<'"
   ]
  },
  {
   "cell_type": "code",
   "execution_count": 6,
   "id": "8fda109c",
   "metadata": {},
   "outputs": [
    {
     "name": "stdout",
     "output_type": "stream",
     "text": [
      "\n",
      "13 consistent networks\n"
     ]
    }
   ],
   "source": [
    "base_nets = qr.generate_consistent_networks(pt_alg, lessthan=less_than_rel, verbose=False)"
   ]
  },
  {
   "cell_type": "markdown",
   "id": "7d5d6bc2",
   "metadata": {},
   "source": [
    "## Function Definition"
   ]
  },
  {
   "cell_type": "markdown",
   "id": "c98ba16f",
   "metadata": {},
   "source": [
    "So, now I have the 13 FourPointNetworks corresponding to the relations in Allen's interval algebra."
   ]
  },
  {
   "cell_type": "code",
   "execution_count": 7,
   "id": "8c0d3b5b",
   "metadata": {},
   "outputs": [
    {
     "data": {
      "text/plain": [
       "dict_keys(['B', 'M', 'O', 'FI', 'DI', 'S', 'E', 'SI', 'D', 'F', 'OI', 'MI', 'BI'])"
      ]
     },
     "execution_count": 7,
     "metadata": {},
     "output_type": "execute_result"
    }
   ],
   "source": [
    "base_nets.keys()"
   ]
  },
  {
   "cell_type": "code",
   "execution_count": 10,
   "id": "50f77c5f",
   "metadata": {},
   "outputs": [],
   "source": [
    "def get_2x2_subarray(arr):\n",
    "    \"\"\"Return the 4 elements of the upper right 2x2 subarray.\"\"\"\n",
    "    return arr[0][2], arr[0][3], arr[1][2], arr[1][3]"
   ]
  },
  {
   "cell_type": "code",
   "execution_count": 11,
   "id": "ed0526c4",
   "metadata": {},
   "outputs": [
    {
     "name": "stdout",
     "output_type": "stream",
     "text": [
      "B: ('<', '<', '<', '<')\n",
      "M: ('<', '<', '=', '<')\n",
      "O: ('<', '<', '>', '<')\n",
      "FI: ('<', '<', '>', '=')\n",
      "DI: ('<', '<', '>', '>')\n",
      "S: ('=', '<', '>', '<')\n",
      "E: ('=', '<', '>', '=')\n",
      "SI: ('=', '<', '>', '>')\n",
      "D: ('>', '<', '>', '<')\n",
      "F: ('>', '<', '>', '=')\n",
      "OI: ('>', '<', '>', '>')\n",
      "MI: ('>', '=', '>', '>')\n",
      "BI: ('>', '>', '>', '>')\n"
     ]
    }
   ],
   "source": [
    "for relname in base_nets.keys():\n",
    "    ptnet = base_nets[relname]\n",
    "    ptarr = np.array(ptnet.to_list())\n",
    "    print(f\"{relname}: {get_2x2_subarray(ptarr)}\")"
   ]
  },
  {
   "cell_type": "code",
   "execution_count": 25,
   "id": "1ca43bed",
   "metadata": {},
   "outputs": [],
   "source": [
    "# Intervals: X = (x1, x2), Y = (y1, y2)\n",
    "#\n",
    "#              0     1       2      3\n",
    "#         |   x1    x2      y1     y2\n",
    "#---------|-------------------------------\n",
    "#  0  x1  |    =     <     x1y1  x1y2\n",
    "#  1  x2  |    >     =     x2y1  x2y2\n",
    "#  2  y1  |  y1x1  y1x2      =     <\n",
    "#  3  y2  |  y2x1  y2x2      >     =\n",
    "\n",
    "def signature_name_mapping_fnc(ptnet):\n",
    "    ptarr = np.array(ptnet.to_list())\n",
    "    \n",
    "    x2y1 = ptarr[1][2]\n",
    "    # x2 < y1, then Before\n",
    "    if x2y1 == \"<\":\n",
    "        return \"B\"\n",
    "    # x2 = y1, then Meets\n",
    "    elif x2y1 == \"=\":\n",
    "        return \"M\"\n",
    "    else:\n",
    "        pass\n",
    "    \n",
    "    y2x1 = ptarr[3][0]\n",
    "    # y2 < x1, then After\n",
    "    if y2x1 == \"<\":\n",
    "        return \"BI\"\n",
    "    # y2 = x1, then Met-By\n",
    "    elif y2x1 == \"=\":\n",
    "        return \"MI\"\n",
    "    else:\n",
    "        pass\n",
    "    \n",
    "    # y1 < x2 < y2\n",
    "    if (ptarr[2][1] == \"<\") and (ptarr[1][3] == \"<\"):\n",
    "        x1y1 = ptarr[0][2]\n",
    "        # x1 < y1, then Overlaps\n",
    "        if x1y1 == \"<\":\n",
    "            return \"O\"\n",
    "        # x1 = y1, then Starts\n",
    "        elif x1y1 == \"=\":\n",
    "            return \"S\"\n",
    "        # x1 > y1, then During\n",
    "        else:\n",
    "            return \"D\"\n",
    "            \n",
    "    # x1 < y2 < x2\n",
    "    if (ptarr[0][3] == \"<\") and (ptarr[3][1] == \"<\"):\n",
    "        y1x1 = ptarr[2][0]\n",
    "        # y1 < x1, then Overlapped-By\n",
    "        if y1x1 == \"<\":\n",
    "            return \"OI\"\n",
    "        # y1 = x1, then Started-By\n",
    "        elif y1x1 == \"=\":\n",
    "            return \"SI\"\n",
    "        # y1 > x1, then Contains\n",
    "        else:\n",
    "            return \"DI\"\n",
    "    \n",
    "    # x2 = y2\n",
    "    if ptarr[1][3] == \"=\":\n",
    "        # x1 = y1, then Equals\n",
    "        if ptarr[0][2] == \"=\":\n",
    "            return \"E\"\n",
    "        # y1 < x1 < y2, then Finishes\n",
    "        elif (ptarr[2][0] == \"<\") and (ptarr[0][3] == \"<\"):\n",
    "            return \"F\"\n",
    "        else:\n",
    "            pass\n",
    "        \n",
    "    # y2 = x2\n",
    "    if ptarr[3][1] == \"=\":\n",
    "        # y1 = x1, then Equals\n",
    "        if ptarr[2][0] == \"=\":\n",
    "            return \"E\"\n",
    "        # x1 < y1 < x2, then Finished-By\n",
    "        elif (ptarr[0][2] == \"<\") and (ptarr[2][1] == \"<\"):\n",
    "            return \"FI\"\n",
    "        else:\n",
    "            pass\n",
    "        \n",
    "    print(\"ERROR: If we got to this statement, then something is wrong here.\")\n",
    "    \n",
    "    return None"
   ]
  },
  {
   "cell_type": "markdown",
   "id": "8e7210c3",
   "metadata": {},
   "source": [
    "## Function Test"
   ]
  },
  {
   "cell_type": "code",
   "execution_count": 32,
   "id": "4484d15e",
   "metadata": {},
   "outputs": [
    {
     "name": "stdout",
     "output_type": "stream",
     "text": [
      "Current Name : Derived Name\n",
      "---------------------------\n",
      "B : B\n",
      "M : M\n",
      "O : O\n",
      "FI : FI\n",
      "DI : DI\n",
      "S : S\n",
      "E : E\n",
      "SI : SI\n",
      "D : D\n",
      "F : F\n",
      "OI : OI\n",
      "MI : MI\n",
      "BI : BI\n"
     ]
    }
   ],
   "source": [
    "print(\"Current Name : Derived Name\")\n",
    "print(\"---------------------------\")\n",
    "for relname in base_nets.keys():\n",
    "    ptnet = base_nets[relname]\n",
    "    ptarr = np.array(ptnet.to_list())\n",
    "    print(f\"{relname} : {signature_name_mapping_fnc(ptnet)}\")"
   ]
  },
  {
   "cell_type": "code",
   "execution_count": null,
   "id": "ef160acb",
   "metadata": {},
   "outputs": [],
   "source": []
  }
 ],
 "metadata": {
  "kernelspec": {
   "display_name": "Python 3 (ipykernel)",
   "language": "python",
   "name": "python3"
  },
  "language_info": {
   "codemirror_mode": {
    "name": "ipython",
    "version": 3
   },
   "file_extension": ".py",
   "mimetype": "text/x-python",
   "name": "python",
   "nbconvert_exporter": "python",
   "pygments_lexer": "ipython3",
   "version": "3.9.16"
  }
 },
 "nbformat": 4,
 "nbformat_minor": 5
}
