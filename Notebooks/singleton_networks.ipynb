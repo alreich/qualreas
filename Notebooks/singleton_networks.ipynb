{
 "cells": [
  {
   "cell_type": "markdown",
   "metadata": {},
   "source": [
    "# Singleton Networks"
   ]
  },
  {
   "cell_type": "code",
   "execution_count": 188,
   "metadata": {},
   "outputs": [],
   "source": [
    "import qualreas as qr\n",
    "import os\n",
    "import copy"
   ]
  },
  {
   "cell_type": "code",
   "execution_count": 189,
   "metadata": {},
   "outputs": [],
   "source": [
    "qr_path = os.path.join(os.getenv('PYPROJ'), 'qualreas')\n",
    "alg_dir = os.path.join(qr_path, \"Algebras\")"
   ]
  },
  {
   "cell_type": "markdown",
   "metadata": {},
   "source": [
    "## Make a Test Network"
   ]
  },
  {
   "cell_type": "code",
   "execution_count": 190,
   "metadata": {},
   "outputs": [],
   "source": [
    "test1_net_dict = {\n",
    "    'name': 'Network Copy Test #1',\n",
    "    'algebra': 'Extended_Linear_Interval_Algebra',\n",
    "    'description': 'Testing/Developing network copy functionality',\n",
    "    'nodes': [\n",
    "        ['U', ['ProperInterval', 'Point']],\n",
    "        ['V', ['ProperInterval', 'Point']],\n",
    "        ['W', ['ProperInterval']],\n",
    "        ['X', ['Point']]\n",
    "    ],\n",
    "    'edges': [\n",
    "        ['U', 'V', 'B'],\n",
    "        ['U', 'W', 'M'],\n",
    "        ['W', 'V', 'O'],\n",
    "        ['X', 'W', 'D']\n",
    "    ]\n",
    "}"
   ]
  },
  {
   "cell_type": "code",
   "execution_count": 191,
   "metadata": {},
   "outputs": [],
   "source": [
    "test2_net_dict = {\n",
    "    'name': 'Network Copy Test #2',\n",
    "    'algebra': 'Extended_Linear_Interval_Algebra',\n",
    "    'description': 'Testing/Developing network copy functionality',\n",
    "    'nodes': [\n",
    "        ['X', ['ProperInterval']],\n",
    "        ['Y', ['ProperInterval']],\n",
    "        ['Z', ['ProperInterval']]\n",
    "    ],\n",
    "    'edges': [\n",
    "        ['X', 'Y', 'B'],\n",
    "        ['Y', 'Z', 'B']\n",
    "    ]\n",
    "}"
   ]
  },
  {
   "cell_type": "code",
   "execution_count": 192,
   "metadata": {},
   "outputs": [],
   "source": [
    "test1_net = qr.Network(algebra_path=alg_dir, network_dict=test1_net_dict)"
   ]
  },
  {
   "cell_type": "code",
   "execution_count": 193,
   "metadata": {},
   "outputs": [],
   "source": [
    "test2_net = qr.Network(algebra_path=alg_dir, network_dict=test2_net_dict)"
   ]
  },
  {
   "cell_type": "code",
   "execution_count": 194,
   "metadata": {},
   "outputs": [
    {
     "name": "stdout",
     "output_type": "stream",
     "text": [
      "\n",
      "Network Copy Test #1: 4 nodes, 16 edges\n",
      "  Algebra: Extended_Linear_Interval_Algebra\n",
      "  U:['ProperInterval']\n",
      "    => U: E\n",
      "    => V: B\n",
      "    => W: M\n",
      "    => X: B\n",
      "  V:['ProperInterval']\n",
      "    => V: E\n",
      "    => U: BI\n",
      "    => W: OI\n",
      "    => X: BI|DI|PSI\n",
      "  W:['ProperInterval']\n",
      "    => W: E\n",
      "    => U: MI\n",
      "    => V: O\n",
      "    => X: DI\n",
      "  X:['Point']\n",
      "    => X: PE\n",
      "    => W: D\n",
      "    => U: BI\n",
      "    => V: B|D|PS\n"
     ]
    }
   ],
   "source": [
    "test1_net.propagate()\n",
    "test1_net.summary()"
   ]
  },
  {
   "cell_type": "code",
   "execution_count": 195,
   "metadata": {},
   "outputs": [
    {
     "name": "stdout",
     "output_type": "stream",
     "text": [
      "\n",
      "Network Copy Test #2: 3 nodes, 9 edges\n",
      "  Algebra: Extended_Linear_Interval_Algebra\n",
      "  X:['ProperInterval']\n",
      "    => X: E\n",
      "    => Y: B\n",
      "    => Z: B\n",
      "  Y:['ProperInterval']\n",
      "    => Y: E\n",
      "    => X: BI\n",
      "    => Z: B\n",
      "  Z:['ProperInterval']\n",
      "    => Z: E\n",
      "    => Y: BI\n",
      "    => X: BI\n"
     ]
    }
   ],
   "source": [
    "test2_net.propagate()\n",
    "test2_net.summary()"
   ]
  },
  {
   "cell_type": "markdown",
   "metadata": {},
   "source": [
    "### Test Short Version of Network Summary"
   ]
  },
  {
   "cell_type": "code",
   "execution_count": 196,
   "metadata": {},
   "outputs": [
    {
     "name": "stdout",
     "output_type": "stream",
     "text": [
      "\n",
      "Network Copy Test #1: 4 nodes, 16 edges\n",
      "  Algebra: Extended_Linear_Interval_Algebra\n",
      "  U:['ProperInterval']\n",
      "    => U: E\n",
      "    => V: B\n",
      "    => W: M\n",
      "    => X: B\n",
      "  V:['ProperInterval']\n",
      "    => V: E\n",
      "    => W: OI\n",
      "    => X: BI|DI|PSI\n",
      "  W:['ProperInterval']\n",
      "    => W: E\n",
      "    => X: DI\n",
      "  X:['Point']\n",
      "    => X: PE\n"
     ]
    }
   ],
   "source": [
    "test1_net.summary(show_all=False)"
   ]
  },
  {
   "cell_type": "markdown",
   "metadata": {},
   "source": [
    "## Test Changing Constraint on an Edge"
   ]
  },
  {
   "cell_type": "markdown",
   "metadata": {},
   "source": [
    "Look at all the edge contraints"
   ]
  },
  {
   "cell_type": "code",
   "execution_count": 197,
   "metadata": {},
   "outputs": [
    {
     "name": "stdout",
     "output_type": "stream",
     "text": [
      "E\n",
      "B\n",
      "M\n",
      "B\n",
      "E\n",
      "BI\n",
      "OI\n",
      "BI|DI|PSI\n",
      "E\n",
      "MI\n",
      "O\n",
      "DI\n",
      "PE\n",
      "D\n",
      "BI\n",
      "B|D|PS\n"
     ]
    }
   ],
   "source": [
    "for eg in test1_net.edges:\n",
    "    print(test1_net.edges[eg[0], eg[1]]['constraint'])"
   ]
  },
  {
   "cell_type": "markdown",
   "metadata": {},
   "source": [
    "Grab the Head (src) and Tail (tgt) of the 3rd edge, above."
   ]
  },
  {
   "cell_type": "code",
   "execution_count": 198,
   "metadata": {},
   "outputs": [
    {
     "data": {
      "text/plain": [
       "relset(['M'])"
      ]
     },
     "execution_count": 198,
     "metadata": {},
     "output_type": "execute_result"
    }
   ],
   "source": [
    "src, tgt = list(test1_net.edges)[2]\n",
    "test1_net.edges[src,tgt]['constraint']"
   ]
  },
  {
   "cell_type": "markdown",
   "metadata": {},
   "source": [
    "Change the constraint and look at the result on the edge & its converse."
   ]
  },
  {
   "cell_type": "code",
   "execution_count": 199,
   "metadata": {},
   "outputs": [],
   "source": [
    "test1_net.set_constraint(src, tgt, test1_net.algebra.relset('D|M|FI'))"
   ]
  },
  {
   "cell_type": "code",
   "execution_count": 200,
   "metadata": {},
   "outputs": [
    {
     "data": {
      "text/plain": [
       "relset(['D', 'FI', 'M'])"
      ]
     },
     "execution_count": 200,
     "metadata": {},
     "output_type": "execute_result"
    }
   ],
   "source": [
    "test1_net.edges[src,tgt]['constraint']"
   ]
  },
  {
   "cell_type": "code",
   "execution_count": 201,
   "metadata": {},
   "outputs": [
    {
     "data": {
      "text/plain": [
       "relset(['DI', 'F', 'MI'])"
      ]
     },
     "execution_count": 201,
     "metadata": {},
     "output_type": "execute_result"
    }
   ],
   "source": [
    "test1_net.edges[tgt,src]['constraint']"
   ]
  },
  {
   "cell_type": "markdown",
   "metadata": {},
   "source": [
    "## Test Copy Network"
   ]
  },
  {
   "cell_type": "code",
   "execution_count": 202,
   "metadata": {},
   "outputs": [],
   "source": [
    "test1_net_copy = test1_net.copy()\n",
    "#test1_net_copy = qr.copy(test1_net)"
   ]
  },
  {
   "cell_type": "code",
   "execution_count": 203,
   "metadata": {},
   "outputs": [
    {
     "name": "stdout",
     "output_type": "stream",
     "text": [
      "\n",
      "Network Copy Test #1: 4 nodes, 16 edges\n",
      "  Algebra: Extended_Linear_Interval_Algebra\n",
      "  U:['ProperInterval']\n",
      "    => U: E\n",
      "    => V: B\n",
      "    => W: D|FI|M\n",
      "    => X: B\n",
      "  V:['ProperInterval']\n",
      "    => V: E\n",
      "    => U: BI\n",
      "    => W: OI\n",
      "    => X: BI|DI|PSI\n",
      "  W:['ProperInterval']\n",
      "    => W: E\n",
      "    => U: DI|F|MI\n",
      "    => V: O\n",
      "    => X: DI\n",
      "  X:['Point']\n",
      "    => X: PE\n",
      "    => U: BI\n",
      "    => V: B|D|PS\n",
      "    => W: D\n"
     ]
    }
   ],
   "source": [
    "test1_net_copy.summary()"
   ]
  },
  {
   "cell_type": "code",
   "execution_count": 204,
   "metadata": {},
   "outputs": [
    {
     "name": "stdout",
     "output_type": "stream",
     "text": [
      "U U E\n",
      "U V B\n",
      "U W D|FI|M\n",
      "U X B\n",
      "V V E\n",
      "V W OI\n",
      "V X BI|DI|PSI\n",
      "W W E\n",
      "W X DI\n",
      "X X PE\n"
     ]
    }
   ],
   "source": [
    "done = []\n",
    "result = []\n",
    "for eg in test1_net.edges:\n",
    "    src = eg[0]; tgt = eg[1]\n",
    "    srcID = src.name; tgtID = tgt.name\n",
    "    if not (src, tgt) in done:\n",
    "        cons = test1_net.edges[src, tgt]['constraint']\n",
    "        print(srcID, tgtID, cons)\n",
    "        if len(cons) > 1:\n",
    "            result.append((srcID, tgtID, cons))\n",
    "    done.append((tgt, src))"
   ]
  },
  {
   "cell_type": "code",
   "execution_count": 205,
   "metadata": {},
   "outputs": [],
   "source": [
    "rels = []\n",
    "for rel in result[0][2]:\n",
    "    rels.append(rel)"
   ]
  },
  {
   "cell_type": "code",
   "execution_count": 206,
   "metadata": {},
   "outputs": [
    {
     "data": {
      "text/plain": [
       "['D', 'FI', 'M']"
      ]
     },
     "execution_count": 206,
     "metadata": {},
     "output_type": "execute_result"
    }
   ],
   "source": [
    "rels"
   ]
  },
  {
   "cell_type": "code",
   "execution_count": 211,
   "metadata": {},
   "outputs": [],
   "source": [
    "def generate_singletons(in_work, result):\n",
    "    if len(in_work) == 0:\n",
    "        print(\"DONE\")\n",
    "        return result\n",
    "    else:\n",
    "        print(\"Get next net in work\")\n",
    "        next_net = in_work.pop()\n",
    "        if finished(next_net):\n",
    "            print(\"   This one's finished\")\n",
    "            result.append(next_net)\n",
    "            generate_singletons(in_work, result)\n",
    "        else:\n",
    "            print(\"   Expanding net\")\n",
    "            generate_singletons(in_work + expand(next_net), result)\n",
    "\n",
    "def expand(net):\n",
    "    expansion = []\n",
    "    for src, tgt in net.edges:\n",
    "        edge_constraint = net.edges[src, tgt]['constraint']\n",
    "        if len(edge_constraint) > 1:\n",
    "            print(\"--------\")\n",
    "            print(edge_constraint)\n",
    "            for rel in edge_constraint:\n",
    "                print(rel)\n",
    "                net_copy = net.copy()\n",
    "                src_node, tgt_node, _ = net_copy.get_edge_by_names(src.name, tgt.name, return_names=False)\n",
    "                net_copy.set_constraint(src_node, tgt_node, net_copy.algebra.relset(rel))\n",
    "                expansion.append(net_copy)\n",
    "                print(expansion)\n",
    "            break\n",
    "    return expansion\n",
    "\n",
    "def finished(net):\n",
    "    \"\"\"Returns True if all constraints are singletons.\"\"\"\n",
    "    answer = True\n",
    "    for src, tgt in net.edges:\n",
    "        edge_constraint = net.edges[src, tgt]['constraint']\n",
    "        if len(edge_constraint) > 1:\n",
    "            answer = False\n",
    "            break\n",
    "    return answer"
   ]
  },
  {
   "cell_type": "code",
   "execution_count": 220,
   "metadata": {},
   "outputs": [
    {
     "name": "stdout",
     "output_type": "stream",
     "text": [
      "Get next net in work\n",
      "   Expanding net\n",
      "--------\n",
      "D|FI|M\n",
      "D\n",
      "[<qualreas.Network object at 0x7fc2e9ae7510>]\n",
      "FI\n",
      "[<qualreas.Network object at 0x7fc2e9ae7510>, <qualreas.Network object at 0x7fc2e9ae7c10>]\n",
      "M\n",
      "[<qualreas.Network object at 0x7fc2e9ae7510>, <qualreas.Network object at 0x7fc2e9ae7c10>, <qualreas.Network object at 0x7fc2e93052d0>]\n",
      "Get next net in work\n",
      "   Expanding net\n",
      "--------\n",
      "BI|DI|PSI\n",
      "BI\n",
      "[<qualreas.Network object at 0x7fc2e94487d0>]\n",
      "DI\n",
      "[<qualreas.Network object at 0x7fc2e94487d0>, <qualreas.Network object at 0x7fc2e8fe7e50>]\n",
      "PSI\n",
      "[<qualreas.Network object at 0x7fc2e94487d0>, <qualreas.Network object at 0x7fc2e8fe7e50>, <qualreas.Network object at 0x7fc3090e2b50>]\n",
      "Get next net in work\n",
      "   This one's finished\n",
      "Get next net in work\n",
      "   This one's finished\n",
      "Get next net in work\n",
      "   This one's finished\n",
      "Get next net in work\n",
      "   Expanding net\n",
      "--------\n",
      "BI|DI|PSI\n",
      "BI\n",
      "[<qualreas.Network object at 0x7fc3092e9950>]\n",
      "DI\n",
      "[<qualreas.Network object at 0x7fc3092e9950>, <qualreas.Network object at 0x7fc2e92b7290>]\n",
      "PSI\n",
      "[<qualreas.Network object at 0x7fc3092e9950>, <qualreas.Network object at 0x7fc2e92b7290>, <qualreas.Network object at 0x7fc3092e9590>]\n",
      "Get next net in work\n",
      "   This one's finished\n",
      "Get next net in work\n",
      "   This one's finished\n",
      "Get next net in work\n",
      "   This one's finished\n",
      "Get next net in work\n",
      "   Expanding net\n",
      "--------\n",
      "BI|DI|PSI\n",
      "BI\n",
      "[<qualreas.Network object at 0x7fc2e987f650>]\n",
      "DI\n",
      "[<qualreas.Network object at 0x7fc2e987f650>, <qualreas.Network object at 0x7fc2e987fa50>]\n",
      "PSI\n",
      "[<qualreas.Network object at 0x7fc2e987f650>, <qualreas.Network object at 0x7fc2e987fa50>, <qualreas.Network object at 0x7fc2e987fd90>]\n",
      "Get next net in work\n",
      "   This one's finished\n",
      "Get next net in work\n",
      "   This one's finished\n",
      "Get next net in work\n",
      "   This one's finished\n",
      "DONE\n"
     ]
    }
   ],
   "source": [
    "x = generate_singletons([test1_net], list())"
   ]
  },
  {
   "cell_type": "code",
   "execution_count": 221,
   "metadata": {},
   "outputs": [
    {
     "ename": "TypeError",
     "evalue": "object of type 'NoneType' has no len()",
     "output_type": "error",
     "traceback": [
      "\u001b[0;31m---------------------------------------------------------------------------\u001b[0m",
      "\u001b[0;31mTypeError\u001b[0m                                 Traceback (most recent call last)",
      "\u001b[0;32m<ipython-input-221-a7f4a5366567>\u001b[0m in \u001b[0;36m<module>\u001b[0;34m\u001b[0m\n\u001b[0;32m----> 1\u001b[0;31m \u001b[0mlen\u001b[0m\u001b[0;34m(\u001b[0m\u001b[0mx\u001b[0m\u001b[0;34m)\u001b[0m\u001b[0;34m\u001b[0m\u001b[0;34m\u001b[0m\u001b[0m\n\u001b[0m",
      "\u001b[0;31mTypeError\u001b[0m: object of type 'NoneType' has no len()"
     ]
    }
   ],
   "source": [
    "len(x)"
   ]
  },
  {
   "cell_type": "code",
   "execution_count": 214,
   "metadata": {},
   "outputs": [
    {
     "name": "stdout",
     "output_type": "stream",
     "text": [
      "--------\n",
      "D|FI|M\n",
      "D\n",
      "[<qualreas.Network object at 0x7fc318a5fed0>]\n",
      "FI\n",
      "[<qualreas.Network object at 0x7fc318a5fed0>, <qualreas.Network object at 0x7fc2e93ccd50>]\n",
      "M\n",
      "[<qualreas.Network object at 0x7fc318a5fed0>, <qualreas.Network object at 0x7fc2e93ccd50>, <qualreas.Network object at 0x7fc2e8fe74d0>]\n"
     ]
    },
    {
     "data": {
      "text/plain": [
       "[<qualreas.Network at 0x7fc318a5fed0>,\n",
       " <qualreas.Network at 0x7fc2e93ccd50>,\n",
       " <qualreas.Network at 0x7fc2e8fe74d0>]"
      ]
     },
     "execution_count": 214,
     "metadata": {},
     "output_type": "execute_result"
    }
   ],
   "source": [
    "foo = expand(test1_net)\n",
    "foo"
   ]
  },
  {
   "cell_type": "code",
   "execution_count": 215,
   "metadata": {},
   "outputs": [
    {
     "name": "stdout",
     "output_type": "stream",
     "text": [
      "\n",
      "Network Copy Test #1: 4 nodes, 16 edges\n",
      "  Algebra: Extended_Linear_Interval_Algebra\n",
      "  U:['ProperInterval']\n",
      "    => U: E\n",
      "    => V: B\n",
      "    => W: D\n",
      "    => X: B\n",
      "  V:['ProperInterval']\n",
      "    => V: E\n",
      "    => W: OI\n",
      "    => X: BI|DI|PSI\n",
      "  W:['ProperInterval']\n",
      "    => W: E\n",
      "    => X: DI\n",
      "  X:['Point']\n",
      "    => X: PE\n"
     ]
    }
   ],
   "source": [
    "foo[0].summary(show_all=False)"
   ]
  },
  {
   "cell_type": "code",
   "execution_count": 216,
   "metadata": {},
   "outputs": [
    {
     "name": "stdout",
     "output_type": "stream",
     "text": [
      "\n",
      "Network Copy Test #1: 4 nodes, 16 edges\n",
      "  Algebra: Extended_Linear_Interval_Algebra\n",
      "  U:['ProperInterval']\n",
      "    => U: E\n",
      "    => V: B\n",
      "    => W: FI\n",
      "    => X: B\n",
      "  V:['ProperInterval']\n",
      "    => V: E\n",
      "    => W: OI\n",
      "    => X: BI|DI|PSI\n",
      "  W:['ProperInterval']\n",
      "    => W: E\n",
      "    => X: DI\n",
      "  X:['Point']\n",
      "    => X: PE\n"
     ]
    }
   ],
   "source": [
    "foo[1].summary(show_all=False)"
   ]
  },
  {
   "cell_type": "code",
   "execution_count": 217,
   "metadata": {},
   "outputs": [
    {
     "name": "stdout",
     "output_type": "stream",
     "text": [
      "\n",
      "Network Copy Test #1: 4 nodes, 16 edges\n",
      "  Algebra: Extended_Linear_Interval_Algebra\n",
      "  U:['ProperInterval']\n",
      "    => U: E\n",
      "    => V: B\n",
      "    => W: M\n",
      "    => X: B\n",
      "  V:['ProperInterval']\n",
      "    => V: E\n",
      "    => W: OI\n",
      "    => X: BI|DI|PSI\n",
      "  W:['ProperInterval']\n",
      "    => W: E\n",
      "    => X: DI\n",
      "  X:['Point']\n",
      "    => X: PE\n"
     ]
    }
   ],
   "source": [
    "foo[2].summary(show_all=False)"
   ]
  },
  {
   "cell_type": "code",
   "execution_count": 218,
   "metadata": {},
   "outputs": [
    {
     "data": {
      "text/plain": [
       "False"
      ]
     },
     "execution_count": 218,
     "metadata": {},
     "output_type": "execute_result"
    }
   ],
   "source": [
    "finished(test1_net)"
   ]
  },
  {
   "cell_type": "code",
   "execution_count": 219,
   "metadata": {},
   "outputs": [
    {
     "data": {
      "text/plain": [
       "True"
      ]
     },
     "execution_count": 219,
     "metadata": {},
     "output_type": "execute_result"
    }
   ],
   "source": [
    "finished(test2_net)"
   ]
  },
  {
   "cell_type": "code",
   "execution_count": null,
   "metadata": {},
   "outputs": [],
   "source": []
  }
 ],
 "metadata": {
  "kernelspec": {
   "display_name": "Python 3",
   "language": "python",
   "name": "python3"
  },
  "language_info": {
   "codemirror_mode": {
    "name": "ipython",
    "version": 3
   },
   "file_extension": ".py",
   "mimetype": "text/x-python",
   "name": "python",
   "nbconvert_exporter": "python",
   "pygments_lexer": "ipython3",
   "version": "3.7.7"
  }
 },
 "nbformat": 4,
 "nbformat_minor": 4
}
