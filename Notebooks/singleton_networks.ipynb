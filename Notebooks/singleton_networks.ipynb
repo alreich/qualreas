{
 "cells": [
  {
   "cell_type": "markdown",
   "metadata": {},
   "source": [
    "# Singleton Networks"
   ]
  },
  {
   "cell_type": "code",
   "execution_count": 76,
   "metadata": {},
   "outputs": [],
   "source": [
    "import qualreas as qr\n",
    "import os\n",
    "import copy"
   ]
  },
  {
   "cell_type": "code",
   "execution_count": 77,
   "metadata": {},
   "outputs": [],
   "source": [
    "qr_path = os.path.join(os.getenv('PYPROJ'), 'qualreas')\n",
    "alg_dir = os.path.join(qr_path, \"Algebras\")"
   ]
  },
  {
   "cell_type": "markdown",
   "metadata": {},
   "source": [
    "## Make a Test Network"
   ]
  },
  {
   "cell_type": "code",
   "execution_count": 78,
   "metadata": {},
   "outputs": [],
   "source": [
    "test1_net_dict = {\n",
    "    'name': 'Network Copy Test #1',\n",
    "    'algebra': 'Extended_Linear_Interval_Algebra',\n",
    "    'description': 'Testing/Developing network copy functionality',\n",
    "    'nodes': [\n",
    "        ['U', ['ProperInterval', 'Point']],\n",
    "        ['V', ['ProperInterval', 'Point']],\n",
    "        ['W', ['ProperInterval']],\n",
    "        ['X', ['Point']]\n",
    "    ],\n",
    "    'edges': [\n",
    "        ['U', 'V', 'B'],\n",
    "        ['U', 'W', 'B|M|O'],\n",
    "        ['W', 'V', 'M|O'],\n",
    "        ['X', 'W', 'D']\n",
    "    ]\n",
    "}"
   ]
  },
  {
   "cell_type": "code",
   "execution_count": 79,
   "metadata": {},
   "outputs": [],
   "source": [
    "test1_net = qr.Network(algebra_path=alg_dir, network_dict=test1_net_dict)"
   ]
  },
  {
   "cell_type": "code",
   "execution_count": 80,
   "metadata": {},
   "outputs": [
    {
     "name": "stdout",
     "output_type": "stream",
     "text": [
      "\n",
      "Network Copy Test #1: 4 nodes, 12 edges\n",
      "  Algebra: Extended_Linear_Interval_Algebra\n",
      "  U:['ProperInterval', 'Point']\n",
      "    => U: E|PE\n",
      "    => V: B\n",
      "    => W: B|M|O\n",
      "  V:['ProperInterval', 'Point']\n",
      "    => V: E|PE\n",
      "    => U: BI\n",
      "    => W: MI|OI\n",
      "  W:['ProperInterval']\n",
      "    => W: E\n",
      "    => U: BI|MI|OI\n",
      "    => V: M|O\n",
      "    => X: DI\n",
      "  X:['Point']\n",
      "    => X: PE\n",
      "    => W: D\n"
     ]
    }
   ],
   "source": [
    "test1_net.summary()"
   ]
  },
  {
   "cell_type": "code",
   "execution_count": 81,
   "metadata": {},
   "outputs": [
    {
     "name": "stdout",
     "output_type": "stream",
     "text": [
      "\n",
      "Network Copy Test #1: 4 nodes, 16 edges\n",
      "  Algebra: Extended_Linear_Interval_Algebra\n",
      "  U:['Point', 'ProperInterval']\n",
      "    => U: E|PE\n",
      "    => V: B\n",
      "    => W: B|M|O\n",
      "    => X: B|DI|PFI\n",
      "  V:['ProperInterval']\n",
      "    => V: E\n",
      "    => U: BI\n",
      "    => W: MI|OI\n",
      "    => X: BI|DI|PSI\n",
      "  W:['ProperInterval']\n",
      "    => W: E\n",
      "    => U: BI|MI|OI\n",
      "    => V: M|O\n",
      "    => X: DI\n",
      "  X:['Point']\n",
      "    => X: PE\n",
      "    => W: D\n",
      "    => U: BI|D|PF\n",
      "    => V: B|D|PS\n"
     ]
    }
   ],
   "source": [
    "test1_net.propagate()\n",
    "test1_net.summary()"
   ]
  },
  {
   "cell_type": "markdown",
   "metadata": {},
   "source": [
    "### Test Short Version of Network Summary"
   ]
  },
  {
   "cell_type": "code",
   "execution_count": 82,
   "metadata": {},
   "outputs": [
    {
     "name": "stdout",
     "output_type": "stream",
     "text": [
      "\n",
      "Network Copy Test #1: 4 nodes, 16 edges\n",
      "  Algebra: Extended_Linear_Interval_Algebra\n",
      "  U:['Point', 'ProperInterval']\n",
      "    => U: E|PE\n",
      "    => V: B\n",
      "    => W: B|M|O\n",
      "    => X: B|DI|PFI\n",
      "  V:['ProperInterval']\n",
      "    => V: E\n",
      "    => W: MI|OI\n",
      "    => X: BI|DI|PSI\n",
      "  W:['ProperInterval']\n",
      "    => W: E\n",
      "    => X: DI\n",
      "  X:['Point']\n",
      "    => X: PE\n"
     ]
    }
   ],
   "source": [
    "test1_net.summary(show_all=False)"
   ]
  },
  {
   "cell_type": "markdown",
   "metadata": {},
   "source": [
    "## Test Changing Constraint on an Edge"
   ]
  },
  {
   "cell_type": "markdown",
   "metadata": {},
   "source": [
    "Look at all the edge contraints"
   ]
  },
  {
   "cell_type": "code",
   "execution_count": 83,
   "metadata": {},
   "outputs": [
    {
     "name": "stdout",
     "output_type": "stream",
     "text": [
      "E|PE\n",
      "B\n",
      "B|M|O\n",
      "B|DI|PFI\n",
      "E\n",
      "BI\n",
      "MI|OI\n",
      "BI|DI|PSI\n",
      "E\n",
      "BI|MI|OI\n",
      "M|O\n",
      "DI\n",
      "PE\n",
      "D\n",
      "BI|D|PF\n",
      "B|D|PS\n"
     ]
    }
   ],
   "source": [
    "for eg in test1_net.edges:\n",
    "    print(test1_net.edges[eg[0], eg[1]]['constraint'])"
   ]
  },
  {
   "cell_type": "markdown",
   "metadata": {},
   "source": [
    "Grab the Head (src) and Tail (tgt) of the 3rd edge, above."
   ]
  },
  {
   "cell_type": "code",
   "execution_count": 84,
   "metadata": {},
   "outputs": [
    {
     "data": {
      "text/plain": [
       "relset(['B', 'M', 'O'])"
      ]
     },
     "execution_count": 84,
     "metadata": {},
     "output_type": "execute_result"
    }
   ],
   "source": [
    "src, tgt = list(test1_net.edges)[2]\n",
    "test1_net.edges[src,tgt]['constraint']"
   ]
  },
  {
   "cell_type": "markdown",
   "metadata": {},
   "source": [
    "Change the constraint and look at the result on the edge & its converse."
   ]
  },
  {
   "cell_type": "code",
   "execution_count": 85,
   "metadata": {},
   "outputs": [],
   "source": [
    "test1_net.set_constraint(src, tgt, test1_net.algebra.relset('D|M|FI'))"
   ]
  },
  {
   "cell_type": "code",
   "execution_count": 86,
   "metadata": {},
   "outputs": [
    {
     "data": {
      "text/plain": [
       "relset(['D', 'FI', 'M'])"
      ]
     },
     "execution_count": 86,
     "metadata": {},
     "output_type": "execute_result"
    }
   ],
   "source": [
    "test1_net.edges[src,tgt]['constraint']"
   ]
  },
  {
   "cell_type": "code",
   "execution_count": 87,
   "metadata": {},
   "outputs": [
    {
     "data": {
      "text/plain": [
       "relset(['DI', 'F', 'MI'])"
      ]
     },
     "execution_count": 87,
     "metadata": {},
     "output_type": "execute_result"
    }
   ],
   "source": [
    "test1_net.edges[tgt,src]['constraint']"
   ]
  },
  {
   "cell_type": "markdown",
   "metadata": {},
   "source": [
    "## Test Copy Network"
   ]
  },
  {
   "cell_type": "code",
   "execution_count": 88,
   "metadata": {},
   "outputs": [],
   "source": [
    "test1_net_copy = test1_net.copy()\n",
    "#test1_net_copy = qr.copy(test1_net)"
   ]
  },
  {
   "cell_type": "code",
   "execution_count": 89,
   "metadata": {},
   "outputs": [
    {
     "name": "stdout",
     "output_type": "stream",
     "text": [
      "\n",
      "Network Copy Test #1: 4 nodes, 16 edges\n",
      "  Algebra: Extended_Linear_Interval_Algebra\n",
      "  U:['Point', 'ProperInterval']\n",
      "    => U: E|PE\n",
      "    => V: B\n",
      "    => W: D|FI|M\n",
      "    => X: B|DI|PFI\n",
      "  V:['ProperInterval']\n",
      "    => V: E\n",
      "    => U: BI\n",
      "    => W: MI|OI\n",
      "    => X: BI|DI|PSI\n",
      "  W:['ProperInterval']\n",
      "    => W: E\n",
      "    => U: DI|F|MI\n",
      "    => V: M|O\n",
      "    => X: DI\n",
      "  X:['Point']\n",
      "    => X: PE\n",
      "    => U: BI|D|PF\n",
      "    => V: B|D|PS\n",
      "    => W: D\n"
     ]
    }
   ],
   "source": [
    "test1_net_copy.summary()"
   ]
  },
  {
   "cell_type": "code",
   "execution_count": 90,
   "metadata": {},
   "outputs": [
    {
     "name": "stdout",
     "output_type": "stream",
     "text": [
      "[TemporalEntity(['Point', 'ProperInterval'] 'U'), TemporalEntity(['Point', 'ProperInterval'] 'U')]\n",
      "[TemporalEntity(['Point', 'ProperInterval'] 'U'), TemporalEntity(['ProperInterval'] 'W')]\n",
      "[TemporalEntity(['Point', 'ProperInterval'] 'U'), TemporalEntity(['Point'] 'X')]\n",
      "[TemporalEntity(['ProperInterval'] 'V'), TemporalEntity(['ProperInterval'] 'W')]\n",
      "[TemporalEntity(['ProperInterval'] 'V'), TemporalEntity(['Point'] 'X')]\n"
     ]
    }
   ],
   "source": [
    "unique_edges = []\n",
    "for src,tgt in test1_net.edges:\n",
    "    if [tgt,src] not in unique_edges:\n",
    "        unique_edges.append([src,tgt])\n",
    "\n",
    "for ue in unique_edges:\n",
    "    cons = test1_net.edges[ue[0],ue[1]]['constraint']\n",
    "    if len(cons) > 1:\n",
    "        print(ue)"
   ]
  },
  {
   "cell_type": "code",
   "execution_count": 91,
   "metadata": {},
   "outputs": [
    {
     "name": "stdout",
     "output_type": "stream",
     "text": [
      "E|PE\n",
      "D|FI|M\n",
      "B|DI|PFI\n",
      "MI|OI\n",
      "BI|DI|PSI\n"
     ]
    }
   ],
   "source": [
    "# Create a list of unique edges with multiple constraints\n",
    "unique_edges = []\n",
    "for src,tgt in test1_net.edges:\n",
    "    if [tgt,src] not in unique_edges:\n",
    "        if len(test1_net.edges[src,tgt]['constraint']) > 1:\n",
    "            unique_edges.append([src,tgt])\n",
    "\n",
    "for src, tgt in unique_edges:\n",
    "    print(test1_net.edges[src,tgt]['constraint'])"
   ]
  },
  {
   "cell_type": "code",
   "execution_count": 92,
   "metadata": {},
   "outputs": [
    {
     "data": {
      "text/plain": [
       "[TemporalEntity(['Point', 'ProperInterval'] 'U'),\n",
       " TemporalEntity(['Point', 'ProperInterval'] 'U')]"
      ]
     },
     "execution_count": 92,
     "metadata": {},
     "output_type": "execute_result"
    }
   ],
   "source": [
    "ue0 = unique_edges[0]\n",
    "ue0"
   ]
  },
  {
   "cell_type": "code",
   "execution_count": 93,
   "metadata": {},
   "outputs": [
    {
     "data": {
      "text/plain": [
       "[TemporalEntity(['Point', 'ProperInterval'] 'U'),\n",
       " TemporalEntity(['ProperInterval'] 'W')]"
      ]
     },
     "execution_count": 93,
     "metadata": {},
     "output_type": "execute_result"
    }
   ],
   "source": [
    "ue1 = unique_edges[1]\n",
    "ue1"
   ]
  },
  {
   "cell_type": "code",
   "execution_count": 94,
   "metadata": {},
   "outputs": [
    {
     "name": "stdout",
     "output_type": "stream",
     "text": [
      "E\n",
      "PE\n"
     ]
    }
   ],
   "source": [
    "for rel in test1_net.edges[ue0[0], ue0[1]]['constraint']:\n",
    "    print(rel)"
   ]
  },
  {
   "cell_type": "code",
   "execution_count": 95,
   "metadata": {},
   "outputs": [
    {
     "name": "stdout",
     "output_type": "stream",
     "text": [
      "D\n",
      "FI\n",
      "M\n"
     ]
    }
   ],
   "source": [
    "for rel in test1_net.edges[ue1[0], ue1[1]]['constraint']:\n",
    "    print(rel)"
   ]
  },
  {
   "cell_type": "code",
   "execution_count": 96,
   "metadata": {},
   "outputs": [
    {
     "data": {
      "text/plain": [
       "relset(['D'])"
      ]
     },
     "execution_count": 96,
     "metadata": {},
     "output_type": "execute_result"
    }
   ],
   "source": [
    "test1_net.algebra.relset(\"D\")"
   ]
  },
  {
   "cell_type": "code",
   "execution_count": 98,
   "metadata": {},
   "outputs": [
    {
     "name": "stdout",
     "output_type": "stream",
     "text": [
      "D\n",
      "FI\n",
      "M\n"
     ]
    }
   ],
   "source": [
    "for rel in test1_net.edges[ue1[0], ue1[1]]['constraint']:\n",
    "    print(rel)"
   ]
  },
  {
   "cell_type": "code",
   "execution_count": 99,
   "metadata": {},
   "outputs": [
    {
     "name": "stdout",
     "output_type": "stream",
     "text": [
      "\n",
      "Network Copy Test #1: 4 nodes, 16 edges\n",
      "  Algebra: Extended_Linear_Interval_Algebra\n",
      "  U:['Point', 'ProperInterval']\n",
      "    => U: E|PE\n",
      "    => V: B\n",
      "    => W: D\n",
      "    => X: B|DI|PFI\n",
      "  V:['ProperInterval']\n",
      "    => V: E\n",
      "    => U: BI\n",
      "    => W: MI|OI\n",
      "    => X: BI|DI|PSI\n",
      "  W:['ProperInterval']\n",
      "    => W: E\n",
      "    => U: DI\n",
      "    => V: M|O\n",
      "    => X: DI\n",
      "  X:['Point']\n",
      "    => X: PE\n",
      "    => W: D\n",
      "    => U: BI|D|PF\n",
      "    => V: B|D|PS\n"
     ]
    }
   ],
   "source": [
    "test1_net.set_constraint(ue1[0], ue1[1], net_copy.algebra.relset(\"D\"))\n",
    "test1_net.summary()"
   ]
  },
  {
   "cell_type": "code",
   "execution_count": 100,
   "metadata": {},
   "outputs": [
    {
     "ename": "KeyError",
     "evalue": "TemporalEntity(['Point', 'ProperInterval'] 'U')",
     "output_type": "error",
     "traceback": [
      "\u001b[0;31m---------------------------------------------------------------------------\u001b[0m",
      "\u001b[0;31mKeyError\u001b[0m                                  Traceback (most recent call last)",
      "\u001b[0;32m<ipython-input-100-7b98e945672c>\u001b[0m in \u001b[0;36m<module>\u001b[0;34m\u001b[0m\n\u001b[1;32m      3\u001b[0m     \u001b[0;31m#print(ue1[0], ue1[1], rel)\u001b[0m\u001b[0;34m\u001b[0m\u001b[0;34m\u001b[0m\u001b[0;34m\u001b[0m\u001b[0m\n\u001b[1;32m      4\u001b[0m     \u001b[0mnet_copy\u001b[0m \u001b[0;34m=\u001b[0m \u001b[0mtest1_net\u001b[0m\u001b[0;34m.\u001b[0m\u001b[0mcopy\u001b[0m\u001b[0;34m(\u001b[0m\u001b[0;34m)\u001b[0m\u001b[0;34m\u001b[0m\u001b[0;34m\u001b[0m\u001b[0m\n\u001b[0;32m----> 5\u001b[0;31m     \u001b[0mnet_copy\u001b[0m\u001b[0;34m.\u001b[0m\u001b[0mset_constraint\u001b[0m\u001b[0;34m(\u001b[0m\u001b[0mue1\u001b[0m\u001b[0;34m[\u001b[0m\u001b[0;36m0\u001b[0m\u001b[0;34m]\u001b[0m\u001b[0;34m,\u001b[0m \u001b[0mue1\u001b[0m\u001b[0;34m[\u001b[0m\u001b[0;36m1\u001b[0m\u001b[0;34m]\u001b[0m\u001b[0;34m,\u001b[0m \u001b[0mnet_copy\u001b[0m\u001b[0;34m.\u001b[0m\u001b[0malgebra\u001b[0m\u001b[0;34m.\u001b[0m\u001b[0mrelset\u001b[0m\u001b[0;34m(\u001b[0m\u001b[0mrel\u001b[0m\u001b[0;34m)\u001b[0m\u001b[0;34m)\u001b[0m\u001b[0;34m\u001b[0m\u001b[0;34m\u001b[0m\u001b[0m\n\u001b[0m\u001b[1;32m      6\u001b[0m     \u001b[0mnet_copies\u001b[0m\u001b[0;34m.\u001b[0m\u001b[0mappend\u001b[0m\u001b[0;34m(\u001b[0m\u001b[0mnet_copy\u001b[0m\u001b[0;34m)\u001b[0m\u001b[0;34m\u001b[0m\u001b[0;34m\u001b[0m\u001b[0m\n",
      "\u001b[0;32m~/Documents/Github/repo/qualreas/Source/qualreas.py\u001b[0m in \u001b[0;36mset_constraint\u001b[0;34m(self, src, tgt, relset)\u001b[0m\n\u001b[1;32m    563\u001b[0m         \"\"\"Assuming that an edge exists between src & tgt, this function destructively changes\n\u001b[1;32m    564\u001b[0m          whatever constraint was between them to be relset\"\"\"\n\u001b[0;32m--> 565\u001b[0;31m         \u001b[0mself\u001b[0m\u001b[0;34m.\u001b[0m\u001b[0medges\u001b[0m\u001b[0;34m[\u001b[0m\u001b[0msrc\u001b[0m\u001b[0;34m,\u001b[0m \u001b[0mtgt\u001b[0m\u001b[0;34m]\u001b[0m\u001b[0;34m[\u001b[0m\u001b[0;34m'constraint'\u001b[0m\u001b[0;34m]\u001b[0m \u001b[0;34m=\u001b[0m \u001b[0mrelset\u001b[0m\u001b[0;34m\u001b[0m\u001b[0;34m\u001b[0m\u001b[0m\n\u001b[0m\u001b[1;32m    566\u001b[0m         \u001b[0;31m# Don't bother looking at the converse for equality relations\u001b[0m\u001b[0;34m\u001b[0m\u001b[0;34m\u001b[0m\u001b[0;34m\u001b[0m\u001b[0m\n\u001b[1;32m    567\u001b[0m         \u001b[0;32mif\u001b[0m \u001b[0msrc\u001b[0m \u001b[0;34m!=\u001b[0m \u001b[0mtgt\u001b[0m\u001b[0;34m:\u001b[0m\u001b[0;34m\u001b[0m\u001b[0;34m\u001b[0m\u001b[0m\n",
      "\u001b[0;32m~/anaconda3/lib/python3.7/site-packages/networkx/classes/reportviews.py\u001b[0m in \u001b[0;36m__getitem__\u001b[0;34m(self, e)\u001b[0m\n\u001b[1;32m   1014\u001b[0m     \u001b[0;32mdef\u001b[0m \u001b[0m__getitem__\u001b[0m\u001b[0;34m(\u001b[0m\u001b[0mself\u001b[0m\u001b[0;34m,\u001b[0m \u001b[0me\u001b[0m\u001b[0;34m)\u001b[0m\u001b[0;34m:\u001b[0m\u001b[0;34m\u001b[0m\u001b[0;34m\u001b[0m\u001b[0m\n\u001b[1;32m   1015\u001b[0m         \u001b[0mu\u001b[0m\u001b[0;34m,\u001b[0m \u001b[0mv\u001b[0m \u001b[0;34m=\u001b[0m \u001b[0me\u001b[0m\u001b[0;34m\u001b[0m\u001b[0;34m\u001b[0m\u001b[0m\n\u001b[0;32m-> 1016\u001b[0;31m         \u001b[0;32mreturn\u001b[0m \u001b[0mself\u001b[0m\u001b[0;34m.\u001b[0m\u001b[0m_adjdict\u001b[0m\u001b[0;34m[\u001b[0m\u001b[0mu\u001b[0m\u001b[0;34m]\u001b[0m\u001b[0;34m[\u001b[0m\u001b[0mv\u001b[0m\u001b[0;34m]\u001b[0m\u001b[0;34m\u001b[0m\u001b[0;34m\u001b[0m\u001b[0m\n\u001b[0m\u001b[1;32m   1017\u001b[0m \u001b[0;34m\u001b[0m\u001b[0m\n\u001b[1;32m   1018\u001b[0m     \u001b[0;31m# EdgeDataView methods\u001b[0m\u001b[0;34m\u001b[0m\u001b[0;34m\u001b[0m\u001b[0;34m\u001b[0m\u001b[0m\n",
      "\u001b[0;31mKeyError\u001b[0m: TemporalEntity(['Point', 'ProperInterval'] 'U')"
     ]
    }
   ],
   "source": [
    "net_copies = []\n",
    "for rel in test1_net.edges[ue1[0], ue1[1]]['constraint']:\n",
    "    #print(ue1[0], ue1[1], rel)\n",
    "    net_copy = test1_net.copy()\n",
    "    net_copy.set_constraint(ue1[0], ue1[1], net_copy.algebra.relset(rel))\n",
    "    net_copies.append(net_copy)"
   ]
  },
  {
   "cell_type": "code",
   "execution_count": null,
   "metadata": {},
   "outputs": [],
   "source": []
  }
 ],
 "metadata": {
  "kernelspec": {
   "display_name": "Python 3",
   "language": "python",
   "name": "python3"
  },
  "language_info": {
   "codemirror_mode": {
    "name": "ipython",
    "version": 3
   },
   "file_extension": ".py",
   "mimetype": "text/x-python",
   "name": "python",
   "nbconvert_exporter": "python",
   "pygments_lexer": "ipython3",
   "version": "3.7.7"
  }
 },
 "nbformat": 4,
 "nbformat_minor": 4
}
