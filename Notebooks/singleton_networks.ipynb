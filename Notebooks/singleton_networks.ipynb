{
 "cells": [
  {
   "cell_type": "markdown",
   "metadata": {},
   "source": [
    "# Singleton Networks"
   ]
  },
  {
   "cell_type": "code",
   "execution_count": 1,
   "metadata": {},
   "outputs": [],
   "source": [
    "import qualreas as qr\n",
    "import os\n",
    "import copy"
   ]
  },
  {
   "cell_type": "code",
   "execution_count": 2,
   "metadata": {},
   "outputs": [],
   "source": [
    "qr_path = os.path.join(os.getenv('PYPROJ'), 'qualreas')\n",
    "alg_dir = os.path.join(qr_path, \"Algebras\")"
   ]
  },
  {
   "cell_type": "markdown",
   "metadata": {},
   "source": [
    "## Make a Test Network"
   ]
  },
  {
   "cell_type": "code",
   "execution_count": 50,
   "metadata": {},
   "outputs": [],
   "source": [
    "test1_net_dict = {\n",
    "    'name': 'Network Copy Test #1',\n",
    "    'algebra': 'Extended_Linear_Interval_Algebra',\n",
    "    'description': 'Testing/Developing network copy functionality',\n",
    "    'nodes': [\n",
    "        ['U', ['ProperInterval', 'Point']],\n",
    "        ['V', ['ProperInterval', 'Point']],\n",
    "        ['W', ['ProperInterval']],\n",
    "        ['X', ['Point']]\n",
    "    ],\n",
    "    'edges': [\n",
    "        ['U', 'V', 'B'],\n",
    "        ['U', 'W', 'M'],\n",
    "        ['W', 'V', 'O'],\n",
    "        ['X', 'W', 'D']\n",
    "    ]\n",
    "}"
   ]
  },
  {
   "cell_type": "code",
   "execution_count": 51,
   "metadata": {},
   "outputs": [],
   "source": [
    "test1_net = qr.Network(algebra_path=alg_dir, network_dict=test1_net_dict)"
   ]
  },
  {
   "cell_type": "code",
   "execution_count": 52,
   "metadata": {},
   "outputs": [
    {
     "name": "stdout",
     "output_type": "stream",
     "text": [
      "\n",
      "Network Copy Test #1: 4 nodes, 16 edges\n",
      "  Algebra: Extended_Linear_Interval_Algebra\n",
      "  U:['ProperInterval']\n",
      "    => U: E\n",
      "    => V: B\n",
      "    => W: M\n",
      "    => X: B\n",
      "  V:['ProperInterval']\n",
      "    => V: E\n",
      "    => U: BI\n",
      "    => W: OI\n",
      "    => X: BI|DI|PSI\n",
      "  W:['ProperInterval']\n",
      "    => W: E\n",
      "    => U: MI\n",
      "    => V: O\n",
      "    => X: DI\n",
      "  X:['Point']\n",
      "    => X: PE\n",
      "    => W: D\n",
      "    => U: BI\n",
      "    => V: B|D|PS\n"
     ]
    }
   ],
   "source": [
    "test1_net.propagate()\n",
    "test1_net.summary()"
   ]
  },
  {
   "cell_type": "markdown",
   "metadata": {},
   "source": [
    "### Test Short Version of Network Summary"
   ]
  },
  {
   "cell_type": "code",
   "execution_count": 53,
   "metadata": {},
   "outputs": [
    {
     "name": "stdout",
     "output_type": "stream",
     "text": [
      "\n",
      "Network Copy Test #1: 4 nodes, 16 edges\n",
      "  Algebra: Extended_Linear_Interval_Algebra\n",
      "  U:['ProperInterval']\n",
      "    => U: E\n",
      "    => V: B\n",
      "    => W: M\n",
      "    => X: B\n",
      "  V:['ProperInterval']\n",
      "    => V: E\n",
      "    => W: OI\n",
      "    => X: BI|DI|PSI\n",
      "  W:['ProperInterval']\n",
      "    => W: E\n",
      "    => X: DI\n",
      "  X:['Point']\n",
      "    => X: PE\n"
     ]
    }
   ],
   "source": [
    "test1_net.summary(show_all=False)"
   ]
  },
  {
   "cell_type": "markdown",
   "metadata": {},
   "source": [
    "## Test Changing Constraint on an Edge"
   ]
  },
  {
   "cell_type": "markdown",
   "metadata": {},
   "source": [
    "Look at all the edge contraints"
   ]
  },
  {
   "cell_type": "code",
   "execution_count": 54,
   "metadata": {},
   "outputs": [
    {
     "name": "stdout",
     "output_type": "stream",
     "text": [
      "E\n",
      "B\n",
      "M\n",
      "B\n",
      "E\n",
      "BI\n",
      "OI\n",
      "BI|DI|PSI\n",
      "E\n",
      "MI\n",
      "O\n",
      "DI\n",
      "PE\n",
      "D\n",
      "BI\n",
      "B|D|PS\n"
     ]
    }
   ],
   "source": [
    "for eg in test1_net.edges:\n",
    "    print(test1_net.edges[eg[0], eg[1]]['constraint'])"
   ]
  },
  {
   "cell_type": "markdown",
   "metadata": {},
   "source": [
    "Grab the Head (src) and Tail (tgt) of the 3rd edge, above."
   ]
  },
  {
   "cell_type": "code",
   "execution_count": 55,
   "metadata": {},
   "outputs": [
    {
     "data": {
      "text/plain": [
       "relset(['M'])"
      ]
     },
     "execution_count": 55,
     "metadata": {},
     "output_type": "execute_result"
    }
   ],
   "source": [
    "src, tgt = list(test1_net.edges)[2]\n",
    "test1_net.edges[src,tgt]['constraint']"
   ]
  },
  {
   "cell_type": "markdown",
   "metadata": {},
   "source": [
    "Change the constraint and look at the result on the edge & its converse."
   ]
  },
  {
   "cell_type": "code",
   "execution_count": 56,
   "metadata": {},
   "outputs": [],
   "source": [
    "test1_net.set_constraint(src, tgt, test1_net.algebra.relset('D|M|FI'))"
   ]
  },
  {
   "cell_type": "code",
   "execution_count": 57,
   "metadata": {},
   "outputs": [
    {
     "data": {
      "text/plain": [
       "relset(['D', 'FI', 'M'])"
      ]
     },
     "execution_count": 57,
     "metadata": {},
     "output_type": "execute_result"
    }
   ],
   "source": [
    "test1_net.edges[src,tgt]['constraint']"
   ]
  },
  {
   "cell_type": "code",
   "execution_count": 58,
   "metadata": {},
   "outputs": [
    {
     "data": {
      "text/plain": [
       "relset(['DI', 'F', 'MI'])"
      ]
     },
     "execution_count": 58,
     "metadata": {},
     "output_type": "execute_result"
    }
   ],
   "source": [
    "test1_net.edges[tgt,src]['constraint']"
   ]
  },
  {
   "cell_type": "markdown",
   "metadata": {},
   "source": [
    "## Test Copy Network"
   ]
  },
  {
   "cell_type": "code",
   "execution_count": 59,
   "metadata": {},
   "outputs": [],
   "source": [
    "test1_net_copy = test1_net.copy()\n",
    "#test1_net_copy = qr.copy(test1_net)"
   ]
  },
  {
   "cell_type": "code",
   "execution_count": 60,
   "metadata": {},
   "outputs": [
    {
     "name": "stdout",
     "output_type": "stream",
     "text": [
      "\n",
      "Network Copy Test #1: 4 nodes, 16 edges\n",
      "  Algebra: Extended_Linear_Interval_Algebra\n",
      "  U:['ProperInterval']\n",
      "    => U: E\n",
      "    => V: B\n",
      "    => W: D|FI|M\n",
      "    => X: B\n",
      "  V:['ProperInterval']\n",
      "    => V: E\n",
      "    => U: BI\n",
      "    => W: OI\n",
      "    => X: BI|DI|PSI\n",
      "  W:['ProperInterval']\n",
      "    => W: E\n",
      "    => U: DI|F|MI\n",
      "    => V: O\n",
      "    => X: DI\n",
      "  X:['Point']\n",
      "    => X: PE\n",
      "    => U: BI\n",
      "    => V: B|D|PS\n",
      "    => W: D\n"
     ]
    }
   ],
   "source": [
    "test1_net_copy.summary()"
   ]
  },
  {
   "cell_type": "code",
   "execution_count": 70,
   "metadata": {},
   "outputs": [
    {
     "name": "stdout",
     "output_type": "stream",
     "text": [
      "U U E\n",
      "U V B\n",
      "U W D|FI|M\n",
      "U X B\n",
      "V V E\n",
      "V W OI\n",
      "V X BI|DI|PSI\n",
      "W W E\n",
      "W X DI\n",
      "X X PE\n"
     ]
    }
   ],
   "source": [
    "done = []\n",
    "result = []\n",
    "for eg in test1_net.edges:\n",
    "    src = eg[0]; tgt = eg[1]\n",
    "    srcID = src.name; tgtID = tgt.name\n",
    "    if not (src, tgt) in done:\n",
    "        cons = test1_net.edges[src, tgt]['constraint']\n",
    "        print(srcID, tgtID, cons)\n",
    "        if len(cons) > 1:\n",
    "            result.append((srcID, tgtID, cons))\n",
    "    done.append((tgt, src))"
   ]
  },
  {
   "cell_type": "code",
   "execution_count": 73,
   "metadata": {},
   "outputs": [],
   "source": [
    "rels = []\n",
    "for rel in result[0][2]:\n",
    "    rels.append(rel)"
   ]
  },
  {
   "cell_type": "code",
   "execution_count": 74,
   "metadata": {},
   "outputs": [
    {
     "data": {
      "text/plain": [
       "['D', 'FI', 'M']"
      ]
     },
     "execution_count": 74,
     "metadata": {},
     "output_type": "execute_result"
    }
   ],
   "source": [
    "rels"
   ]
  },
  {
   "cell_type": "code",
   "execution_count": null,
   "metadata": {},
   "outputs": [],
   "source": []
  }
 ],
 "metadata": {
  "kernelspec": {
   "display_name": "Python 3",
   "language": "python",
   "name": "python3"
  },
  "language_info": {
   "codemirror_mode": {
    "name": "ipython",
    "version": 3
   },
   "file_extension": ".py",
   "mimetype": "text/x-python",
   "name": "python",
   "nbconvert_exporter": "python",
   "pygments_lexer": "ipython3",
   "version": "3.7.7"
  }
 },
 "nbformat": 4,
 "nbformat_minor": 4
}
