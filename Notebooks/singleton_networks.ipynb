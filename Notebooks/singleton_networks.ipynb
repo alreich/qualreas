{
 "cells": [
  {
   "cell_type": "markdown",
   "metadata": {},
   "source": [
    "# Singleton Networks"
   ]
  },
  {
   "cell_type": "code",
   "execution_count": 1,
   "metadata": {},
   "outputs": [],
   "source": [
    "import qualreas as qr\n",
    "import os\n",
    "import copy"
   ]
  },
  {
   "cell_type": "code",
   "execution_count": 2,
   "metadata": {},
   "outputs": [],
   "source": [
    "qr_path = os.path.join(os.getenv('PYPROJ'), 'qualreas')\n",
    "alg_dir = os.path.join(qr_path, \"Algebras\")"
   ]
  },
  {
   "cell_type": "code",
   "execution_count": 3,
   "metadata": {},
   "outputs": [],
   "source": [
    "test1_net_dict = {\n",
    "    'name': 'Network Copy Test #1',\n",
    "    'algebra': 'Extended_Linear_Interval_Algebra',\n",
    "    'description': 'Testing/Developing network copy functionality',\n",
    "    'nodes': [\n",
    "        ['U', ['ProperInterval', 'Point']],\n",
    "        ['V', ['ProperInterval', 'Point']],\n",
    "        ['W', ['ProperInterval']],\n",
    "        ['X', ['Point']]\n",
    "    ],\n",
    "    'edges': [\n",
    "        ['U', 'V', 'B'],\n",
    "        ['U', 'W', 'B|M|O'],\n",
    "        ['W', 'V', 'M|O'],\n",
    "        ['X', 'W', 'D']\n",
    "    ]\n",
    "}"
   ]
  },
  {
   "cell_type": "code",
   "execution_count": 4,
   "metadata": {},
   "outputs": [],
   "source": [
    "test1_net = qr.Network(algebra_path=alg_dir, network_dict=test1_net_dict)"
   ]
  },
  {
   "cell_type": "code",
   "execution_count": 5,
   "metadata": {},
   "outputs": [
    {
     "name": "stdout",
     "output_type": "stream",
     "text": [
      "\n",
      "Network Copy Test #1: 4 nodes, 12 edges\n",
      "  Algebra: Extended_Linear_Interval_Algebra\n",
      "  U:['ProperInterval', 'Point']\n",
      "    => U: E|PE\n",
      "    => V: B\n",
      "    => W: B|M|O\n",
      "  V:['ProperInterval', 'Point']\n",
      "    => V: E|PE\n",
      "    => U: BI\n",
      "    => W: MI|OI\n",
      "  W:['ProperInterval']\n",
      "    => W: E\n",
      "    => U: BI|MI|OI\n",
      "    => V: M|O\n",
      "    => X: DI\n",
      "  X:['Point']\n",
      "    => X: PE\n",
      "    => W: D\n"
     ]
    }
   ],
   "source": [
    "test1_net.summary()"
   ]
  },
  {
   "cell_type": "code",
   "execution_count": 6,
   "metadata": {},
   "outputs": [
    {
     "name": "stdout",
     "output_type": "stream",
     "text": [
      "\n",
      "Network Copy Test #1: 4 nodes, 16 edges\n",
      "  Algebra: Extended_Linear_Interval_Algebra\n",
      "  U:['ProperInterval', 'Point']\n",
      "    => U: E|PE\n",
      "    => V: B\n",
      "    => W: B|M|O\n",
      "    => X: B|DI|PFI\n",
      "  V:['ProperInterval']\n",
      "    => V: E\n",
      "    => U: BI\n",
      "    => W: MI|OI\n",
      "    => X: BI|DI|PSI\n",
      "  W:['ProperInterval']\n",
      "    => W: E\n",
      "    => U: BI|MI|OI\n",
      "    => V: M|O\n",
      "    => X: DI\n",
      "  X:['Point']\n",
      "    => X: PE\n",
      "    => W: D\n",
      "    => U: BI|D|PF\n",
      "    => V: B|D|PS\n"
     ]
    }
   ],
   "source": [
    "test1_net.propagate()\n",
    "test1_net.summary()"
   ]
  },
  {
   "cell_type": "code",
   "execution_count": 7,
   "metadata": {},
   "outputs": [
    {
     "name": "stdout",
     "output_type": "stream",
     "text": [
      "\n",
      "Network Copy Test #1: 4 nodes, 16 edges\n",
      "  Algebra: Extended_Linear_Interval_Algebra\n",
      "  U:['ProperInterval', 'Point']\n",
      "    => U: E|PE\n",
      "    => V: B\n",
      "    => W: B|M|O\n",
      "    => X: B|DI|PFI\n",
      "  V:['ProperInterval']\n",
      "    => V: E\n",
      "    => W: MI|OI\n",
      "    => X: BI|DI|PSI\n",
      "  W:['ProperInterval']\n",
      "    => W: E\n",
      "    => X: DI\n",
      "  X:['Point']\n",
      "    => X: PE\n"
     ]
    }
   ],
   "source": [
    "test1_net.summary(show_all=False)"
   ]
  },
  {
   "cell_type": "code",
   "execution_count": 8,
   "metadata": {},
   "outputs": [
    {
     "name": "stdout",
     "output_type": "stream",
     "text": [
      "E|PE\n",
      "B\n",
      "B|M|O\n",
      "B|DI|PFI\n",
      "E\n",
      "BI\n",
      "MI|OI\n",
      "BI|DI|PSI\n",
      "E\n",
      "BI|MI|OI\n",
      "M|O\n",
      "DI\n",
      "PE\n",
      "D\n",
      "BI|D|PF\n",
      "B|D|PS\n"
     ]
    }
   ],
   "source": [
    "for eg in test1_net.edges:\n",
    "    print(test1_net.edges[eg[0], eg[1]]['constraint'])"
   ]
  },
  {
   "cell_type": "code",
   "execution_count": 9,
   "metadata": {},
   "outputs": [],
   "source": [
    "src, tgt = list(test1_net.edges)[2]"
   ]
  },
  {
   "cell_type": "code",
   "execution_count": 10,
   "metadata": {},
   "outputs": [
    {
     "data": {
      "text/plain": [
       "relset(['B', 'M', 'O'])"
      ]
     },
     "execution_count": 10,
     "metadata": {},
     "output_type": "execute_result"
    }
   ],
   "source": [
    "test1_net.edges[src,tgt]['constraint']"
   ]
  },
  {
   "cell_type": "code",
   "execution_count": 11,
   "metadata": {},
   "outputs": [
    {
     "data": {
      "text/plain": [
       "relset(['B'])"
      ]
     },
     "execution_count": 11,
     "metadata": {},
     "output_type": "execute_result"
    }
   ],
   "source": [
    "test1_net.algebra.relset('B')"
   ]
  },
  {
   "cell_type": "code",
   "execution_count": 12,
   "metadata": {
    "scrolled": true
   },
   "outputs": [
    {
     "name": "stdout",
     "output_type": "stream",
     "text": [
      "B\n",
      "M\n",
      "O\n"
     ]
    }
   ],
   "source": [
    "for rel in test1_net.edges[src,tgt]['constraint']:\n",
    "    print(test1_net.algebra.relset(rel))"
   ]
  },
  {
   "cell_type": "code",
   "execution_count": 13,
   "metadata": {},
   "outputs": [
    {
     "data": {
      "text/plain": [
       "relset(['B', 'M', 'O'])"
      ]
     },
     "execution_count": 13,
     "metadata": {},
     "output_type": "execute_result"
    }
   ],
   "source": [
    "test1_net.edges[src,tgt]['constraint']"
   ]
  },
  {
   "cell_type": "code",
   "execution_count": 14,
   "metadata": {},
   "outputs": [],
   "source": [
    "test1_net.set_constraint(src, tgt, test1_net.algebra.relset('D|M|FI'))"
   ]
  },
  {
   "cell_type": "code",
   "execution_count": 15,
   "metadata": {},
   "outputs": [
    {
     "data": {
      "text/plain": [
       "relset(['D', 'FI', 'M'])"
      ]
     },
     "execution_count": 15,
     "metadata": {},
     "output_type": "execute_result"
    }
   ],
   "source": [
    "test1_net.edges[src,tgt]['constraint']"
   ]
  },
  {
   "cell_type": "code",
   "execution_count": null,
   "metadata": {},
   "outputs": [],
   "source": [
    "test1_net.edges[tgt,src]['constraint']"
   ]
  },
  {
   "cell_type": "code",
   "execution_count": null,
   "metadata": {},
   "outputs": [],
   "source": []
  }
 ],
 "metadata": {
  "kernelspec": {
   "display_name": "Python 3",
   "language": "python",
   "name": "python3"
  },
  "language_info": {
   "codemirror_mode": {
    "name": "ipython",
    "version": 3
   },
   "file_extension": ".py",
   "mimetype": "text/x-python",
   "name": "python",
   "nbconvert_exporter": "python",
   "pygments_lexer": "ipython3",
   "version": "3.7.7"
  }
 },
 "nbformat": 4,
 "nbformat_minor": 4
}
