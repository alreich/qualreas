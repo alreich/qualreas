{
 "cells": [
  {
   "cell_type": "markdown",
   "metadata": {},
   "source": [
    "# Interval Algebra Examples"
   ]
  },
  {
   "cell_type": "markdown",
   "metadata": {},
   "source": [
    "<i>Version 1</i>"
   ]
  },
  {
   "cell_type": "markdown",
   "metadata": {},
   "source": [
    "## References"
   ]
  },
  {
   "cell_type": "markdown",
   "metadata": {},
   "source": [
    "1. [\"Maintaining Knowledge about Temporal Intervals\" by James F. Allen](https://cse.unl.edu/~choueiry/Documents/Allen-CACM1983.pdf) - Allen's original paper (PDF)\n",
    "1. [Allen's Interval Algebra](https://www.ics.uci.edu/~alspaugh/cls/shr/allen.html) or [here](https://thomasalspaugh.org/pub/fnd/allen.html) - summarizes Allen's algebra of proper time intervals\n",
    "1. [\"Intervals, Points, and Branching Time\" by A.J. Reich](https://www.researchgate.net/publication/220810644_Intervals_Points_and_Branching_Time) - basis for the extensions here to Allen's algebra\n",
    "1. [W3C Time Ontology in OWL](https://www.w3.org/TR/owl-time/) - temporal vocabulary used here is based on the W3C vocabulary of time\n",
    "1. [bitsets Python package](https://bitsets.readthedocs.io/en/stable/) - used to implement Algebra relation sets and operations\n",
    "1. [NetworkX Python package](http://networkx.github.io/) - used to represent directed graph of constraints\n",
    "1. [Python format string syntax](https://docs.python.org/3/library/string.html#format-string-syntax) - used in Algebra summary method\n",
    "1. [Spatial Ontology](https://www.w3.org/2017/sdwig/bp/) - I'm still looking for a standard spatial vocabulary; maybe start here\n",
    "1. [Qualitative Spatial Relations (QSR) Library](https://qsrlib.readthedocs.io/en/latest/index.html) - an alternative library to the one defined here"
   ]
  },
  {
   "cell_type": "markdown",
   "metadata": {},
   "source": [
    "## Dependencies"
   ]
  },
  {
   "cell_type": "code",
   "execution_count": 1,
   "metadata": {},
   "outputs": [],
   "source": [
    "import qualreas as qr\n",
    "import os"
   ]
  },
  {
   "cell_type": "code",
   "execution_count": 2,
   "metadata": {},
   "outputs": [],
   "source": [
    "path = os.path.join(os.getenv('PYPROJ'), 'qualreas')"
   ]
  },
  {
   "cell_type": "markdown",
   "metadata": {},
   "source": [
    "## Instantiate an Algebra"
   ]
  },
  {
   "cell_type": "code",
   "execution_count": 3,
   "metadata": {},
   "outputs": [],
   "source": [
    "#alg = qr.Algebra(os.path.join(path, \"Algebras/LinearIntervalAlgebra.json\"))  # Allen's algebra of proper time intervals\n",
    "alg = qr.Algebra(os.path.join(path, \"Algebras/ExtendedLinearIntervalAlgebra.json\"))\n",
    "#alg = Algebra(os.path.join(path, \"Algebras/LeftBranchingIntervalAlgebra.json\"))\n",
    "#alg = Algebra(os.path.join(path, \"Algebras/RightBranchingIntervalAlgebra.json\"))\n",
    "#alg = Algebra(os.path.join(path, \"Algebras/RCC8Algebra.json\"))"
   ]
  },
  {
   "cell_type": "markdown",
   "metadata": {},
   "source": [
    "### Algebra Summary"
   ]
  },
  {
   "cell_type": "code",
   "execution_count": 4,
   "metadata": {},
   "outputs": [
    {
     "name": "stdout",
     "output_type": "stream",
     "text": [
      "  Algebra Name: ExtendedLinearIntervalAlgebra\n",
      "   Description: Extension of Allen's algebra to include Instants/Points (P)\n",
      " Equality Rels: E|PE\n",
      "     Relations:\n",
      "            NAME (ABBREV)         CONVERSE (ABBREV)  REFLEXIVE  SYMMETRIC TRANSITIVE   DOMAIN        RANGE\n",
      "             Before (  B)               After ( BI)    False      False       True    Pt|PInt       Pt|PInt\n",
      "              After ( BI)              Before (  B)    False      False       True    Pt|PInt       Pt|PInt\n",
      "             During (  D)            Contains ( DI)    False      False       True    Pt|PInt          PInt\n",
      "           Contains ( DI)              During (  D)    False      False       True       PInt       Pt|PInt\n",
      "             Equals (  E)              Equals (  E)     True       True       True       PInt          PInt\n",
      "           Finishes (  F)         Finished-by ( FI)    False      False       True       PInt          PInt\n",
      "        Finished-by ( FI)            Finishes (  F)    False      False       True       PInt          PInt\n",
      "              Meets (  M)              Met-By ( MI)    False      False      False       PInt          PInt\n",
      "             Met-By ( MI)               Meets (  M)    False      False      False       PInt          PInt\n",
      "           Overlaps (  O)       Overlapped-By ( OI)    False      False      False       PInt          PInt\n",
      "      Overlapped-By ( OI)            Overlaps (  O)    False      False      False       PInt          PInt\n",
      "       Point-Equals ( PE)        Point-Equals ( PE)     True       True       True         Pt            Pt\n",
      "     Point-Finishes ( PF)   Point-Finished-By (PFI)    False      False      False         Pt          PInt\n",
      "  Point-Finished-By (PFI)      Point-Finishes ( PF)    False      False      False       PInt            Pt\n",
      "       Point-Starts ( PS)    Point-Started-By (PSI)    False      False      False         Pt          PInt\n",
      "   Point-Started-By (PSI)        Point-Starts ( PS)    False      False      False       PInt            Pt\n",
      "             Starts (  S)          Started-By ( SI)    False      False       True       PInt          PInt\n",
      "         Started-By ( SI)              Starts (  S)    False      False       True       PInt          PInt\n",
      "\n",
      "Domain & Range Abbreviations:\n",
      "   Pt = Point\n",
      " PInt = Proper Interval\n"
     ]
    }
   ],
   "source": [
    "alg.summary()"
   ]
  },
  {
   "cell_type": "markdown",
   "metadata": {},
   "source": [
    "### Algebra Element Summary"
   ]
  },
  {
   "cell_type": "code",
   "execution_count": 5,
   "metadata": {},
   "outputs": [
    {
     "name": "stdout",
     "output_type": "stream",
     "text": [
      "                    Name: Before\n",
      "                  Domain: ['Point', 'ProperInterval']\n",
      "                   Range: ['Point', 'ProperInterval']\n",
      "                Converse: After\n",
      "           Is Reflexive?: False\n",
      "           Is Symmetric?: False\n",
      "          Is Transitive?: True\n",
      "Is an Equality Relation?: False\n"
     ]
    }
   ],
   "source": [
    "alg.element_summary('B')"
   ]
  },
  {
   "cell_type": "markdown",
   "metadata": {},
   "source": [
    "A domain (or range) of ['Point', 'ProperInterval'] means that the Temporal Entity being related can be a 'Point' or a 'ProperInterval', but not both at the same time."
   ]
  },
  {
   "cell_type": "code",
   "execution_count": 6,
   "metadata": {},
   "outputs": [
    {
     "name": "stdout",
     "output_type": "stream",
     "text": [
      "                    Name: Point-Starts\n",
      "                  Domain: ['Point']\n",
      "                   Range: ['ProperInterval']\n",
      "                Converse: Point-Started-By\n",
      "           Is Reflexive?: False\n",
      "           Is Symmetric?: False\n",
      "          Is Transitive?: False\n",
      "Is an Equality Relation?: False\n"
     ]
    }
   ],
   "source": [
    "alg.element_summary('PS')"
   ]
  },
  {
   "cell_type": "markdown",
   "metadata": {},
   "source": [
    "#### Equality Relations"
   ]
  },
  {
   "cell_type": "markdown",
   "metadata": {},
   "source": [
    "#### The number and type of equality relations in an algebra depends on the number and type of domains and ranges supported by the algebra.  (See the element summary examples, above.)"
   ]
  },
  {
   "cell_type": "code",
   "execution_count": 7,
   "metadata": {},
   "outputs": [
    {
     "data": {
      "text/plain": [
       "relset(['E', 'PE'])"
      ]
     },
     "execution_count": 7,
     "metadata": {},
     "output_type": "execute_result"
    }
   ],
   "source": [
    "alg.all_equality_relations"
   ]
  },
  {
   "cell_type": "code",
   "execution_count": 8,
   "metadata": {},
   "outputs": [
    {
     "name": "stdout",
     "output_type": "stream",
     "text": [
      "                    Name: Equals\n",
      "                  Domain: ['ProperInterval']\n",
      "                   Range: ['ProperInterval']\n",
      "                Converse: Equals\n",
      "           Is Reflexive?: True\n",
      "           Is Symmetric?: True\n",
      "          Is Transitive?: True\n",
      "Is an Equality Relation?: True\n"
     ]
    }
   ],
   "source": [
    "alg.element_summary('E')"
   ]
  },
  {
   "cell_type": "code",
   "execution_count": 9,
   "metadata": {},
   "outputs": [
    {
     "name": "stdout",
     "output_type": "stream",
     "text": [
      "                    Name: Point-Equals\n",
      "                  Domain: ['Point']\n",
      "                   Range: ['Point']\n",
      "                Converse: Point-Equals\n",
      "           Is Reflexive?: True\n",
      "           Is Symmetric?: True\n",
      "          Is Transitive?: True\n",
      "Is an Equality Relation?: True\n"
     ]
    }
   ],
   "source": [
    "alg.element_summary('PE')"
   ]
  },
  {
   "cell_type": "markdown",
   "metadata": {},
   "source": [
    "### Creating Relation Sets"
   ]
  },
  {
   "cell_type": "markdown",
   "metadata": {},
   "source": [
    "#### There are two acceptable input formats"
   ]
  },
  {
   "cell_type": "code",
   "execution_count": 10,
   "metadata": {},
   "outputs": [
    {
     "name": "stdout",
     "output_type": "stream",
     "text": [
      "B|FI|M\n",
      "B|FI|M\n",
      "Same? True\n"
     ]
    }
   ],
   "source": [
    "relset_version1 = alg.relset(\"B|M|FI\")\n",
    "relset_version2 = alg.relset(['B', 'FI', 'M'])\n",
    "print(relset_version1)\n",
    "print(relset_version2)\n",
    "print(f\"Same? {relset_version1 == relset_version2}\")"
   ]
  },
  {
   "cell_type": "markdown",
   "metadata": {},
   "source": [
    "#### Singleton sets can also be input in two acceptable ways"
   ]
  },
  {
   "cell_type": "code",
   "execution_count": 11,
   "metadata": {},
   "outputs": [
    {
     "name": "stdout",
     "output_type": "stream",
     "text": [
      "B\n",
      "B\n",
      "Same? True\n"
     ]
    }
   ],
   "source": [
    "singleton_relset_v1 = alg.relset(\"B\")\n",
    "singleton_relset_v2 = alg.relset([\"B\"])\n",
    "print(singleton_relset_v1)\n",
    "print(singleton_relset_v2)\n",
    "print(f\"Same? {singleton_relset_v1 == singleton_relset_v2}\")"
   ]
  },
  {
   "cell_type": "markdown",
   "metadata": {},
   "source": [
    "#### Not really sure why one would want to create the empty set, but you can, in two different ways"
   ]
  },
  {
   "cell_type": "code",
   "execution_count": 12,
   "metadata": {},
   "outputs": [
    {
     "name": "stdout",
     "output_type": "stream",
     "text": [
      "\n",
      "\n",
      "Same? True\n"
     ]
    }
   ],
   "source": [
    "empty_relset_v1 = alg.relset(\"\")\n",
    "empty_relset_v2 = alg.relset([])\n",
    "print(empty_relset_v1)\n",
    "print(empty_relset_v2)\n",
    "print(f\"Same? {empty_relset_v1 == empty_relset_v2}\")"
   ]
  },
  {
   "cell_type": "markdown",
   "metadata": {},
   "source": [
    "### Operations on Relation Sets"
   ]
  },
  {
   "cell_type": "markdown",
   "metadata": {},
   "source": [
    "#### Addition (+) is set intersection:"
   ]
  },
  {
   "cell_type": "code",
   "execution_count": 13,
   "metadata": {},
   "outputs": [
    {
     "data": {
      "text/plain": [
       "relset(['M', 'O'])"
      ]
     },
     "execution_count": 13,
     "metadata": {},
     "output_type": "execute_result"
    }
   ],
   "source": [
    "alg.relset('B|M|O') + alg.relset('F|O|M|S')"
   ]
  },
  {
   "cell_type": "code",
   "execution_count": 14,
   "metadata": {},
   "outputs": [
    {
     "data": {
      "text/plain": [
       "relset()"
      ]
     },
     "execution_count": 14,
     "metadata": {},
     "output_type": "execute_result"
    }
   ],
   "source": [
    "alg.relset('B|M|O') + alg.relset('F|S')"
   ]
  },
  {
   "cell_type": "markdown",
   "metadata": {},
   "source": [
    "#### \"Multiplication\" is relation composition applied to sets of relations"
   ]
  },
  {
   "cell_type": "code",
   "execution_count": 15,
   "metadata": {},
   "outputs": [
    {
     "name": "stdout",
     "output_type": "stream",
     "text": [
      "F;O = D|O|S\n",
      "F;D = D\n",
      "MI;D = D|F|OI\n",
      "MI;O = D|F|OI\n"
     ]
    }
   ],
   "source": [
    "rel1 = \"F\"; rel2 = \"O\"\n",
    "rel3 = \"MI\"; rel4 = \"D\"\n",
    "print(f\"{rel1};{rel2} = {alg.compose(alg.relset(rel1), alg.relset(rel2))}\")\n",
    "print(f\"{rel1};{rel4} = {alg.compose(alg.relset(rel1), alg.relset(rel4))}\")\n",
    "print(f\"{rel3};{rel4} = {alg.compose(alg.relset(rel3), alg.relset(rel4))}\")\n",
    "print(f\"{rel3};{rel2} = {alg.compose(alg.relset(rel3), alg.relset(rel2))}\")"
   ]
  },
  {
   "cell_type": "markdown",
   "metadata": {},
   "source": [
    "When more than one relation appears in the sets, the result of composition is the <u>union</u> of all pairwise compositions of the individual relations in the sets."
   ]
  },
  {
   "cell_type": "code",
   "execution_count": 16,
   "metadata": {},
   "outputs": [
    {
     "name": "stdout",
     "output_type": "stream",
     "text": [
      "(F|O);(MI|D) = D|F|O|OI|S\n"
     ]
    }
   ],
   "source": [
    "print(f\"({rel1}|{rel2});({rel3}|{rel4}) = {alg.compose(alg.relset('F|MI'), alg.relset('O|D'))}\")"
   ]
  },
  {
   "cell_type": "markdown",
   "metadata": {},
   "source": [
    "#### Empty Compositions"
   ]
  },
  {
   "cell_type": "markdown",
   "metadata": {},
   "source": [
    "Not every composition of relations makes sense, and the result then is the empty relation set.\n",
    "\n",
    "For example..."
   ]
  },
  {
   "cell_type": "code",
   "execution_count": 17,
   "metadata": {},
   "outputs": [
    {
     "data": {
      "text/plain": [
       "relset()"
      ]
     },
     "execution_count": 17,
     "metadata": {},
     "output_type": "execute_result"
    }
   ],
   "source": [
    "alg.compose(alg.relset(\"F\"), alg.relset(\"PF\"))"
   ]
  },
  {
   "cell_type": "markdown",
   "metadata": {},
   "source": [
    "The relation set above is empty because the range of F has nothing in common with the domain of PF.  Their domains and ranges are shown by the summaries below."
   ]
  },
  {
   "cell_type": "code",
   "execution_count": 18,
   "metadata": {},
   "outputs": [
    {
     "name": "stdout",
     "output_type": "stream",
     "text": [
      "                    Name: Finishes\n",
      "                  Domain: ['ProperInterval']\n",
      "                   Range: ['ProperInterval']\n",
      "                Converse: Finished-by\n",
      "           Is Reflexive?: False\n",
      "           Is Symmetric?: False\n",
      "          Is Transitive?: True\n",
      "Is an Equality Relation?: False\n"
     ]
    }
   ],
   "source": [
    "alg.element_summary('F')"
   ]
  },
  {
   "cell_type": "code",
   "execution_count": 19,
   "metadata": {},
   "outputs": [
    {
     "name": "stdout",
     "output_type": "stream",
     "text": [
      "                    Name: Point-Finishes\n",
      "                  Domain: ['Point']\n",
      "                   Range: ['ProperInterval']\n",
      "                Converse: Point-Finished-By\n",
      "           Is Reflexive?: False\n",
      "           Is Symmetric?: False\n",
      "          Is Transitive?: False\n",
      "Is an Equality Relation?: False\n"
     ]
    }
   ],
   "source": [
    "alg.element_summary('PF')"
   ]
  },
  {
   "cell_type": "markdown",
   "metadata": {},
   "source": [
    "If we assume that A, B, and C are Temporal Entities, then the expression (A Finishes B) implies that B is a Proper Interval, but (B Point-Finishes C) implies that B is a Point.  Since B cannot be both a Point and a Proper Interval, the composition, F;PF, results in the empty set."
   ]
  },
  {
   "cell_type": "markdown",
   "metadata": {},
   "source": [
    "#### Converses"
   ]
  },
  {
   "cell_type": "markdown",
   "metadata": {},
   "source": [
    "Notation: We'll use the tilde, '~', to denote the converse operation.  Semantically, if 'A' and 'B' are Temporal Entities, and 'r' is a relation between them, then 'A r B' if and only if 'B ~r A'.\n",
    "\n",
    "By the way, it would be nice if this module had a converse operator, such as '~', but the converse operation has to be done in the context of an algebra, and so it is implemented as a method of Algebra, and not as a standalone operator."
   ]
  },
  {
   "cell_type": "markdown",
   "metadata": {},
   "source": [
    "##### Individual relations have converses"
   ]
  },
  {
   "cell_type": "code",
   "execution_count": 20,
   "metadata": {},
   "outputs": [
    {
     "name": "stdout",
     "output_type": "stream",
     "text": [
      "The converse of Before is After\n"
     ]
    }
   ],
   "source": [
    "rel_symbol = 'B'\n",
    "print(f\"The converse of {alg.rel_name(rel_symbol)} is {alg.rel_converse_name(rel_symbol)}\")"
   ]
  },
  {
   "cell_type": "markdown",
   "metadata": {},
   "source": [
    "##### And relation sets have converses"
   ]
  },
  {
   "cell_type": "code",
   "execution_count": 21,
   "metadata": {},
   "outputs": [
    {
     "name": "stdout",
     "output_type": "stream",
     "text": [
      "B is the converse of BI.\n",
      "BI|F|MI is the converse of B|FI|M\n"
     ]
    }
   ],
   "source": [
    "before = alg.relset('B')\n",
    "after = alg.converse(alg.relset('B'))\n",
    "print(f\"{before} is the converse of {after}.\")\n",
    "print(f\"{alg.converse(relset_version1)} is the converse of {relset_version1}\")"
   ]
  },
  {
   "cell_type": "markdown",
   "metadata": {},
   "source": [
    "### Properties of Algebras"
   ]
  },
  {
   "cell_type": "markdown",
   "metadata": {},
   "source": [
    "#### The Composition Identity"
   ]
  },
  {
   "cell_type": "markdown",
   "metadata": {},
   "source": [
    "If $r$ and $s$ are two relations, then $\\sim(r;s) = (\\sim s);(\\sim r)$"
   ]
  },
  {
   "cell_type": "markdown",
   "metadata": {},
   "source": [
    "The following method checks every possible pairing of individual algebra relations wrt the composition identity, and returns True if all pairs check out."
   ]
  },
  {
   "cell_type": "code",
   "execution_count": 22,
   "metadata": {},
   "outputs": [
    {
     "data": {
      "text/plain": [
       "True"
      ]
     },
     "execution_count": 22,
     "metadata": {},
     "output_type": "execute_result"
    }
   ],
   "source": [
    "alg.check_composition_identity()"
   ]
  },
  {
   "cell_type": "markdown",
   "metadata": {},
   "source": [
    "#### Associativity"
   ]
  },
  {
   "cell_type": "markdown",
   "metadata": {},
   "source": [
    "The following Algebra method checks all possible triples of individual algebra relations and, if the domains and ranges are \"compatible\", checks to see if the triple is associative.  Incompatible triples are skipped.  It returns True if all compatible triples are associative."
   ]
  },
  {
   "cell_type": "code",
   "execution_count": 23,
   "metadata": {},
   "outputs": [
    {
     "name": "stdout",
     "output_type": "stream",
     "text": [
      "TEST SUMMARY: 3609 OK, 2223 Skipped, 0 Failed (5832 Total)\n"
     ]
    },
    {
     "data": {
      "text/plain": [
       "True"
      ]
     },
     "execution_count": 23,
     "metadata": {},
     "output_type": "execute_result"
    }
   ],
   "source": [
    "alg.is_associative()"
   ]
  }
 ],
 "metadata": {
  "kernelspec": {
   "display_name": "Python 3",
   "language": "python",
   "name": "python3"
  },
  "language_info": {
   "codemirror_mode": {
    "name": "ipython",
    "version": 3
   },
   "file_extension": ".py",
   "mimetype": "text/x-python",
   "name": "python",
   "nbconvert_exporter": "python",
   "pygments_lexer": "ipython3",
   "version": "3.7.3"
  }
 },
 "nbformat": 4,
 "nbformat_minor": 2
}
