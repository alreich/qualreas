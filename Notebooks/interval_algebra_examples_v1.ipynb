{
 "cells": [
  {
   "cell_type": "markdown",
   "metadata": {},
   "source": [
    "# Interval Algebra Examples"
   ]
  },
  {
   "cell_type": "markdown",
   "metadata": {},
   "source": [
    "<i>Version 1</i>"
   ]
  },
  {
   "cell_type": "markdown",
   "metadata": {},
   "source": [
    "## References"
   ]
  },
  {
   "cell_type": "markdown",
   "metadata": {},
   "source": [
    "1. [\"Maintaining Knowledge about Temporal Intervals\" by James F. Allen](https://cse.unl.edu/~choueiry/Documents/Allen-CACM1983.pdf) - Allen's original paper (PDF)\n",
    "1. [Allen's Interval Algebra](https://www.ics.uci.edu/~alspaugh/cls/shr/allen.html) or [here](https://thomasalspaugh.org/pub/fnd/allen.html) - summarizes Allen's algebra of proper time intervals\n",
    "1. [\"Intervals, Points, and Branching Time\" by A.J. Reich](https://www.researchgate.net/publication/220810644_Intervals_Points_and_Branching_Time) - basis for the extensions here to Allen's algebra\n",
    "1. [W3C Time Ontology in OWL](https://www.w3.org/TR/owl-time/) - temporal vocabulary used here is based on the W3C vocabulary of time\n",
    "1. [bitsets Python package](https://bitsets.readthedocs.io/en/stable/) - used to implement Algebra relation sets and operations\n",
    "1. [NetworkX Python package](http://networkx.github.io/) - used to represent directed graph of constraints\n",
    "1. [Python format string syntax](https://docs.python.org/3/library/string.html#format-string-syntax) - used in Algebra summary method\n",
    "1. [Spatial Ontology](https://www.w3.org/2017/sdwig/bp/) - I'm still looking for a standard spatial vocabulary; maybe start here\n",
    "1. [Qualitative Spatial Relations (QSR) Library](https://qsrlib.readthedocs.io/en/latest/index.html) - an alternative library to the one defined here"
   ]
  },
  {
   "cell_type": "markdown",
   "metadata": {},
   "source": [
    "## Dependencies"
   ]
  },
  {
   "cell_type": "code",
   "execution_count": 1,
   "metadata": {},
   "outputs": [],
   "source": [
    "import qualreas as qr\n",
    "import os"
   ]
  },
  {
   "cell_type": "code",
   "execution_count": 2,
   "metadata": {},
   "outputs": [],
   "source": [
    "path = os.path.join(os.getenv('PYPROJ'), 'qualreas')"
   ]
  },
  {
   "cell_type": "markdown",
   "metadata": {},
   "source": [
    "## Instantiate an Algebra"
   ]
  },
  {
   "cell_type": "code",
   "execution_count": 18,
   "metadata": {},
   "outputs": [],
   "source": [
    "#alg = qr.Algebra(os.path.join(path, \"Algebras/LinearIntervalAlgebra.json\"))  # Allen's algebra of proper time intervals\n",
    "alg = qr.Algebra(os.path.join(path, \"Algebras/ExtendedLinearIntervalAlgebra.json\"))\n",
    "#alg = Algebra(os.path.join(path, \"Algebras/LeftBranchingIntervalAlgebra.json\"))\n",
    "#alg = Algebra(os.path.join(path, \"Algebras/RightBranchingIntervalAlgebra.json\"))\n",
    "#alg = Algebra(os.path.join(path, \"Algebras/RCC8Algebra.json\"))"
   ]
  },
  {
   "cell_type": "markdown",
   "metadata": {},
   "source": [
    "### Algebra Summary"
   ]
  },
  {
   "cell_type": "code",
   "execution_count": 19,
   "metadata": {},
   "outputs": [
    {
     "name": "stdout",
     "output_type": "stream",
     "text": [
      "  Algebra Name: ExtendedLinearIntervalAlgebra\n",
      "   Description: Extension of Allen's algebra to include Instants/Points (P)\n",
      " Equality Rels: E|PE\n",
      "     Relations:\n",
      "            NAME (ABBREV)         CONVERSE (ABBREV)  REFLEXIVE  SYMMETRIC TRANSITIVE   DOMAIN        RANGE\n",
      "             Before (  B)               After ( BI)    False      False       True    Pt|PInt       Pt|PInt\n",
      "              After ( BI)              Before (  B)    False      False       True    Pt|PInt       Pt|PInt\n",
      "             During (  D)            Contains ( DI)    False      False       True    Pt|PInt          PInt\n",
      "           Contains ( DI)              During (  D)    False      False       True       PInt       Pt|PInt\n",
      "             Equals (  E)              Equals (  E)     True       True       True       PInt          PInt\n",
      "           Finishes (  F)         Finished-by ( FI)    False      False       True       PInt          PInt\n",
      "        Finished-by ( FI)            Finishes (  F)    False      False       True       PInt          PInt\n",
      "              Meets (  M)              Met-By ( MI)    False      False      False       PInt          PInt\n",
      "             Met-By ( MI)               Meets (  M)    False      False      False       PInt          PInt\n",
      "           Overlaps (  O)       Overlapped-By ( OI)    False      False      False       PInt          PInt\n",
      "      Overlapped-By ( OI)            Overlaps (  O)    False      False      False       PInt          PInt\n",
      "       Point-Equals ( PE)        Point-Equals ( PE)     True       True       True         Pt            Pt\n",
      "     Point-Finishes ( PF)   Point-Finished-By (PFI)    False      False      False         Pt          PInt\n",
      "  Point-Finished-By (PFI)      Point-Finishes ( PF)    False      False      False       PInt            Pt\n",
      "       Point-Starts ( PS)    Point-Started-By (PSI)    False      False      False         Pt          PInt\n",
      "   Point-Started-By (PSI)        Point-Starts ( PS)    False      False      False       PInt            Pt\n",
      "             Starts (  S)          Started-By ( SI)    False      False       True       PInt          PInt\n",
      "         Started-By ( SI)              Starts (  S)    False      False       True       PInt          PInt\n",
      "\n",
      "Domain & Range Abbreviations:\n",
      "   Pt = Point\n",
      " PInt = Proper Interval\n"
     ]
    }
   ],
   "source": [
    "alg.summary()"
   ]
  },
  {
   "cell_type": "markdown",
   "metadata": {},
   "source": [
    "### Algebra Element Summary"
   ]
  },
  {
   "cell_type": "code",
   "execution_count": 20,
   "metadata": {},
   "outputs": [
    {
     "name": "stdout",
     "output_type": "stream",
     "text": [
      "                    Name: Before\n",
      "                  Domain: ['Point', 'ProperInterval']\n",
      "                   Range: ['Point', 'ProperInterval']\n",
      "                Converse: After\n",
      "           Is Reflexive?: False\n",
      "           Is Symmetric?: False\n",
      "          Is Transitive?: True\n",
      "Is an Equality Relation?: False\n"
     ]
    }
   ],
   "source": [
    "alg.element_summary('B')"
   ]
  },
  {
   "cell_type": "code",
   "execution_count": 22,
   "metadata": {},
   "outputs": [
    {
     "name": "stdout",
     "output_type": "stream",
     "text": [
      "                    Name: Point-Starts\n",
      "                  Domain: ['Point']\n",
      "                   Range: ['ProperInterval']\n",
      "                Converse: Point-Started-By\n",
      "           Is Reflexive?: False\n",
      "           Is Symmetric?: False\n",
      "          Is Transitive?: False\n",
      "Is an Equality Relation?: False\n"
     ]
    }
   ],
   "source": [
    "alg.element_summary('PS')"
   ]
  },
  {
   "cell_type": "markdown",
   "metadata": {},
   "source": [
    "#### Equality Relations"
   ]
  },
  {
   "cell_type": "markdown",
   "metadata": {},
   "source": [
    "#### The number and type of equality relations in an algebra depends on the number and type of domains and ranges supported by the algebra"
   ]
  },
  {
   "cell_type": "code",
   "execution_count": 34,
   "metadata": {},
   "outputs": [
    {
     "data": {
      "text/plain": [
       "relset(['E', 'PE'])"
      ]
     },
     "execution_count": 34,
     "metadata": {},
     "output_type": "execute_result"
    }
   ],
   "source": [
    "alg.all_equality_relations"
   ]
  },
  {
   "cell_type": "code",
   "execution_count": 35,
   "metadata": {},
   "outputs": [
    {
     "name": "stdout",
     "output_type": "stream",
     "text": [
      "                    Name: Equals\n",
      "                  Domain: ['ProperInterval']\n",
      "                   Range: ['ProperInterval']\n",
      "                Converse: Equals\n",
      "           Is Reflexive?: True\n",
      "           Is Symmetric?: True\n",
      "          Is Transitive?: True\n",
      "Is an Equality Relation?: True\n"
     ]
    }
   ],
   "source": [
    "alg.element_summary('E')"
   ]
  },
  {
   "cell_type": "code",
   "execution_count": 36,
   "metadata": {},
   "outputs": [
    {
     "name": "stdout",
     "output_type": "stream",
     "text": [
      "                    Name: Point-Equals\n",
      "                  Domain: ['Point']\n",
      "                   Range: ['Point']\n",
      "                Converse: Point-Equals\n",
      "           Is Reflexive?: True\n",
      "           Is Symmetric?: True\n",
      "          Is Transitive?: True\n",
      "Is an Equality Relation?: True\n"
     ]
    }
   ],
   "source": [
    "alg.element_summary('PE')"
   ]
  },
  {
   "cell_type": "markdown",
   "metadata": {},
   "source": [
    "### Creating Relation Sets"
   ]
  },
  {
   "cell_type": "markdown",
   "metadata": {},
   "source": [
    "#### There are two acceptable input formats"
   ]
  },
  {
   "cell_type": "code",
   "execution_count": 37,
   "metadata": {},
   "outputs": [
    {
     "name": "stdout",
     "output_type": "stream",
     "text": [
      "B|FI|M\n",
      "B|FI|M\n",
      "Same? True\n"
     ]
    }
   ],
   "source": [
    "relset_version1 = alg.relset(\"B|M|FI\")\n",
    "relset_version2 = alg.relset(['B', 'FI', 'M'])\n",
    "print(relset_version1)\n",
    "print(relset_version2)\n",
    "print(f\"Same? {relset_version1 == relset_version2}\")"
   ]
  },
  {
   "cell_type": "markdown",
   "metadata": {},
   "source": [
    "#### Singleton sets can also be input in two acceptable ways"
   ]
  },
  {
   "cell_type": "code",
   "execution_count": 38,
   "metadata": {},
   "outputs": [
    {
     "name": "stdout",
     "output_type": "stream",
     "text": [
      "B\n",
      "B\n",
      "Same? True\n"
     ]
    }
   ],
   "source": [
    "singleton_relset_v1 = alg.relset(\"B\")\n",
    "singleton_relset_v2 = alg.relset([\"B\"])\n",
    "print(singleton_relset_v1)\n",
    "print(singleton_relset_v2)\n",
    "print(f\"Same? {singleton_relset_v1 == singleton_relset_v2}\")"
   ]
  },
  {
   "cell_type": "markdown",
   "metadata": {},
   "source": [
    "#### Not really sure why one would want to create the empty set, but you can, in two different ways"
   ]
  },
  {
   "cell_type": "code",
   "execution_count": 39,
   "metadata": {},
   "outputs": [
    {
     "name": "stdout",
     "output_type": "stream",
     "text": [
      "\n",
      "\n",
      "Same? True\n"
     ]
    }
   ],
   "source": [
    "empty_relset_v1 = alg.relset(\"\")\n",
    "empty_relset_v2 = alg.relset([])\n",
    "print(empty_relset_v1)\n",
    "print(empty_relset_v2)\n",
    "print(f\"Same? {empty_relset_v1 == empty_relset_v2}\")"
   ]
  },
  {
   "cell_type": "markdown",
   "metadata": {},
   "source": [
    "### Operations on Relation Sets"
   ]
  },
  {
   "cell_type": "markdown",
   "metadata": {},
   "source": [
    "#### Addition (+) is set intersection:"
   ]
  },
  {
   "cell_type": "code",
   "execution_count": 40,
   "metadata": {},
   "outputs": [
    {
     "data": {
      "text/plain": [
       "relset(['M', 'O'])"
      ]
     },
     "execution_count": 40,
     "metadata": {},
     "output_type": "execute_result"
    }
   ],
   "source": [
    "alg.relset('B|M|O') + alg.relset('F|O|M|S')"
   ]
  },
  {
   "cell_type": "code",
   "execution_count": 41,
   "metadata": {},
   "outputs": [
    {
     "data": {
      "text/plain": [
       "relset()"
      ]
     },
     "execution_count": 41,
     "metadata": {},
     "output_type": "execute_result"
    }
   ],
   "source": [
    "alg.relset('B|M|O') + alg.relset('F|S')"
   ]
  },
  {
   "cell_type": "markdown",
   "metadata": {},
   "source": [
    "#### \"Multiplication\" is relation composition applied to sets of relations"
   ]
  },
  {
   "cell_type": "code",
   "execution_count": 42,
   "metadata": {},
   "outputs": [
    {
     "data": {
      "text/plain": [
       "relset(['D', 'O', 'S'])"
      ]
     },
     "execution_count": 42,
     "metadata": {},
     "output_type": "execute_result"
    }
   ],
   "source": [
    "alg.compose(alg.relset(\"F\"), alg.relset(\"O\"))"
   ]
  },
  {
   "cell_type": "code",
   "execution_count": 43,
   "metadata": {},
   "outputs": [
    {
     "data": {
      "text/plain": [
       "relset(['D', 'F', 'OI'])"
      ]
     },
     "execution_count": 43,
     "metadata": {},
     "output_type": "execute_result"
    }
   ],
   "source": [
    "alg.compose(alg.relset(\"MI\"), alg.relset(\"D\"))"
   ]
  },
  {
   "cell_type": "markdown",
   "metadata": {},
   "source": [
    "When more that one relation appears in the sets, the result of composition is the union of all pairwise compositions of the individual relations in the sets."
   ]
  },
  {
   "cell_type": "code",
   "execution_count": 44,
   "metadata": {},
   "outputs": [
    {
     "data": {
      "text/plain": [
       "relset(['D', 'F', 'O', 'OI', 'S'])"
      ]
     },
     "execution_count": 44,
     "metadata": {},
     "output_type": "execute_result"
    }
   ],
   "source": [
    "alg.compose(alg.relset(\"F|MI\"), alg.relset(\"O|D\"))"
   ]
  },
  {
   "cell_type": "markdown",
   "metadata": {},
   "source": [
    "#### Converses"
   ]
  },
  {
   "cell_type": "markdown",
   "metadata": {},
   "source": [
    "##### Individual relations have converses"
   ]
  },
  {
   "cell_type": "code",
   "execution_count": 29,
   "metadata": {},
   "outputs": [
    {
     "name": "stdout",
     "output_type": "stream",
     "text": [
      "The converse of Before is After\n"
     ]
    }
   ],
   "source": [
    "rel_symbol = 'B'\n",
    "print(f\"The converse of {alg.rel_name(rel_symbol)} is {alg.rel_converse_name(rel_symbol)}\")"
   ]
  },
  {
   "cell_type": "markdown",
   "metadata": {},
   "source": [
    "##### And relation sets have converses"
   ]
  },
  {
   "cell_type": "code",
   "execution_count": 30,
   "metadata": {},
   "outputs": [
    {
     "name": "stdout",
     "output_type": "stream",
     "text": [
      "B is the converse of BI.\n",
      "BI|F|MI is the converse of B|FI|M\n"
     ]
    }
   ],
   "source": [
    "before = alg.relset('B')\n",
    "after = alg.converse(alg.relset('B'))\n",
    "print(f\"{before} is the converse of {after}.\")\n",
    "print(f\"{alg.converse(relset_version1)} is the converse of {relset_version1}\")"
   ]
  },
  {
   "cell_type": "code",
   "execution_count": null,
   "metadata": {},
   "outputs": [],
   "source": []
  },
  {
   "cell_type": "code",
   "execution_count": null,
   "metadata": {},
   "outputs": [],
   "source": []
  },
  {
   "cell_type": "code",
   "execution_count": null,
   "metadata": {},
   "outputs": [],
   "source": []
  },
  {
   "cell_type": "code",
   "execution_count": null,
   "metadata": {},
   "outputs": [],
   "source": []
  },
  {
   "cell_type": "code",
   "execution_count": null,
   "metadata": {},
   "outputs": [],
   "source": []
  }
 ],
 "metadata": {
  "kernelspec": {
   "display_name": "Python 3",
   "language": "python",
   "name": "python3"
  },
  "language_info": {
   "codemirror_mode": {
    "name": "ipython",
    "version": 3
   },
   "file_extension": ".py",
   "mimetype": "text/x-python",
   "name": "python",
   "nbconvert_exporter": "python",
   "pygments_lexer": "ipython3",
   "version": "3.7.3"
  }
 },
 "nbformat": 4,
 "nbformat_minor": 2
}
